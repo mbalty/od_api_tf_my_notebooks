{
 "cells": [
  {
   "cell_type": "code",
   "execution_count": 1,
   "metadata": {},
   "outputs": [],
   "source": [
    "import numpy as np\n",
    "import pickle as pkl\n",
    "import os\n",
    "from PIL import Image\n",
    "from matplotlib import pyplot as plt\n",
    "import matplotlib.patches as patches\n",
    "from math import floor, ceil\n",
    "import time"
   ]
  },
  {
   "cell_type": "code",
   "execution_count": 2,
   "metadata": {},
   "outputs": [],
   "source": [
    "def get_max_and_concat(*args):\n",
    "    size = 0\n",
    "    for arg in args:\n",
    "        size += arg.shape[-1]\n",
    "    final = np.zeros(size)\n",
    "    \n",
    "    arg_size = 0\n",
    "\n",
    "    for arg in args:\n",
    "        for i in range(arg.shape[-1]):\n",
    "            final[i+arg_size] = np.max(arg[:,:,i])\n",
    "        arg_size += arg.shape[-1]\n",
    "\n",
    "    return final\n",
    "\n"
   ]
  },
  {
   "cell_type": "code",
   "execution_count": 3,
   "metadata": {},
   "outputs": [],
   "source": [
    "def max_pooled(previous_features, features, label):\n",
    "    box_prev = previous_features[\n",
    "        floor(label[0]*previous_features.shape[0]):\n",
    "        ceil(label[2]*previous_features.shape[0]), \n",
    "        floor(label[1]*previous_features.shape[1]):\n",
    "        ceil(label[3]*previous_features.shape[1]),:]\n",
    "    box_cur = features[\n",
    "        floor(label[0]*features.shape[0]):\n",
    "        ceil(label[2]*features.shape[0]), \n",
    "        floor(label[1]*features.shape[1]):\n",
    "        ceil(label[3]*features.shape[1]),:]\n",
    "\n",
    "    return get_max_and_concat(box_prev, previous_features, box_cur, features)"
   ]
  },
  {
   "cell_type": "code",
   "execution_count": 4,
   "metadata": {},
   "outputs": [],
   "source": [
    "SESSIONS_PATH = \"/home/wc-gpu/storage4tb/session_data_thesis/sessions160000_165000\"\n",
    "IMAGE_SIZE = (30, 20)\n",
    "plot_features_and_annotations = True"
   ]
  },
  {
   "cell_type": "code",
   "execution_count": 5,
   "metadata": {},
   "outputs": [],
   "source": [
    "classes = [\"same\", \"add\", \"remove\", \"move_from\", \"move_to\"]"
   ]
  },
  {
   "cell_type": "code",
   "execution_count": 6,
   "metadata": {},
   "outputs": [
    {
     "name": "stdout",
     "output_type": "stream",
     "text": [
      "old_ds\n",
      "max_breaks.pkl\n"
     ]
    }
   ],
   "source": [
    "total_images = 0\n",
    "sessions = os.listdir(SESSIONS_PATH)\n",
    "actual_sessions = []\n",
    "\n",
    "for session in sorted(sessions, reverse=True):\n",
    "    try:\n",
    "        a = int(session)\n",
    "        session_path = os.path.join(SESSIONS_PATH, session)\n",
    "        boxes_path = os.path.join(session_path, \"boxes\")\n",
    "        features_path = os.path.join(session_path, \"features\")\n",
    "        \n",
    "        if os.path.exists(features_path) and os.path.exists(boxes_path):\n",
    "            actual_sessions.append(session)\n",
    "            images = [f for f in os.listdir(session_path) if f.endswith(\".jpg\")]\n",
    "            total_images += len(images)\n",
    "    except:\n",
    "        print (session)\n",
    "        continue"
   ]
  },
  {
   "cell_type": "code",
   "execution_count": 7,
   "metadata": {
    "scrolled": true
   },
   "outputs": [
    {
     "name": "stdout",
     "output_type": "stream",
     "text": [
      "progress 164413   :  0.9999605133267522 25324 25325    |   time 0.03256630897521973 s,   total passed:  0.6259568889935798  h  left:  2.471695514288568e-05  h hh s,   total passed:  0.03862170630031153  h  left:  0.41590121831013915  h   :  0.29496544916090817 7470 25325    |   time 0.2001047134399414 s,   total passed:  0.15158858034345798  h  left:  0.36228270673704216  h 160954   :  0.36979269496544914 9365 25325    |   time 0.001313924789428711 s,   total passed:  0.1910596415069367  h  left:  0.325572483285363  h10851 25325    |   time 0.12474679946899414 s,   total passed:  0.22537239187293512  h  left:  0.3005934389945506  h0.45788746298124383 11596 25325    |   time 0.08418679237365723 s,   total passed:  0.2496145545111758  h  left:  0.29550385607346147  h  :  0.9246199407699901 23416 25325    |   time 0.08527779579162598 s,   total passed:  0.5876822571621988  h  left:  0.04790901605340724  h\r"
     ]
    }
   ],
   "source": [
    "X = []\n",
    "Y = []\n",
    "\n",
    "progress = 0\n",
    "\n",
    "processed = 0\n",
    "time_avg = 0\n",
    "\n",
    "for session in sorted(actual_sessions):\n",
    "    try:\n",
    "        features_path = os.path.join(SESSIONS_PATH, session, \"features\")\n",
    "        boxes_path = os.path.join(SESSIONS_PATH, session, \"boxes\")\n",
    "        session_path = os.path.join(SESSIONS_PATH, session)\n",
    "        previous_features = None\n",
    "        previous_boxes = None\n",
    "        for image_file in sorted(os.listdir(session_path)):\n",
    "            try:\n",
    "                if image_file.endswith(\".jpg\"):\n",
    "\n",
    "                    t0 = time.time()\n",
    "\n",
    "                    feature_path = os.path.join(features_path, image_file + \".feature.prod.new.better\")\n",
    "                    if not os.path.exists(features_path):\n",
    "                        break\n",
    "                    boxe_path = os.path.join(boxes_path, image_file + \".box.better\")\n",
    "                    features = None\n",
    "                    boxes = None\n",
    "                    with open(feature_path, \"rb\") as f:\n",
    "                        features = np.load(f)[0]\n",
    "                    with open(boxe_path, \"rb\") as f:\n",
    "                        boxes = pkl.load(f)\n",
    "\n",
    "                    if previous_features is not None:\n",
    "                        for label in boxes[0]:\n",
    "                            max_pool = max_pooled(previous_features, features, label)\n",
    "                            X.append(max_pool)\n",
    "                            Y.append(0)\n",
    "\n",
    "                        for label in boxes[1]:\n",
    "                            forward = max_pooled(previous_features, features, label)\n",
    "                            backward = max_pooled(features, previous_features, label)\n",
    "                            if(label[4] == \"add\"):\n",
    "                                X.append(forward)\n",
    "                                Y.append(1)\n",
    "                                X.append(backward)\n",
    "                                Y.append(2)\n",
    "                            elif(\"move\" in label[4] and \"move_from\" not in label[4]):\n",
    "                                X.append(forward)\n",
    "                                Y.append(4)\n",
    "                                X.append(backward)\n",
    "                                Y.append(3)\n",
    "\n",
    "                        for label in previous_boxes[1]:\n",
    "                            forward = max_pooled(previous_features, features, label)\n",
    "                            backward = max_pooled(features, previous_features, label)\n",
    "                            if(label[4] == \"remove\"):\n",
    "                                X.append(forward)\n",
    "                                Y.append(2)\n",
    "                                X.append(backward)\n",
    "                                Y.append(1)\n",
    "                            elif(\"move_from\" in label[4]):\n",
    "                                X.append(forward)\n",
    "                                Y.append(3)\n",
    "                                X.append(backward)\n",
    "                                Y.append(4)\n",
    "\n",
    "                    previous_features = features\n",
    "                    previous_boxes = boxes\n",
    "\n",
    "                    total_time = time_avg * processed\n",
    "                    processed += 1\n",
    "\n",
    "                    t1 = time.time()\n",
    "\n",
    "                    total = t1-t0\n",
    "                    time_avg = (total_time + total) / processed\n",
    "\n",
    "                    print (\"progress\", session, \"  : \", progress / total_images, progress, total_images,\n",
    "                           \"   |   time\", total, \"s,   total passed: \", time_avg*processed / 3600 ,\" h  left: \", time_avg* (total_images - progress) / 3600, \" h\", end=\"\\r\")\n",
    "\n",
    "                    progress += 1\n",
    "                \n",
    "            except Exception as ex:\n",
    "                print (session, ex)\n",
    "    except Exception as ex:\n",
    "        print (session, ex)\n",
    "    "
   ]
  },
  {
   "cell_type": "code",
   "execution_count": 8,
   "metadata": {},
   "outputs": [],
   "source": [
    "X = np.asarray(X)\n",
    "Y = np.asarray(Y)"
   ]
  },
  {
   "cell_type": "code",
   "execution_count": 9,
   "metadata": {},
   "outputs": [],
   "source": [
    "import pickle as pkl\n",
    "\n",
    "with open(SESSIONS_PATH + \"/dataset_prod_new_model_multiclass.pkl\", \"wb\") as f:\n",
    "    pkl.dump([X, Y], f)"
   ]
  },
  {
   "cell_type": "code",
   "execution_count": 10,
   "metadata": {},
   "outputs": [
    {
     "data": {
      "text/plain": [
       "(68208,)"
      ]
     },
     "execution_count": 10,
     "metadata": {},
     "output_type": "execute_result"
    }
   ],
   "source": [
    "Y.shape\n"
   ]
  },
  {
   "cell_type": "code",
   "execution_count": null,
   "metadata": {},
   "outputs": [],
   "source": []
  },
  {
   "cell_type": "code",
   "execution_count": null,
   "metadata": {
    "scrolled": true
   },
   "outputs": [],
   "source": [
    "# for session in sorted(os.listdir(SESSIONS_PATH)):\n",
    "#     try:\n",
    "#         a = int(session)\n",
    "\n",
    "#         features_path = os.path.join(SESSIONS_PATH, session, \"features\")\n",
    "#         boxes_path = os.path.join(SESSIONS_PATH, session, \"boxes\")\n",
    "#         session_path = os.path.join(SESSIONS_PATH, session)\n",
    "#         if not os.path.exists(os.path.join(features_path)) or not os.path.exists(os.path.join(boxes_path)) :\n",
    "#             continue\n",
    "\n",
    "#         for image_file in sorted(os.listdir(session_path)):\n",
    "#             try:\n",
    "#                 if not image_file.endswith(\".jpg\"):\n",
    "#                     continue\n",
    "#                 feature_path = os.path.join(features_path, image_file + \".feature.prod.new\")\n",
    "                \n",
    "#                 boxe_path = os.path.join(boxes_path, image_file + \".box\")\n",
    "#                 features = None\n",
    "#                 boxes = None\n",
    "#                 with open(feature_path, \"rb\") as f:\n",
    "#                     features = np.load(f)\n",
    "#                 with open(boxe_path, \"rb\") as f:\n",
    "#                     boxes = pkl.load(f)\n",
    "                \n",
    "#                 features = features[0]\n",
    "#                 print (\"SHAPE\", features.shape)\n",
    "#                 image_np = features[:,:,500]\n",
    "#                 image_np *= 255.0/image_np.max()  \n",
    "\n",
    "#                 fig,ax = plt.subplots(1, figsize=IMAGE_SIZE)\n",
    "\n",
    "#                 ax.imshow(image_np)\n",
    "#                 for label in boxes[0]:\n",
    "#                     rect = patches.Rectangle(\n",
    "#                         (label[1]*image_np.shape[1],label[0]*image_np.shape[0]),\n",
    "#                         (label[3]-label[1])*image_np.shape[1],\n",
    "#                         (label[2]-label[0])*image_np.shape[0],\n",
    "#                         linewidth=5,edgecolor='r',facecolor='none')\n",
    "#                     ax.add_patch(rect)\n",
    "\n",
    "#                 for label in boxes[1]:\n",
    "#                     rect = patches.Rectangle(\n",
    "#                         (label[1]*image_np.shape[1],label[0]*image_np.shape[0]),\n",
    "#                         (label[3]-label[1])*image_np.shape[1],\n",
    "#                         (label[2]-label[0])*image_np.shape[0],\n",
    "#                         linewidth=5,edgecolor='g',facecolor='none')\n",
    "#                     ax.add_patch(rect)\n",
    "#                 plt.show(IMAGE_SIZE)\n",
    "                \n",
    "                \n",
    "#                 print(\"negatives\")\n",
    "#                 for label in boxes[0]:\n",
    "# #                     print (\n",
    "# #                         floor(label[0]*image_np.shape[0]),\n",
    "# #                         ceil(label[2]*image_np.shape[0]),\n",
    "# #                         floor(label[1]*image_np.shape[1]),\n",
    "# #                         ceil(label[3]*image_np.shape[1]))\n",
    "#                     rect = features[\n",
    "#                         floor(label[0]*image_np.shape[0]):\n",
    "#                         ceil(label[2]*image_np.shape[0]), \n",
    "#                         floor(label[1]*image_np.shape[1]):\n",
    "#                         ceil(label[3]*image_np.shape[1])]\n",
    "#                     fig,ax = plt.subplots(1)\n",
    "#                     ax.imshow(rect[:,:,500])\n",
    "#                     plt.show()\n",
    "                    \n",
    "                \n",
    "                \n",
    "#                 print(\"positives\")\n",
    "#                 for label in boxes[1]:\n",
    "#                     rect = features[\n",
    "#                         floor(label[0]*image_np.shape[0]):\n",
    "#                         ceil(label[2]*image_np.shape[0]), \n",
    "#                         floor(label[1]*image_np.shape[1]):\n",
    "#                         ceil(label[3]*image_np.shape[1])]\n",
    "#                     fig,ax = plt.subplots(1)\n",
    "#                     ax.imshow(rect[:,:,500])\n",
    "#                     plt.show()\n",
    "                    \n",
    "                \n",
    "#             except Exception as ex:\n",
    "#                 print (session, ex)\n",
    "#                 continue\n",
    "#         break\n",
    "#     except Exception as ex:\n",
    "#         print (session, ex)\n",
    "#         continue\n",
    "    "
   ]
  }
 ],
 "metadata": {
  "kernelspec": {
   "display_name": "Python 3",
   "language": "python",
   "name": "python3"
  },
  "language_info": {
   "codemirror_mode": {
    "name": "ipython",
    "version": 3
   },
   "file_extension": ".py",
   "mimetype": "text/x-python",
   "name": "python",
   "nbconvert_exporter": "python",
   "pygments_lexer": "ipython3",
   "version": "3.6.0"
  }
 },
 "nbformat": 4,
 "nbformat_minor": 2
}
