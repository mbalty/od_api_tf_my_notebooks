{
 "cells": [
  {
   "cell_type": "code",
   "execution_count": null,
   "metadata": {},
   "outputs": [],
   "source": [
    "from tracker import ChangeTracker\n",
    "import pickle as pkl\n",
    "from matplotlib import pyplot as plt\n",
    "from time import sleep\n",
    "from object_detection.utils import ops as utils_ops\n",
    "import sys\n",
    "sys.path.append(\"..\")\n",
    "import numpy as np\n",
    "from utils import label_map_util\n",
    "\n",
    "from utils import visualization_utils as vis_util\n",
    "\n",
    "%matplotlib inline"
   ]
  },
  {
   "cell_type": "code",
   "execution_count": null,
   "metadata": {},
   "outputs": [],
   "source": [
    "import tensorflow as tf\n",
    "from keras.backend.tensorflow_backend import set_session\n",
    "\n",
    "config = tf.ConfigProto()\n",
    "config.gpu_options.per_process_gpu_memory_fraction = 0.1\n",
    "set_session(tf.Session(config=config))"
   ]
  },
  {
   "cell_type": "code",
   "execution_count": null,
   "metadata": {
    "scrolled": false
   },
   "outputs": [],
   "source": []
  },
  {
   "cell_type": "code",
   "execution_count": null,
   "metadata": {},
   "outputs": [],
   "source": [
    "with open(\"test_detection.pkl\", \"rb\") as f:\n",
    "    data = pkl.load(f)"
   ]
  },
  {
   "cell_type": "code",
   "execution_count": null,
   "metadata": {},
   "outputs": [],
   "source": [
    "for frame in data:\n",
    "    t.update(frame[\"detection_boxes\"], frame[\"image_np\"])"
   ]
  },
  {
   "cell_type": "code",
   "execution_count": null,
   "metadata": {},
   "outputs": [],
   "source": [
    "category_index = {1: {'id': 1, 'name': 'product'},\n",
    " 2: {'id': 2, 'name': 'add'},\n",
    " 3: {'id': 3, 'name': 'remove'},\n",
    " 4: {'id': 4, 'name': 'move_from'},\n",
    " 5: {'id': 5, 'name': 'move_to'}}\n",
    "IMAGE_SIZE = (18, 12)"
   ]
  },
  {
   "cell_type": "code",
   "execution_count": null,
   "metadata": {
    "scrolled": false
   },
   "outputs": [],
   "source": [
    "for i in range(len(data)):\n",
    "    det = data[i]\n",
    "    boxes = t.detectionHistory[i]\n",
    "    image = det[\"image_np\"]\n",
    "    image_np_out = np.copy(image)\n",
    "    vis_util.visualize_boxes_and_labels_on_image_array(\n",
    "          image_np_out,\n",
    "          np.array(boxes),\n",
    "          np.array([1]*len(boxes)),\n",
    "          np.array([1]*len(boxes)),\n",
    "          category_index,\n",
    "          use_normalized_coordinates=True,\n",
    "          line_thickness=5,\n",
    "          min_score_thresh=.5)\n",
    "    plt.figure(figsize=IMAGE_SIZE)\n",
    "    plt.imshow(image_np_out)"
   ]
  },
  {
   "cell_type": "code",
   "execution_count": null,
   "metadata": {},
   "outputs": [],
   "source": [
    "[1]*0"
   ]
  },
  {
   "cell_type": "code",
   "execution_count": null,
   "metadata": {},
   "outputs": [],
   "source": [
    "data[0].keys()"
   ]
  },
  {
   "cell_type": "code",
   "execution_count": null,
   "metadata": {},
   "outputs": [],
   "source": [
    "\n",
    "\n",
    "def crop(image, box):\n",
    "    h, w, _ = image.shape\n",
    "    return image[int(box[0]*h):int(box[2]*h), \n",
    "                 int(box[1]*w):int(box[3]*w)]\n",
    "for det in data[:3]:\n",
    "    image = det[\"image_np\"]\n",
    "    image_np_out = np.copy(image)\n",
    "    vis_util.visualize_boxes_and_labels_on_image_array(\n",
    "          image_np_out,\n",
    "          det['detection_boxes'],\n",
    "          det[\"detection_classes\"],\n",
    "          det['detection_scores'],\n",
    "          category_index,\n",
    "          use_normalized_coordinates=True,\n",
    "          line_thickness=5,\n",
    "          min_score_thresh=.5)\n",
    "    plt.figure(figsize=IMAGE_SIZE)\n",
    "    plt.imshow(image_np_out)\n",
    "    for box in det[\"detection_boxes\"]:\n",
    "        plt.figure()\n",
    "        plt.imshow(crop(image, box))"
   ]
  },
  {
   "cell_type": "code",
   "execution_count": null,
   "metadata": {},
   "outputs": [],
   "source": [
    "data[0][\"detection_boxes\"] = data[0][\"detection_boxes\"][:-1]"
   ]
  },
  {
   "cell_type": "code",
   "execution_count": null,
   "metadata": {
    "scrolled": false
   },
   "outputs": [],
   "source": [
    "for obj in t.objects.values():\n",
    "#     print (len(obj.image_patches))\n",
    "    for patch in obj.image_patches:\n",
    "        plt.figure()\n",
    "        plt.imshow(patch)\n",
    "        plt.title(str(obj.id))"
   ]
  },
  {
   "cell_type": "code",
   "execution_count": null,
   "metadata": {},
   "outputs": [],
   "source": [
    "t.objects"
   ]
  },
  {
   "cell_type": "code",
   "execution_count": null,
   "metadata": {},
   "outputs": [],
   "source": []
  }
 ],
 "metadata": {
  "kernelspec": {
   "display_name": "Python 3",
   "language": "python",
   "name": "python3"
  },
  "language_info": {
   "codemirror_mode": {
    "name": "ipython",
    "version": 3
   },
   "file_extension": ".py",
   "mimetype": "text/x-python",
   "name": "python",
   "nbconvert_exporter": "python",
   "pygments_lexer": "ipython3",
   "version": "3.6.0"
  }
 },
 "nbformat": 4,
 "nbformat_minor": 2
}
