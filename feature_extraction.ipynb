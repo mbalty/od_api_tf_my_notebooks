{
 "cells": [
  {
   "cell_type": "markdown",
   "metadata": {
    "colab_type": "text",
    "id": "V8-yl-s-WKMG"
   },
   "source": [
    "# Object Detection Demo\n",
    "Welcome to the object detection inference walkthrough!  This notebook will walk you step by step through the process of using a pre-trained model to detect objects in an image. Make sure to follow the [installation instructions](https://github.com/tensorflow/models/blob/master/research/object_detection/g3doc/installation.md) before you start."
   ]
  },
  {
   "cell_type": "markdown",
   "metadata": {
    "colab_type": "text",
    "id": "kFSqkTCdWKMI"
   },
   "source": [
    "# Imports"
   ]
  },
  {
   "cell_type": "code",
   "execution_count": 1,
   "metadata": {
    "colab": {
     "autoexec": {
      "startup": false,
      "wait_interval": 0
     }
    },
    "colab_type": "code",
    "id": "hV4P5gyTWKMI"
   },
   "outputs": [
    {
     "name": "stderr",
     "output_type": "stream",
     "text": [
      "/home/wc-gpu/MasterThesis/models/research/object_detection/utils/visualization_utils.py:27: UserWarning: \n",
      "This call to matplotlib.use() has no effect because the backend has already\n",
      "been chosen; matplotlib.use() must be called *before* pylab, matplotlib.pyplot,\n",
      "or matplotlib.backends is imported for the first time.\n",
      "\n",
      "The backend was *originally* set to 'module://ipykernel.pylab.backend_inline' by the following code:\n",
      "  File \"/home/wc-gpu/anaconda3/lib/python3.6/runpy.py\", line 193, in _run_module_as_main\n",
      "    \"__main__\", mod_spec)\n",
      "  File \"/home/wc-gpu/anaconda3/lib/python3.6/runpy.py\", line 85, in _run_code\n",
      "    exec(code, run_globals)\n",
      "  File \"/home/wc-gpu/anaconda3/lib/python3.6/site-packages/ipykernel_launcher.py\", line 16, in <module>\n",
      "    app.launch_new_instance()\n",
      "  File \"/home/wc-gpu/anaconda3/lib/python3.6/site-packages/traitlets/config/application.py\", line 658, in launch_instance\n",
      "    app.start()\n",
      "  File \"/home/wc-gpu/anaconda3/lib/python3.6/site-packages/ipykernel/kernelapp.py\", line 505, in start\n",
      "    self.io_loop.start()\n",
      "  File \"/home/wc-gpu/anaconda3/lib/python3.6/site-packages/tornado/platform/asyncio.py\", line 132, in start\n",
      "    self.asyncio_loop.run_forever()\n",
      "  File \"/home/wc-gpu/anaconda3/lib/python3.6/asyncio/base_events.py\", line 421, in run_forever\n",
      "    self._run_once()\n",
      "  File \"/home/wc-gpu/anaconda3/lib/python3.6/asyncio/base_events.py\", line 1425, in _run_once\n",
      "    handle._run()\n",
      "  File \"/home/wc-gpu/anaconda3/lib/python3.6/asyncio/events.py\", line 126, in _run\n",
      "    self._callback(*self._args)\n",
      "  File \"/home/wc-gpu/anaconda3/lib/python3.6/site-packages/tornado/ioloop.py\", line 758, in _run_callback\n",
      "    ret = callback()\n",
      "  File \"/home/wc-gpu/anaconda3/lib/python3.6/site-packages/tornado/stack_context.py\", line 300, in null_wrapper\n",
      "    return fn(*args, **kwargs)\n",
      "  File \"/home/wc-gpu/anaconda3/lib/python3.6/site-packages/tornado/gen.py\", line 1233, in inner\n",
      "    self.run()\n",
      "  File \"/home/wc-gpu/anaconda3/lib/python3.6/site-packages/tornado/gen.py\", line 1147, in run\n",
      "    yielded = self.gen.send(value)\n",
      "  File \"/home/wc-gpu/anaconda3/lib/python3.6/site-packages/ipykernel/kernelbase.py\", line 357, in process_one\n",
      "    yield gen.maybe_future(dispatch(*args))\n",
      "  File \"/home/wc-gpu/anaconda3/lib/python3.6/site-packages/tornado/gen.py\", line 326, in wrapper\n",
      "    yielded = next(result)\n",
      "  File \"/home/wc-gpu/anaconda3/lib/python3.6/site-packages/ipykernel/kernelbase.py\", line 267, in dispatch_shell\n",
      "    yield gen.maybe_future(handler(stream, idents, msg))\n",
      "  File \"/home/wc-gpu/anaconda3/lib/python3.6/site-packages/tornado/gen.py\", line 326, in wrapper\n",
      "    yielded = next(result)\n",
      "  File \"/home/wc-gpu/anaconda3/lib/python3.6/site-packages/ipykernel/kernelbase.py\", line 534, in execute_request\n",
      "    user_expressions, allow_stdin,\n",
      "  File \"/home/wc-gpu/anaconda3/lib/python3.6/site-packages/tornado/gen.py\", line 326, in wrapper\n",
      "    yielded = next(result)\n",
      "  File \"/home/wc-gpu/anaconda3/lib/python3.6/site-packages/ipykernel/ipkernel.py\", line 294, in do_execute\n",
      "    res = shell.run_cell(code, store_history=store_history, silent=silent)\n",
      "  File \"/home/wc-gpu/anaconda3/lib/python3.6/site-packages/ipykernel/zmqshell.py\", line 536, in run_cell\n",
      "    return super(ZMQInteractiveShell, self).run_cell(*args, **kwargs)\n",
      "  File \"/home/wc-gpu/anaconda3/lib/python3.6/site-packages/IPython/core/interactiveshell.py\", line 2819, in run_cell\n",
      "    raw_cell, store_history, silent, shell_futures)\n",
      "  File \"/home/wc-gpu/anaconda3/lib/python3.6/site-packages/IPython/core/interactiveshell.py\", line 2845, in _run_cell\n",
      "    return runner(coro)\n",
      "  File \"/home/wc-gpu/anaconda3/lib/python3.6/site-packages/IPython/core/async_helpers.py\", line 67, in _pseudo_sync_runner\n",
      "    coro.send(None)\n",
      "  File \"/home/wc-gpu/anaconda3/lib/python3.6/site-packages/IPython/core/interactiveshell.py\", line 3020, in run_cell_async\n",
      "    interactivity=interactivity, compiler=compiler, result=result)\n",
      "  File \"/home/wc-gpu/anaconda3/lib/python3.6/site-packages/IPython/core/interactiveshell.py\", line 3185, in run_ast_nodes\n",
      "    if (yield from self.run_code(code, result)):\n",
      "  File \"/home/wc-gpu/anaconda3/lib/python3.6/site-packages/IPython/core/interactiveshell.py\", line 3267, in run_code\n",
      "    exec(code_obj, self.user_global_ns, self.user_ns)\n",
      "  File \"<ipython-input-1-afdbf662dd66>\", line 12, in <module>\n",
      "    from matplotlib import pyplot as plt\n",
      "  File \"/home/wc-gpu/anaconda3/lib/python3.6/site-packages/matplotlib/pyplot.py\", line 72, in <module>\n",
      "    from matplotlib.backends import pylab_setup\n",
      "  File \"/home/wc-gpu/anaconda3/lib/python3.6/site-packages/matplotlib/backends/__init__.py\", line 14, in <module>\n",
      "    line for line in traceback.format_stack()\n",
      "\n",
      "\n",
      "  import matplotlib; matplotlib.use('Agg')  # pylint: disable=multiple-statements\n"
     ]
    }
   ],
   "source": [
    "import numpy as np\n",
    "import os\n",
    "import six.moves.urllib as urllib\n",
    "import sys\n",
    "import tarfile\n",
    "import tensorflow as tf\n",
    "import zipfile\n",
    "\n",
    "from distutils.version import StrictVersion\n",
    "from collections import defaultdict\n",
    "from io import StringIO\n",
    "from matplotlib import pyplot as plt\n",
    "from PIL import Image\n",
    "\n",
    "# This is needed since the notebook is stored in the object_detection folder.\n",
    "sys.path.append(\"..\")\n",
    "from object_detection.utils import ops as utils_ops\n",
    "from object_detection.builders import model_builder\n",
    "from google.protobuf import text_format\n",
    "import tensorflow as tf\n",
    "\n",
    "if StrictVersion(tf.__version__) < StrictVersion('1.9.0'):\n",
    "  raise ImportError('Please upgrade your TensorFlow installation to v1.9.* or later!')\n"
   ]
  },
  {
   "cell_type": "markdown",
   "metadata": {
    "colab_type": "text",
    "id": "Wy72mWwAWKMK"
   },
   "source": [
    "## Env setup"
   ]
  },
  {
   "cell_type": "code",
   "execution_count": 2,
   "metadata": {
    "colab": {
     "autoexec": {
      "startup": false,
      "wait_interval": 0
     }
    },
    "colab_type": "code",
    "id": "v7m_NY_aWKMK"
   },
   "outputs": [],
   "source": [
    "# This is needed to display the images.\n",
    "%matplotlib inline"
   ]
  },
  {
   "cell_type": "markdown",
   "metadata": {
    "colab_type": "text",
    "id": "r5FNuiRPWKMN"
   },
   "source": [
    "## Object detection imports\n",
    "Here are the imports from the object detection module."
   ]
  },
  {
   "cell_type": "code",
   "execution_count": 3,
   "metadata": {
    "colab": {
     "autoexec": {
      "startup": false,
      "wait_interval": 0
     }
    },
    "colab_type": "code",
    "id": "bm0_uNRnWKMN"
   },
   "outputs": [
    {
     "name": "stderr",
     "output_type": "stream",
     "text": [
      "/home/wc-gpu/MasterThesis/models/research/object_detection/utils/visualization_utils.py:27: UserWarning: \n",
      "This call to matplotlib.use() has no effect because the backend has already\n",
      "been chosen; matplotlib.use() must be called *before* pylab, matplotlib.pyplot,\n",
      "or matplotlib.backends is imported for the first time.\n",
      "\n",
      "The backend was *originally* set to 'module://ipykernel.pylab.backend_inline' by the following code:\n",
      "  File \"/home/wc-gpu/anaconda3/lib/python3.6/runpy.py\", line 193, in _run_module_as_main\n",
      "    \"__main__\", mod_spec)\n",
      "  File \"/home/wc-gpu/anaconda3/lib/python3.6/runpy.py\", line 85, in _run_code\n",
      "    exec(code, run_globals)\n",
      "  File \"/home/wc-gpu/anaconda3/lib/python3.6/site-packages/ipykernel_launcher.py\", line 16, in <module>\n",
      "    app.launch_new_instance()\n",
      "  File \"/home/wc-gpu/anaconda3/lib/python3.6/site-packages/traitlets/config/application.py\", line 658, in launch_instance\n",
      "    app.start()\n",
      "  File \"/home/wc-gpu/anaconda3/lib/python3.6/site-packages/ipykernel/kernelapp.py\", line 505, in start\n",
      "    self.io_loop.start()\n",
      "  File \"/home/wc-gpu/anaconda3/lib/python3.6/site-packages/tornado/platform/asyncio.py\", line 132, in start\n",
      "    self.asyncio_loop.run_forever()\n",
      "  File \"/home/wc-gpu/anaconda3/lib/python3.6/asyncio/base_events.py\", line 421, in run_forever\n",
      "    self._run_once()\n",
      "  File \"/home/wc-gpu/anaconda3/lib/python3.6/asyncio/base_events.py\", line 1425, in _run_once\n",
      "    handle._run()\n",
      "  File \"/home/wc-gpu/anaconda3/lib/python3.6/asyncio/events.py\", line 126, in _run\n",
      "    self._callback(*self._args)\n",
      "  File \"/home/wc-gpu/anaconda3/lib/python3.6/site-packages/tornado/ioloop.py\", line 758, in _run_callback\n",
      "    ret = callback()\n",
      "  File \"/home/wc-gpu/anaconda3/lib/python3.6/site-packages/tornado/stack_context.py\", line 300, in null_wrapper\n",
      "    return fn(*args, **kwargs)\n",
      "  File \"/home/wc-gpu/anaconda3/lib/python3.6/site-packages/tornado/gen.py\", line 1233, in inner\n",
      "    self.run()\n",
      "  File \"/home/wc-gpu/anaconda3/lib/python3.6/site-packages/tornado/gen.py\", line 1147, in run\n",
      "    yielded = self.gen.send(value)\n",
      "  File \"/home/wc-gpu/anaconda3/lib/python3.6/site-packages/ipykernel/kernelbase.py\", line 370, in dispatch_queue\n",
      "    yield self.process_one()\n",
      "  File \"/home/wc-gpu/anaconda3/lib/python3.6/site-packages/tornado/gen.py\", line 346, in wrapper\n",
      "    runner = Runner(result, future, yielded)\n",
      "  File \"/home/wc-gpu/anaconda3/lib/python3.6/site-packages/tornado/gen.py\", line 1080, in __init__\n",
      "    self.run()\n",
      "  File \"/home/wc-gpu/anaconda3/lib/python3.6/site-packages/tornado/gen.py\", line 1147, in run\n",
      "    yielded = self.gen.send(value)\n",
      "  File \"/home/wc-gpu/anaconda3/lib/python3.6/site-packages/ipykernel/kernelbase.py\", line 357, in process_one\n",
      "    yield gen.maybe_future(dispatch(*args))\n",
      "  File \"/home/wc-gpu/anaconda3/lib/python3.6/site-packages/tornado/gen.py\", line 326, in wrapper\n",
      "    yielded = next(result)\n",
      "  File \"/home/wc-gpu/anaconda3/lib/python3.6/site-packages/ipykernel/kernelbase.py\", line 267, in dispatch_shell\n",
      "    yield gen.maybe_future(handler(stream, idents, msg))\n",
      "  File \"/home/wc-gpu/anaconda3/lib/python3.6/site-packages/tornado/gen.py\", line 326, in wrapper\n",
      "    yielded = next(result)\n",
      "  File \"/home/wc-gpu/anaconda3/lib/python3.6/site-packages/ipykernel/kernelbase.py\", line 534, in execute_request\n",
      "    user_expressions, allow_stdin,\n",
      "  File \"/home/wc-gpu/anaconda3/lib/python3.6/site-packages/tornado/gen.py\", line 326, in wrapper\n",
      "    yielded = next(result)\n",
      "  File \"/home/wc-gpu/anaconda3/lib/python3.6/site-packages/ipykernel/ipkernel.py\", line 294, in do_execute\n",
      "    res = shell.run_cell(code, store_history=store_history, silent=silent)\n",
      "  File \"/home/wc-gpu/anaconda3/lib/python3.6/site-packages/ipykernel/zmqshell.py\", line 536, in run_cell\n",
      "    return super(ZMQInteractiveShell, self).run_cell(*args, **kwargs)\n",
      "  File \"/home/wc-gpu/anaconda3/lib/python3.6/site-packages/IPython/core/interactiveshell.py\", line 2819, in run_cell\n",
      "    raw_cell, store_history, silent, shell_futures)\n",
      "  File \"/home/wc-gpu/anaconda3/lib/python3.6/site-packages/IPython/core/interactiveshell.py\", line 2845, in _run_cell\n",
      "    return runner(coro)\n",
      "  File \"/home/wc-gpu/anaconda3/lib/python3.6/site-packages/IPython/core/async_helpers.py\", line 67, in _pseudo_sync_runner\n",
      "    coro.send(None)\n",
      "  File \"/home/wc-gpu/anaconda3/lib/python3.6/site-packages/IPython/core/interactiveshell.py\", line 3020, in run_cell_async\n",
      "    interactivity=interactivity, compiler=compiler, result=result)\n",
      "  File \"/home/wc-gpu/anaconda3/lib/python3.6/site-packages/IPython/core/interactiveshell.py\", line 3191, in run_ast_nodes\n",
      "    if (yield from self.run_code(code, result)):\n",
      "  File \"/home/wc-gpu/anaconda3/lib/python3.6/site-packages/IPython/core/interactiveshell.py\", line 3267, in run_code\n",
      "    exec(code_obj, self.user_global_ns, self.user_ns)\n",
      "  File \"<ipython-input-2-0f0a85121700>\", line 2, in <module>\n",
      "    get_ipython().run_line_magic('matplotlib', 'inline')\n",
      "  File \"/home/wc-gpu/anaconda3/lib/python3.6/site-packages/IPython/core/interactiveshell.py\", line 2287, in run_line_magic\n",
      "    result = fn(*args,**kwargs)\n",
      "  File \"<decorator-gen-107>\", line 2, in matplotlib\n",
      "  File \"/home/wc-gpu/anaconda3/lib/python3.6/site-packages/IPython/core/magic.py\", line 187, in <lambda>\n",
      "    call = lambda f, *a, **k: f(*a, **k)\n",
      "  File \"/home/wc-gpu/anaconda3/lib/python3.6/site-packages/IPython/core/magics/pylab.py\", line 99, in matplotlib\n",
      "    gui, backend = self.shell.enable_matplotlib(args.gui)\n",
      "  File \"/home/wc-gpu/anaconda3/lib/python3.6/site-packages/IPython/core/interactiveshell.py\", line 3355, in enable_matplotlib\n",
      "    pt.activate_matplotlib(backend)\n",
      "  File \"/home/wc-gpu/anaconda3/lib/python3.6/site-packages/IPython/core/pylabtools.py\", line 314, in activate_matplotlib\n",
      "    matplotlib.pyplot.switch_backend(backend)\n",
      "  File \"/home/wc-gpu/anaconda3/lib/python3.6/site-packages/matplotlib/pyplot.py\", line 232, in switch_backend\n",
      "    matplotlib.use(newbackend, warn=False, force=True)\n",
      "  File \"/home/wc-gpu/anaconda3/lib/python3.6/site-packages/matplotlib/__init__.py\", line 1305, in use\n",
      "    reload(sys.modules['matplotlib.backends'])\n",
      "  File \"/home/wc-gpu/anaconda3/lib/python3.6/importlib/__init__.py\", line 166, in reload\n",
      "    _bootstrap._exec(spec, module)\n",
      "  File \"/home/wc-gpu/anaconda3/lib/python3.6/site-packages/matplotlib/backends/__init__.py\", line 14, in <module>\n",
      "    line for line in traceback.format_stack()\n",
      "\n",
      "\n",
      "  import matplotlib; matplotlib.use('Agg')  # pylint: disable=multiple-statements\n"
     ]
    }
   ],
   "source": [
    "from utils import label_map_util\n",
    "\n",
    "from utils import visualization_utils as vis_util"
   ]
  },
  {
   "cell_type": "markdown",
   "metadata": {
    "colab_type": "text",
    "id": "cfn_tRFOWKMO"
   },
   "source": [
    "# Model preparation "
   ]
  },
  {
   "cell_type": "markdown",
   "metadata": {
    "colab_type": "text",
    "id": "X_sEBLpVWKMQ"
   },
   "source": [
    "## Variables\n",
    "\n",
    "Any model exported using the `export_inference_graph.py` tool can be loaded here simply by changing `PATH_TO_FROZEN_GRAPH` to point to a new .pb file.  \n",
    "\n",
    "By default we use an \"SSD with Mobilenet\" model here. See the [detection model zoo](https://github.com/tensorflow/models/blob/master/research/object_detection/g3doc/detection_model_zoo.md) for a list of other models that can be run out-of-the-box with varying speeds and accuracies."
   ]
  },
  {
   "cell_type": "code",
   "execution_count": 4,
   "metadata": {
    "colab": {
     "autoexec": {
      "startup": false,
      "wait_interval": 0
     }
    },
    "colab_type": "code",
    "id": "VyPz_t8WWKMQ"
   },
   "outputs": [],
   "source": [
    "# What model to download.\n",
    "# MODEL_NAME = 'prod_faster_rcnn_resnet50_coco'\n",
    "MODEL_NAME = 'faster_rcnn_resnet50_coco_2018_01_28'\n",
    "MODEL_FILE = MODEL_NAME + '.tar.gz'\n",
    "DOWNLOAD_BASE = 'http://download.tensorflow.org/models/object_detection/'\n",
    "\n",
    "# Path to frozen detection graph. This is the actual model that is used for the object detection.\n",
    "PATH_TO_FROZEN_GRAPH = MODEL_NAME + '/frozen_inference_graph.pb'\n",
    "\n",
    "# List of the strings that is used to add correct label for each box.\n",
    "PATH_TO_LABELS = os.path.join('data', 'mscoco_label_map.pbtxt')"
   ]
  },
  {
   "cell_type": "markdown",
   "metadata": {
    "colab_type": "text",
    "id": "7ai8pLZZWKMS"
   },
   "source": [
    "## Download Model"
   ]
  },
  {
   "cell_type": "code",
   "execution_count": 5,
   "metadata": {
    "colab": {
     "autoexec": {
      "startup": false,
      "wait_interval": 0
     }
    },
    "colab_type": "code",
    "id": "KILYnwR5WKMS"
   },
   "outputs": [],
   "source": [
    "# opener = urllib.request.URLopener()\n",
    "# opener.retrieve(DOWNLOAD_BASE + MODEL_FILE, MODEL_FILE)\n",
    "# tar_file = tarfile.open(MODEL_FILE)\n",
    "# for file in tar_file.getmembers():\n",
    "#   file_name = os.path.basename(file.name)\n",
    "#   if 'frozen_inference_graph.pb' in file_name:\n",
    "#     tar_file.extract(file, os.getcwd())"
   ]
  },
  {
   "cell_type": "markdown",
   "metadata": {
    "colab_type": "text",
    "id": "YBcB9QHLWKMU"
   },
   "source": [
    "## Load a (frozen) Tensorflow model into memory."
   ]
  },
  {
   "cell_type": "code",
   "execution_count": 6,
   "metadata": {},
   "outputs": [],
   "source": [
    "model_config=\"./prod_faster_rcnn_resnet50_coco/model.config\""
   ]
  },
  {
   "cell_type": "code",
   "execution_count": 7,
   "metadata": {},
   "outputs": [],
   "source": [
    "from object_detection.protos import model_pb2\n",
    "model_proto = model_pb2.DetectionModel()\n",
    "with open(model_config, 'r') as myfile:\n",
    "    config_string=myfile.read()\n",
    "    text_format.Merge(config_string, model_proto)\n",
    "\n"
   ]
  },
  {
   "cell_type": "code",
   "execution_count": 8,
   "metadata": {},
   "outputs": [],
   "source": [
    "detection_model = model_builder.build(model_config=model_proto,\n",
    "                                      is_training=False)"
   ]
  },
  {
   "cell_type": "markdown",
   "metadata": {
    "colab_type": "text",
    "id": "_1MVVTcLWKMW"
   },
   "source": [
    "## Loading label map\n",
    "Label maps map indices to category names, so that when our convolution network predicts `5`, we know that this corresponds to `airplane`.  Here we use internal utility functions, but anything that returns a dictionary mapping integers to appropriate string labels would be fine"
   ]
  },
  {
   "cell_type": "code",
   "execution_count": 9,
   "metadata": {
    "colab": {
     "autoexec": {
      "startup": false,
      "wait_interval": 0
     }
    },
    "colab_type": "code",
    "id": "hDbpHkiWWKMX"
   },
   "outputs": [],
   "source": [
    "category_index = label_map_util.create_category_index_from_labelmap(PATH_TO_LABELS, use_display_name=True)"
   ]
  },
  {
   "cell_type": "markdown",
   "metadata": {
    "colab_type": "text",
    "id": "EFsoUHvbWKMZ"
   },
   "source": [
    "## Helper code"
   ]
  },
  {
   "cell_type": "code",
   "execution_count": 10,
   "metadata": {
    "colab": {
     "autoexec": {
      "startup": false,
      "wait_interval": 0
     }
    },
    "colab_type": "code",
    "id": "aSlYc3JkWKMa"
   },
   "outputs": [],
   "source": [
    "def load_image_into_numpy_array(image):\n",
    "  (im_width, im_height) = image.size\n",
    "  return np.array(image.getdata()).reshape(\n",
    "      (im_height, im_width, 3)).astype(np.uint8)"
   ]
  },
  {
   "cell_type": "markdown",
   "metadata": {
    "colab_type": "text",
    "id": "H0_1AGhrWKMc"
   },
   "source": [
    "# Extract proposal features"
   ]
  },
  {
   "cell_type": "raw",
   "metadata": {},
   "source": [
    "sIMAGE_SIZE = (15,10)"
   ]
  },
  {
   "cell_type": "code",
   "execution_count": 11,
   "metadata": {},
   "outputs": [],
   "source": [
    "def extract_region_proposal_features(image, model):\n",
    "    tf.reset_default_graph()\n",
    "   \n",
    "    tf_image = tf.convert_to_tensor(np.expand_dims(image, 0), tf.float32)\n",
    "    resized_image, true_image_shape = detection_model.preprocess(tf_image)\n",
    "    rpn_features_to_crop, rett = model._feature_extractor.extract_proposal_features(\n",
    "    resized_image, scope=detection_model.first_stage_feature_extractor_scope)\n",
    "    init_op = tf.global_variables_initializer()\n",
    "\n",
    "    with tf.Session() as sess:\n",
    "        coord = tf.train.Coordinator()\n",
    "        threads = tf.train.start_queue_runners(coord=coord)\n",
    "        sess.run(init_op)\n",
    "        rpn_features_to_crop_out = sess.run(rpn_features_to_crop)\n",
    "#         print (rpn_features_to_crop_out.shape, type(rpn_features_to_crop_out))\n",
    "        coord.request_stop()\n",
    "        coord.join(threads)\n",
    "        return rpn_features_to_crop_out"
   ]
  },
  {
   "cell_type": "code",
   "execution_count": 12,
   "metadata": {},
   "outputs": [],
   "source": [
    "# SESSIONS_PATH = \"/Users/mbaltac/Home/MasterThesis/MasterThesis/labeled_images_shopping_sessions/labeled\"\n",
    "SESSIONS_PATH = \"/home/wc-gpu/MasterThesis/session_data\""
   ]
  },
  {
   "cell_type": "code",
   "execution_count": 20,
   "metadata": {
    "colab": {
     "autoexec": {
      "startup": false,
      "wait_interval": 0
     }
    },
    "colab_type": "code",
    "id": "3a5wMHN8WKMh",
    "scrolled": true
   },
   "outputs": [
    {
     "name": "stdout",
     "output_type": "stream",
     "text": [
      "dataset.pkl\n",
      "skipped /home/wc-gpu/MasterThesis/session_data/123429/features/ecenter_porta_123429_1530721325.332921_TOP_FRONT_EventResolved.jpg.feature.coco\n",
      "skipped /home/wc-gpu/MasterThesis/session_data/123429/features/ecenter_porta_123429_1530721347.737312_TOP_FRONT_EventResolved.jpg.feature.coco\n",
      "skipped /home/wc-gpu/MasterThesis/session_data/123429/features/ecenter_porta_123429_1530721348.776711_TOP_FRONT_EventResolved.jpg.feature.coco\n",
      "skipped /home/wc-gpu/MasterThesis/session_data/123429/features/ecenter_porta_123429_1530721377.785235_TOP_FRONT_EventResolved.jpg.feature.coco\n",
      "skipped /home/wc-gpu/MasterThesis/session_data/123429/features/ecenter_porta_123429_1530721407.979311_TOP_FRONT_EventResolved.jpg.feature.coco\n",
      "skipped /home/wc-gpu/MasterThesis/session_data/123429/features/ecenter_porta_123429_1530721409.369466_TOP_FRONT_EventResolved.jpg.feature.coco\n",
      "skipped /home/wc-gpu/MasterThesis/session_data/123429/features/ecenter_porta_123429_1530721411.242173_TOP_FRONT_EventResolved.jpg.feature.coco\n",
      "skipped /home/wc-gpu/MasterThesis/session_data/123429/features/ecenter_porta_123429_1530721514.538438_TOP_FRONT_EventResolved.jpg.feature.coco\n",
      "skipped /home/wc-gpu/MasterThesis/session_data/123429/features/ecenter_porta_123429_1530721614.977302_TOP_FRONT_EventResolved.jpg.feature.coco\n",
      "skipped /home/wc-gpu/MasterThesis/session_data/123429/features/ecenter_porta_123429_1530721623.337895_TOP_FRONT_EventResolved.jpg.feature.coco\n",
      "skipped /home/wc-gpu/MasterThesis/session_data/123429/features/ecenter_porta_123429_1530721661.253997_TOP_FRONT_EventResolved.jpg.feature.coco\n",
      "skipped /home/wc-gpu/MasterThesis/session_data/123429/features/ecenter_porta_123429_1530721785.505671_TOP_FRONT_EventResolved.jpg.feature.coco\n",
      "skipped /home/wc-gpu/MasterThesis/session_data/123429/features/ecenter_porta_123429_1530721787.964917_TOP_FRONT_EventResolved.jpg.feature.coco\n",
      "skipped /home/wc-gpu/MasterThesis/session_data/123429/features/ecenter_porta_123429_1530721796.500446_TOP_FRONT_EventResolved.jpg.feature.coco\n",
      "skipped /home/wc-gpu/MasterThesis/session_data/123429/features/ecenter_porta_123429_1530721870.546621_TOP_FRONT_EventResolved.jpg.feature.coco\n",
      "skipped /home/wc-gpu/MasterThesis/session_data/123429/features/ecenter_porta_123429_1530721873.393713_TOP_FRONT_EventResolved.jpg.feature.coco\n",
      "skipped /home/wc-gpu/MasterThesis/session_data/123429/features/ecenter_porta_123429_1530721897.574583_TOP_FRONT_EventResolved.jpg.feature.coco\n",
      "skipped /home/wc-gpu/MasterThesis/session_data/123429/features/ecenter_porta_123429_1530721999.577952_TOP_FRONT_EventResolved.jpg.feature.coco\n",
      "skipped /home/wc-gpu/MasterThesis/session_data/123429/features/ecenter_porta_123429_1530722020.214710_TOP_FRONT_EventResolved.jpg.feature.coco\n",
      "skipped /home/wc-gpu/MasterThesis/session_data/123429/features/ecenter_porta_123429_1530722051.506876_TOP_FRONT_EventResolved.jpg.feature.coco\n",
      "skipped /home/wc-gpu/MasterThesis/session_data/123429/features/ecenter_porta_123429_1530722097.416243_TOP_FRONT_EventResolved.jpg.feature.coco\n",
      "skipped /home/wc-gpu/MasterThesis/session_data/123429/features/ecenter_porta_123429_1530722191.485776_TOP_FRONT_EventResolved.jpg.feature.coco\n",
      "skipped /home/wc-gpu/MasterThesis/session_data/123424/features/ecenter_porta_123424_1530720842.428108_TOP_FRONT_EventResolved.jpg.feature.coco\n",
      "skipped /home/wc-gpu/MasterThesis/session_data/123424/features/ecenter_porta_123424_1530720865.051228_TOP_FRONT_EventResolved.jpg.feature.coco\n",
      "skipped /home/wc-gpu/MasterThesis/session_data/123424/features/ecenter_porta_123424_1530720867.782401_TOP_FRONT_EventResolved.jpg.feature.coco\n",
      "skipped /home/wc-gpu/MasterThesis/session_data/123424/features/ecenter_porta_123424_1530720981.262787_TOP_FRONT_EventResolved.jpg.feature.coco\n",
      "skipped /home/wc-gpu/MasterThesis/session_data/123424/features/ecenter_porta_123424_1530721029.361103_TOP_FRONT_EventResolved.jpg.feature.coco\n",
      "skipped /home/wc-gpu/MasterThesis/session_data/123424/features/ecenter_porta_123424_1530721061.385792_TOP_FRONT_EventResolved.jpg.feature.coco\n",
      "skipped /home/wc-gpu/MasterThesis/session_data/123424/features/ecenter_porta_123424_1530721065.445961_TOP_FRONT_EventResolved.jpg.feature.coco\n",
      "skipped /home/wc-gpu/MasterThesis/session_data/123424/features/ecenter_porta_123424_1530721130.680518_TOP_FRONT_EventResolved.jpg.feature.coco\n",
      "skipped /home/wc-gpu/MasterThesis/session_data/123424/features/ecenter_porta_123424_1530721133.658336_TOP_FRONT_EventResolved.jpg.feature.coco\n",
      "skipped /home/wc-gpu/MasterThesis/session_data/123424/features/ecenter_porta_123424_1530721134.982339_TOP_FRONT_EventResolved.jpg.feature.coco\n",
      "skipped /home/wc-gpu/MasterThesis/session_data/123424/features/ecenter_porta_123424_1530721141.481739_TOP_FRONT_EventResolved.jpg.feature.coco\n",
      "skipped /home/wc-gpu/MasterThesis/session_data/123424/features/ecenter_porta_123424_1530721144.455027_TOP_FRONT_EventResolved.jpg.feature.coco\n",
      "skipped /home/wc-gpu/MasterThesis/session_data/123424/features/ecenter_porta_123424_1530721145.650617_TOP_FRONT_EventResolved.jpg.feature.coco\n",
      "skipped /home/wc-gpu/MasterThesis/session_data/123424/features/ecenter_porta_123424_1530721186.941311_TOP_FRONT_EventResolved.jpg.feature.coco\n",
      "skipped /home/wc-gpu/MasterThesis/session_data/123424/features/ecenter_porta_123424_1530721261.025249_TOP_FRONT_EventResolved.jpg.feature.coco\n",
      "skipped /home/wc-gpu/MasterThesis/session_data/123424/features/ecenter_porta_123424_1530721264.046426_TOP_FRONT_EventResolved.jpg.feature.coco\n",
      "skipped /home/wc-gpu/MasterThesis/session_data/123424/features/ecenter_porta_123424_1530721265.025919_TOP_FRONT_EventResolved.jpg.feature.coco\n",
      "skipped /home/wc-gpu/MasterThesis/session_data/123424/features/ecenter_porta_123424_1530721298.179252_TOP_FRONT_EventResolved.jpg.feature.coco\n",
      "skipped /home/wc-gpu/MasterThesis/session_data/123424/features/ecenter_porta_123424_1530721349.305506_TOP_FRONT_EventResolved.jpg.feature.coco\n",
      "skipped /home/wc-gpu/MasterThesis/session_data/123424/features/ecenter_porta_123424_1530721380.427460_TOP_FRONT_EventResolved.jpg.feature.coco\n",
      "skipped /home/wc-gpu/MasterThesis/session_data/123424/features/ecenter_porta_123424_1530721423.862920_TOP_FRONT_EventResolved.jpg.feature.coco\n",
      "skipped /home/wc-gpu/MasterThesis/session_data/123424/features/ecenter_porta_123424_1530721425.457621_TOP_FRONT_EventResolved.jpg.feature.coco\n",
      "skipped /home/wc-gpu/MasterThesis/session_data/123424/features/ecenter_porta_123424_1530721428.874880_TOP_FRONT_EventResolved.jpg.feature.coco\n",
      "skipped /home/wc-gpu/MasterThesis/session_data/123424/features/ecenter_porta_123424_1530721501.129033_TOP_FRONT_EventResolved.jpg.feature.coco\n",
      "skipped /home/wc-gpu/MasterThesis/session_data/123424/features/ecenter_porta_123424_1530721503.175436_TOP_FRONT_EventResolved.jpg.feature.coco\n",
      "skipped /home/wc-gpu/MasterThesis/session_data/123424/features/ecenter_porta_123424_1530722011.421220_TOP_FRONT_EventResolved.jpg.feature.coco\n",
      "skipped /home/wc-gpu/MasterThesis/session_data/123419/features/ecenter_porta_123419_1530720220.612544_TOP_FRONT_EventResolved.jpg.feature.coco\n",
      "skipped /home/wc-gpu/MasterThesis/session_data/123419/features/ecenter_porta_123419_1530720307.841791_TOP_FRONT_EventResolved.jpg.feature.coco\n",
      "skipped /home/wc-gpu/MasterThesis/session_data/123419/features/ecenter_porta_123419_1530720378.320548_TOP_FRONT_EventResolved.jpg.feature.coco\n",
      "skipped /home/wc-gpu/MasterThesis/session_data/123419/features/ecenter_porta_123419_1530720402.276760_TOP_FRONT_EventResolved.jpg.feature.coco\n",
      "skipped /home/wc-gpu/MasterThesis/session_data/123419/features/ecenter_porta_123419_1530720404.835769_TOP_FRONT_EventResolved.jpg.feature.coco\n",
      "skipped /home/wc-gpu/MasterThesis/session_data/123419/features/ecenter_porta_123419_1530720451.353606_TOP_FRONT_EventResolved.jpg.feature.coco\n",
      "skipped /home/wc-gpu/MasterThesis/session_data/123419/features/ecenter_porta_123419_1530720529.408598_TOP_FRONT_EventResolved.jpg.feature.coco\n",
      "skipped /home/wc-gpu/MasterThesis/session_data/123419/features/ecenter_porta_123419_1530720533.697304_TOP_FRONT_EventResolved.jpg.feature.coco\n",
      "skipped /home/wc-gpu/MasterThesis/session_data/123419/features/ecenter_porta_123419_1530720546.478308_TOP_FRONT_EventResolved.jpg.feature.coco\n",
      "skipped /home/wc-gpu/MasterThesis/session_data/123419/features/ecenter_porta_123419_1530720805.451976_TOP_FRONT_EventResolved.jpg.feature.coco\n",
      "skipped /home/wc-gpu/MasterThesis/session_data/123419/features/ecenter_porta_123419_1530720813.337947_TOP_FRONT_EventResolved.jpg.feature.coco\n",
      "skipped /home/wc-gpu/MasterThesis/session_data/123418/features/ecenter_porta_123418_1530720142.194525_TOP_FRONT_EventResolved.jpg.feature.coco\n",
      "skipped /home/wc-gpu/MasterThesis/session_data/123418/features/ecenter_porta_123418_1530720144.389260_TOP_FRONT_EventResolved.jpg.feature.coco\n",
      "skipped /home/wc-gpu/MasterThesis/session_data/123418/features/ecenter_porta_123418_1530720147.581677_TOP_FRONT_EventResolved.jpg.feature.coco\n",
      "skipped /home/wc-gpu/MasterThesis/session_data/123418/features/ecenter_porta_123418_1530720244.088770_TOP_FRONT_EventResolved.jpg.feature.coco\n",
      "skipped /home/wc-gpu/MasterThesis/session_data/123418/features/ecenter_porta_123418_1530720247.942151_TOP_FRONT_EventResolved.jpg.feature.coco\n",
      "skipped /home/wc-gpu/MasterThesis/session_data/123418/features/ecenter_porta_123418_1530720251.096203_TOP_FRONT_EventResolved.jpg.feature.coco\n",
      "skipped /home/wc-gpu/MasterThesis/session_data/123418/features/ecenter_porta_123418_1530720254.540846_TOP_FRONT_EventResolved.jpg.feature.coco\n",
      "skipped /home/wc-gpu/MasterThesis/session_data/123418/features/ecenter_porta_123418_1530720302.712231_TOP_FRONT_EventResolved.jpg.feature.coco\n",
      "skipped /home/wc-gpu/MasterThesis/session_data/123418/features/ecenter_porta_123418_1530720341.804276_TOP_FRONT_EventResolved.jpg.feature.coco\n",
      "skipped /home/wc-gpu/MasterThesis/session_data/123418/features/ecenter_porta_123418_1530720344.991080_TOP_FRONT_EventResolved.jpg.feature.coco\n",
      "skipped /home/wc-gpu/MasterThesis/session_data/123418/features/ecenter_porta_123418_1530720377.973258_TOP_FRONT_EventResolved.jpg.feature.coco\n",
      "skipped /home/wc-gpu/MasterThesis/session_data/123418/features/ecenter_porta_123418_1530720462.505926_TOP_FRONT_EventResolved.jpg.feature.coco\n",
      "skipped /home/wc-gpu/MasterThesis/session_data/123418/features/ecenter_porta_123418_1530720505.719354_TOP_FRONT_EventResolved.jpg.feature.coco\n",
      "skipped /home/wc-gpu/MasterThesis/session_data/123416/features/ecenter_porta_123416_1530718771.714671_TOP_FRONT_EventResolved.jpg.feature.coco\n",
      "skipped /home/wc-gpu/MasterThesis/session_data/123416/features/ecenter_porta_123416_1530718822.657380_TOP_FRONT_EventResolved.jpg.feature.coco\n",
      "skipped /home/wc-gpu/MasterThesis/session_data/123416/features/ecenter_porta_123416_1530718882.276195_TOP_FRONT_EventResolved.jpg.feature.coco\n",
      "skipped /home/wc-gpu/MasterThesis/session_data/123416/features/ecenter_porta_123416_1530718886.861074_TOP_FRONT_EventResolved.jpg.feature.coco\n",
      "skipped /home/wc-gpu/MasterThesis/session_data/123416/features/ecenter_porta_123416_1530718910.965027_TOP_FRONT_EventResolved.jpg.feature.coco\n",
      "skipped /home/wc-gpu/MasterThesis/session_data/123416/features/ecenter_porta_123416_1530718913.700132_TOP_FRONT_EventResolved.jpg.feature.coco\n",
      "skipped /home/wc-gpu/MasterThesis/session_data/123416/features/ecenter_porta_123416_1530718930.877445_TOP_FRONT_EventResolved.jpg.feature.coco\n",
      "skipped /home/wc-gpu/MasterThesis/session_data/123416/features/ecenter_porta_123416_1530718934.695376_TOP_FRONT_EventResolved.jpg.feature.coco\n",
      "skipped /home/wc-gpu/MasterThesis/session_data/123416/features/ecenter_porta_123416_1530718954.129532_TOP_FRONT_EventResolved.jpg.feature.coco\n",
      "skipped /home/wc-gpu/MasterThesis/session_data/123416/features/ecenter_porta_123416_1530718957.308371_TOP_FRONT_EventResolved.jpg.feature.coco\n",
      "skipped /home/wc-gpu/MasterThesis/session_data/123416/features/ecenter_porta_123416_1530719011.130736_TOP_FRONT_EventResolved.jpg.feature.coco\n",
      "skipped /home/wc-gpu/MasterThesis/session_data/123416/features/ecenter_porta_123416_1530719014.782927_TOP_FRONT_EventResolved.jpg.feature.coco\n",
      "skipped /home/wc-gpu/MasterThesis/session_data/123416/features/ecenter_porta_123416_1530719076.269315_TOP_FRONT_EventResolved.jpg.feature.coco\n",
      "skipped /home/wc-gpu/MasterThesis/session_data/123416/features/ecenter_porta_123416_1530719143.431505_TOP_FRONT_EventResolved.jpg.feature.coco\n",
      "skipped /home/wc-gpu/MasterThesis/session_data/123416/features/ecenter_porta_123416_1530719221.624104_TOP_FRONT_EventResolved.jpg.feature.coco\n",
      "skipped /home/wc-gpu/MasterThesis/session_data/123416/features/ecenter_porta_123416_1530719263.273283_TOP_FRONT_EventResolved.jpg.feature.coco\n",
      "skipped /home/wc-gpu/MasterThesis/session_data/123416/features/ecenter_porta_123416_1530719275.628270_TOP_FRONT_EventResolved.jpg.feature.coco\n",
      "skipped /home/wc-gpu/MasterThesis/session_data/123416/features/ecenter_porta_123416_1530719286.117551_TOP_FRONT_EventResolved.jpg.feature.coco\n",
      "skipped /home/wc-gpu/MasterThesis/session_data/123416/features/ecenter_porta_123416_1530719312.293537_TOP_FRONT_EventResolved.jpg.feature.coco\n",
      "skipped /home/wc-gpu/MasterThesis/session_data/123416/features/ecenter_porta_123416_1530719348.238109_TOP_FRONT_EventResolved.jpg.feature.coco\n",
      "skipped /home/wc-gpu/MasterThesis/session_data/123416/features/ecenter_porta_123416_1530719357.938090_TOP_FRONT_EventResolved.jpg.feature.coco\n",
      "skipped /home/wc-gpu/MasterThesis/session_data/123416/features/ecenter_porta_123416_1530719366.773666_TOP_FRONT_EventResolved.jpg.feature.coco\n",
      "skipped /home/wc-gpu/MasterThesis/session_data/123416/features/ecenter_porta_123416_1530719384.471774_TOP_FRONT_EventResolved.jpg.feature.coco\n",
      "skipped /home/wc-gpu/MasterThesis/session_data/123416/features/ecenter_porta_123416_1530719393.738387_TOP_FRONT_EventResolved.jpg.feature.coco\n",
      "skipped /home/wc-gpu/MasterThesis/session_data/123416/features/ecenter_porta_123416_1530719430.237104_TOP_FRONT_EventResolved.jpg.feature.coco\n",
      "skipped /home/wc-gpu/MasterThesis/session_data/123416/features/ecenter_porta_123416_1530719434.237339_TOP_FRONT_EventResolved.jpg.feature.coco\n",
      "skipped /home/wc-gpu/MasterThesis/session_data/123416/features/ecenter_porta_123416_1530719472.924898_TOP_FRONT_EventResolved.jpg.feature.coco\n",
      "skipped /home/wc-gpu/MasterThesis/session_data/123416/features/ecenter_porta_123416_1530719479.470652_TOP_FRONT_EventResolved.jpg.feature.coco\n",
      "skipped /home/wc-gpu/MasterThesis/session_data/123416/features/ecenter_porta_123416_1530719494.601639_TOP_FRONT_EventResolved.jpg.feature.coco\n",
      "skipped /home/wc-gpu/MasterThesis/session_data/123416/features/ecenter_porta_123416_1530719524.834172_TOP_FRONT_EventResolved.jpg.feature.coco\n",
      "skipped /home/wc-gpu/MasterThesis/session_data/123416/features/ecenter_porta_123416_1530719551.959190_TOP_FRONT_EventResolved.jpg.feature.coco\n",
      "skipped /home/wc-gpu/MasterThesis/session_data/123416/features/ecenter_porta_123416_1530719562.732311_TOP_FRONT_EventResolved.jpg.feature.coco\n",
      "skipped /home/wc-gpu/MasterThesis/session_data/123416/features/ecenter_porta_123416_1530719593.616363_TOP_FRONT_EventResolved.jpg.feature.coco\n",
      "skipped /home/wc-gpu/MasterThesis/session_data/123416/features/ecenter_porta_123416_1530719595.545235_TOP_FRONT_EventResolved.jpg.feature.coco\n",
      "skipped /home/wc-gpu/MasterThesis/session_data/123416/features/ecenter_porta_123416_1530719643.213876_TOP_FRONT_EventResolved.jpg.feature.coco\n",
      "skipped /home/wc-gpu/MasterThesis/session_data/123416/features/ecenter_porta_123416_1530719683.624295_TOP_FRONT_EventResolved.jpg.feature.coco\n",
      "skipped /home/wc-gpu/MasterThesis/session_data/123416/features/ecenter_porta_123416_1530719687.377092_TOP_FRONT_EventResolved.jpg.feature.coco\n",
      "skipped /home/wc-gpu/MasterThesis/session_data/123416/features/ecenter_porta_123416_1530719735.580800_TOP_FRONT_EventResolved.jpg.feature.coco\n",
      "skipped /home/wc-gpu/MasterThesis/session_data/123416/features/ecenter_porta_123416_1530719769.762243_TOP_FRONT_EventResolved.jpg.feature.coco\n",
      "skipped /home/wc-gpu/MasterThesis/session_data/123416/features/ecenter_porta_123416_1530719795.409357_TOP_FRONT_EventResolved.jpg.feature.coco\n",
      "skipped /home/wc-gpu/MasterThesis/session_data/123416/features/ecenter_porta_123416_1530719815.576154_TOP_FRONT_EventResolved.jpg.feature.coco\n",
      "skipped /home/wc-gpu/MasterThesis/session_data/123416/features/ecenter_porta_123416_1530719850.545788_TOP_FRONT_EventResolved.jpg.feature.coco\n",
      "skipped /home/wc-gpu/MasterThesis/session_data/123416/features/ecenter_porta_123416_1530719872.496565_TOP_FRONT_EventResolved.jpg.feature.coco\n",
      "skipped /home/wc-gpu/MasterThesis/session_data/123413/features/ecenter_porta_123413_1530717872.952294_TOP_FRONT_EventResolved.jpg.feature.coco\n",
      "skipped /home/wc-gpu/MasterThesis/session_data/123413/features/ecenter_porta_123413_1530717959.792744_TOP_FRONT_EventResolved.jpg.feature.coco\n",
      "skipped /home/wc-gpu/MasterThesis/session_data/123413/features/ecenter_porta_123413_1530717963.397394_TOP_FRONT_EventResolved.jpg.feature.coco\n",
      "skipped /home/wc-gpu/MasterThesis/session_data/123413/features/ecenter_porta_123413_1530718029.259989_TOP_FRONT_EventResolved.jpg.feature.coco\n",
      "skipped /home/wc-gpu/MasterThesis/session_data/123413/features/ecenter_porta_123413_1530718129.429772_TOP_FRONT_EventResolved.jpg.feature.coco\n",
      "skipped /home/wc-gpu/MasterThesis/session_data/123413/features/ecenter_porta_123413_1530718187.219845_TOP_FRONT_EventResolved.jpg.feature.coco\n",
      "skipped /home/wc-gpu/MasterThesis/session_data/123413/features/ecenter_porta_123413_1530718317.003292_TOP_FRONT_EventResolved.jpg.feature.coco\n",
      "skipped /home/wc-gpu/MasterThesis/session_data/123413/features/ecenter_porta_123413_1530718364.885890_TOP_FRONT_EventResolved.jpg.feature.coco\n",
      "skipped /home/wc-gpu/MasterThesis/session_data/123413/features/ecenter_porta_123413_1530718425.867098_TOP_FRONT_EventResolved.jpg.feature.coco\n",
      "skipped /home/wc-gpu/MasterThesis/session_data/123413/features/ecenter_porta_123413_1530718509.744697_TOP_FRONT_EventResolved.jpg.feature.coco\n",
      "skipped /home/wc-gpu/MasterThesis/session_data/123413/features/ecenter_porta_123413_1530718554.901033_TOP_FRONT_EventResolved.jpg.feature.coco\n",
      "skipped /home/wc-gpu/MasterThesis/session_data/123409/features/ecenter_porta_123409_1530717570.821596_TOP_FRONT_EventResolved.jpg.feature.coco\n",
      "skipped /home/wc-gpu/MasterThesis/session_data/123409/features/ecenter_porta_123409_1530717590.921646_TOP_FRONT_EventResolved.jpg.feature.coco\n",
      "skipped /home/wc-gpu/MasterThesis/session_data/123409/features/ecenter_porta_123409_1530717617.651427_TOP_FRONT_EventResolved.jpg.feature.coco\n",
      "skipped /home/wc-gpu/MasterThesis/session_data/123409/features/ecenter_porta_123409_1530717638.089304_TOP_FRONT_EventResolved.jpg.feature.coco\n",
      "skipped /home/wc-gpu/MasterThesis/session_data/123409/features/ecenter_porta_123409_1530717690.034947_TOP_FRONT_EventResolved.jpg.feature.coco\n",
      "skipped /home/wc-gpu/MasterThesis/session_data/123409/features/ecenter_porta_123409_1530717696.856786_TOP_FRONT_EventResolved.jpg.feature.coco\n",
      "skipped /home/wc-gpu/MasterThesis/session_data/123409/features/ecenter_porta_123409_1530717723.204497_TOP_FRONT_EventResolved.jpg.feature.coco\n",
      "skipped /home/wc-gpu/MasterThesis/session_data/123409/features/ecenter_porta_123409_1530717762.533857_TOP_FRONT_EventResolved.jpg.feature.coco\n",
      "skipped /home/wc-gpu/MasterThesis/session_data/123409/features/ecenter_porta_123409_1530717823.193080_TOP_FRONT_EventResolved.jpg.feature.coco\n",
      "skipped /home/wc-gpu/MasterThesis/session_data/123409/features/ecenter_porta_123409_1530717850.869352_TOP_FRONT_EventResolved.jpg.feature.coco\n",
      "skipped /home/wc-gpu/MasterThesis/session_data/123409/features/ecenter_porta_123409_1530717852.528377_TOP_FRONT_EventResolved.jpg.feature.coco\n",
      "skipped /home/wc-gpu/MasterThesis/session_data/123409/features/ecenter_porta_123409_1530717937.845999_TOP_FRONT_EventResolved.jpg.feature.coco\n",
      "skipped /home/wc-gpu/MasterThesis/session_data/123409/features/ecenter_porta_123409_1530717943.594432_TOP_FRONT_EventResolved.jpg.feature.coco\n",
      "skipped /home/wc-gpu/MasterThesis/session_data/123409/features/ecenter_porta_123409_1530717970.795926_TOP_FRONT_EventResolved.jpg.feature.coco\n",
      "skipped /home/wc-gpu/MasterThesis/session_data/123409/features/ecenter_porta_123409_1530718006.141652_TOP_FRONT_EventResolved.jpg.feature.coco\n",
      "skipped /home/wc-gpu/MasterThesis/session_data/123409/features/ecenter_porta_123409_1530718027.999507_TOP_FRONT_EventResolved.jpg.feature.coco\n",
      "skipped /home/wc-gpu/MasterThesis/session_data/123409/features/ecenter_porta_123409_1530718066.313663_TOP_FRONT_EventResolved.jpg.feature.coco\n",
      "skipped /home/wc-gpu/MasterThesis/session_data/123409/features/ecenter_porta_123409_1530718069.702557_TOP_FRONT_EventResolved.jpg.feature.coco\n",
      "skipped /home/wc-gpu/MasterThesis/session_data/123409/features/ecenter_porta_123409_1530718072.932401_TOP_FRONT_EventResolved.jpg.feature.coco\n",
      "skipped /home/wc-gpu/MasterThesis/session_data/123409/features/ecenter_porta_123409_1530718084.746154_TOP_FRONT_EventResolved.jpg.feature.coco\n",
      "skipped /home/wc-gpu/MasterThesis/session_data/123409/features/ecenter_porta_123409_1530718087.583723_TOP_FRONT_EventResolved.jpg.feature.coco\n",
      "skipped /home/wc-gpu/MasterThesis/session_data/123409/features/ecenter_porta_123409_1530718120.612604_TOP_FRONT_EventResolved.jpg.feature.coco\n",
      "skipped /home/wc-gpu/MasterThesis/session_data/123409/features/ecenter_porta_123409_1530718135.405197_TOP_FRONT_EventResolved.jpg.feature.coco\n",
      "skipped /home/wc-gpu/MasterThesis/session_data/123409/features/ecenter_porta_123409_1530718152.201597_TOP_FRONT_EventResolved.jpg.feature.coco\n",
      "skipped /home/wc-gpu/MasterThesis/session_data/123409/features/ecenter_porta_123409_1530718153.572991_TOP_FRONT_EventResolved.jpg.feature.coco\n",
      "skipped /home/wc-gpu/MasterThesis/session_data/123409/features/ecenter_porta_123409_1530718463.849192_TOP_FRONT_EventResolved.jpg.feature.coco\n",
      "skipped /home/wc-gpu/MasterThesis/session_data/123409/features/ecenter_porta_123409_1530718501.304465_TOP_FRONT_EventResolved.jpg.feature.coco\n",
      "skipped /home/wc-gpu/MasterThesis/session_data/123407/features/ecenter_porta_123407_1530717394.405341_TOP_FRONT_EventResolved.jpg.feature.coco\n",
      "skipped /home/wc-gpu/MasterThesis/session_data/123407/features/ecenter_porta_123407_1530717466.134050_TOP_FRONT_EventResolved.jpg.feature.coco\n",
      "skipped /home/wc-gpu/MasterThesis/session_data/123407/features/ecenter_porta_123407_1530717524.336887_TOP_FRONT_EventResolved.jpg.feature.coco\n",
      "skipped /home/wc-gpu/MasterThesis/session_data/123407/features/ecenter_porta_123407_1530717526.360671_TOP_FRONT_EventResolved.jpg.feature.coco\n",
      "skipped /home/wc-gpu/MasterThesis/session_data/123407/features/ecenter_porta_123407_1530717556.711442_TOP_FRONT_EventResolved.jpg.feature.coco\n",
      "skipped /home/wc-gpu/MasterThesis/session_data/123407/features/ecenter_porta_123407_1530717560.814531_TOP_FRONT_EventResolved.jpg.feature.coco\n",
      "skipped /home/wc-gpu/MasterThesis/session_data/123407/features/ecenter_porta_123407_1530717590.216845_TOP_FRONT_EventResolved.jpg.feature.coco\n",
      "skipped /home/wc-gpu/MasterThesis/session_data/123407/features/ecenter_porta_123407_1530717672.617018_TOP_FRONT_EventResolved.jpg.feature.coco\n",
      "skipped /home/wc-gpu/MasterThesis/session_data/123407/features/ecenter_porta_123407_1530717868.727202_TOP_FRONT_EventResolved.jpg.feature.coco\n",
      "skipped /home/wc-gpu/MasterThesis/session_data/123407/features/ecenter_porta_123407_1530717876.959570_TOP_FRONT_EventResolved.jpg.feature.coco\n",
      "skipped /home/wc-gpu/MasterThesis/session_data/123407/features/ecenter_porta_123407_1530717882.349751_TOP_FRONT_EventResolved.jpg.feature.coco\n",
      "skipped /home/wc-gpu/MasterThesis/session_data/123407/features/ecenter_porta_123407_1530717919.215707_TOP_FRONT_EventResolved.jpg.feature.coco\n",
      "skipped /home/wc-gpu/MasterThesis/session_data/123407/features/ecenter_porta_123407_1530717962.365228_TOP_FRONT_EventResolved.jpg.feature.coco\n",
      "skipped /home/wc-gpu/MasterThesis/session_data/123407/features/ecenter_porta_123407_1530718031.979619_TOP_FRONT_EventResolved.jpg.feature.coco\n",
      "skipped /home/wc-gpu/MasterThesis/session_data/123407/features/ecenter_porta_123407_1530718058.248434_TOP_FRONT_EventResolved.jpg.feature.coco\n",
      "skipped /home/wc-gpu/MasterThesis/session_data/123407/features/ecenter_porta_123407_1530718185.724943_TOP_FRONT_EventResolved.jpg.feature.coco\n",
      "skipped /home/wc-gpu/MasterThesis/session_data/123407/features/ecenter_porta_123407_1530718229.537054_TOP_FRONT_EventResolved.jpg.feature.coco\n",
      "skipped /home/wc-gpu/MasterThesis/session_data/123407/features/ecenter_porta_123407_1530718233.868660_TOP_FRONT_EventResolved.jpg.feature.coco\n",
      "skipped /home/wc-gpu/MasterThesis/session_data/123407/features/ecenter_porta_123407_1530718350.934110_TOP_FRONT_EventResolved.jpg.feature.coco\n",
      "skipped /home/wc-gpu/MasterThesis/session_data/123407/features/ecenter_porta_123407_1530718372.500865_TOP_FRONT_EventResolved.jpg.feature.coco\n",
      "skipped /home/wc-gpu/MasterThesis/session_data/123407/features/ecenter_porta_123407_1530718469.364289_TOP_FRONT_EventResolved.jpg.feature.coco\n",
      "skipped /home/wc-gpu/MasterThesis/session_data/123407/features/ecenter_porta_123407_1530718524.834522_TOP_FRONT_EventResolved.jpg.feature.coco\n",
      "skipped /home/wc-gpu/MasterThesis/session_data/123407/features/ecenter_porta_123407_1530718529.040515_TOP_FRONT_EventResolved.jpg.feature.coco\n",
      "skipped /home/wc-gpu/MasterThesis/session_data/123407/features/ecenter_porta_123407_1530718585.540057_TOP_FRONT_EventResolved.jpg.feature.coco\n",
      "skipped /home/wc-gpu/MasterThesis/session_data/123407/features/ecenter_porta_123407_1530718605.828167_TOP_FRONT_EventResolved.jpg.feature.coco\n",
      "skipped /home/wc-gpu/MasterThesis/session_data/123407/features/ecenter_porta_123407_1530718696.982887_TOP_FRONT_EventResolved.jpg.feature.coco\n",
      "skipped /home/wc-gpu/MasterThesis/session_data/123407/features/ecenter_porta_123407_1530718701.985860_TOP_FRONT_EventResolved.jpg.feature.coco\n",
      "skipped /home/wc-gpu/MasterThesis/session_data/123407/features/ecenter_porta_123407_1530718783.785896_TOP_FRONT_EventResolved.jpg.feature.coco\n",
      "skipped /home/wc-gpu/MasterThesis/session_data/123407/features/ecenter_porta_123407_1530718804.344062_TOP_FRONT_EventResolved.jpg.feature.coco\n",
      "skipped /home/wc-gpu/MasterThesis/session_data/123407/features/ecenter_porta_123407_1530718823.550162_TOP_FRONT_EventResolved.jpg.feature.coco\n",
      "skipped /home/wc-gpu/MasterThesis/session_data/123407/features/ecenter_porta_123407_1530718875.517245_TOP_FRONT_EventResolved.jpg.feature.coco\n",
      "skipped /home/wc-gpu/MasterThesis/session_data/123407/features/ecenter_porta_123407_1530718955.937670_TOP_FRONT_EventResolved.jpg.feature.coco\n",
      "skipped /home/wc-gpu/MasterThesis/session_data/123407/features/ecenter_porta_123407_1530718959.645192_TOP_FRONT_EventResolved.jpg.feature.coco\n",
      "skipped /home/wc-gpu/MasterThesis/session_data/123407/features/ecenter_porta_123407_1530718963.339148_TOP_FRONT_EventResolved.jpg.feature.coco\n",
      "skipped /home/wc-gpu/MasterThesis/session_data/123407/features/ecenter_porta_123407_1530719263.803589_TOP_FRONT_EventResolved.jpg.feature.coco\n",
      "skipped /home/wc-gpu/MasterThesis/session_data/123407/features/ecenter_porta_123407_1530719299.363785_TOP_FRONT_EventResolved.jpg.feature.coco\n",
      "skipped /home/wc-gpu/MasterThesis/session_data/123407/features/ecenter_porta_123407_1530719304.400045_TOP_FRONT_EventResolved.jpg.feature.coco\n",
      "skipped /home/wc-gpu/MasterThesis/session_data/123407/features/ecenter_porta_123407_1530719305.721268_TOP_FRONT_EventResolved.jpg.feature.coco\n",
      "skipped /home/wc-gpu/MasterThesis/session_data/123407/features/ecenter_porta_123407_1530719351.807780_TOP_FRONT_EventResolved.jpg.feature.coco\n",
      "skipped /home/wc-gpu/MasterThesis/session_data/123407/features/ecenter_porta_123407_1530719354.161484_TOP_FRONT_EventResolved.jpg.feature.coco\n",
      "skipped /home/wc-gpu/MasterThesis/session_data/123407/features/ecenter_porta_123407_1530719376.656313_TOP_FRONT_EventResolved.jpg.feature.coco\n",
      "skipped /home/wc-gpu/MasterThesis/session_data/123407/features/ecenter_porta_123407_1530719408.038851_TOP_FRONT_EventResolved.jpg.feature.coco\n",
      "skipped /home/wc-gpu/MasterThesis/session_data/123407/features/ecenter_porta_123407_1530719424.068901_TOP_FRONT_EventResolved.jpg.feature.coco\n",
      "skipped /home/wc-gpu/MasterThesis/session_data/123407/features/ecenter_porta_123407_1530719461.629029_TOP_FRONT_EventResolved.jpg.feature.coco\n",
      "skipped /home/wc-gpu/MasterThesis/session_data/123407/features/ecenter_porta_123407_1530719464.886113_TOP_FRONT_EventResolved.jpg.feature.coco\n",
      "skipped /home/wc-gpu/MasterThesis/session_data/123407/features/ecenter_porta_123407_1530719581.387056_TOP_FRONT_EventResolved.jpg.feature.coco\n",
      "skipped /home/wc-gpu/MasterThesis/session_data/123407/features/ecenter_porta_123407_1530719655.025971_TOP_FRONT_EventResolved.jpg.feature.coco\n",
      "skipped /home/wc-gpu/MasterThesis/session_data/123407/features/ecenter_porta_123407_1530719694.996700_TOP_FRONT_EventResolved.jpg.feature.coco\n",
      "skipped /home/wc-gpu/MasterThesis/session_data/123403/features/ecenter_porta_123403_1530716313.205250_TOP_FRONT_EventResolved.jpg.feature.coco\n",
      "skipped /home/wc-gpu/MasterThesis/session_data/123403/features/ecenter_porta_123403_1530716317.638369_TOP_FRONT_EventResolved.jpg.feature.coco\n",
      "skipped /home/wc-gpu/MasterThesis/session_data/123403/features/ecenter_porta_123403_1530716331.772874_TOP_FRONT_EventResolved.jpg.feature.coco\n",
      "skipped /home/wc-gpu/MasterThesis/session_data/123403/features/ecenter_porta_123403_1530716336.886203_TOP_FRONT_EventResolved.jpg.feature.coco\n",
      "skipped /home/wc-gpu/MasterThesis/session_data/123403/features/ecenter_porta_123403_1530716384.329180_TOP_FRONT_EventResolved.jpg.feature.coco\n",
      "skipped /home/wc-gpu/MasterThesis/session_data/123403/features/ecenter_porta_123403_1530716444.681237_TOP_FRONT_EventResolved.jpg.feature.coco\n",
      "skipped /home/wc-gpu/MasterThesis/session_data/123403/features/ecenter_porta_123403_1530716447.061215_TOP_FRONT_EventResolved.jpg.feature.coco\n",
      "skipped /home/wc-gpu/MasterThesis/session_data/123403/features/ecenter_porta_123403_1530716647.881468_TOP_FRONT_EventResolved.jpg.feature.coco\n",
      "skipped /home/wc-gpu/MasterThesis/session_data/123403/features/ecenter_porta_123403_1530716656.143432_TOP_FRONT_EventResolved.jpg.feature.coco\n",
      "skipped /home/wc-gpu/MasterThesis/session_data/123403/features/ecenter_porta_123403_1530716744.122048_TOP_FRONT_EventResolved.jpg.feature.coco\n",
      "skipped /home/wc-gpu/MasterThesis/session_data/123403/features/ecenter_porta_123403_1530716945.142270_TOP_FRONT_EventResolved.jpg.feature.coco\n",
      "skipped /home/wc-gpu/MasterThesis/session_data/123403/features/ecenter_porta_123403_1530716947.752176_TOP_FRONT_EventResolved.jpg.feature.coco\n",
      "skipped /home/wc-gpu/MasterThesis/session_data/123403/features/ecenter_porta_123403_1530716949.760318_TOP_FRONT_EventResolved.jpg.feature.coco\n",
      "skipped /home/wc-gpu/MasterThesis/session_data/123403/features/ecenter_porta_123403_1530716954.535678_TOP_FRONT_EventResolved.jpg.feature.coco\n",
      "skipped /home/wc-gpu/MasterThesis/session_data/123403/features/ecenter_porta_123403_1530716957.565284_TOP_FRONT_EventResolved.jpg.feature.coco\n",
      "skipped /home/wc-gpu/MasterThesis/session_data/123403/features/ecenter_porta_123403_1530716960.185971_TOP_FRONT_EventResolved.jpg.feature.coco\n",
      "skipped /home/wc-gpu/MasterThesis/session_data/123403/features/ecenter_porta_123403_1530717002.213195_TOP_FRONT_EventResolved.jpg.feature.coco\n",
      "skipped /home/wc-gpu/MasterThesis/session_data/123403/features/ecenter_porta_123403_1530717099.118142_TOP_FRONT_EventResolved.jpg.feature.coco\n",
      "skipped /home/wc-gpu/MasterThesis/session_data/123403/features/ecenter_porta_123403_1530717102.345995_TOP_FRONT_EventResolved.jpg.feature.coco\n",
      "skipped /home/wc-gpu/MasterThesis/session_data/123403/features/ecenter_porta_123403_1530717103.883170_TOP_FRONT_EventResolved.jpg.feature.coco\n",
      "skipped /home/wc-gpu/MasterThesis/session_data/123403/features/ecenter_porta_123403_1530717106.521592_TOP_FRONT_EventResolved.jpg.feature.coco\n",
      "skipped /home/wc-gpu/MasterThesis/session_data/123403/features/ecenter_porta_123403_1530717108.667971_TOP_FRONT_EventResolved.jpg.feature.coco\n",
      "skipped /home/wc-gpu/MasterThesis/session_data/123403/features/ecenter_porta_123403_1530717338.964282_TOP_FRONT_EventResolved.jpg.feature.coco\n",
      "skipped /home/wc-gpu/MasterThesis/session_data/123403/features/ecenter_porta_123403_1530717345.437433_TOP_FRONT_EventResolved.jpg.feature.coco\n",
      "skipped /home/wc-gpu/MasterThesis/session_data/123403/features/ecenter_porta_123403_1530717351.125764_TOP_FRONT_EventResolved.jpg.feature.coco\n",
      "skipped /home/wc-gpu/MasterThesis/session_data/123403/features/ecenter_porta_123403_1530717353.204061_TOP_FRONT_EventResolved.jpg.feature.coco\n",
      "skipped /home/wc-gpu/MasterThesis/session_data/123403/features/ecenter_porta_123403_1530717356.541455_TOP_FRONT_EventResolved.jpg.feature.coco\n",
      "skipped /home/wc-gpu/MasterThesis/session_data/123403/features/ecenter_porta_123403_1530717359.879637_TOP_FRONT_EventResolved.jpg.feature.coco\n",
      "skipped /home/wc-gpu/MasterThesis/session_data/123403/features/ecenter_porta_123403_1530717363.055696_TOP_FRONT_EventResolved.jpg.feature.coco\n",
      "skipped /home/wc-gpu/MasterThesis/session_data/123403/features/ecenter_porta_123403_1530717366.098702_TOP_FRONT_EventResolved.jpg.feature.coco\n",
      "skipped /home/wc-gpu/MasterThesis/session_data/123403/features/ecenter_porta_123403_1530717368.286070_TOP_FRONT_EventResolved.jpg.feature.coco\n",
      "skipped /home/wc-gpu/MasterThesis/session_data/123403/features/ecenter_porta_123403_1530717529.515117_TOP_FRONT_EventResolved.jpg.feature.coco\n",
      "skipped /home/wc-gpu/MasterThesis/session_data/123403/features/ecenter_porta_123403_1530717531.339784_TOP_FRONT_EventResolved.jpg.feature.coco\n",
      "skipped /home/wc-gpu/MasterThesis/session_data/123403/features/ecenter_porta_123403_1530717534.544841_TOP_FRONT_EventResolved.jpg.feature.coco\n",
      "skipped /home/wc-gpu/MasterThesis/session_data/123403/features/ecenter_porta_123403_1530717537.736553_TOP_FRONT_EventResolved.jpg.feature.coco\n",
      "skipped /home/wc-gpu/MasterThesis/session_data/123403/features/ecenter_porta_123403_1530717583.955564_TOP_FRONT_EventResolved.jpg.feature.coco\n",
      "skipped /home/wc-gpu/MasterThesis/session_data/123403/features/ecenter_porta_123403_1530717587.199229_TOP_FRONT_EventResolved.jpg.feature.coco\n",
      "skipped /home/wc-gpu/MasterThesis/session_data/123403/features/ecenter_porta_123403_1530717780.439870_TOP_FRONT_EventResolved.jpg.feature.coco\n",
      "skipped /home/wc-gpu/MasterThesis/session_data/123403/features/ecenter_porta_123403_1530717785.253365_TOP_FRONT_EventResolved.jpg.feature.coco\n",
      "skipped /home/wc-gpu/MasterThesis/session_data/123403/features/ecenter_porta_123403_1530717788.024328_TOP_FRONT_EventResolved.jpg.feature.coco\n",
      "skipped /home/wc-gpu/MasterThesis/session_data/123403/features/ecenter_porta_123403_1530717813.272494_TOP_FRONT_EventResolved.jpg.feature.coco\n",
      "skipped /home/wc-gpu/MasterThesis/session_data/123403/features/ecenter_porta_123403_1530717944.248496_TOP_FRONT_EventResolved.jpg.feature.coco\n",
      "skipped /home/wc-gpu/MasterThesis/session_data/123403/features/ecenter_porta_123403_1530718044.108795_TOP_FRONT_EventResolved.jpg.feature.coco\n",
      "skipped /home/wc-gpu/MasterThesis/session_data/123403/features/ecenter_porta_123403_1530718046.089015_TOP_FRONT_EventResolved.jpg.feature.coco\n",
      "skipped /home/wc-gpu/MasterThesis/session_data/123403/features/ecenter_porta_123403_1530718090.036639_TOP_FRONT_EventResolved.jpg.feature.coco\n",
      "skipped /home/wc-gpu/MasterThesis/session_data/123403/features/ecenter_porta_123403_1530718094.273295_TOP_FRONT_EventResolved.jpg.feature.coco\n",
      "skipped /home/wc-gpu/MasterThesis/session_data/123403/features/ecenter_porta_123403_1530718113.535536_TOP_FRONT_EventResolved.jpg.feature.coco\n",
      "skipped /home/wc-gpu/MasterThesis/session_data/123403/features/ecenter_porta_123403_1530718182.797001_TOP_FRONT_EventResolved.jpg.feature.coco\n",
      "skipped /home/wc-gpu/MasterThesis/session_data/123403/features/ecenter_porta_123403_1530718215.979880_TOP_FRONT_EventResolved.jpg.feature.coco\n",
      "skipped /home/wc-gpu/MasterThesis/session_data/123403/features/ecenter_porta_123403_1530718221.166085_TOP_FRONT_EventResolved.jpg.feature.coco\n",
      "skipped /home/wc-gpu/MasterThesis/session_data/123403/features/ecenter_porta_123403_1530718298.894223_TOP_FRONT_EventResolved.jpg.feature.coco\n",
      "skipped /home/wc-gpu/MasterThesis/session_data/123403/features/ecenter_porta_123403_1530718301.845351_TOP_FRONT_EventResolved.jpg.feature.coco\n",
      "skipped /home/wc-gpu/MasterThesis/session_data/123403/features/ecenter_porta_123415_1530718407.123667_TOP_FRONT_EventResolved.jpg.feature.coco\n",
      "skipped /home/wc-gpu/MasterThesis/session_data/123403/features/ecenter_porta_123415_1530718431.491844_TOP_FRONT_EventResolved.jpg.feature.coco\n",
      "skipped /home/wc-gpu/MasterThesis/session_data/123403/features/ecenter_porta_123415_1530718435.290268_TOP_FRONT_EventResolved.jpg.feature.coco\n",
      "skipped /home/wc-gpu/MasterThesis/session_data/123403/features/ecenter_porta_123415_1530718438.073494_TOP_FRONT_EventResolved.jpg.feature.coco\n",
      "skipped /home/wc-gpu/MasterThesis/session_data/123403/features/ecenter_porta_123415_1530718439.072640_TOP_FRONT_EventResolved.jpg.feature.coco\n",
      "skipped /home/wc-gpu/MasterThesis/session_data/123403/features/ecenter_porta_123415_1530718446.410171_TOP_FRONT_EventResolved.jpg.feature.coco\n",
      "skipped /home/wc-gpu/MasterThesis/session_data/123401/features/ecenter_porta_123401_1530715374.619287_TOP_FRONT_EventResolved.jpg.feature.coco\n",
      "skipped /home/wc-gpu/MasterThesis/session_data/123401/features/ecenter_porta_123401_1530715465.566998_TOP_FRONT_EventResolved.jpg.feature.coco\n",
      "skipped /home/wc-gpu/MasterThesis/session_data/123401/features/ecenter_porta_123401_1530715744.650995_TOP_FRONT_EventResolved.jpg.feature.coco\n",
      "skipped /home/wc-gpu/MasterThesis/session_data/123401/features/ecenter_porta_123401_1530715747.521961_TOP_FRONT_EventResolved.jpg.feature.coco\n",
      "skipped /home/wc-gpu/MasterThesis/session_data/123401/features/ecenter_porta_123401_1530715750.807838_TOP_FRONT_EventResolved.jpg.feature.coco\n",
      "skipped /home/wc-gpu/MasterThesis/session_data/123401/features/ecenter_porta_123401_1530715753.985180_TOP_FRONT_EventResolved.jpg.feature.coco\n",
      "skipped /home/wc-gpu/MasterThesis/session_data/123401/features/ecenter_porta_123401_1530715757.396274_TOP_FRONT_EventResolved.jpg.feature.coco\n",
      "skipped /home/wc-gpu/MasterThesis/session_data/123401/features/ecenter_porta_123401_1530715884.591031_TOP_FRONT_EventResolved.jpg.feature.coco\n",
      "skipped /home/wc-gpu/MasterThesis/session_data/123401/features/ecenter_porta_123401_1530715892.975155_TOP_FRONT_EventResolved.jpg.feature.coco\n",
      "skipped /home/wc-gpu/MasterThesis/session_data/123401/features/ecenter_porta_123401_1530715895.835181_TOP_FRONT_EventResolved.jpg.feature.coco\n",
      "skipped /home/wc-gpu/MasterThesis/session_data/123401/features/ecenter_porta_123401_1530715931.162602_TOP_FRONT_EventResolved.jpg.feature.coco\n",
      "skipped /home/wc-gpu/MasterThesis/session_data/123401/features/ecenter_porta_123401_1530716095.389045_TOP_FRONT_EventResolved.jpg.feature.coco\n",
      "skipped /home/wc-gpu/MasterThesis/session_data/123401/features/ecenter_porta_123401_1530716160.237403_TOP_FRONT_EventResolved.jpg.feature.coco\n",
      "skipped /home/wc-gpu/MasterThesis/session_data/123401/features/ecenter_porta_123401_1530716172.913062_TOP_FRONT_EventResolved.jpg.feature.coco\n",
      "skipped /home/wc-gpu/MasterThesis/session_data/123392/features/ecenter_porta_123392_1530714227.801879_TOP_FRONT_EventResolved.jpg.feature.coco\n",
      "skipped /home/wc-gpu/MasterThesis/session_data/123392/features/ecenter_porta_123392_1530714231.510190_TOP_FRONT_EventResolved.jpg.feature.coco\n",
      "skipped /home/wc-gpu/MasterThesis/session_data/123392/features/ecenter_porta_123392_1530714246.876114_TOP_FRONT_EventResolved.jpg.feature.coco\n",
      "skipped /home/wc-gpu/MasterThesis/session_data/123392/features/ecenter_porta_123392_1530714388.785229_TOP_FRONT_EventResolved.jpg.feature.coco\n",
      "skipped /home/wc-gpu/MasterThesis/session_data/123392/features/ecenter_porta_123392_1530714393.245089_TOP_FRONT_EventResolved.jpg.feature.coco\n",
      "skipped /home/wc-gpu/MasterThesis/session_data/123392/features/ecenter_porta_123392_1530714470.714527_TOP_FRONT_EventResolved.jpg.feature.coco\n",
      "skipped /home/wc-gpu/MasterThesis/session_data/123392/features/ecenter_porta_123392_1530714475.847036_TOP_FRONT_EventResolved.jpg.feature.coco\n",
      "skipped /home/wc-gpu/MasterThesis/session_data/123392/features/ecenter_porta_123392_1530714538.702604_TOP_FRONT_EventResolved.jpg.feature.coco\n",
      "skipped /home/wc-gpu/MasterThesis/session_data/123392/features/ecenter_porta_123392_1530714561.823085_TOP_FRONT_EventResolved.jpg.feature.coco\n",
      "skipped /home/wc-gpu/MasterThesis/session_data/123392/features/ecenter_porta_123392_1530714565.871373_TOP_FRONT_EventResolved.jpg.feature.coco\n",
      "skipped /home/wc-gpu/MasterThesis/session_data/123392/features/ecenter_porta_123392_1530714588.418165_TOP_FRONT_EventResolved.jpg.feature.coco\n",
      "skipped /home/wc-gpu/MasterThesis/session_data/123392/features/ecenter_porta_123392_1530714596.855710_TOP_FRONT_EventResolved.jpg.feature.coco\n",
      "skipped /home/wc-gpu/MasterThesis/session_data/123392/features/ecenter_porta_123392_1530714619.465162_TOP_FRONT_EventResolved.jpg.feature.coco\n",
      "skipped /home/wc-gpu/MasterThesis/session_data/123392/features/ecenter_porta_123392_1530714697.494907_TOP_FRONT_EventResolved.jpg.feature.coco\n",
      "skipped /home/wc-gpu/MasterThesis/session_data/123392/features/ecenter_porta_123392_1530714701.718619_TOP_FRONT_EventResolved.jpg.feature.coco\n",
      "skipped /home/wc-gpu/MasterThesis/session_data/123392/features/ecenter_porta_123392_1530714704.355882_TOP_FRONT_EventResolved.jpg.feature.coco\n",
      "skipped /home/wc-gpu/MasterThesis/session_data/123392/features/ecenter_porta_123392_1530714739.806299_TOP_FRONT_EventResolved.jpg.feature.coco\n",
      "skipped /home/wc-gpu/MasterThesis/session_data/123392/features/ecenter_porta_123392_1530714818.878788_TOP_FRONT_EventResolved.jpg.feature.coco\n",
      "skipped /home/wc-gpu/MasterThesis/session_data/123390/features/ecenter_porta_123390_1530714033.998394_TOP_FRONT_EventResolved.jpg.feature.coco\n",
      "skipped /home/wc-gpu/MasterThesis/session_data/123390/features/ecenter_porta_123390_1530714099.037284_TOP_FRONT_EventResolved.jpg.feature.coco\n",
      "skipped /home/wc-gpu/MasterThesis/session_data/123390/features/ecenter_porta_123390_1530714102.533305_TOP_FRONT_EventResolved.jpg.feature.coco\n",
      "skipped /home/wc-gpu/MasterThesis/session_data/123390/features/ecenter_porta_123390_1530714103.324815_TOP_FRONT_EventResolved.jpg.feature.coco\n",
      "skipped /home/wc-gpu/MasterThesis/session_data/123390/features/ecenter_porta_123390_1530714113.883388_TOP_FRONT_EventResolved.jpg.feature.coco\n",
      "skipped /home/wc-gpu/MasterThesis/session_data/123390/features/ecenter_porta_123390_1530714213.973693_TOP_FRONT_EventResolved.jpg.feature.coco\n",
      "skipped /home/wc-gpu/MasterThesis/session_data/123382/features/ecenter_porta_123382_1530712776.240019_TOP_FRONT_EventResolved.jpg.feature.coco\n",
      "skipped /home/wc-gpu/MasterThesis/session_data/123382/features/ecenter_porta_123382_1530712793.664171_TOP_FRONT_EventResolved.jpg.feature.coco\n",
      "skipped /home/wc-gpu/MasterThesis/session_data/123382/features/ecenter_porta_123382_1530712798.482918_TOP_FRONT_EventResolved.jpg.feature.coco\n",
      "skipped /home/wc-gpu/MasterThesis/session_data/123382/features/ecenter_porta_123382_1530712814.947683_TOP_FRONT_EventResolved.jpg.feature.coco\n",
      "skipped /home/wc-gpu/MasterThesis/session_data/123382/features/ecenter_porta_123382_1530712863.957046_TOP_FRONT_EventResolved.jpg.feature.coco\n",
      "skipped /home/wc-gpu/MasterThesis/session_data/123382/features/ecenter_porta_123382_1530712898.824543_TOP_FRONT_EventResolved.jpg.feature.coco\n",
      "skipped /home/wc-gpu/MasterThesis/session_data/123382/features/ecenter_porta_123382_1530712901.468365_TOP_FRONT_EventResolved.jpg.feature.coco\n",
      "skipped /home/wc-gpu/MasterThesis/session_data/123382/features/ecenter_porta_123382_1530712915.538590_TOP_FRONT_EventResolved.jpg.feature.coco\n",
      "skipped /home/wc-gpu/MasterThesis/session_data/123382/features/ecenter_porta_123382_1530712920.740513_TOP_FRONT_EventResolved.jpg.feature.coco\n",
      "skipped /home/wc-gpu/MasterThesis/session_data/123382/features/ecenter_porta_123382_1530712921.406297_TOP_FRONT_EventResolved.jpg.feature.coco\n",
      "skipped /home/wc-gpu/MasterThesis/session_data/123382/features/ecenter_porta_123382_1530712964.779861_TOP_FRONT_EventResolved.jpg.feature.coco\n",
      "skipped /home/wc-gpu/MasterThesis/session_data/123382/features/ecenter_porta_123382_1530712967.761505_TOP_FRONT_EventResolved.jpg.feature.coco\n",
      "skipped /home/wc-gpu/MasterThesis/session_data/123382/features/ecenter_porta_123382_1530712970.669972_TOP_FRONT_EventResolved.jpg.feature.coco\n",
      "skipped /home/wc-gpu/MasterThesis/session_data/123382/features/ecenter_porta_123382_1530713027.551503_TOP_FRONT_EventResolved.jpg.feature.coco\n",
      "skipped /home/wc-gpu/MasterThesis/session_data/123382/features/ecenter_porta_123382_1530713031.656942_TOP_FRONT_EventResolved.jpg.feature.coco\n",
      "skipped /home/wc-gpu/MasterThesis/session_data/123382/features/ecenter_porta_123382_1530713063.121411_TOP_FRONT_EventResolved.jpg.feature.coco\n",
      "skipped /home/wc-gpu/MasterThesis/session_data/123382/features/ecenter_porta_123382_1530713129.263312_TOP_FRONT_EventResolved.jpg.feature.coco\n",
      "skipped /home/wc-gpu/MasterThesis/session_data/123382/features/ecenter_porta_123382_1530713239.228004_TOP_FRONT_EventResolved.jpg.feature.coco\n",
      "skipped /home/wc-gpu/MasterThesis/session_data/123382/features/ecenter_porta_123382_1530713327.409147_TOP_FRONT_EventResolved.jpg.feature.coco\n",
      "skipped /home/wc-gpu/MasterThesis/session_data/123382/features/ecenter_porta_123382_1530713349.013319_TOP_FRONT_EventResolved.jpg.feature.coco\n",
      "skipped /home/wc-gpu/MasterThesis/session_data/123382/features/ecenter_porta_123382_1530713351.780426_TOP_FRONT_EventResolved.jpg.feature.coco\n",
      "skipped /home/wc-gpu/MasterThesis/session_data/123382/features/ecenter_porta_123382_1530713361.112890_TOP_FRONT_EventResolved.jpg.feature.coco\n",
      "skipped /home/wc-gpu/MasterThesis/session_data/123382/features/ecenter_porta_123382_1530713540.120847_TOP_FRONT_EventResolved.jpg.feature.coco\n",
      "skipped /home/wc-gpu/MasterThesis/session_data/123382/features/ecenter_porta_123382_1530713544.112672_TOP_FRONT_EventResolved.jpg.feature.coco\n",
      "skipped /home/wc-gpu/MasterThesis/session_data/123382/features/ecenter_porta_123382_1530713547.249231_TOP_FRONT_EventResolved.jpg.feature.coco\n",
      "skipped /home/wc-gpu/MasterThesis/session_data/123382/features/ecenter_porta_123382_1530713549.573544_TOP_FRONT_EventResolved.jpg.feature.coco\n",
      "skipped /home/wc-gpu/MasterThesis/session_data/123382/features/ecenter_porta_123382_1530713554.058064_TOP_FRONT_EventResolved.jpg.feature.coco\n",
      "skipped /home/wc-gpu/MasterThesis/session_data/123382/features/ecenter_porta_123382_1530713560.239608_TOP_FRONT_EventResolved.jpg.feature.coco\n",
      "skipped /home/wc-gpu/MasterThesis/session_data/123382/features/ecenter_porta_123382_1530713563.675764_TOP_FRONT_EventResolved.jpg.feature.coco\n",
      "skipped /home/wc-gpu/MasterThesis/session_data/123382/features/ecenter_porta_123382_1530713622.562733_TOP_FRONT_EventResolved.jpg.feature.coco\n",
      "skipped /home/wc-gpu/MasterThesis/session_data/123382/features/ecenter_porta_123382_1530713629.756501_TOP_FRONT_EventResolved.jpg.feature.coco\n",
      "skipped /home/wc-gpu/MasterThesis/session_data/123382/features/ecenter_porta_123382_1530713683.165725_TOP_FRONT_EventResolved.jpg.feature.coco\n",
      "skipped /home/wc-gpu/MasterThesis/session_data/123382/features/ecenter_porta_123382_1530713745.745338_TOP_FRONT_EventResolved.jpg.feature.coco\n",
      "skipped /home/wc-gpu/MasterThesis/session_data/123382/features/ecenter_porta_123382_1530713786.651571_TOP_FRONT_EventResolved.jpg.feature.coco\n",
      "skipped /home/wc-gpu/MasterThesis/session_data/123382/features/ecenter_porta_123382_1530713789.338824_TOP_FRONT_EventResolved.jpg.feature.coco\n",
      "skipped /home/wc-gpu/MasterThesis/session_data/123382/features/ecenter_porta_123382_1530714004.368962_TOP_FRONT_EventResolved.jpg.feature.coco\n",
      "skipped /home/wc-gpu/MasterThesis/session_data/123382/features/ecenter_porta_123382_1530714007.846393_TOP_FRONT_EventResolved.jpg.feature.coco\n",
      "skipped /home/wc-gpu/MasterThesis/session_data/123382/features/ecenter_porta_123382_1530714011.630767_TOP_FRONT_EventResolved.jpg.feature.coco\n",
      "skipped /home/wc-gpu/MasterThesis/session_data/123382/features/ecenter_porta_123382_1530714014.377042_TOP_FRONT_EventResolved.jpg.feature.coco\n",
      "skipped /home/wc-gpu/MasterThesis/session_data/123381/features/ecenter_porta_123381_1530712371.860511_TOP_FRONT_EventResolved.jpg.feature.coco\n",
      "skipped /home/wc-gpu/MasterThesis/session_data/123381/features/ecenter_porta_123381_1530712399.175178_TOP_FRONT_EventResolved.jpg.feature.coco\n",
      "skipped /home/wc-gpu/MasterThesis/session_data/123381/features/ecenter_porta_123381_1530712412.221360_TOP_FRONT_EventResolved.jpg.feature.coco\n",
      "skipped /home/wc-gpu/MasterThesis/session_data/123381/features/ecenter_porta_123381_1530712415.873654_TOP_FRONT_EventResolved.jpg.feature.coco\n",
      "skipped /home/wc-gpu/MasterThesis/session_data/123381/features/ecenter_porta_123381_1530712441.076504_TOP_FRONT_EventResolved.jpg.feature.coco\n",
      "skipped /home/wc-gpu/MasterThesis/session_data/123381/features/ecenter_porta_123381_1530712449.955643_TOP_FRONT_EventResolved.jpg.feature.coco\n",
      "skipped /home/wc-gpu/MasterThesis/session_data/123381/features/ecenter_porta_123381_1530712509.850913_TOP_FRONT_EventResolved.jpg.feature.coco\n",
      "skipped /home/wc-gpu/MasterThesis/session_data/123381/features/ecenter_porta_123381_1530712552.582783_TOP_FRONT_EventResolved.jpg.feature.coco\n",
      "skipped /home/wc-gpu/MasterThesis/session_data/123381/features/ecenter_porta_123381_1530712632.488527_TOP_FRONT_EventResolved.jpg.feature.coco\n",
      "skipped /home/wc-gpu/MasterThesis/session_data/123381/features/ecenter_porta_123381_1530712637.716948_TOP_FRONT_EventResolved.jpg.feature.coco\n",
      "skipped /home/wc-gpu/MasterThesis/session_data/123381/features/ecenter_porta_123381_1530712644.019995_TOP_FRONT_EventResolved.jpg.feature.coco\n",
      "skipped /home/wc-gpu/MasterThesis/session_data/123381/features/ecenter_porta_123381_1530712804.695863_TOP_FRONT_EventResolved.jpg.feature.coco\n",
      "skipped /home/wc-gpu/MasterThesis/session_data/123381/features/ecenter_porta_123381_1530713072.921435_TOP_FRONT_EventResolved.jpg.feature.coco\n",
      "skipped /home/wc-gpu/MasterThesis/session_data/123381/features/ecenter_porta_123381_1530713098.576107_TOP_FRONT_EventResolved.jpg.feature.coco\n",
      "skipped /home/wc-gpu/MasterThesis/session_data/123381/features/ecenter_porta_123381_1530713135.268016_TOP_FRONT_EventResolved.jpg.feature.coco\n",
      "skipped /home/wc-gpu/MasterThesis/session_data/123381/features/ecenter_porta_123381_1530713337.579319_TOP_FRONT_EventResolved.jpg.feature.coco\n",
      "skipped /home/wc-gpu/MasterThesis/session_data/123381/features/ecenter_porta_123381_1530713347.674452_TOP_FRONT_EventResolved.jpg.feature.coco\n",
      "skipped /home/wc-gpu/MasterThesis/session_data/123381/features/ecenter_porta_123381_1530713437.617482_TOP_FRONT_EventResolved.jpg.feature.coco\n",
      "skipped /home/wc-gpu/MasterThesis/session_data/123381/features/ecenter_porta_123381_1530713551.374770_TOP_FRONT_EventResolved.jpg.feature.coco\n",
      "skipped /home/wc-gpu/MasterThesis/session_data/123381/features/ecenter_porta_123381_1530713580.358836_TOP_FRONT_EventResolved.jpg.feature.coco\n",
      "skipped /home/wc-gpu/MasterThesis/session_data/123381/features/ecenter_porta_123381_1530713762.168552_TOP_FRONT_EventResolved.jpg.feature.coco\n",
      "skipped /home/wc-gpu/MasterThesis/session_data/123381/features/ecenter_porta_123381_1530713777.466679_TOP_FRONT_EventResolved.jpg.feature.coco\n",
      "skipped /home/wc-gpu/MasterThesis/session_data/123381/features/ecenter_porta_123381_1530713816.477468_TOP_FRONT_EventResolved.jpg.feature.coco\n",
      "skipped /home/wc-gpu/MasterThesis/session_data/123381/features/ecenter_porta_123381_1530713874.996298_TOP_FRONT_EventResolved.jpg.feature.coco\n",
      "skipped /home/wc-gpu/MasterThesis/session_data/123381/features/ecenter_porta_123381_1530713894.859082_TOP_FRONT_EventResolved.jpg.feature.coco\n",
      "skipped /home/wc-gpu/MasterThesis/session_data/123381/features/ecenter_porta_123381_1530713897.722787_TOP_FRONT_EventResolved.jpg.feature.coco\n",
      "skipped /home/wc-gpu/MasterThesis/session_data/123381/features/ecenter_porta_123381_1530714115.070019_TOP_FRONT_EventResolved.jpg.feature.coco\n",
      "skipped /home/wc-gpu/MasterThesis/session_data/123381/features/ecenter_porta_123381_1530714119.522901_TOP_FRONT_EventResolved.jpg.feature.coco\n",
      "skipped /home/wc-gpu/MasterThesis/session_data/123381/features/ecenter_porta_123381_1530714122.779841_TOP_FRONT_EventResolved.jpg.feature.coco\n",
      "skipped /home/wc-gpu/MasterThesis/session_data/123381/features/ecenter_porta_123381_1530714125.735516_TOP_FRONT_EventResolved.jpg.feature.coco\n",
      "skipped /home/wc-gpu/MasterThesis/session_data/123381/features/ecenter_porta_123381_1530714257.489995_TOP_FRONT_EventResolved.jpg.feature.coco\n",
      "skipped /home/wc-gpu/MasterThesis/session_data/123381/features/ecenter_porta_123381_1530714351.762582_TOP_FRONT_EventResolved.jpg.feature.coco\n",
      "skipped /home/wc-gpu/MasterThesis/session_data/123381/features/ecenter_porta_123381_1530714459.282526_TOP_FRONT_EventResolved.jpg.feature.coco\n",
      "skipped /home/wc-gpu/MasterThesis/session_data/123381/features/ecenter_porta_123381_1530714505.923317_TOP_FRONT_EventResolved.jpg.feature.coco\n",
      "skipped /home/wc-gpu/MasterThesis/session_data/123381/features/ecenter_porta_123381_1530714581.728293_TOP_FRONT_EventResolved.jpg.feature.coco\n",
      "skipped /home/wc-gpu/MasterThesis/session_data/123381/features/ecenter_porta_123381_1530714599.336037_TOP_FRONT_EventResolved.jpg.feature.coco\n",
      "skipped /home/wc-gpu/MasterThesis/session_data/123381/features/ecenter_porta_123381_1530714610.575573_TOP_FRONT_EventResolved.jpg.feature.coco\n",
      "skipped /home/wc-gpu/MasterThesis/session_data/123381/features/ecenter_porta_123381_1530714654.549059_TOP_FRONT_EventResolved.jpg.feature.coco\n",
      "skipped /home/wc-gpu/MasterThesis/session_data/123381/features/ecenter_porta_123381_1530714657.071808_TOP_FRONT_EventResolved.jpg.feature.coco\n",
      "skipped /home/wc-gpu/MasterThesis/session_data/123381/features/ecenter_porta_123381_1530714661.747995_TOP_FRONT_EventResolved.jpg.feature.coco\n",
      "skipped /home/wc-gpu/MasterThesis/session_data/123379/features/ecenter_porta_123379_1530714254.171346_TOP_FRONT_EventResolved.jpg.feature.coco\n",
      "skipped /home/wc-gpu/MasterThesis/session_data/123379/features/ecenter_porta_123379_1530714349.678177_TOP_FRONT_EventResolved.jpg.feature.coco\n",
      "skipped /home/wc-gpu/MasterThesis/session_data/123379/features/ecenter_porta_123379_1530714355.703560_TOP_FRONT_EventResolved.jpg.feature.coco\n",
      "skipped /home/wc-gpu/MasterThesis/session_data/123379/features/ecenter_porta_123379_1530714461.008812_TOP_FRONT_EventResolved.jpg.feature.coco\n",
      "skipped /home/wc-gpu/MasterThesis/session_data/123379/features/ecenter_porta_123379_1530714541.414670_TOP_FRONT_EventResolved.jpg.feature.coco\n",
      "skipped /home/wc-gpu/MasterThesis/session_data/123379/features/ecenter_porta_123379_1530714611.693185_TOP_FRONT_EventResolved.jpg.feature.coco\n",
      "skipped /home/wc-gpu/MasterThesis/session_data/123379/features/ecenter_porta_123379_1530714615.778690_TOP_FRONT_EventResolved.jpg.feature.coco\n",
      "skipped /home/wc-gpu/MasterThesis/session_data/123379/features/ecenter_porta_123379_1530714673.179416_TOP_FRONT_EventResolved.jpg.feature.coco\n",
      "skipped /home/wc-gpu/MasterThesis/session_data/123379/features/ecenter_porta_123379_1530714691.499866_TOP_FRONT_EventResolved.jpg.feature.coco\n",
      "skipped /home/wc-gpu/MasterThesis/session_data/123379/features/ecenter_porta_123379_1530714749.270317_TOP_FRONT_EventResolved.jpg.feature.coco\n",
      "skipped /home/wc-gpu/MasterThesis/session_data/123379/features/ecenter_porta_123379_1530714752.279415_TOP_FRONT_EventResolved.jpg.feature.coco\n",
      "skipped /home/wc-gpu/MasterThesis/session_data/123379/features/ecenter_porta_123379_1530714803.690141_TOP_FRONT_EventResolved.jpg.feature.coco\n",
      "skipped /home/wc-gpu/MasterThesis/session_data/123379/features/ecenter_porta_123379_1530714836.013702_TOP_FRONT_EventResolved.jpg.feature.coco\n",
      "skipped /home/wc-gpu/MasterThesis/session_data/123379/features/ecenter_porta_123379_1530714838.311226_TOP_FRONT_EventResolved.jpg.feature.coco\n",
      "skipped /home/wc-gpu/MasterThesis/session_data/123379/features/ecenter_porta_123379_1530714841.722862_TOP_FRONT_EventResolved.jpg.feature.coco\n",
      "skipped /home/wc-gpu/MasterThesis/session_data/123375/features/ecenter_porta_123375_1530711523.949036_TOP_FRONT_EventResolved.jpg.feature.coco\n",
      "skipped /home/wc-gpu/MasterThesis/session_data/123375/features/ecenter_porta_123375_1530711637.210414_TOP_FRONT_EventResolved.jpg.feature.coco\n",
      "skipped /home/wc-gpu/MasterThesis/session_data/123375/features/ecenter_porta_123375_1530711641.221579_TOP_FRONT_EventResolved.jpg.feature.coco\n",
      "skipped /home/wc-gpu/MasterThesis/session_data/123375/features/ecenter_porta_123375_1530711642.794015_TOP_FRONT_EventResolved.jpg.feature.coco\n",
      "skipped /home/wc-gpu/MasterThesis/session_data/123375/features/ecenter_porta_123375_1530711995.735534_TOP_FRONT_EventResolved.jpg.feature.coco\n",
      "skipped /home/wc-gpu/MasterThesis/session_data/123375/features/ecenter_porta_123375_1530712069.943339_TOP_FRONT_EventResolved.jpg.feature.coco\n",
      "skipped /home/wc-gpu/MasterThesis/session_data/123375/features/ecenter_porta_123375_1530712072.352843_TOP_FRONT_EventResolved.jpg.feature.coco\n",
      "skipped /home/wc-gpu/MasterThesis/session_data/123375/features/ecenter_porta_123375_1530712168.676568_TOP_FRONT_EventResolved.jpg.feature.coco\n",
      "skipped /home/wc-gpu/MasterThesis/session_data/123375/features/ecenter_porta_123375_1530712280.893781_TOP_FRONT_EventResolved.jpg.feature.coco\n",
      "skipped /home/wc-gpu/MasterThesis/session_data/123375/features/ecenter_porta_123375_1530712354.774228_TOP_FRONT_EventResolved.jpg.feature.coco\n",
      "skipped /home/wc-gpu/MasterThesis/session_data/123375/features/ecenter_porta_123375_1530712359.059070_TOP_FRONT_EventResolved.jpg.feature.coco\n",
      "skipped /home/wc-gpu/MasterThesis/session_data/123375/features/ecenter_porta_123375_1530712555.805113_TOP_FRONT_EventResolved.jpg.feature.coco\n",
      "skipped /home/wc-gpu/MasterThesis/session_data/123375/features/ecenter_porta_123375_1530712558.893551_TOP_FRONT_EventResolved.jpg.feature.coco\n",
      "skipped /home/wc-gpu/MasterThesis/session_data/123375/features/ecenter_porta_123375_1530712601.169566_TOP_FRONT_EventResolved.jpg.feature.coco\n",
      "skipped /home/wc-gpu/MasterThesis/session_data/123375/features/ecenter_porta_123375_1530712603.912211_TOP_FRONT_EventResolved.jpg.feature.coco\n",
      "skipped /home/wc-gpu/MasterThesis/session_data/123375/features/ecenter_porta_123375_1530712697.865412_TOP_FRONT_EventResolved.jpg.feature.coco\n",
      "skipped /home/wc-gpu/MasterThesis/session_data/123375/features/ecenter_porta_123375_1530713290.528845_TOP_FRONT_EventResolved.jpg.feature.coco\n",
      "skipped /home/wc-gpu/MasterThesis/session_data/123374/features/ecenter_porta_123374_1530711269.306980_TOP_FRONT_EventResolved.jpg.feature.coco\n",
      "skipped /home/wc-gpu/MasterThesis/session_data/123374/features/ecenter_porta_123374_1530711310.535056_TOP_FRONT_EventResolved.jpg.feature.coco\n",
      "skipped /home/wc-gpu/MasterThesis/session_data/123374/features/ecenter_porta_123374_1530711361.411212_TOP_FRONT_EventResolved.jpg.feature.coco\n",
      "skipped /home/wc-gpu/MasterThesis/session_data/123374/features/ecenter_porta_123374_1530711391.094278_TOP_FRONT_EventResolved.jpg.feature.coco\n",
      "skipped /home/wc-gpu/MasterThesis/session_data/123374/features/ecenter_porta_123374_1530711455.543097_TOP_FRONT_EventResolved.jpg.feature.coco\n",
      "skipped /home/wc-gpu/MasterThesis/session_data/123374/features/ecenter_porta_123374_1530711489.860244_TOP_FRONT_EventResolved.jpg.feature.coco\n",
      "skipped /home/wc-gpu/MasterThesis/session_data/123374/features/ecenter_porta_123374_1530711492.068465_TOP_FRONT_EventResolved.jpg.feature.coco\n",
      "skipped /home/wc-gpu/MasterThesis/session_data/123374/features/ecenter_porta_123374_1530711555.216558_TOP_FRONT_EventResolved.jpg.feature.coco\n",
      "skipped /home/wc-gpu/MasterThesis/session_data/123374/features/ecenter_porta_123374_1530711570.256880_TOP_FRONT_EventResolved.jpg.feature.coco\n",
      "skipped /home/wc-gpu/MasterThesis/session_data/123374/features/ecenter_porta_123374_1530711613.932612_TOP_FRONT_EventResolved.jpg.feature.coco\n",
      "skipped /home/wc-gpu/MasterThesis/session_data/123374/features/ecenter_porta_123374_1530711642.748363_TOP_FRONT_EventResolved.jpg.feature.coco\n",
      "skipped /home/wc-gpu/MasterThesis/session_data/123374/features/ecenter_porta_123374_1530711649.926462_TOP_FRONT_EventResolved.jpg.feature.coco\n",
      "skipped /home/wc-gpu/MasterThesis/session_data/123374/features/ecenter_porta_123374_1530711663.782607_TOP_FRONT_EventResolved.jpg.feature.coco\n",
      "skipped /home/wc-gpu/MasterThesis/session_data/123374/features/ecenter_porta_123374_1530711710.671557_TOP_FRONT_EventResolved.jpg.feature.coco\n",
      "skipped /home/wc-gpu/MasterThesis/session_data/123374/features/ecenter_porta_123374_1530711750.582364_TOP_FRONT_EventResolved.jpg.feature.coco\n",
      "skipped /home/wc-gpu/MasterThesis/session_data/123374/features/ecenter_porta_123374_1530711759.289898_TOP_FRONT_EventResolved.jpg.feature.coco\n",
      "skipped /home/wc-gpu/MasterThesis/session_data/123374/features/ecenter_porta_123374_1530711791.294586_TOP_FRONT_EventResolved.jpg.feature.coco\n",
      "skipped /home/wc-gpu/MasterThesis/session_data/123374/features/ecenter_porta_123374_1530711829.209252_TOP_FRONT_EventResolved.jpg.feature.coco\n",
      "skipped /home/wc-gpu/MasterThesis/session_data/123374/features/ecenter_porta_123374_1530711855.930567_TOP_FRONT_EventResolved.jpg.feature.coco\n",
      "skipped /home/wc-gpu/MasterThesis/session_data/123372/features/ecenter_porta_123372_1530710813.989459_TOP_FRONT_EventResolved.jpg.feature.coco\n",
      "skipped /home/wc-gpu/MasterThesis/session_data/123372/features/ecenter_porta_123372_1530710868.992678_TOP_FRONT_EventResolved.jpg.feature.coco\n",
      "skipped /home/wc-gpu/MasterThesis/session_data/123372/features/ecenter_porta_123372_1530710876.525288_TOP_FRONT_EventResolved.jpg.feature.coco\n",
      "skipped /home/wc-gpu/MasterThesis/session_data/123372/features/ecenter_porta_123372_1530710877.904390_TOP_FRONT_EventResolved.jpg.feature.coco\n",
      "skipped /home/wc-gpu/MasterThesis/session_data/123372/features/ecenter_porta_123372_1530710881.685881_TOP_FRONT_EventResolved.jpg.feature.coco\n",
      "skipped /home/wc-gpu/MasterThesis/session_data/123372/features/ecenter_porta_123372_1530710905.306645_TOP_FRONT_EventResolved.jpg.feature.coco\n",
      "skipped /home/wc-gpu/MasterThesis/session_data/123372/features/ecenter_porta_123372_1530710908.216188_TOP_FRONT_EventResolved.jpg.feature.coco\n",
      "skipped /home/wc-gpu/MasterThesis/session_data/123372/features/ecenter_porta_123372_1530710927.798209_TOP_FRONT_EventResolved.jpg.feature.coco\n",
      "skipped /home/wc-gpu/MasterThesis/session_data/123372/features/ecenter_porta_123372_1530710972.302135_TOP_FRONT_EventResolved.jpg.feature.coco\n",
      "skipped /home/wc-gpu/MasterThesis/session_data/123372/features/ecenter_porta_123372_1530710989.141145_TOP_FRONT_EventResolved.jpg.feature.coco\n",
      "skipped /home/wc-gpu/MasterThesis/session_data/123372/features/ecenter_porta_123372_1530711111.911349_TOP_FRONT_EventResolved.jpg.feature.coco\n",
      "skipped /home/wc-gpu/MasterThesis/session_data/123372/features/ecenter_porta_123372_1530711120.128772_TOP_FRONT_EventResolved.jpg.feature.coco\n",
      "skipped /home/wc-gpu/MasterThesis/session_data/123372/features/ecenter_porta_123372_1530711285.021988_TOP_FRONT_EventResolved.jpg.feature.coco\n",
      "skipped /home/wc-gpu/MasterThesis/session_data/123372/features/ecenter_porta_123372_1530711289.964690_TOP_FRONT_EventResolved.jpg.feature.coco\n",
      "skipped /home/wc-gpu/MasterThesis/session_data/123372/features/ecenter_porta_123372_1530711292.362623_TOP_FRONT_EventResolved.jpg.feature.coco\n",
      "skipped /home/wc-gpu/MasterThesis/session_data/123360/features/ecenter_porta_123360_1530709278.591305_TOP_FRONT_EventResolved.jpg.feature.coco\n",
      "skipped /home/wc-gpu/MasterThesis/session_data/123360/features/ecenter_porta_123360_1530709324.816728_TOP_FRONT_EventResolved.jpg.feature.coco\n",
      "skipped /home/wc-gpu/MasterThesis/session_data/123360/features/ecenter_porta_123360_1530709338.230110_TOP_FRONT_EventResolved.jpg.feature.coco\n",
      "skipped /home/wc-gpu/MasterThesis/session_data/123360/features/ecenter_porta_123360_1530709413.759116_TOP_FRONT_EventResolved.jpg.feature.coco\n",
      "skipped /home/wc-gpu/MasterThesis/session_data/123360/features/ecenter_porta_123360_1530709423.455972_TOP_FRONT_EventResolved.jpg.feature.coco\n",
      "skipped /home/wc-gpu/MasterThesis/session_data/123360/features/ecenter_porta_123360_1530709538.683879_TOP_FRONT_EventResolved.jpg.feature.coco\n",
      "skipped /home/wc-gpu/MasterThesis/session_data/123360/features/ecenter_porta_123360_1530709572.302592_TOP_FRONT_EventResolved.jpg.feature.coco\n",
      "skipped /home/wc-gpu/MasterThesis/session_data/123360/features/ecenter_porta_123360_1530709574.997162_TOP_FRONT_EventResolved.jpg.feature.coco\n",
      "skipped /home/wc-gpu/MasterThesis/session_data/123360/features/ecenter_porta_123360_1530709655.141172_TOP_FRONT_EventResolved.jpg.feature.coco\n",
      "skipped /home/wc-gpu/MasterThesis/session_data/123360/features/ecenter_porta_123360_1530709682.810995_TOP_FRONT_EventResolved.jpg.feature.coco\n",
      "skipped /home/wc-gpu/MasterThesis/session_data/123360/features/ecenter_porta_123360_1530709903.851560_TOP_FRONT_EventResolved.jpg.feature.coco\n",
      "skipped /home/wc-gpu/MasterThesis/session_data/123360/features/ecenter_porta_123360_1530709921.191200_TOP_FRONT_EventResolved.jpg.feature.coco\n",
      "skipped /home/wc-gpu/MasterThesis/session_data/123360/features/ecenter_porta_123360_1530709966.993662_TOP_FRONT_EventResolved.jpg.feature.coco\n",
      "skipped /home/wc-gpu/MasterThesis/session_data/123360/features/ecenter_porta_123360_1530709971.496183_TOP_FRONT_EventResolved.jpg.feature.coco\n",
      "skipped /home/wc-gpu/MasterThesis/session_data/123360/features/ecenter_porta_123360_1530710090.100832_TOP_FRONT_EventResolved.jpg.feature.coco\n",
      "skipped /home/wc-gpu/MasterThesis/session_data/123360/features/ecenter_porta_123360_1530710091.754980_TOP_FRONT_EventResolved.jpg.feature.coco\n",
      "skipped /home/wc-gpu/MasterThesis/session_data/123360/features/ecenter_porta_123360_1530710105.516539_TOP_FRONT_EventResolved.jpg.feature.coco\n",
      "skipped /home/wc-gpu/MasterThesis/session_data/123360/features/ecenter_porta_123360_1530710115.599442_TOP_FRONT_EventResolved.jpg.feature.coco\n",
      "skipped /home/wc-gpu/MasterThesis/session_data/123360/features/ecenter_porta_123360_1530710422.938688_TOP_FRONT_EventResolved.jpg.feature.coco\n",
      "skipped /home/wc-gpu/MasterThesis/session_data/123360/features/ecenter_porta_123360_1530710506.271547_TOP_FRONT_EventResolved.jpg.feature.coco\n",
      "skipped /home/wc-gpu/MasterThesis/session_data/123360/features/ecenter_porta_123360_1530710618.856619_TOP_FRONT_EventResolved.jpg.feature.coco\n",
      "skipped /home/wc-gpu/MasterThesis/session_data/123360/features/ecenter_porta_123360_1530710634.413390_TOP_FRONT_EventResolved.jpg.feature.coco\n",
      "skipped /home/wc-gpu/MasterThesis/session_data/123360/features/ecenter_porta_123360_1530710719.213342_TOP_FRONT_EventResolved.jpg.feature.coco\n",
      "skipped /home/wc-gpu/MasterThesis/session_data/123360/features/ecenter_porta_123360_1530710735.867128_TOP_FRONT_EventResolved.jpg.feature.coco\n",
      "skipped /home/wc-gpu/MasterThesis/session_data/123360/features/ecenter_porta_123360_1530710784.201342_TOP_FRONT_EventResolved.jpg.feature.coco\n",
      "skipped /home/wc-gpu/MasterThesis/session_data/123360/features/ecenter_porta_123360_1530710793.251591_TOP_FRONT_EventResolved.jpg.feature.coco\n",
      "skipped /home/wc-gpu/MasterThesis/session_data/123360/features/ecenter_porta_123360_1530710801.642054_TOP_FRONT_EventResolved.jpg.feature.coco\n",
      "skipped /home/wc-gpu/MasterThesis/session_data/123360/features/ecenter_porta_123360_1530710826.516778_TOP_FRONT_EventResolved.jpg.feature.coco\n",
      "skipped /home/wc-gpu/MasterThesis/session_data/123360/features/ecenter_porta_123360_1530710829.317547_TOP_FRONT_EventResolved.jpg.feature.coco\n",
      "skipped /home/wc-gpu/MasterThesis/session_data/123360/features/ecenter_porta_123360_1530710846.266593_TOP_FRONT_EventResolved.jpg.feature.coco\n",
      "skipped /home/wc-gpu/MasterThesis/session_data/123360/features/ecenter_porta_123360_1530710849.292195_TOP_FRONT_EventResolved.jpg.feature.coco\n",
      "skipped /home/wc-gpu/MasterThesis/session_data/123360/features/ecenter_porta_123360_1530710906.039911_TOP_FRONT_EventResolved.jpg.feature.coco\n",
      "skipped /home/wc-gpu/MasterThesis/session_data/123360/features/ecenter_porta_123360_1530710908.826320_TOP_FRONT_EventResolved.jpg.feature.coco\n",
      "skipped /home/wc-gpu/MasterThesis/session_data/123360/features/ecenter_porta_123360_1530710909.828546_TOP_FRONT_EventResolved.jpg.feature.coco\n",
      "skipped /home/wc-gpu/MasterThesis/session_data/123360/features/ecenter_porta_123360_1530711036.525081_TOP_FRONT_EventResolved.jpg.feature.coco\n",
      "skipped /home/wc-gpu/MasterThesis/session_data/123360/features/ecenter_porta_123360_1530711055.520088_TOP_FRONT_EventResolved.jpg.feature.coco\n",
      "skipped /home/wc-gpu/MasterThesis/session_data/123360/features/ecenter_porta_123360_1530711198.783109_TOP_FRONT_EventResolved.jpg.feature.coco\n",
      "skipped /home/wc-gpu/MasterThesis/session_data/123360/features/ecenter_porta_123360_1530711249.386703_TOP_FRONT_EventResolved.jpg.feature.coco\n",
      "skipped /home/wc-gpu/MasterThesis/session_data/123360/features/ecenter_porta_123360_1530711315.109432_TOP_FRONT_EventResolved.jpg.feature.coco\n",
      "skipped /home/wc-gpu/MasterThesis/session_data/123360/features/ecenter_porta_123360_1530711320.000754_TOP_FRONT_EventResolved.jpg.feature.coco\n",
      "skipped /home/wc-gpu/MasterThesis/session_data/123360/features/ecenter_porta_123360_1530711326.822317_TOP_FRONT_EventResolved.jpg.feature.coco\n",
      "skipped /home/wc-gpu/MasterThesis/session_data/123358/features/ecenter_porta_123358_1530707119.069349_TOP_FRONT_EventResolved.jpg.feature.coco\n",
      "skipped /home/wc-gpu/MasterThesis/session_data/123358/features/ecenter_porta_123358_1530707298.588271_TOP_FRONT_EventResolved.jpg.feature.coco\n",
      "skipped /home/wc-gpu/MasterThesis/session_data/123358/features/ecenter_porta_123358_1530707499.997342_TOP_FRONT_EventResolved.jpg.feature.coco\n",
      "skipped /home/wc-gpu/MasterThesis/session_data/123358/features/ecenter_porta_123358_1530707733.218752_TOP_FRONT_EventResolved.jpg.feature.coco\n",
      "skipped /home/wc-gpu/MasterThesis/session_data/123358/features/ecenter_porta_123358_1530707737.895118_TOP_FRONT_EventResolved.jpg.feature.coco\n",
      "skipped /home/wc-gpu/MasterThesis/session_data/123358/features/ecenter_porta_123358_1530708074.046953_TOP_FRONT_EventResolved.jpg.feature.coco\n",
      "skipped /home/wc-gpu/MasterThesis/session_data/123356/features/ecenter_porta_123356_1530706445.096568_TOP_FRONT_EventResolved.jpg.feature.coco\n",
      "skipped /home/wc-gpu/MasterThesis/session_data/123356/features/ecenter_porta_123356_1530706577.073601_TOP_FRONT_EventResolved.jpg.feature.coco\n",
      "skipped /home/wc-gpu/MasterThesis/session_data/123356/features/ecenter_porta_123356_1530706649.232629_TOP_FRONT_EventResolved.jpg.feature.coco\n",
      "skipped /home/wc-gpu/MasterThesis/session_data/123356/features/ecenter_porta_123356_1530706693.025648_TOP_FRONT_EventResolved.jpg.feature.coco\n",
      "skipped /home/wc-gpu/MasterThesis/session_data/123356/features/ecenter_porta_123356_1530706720.118657_TOP_FRONT_EventResolved.jpg.feature.coco\n",
      "skipped /home/wc-gpu/MasterThesis/session_data/123356/features/ecenter_porta_123356_1530706809.947884_TOP_FRONT_EventResolved.jpg.feature.coco\n",
      "skipped /home/wc-gpu/MasterThesis/session_data/123356/features/ecenter_porta_123356_1530706830.068049_TOP_FRONT_EventResolved.jpg.feature.coco\n",
      "skipped /home/wc-gpu/MasterThesis/session_data/123356/features/ecenter_porta_123356_1530706903.060879_TOP_FRONT_EventResolved.jpg.feature.coco\n",
      "skipped /home/wc-gpu/MasterThesis/session_data/123356/features/ecenter_porta_123356_1530706992.954313_TOP_FRONT_EventResolved.jpg.feature.coco\n",
      "skipped /home/wc-gpu/MasterThesis/session_data/123356/features/ecenter_porta_123356_1530707152.020044_TOP_FRONT_EventResolved.jpg.feature.coco\n",
      "skipped /home/wc-gpu/MasterThesis/session_data/123356/features/ecenter_porta_123356_1530707187.997846_TOP_FRONT_EventResolved.jpg.feature.coco\n",
      "skipped /home/wc-gpu/MasterThesis/session_data/123356/features/ecenter_porta_123356_1530707646.909967_TOP_FRONT_EventResolved.jpg.feature.coco\n",
      "skipped /home/wc-gpu/MasterThesis/session_data/123356/features/ecenter_porta_123356_1530707703.546815_TOP_FRONT_EventResolved.jpg.feature.coco\n",
      "skipped /home/wc-gpu/MasterThesis/session_data/123356/features/ecenter_porta_123356_1530707707.134091_TOP_FRONT_EventResolved.jpg.feature.coco\n",
      "skipped /home/wc-gpu/MasterThesis/session_data/123356/features/ecenter_porta_123356_1530707916.039835_TOP_FRONT_EventResolved.jpg.feature.coco\n",
      "skipped /home/wc-gpu/MasterThesis/session_data/123356/features/ecenter_porta_123356_1530708032.545577_TOP_FRONT_EventResolved.jpg.feature.coco\n",
      "skipped /home/wc-gpu/MasterThesis/session_data/123356/features/ecenter_porta_123356_1530708049.047984_TOP_FRONT_EventResolved.jpg.feature.coco\n",
      "skipped /home/wc-gpu/MasterThesis/session_data/123356/features/ecenter_porta_123356_1530708053.115277_TOP_FRONT_EventResolved.jpg.feature.coco\n",
      "skipped /home/wc-gpu/MasterThesis/session_data/123356/features/ecenter_porta_123356_1530708096.352078_TOP_FRONT_EventResolved.jpg.feature.coco\n",
      "skipped /home/wc-gpu/MasterThesis/session_data/123356/features/ecenter_porta_123356_1530708100.323820_TOP_FRONT_EventResolved.jpg.feature.coco\n",
      "skipped /home/wc-gpu/MasterThesis/session_data/123356/features/ecenter_porta_123356_1530708129.500331_TOP_FRONT_EventResolved.jpg.feature.coco\n",
      "skipped /home/wc-gpu/MasterThesis/session_data/123356/features/ecenter_porta_123356_1530708197.499682_TOP_FRONT_EventResolved.jpg.feature.coco\n",
      "skipped /home/wc-gpu/MasterThesis/session_data/123356/features/ecenter_porta_123356_1530708209.477012_TOP_FRONT_EventResolved.jpg.feature.coco\n",
      "skipped /home/wc-gpu/MasterThesis/session_data/123356/features/ecenter_porta_123356_1530708251.297213_TOP_FRONT_EventResolved.jpg.feature.coco\n",
      "skipped /home/wc-gpu/MasterThesis/session_data/123356/features/ecenter_porta_123356_1530708310.740189_TOP_FRONT_EventResolved.jpg.feature.coco\n",
      "skipped /home/wc-gpu/MasterThesis/session_data/123356/features/ecenter_porta_123356_1530708414.080513_TOP_FRONT_EventResolved.jpg.feature.coco\n",
      "skipped /home/wc-gpu/MasterThesis/session_data/123356/features/ecenter_porta_123356_1530708549.808531_TOP_FRONT_EventResolved.jpg.feature.coco\n",
      "skipped /home/wc-gpu/MasterThesis/session_data/123356/features/ecenter_porta_123356_1530708560.650941_TOP_FRONT_EventResolved.jpg.feature.coco\n",
      "skipped /home/wc-gpu/MasterThesis/session_data/123356/features/ecenter_porta_123356_1530708586.355343_TOP_FRONT_EventResolved.jpg.feature.coco\n",
      "skipped /home/wc-gpu/MasterThesis/session_data/123356/features/ecenter_porta_123356_1530708633.839259_TOP_FRONT_EventResolved.jpg.feature.coco\n",
      "skipped /home/wc-gpu/MasterThesis/session_data/123356/features/ecenter_porta_123356_1530708710.920888_TOP_FRONT_EventResolved.jpg.feature.coco\n",
      "skipped /home/wc-gpu/MasterThesis/session_data/123356/features/ecenter_porta_123356_1530708727.183330_TOP_FRONT_EventResolved.jpg.feature.coco\n",
      "skipped /home/wc-gpu/MasterThesis/session_data/123356/features/ecenter_porta_123356_1530708751.630135_TOP_FRONT_EventResolved.jpg.feature.coco\n",
      "skipped /home/wc-gpu/MasterThesis/session_data/123356/features/ecenter_porta_123356_1530708758.633617_TOP_FRONT_EventResolved.jpg.feature.coco\n",
      "skipped /home/wc-gpu/MasterThesis/session_data/123356/features/ecenter_porta_123356_1530708809.933494_TOP_FRONT_EventResolved.jpg.feature.coco\n",
      "skipped /home/wc-gpu/MasterThesis/session_data/123356/features/ecenter_porta_123356_1530708935.540650_TOP_FRONT_EventResolved.jpg.feature.coco\n",
      "skipped /home/wc-gpu/MasterThesis/session_data/123356/features/ecenter_porta_123356_1530708953.891996_TOP_FRONT_EventResolved.jpg.feature.coco\n",
      "skipped /home/wc-gpu/MasterThesis/session_data/123356/features/ecenter_porta_123356_1530708959.958112_TOP_FRONT_EventResolved.jpg.feature.coco\n",
      "skipped /home/wc-gpu/MasterThesis/session_data/123356/features/ecenter_porta_123356_1530709159.315648_TOP_FRONT_EventResolved.jpg.feature.coco\n",
      "skipped /home/wc-gpu/MasterThesis/session_data/123356/features/ecenter_porta_123356_1530709212.978710_TOP_FRONT_EventResolved.jpg.feature.coco\n",
      "skipped /home/wc-gpu/MasterThesis/session_data/123356/features/ecenter_porta_123356_1530709216.630762_TOP_FRONT_EventResolved.jpg.feature.coco\n",
      "skipped /home/wc-gpu/MasterThesis/session_data/123355/features/ecenter_porta_123355_1530707135.597600_TOP_FRONT_EventResolved.jpg.feature.coco\n",
      "skipped /home/wc-gpu/MasterThesis/session_data/123355/features/ecenter_porta_123355_1530707162.092591_TOP_FRONT_EventResolved.jpg.feature.coco\n",
      "skipped /home/wc-gpu/MasterThesis/session_data/123355/features/ecenter_porta_123355_1530707349.685756_TOP_FRONT_EventResolved.jpg.feature.coco\n",
      "skipped /home/wc-gpu/MasterThesis/session_data/123355/features/ecenter_porta_123355_1530707410.939596_TOP_FRONT_EventResolved.jpg.feature.coco\n",
      "skipped /home/wc-gpu/MasterThesis/session_data/123355/features/ecenter_porta_123355_1530707443.972639_TOP_FRONT_EventResolved.jpg.feature.coco\n",
      "skipped /home/wc-gpu/MasterThesis/session_data/123355/features/ecenter_porta_123355_1530707483.220328_TOP_FRONT_EventResolved.jpg.feature.coco\n",
      "skipped /home/wc-gpu/MasterThesis/session_data/123355/features/ecenter_porta_123355_1530707566.652483_TOP_FRONT_EventResolved.jpg.feature.coco\n",
      "skipped /home/wc-gpu/MasterThesis/session_data/123355/features/ecenter_porta_123355_1530707571.802346_TOP_FRONT_EventResolved.jpg.feature.coco\n",
      "skipped /home/wc-gpu/MasterThesis/session_data/123355/features/ecenter_porta_123355_1530707576.202904_TOP_FRONT_EventResolved.jpg.feature.coco\n",
      "skipped /home/wc-gpu/MasterThesis/session_data/123355/features/ecenter_porta_123355_1530707617.144775_TOP_FRONT_EventResolved.jpg.feature.coco\n",
      "skipped /home/wc-gpu/MasterThesis/session_data/123355/features/ecenter_porta_123355_1530707690.253859_TOP_FRONT_EventResolved.jpg.feature.coco\n",
      "skipped /home/wc-gpu/MasterThesis/session_data/123355/features/ecenter_porta_123355_1530707768.040193_TOP_FRONT_EventResolved.jpg.feature.coco\n",
      "skipped /home/wc-gpu/MasterThesis/session_data/123355/features/ecenter_porta_123355_1530707769.639328_TOP_FRONT_EventResolved.jpg.feature.coco\n",
      "skipped /home/wc-gpu/MasterThesis/session_data/123355/features/ecenter_porta_123355_1530707832.669151_TOP_FRONT_EventResolved.jpg.feature.coco\n",
      "skipped /home/wc-gpu/MasterThesis/session_data/123355/features/ecenter_porta_123355_1530707833.864271_TOP_FRONT_EventResolved.jpg.feature.coco\n",
      "skipped /home/wc-gpu/MasterThesis/session_data/123355/features/ecenter_porta_123355_1530707836.833241_TOP_FRONT_EventResolved.jpg.feature.coco\n",
      "skipped /home/wc-gpu/MasterThesis/session_data/123345/features/ecenter_porta_123345_1530704934.026807_TOP_FRONT_EventResolved.jpg.feature.coco\n",
      "skipped /home/wc-gpu/MasterThesis/session_data/123345/features/ecenter_porta_123345_1530705069.773010_TOP_FRONT_EventResolved.jpg.feature.coco\n",
      "skipped /home/wc-gpu/MasterThesis/session_data/123345/features/ecenter_porta_123345_1530705095.977923_TOP_FRONT_EventResolved.jpg.feature.coco\n",
      "skipped /home/wc-gpu/MasterThesis/session_data/123345/features/ecenter_porta_123345_1530705147.216474_TOP_FRONT_EventResolved.jpg.feature.coco\n",
      "skipped /home/wc-gpu/MasterThesis/session_data/123345/features/ecenter_porta_123345_1530705153.904642_TOP_FRONT_EventResolved.jpg.feature.coco\n",
      "skipped /home/wc-gpu/MasterThesis/session_data/123345/features/ecenter_porta_123345_1530705200.065890_TOP_FRONT_EventResolved.jpg.feature.coco\n",
      "skipped /home/wc-gpu/MasterThesis/session_data/123345/features/ecenter_porta_123345_1530705224.554103_TOP_FRONT_EventResolved.jpg.feature.coco\n",
      "skipped /home/wc-gpu/MasterThesis/session_data/123345/features/ecenter_porta_123345_1530705536.534560_TOP_FRONT_EventResolved.jpg.feature.coco\n",
      "skipped /home/wc-gpu/MasterThesis/session_data/123345/features/ecenter_porta_123352_1530705756.295831_TOP_FRONT_EventResolved.jpg.feature.coco\n",
      "skipped /home/wc-gpu/MasterThesis/session_data/123345/features/ecenter_porta_123352_1530705759.285026_TOP_FRONT_EventResolved.jpg.feature.coco\n",
      "skipped /home/wc-gpu/MasterThesis/session_data/123345/features/ecenter_porta_123352_1530705762.843195_TOP_FRONT_EventResolved.jpg.feature.coco\n",
      "skipped /home/wc-gpu/MasterThesis/session_data/123345/features/ecenter_porta_123352_1530705765.457939_TOP_FRONT_EventResolved.jpg.feature.coco\n",
      "skipped /home/wc-gpu/MasterThesis/session_data/123345/features/ecenter_porta_123352_1530705768.672493_TOP_FRONT_EventResolved.jpg.feature.coco\n",
      "skipped /home/wc-gpu/MasterThesis/session_data/123345/features/ecenter_porta_123352_1530705772.274965_TOP_FRONT_EventResolved.jpg.feature.coco\n",
      "skipped /home/wc-gpu/MasterThesis/session_data/123345/features/ecenter_porta_123352_1530705776.244050_TOP_FRONT_EventResolved.jpg.feature.coco\n",
      "skipped /home/wc-gpu/MasterThesis/session_data/123330/features/ecenter_porta_123330_1530703283.001358_TOP_FRONT_EventResolved.jpg.feature.coco\n",
      "skipped /home/wc-gpu/MasterThesis/session_data/123330/features/ecenter_porta_123330_1530703401.301385_TOP_FRONT_EventResolved.jpg.feature.coco\n",
      "skipped /home/wc-gpu/MasterThesis/session_data/123330/features/ecenter_porta_123330_1530703404.685256_TOP_FRONT_EventResolved.jpg.feature.coco\n",
      "skipped /home/wc-gpu/MasterThesis/session_data/123330/features/ecenter_porta_123330_1530703407.642712_TOP_FRONT_EventResolved.jpg.feature.coco\n",
      "skipped /home/wc-gpu/MasterThesis/session_data/123330/features/ecenter_porta_123330_1530703471.198405_TOP_FRONT_EventResolved.jpg.feature.coco\n",
      "skipped /home/wc-gpu/MasterThesis/session_data/123330/features/ecenter_porta_123330_1530703475.671856_TOP_FRONT_EventResolved.jpg.feature.coco\n",
      "skipped /home/wc-gpu/MasterThesis/session_data/123330/features/ecenter_porta_123330_1530703551.027946_TOP_FRONT_EventResolved.jpg.feature.coco\n",
      "skipped /home/wc-gpu/MasterThesis/session_data/123330/features/ecenter_porta_123330_1530703790.885279_TOP_FRONT_EventResolved.jpg.feature.coco\n",
      "skipped /home/wc-gpu/MasterThesis/session_data/123330/features/ecenter_porta_123330_1530703794.568061_TOP_FRONT_EventResolved.jpg.feature.coco\n",
      "skipped /home/wc-gpu/MasterThesis/session_data/123330/features/ecenter_porta_123330_1530703907.847257_TOP_FRONT_EventResolved.jpg.feature.coco\n",
      "skipped /home/wc-gpu/MasterThesis/session_data/123330/features/ecenter_porta_123330_1530704030.267978_TOP_FRONT_EventResolved.jpg.feature.coco\n",
      "skipped /home/wc-gpu/MasterThesis/session_data/123330/features/ecenter_porta_123330_1530704069.847886_TOP_FRONT_EventResolved.jpg.feature.coco\n",
      "skipped /home/wc-gpu/MasterThesis/session_data/123330/features/ecenter_porta_123330_1530704073.110327_TOP_FRONT_EventResolved.jpg.feature.coco\n",
      "skipped /home/wc-gpu/MasterThesis/session_data/123330/features/ecenter_porta_123330_1530704296.853216_TOP_FRONT_EventResolved.jpg.feature.coco\n",
      "skipped /home/wc-gpu/MasterThesis/session_data/123330/features/ecenter_porta_123330_1530704358.975269_TOP_FRONT_EventResolved.jpg.feature.coco\n",
      "skipped /home/wc-gpu/MasterThesis/session_data/123330/features/ecenter_porta_123330_1530704363.223882_TOP_FRONT_EventResolved.jpg.feature.coco\n",
      "skipped /home/wc-gpu/MasterThesis/session_data/123330/features/ecenter_porta_123330_1530704421.067142_TOP_FRONT_EventResolved.jpg.feature.coco\n",
      "skipped /home/wc-gpu/MasterThesis/session_data/123330/features/ecenter_porta_123330_1530704424.820651_TOP_FRONT_EventResolved.jpg.feature.coco\n",
      "skipped /home/wc-gpu/MasterThesis/session_data/123330/features/ecenter_porta_123330_1530704437.637993_TOP_FRONT_EventResolved.jpg.feature.coco\n",
      "skipped /home/wc-gpu/MasterThesis/session_data/123330/features/ecenter_porta_123330_1530704471.150339_TOP_FRONT_EventResolved.jpg.feature.coco\n",
      "skipped /home/wc-gpu/MasterThesis/session_data/123330/features/ecenter_porta_123330_1530704493.858852_TOP_FRONT_EventResolved.jpg.feature.coco\n",
      "skipped /home/wc-gpu/MasterThesis/session_data/123330/features/ecenter_porta_123330_1530704496.642863_TOP_FRONT_EventResolved.jpg.feature.coco\n",
      "skipped /home/wc-gpu/MasterThesis/session_data/123330/features/ecenter_porta_123330_1530704616.192716_TOP_FRONT_EventResolved.jpg.feature.coco\n",
      "skipped /home/wc-gpu/MasterThesis/session_data/123330/features/ecenter_porta_123330_1530704618.843807_TOP_FRONT_EventResolved.jpg.feature.coco\n",
      "skipped /home/wc-gpu/MasterThesis/session_data/123330/features/ecenter_porta_123330_1530704619.966937_TOP_FRONT_EventResolved.jpg.feature.coco\n",
      "skipped /home/wc-gpu/MasterThesis/session_data/123330/features/ecenter_porta_123330_1530704665.228422_TOP_FRONT_EventResolved.jpg.feature.coco\n",
      "skipped /home/wc-gpu/MasterThesis/session_data/123330/features/ecenter_porta_123330_1530704705.182725_TOP_FRONT_EventResolved.jpg.feature.coco\n",
      "skipped /home/wc-gpu/MasterThesis/session_data/123330/features/ecenter_porta_123330_1530704708.979520_TOP_FRONT_EventResolved.jpg.feature.coco\n",
      "skipped /home/wc-gpu/MasterThesis/session_data/123330/features/ecenter_porta_123330_1530704766.023268_TOP_FRONT_EventResolved.jpg.feature.coco\n",
      "skipped /home/wc-gpu/MasterThesis/session_data/123330/features/ecenter_porta_123330_1530704817.989185_TOP_FRONT_EventResolved.jpg.feature.coco\n",
      "skipped /home/wc-gpu/MasterThesis/session_data/123330/features/ecenter_porta_123330_1530705121.404247_TOP_FRONT_EventResolved.jpg.feature.coco\n",
      "skipped /home/wc-gpu/MasterThesis/session_data/123330/features/ecenter_porta_123330_1530705318.731147_TOP_FRONT_EventResolved.jpg.feature.coco\n",
      "skipped /home/wc-gpu/MasterThesis/session_data/123330/features/ecenter_porta_123330_1530705379.870429_TOP_FRONT_EventResolved.jpg.feature.coco\n",
      "skipped /home/wc-gpu/MasterThesis/session_data/123330/features/ecenter_porta_123330_1530705381.682067_TOP_FRONT_EventResolved.jpg.feature.coco\n",
      "skipped /home/wc-gpu/MasterThesis/session_data/123329/features/ecenter_porta_123329_1530702853.730938_TOP_FRONT_EventResolved.jpg.feature.coco\n",
      "skipped /home/wc-gpu/MasterThesis/session_data/123329/features/ecenter_porta_123329_1530702886.075624_TOP_FRONT_EventResolved.jpg.feature.coco\n",
      "skipped /home/wc-gpu/MasterThesis/session_data/123329/features/ecenter_porta_123329_1530702988.738348_TOP_FRONT_EventResolved.jpg.feature.coco\n",
      "skipped /home/wc-gpu/MasterThesis/session_data/123329/features/ecenter_porta_123329_1530702992.025238_TOP_FRONT_EventResolved.jpg.feature.coco\n",
      "skipped /home/wc-gpu/MasterThesis/session_data/123329/features/ecenter_porta_123329_1530703030.311821_TOP_FRONT_EventResolved.jpg.feature.coco\n",
      "skipped /home/wc-gpu/MasterThesis/session_data/123329/features/ecenter_porta_123329_1530703051.177358_TOP_FRONT_EventResolved.jpg.feature.coco\n",
      "skipped /home/wc-gpu/MasterThesis/session_data/123329/features/ecenter_porta_123329_1530703173.396131_TOP_FRONT_EventResolved.jpg.feature.coco\n",
      "skipped /home/wc-gpu/MasterThesis/session_data/123329/features/ecenter_porta_123329_1530703460.168191_TOP_FRONT_EventResolved.jpg.feature.coco\n",
      "skipped /home/wc-gpu/MasterThesis/session_data/123329/features/ecenter_porta_123329_1530703503.768676_TOP_FRONT_EventResolved.jpg.feature.coco\n",
      "skipped /home/wc-gpu/MasterThesis/session_data/123329/features/ecenter_porta_123329_1530703522.678466_TOP_FRONT_EventResolved.jpg.feature.coco\n",
      "skipped /home/wc-gpu/MasterThesis/session_data/123329/features/ecenter_porta_123329_1530703529.303745_TOP_FRONT_EventResolved.jpg.feature.coco\n",
      "skipped /home/wc-gpu/MasterThesis/session_data/123329/features/ecenter_porta_123329_1530703538.254757_TOP_FRONT_EventResolved.jpg.feature.coco\n",
      "skipped /home/wc-gpu/MasterThesis/session_data/123329/features/ecenter_porta_123329_1530703541.597983_TOP_FRONT_EventResolved.jpg.feature.coco\n",
      "skipped /home/wc-gpu/MasterThesis/session_data/123329/features/ecenter_porta_123329_1530703559.222944_TOP_FRONT_EventResolved.jpg.feature.coco\n",
      "skipped /home/wc-gpu/MasterThesis/session_data/123329/features/ecenter_porta_123329_1530703562.636631_TOP_FRONT_EventResolved.jpg.feature.coco\n",
      "skipped /home/wc-gpu/MasterThesis/session_data/123329/features/ecenter_porta_123329_1530703593.777502_TOP_FRONT_EventResolved.jpg.feature.coco\n",
      "skipped /home/wc-gpu/MasterThesis/session_data/123329/features/ecenter_porta_123329_1530703596.681376_TOP_FRONT_EventResolved.jpg.feature.coco\n",
      "skipped /home/wc-gpu/MasterThesis/session_data/123329/features/ecenter_porta_123329_1530703671.779015_TOP_FRONT_EventResolved.jpg.feature.coco\n",
      "skipped /home/wc-gpu/MasterThesis/session_data/123329/features/ecenter_porta_123329_1530703765.710911_TOP_FRONT_EventResolved.jpg.feature.coco\n",
      "skipped /home/wc-gpu/MasterThesis/session_data/123307/features/ecenter_porta_123307_1530699784.558398_TOP_FRONT_EventResolved.jpg.feature.coco\n",
      "skipped /home/wc-gpu/MasterThesis/session_data/123307/features/ecenter_porta_123307_1530699823.042003_TOP_FRONT_EventResolved.jpg.feature.coco\n",
      "skipped /home/wc-gpu/MasterThesis/session_data/123307/features/ecenter_porta_123307_1530699873.296401_TOP_FRONT_EventResolved.jpg.feature.coco\n",
      "skipped /home/wc-gpu/MasterThesis/session_data/123307/features/ecenter_porta_123307_1530699913.921813_TOP_FRONT_EventResolved.jpg.feature.coco\n",
      "skipped /home/wc-gpu/MasterThesis/session_data/123307/features/ecenter_porta_123307_1530699918.967251_TOP_FRONT_EventResolved.jpg.feature.coco\n",
      "skipped /home/wc-gpu/MasterThesis/session_data/123307/features/ecenter_porta_123307_1530699967.307999_TOP_FRONT_EventResolved.jpg.feature.coco\n",
      "skipped /home/wc-gpu/MasterThesis/session_data/123307/features/ecenter_porta_123307_1530699994.909495_TOP_FRONT_EventResolved.jpg.feature.coco\n",
      "skipped /home/wc-gpu/MasterThesis/session_data/123307/features/ecenter_porta_123307_1530700051.019790_TOP_FRONT_EventResolved.jpg.feature.coco\n",
      "skipped /home/wc-gpu/MasterThesis/session_data/123303/features/ecenter_porta_123303_1530698296.164860_TOP_FRONT_EventResolved.jpg.feature.coco\n",
      "skipped /home/wc-gpu/MasterThesis/session_data/123303/features/ecenter_porta_123303_1530698590.434157_TOP_FRONT_EventResolved.jpg.feature.coco\n",
      "skipped /home/wc-gpu/MasterThesis/session_data/123303/features/ecenter_porta_123303_1530698599.267118_TOP_FRONT_EventResolved.jpg.feature.coco\n",
      "skipped /home/wc-gpu/MasterThesis/session_data/123303/features/ecenter_porta_123303_1530698622.504273_TOP_FRONT_EventResolved.jpg.feature.coco\n",
      "skipped /home/wc-gpu/MasterThesis/session_data/123303/features/ecenter_porta_123303_1530698807.388499_TOP_FRONT_EventResolved.jpg.feature.coco\n",
      "skipped /home/wc-gpu/MasterThesis/session_data/123303/features/ecenter_porta_123303_1530698839.276520_TOP_FRONT_EventResolved.jpg.feature.coco\n",
      "skipped /home/wc-gpu/MasterThesis/session_data/123303/features/ecenter_porta_123303_1530698933.618585_TOP_FRONT_EventResolved.jpg.feature.coco\n",
      "skipped /home/wc-gpu/MasterThesis/session_data/123303/features/ecenter_porta_123303_1530698993.764645_TOP_FRONT_EventResolved.jpg.feature.coco\n",
      "skipped /home/wc-gpu/MasterThesis/session_data/123300/features/ecenter_porta_123300_1530697529.554118_TOP_FRONT_EventResolved.jpg.feature.coco\n",
      "skipped /home/wc-gpu/MasterThesis/session_data/123300/features/ecenter_porta_123300_1530697618.577589_TOP_FRONT_EventResolved.jpg.feature.coco\n",
      "skipped /home/wc-gpu/MasterThesis/session_data/123300/features/ecenter_porta_123300_1530697895.311737_TOP_FRONT_EventResolved.jpg.feature.coco\n",
      "skipped /home/wc-gpu/MasterThesis/session_data/123300/features/ecenter_porta_123300_1530698030.965252_TOP_FRONT_EventResolved.jpg.feature.coco\n",
      "skipped /home/wc-gpu/MasterThesis/session_data/123300/features/ecenter_porta_123300_1530698395.741128_TOP_FRONT_EventResolved.jpg.feature.coco\n",
      "skipped /home/wc-gpu/MasterThesis/session_data/123300/features/ecenter_porta_123300_1530698463.323350_TOP_FRONT_EventResolved.jpg.feature.coco\n",
      "skipped /home/wc-gpu/MasterThesis/session_data/123300/features/ecenter_porta_123300_1530698563.265531_TOP_FRONT_EventResolved.jpg.feature.coco\n",
      "skipped /home/wc-gpu/MasterThesis/session_data/123292/features/ecenter_porta_123292_1530695927.495363_TOP_FRONT_EventResolved.jpg.feature.coco\n",
      "skipped /home/wc-gpu/MasterThesis/session_data/123292/features/ecenter_porta_123292_1530696054.944979_TOP_FRONT_EventResolved.jpg.feature.coco\n",
      "skipped /home/wc-gpu/MasterThesis/session_data/123292/features/ecenter_porta_123292_1530696573.953144_TOP_FRONT_EventResolved.jpg.feature.coco\n",
      "skipped /home/wc-gpu/MasterThesis/session_data/123292/features/ecenter_porta_123292_1530696683.889934_TOP_FRONT_EventResolved.jpg.feature.coco\n",
      "skipped /home/wc-gpu/MasterThesis/session_data/123292/features/ecenter_porta_123292_1530697194.412405_TOP_FRONT_EventResolved.jpg.feature.coco\n",
      "skipped /home/wc-gpu/MasterThesis/session_data/123292/features/ecenter_porta_123292_1530697247.160826_TOP_FRONT_EventResolved.jpg.feature.coco\n",
      "skipped /home/wc-gpu/MasterThesis/session_data/123292/features/ecenter_porta_123292_1530697789.545359_TOP_FRONT_EventResolved.jpg.feature.coco\n",
      "skipped /home/wc-gpu/MasterThesis/session_data/123292/features/ecenter_porta_123292_1530697830.438210_TOP_FRONT_EventResolved.jpg.feature.coco\n",
      "skipped /home/wc-gpu/MasterThesis/session_data/123292/features/ecenter_porta_123292_1530697835.110947_TOP_FRONT_EventResolved.jpg.feature.coco\n",
      "skipped /home/wc-gpu/MasterThesis/session_data/123292/features/ecenter_porta_123292_1530697933.676939_TOP_FRONT_EventResolved.jpg.feature.coco\n",
      "skipped /home/wc-gpu/MasterThesis/session_data/123291/features/ecenter_porta_123291_1530696392.678009_TOP_FRONT_EventResolved.jpg.feature.coco\n",
      "skipped /home/wc-gpu/MasterThesis/session_data/123291/features/ecenter_porta_123291_1530696400.018650_TOP_FRONT_EventResolved.jpg.feature.coco\n",
      "skipped /home/wc-gpu/MasterThesis/session_data/123291/features/ecenter_porta_123291_1530696409.522900_TOP_FRONT_EventResolved.jpg.feature.coco\n",
      "skipped /home/wc-gpu/MasterThesis/session_data/123291/features/ecenter_porta_123291_1530696410.683669_TOP_FRONT_EventResolved.jpg.feature.coco\n",
      "skipped /home/wc-gpu/MasterThesis/session_data/123291/features/ecenter_porta_123291_1530696417.544908_TOP_FRONT_EventResolved.jpg.feature.coco\n",
      "skipped /home/wc-gpu/MasterThesis/session_data/123291/features/ecenter_porta_123291_1530696422.650446_TOP_FRONT_EventResolved.jpg.feature.coco\n",
      "skipped /home/wc-gpu/MasterThesis/session_data/123291/features/ecenter_porta_123291_1530696423.891217_TOP_FRONT_EventResolved.jpg.feature.coco\n",
      "skipped /home/wc-gpu/MasterThesis/session_data/123291/features/ecenter_porta_123291_1530697003.541674_TOP_FRONT_EventResolved.jpg.feature.coco\n",
      "skipped /home/wc-gpu/MasterThesis/session_data/123291/features/ecenter_porta_123291_1530697171.155650_TOP_FRONT_EventResolved.jpg.feature.coco\n",
      "skipped /home/wc-gpu/MasterThesis/session_data/123291/features/ecenter_porta_123291_1530697176.810655_TOP_FRONT_EventResolved.jpg.feature.coco\n",
      "skipped /home/wc-gpu/MasterThesis/session_data/123291/features/ecenter_porta_123291_1530697178.181600_TOP_FRONT_EventResolved.jpg.feature.coco\n",
      "skipped /home/wc-gpu/MasterThesis/session_data/123291/features/ecenter_porta_123291_1530697232.142664_TOP_FRONT_EventResolved.jpg.feature.coco\n",
      "skipped /home/wc-gpu/MasterThesis/session_data/123288/features/ecenter_porta_123288_1530695132.271499_TOP_FRONT_EventResolved.jpg.feature.coco\n",
      "skipped /home/wc-gpu/MasterThesis/session_data/123288/features/ecenter_porta_123288_1530695297.216878_TOP_FRONT_EventResolved.jpg.feature.coco\n",
      "skipped /home/wc-gpu/MasterThesis/session_data/123288/features/ecenter_porta_123288_1530695332.709656_TOP_FRONT_EventResolved.jpg.feature.coco\n",
      "skipped /home/wc-gpu/MasterThesis/session_data/123288/features/ecenter_porta_123288_1530695529.283302_TOP_FRONT_EventResolved.jpg.feature.coco\n",
      "skipped /home/wc-gpu/MasterThesis/session_data/123288/features/ecenter_porta_123288_1530695600.881216_TOP_FRONT_EventResolved.jpg.feature.coco\n",
      "skipped /home/wc-gpu/MasterThesis/session_data/123288/features/ecenter_porta_123288_1530695635.870752_TOP_FRONT_EventResolved.jpg.feature.coco\n",
      "skipped /home/wc-gpu/MasterThesis/session_data/123288/features/ecenter_porta_123288_1530695787.560023_TOP_FRONT_EventResolved.jpg.feature.coco\n",
      "skipped /home/wc-gpu/MasterThesis/session_data/123288/features/ecenter_porta_123288_1530695791.277927_TOP_FRONT_EventResolved.jpg.feature.coco\n",
      "skipped /home/wc-gpu/MasterThesis/session_data/123288/features/ecenter_porta_123288_1530695792.811068_TOP_FRONT_EventResolved.jpg.feature.coco\n",
      "skipped /home/wc-gpu/MasterThesis/session_data/123288/features/ecenter_porta_123288_1530695793.845085_TOP_FRONT_EventResolved.jpg.feature.coco\n",
      "skipped /home/wc-gpu/MasterThesis/session_data/123288/features/ecenter_porta_123288_1530695869.554473_TOP_FRONT_EventResolved.jpg.feature.coco\n",
      "skipped /home/wc-gpu/MasterThesis/session_data/123288/features/ecenter_porta_123288_1530695958.939513_TOP_FRONT_EventResolved.jpg.feature.coco\n",
      "skipped /home/wc-gpu/MasterThesis/session_data/123288/features/ecenter_porta_123288_1530696010.588272_TOP_FRONT_EventResolved.jpg.feature.coco\n",
      "skipped /home/wc-gpu/MasterThesis/session_data/123288/features/ecenter_porta_123288_1530696077.636379_TOP_FRONT_EventResolved.jpg.feature.coco\n",
      "skipped /home/wc-gpu/MasterThesis/session_data/123288/features/ecenter_porta_123288_1530696236.219233_TOP_FRONT_EventResolved.jpg.feature.coco\n",
      "skipped /home/wc-gpu/MasterThesis/session_data/123288/features/ecenter_porta_123288_1530696239.682282_TOP_FRONT_EventResolved.jpg.feature.coco\n",
      "skipped /home/wc-gpu/MasterThesis/session_data/123288/features/ecenter_porta_123288_1530696241.342164_TOP_FRONT_EventResolved.jpg.feature.coco\n",
      "skipped /home/wc-gpu/MasterThesis/session_data/123288/features/ecenter_porta_123288_1530696323.163859_TOP_FRONT_EventResolved.jpg.feature.coco\n",
      "skipped /home/wc-gpu/MasterThesis/session_data/123288/features/ecenter_porta_123288_1530696326.567238_TOP_FRONT_EventResolved.jpg.feature.coco\n",
      "skipped /home/wc-gpu/MasterThesis/session_data/123288/features/ecenter_porta_123288_1530696623.117894_TOP_FRONT_EventResolved.jpg.feature.coco\n",
      "skipped /home/wc-gpu/MasterThesis/session_data/123288/features/ecenter_porta_123288_1530696790.633017_TOP_FRONT_EventResolved.jpg.feature.coco\n",
      "skipped /home/wc-gpu/MasterThesis/session_data/123288/features/ecenter_porta_123288_1530696879.400585_TOP_FRONT_EventResolved.jpg.feature.coco\n",
      "skipped /home/wc-gpu/MasterThesis/session_data/123282/features/ecenter_porta_123282_1530693800.259128_TOP_FRONT_EventResolved.jpg.feature.coco\n",
      "skipped /home/wc-gpu/MasterThesis/session_data/123282/features/ecenter_porta_123282_1530693816.004537_TOP_FRONT_EventResolved.jpg.feature.coco\n",
      "skipped /home/wc-gpu/MasterThesis/session_data/123282/features/ecenter_porta_123282_1530693818.846365_TOP_FRONT_EventResolved.jpg.feature.coco\n",
      "skipped /home/wc-gpu/MasterThesis/session_data/123282/features/ecenter_porta_123282_1530693826.613388_TOP_FRONT_EventResolved.jpg.feature.coco\n",
      "skipped /home/wc-gpu/MasterThesis/session_data/123282/features/ecenter_porta_123282_1530694006.054790_TOP_FRONT_EventResolved.jpg.feature.coco\n",
      "skipped /home/wc-gpu/MasterThesis/session_data/123282/features/ecenter_porta_123282_1530694009.728108_TOP_FRONT_EventResolved.jpg.feature.coco\n",
      "skipped /home/wc-gpu/MasterThesis/session_data/123282/features/ecenter_porta_123282_1530694019.914941_TOP_FRONT_EventResolved.jpg.feature.coco\n",
      "skipped /home/wc-gpu/MasterThesis/session_data/123282/features/ecenter_porta_123282_1530694068.947511_TOP_FRONT_EventResolved.jpg.feature.coco\n",
      "skipped /home/wc-gpu/MasterThesis/session_data/123282/features/ecenter_porta_123282_1530694115.391527_TOP_FRONT_EventResolved.jpg.feature.coco\n",
      "skipped /home/wc-gpu/MasterThesis/session_data/123282/features/ecenter_porta_123282_1530694129.231324_TOP_FRONT_EventResolved.jpg.feature.coco\n",
      "skipped /home/wc-gpu/MasterThesis/session_data/123282/features/ecenter_porta_123282_1530694178.303641_TOP_FRONT_EventResolved.jpg.feature.coco\n",
      "skipped /home/wc-gpu/MasterThesis/session_data/123282/features/ecenter_porta_123282_1530694199.097257_TOP_FRONT_EventResolved.jpg.feature.coco\n",
      "skipped /home/wc-gpu/MasterThesis/session_data/123282/features/ecenter_porta_123282_1530694202.110053_TOP_FRONT_EventResolved.jpg.feature.coco\n",
      "skipped /home/wc-gpu/MasterThesis/session_data/123282/features/ecenter_porta_123282_1530694203.266163_TOP_FRONT_EventResolved.jpg.feature.coco\n",
      "skipped /home/wc-gpu/MasterThesis/session_data/123282/features/ecenter_porta_123282_1530694206.570451_TOP_FRONT_EventResolved.jpg.feature.coco\n",
      "skipped /home/wc-gpu/MasterThesis/session_data/123282/features/ecenter_porta_123282_1530694218.818605_TOP_FRONT_EventResolved.jpg.feature.coco\n",
      "skipped /home/wc-gpu/MasterThesis/session_data/123282/features/ecenter_porta_123282_1530694272.870874_TOP_FRONT_EventResolved.jpg.feature.coco\n",
      "skipped /home/wc-gpu/MasterThesis/session_data/123282/features/ecenter_porta_123282_1530694321.118143_TOP_FRONT_EventResolved.jpg.feature.coco\n",
      "skipped /home/wc-gpu/MasterThesis/session_data/123282/features/ecenter_porta_123282_1530694366.115492_TOP_FRONT_EventResolved.jpg.feature.coco\n",
      "skipped /home/wc-gpu/MasterThesis/session_data/123282/features/ecenter_porta_123282_1530694425.729989_TOP_FRONT_EventResolved.jpg.feature.coco\n",
      "skipped /home/wc-gpu/MasterThesis/session_data/123282/features/ecenter_porta_123282_1530694434.544106_TOP_FRONT_EventResolved.jpg.feature.coco\n",
      "skipped /home/wc-gpu/MasterThesis/session_data/123282/features/ecenter_porta_123282_1530694443.939204_TOP_FRONT_EventResolved.jpg.feature.coco\n",
      "skipped /home/wc-gpu/MasterThesis/session_data/123282/features/ecenter_porta_123282_1530694538.734461_TOP_FRONT_EventResolved.jpg.feature.coco\n",
      "skipped /home/wc-gpu/MasterThesis/session_data/123282/features/ecenter_porta_123282_1530694553.167487_TOP_FRONT_EventResolved.jpg.feature.coco\n",
      "skipped /home/wc-gpu/MasterThesis/session_data/123282/features/ecenter_porta_123282_1530694556.591053_TOP_FRONT_EventResolved.jpg.feature.coco\n",
      "skipped /home/wc-gpu/MasterThesis/session_data/123282/features/ecenter_porta_123282_1530694588.743681_TOP_FRONT_EventResolved.jpg.feature.coco\n",
      "skipped /home/wc-gpu/MasterThesis/session_data/123282/features/ecenter_porta_123282_1530694591.964870_TOP_FRONT_EventResolved.jpg.feature.coco\n",
      "skipped /home/wc-gpu/MasterThesis/session_data/123282/features/ecenter_porta_123282_1530694592.961379_TOP_FRONT_EventResolved.jpg.feature.coco\n",
      "skipped /home/wc-gpu/MasterThesis/session_data/123282/features/ecenter_porta_123282_1530694610.483360_TOP_FRONT_EventResolved.jpg.feature.coco\n",
      "skipped /home/wc-gpu/MasterThesis/session_data/123282/features/ecenter_porta_123282_1530694616.807595_TOP_FRONT_EventResolved.jpg.feature.coco\n",
      "skipped /home/wc-gpu/MasterThesis/session_data/123282/features/ecenter_porta_123282_1530694751.907464_TOP_FRONT_EventResolved.jpg.feature.coco\n",
      "skipped /home/wc-gpu/MasterThesis/session_data/123282/features/ecenter_porta_123282_1530694754.279579_TOP_FRONT_EventResolved.jpg.feature.coco\n",
      "skipped /home/wc-gpu/MasterThesis/session_data/123272/features/ecenter_porta_123272_1530690503.723295_TOP_FRONT_EventResolved.jpg.feature.coco\n",
      "skipped /home/wc-gpu/MasterThesis/session_data/123272/features/ecenter_porta_123272_1530690731.667341_TOP_FRONT_EventResolved.jpg.feature.coco\n",
      "skipped /home/wc-gpu/MasterThesis/session_data/123272/features/ecenter_porta_123272_1530690739.015007_TOP_FRONT_EventResolved.jpg.feature.coco\n",
      "skipped /home/wc-gpu/MasterThesis/session_data/123272/features/ecenter_porta_123272_1530690784.372758_TOP_FRONT_EventResolved.jpg.feature.coco\n",
      "skipped /home/wc-gpu/MasterThesis/session_data/123272/features/ecenter_porta_123272_1530690942.595582_TOP_FRONT_EventResolved.jpg.feature.coco\n",
      "skipped /home/wc-gpu/MasterThesis/session_data/123272/features/ecenter_porta_123272_1530691036.169012_TOP_FRONT_EventResolved.jpg.feature.coco\n",
      "skipped /home/wc-gpu/MasterThesis/session_data/123272/features/ecenter_porta_123272_1530691038.694978_TOP_FRONT_EventResolved.jpg.feature.coco\n",
      "skipped /home/wc-gpu/MasterThesis/session_data/123272/features/ecenter_porta_123272_1530692015.449209_TOP_FRONT_EventResolved.jpg.feature.coco\n",
      "skipped /home/wc-gpu/MasterThesis/session_data/123272/features/ecenter_porta_123272_1530692020.962074_TOP_FRONT_EventResolved.jpg.feature.coco\n",
      "skipped /home/wc-gpu/MasterThesis/session_data/123272/features/ecenter_porta_123272_1530692024.730968_TOP_FRONT_EventResolved.jpg.feature.coco\n",
      "skipped /home/wc-gpu/MasterThesis/session_data/123271/features/ecenter_porta_123271_1530690540.812926_TOP_FRONT_EventResolved.jpg.feature.coco\n",
      "skipped /home/wc-gpu/MasterThesis/session_data/123271/features/ecenter_porta_123271_1530690568.805335_TOP_FRONT_EventResolved.jpg.feature.coco\n",
      "skipped /home/wc-gpu/MasterThesis/session_data/123271/features/ecenter_porta_123271_1530690606.976467_TOP_FRONT_EventResolved.jpg.feature.coco\n",
      "skipped /home/wc-gpu/MasterThesis/session_data/123271/features/ecenter_porta_123271_1530690673.372340_TOP_FRONT_EventResolved.jpg.feature.coco\n",
      "skipped /home/wc-gpu/MasterThesis/session_data/123271/features/ecenter_porta_123271_1530690677.222550_TOP_FRONT_EventResolved.jpg.feature.coco\n",
      "skipped /home/wc-gpu/MasterThesis/session_data/123271/features/ecenter_porta_123271_1530690717.456388_TOP_FRONT_EventResolved.jpg.feature.coco\n",
      "skipped /home/wc-gpu/MasterThesis/session_data/123271/features/ecenter_porta_123271_1530690774.448107_TOP_FRONT_EventResolved.jpg.feature.coco\n",
      "skipped /home/wc-gpu/MasterThesis/session_data/123271/features/ecenter_porta_123271_1530690854.031768_TOP_FRONT_EventResolved.jpg.feature.coco\n",
      "skipped /home/wc-gpu/MasterThesis/session_data/123271/features/ecenter_porta_123271_1530690870.694904_TOP_FRONT_EventResolved.jpg.feature.coco\n",
      "skipped /home/wc-gpu/MasterThesis/session_data/123271/features/ecenter_porta_123271_1530690928.068713_TOP_FRONT_EventResolved.jpg.feature.coco\n",
      "skipped /home/wc-gpu/MasterThesis/session_data/123271/features/ecenter_porta_123271_1530691001.898181_TOP_FRONT_EventResolved.jpg.feature.coco\n",
      "skipped /home/wc-gpu/MasterThesis/session_data/123271/features/ecenter_porta_123271_1530691048.617502_TOP_FRONT_EventResolved.jpg.feature.coco\n",
      "skipped /home/wc-gpu/MasterThesis/session_data/123271/features/ecenter_porta_123271_1530691116.419277_TOP_FRONT_EventResolved.jpg.feature.coco\n",
      "skipped /home/wc-gpu/MasterThesis/session_data/123271/features/ecenter_porta_123271_1530691119.929288_TOP_FRONT_EventResolved.jpg.feature.coco\n",
      "skipped /home/wc-gpu/MasterThesis/session_data/123271/features/ecenter_porta_123271_1530691161.485826_TOP_FRONT_EventResolved.jpg.feature.coco\n",
      "skipped /home/wc-gpu/MasterThesis/session_data/123271/features/ecenter_porta_123271_1530691202.405516_TOP_FRONT_EventResolved.jpg.feature.coco\n",
      "skipped /home/wc-gpu/MasterThesis/session_data/123271/features/ecenter_porta_123271_1530691244.541146_TOP_FRONT_EventResolved.jpg.feature.coco\n",
      "skipped /home/wc-gpu/MasterThesis/session_data/123271/features/ecenter_porta_123271_1530691262.175731_TOP_FRONT_EventResolved.jpg.feature.coco\n",
      "skipped /home/wc-gpu/MasterThesis/session_data/123271/features/ecenter_porta_123271_1530691272.013855_TOP_FRONT_EventResolved.jpg.feature.coco\n",
      "skipped /home/wc-gpu/MasterThesis/session_data/123271/features/ecenter_porta_123271_1530691319.570382_TOP_FRONT_EventResolved.jpg.feature.coco\n",
      "skipped /home/wc-gpu/MasterThesis/session_data/123271/features/ecenter_porta_123271_1530691331.024677_TOP_FRONT_EventResolved.jpg.feature.coco\n",
      "skipped /home/wc-gpu/MasterThesis/session_data/123271/features/ecenter_porta_123271_1530691338.825485_TOP_FRONT_EventResolved.jpg.feature.coco\n",
      "skipped /home/wc-gpu/MasterThesis/session_data/123271/features/ecenter_porta_123271_1530691352.113255_TOP_FRONT_EventResolved.jpg.feature.coco\n",
      "skipped /home/wc-gpu/MasterThesis/session_data/123271/features/ecenter_porta_123271_1530691354.700206_TOP_FRONT_EventResolved.jpg.feature.coco\n",
      "skipped /home/wc-gpu/MasterThesis/session_data/123262/features/ecenter_porta_123262_1530688217.502279_TOP_FRONT_EventResolved.jpg.feature.coco\n",
      "skipped /home/wc-gpu/MasterThesis/session_data/123262/features/ecenter_porta_123262_1530688352.046978_TOP_FRONT_EventResolved.jpg.feature.coco\n",
      "skipped /home/wc-gpu/MasterThesis/session_data/123262/features/ecenter_porta_123262_1530688638.419791_TOP_FRONT_EventResolved.jpg.feature.coco\n",
      "skipped /home/wc-gpu/MasterThesis/session_data/123262/features/ecenter_porta_123262_1530688651.323756_TOP_FRONT_EventResolved.jpg.feature.coco\n",
      "skipped /home/wc-gpu/MasterThesis/session_data/123238/features/ecenter_porta_123238_1530636461.399764_TOP_FRONT_EventResolved.jpg.feature.coco\n",
      "skipped /home/wc-gpu/MasterThesis/session_data/123238/features/ecenter_porta_123238_1530636584.893807_TOP_FRONT_EventResolved.jpg.feature.coco\n",
      "skipped /home/wc-gpu/MasterThesis/session_data/123238/features/ecenter_porta_123238_1530636750.383158_TOP_FRONT_EventResolved.jpg.feature.coco\n",
      "skipped /home/wc-gpu/MasterThesis/session_data/123238/features/ecenter_porta_123238_1530636817.270340_TOP_FRONT_EventResolved.jpg.feature.coco\n",
      "skipped /home/wc-gpu/MasterThesis/session_data/123238/features/ecenter_porta_123238_1530636827.613371_TOP_FRONT_EventResolved.jpg.feature.coco\n",
      "skipped /home/wc-gpu/MasterThesis/session_data/123238/features/ecenter_porta_123238_1530636875.885787_TOP_FRONT_EventResolved.jpg.feature.coco\n",
      "skipped /home/wc-gpu/MasterThesis/session_data/123238/features/ecenter_porta_123238_1530636943.231296_TOP_FRONT_EventResolved.jpg.feature.coco\n",
      "skipped /home/wc-gpu/MasterThesis/session_data/123238/features/ecenter_porta_123238_1530637073.954804_TOP_FRONT_EventResolved.jpg.feature.coco\n",
      "skipped /home/wc-gpu/MasterThesis/session_data/123238/features/ecenter_porta_123238_1530637196.312488_TOP_FRONT_EventResolved.jpg.feature.coco\n",
      "skipped /home/wc-gpu/MasterThesis/session_data/123238/features/ecenter_porta_123238_1530637222.981677_TOP_FRONT_EventResolved.jpg.feature.coco\n",
      "skipped /home/wc-gpu/MasterThesis/session_data/123238/features/ecenter_porta_123238_1530637260.658097_TOP_FRONT_EventResolved.jpg.feature.coco\n",
      "skipped /home/wc-gpu/MasterThesis/session_data/123238/features/ecenter_porta_123238_1530637315.138421_TOP_FRONT_EventResolved.jpg.feature.coco\n",
      "skipped /home/wc-gpu/MasterThesis/session_data/123238/features/ecenter_porta_123238_1530637457.161356_TOP_FRONT_EventResolved.jpg.feature.coco\n",
      "skipped /home/wc-gpu/MasterThesis/session_data/123238/features/ecenter_porta_123238_1530637606.112339_TOP_FRONT_EventResolved.jpg.feature.coco\n",
      "skipped /home/wc-gpu/MasterThesis/session_data/123238/features/ecenter_porta_123238_1530637695.632289_TOP_FRONT_EventResolved.jpg.feature.coco\n",
      "skipped /home/wc-gpu/MasterThesis/session_data/123238/features/ecenter_porta_123238_1530637958.167814_TOP_FRONT_EventResolved.jpg.feature.coco\n",
      "skipped /home/wc-gpu/MasterThesis/session_data/123238/features/ecenter_porta_123238_1530637959.827288_TOP_FRONT_EventResolved.jpg.feature.coco\n",
      "skipped /home/wc-gpu/MasterThesis/session_data/123238/features/ecenter_porta_123238_1530638038.251235_TOP_FRONT_EventResolved.jpg.feature.coco\n",
      "skipped /home/wc-gpu/MasterThesis/session_data/123238/features/ecenter_porta_123238_1530638041.051808_TOP_FRONT_EventResolved.jpg.feature.coco\n",
      "skipped /home/wc-gpu/MasterThesis/session_data/123238/features/ecenter_porta_123238_1530638124.169677_TOP_FRONT_EventResolved.jpg.feature.coco\n",
      "skipped /home/wc-gpu/MasterThesis/session_data/123238/features/ecenter_porta_123238_1530638142.577881_TOP_FRONT_EventResolved.jpg.feature.coco\n",
      "skipped /home/wc-gpu/MasterThesis/session_data/123238/features/ecenter_porta_123238_1530638147.145502_TOP_FRONT_EventResolved.jpg.feature.coco\n",
      "skipped /home/wc-gpu/MasterThesis/session_data/123238/features/ecenter_porta_123238_1530638212.059906_TOP_FRONT_EventResolved.jpg.feature.coco\n",
      "skipped /home/wc-gpu/MasterThesis/session_data/123238/features/ecenter_porta_123238_1530638237.733501_TOP_FRONT_EventResolved.jpg.feature.coco\n",
      "skipped /home/wc-gpu/MasterThesis/session_data/123238/features/ecenter_porta_123238_1530638240.934380_TOP_FRONT_EventResolved.jpg.feature.coco\n",
      "skipped /home/wc-gpu/MasterThesis/session_data/123238/features/ecenter_porta_123238_1530638271.633207_TOP_FRONT_EventResolved.jpg.feature.coco\n",
      "skipped /home/wc-gpu/MasterThesis/session_data/123238/features/ecenter_porta_123238_1530638274.187081_TOP_FRONT_EventResolved.jpg.feature.coco\n",
      "skipped /home/wc-gpu/MasterThesis/session_data/123238/features/ecenter_porta_123238_1530638459.829877_TOP_FRONT_EventResolved.jpg.feature.coco\n",
      "skipped /home/wc-gpu/MasterThesis/session_data/123238/features/ecenter_porta_123238_1530638585.181948_TOP_FRONT_EventResolved.jpg.feature.coco\n",
      "skipped /home/wc-gpu/MasterThesis/session_data/123238/features/ecenter_porta_123238_1530638649.985251_TOP_FRONT_EventResolved.jpg.feature.coco\n",
      "skipped /home/wc-gpu/MasterThesis/session_data/123238/features/ecenter_porta_123238_1530638669.978580_TOP_FRONT_EventResolved.jpg.feature.coco\n",
      "skipped /home/wc-gpu/MasterThesis/session_data/123238/features/ecenter_porta_123238_1530638849.659867_TOP_FRONT_EventResolved.jpg.feature.coco\n",
      "skipped /home/wc-gpu/MasterThesis/session_data/123238/features/ecenter_porta_123238_1530638889.914561_TOP_FRONT_EventResolved.jpg.feature.coco\n",
      "skipped /home/wc-gpu/MasterThesis/session_data/123234/features/ecenter_porta_123234_1530635013.487680_TOP_FRONT_EventResolved.jpg.feature.coco\n",
      "skipped /home/wc-gpu/MasterThesis/session_data/123234/features/ecenter_porta_123234_1530635085.243322_TOP_FRONT_EventResolved.jpg.feature.coco\n",
      "skipped /home/wc-gpu/MasterThesis/session_data/123234/features/ecenter_porta_123234_1530635124.358135_TOP_FRONT_EventResolved.jpg.feature.coco\n",
      "skipped /home/wc-gpu/MasterThesis/session_data/123234/features/ecenter_porta_123234_1530635148.506670_TOP_FRONT_EventResolved.jpg.feature.coco\n"
     ]
    },
    {
     "name": "stdout",
     "output_type": "stream",
     "text": [
      "INFO:tensorflow:Scale of 0 disables regularizer.\n"
     ]
    },
    {
     "name": "stderr",
     "output_type": "stream",
     "text": [
      "I0110 22:01:22.214964 139750346217216 tf_logging.py:115] Scale of 0 disables regularizer.\n"
     ]
    },
    {
     "name": "stdout",
     "output_type": "stream",
     "text": [
      "INFO:tensorflow:Scale of 0 disables regularizer.\n"
     ]
    },
    {
     "name": "stderr",
     "output_type": "stream",
     "text": [
      "I0110 22:01:24.680183 139750346217216 tf_logging.py:115] Scale of 0 disables regularizer.\n"
     ]
    },
    {
     "name": "stdout",
     "output_type": "stream",
     "text": [
      "INFO:tensorflow:Scale of 0 disables regularizer.\n"
     ]
    },
    {
     "name": "stderr",
     "output_type": "stream",
     "text": [
      "I0110 22:01:27.035282 139750346217216 tf_logging.py:115] Scale of 0 disables regularizer.\n"
     ]
    },
    {
     "name": "stdout",
     "output_type": "stream",
     "text": [
      "INFO:tensorflow:Scale of 0 disables regularizer.\n"
     ]
    },
    {
     "name": "stderr",
     "output_type": "stream",
     "text": [
      "I0110 22:01:29.490114 139750346217216 tf_logging.py:115] Scale of 0 disables regularizer.\n"
     ]
    },
    {
     "name": "stdout",
     "output_type": "stream",
     "text": [
      "INFO:tensorflow:Scale of 0 disables regularizer.\n"
     ]
    },
    {
     "name": "stderr",
     "output_type": "stream",
     "text": [
      "I0110 22:01:31.949216 139750346217216 tf_logging.py:115] Scale of 0 disables regularizer.\n"
     ]
    },
    {
     "name": "stdout",
     "output_type": "stream",
     "text": [
      "INFO:tensorflow:Scale of 0 disables regularizer.\n"
     ]
    },
    {
     "name": "stderr",
     "output_type": "stream",
     "text": [
      "I0110 22:01:34.424843 139750346217216 tf_logging.py:115] Scale of 0 disables regularizer.\n"
     ]
    },
    {
     "name": "stdout",
     "output_type": "stream",
     "text": [
      "INFO:tensorflow:Scale of 0 disables regularizer.\n"
     ]
    },
    {
     "name": "stderr",
     "output_type": "stream",
     "text": [
      "I0110 22:01:36.823426 139750346217216 tf_logging.py:115] Scale of 0 disables regularizer.\n"
     ]
    },
    {
     "name": "stdout",
     "output_type": "stream",
     "text": [
      "INFO:tensorflow:Scale of 0 disables regularizer.\n"
     ]
    },
    {
     "name": "stderr",
     "output_type": "stream",
     "text": [
      "I0110 22:01:39.281586 139750346217216 tf_logging.py:115] Scale of 0 disables regularizer.\n"
     ]
    },
    {
     "name": "stdout",
     "output_type": "stream",
     "text": [
      "INFO:tensorflow:Scale of 0 disables regularizer.\n"
     ]
    },
    {
     "name": "stderr",
     "output_type": "stream",
     "text": [
      "I0110 22:01:41.740662 139750346217216 tf_logging.py:115] Scale of 0 disables regularizer.\n"
     ]
    },
    {
     "name": "stdout",
     "output_type": "stream",
     "text": [
      "INFO:tensorflow:Scale of 0 disables regularizer.\n"
     ]
    },
    {
     "name": "stderr",
     "output_type": "stream",
     "text": [
      "I0110 22:01:44.200651 139750346217216 tf_logging.py:115] Scale of 0 disables regularizer.\n"
     ]
    },
    {
     "name": "stdout",
     "output_type": "stream",
     "text": [
      "INFO:tensorflow:Scale of 0 disables regularizer.\n"
     ]
    },
    {
     "name": "stderr",
     "output_type": "stream",
     "text": [
      "I0110 22:01:46.590040 139750346217216 tf_logging.py:115] Scale of 0 disables regularizer.\n"
     ]
    },
    {
     "name": "stdout",
     "output_type": "stream",
     "text": [
      "INFO:tensorflow:Scale of 0 disables regularizer.\n"
     ]
    },
    {
     "name": "stderr",
     "output_type": "stream",
     "text": [
      "I0110 22:01:49.029967 139750346217216 tf_logging.py:115] Scale of 0 disables regularizer.\n"
     ]
    },
    {
     "name": "stdout",
     "output_type": "stream",
     "text": [
      "INFO:tensorflow:Scale of 0 disables regularizer.\n"
     ]
    },
    {
     "name": "stderr",
     "output_type": "stream",
     "text": [
      "I0110 22:01:51.473948 139750346217216 tf_logging.py:115] Scale of 0 disables regularizer.\n"
     ]
    },
    {
     "name": "stdout",
     "output_type": "stream",
     "text": [
      "INFO:tensorflow:Scale of 0 disables regularizer.\n"
     ]
    },
    {
     "name": "stderr",
     "output_type": "stream",
     "text": [
      "I0110 22:01:53.921720 139750346217216 tf_logging.py:115] Scale of 0 disables regularizer.\n"
     ]
    },
    {
     "name": "stdout",
     "output_type": "stream",
     "text": [
      "INFO:tensorflow:Scale of 0 disables regularizer.\n"
     ]
    },
    {
     "name": "stderr",
     "output_type": "stream",
     "text": [
      "I0110 22:01:56.370980 139750346217216 tf_logging.py:115] Scale of 0 disables regularizer.\n"
     ]
    },
    {
     "name": "stdout",
     "output_type": "stream",
     "text": [
      "INFO:tensorflow:Scale of 0 disables regularizer.\n"
     ]
    },
    {
     "name": "stderr",
     "output_type": "stream",
     "text": [
      "I0110 22:01:58.759742 139750346217216 tf_logging.py:115] Scale of 0 disables regularizer.\n"
     ]
    },
    {
     "name": "stdout",
     "output_type": "stream",
     "text": [
      "INFO:tensorflow:Scale of 0 disables regularizer.\n"
     ]
    },
    {
     "name": "stderr",
     "output_type": "stream",
     "text": [
      "I0110 22:02:01.238260 139750346217216 tf_logging.py:115] Scale of 0 disables regularizer.\n"
     ]
    },
    {
     "name": "stdout",
     "output_type": "stream",
     "text": [
      "INFO:tensorflow:Scale of 0 disables regularizer.\n"
     ]
    },
    {
     "name": "stderr",
     "output_type": "stream",
     "text": [
      "I0110 22:02:03.684466 139750346217216 tf_logging.py:115] Scale of 0 disables regularizer.\n"
     ]
    },
    {
     "name": "stdout",
     "output_type": "stream",
     "text": [
      "INFO:tensorflow:Scale of 0 disables regularizer.\n"
     ]
    },
    {
     "name": "stderr",
     "output_type": "stream",
     "text": [
      "I0110 22:02:06.136999 139750346217216 tf_logging.py:115] Scale of 0 disables regularizer.\n"
     ]
    },
    {
     "name": "stdout",
     "output_type": "stream",
     "text": [
      "INFO:tensorflow:Scale of 0 disables regularizer.\n"
     ]
    },
    {
     "name": "stderr",
     "output_type": "stream",
     "text": [
      "I0110 22:02:08.526013 139750346217216 tf_logging.py:115] Scale of 0 disables regularizer.\n"
     ]
    },
    {
     "name": "stdout",
     "output_type": "stream",
     "text": [
      "INFO:tensorflow:Scale of 0 disables regularizer.\n"
     ]
    },
    {
     "name": "stderr",
     "output_type": "stream",
     "text": [
      "I0110 22:02:11.010200 139750346217216 tf_logging.py:115] Scale of 0 disables regularizer.\n"
     ]
    },
    {
     "name": "stdout",
     "output_type": "stream",
     "text": [
      "INFO:tensorflow:Scale of 0 disables regularizer.\n"
     ]
    },
    {
     "name": "stderr",
     "output_type": "stream",
     "text": [
      "I0110 22:02:13.459739 139750346217216 tf_logging.py:115] Scale of 0 disables regularizer.\n"
     ]
    },
    {
     "name": "stdout",
     "output_type": "stream",
     "text": [
      "INFO:tensorflow:Scale of 0 disables regularizer.\n"
     ]
    },
    {
     "name": "stderr",
     "output_type": "stream",
     "text": [
      "I0110 22:02:15.917057 139750346217216 tf_logging.py:115] Scale of 0 disables regularizer.\n"
     ]
    },
    {
     "name": "stdout",
     "output_type": "stream",
     "text": [
      "INFO:tensorflow:Scale of 0 disables regularizer.\n"
     ]
    },
    {
     "name": "stderr",
     "output_type": "stream",
     "text": [
      "I0110 22:02:18.433199 139750346217216 tf_logging.py:115] Scale of 0 disables regularizer.\n"
     ]
    },
    {
     "name": "stdout",
     "output_type": "stream",
     "text": [
      "INFO:tensorflow:Scale of 0 disables regularizer.\n"
     ]
    },
    {
     "name": "stderr",
     "output_type": "stream",
     "text": [
      "I0110 22:02:20.829279 139750346217216 tf_logging.py:115] Scale of 0 disables regularizer.\n"
     ]
    },
    {
     "name": "stdout",
     "output_type": "stream",
     "text": [
      "INFO:tensorflow:Scale of 0 disables regularizer.\n"
     ]
    },
    {
     "name": "stderr",
     "output_type": "stream",
     "text": [
      "I0110 22:02:23.295460 139750346217216 tf_logging.py:115] Scale of 0 disables regularizer.\n"
     ]
    },
    {
     "name": "stdout",
     "output_type": "stream",
     "text": [
      "INFO:tensorflow:Scale of 0 disables regularizer.\n"
     ]
    },
    {
     "name": "stderr",
     "output_type": "stream",
     "text": [
      "I0110 22:02:25.723026 139750346217216 tf_logging.py:115] Scale of 0 disables regularizer.\n"
     ]
    },
    {
     "name": "stdout",
     "output_type": "stream",
     "text": [
      "INFO:tensorflow:Scale of 0 disables regularizer.\n"
     ]
    },
    {
     "name": "stderr",
     "output_type": "stream",
     "text": [
      "I0110 22:02:28.183357 139750346217216 tf_logging.py:115] Scale of 0 disables regularizer.\n"
     ]
    },
    {
     "name": "stdout",
     "output_type": "stream",
     "text": [
      "INFO:tensorflow:Scale of 0 disables regularizer.\n"
     ]
    },
    {
     "name": "stderr",
     "output_type": "stream",
     "text": [
      "I0110 22:02:30.562416 139750346217216 tf_logging.py:115] Scale of 0 disables regularizer.\n"
     ]
    },
    {
     "name": "stdout",
     "output_type": "stream",
     "text": [
      "INFO:tensorflow:Scale of 0 disables regularizer.\n"
     ]
    },
    {
     "name": "stderr",
     "output_type": "stream",
     "text": [
      "I0110 22:02:33.004094 139750346217216 tf_logging.py:115] Scale of 0 disables regularizer.\n"
     ]
    },
    {
     "name": "stdout",
     "output_type": "stream",
     "text": [
      "INFO:tensorflow:Scale of 0 disables regularizer.\n"
     ]
    },
    {
     "name": "stderr",
     "output_type": "stream",
     "text": [
      "I0110 22:02:35.511127 139750346217216 tf_logging.py:115] Scale of 0 disables regularizer.\n"
     ]
    },
    {
     "name": "stdout",
     "output_type": "stream",
     "text": [
      "INFO:tensorflow:Scale of 0 disables regularizer.\n"
     ]
    },
    {
     "name": "stderr",
     "output_type": "stream",
     "text": [
      "I0110 22:02:37.972222 139750346217216 tf_logging.py:115] Scale of 0 disables regularizer.\n"
     ]
    },
    {
     "name": "stdout",
     "output_type": "stream",
     "text": [
      "INFO:tensorflow:Scale of 0 disables regularizer.\n"
     ]
    },
    {
     "name": "stderr",
     "output_type": "stream",
     "text": [
      "I0110 22:02:40.399681 139750346217216 tf_logging.py:115] Scale of 0 disables regularizer.\n"
     ]
    },
    {
     "name": "stdout",
     "output_type": "stream",
     "text": [
      "INFO:tensorflow:Scale of 0 disables regularizer.\n"
     ]
    },
    {
     "name": "stderr",
     "output_type": "stream",
     "text": [
      "I0110 22:02:42.848140 139750346217216 tf_logging.py:115] Scale of 0 disables regularizer.\n"
     ]
    },
    {
     "name": "stdout",
     "output_type": "stream",
     "text": [
      "INFO:tensorflow:Scale of 0 disables regularizer.\n"
     ]
    },
    {
     "name": "stderr",
     "output_type": "stream",
     "text": [
      "I0110 22:02:45.280416 139750346217216 tf_logging.py:115] Scale of 0 disables regularizer.\n"
     ]
    },
    {
     "name": "stdout",
     "output_type": "stream",
     "text": [
      "INFO:tensorflow:Scale of 0 disables regularizer.\n"
     ]
    },
    {
     "name": "stderr",
     "output_type": "stream",
     "text": [
      "I0110 22:02:47.743477 139750346217216 tf_logging.py:115] Scale of 0 disables regularizer.\n"
     ]
    },
    {
     "name": "stdout",
     "output_type": "stream",
     "text": [
      "INFO:tensorflow:Scale of 0 disables regularizer.\n"
     ]
    },
    {
     "name": "stderr",
     "output_type": "stream",
     "text": [
      "I0110 22:02:50.232497 139750346217216 tf_logging.py:115] Scale of 0 disables regularizer.\n"
     ]
    },
    {
     "name": "stdout",
     "output_type": "stream",
     "text": [
      "INFO:tensorflow:Scale of 0 disables regularizer.\n"
     ]
    },
    {
     "name": "stderr",
     "output_type": "stream",
     "text": [
      "I0110 22:02:52.639640 139750346217216 tf_logging.py:115] Scale of 0 disables regularizer.\n"
     ]
    },
    {
     "name": "stdout",
     "output_type": "stream",
     "text": [
      "INFO:tensorflow:Scale of 0 disables regularizer.\n"
     ]
    },
    {
     "name": "stderr",
     "output_type": "stream",
     "text": [
      "I0110 22:02:55.102862 139750346217216 tf_logging.py:115] Scale of 0 disables regularizer.\n"
     ]
    },
    {
     "name": "stdout",
     "output_type": "stream",
     "text": [
      "INFO:tensorflow:Scale of 0 disables regularizer.\n"
     ]
    },
    {
     "name": "stderr",
     "output_type": "stream",
     "text": [
      "I0110 22:02:57.612336 139750346217216 tf_logging.py:115] Scale of 0 disables regularizer.\n"
     ]
    },
    {
     "name": "stdout",
     "output_type": "stream",
     "text": [
      "INFO:tensorflow:Scale of 0 disables regularizer.\n"
     ]
    },
    {
     "name": "stderr",
     "output_type": "stream",
     "text": [
      "I0110 22:03:00.064649 139750346217216 tf_logging.py:115] Scale of 0 disables regularizer.\n"
     ]
    },
    {
     "name": "stdout",
     "output_type": "stream",
     "text": [
      "INFO:tensorflow:Scale of 0 disables regularizer.\n"
     ]
    },
    {
     "name": "stderr",
     "output_type": "stream",
     "text": [
      "I0110 22:03:02.500131 139750346217216 tf_logging.py:115] Scale of 0 disables regularizer.\n"
     ]
    },
    {
     "name": "stdout",
     "output_type": "stream",
     "text": [
      "INFO:tensorflow:Scale of 0 disables regularizer.\n"
     ]
    },
    {
     "name": "stderr",
     "output_type": "stream",
     "text": [
      "I0110 22:03:04.953560 139750346217216 tf_logging.py:115] Scale of 0 disables regularizer.\n"
     ]
    },
    {
     "name": "stdout",
     "output_type": "stream",
     "text": [
      "INFO:tensorflow:Scale of 0 disables regularizer.\n"
     ]
    },
    {
     "name": "stderr",
     "output_type": "stream",
     "text": [
      "I0110 22:03:07.407139 139750346217216 tf_logging.py:115] Scale of 0 disables regularizer.\n"
     ]
    },
    {
     "name": "stdout",
     "output_type": "stream",
     "text": [
      "INFO:tensorflow:Scale of 0 disables regularizer.\n"
     ]
    },
    {
     "name": "stderr",
     "output_type": "stream",
     "text": [
      "I0110 22:03:09.864442 139750346217216 tf_logging.py:115] Scale of 0 disables regularizer.\n"
     ]
    },
    {
     "name": "stdout",
     "output_type": "stream",
     "text": [
      "INFO:tensorflow:Scale of 0 disables regularizer.\n"
     ]
    },
    {
     "name": "stderr",
     "output_type": "stream",
     "text": [
      "I0110 22:03:12.341503 139750346217216 tf_logging.py:115] Scale of 0 disables regularizer.\n"
     ]
    },
    {
     "name": "stdout",
     "output_type": "stream",
     "text": [
      "INFO:tensorflow:Scale of 0 disables regularizer.\n"
     ]
    },
    {
     "name": "stderr",
     "output_type": "stream",
     "text": [
      "I0110 22:03:14.735470 139750346217216 tf_logging.py:115] Scale of 0 disables regularizer.\n"
     ]
    },
    {
     "name": "stdout",
     "output_type": "stream",
     "text": [
      "INFO:tensorflow:Scale of 0 disables regularizer.\n"
     ]
    },
    {
     "name": "stderr",
     "output_type": "stream",
     "text": [
      "I0110 22:03:17.195475 139750346217216 tf_logging.py:115] Scale of 0 disables regularizer.\n"
     ]
    },
    {
     "name": "stdout",
     "output_type": "stream",
     "text": [
      "INFO:tensorflow:Scale of 0 disables regularizer.\n"
     ]
    },
    {
     "name": "stderr",
     "output_type": "stream",
     "text": [
      "I0110 22:03:19.673291 139750346217216 tf_logging.py:115] Scale of 0 disables regularizer.\n"
     ]
    },
    {
     "name": "stdout",
     "output_type": "stream",
     "text": [
      "INFO:tensorflow:Scale of 0 disables regularizer.\n"
     ]
    },
    {
     "name": "stderr",
     "output_type": "stream",
     "text": [
      "I0110 22:03:22.128567 139750346217216 tf_logging.py:115] Scale of 0 disables regularizer.\n"
     ]
    },
    {
     "name": "stdout",
     "output_type": "stream",
     "text": [
      "INFO:tensorflow:Scale of 0 disables regularizer.\n"
     ]
    },
    {
     "name": "stderr",
     "output_type": "stream",
     "text": [
      "I0110 22:03:24.558977 139750346217216 tf_logging.py:115] Scale of 0 disables regularizer.\n"
     ]
    },
    {
     "name": "stdout",
     "output_type": "stream",
     "text": [
      "INFO:tensorflow:Scale of 0 disables regularizer.\n"
     ]
    },
    {
     "name": "stderr",
     "output_type": "stream",
     "text": [
      "I0110 22:03:27.004965 139750346217216 tf_logging.py:115] Scale of 0 disables regularizer.\n"
     ]
    },
    {
     "name": "stdout",
     "output_type": "stream",
     "text": [
      "INFO:tensorflow:Scale of 0 disables regularizer.\n"
     ]
    },
    {
     "name": "stderr",
     "output_type": "stream",
     "text": [
      "I0110 22:03:29.447628 139750346217216 tf_logging.py:115] Scale of 0 disables regularizer.\n"
     ]
    },
    {
     "name": "stdout",
     "output_type": "stream",
     "text": [
      "INFO:tensorflow:Scale of 0 disables regularizer.\n"
     ]
    },
    {
     "name": "stderr",
     "output_type": "stream",
     "text": [
      "I0110 22:03:31.904404 139750346217216 tf_logging.py:115] Scale of 0 disables regularizer.\n"
     ]
    },
    {
     "name": "stdout",
     "output_type": "stream",
     "text": [
      "INFO:tensorflow:Scale of 0 disables regularizer.\n"
     ]
    },
    {
     "name": "stderr",
     "output_type": "stream",
     "text": [
      "I0110 22:03:34.293458 139750346217216 tf_logging.py:115] Scale of 0 disables regularizer.\n"
     ]
    },
    {
     "name": "stdout",
     "output_type": "stream",
     "text": [
      "INFO:tensorflow:Scale of 0 disables regularizer.\n"
     ]
    },
    {
     "name": "stderr",
     "output_type": "stream",
     "text": [
      "I0110 22:03:36.744690 139750346217216 tf_logging.py:115] Scale of 0 disables regularizer.\n"
     ]
    },
    {
     "name": "stdout",
     "output_type": "stream",
     "text": [
      "INFO:tensorflow:Scale of 0 disables regularizer.\n"
     ]
    },
    {
     "name": "stderr",
     "output_type": "stream",
     "text": [
      "I0110 22:03:39.193227 139750346217216 tf_logging.py:115] Scale of 0 disables regularizer.\n"
     ]
    },
    {
     "name": "stdout",
     "output_type": "stream",
     "text": [
      "INFO:tensorflow:Scale of 0 disables regularizer.\n"
     ]
    },
    {
     "name": "stderr",
     "output_type": "stream",
     "text": [
      "I0110 22:03:41.664336 139750346217216 tf_logging.py:115] Scale of 0 disables regularizer.\n"
     ]
    },
    {
     "name": "stdout",
     "output_type": "stream",
     "text": [
      "INFO:tensorflow:Scale of 0 disables regularizer.\n"
     ]
    },
    {
     "name": "stderr",
     "output_type": "stream",
     "text": [
      "I0110 22:03:44.128635 139750346217216 tf_logging.py:115] Scale of 0 disables regularizer.\n"
     ]
    },
    {
     "name": "stdout",
     "output_type": "stream",
     "text": [
      "INFO:tensorflow:Scale of 0 disables regularizer.\n"
     ]
    },
    {
     "name": "stderr",
     "output_type": "stream",
     "text": [
      "I0110 22:03:46.521914 139750346217216 tf_logging.py:115] Scale of 0 disables regularizer.\n"
     ]
    },
    {
     "name": "stdout",
     "output_type": "stream",
     "text": [
      "INFO:tensorflow:Scale of 0 disables regularizer.\n"
     ]
    },
    {
     "name": "stderr",
     "output_type": "stream",
     "text": [
      "I0110 22:03:48.975802 139750346217216 tf_logging.py:115] Scale of 0 disables regularizer.\n"
     ]
    },
    {
     "name": "stdout",
     "output_type": "stream",
     "text": [
      "INFO:tensorflow:Scale of 0 disables regularizer.\n"
     ]
    },
    {
     "name": "stderr",
     "output_type": "stream",
     "text": [
      "I0110 22:03:51.432872 139750346217216 tf_logging.py:115] Scale of 0 disables regularizer.\n"
     ]
    },
    {
     "name": "stdout",
     "output_type": "stream",
     "text": [
      "INFO:tensorflow:Scale of 0 disables regularizer.\n"
     ]
    },
    {
     "name": "stderr",
     "output_type": "stream",
     "text": [
      "I0110 22:03:53.904107 139750346217216 tf_logging.py:115] Scale of 0 disables regularizer.\n"
     ]
    },
    {
     "name": "stdout",
     "output_type": "stream",
     "text": [
      "INFO:tensorflow:Scale of 0 disables regularizer.\n"
     ]
    },
    {
     "name": "stderr",
     "output_type": "stream",
     "text": [
      "I0110 22:03:56.305191 139750346217216 tf_logging.py:115] Scale of 0 disables regularizer.\n"
     ]
    },
    {
     "name": "stdout",
     "output_type": "stream",
     "text": [
      "INFO:tensorflow:Scale of 0 disables regularizer.\n"
     ]
    },
    {
     "name": "stderr",
     "output_type": "stream",
     "text": [
      "I0110 22:03:58.766119 139750346217216 tf_logging.py:115] Scale of 0 disables regularizer.\n"
     ]
    },
    {
     "name": "stdout",
     "output_type": "stream",
     "text": [
      "INFO:tensorflow:Scale of 0 disables regularizer.\n"
     ]
    },
    {
     "name": "stderr",
     "output_type": "stream",
     "text": [
      "I0110 22:04:01.218616 139750346217216 tf_logging.py:115] Scale of 0 disables regularizer.\n"
     ]
    },
    {
     "name": "stdout",
     "output_type": "stream",
     "text": [
      "INFO:tensorflow:Scale of 0 disables regularizer.\n"
     ]
    },
    {
     "name": "stderr",
     "output_type": "stream",
     "text": [
      "I0110 22:04:03.715414 139750346217216 tf_logging.py:115] Scale of 0 disables regularizer.\n"
     ]
    },
    {
     "name": "stdout",
     "output_type": "stream",
     "text": [
      "INFO:tensorflow:Scale of 0 disables regularizer.\n"
     ]
    },
    {
     "name": "stderr",
     "output_type": "stream",
     "text": [
      "I0110 22:04:06.169329 139750346217216 tf_logging.py:115] Scale of 0 disables regularizer.\n"
     ]
    },
    {
     "name": "stdout",
     "output_type": "stream",
     "text": [
      "INFO:tensorflow:Scale of 0 disables regularizer.\n"
     ]
    },
    {
     "name": "stderr",
     "output_type": "stream",
     "text": [
      "I0110 22:04:08.557220 139750346217216 tf_logging.py:115] Scale of 0 disables regularizer.\n"
     ]
    },
    {
     "name": "stdout",
     "output_type": "stream",
     "text": [
      "INFO:tensorflow:Scale of 0 disables regularizer.\n"
     ]
    },
    {
     "name": "stderr",
     "output_type": "stream",
     "text": [
      "I0110 22:04:11.021316 139750346217216 tf_logging.py:115] Scale of 0 disables regularizer.\n"
     ]
    },
    {
     "name": "stdout",
     "output_type": "stream",
     "text": [
      "INFO:tensorflow:Scale of 0 disables regularizer.\n"
     ]
    },
    {
     "name": "stderr",
     "output_type": "stream",
     "text": [
      "I0110 22:04:13.562067 139750346217216 tf_logging.py:115] Scale of 0 disables regularizer.\n"
     ]
    },
    {
     "name": "stdout",
     "output_type": "stream",
     "text": [
      "INFO:tensorflow:Scale of 0 disables regularizer.\n"
     ]
    },
    {
     "name": "stderr",
     "output_type": "stream",
     "text": [
      "I0110 22:04:16.021669 139750346217216 tf_logging.py:115] Scale of 0 disables regularizer.\n"
     ]
    },
    {
     "name": "stdout",
     "output_type": "stream",
     "text": [
      "INFO:tensorflow:Scale of 0 disables regularizer.\n"
     ]
    },
    {
     "name": "stderr",
     "output_type": "stream",
     "text": [
      "I0110 22:04:18.413449 139750346217216 tf_logging.py:115] Scale of 0 disables regularizer.\n"
     ]
    },
    {
     "name": "stdout",
     "output_type": "stream",
     "text": [
      "INFO:tensorflow:Scale of 0 disables regularizer.\n"
     ]
    },
    {
     "name": "stderr",
     "output_type": "stream",
     "text": [
      "I0110 22:04:20.858064 139750346217216 tf_logging.py:115] Scale of 0 disables regularizer.\n"
     ]
    },
    {
     "name": "stdout",
     "output_type": "stream",
     "text": [
      "INFO:tensorflow:Scale of 0 disables regularizer.\n"
     ]
    },
    {
     "name": "stderr",
     "output_type": "stream",
     "text": [
      "I0110 22:04:23.321628 139750346217216 tf_logging.py:115] Scale of 0 disables regularizer.\n"
     ]
    },
    {
     "name": "stdout",
     "output_type": "stream",
     "text": [
      "INFO:tensorflow:Scale of 0 disables regularizer.\n"
     ]
    },
    {
     "name": "stderr",
     "output_type": "stream",
     "text": [
      "I0110 22:04:25.784452 139750346217216 tf_logging.py:115] Scale of 0 disables regularizer.\n"
     ]
    },
    {
     "name": "stdout",
     "output_type": "stream",
     "text": [
      "INFO:tensorflow:Scale of 0 disables regularizer.\n"
     ]
    },
    {
     "name": "stderr",
     "output_type": "stream",
     "text": [
      "I0110 22:04:28.187037 139750346217216 tf_logging.py:115] Scale of 0 disables regularizer.\n"
     ]
    },
    {
     "name": "stdout",
     "output_type": "stream",
     "text": [
      "INFO:tensorflow:Scale of 0 disables regularizer.\n"
     ]
    },
    {
     "name": "stderr",
     "output_type": "stream",
     "text": [
      "I0110 22:04:30.654611 139750346217216 tf_logging.py:115] Scale of 0 disables regularizer.\n"
     ]
    },
    {
     "name": "stdout",
     "output_type": "stream",
     "text": [
      "INFO:tensorflow:Scale of 0 disables regularizer.\n"
     ]
    },
    {
     "name": "stderr",
     "output_type": "stream",
     "text": [
      "I0110 22:04:33.144453 139750346217216 tf_logging.py:115] Scale of 0 disables regularizer.\n"
     ]
    },
    {
     "name": "stdout",
     "output_type": "stream",
     "text": [
      "INFO:tensorflow:Scale of 0 disables regularizer.\n"
     ]
    },
    {
     "name": "stderr",
     "output_type": "stream",
     "text": [
      "I0110 22:04:35.593089 139750346217216 tf_logging.py:115] Scale of 0 disables regularizer.\n"
     ]
    },
    {
     "name": "stdout",
     "output_type": "stream",
     "text": [
      "INFO:tensorflow:Scale of 0 disables regularizer.\n"
     ]
    },
    {
     "name": "stderr",
     "output_type": "stream",
     "text": [
      "I0110 22:04:38.058124 139750346217216 tf_logging.py:115] Scale of 0 disables regularizer.\n"
     ]
    },
    {
     "name": "stdout",
     "output_type": "stream",
     "text": [
      "INFO:tensorflow:Scale of 0 disables regularizer.\n"
     ]
    },
    {
     "name": "stderr",
     "output_type": "stream",
     "text": [
      "I0110 22:04:40.447184 139750346217216 tf_logging.py:115] Scale of 0 disables regularizer.\n"
     ]
    },
    {
     "name": "stdout",
     "output_type": "stream",
     "text": [
      "INFO:tensorflow:Scale of 0 disables regularizer.\n"
     ]
    },
    {
     "name": "stderr",
     "output_type": "stream",
     "text": [
      "I0110 22:04:42.953991 139750346217216 tf_logging.py:115] Scale of 0 disables regularizer.\n"
     ]
    },
    {
     "name": "stdout",
     "output_type": "stream",
     "text": [
      "INFO:tensorflow:Scale of 0 disables regularizer.\n"
     ]
    },
    {
     "name": "stderr",
     "output_type": "stream",
     "text": [
      "I0110 22:04:45.405108 139750346217216 tf_logging.py:115] Scale of 0 disables regularizer.\n"
     ]
    },
    {
     "name": "stdout",
     "output_type": "stream",
     "text": [
      "INFO:tensorflow:Scale of 0 disables regularizer.\n"
     ]
    },
    {
     "name": "stderr",
     "output_type": "stream",
     "text": [
      "I0110 22:04:47.853974 139750346217216 tf_logging.py:115] Scale of 0 disables regularizer.\n"
     ]
    },
    {
     "name": "stdout",
     "output_type": "stream",
     "text": [
      "INFO:tensorflow:Scale of 0 disables regularizer.\n"
     ]
    },
    {
     "name": "stderr",
     "output_type": "stream",
     "text": [
      "I0110 22:04:50.234031 139750346217216 tf_logging.py:115] Scale of 0 disables regularizer.\n"
     ]
    },
    {
     "name": "stdout",
     "output_type": "stream",
     "text": [
      "INFO:tensorflow:Scale of 0 disables regularizer.\n"
     ]
    },
    {
     "name": "stderr",
     "output_type": "stream",
     "text": [
      "I0110 22:04:52.700151 139750346217216 tf_logging.py:115] Scale of 0 disables regularizer.\n"
     ]
    },
    {
     "name": "stdout",
     "output_type": "stream",
     "text": [
      "INFO:tensorflow:Scale of 0 disables regularizer.\n"
     ]
    },
    {
     "name": "stderr",
     "output_type": "stream",
     "text": [
      "I0110 22:04:55.154382 139750346217216 tf_logging.py:115] Scale of 0 disables regularizer.\n"
     ]
    },
    {
     "name": "stdout",
     "output_type": "stream",
     "text": [
      "INFO:tensorflow:Scale of 0 disables regularizer.\n"
     ]
    },
    {
     "name": "stderr",
     "output_type": "stream",
     "text": [
      "I0110 22:04:57.600618 139750346217216 tf_logging.py:115] Scale of 0 disables regularizer.\n"
     ]
    },
    {
     "name": "stdout",
     "output_type": "stream",
     "text": [
      "INFO:tensorflow:Scale of 0 disables regularizer.\n"
     ]
    },
    {
     "name": "stderr",
     "output_type": "stream",
     "text": [
      "I0110 22:05:00.078359 139750346217216 tf_logging.py:115] Scale of 0 disables regularizer.\n"
     ]
    },
    {
     "name": "stdout",
     "output_type": "stream",
     "text": [
      "INFO:tensorflow:Scale of 0 disables regularizer.\n"
     ]
    },
    {
     "name": "stderr",
     "output_type": "stream",
     "text": [
      "I0110 22:05:02.461509 139750346217216 tf_logging.py:115] Scale of 0 disables regularizer.\n"
     ]
    },
    {
     "name": "stdout",
     "output_type": "stream",
     "text": [
      "INFO:tensorflow:Scale of 0 disables regularizer.\n"
     ]
    },
    {
     "name": "stderr",
     "output_type": "stream",
     "text": [
      "I0110 22:05:04.913798 139750346217216 tf_logging.py:115] Scale of 0 disables regularizer.\n"
     ]
    },
    {
     "name": "stdout",
     "output_type": "stream",
     "text": [
      "INFO:tensorflow:Scale of 0 disables regularizer.\n"
     ]
    },
    {
     "name": "stderr",
     "output_type": "stream",
     "text": [
      "I0110 22:05:07.376244 139750346217216 tf_logging.py:115] Scale of 0 disables regularizer.\n"
     ]
    },
    {
     "name": "stdout",
     "output_type": "stream",
     "text": [
      "INFO:tensorflow:Scale of 0 disables regularizer.\n"
     ]
    },
    {
     "name": "stderr",
     "output_type": "stream",
     "text": [
      "I0110 22:05:09.862174 139750346217216 tf_logging.py:115] Scale of 0 disables regularizer.\n"
     ]
    },
    {
     "name": "stdout",
     "output_type": "stream",
     "text": [
      "INFO:tensorflow:Scale of 0 disables regularizer.\n"
     ]
    },
    {
     "name": "stderr",
     "output_type": "stream",
     "text": [
      "I0110 22:05:12.245694 139750346217216 tf_logging.py:115] Scale of 0 disables regularizer.\n"
     ]
    },
    {
     "name": "stdout",
     "output_type": "stream",
     "text": [
      "INFO:tensorflow:Scale of 0 disables regularizer.\n"
     ]
    },
    {
     "name": "stderr",
     "output_type": "stream",
     "text": [
      "I0110 22:05:14.686277 139750346217216 tf_logging.py:115] Scale of 0 disables regularizer.\n"
     ]
    },
    {
     "name": "stdout",
     "output_type": "stream",
     "text": [
      "INFO:tensorflow:Scale of 0 disables regularizer.\n"
     ]
    },
    {
     "name": "stderr",
     "output_type": "stream",
     "text": [
      "I0110 22:05:17.137288 139750346217216 tf_logging.py:115] Scale of 0 disables regularizer.\n"
     ]
    },
    {
     "name": "stdout",
     "output_type": "stream",
     "text": [
      "INFO:tensorflow:Scale of 0 disables regularizer.\n"
     ]
    },
    {
     "name": "stderr",
     "output_type": "stream",
     "text": [
      "I0110 22:05:19.596430 139750346217216 tf_logging.py:115] Scale of 0 disables regularizer.\n"
     ]
    },
    {
     "name": "stdout",
     "output_type": "stream",
     "text": [
      "INFO:tensorflow:Scale of 0 disables regularizer.\n"
     ]
    },
    {
     "name": "stderr",
     "output_type": "stream",
     "text": [
      "I0110 22:05:21.993249 139750346217216 tf_logging.py:115] Scale of 0 disables regularizer.\n"
     ]
    },
    {
     "name": "stdout",
     "output_type": "stream",
     "text": [
      "INFO:tensorflow:Scale of 0 disables regularizer.\n"
     ]
    },
    {
     "name": "stderr",
     "output_type": "stream",
     "text": [
      "I0110 22:05:24.448415 139750346217216 tf_logging.py:115] Scale of 0 disables regularizer.\n"
     ]
    },
    {
     "name": "stdout",
     "output_type": "stream",
     "text": [
      "INFO:tensorflow:Scale of 0 disables regularizer.\n"
     ]
    },
    {
     "name": "stderr",
     "output_type": "stream",
     "text": [
      "I0110 22:05:26.896195 139750346217216 tf_logging.py:115] Scale of 0 disables regularizer.\n"
     ]
    },
    {
     "name": "stdout",
     "output_type": "stream",
     "text": [
      "INFO:tensorflow:Scale of 0 disables regularizer.\n"
     ]
    },
    {
     "name": "stderr",
     "output_type": "stream",
     "text": [
      "I0110 22:05:29.363435 139750346217216 tf_logging.py:115] Scale of 0 disables regularizer.\n"
     ]
    },
    {
     "name": "stdout",
     "output_type": "stream",
     "text": [
      "INFO:tensorflow:Scale of 0 disables regularizer.\n"
     ]
    },
    {
     "name": "stderr",
     "output_type": "stream",
     "text": [
      "I0110 22:05:31.819322 139750346217216 tf_logging.py:115] Scale of 0 disables regularizer.\n"
     ]
    },
    {
     "name": "stdout",
     "output_type": "stream",
     "text": [
      "INFO:tensorflow:Scale of 0 disables regularizer.\n"
     ]
    },
    {
     "name": "stderr",
     "output_type": "stream",
     "text": [
      "I0110 22:05:34.202385 139750346217216 tf_logging.py:115] Scale of 0 disables regularizer.\n"
     ]
    },
    {
     "name": "stdout",
     "output_type": "stream",
     "text": [
      "INFO:tensorflow:Scale of 0 disables regularizer.\n"
     ]
    },
    {
     "name": "stderr",
     "output_type": "stream",
     "text": [
      "I0110 22:05:36.641355 139750346217216 tf_logging.py:115] Scale of 0 disables regularizer.\n"
     ]
    },
    {
     "name": "stdout",
     "output_type": "stream",
     "text": [
      "INFO:tensorflow:Scale of 0 disables regularizer.\n"
     ]
    },
    {
     "name": "stderr",
     "output_type": "stream",
     "text": [
      "I0110 22:05:39.088429 139750346217216 tf_logging.py:115] Scale of 0 disables regularizer.\n"
     ]
    },
    {
     "name": "stdout",
     "output_type": "stream",
     "text": [
      "INFO:tensorflow:Scale of 0 disables regularizer.\n"
     ]
    },
    {
     "name": "stderr",
     "output_type": "stream",
     "text": [
      "I0110 22:05:41.542298 139750346217216 tf_logging.py:115] Scale of 0 disables regularizer.\n"
     ]
    },
    {
     "name": "stdout",
     "output_type": "stream",
     "text": [
      "INFO:tensorflow:Scale of 0 disables regularizer.\n"
     ]
    },
    {
     "name": "stderr",
     "output_type": "stream",
     "text": [
      "I0110 22:05:43.924931 139750346217216 tf_logging.py:115] Scale of 0 disables regularizer.\n"
     ]
    },
    {
     "name": "stdout",
     "output_type": "stream",
     "text": [
      "INFO:tensorflow:Scale of 0 disables regularizer.\n"
     ]
    },
    {
     "name": "stderr",
     "output_type": "stream",
     "text": [
      "I0110 22:05:46.371961 139750346217216 tf_logging.py:115] Scale of 0 disables regularizer.\n"
     ]
    },
    {
     "name": "stdout",
     "output_type": "stream",
     "text": [
      "INFO:tensorflow:Scale of 0 disables regularizer.\n"
     ]
    },
    {
     "name": "stderr",
     "output_type": "stream",
     "text": [
      "I0110 22:05:48.817964 139750346217216 tf_logging.py:115] Scale of 0 disables regularizer.\n"
     ]
    },
    {
     "name": "stdout",
     "output_type": "stream",
     "text": [
      "INFO:tensorflow:Scale of 0 disables regularizer.\n"
     ]
    },
    {
     "name": "stderr",
     "output_type": "stream",
     "text": [
      "I0110 22:05:51.280068 139750346217216 tf_logging.py:115] Scale of 0 disables regularizer.\n"
     ]
    },
    {
     "name": "stdout",
     "output_type": "stream",
     "text": [
      "INFO:tensorflow:Scale of 0 disables regularizer.\n"
     ]
    },
    {
     "name": "stderr",
     "output_type": "stream",
     "text": [
      "I0110 22:05:53.745506 139750346217216 tf_logging.py:115] Scale of 0 disables regularizer.\n"
     ]
    },
    {
     "name": "stdout",
     "output_type": "stream",
     "text": [
      "INFO:tensorflow:Scale of 0 disables regularizer.\n"
     ]
    },
    {
     "name": "stderr",
     "output_type": "stream",
     "text": [
      "I0110 22:05:56.145372 139750346217216 tf_logging.py:115] Scale of 0 disables regularizer.\n"
     ]
    },
    {
     "name": "stdout",
     "output_type": "stream",
     "text": [
      "INFO:tensorflow:Scale of 0 disables regularizer.\n"
     ]
    },
    {
     "name": "stderr",
     "output_type": "stream",
     "text": [
      "I0110 22:05:58.597290 139750346217216 tf_logging.py:115] Scale of 0 disables regularizer.\n"
     ]
    },
    {
     "name": "stdout",
     "output_type": "stream",
     "text": [
      "INFO:tensorflow:Scale of 0 disables regularizer.\n"
     ]
    },
    {
     "name": "stderr",
     "output_type": "stream",
     "text": [
      "I0110 22:06:01.066627 139750346217216 tf_logging.py:115] Scale of 0 disables regularizer.\n"
     ]
    },
    {
     "name": "stdout",
     "output_type": "stream",
     "text": [
      "INFO:tensorflow:Scale of 0 disables regularizer.\n"
     ]
    },
    {
     "name": "stderr",
     "output_type": "stream",
     "text": [
      "I0110 22:06:03.532311 139750346217216 tf_logging.py:115] Scale of 0 disables regularizer.\n"
     ]
    },
    {
     "name": "stdout",
     "output_type": "stream",
     "text": [
      "INFO:tensorflow:Scale of 0 disables regularizer.\n"
     ]
    },
    {
     "name": "stderr",
     "output_type": "stream",
     "text": [
      "I0110 22:06:05.933020 139750346217216 tf_logging.py:115] Scale of 0 disables regularizer.\n"
     ]
    },
    {
     "name": "stdout",
     "output_type": "stream",
     "text": [
      "INFO:tensorflow:Scale of 0 disables regularizer.\n"
     ]
    },
    {
     "name": "stderr",
     "output_type": "stream",
     "text": [
      "I0110 22:06:08.393716 139750346217216 tf_logging.py:115] Scale of 0 disables regularizer.\n"
     ]
    },
    {
     "name": "stdout",
     "output_type": "stream",
     "text": [
      "INFO:tensorflow:Scale of 0 disables regularizer.\n"
     ]
    },
    {
     "name": "stderr",
     "output_type": "stream",
     "text": [
      "I0110 22:06:10.867842 139750346217216 tf_logging.py:115] Scale of 0 disables regularizer.\n"
     ]
    },
    {
     "name": "stdout",
     "output_type": "stream",
     "text": [
      "INFO:tensorflow:Scale of 0 disables regularizer.\n"
     ]
    },
    {
     "name": "stderr",
     "output_type": "stream",
     "text": [
      "I0110 22:06:13.322040 139750346217216 tf_logging.py:115] Scale of 0 disables regularizer.\n"
     ]
    },
    {
     "name": "stdout",
     "output_type": "stream",
     "text": [
      "INFO:tensorflow:Scale of 0 disables regularizer.\n"
     ]
    },
    {
     "name": "stderr",
     "output_type": "stream",
     "text": [
      "I0110 22:06:15.710071 139750346217216 tf_logging.py:115] Scale of 0 disables regularizer.\n"
     ]
    },
    {
     "name": "stdout",
     "output_type": "stream",
     "text": [
      "INFO:tensorflow:Scale of 0 disables regularizer.\n"
     ]
    },
    {
     "name": "stderr",
     "output_type": "stream",
     "text": [
      "I0110 22:06:18.167356 139750346217216 tf_logging.py:115] Scale of 0 disables regularizer.\n"
     ]
    },
    {
     "name": "stdout",
     "output_type": "stream",
     "text": [
      "INFO:tensorflow:Scale of 0 disables regularizer.\n"
     ]
    },
    {
     "name": "stderr",
     "output_type": "stream",
     "text": [
      "I0110 22:06:20.617731 139750346217216 tf_logging.py:115] Scale of 0 disables regularizer.\n"
     ]
    },
    {
     "name": "stdout",
     "output_type": "stream",
     "text": [
      "INFO:tensorflow:Scale of 0 disables regularizer.\n"
     ]
    },
    {
     "name": "stderr",
     "output_type": "stream",
     "text": [
      "I0110 22:06:23.105268 139750346217216 tf_logging.py:115] Scale of 0 disables regularizer.\n"
     ]
    },
    {
     "name": "stdout",
     "output_type": "stream",
     "text": [
      "INFO:tensorflow:Scale of 0 disables regularizer.\n"
     ]
    },
    {
     "name": "stderr",
     "output_type": "stream",
     "text": [
      "I0110 22:06:25.563147 139750346217216 tf_logging.py:115] Scale of 0 disables regularizer.\n"
     ]
    },
    {
     "name": "stdout",
     "output_type": "stream",
     "text": [
      "INFO:tensorflow:Scale of 0 disables regularizer.\n"
     ]
    },
    {
     "name": "stderr",
     "output_type": "stream",
     "text": [
      "I0110 22:06:27.988941 139750346217216 tf_logging.py:115] Scale of 0 disables regularizer.\n"
     ]
    },
    {
     "name": "stdout",
     "output_type": "stream",
     "text": [
      "INFO:tensorflow:Scale of 0 disables regularizer.\n"
     ]
    },
    {
     "name": "stderr",
     "output_type": "stream",
     "text": [
      "I0110 22:06:30.456812 139750346217216 tf_logging.py:115] Scale of 0 disables regularizer.\n"
     ]
    },
    {
     "name": "stdout",
     "output_type": "stream",
     "text": [
      "INFO:tensorflow:Scale of 0 disables regularizer.\n"
     ]
    },
    {
     "name": "stderr",
     "output_type": "stream",
     "text": [
      "I0110 22:06:32.904440 139750346217216 tf_logging.py:115] Scale of 0 disables regularizer.\n"
     ]
    },
    {
     "name": "stdout",
     "output_type": "stream",
     "text": [
      "INFO:tensorflow:Scale of 0 disables regularizer.\n"
     ]
    },
    {
     "name": "stderr",
     "output_type": "stream",
     "text": [
      "I0110 22:06:35.371244 139750346217216 tf_logging.py:115] Scale of 0 disables regularizer.\n"
     ]
    },
    {
     "name": "stdout",
     "output_type": "stream",
     "text": [
      "INFO:tensorflow:Scale of 0 disables regularizer.\n"
     ]
    },
    {
     "name": "stderr",
     "output_type": "stream",
     "text": [
      "I0110 22:06:37.764164 139750346217216 tf_logging.py:115] Scale of 0 disables regularizer.\n"
     ]
    },
    {
     "name": "stdout",
     "output_type": "stream",
     "text": [
      "INFO:tensorflow:Scale of 0 disables regularizer.\n"
     ]
    },
    {
     "name": "stderr",
     "output_type": "stream",
     "text": [
      "I0110 22:06:40.217401 139750346217216 tf_logging.py:115] Scale of 0 disables regularizer.\n"
     ]
    },
    {
     "name": "stdout",
     "output_type": "stream",
     "text": [
      "INFO:tensorflow:Scale of 0 disables regularizer.\n"
     ]
    },
    {
     "name": "stderr",
     "output_type": "stream",
     "text": [
      "I0110 22:06:42.684560 139750346217216 tf_logging.py:115] Scale of 0 disables regularizer.\n"
     ]
    },
    {
     "name": "stdout",
     "output_type": "stream",
     "text": [
      "INFO:tensorflow:Scale of 0 disables regularizer.\n"
     ]
    },
    {
     "name": "stderr",
     "output_type": "stream",
     "text": [
      "I0110 22:06:45.136842 139750346217216 tf_logging.py:115] Scale of 0 disables regularizer.\n"
     ]
    },
    {
     "name": "stdout",
     "output_type": "stream",
     "text": [
      "INFO:tensorflow:Scale of 0 disables regularizer.\n"
     ]
    },
    {
     "name": "stderr",
     "output_type": "stream",
     "text": [
      "I0110 22:06:47.597833 139750346217216 tf_logging.py:115] Scale of 0 disables regularizer.\n"
     ]
    },
    {
     "name": "stdout",
     "output_type": "stream",
     "text": [
      "INFO:tensorflow:Scale of 0 disables regularizer.\n"
     ]
    },
    {
     "name": "stderr",
     "output_type": "stream",
     "text": [
      "I0110 22:06:49.990754 139750346217216 tf_logging.py:115] Scale of 0 disables regularizer.\n"
     ]
    },
    {
     "name": "stdout",
     "output_type": "stream",
     "text": [
      "INFO:tensorflow:Scale of 0 disables regularizer.\n"
     ]
    },
    {
     "name": "stderr",
     "output_type": "stream",
     "text": [
      "I0110 22:06:52.462467 139750346217216 tf_logging.py:115] Scale of 0 disables regularizer.\n"
     ]
    },
    {
     "name": "stdout",
     "output_type": "stream",
     "text": [
      "INFO:tensorflow:Scale of 0 disables regularizer.\n"
     ]
    },
    {
     "name": "stderr",
     "output_type": "stream",
     "text": [
      "I0110 22:06:54.912687 139750346217216 tf_logging.py:115] Scale of 0 disables regularizer.\n"
     ]
    },
    {
     "name": "stdout",
     "output_type": "stream",
     "text": [
      "INFO:tensorflow:Scale of 0 disables regularizer.\n"
     ]
    },
    {
     "name": "stderr",
     "output_type": "stream",
     "text": [
      "I0110 22:06:57.372323 139750346217216 tf_logging.py:115] Scale of 0 disables regularizer.\n"
     ]
    },
    {
     "name": "stdout",
     "output_type": "stream",
     "text": [
      "INFO:tensorflow:Scale of 0 disables regularizer.\n"
     ]
    },
    {
     "name": "stderr",
     "output_type": "stream",
     "text": [
      "I0110 22:06:59.760754 139750346217216 tf_logging.py:115] Scale of 0 disables regularizer.\n"
     ]
    },
    {
     "name": "stdout",
     "output_type": "stream",
     "text": [
      "INFO:tensorflow:Scale of 0 disables regularizer.\n"
     ]
    },
    {
     "name": "stderr",
     "output_type": "stream",
     "text": [
      "I0110 22:07:02.210099 139750346217216 tf_logging.py:115] Scale of 0 disables regularizer.\n"
     ]
    },
    {
     "name": "stdout",
     "output_type": "stream",
     "text": [
      "INFO:tensorflow:Scale of 0 disables regularizer.\n"
     ]
    },
    {
     "name": "stderr",
     "output_type": "stream",
     "text": [
      "I0110 22:07:04.654213 139750346217216 tf_logging.py:115] Scale of 0 disables regularizer.\n"
     ]
    },
    {
     "name": "stdout",
     "output_type": "stream",
     "text": [
      "INFO:tensorflow:Scale of 0 disables regularizer.\n"
     ]
    },
    {
     "name": "stderr",
     "output_type": "stream",
     "text": [
      "I0110 22:07:07.108462 139750346217216 tf_logging.py:115] Scale of 0 disables regularizer.\n"
     ]
    },
    {
     "name": "stdout",
     "output_type": "stream",
     "text": [
      "INFO:tensorflow:Scale of 0 disables regularizer.\n"
     ]
    },
    {
     "name": "stderr",
     "output_type": "stream",
     "text": [
      "I0110 22:07:09.508646 139750346217216 tf_logging.py:115] Scale of 0 disables regularizer.\n"
     ]
    },
    {
     "name": "stdout",
     "output_type": "stream",
     "text": [
      "INFO:tensorflow:Scale of 0 disables regularizer.\n"
     ]
    },
    {
     "name": "stderr",
     "output_type": "stream",
     "text": [
      "I0110 22:07:11.960041 139750346217216 tf_logging.py:115] Scale of 0 disables regularizer.\n"
     ]
    },
    {
     "name": "stdout",
     "output_type": "stream",
     "text": [
      "INFO:tensorflow:Scale of 0 disables regularizer.\n"
     ]
    },
    {
     "name": "stderr",
     "output_type": "stream",
     "text": [
      "I0110 22:07:14.415431 139750346217216 tf_logging.py:115] Scale of 0 disables regularizer.\n"
     ]
    },
    {
     "name": "stdout",
     "output_type": "stream",
     "text": [
      "INFO:tensorflow:Scale of 0 disables regularizer.\n"
     ]
    },
    {
     "name": "stderr",
     "output_type": "stream",
     "text": [
      "I0110 22:07:16.887233 139750346217216 tf_logging.py:115] Scale of 0 disables regularizer.\n"
     ]
    },
    {
     "name": "stdout",
     "output_type": "stream",
     "text": [
      "INFO:tensorflow:Scale of 0 disables regularizer.\n"
     ]
    },
    {
     "name": "stderr",
     "output_type": "stream",
     "text": [
      "I0110 22:07:19.350257 139750346217216 tf_logging.py:115] Scale of 0 disables regularizer.\n"
     ]
    },
    {
     "name": "stdout",
     "output_type": "stream",
     "text": [
      "INFO:tensorflow:Scale of 0 disables regularizer.\n"
     ]
    },
    {
     "name": "stderr",
     "output_type": "stream",
     "text": [
      "I0110 22:07:21.753838 139750346217216 tf_logging.py:115] Scale of 0 disables regularizer.\n"
     ]
    },
    {
     "name": "stdout",
     "output_type": "stream",
     "text": [
      "INFO:tensorflow:Scale of 0 disables regularizer.\n"
     ]
    },
    {
     "name": "stderr",
     "output_type": "stream",
     "text": [
      "I0110 22:07:24.211169 139750346217216 tf_logging.py:115] Scale of 0 disables regularizer.\n"
     ]
    },
    {
     "name": "stdout",
     "output_type": "stream",
     "text": [
      "INFO:tensorflow:Scale of 0 disables regularizer.\n"
     ]
    },
    {
     "name": "stderr",
     "output_type": "stream",
     "text": [
      "I0110 22:07:26.677509 139750346217216 tf_logging.py:115] Scale of 0 disables regularizer.\n"
     ]
    },
    {
     "name": "stdout",
     "output_type": "stream",
     "text": [
      "INFO:tensorflow:Scale of 0 disables regularizer.\n"
     ]
    },
    {
     "name": "stderr",
     "output_type": "stream",
     "text": [
      "I0110 22:07:29.150448 139750346217216 tf_logging.py:115] Scale of 0 disables regularizer.\n"
     ]
    },
    {
     "name": "stdout",
     "output_type": "stream",
     "text": [
      "INFO:tensorflow:Scale of 0 disables regularizer.\n"
     ]
    },
    {
     "name": "stderr",
     "output_type": "stream",
     "text": [
      "I0110 22:07:31.540321 139750346217216 tf_logging.py:115] Scale of 0 disables regularizer.\n"
     ]
    },
    {
     "name": "stdout",
     "output_type": "stream",
     "text": [
      "INFO:tensorflow:Scale of 0 disables regularizer.\n"
     ]
    },
    {
     "name": "stderr",
     "output_type": "stream",
     "text": [
      "I0110 22:07:34.027535 139750346217216 tf_logging.py:115] Scale of 0 disables regularizer.\n"
     ]
    },
    {
     "name": "stdout",
     "output_type": "stream",
     "text": [
      "INFO:tensorflow:Scale of 0 disables regularizer.\n"
     ]
    },
    {
     "name": "stderr",
     "output_type": "stream",
     "text": [
      "I0110 22:07:36.468792 139750346217216 tf_logging.py:115] Scale of 0 disables regularizer.\n"
     ]
    },
    {
     "name": "stdout",
     "output_type": "stream",
     "text": [
      "INFO:tensorflow:Scale of 0 disables regularizer.\n"
     ]
    },
    {
     "name": "stderr",
     "output_type": "stream",
     "text": [
      "I0110 22:07:38.921063 139750346217216 tf_logging.py:115] Scale of 0 disables regularizer.\n"
     ]
    },
    {
     "name": "stdout",
     "output_type": "stream",
     "text": [
      "INFO:tensorflow:Scale of 0 disables regularizer.\n"
     ]
    },
    {
     "name": "stderr",
     "output_type": "stream",
     "text": [
      "I0110 22:07:41.435580 139750346217216 tf_logging.py:115] Scale of 0 disables regularizer.\n"
     ]
    },
    {
     "name": "stdout",
     "output_type": "stream",
     "text": [
      "INFO:tensorflow:Scale of 0 disables regularizer.\n"
     ]
    },
    {
     "name": "stderr",
     "output_type": "stream",
     "text": [
      "I0110 22:07:43.827407 139750346217216 tf_logging.py:115] Scale of 0 disables regularizer.\n"
     ]
    },
    {
     "name": "stdout",
     "output_type": "stream",
     "text": [
      "INFO:tensorflow:Scale of 0 disables regularizer.\n"
     ]
    },
    {
     "name": "stderr",
     "output_type": "stream",
     "text": [
      "I0110 22:07:46.318780 139750346217216 tf_logging.py:115] Scale of 0 disables regularizer.\n"
     ]
    },
    {
     "name": "stdout",
     "output_type": "stream",
     "text": [
      "INFO:tensorflow:Scale of 0 disables regularizer.\n"
     ]
    },
    {
     "name": "stderr",
     "output_type": "stream",
     "text": [
      "I0110 22:07:48.782783 139750346217216 tf_logging.py:115] Scale of 0 disables regularizer.\n"
     ]
    },
    {
     "name": "stdout",
     "output_type": "stream",
     "text": [
      "INFO:tensorflow:Scale of 0 disables regularizer.\n"
     ]
    },
    {
     "name": "stderr",
     "output_type": "stream",
     "text": [
      "I0110 22:07:51.242229 139750346217216 tf_logging.py:115] Scale of 0 disables regularizer.\n"
     ]
    },
    {
     "name": "stdout",
     "output_type": "stream",
     "text": [
      "INFO:tensorflow:Scale of 0 disables regularizer.\n"
     ]
    },
    {
     "name": "stderr",
     "output_type": "stream",
     "text": [
      "I0110 22:07:53.633229 139750346217216 tf_logging.py:115] Scale of 0 disables regularizer.\n"
     ]
    },
    {
     "name": "stdout",
     "output_type": "stream",
     "text": [
      "INFO:tensorflow:Scale of 0 disables regularizer.\n"
     ]
    },
    {
     "name": "stderr",
     "output_type": "stream",
     "text": [
      "I0110 22:07:56.089248 139750346217216 tf_logging.py:115] Scale of 0 disables regularizer.\n"
     ]
    },
    {
     "name": "stdout",
     "output_type": "stream",
     "text": [
      "INFO:tensorflow:Scale of 0 disables regularizer.\n"
     ]
    },
    {
     "name": "stderr",
     "output_type": "stream",
     "text": [
      "I0110 22:07:58.547136 139750346217216 tf_logging.py:115] Scale of 0 disables regularizer.\n"
     ]
    },
    {
     "name": "stdout",
     "output_type": "stream",
     "text": [
      "INFO:tensorflow:Scale of 0 disables regularizer.\n"
     ]
    },
    {
     "name": "stderr",
     "output_type": "stream",
     "text": [
      "I0110 22:08:01.010398 139750346217216 tf_logging.py:115] Scale of 0 disables regularizer.\n"
     ]
    },
    {
     "name": "stdout",
     "output_type": "stream",
     "text": [
      "INFO:tensorflow:Scale of 0 disables regularizer.\n"
     ]
    },
    {
     "name": "stderr",
     "output_type": "stream",
     "text": [
      "I0110 22:08:03.403891 139750346217216 tf_logging.py:115] Scale of 0 disables regularizer.\n"
     ]
    },
    {
     "name": "stdout",
     "output_type": "stream",
     "text": [
      "INFO:tensorflow:Scale of 0 disables regularizer.\n"
     ]
    },
    {
     "name": "stderr",
     "output_type": "stream",
     "text": [
      "I0110 22:08:05.846707 139750346217216 tf_logging.py:115] Scale of 0 disables regularizer.\n"
     ]
    },
    {
     "name": "stdout",
     "output_type": "stream",
     "text": [
      "INFO:tensorflow:Scale of 0 disables regularizer.\n"
     ]
    },
    {
     "name": "stderr",
     "output_type": "stream",
     "text": [
      "I0110 22:08:08.294759 139750346217216 tf_logging.py:115] Scale of 0 disables regularizer.\n"
     ]
    },
    {
     "name": "stdout",
     "output_type": "stream",
     "text": [
      "INFO:tensorflow:Scale of 0 disables regularizer.\n"
     ]
    },
    {
     "name": "stderr",
     "output_type": "stream",
     "text": [
      "I0110 22:08:10.758936 139750346217216 tf_logging.py:115] Scale of 0 disables regularizer.\n"
     ]
    },
    {
     "name": "stdout",
     "output_type": "stream",
     "text": [
      "INFO:tensorflow:Scale of 0 disables regularizer.\n"
     ]
    },
    {
     "name": "stderr",
     "output_type": "stream",
     "text": [
      "I0110 22:08:13.216676 139750346217216 tf_logging.py:115] Scale of 0 disables regularizer.\n"
     ]
    },
    {
     "name": "stdout",
     "output_type": "stream",
     "text": [
      "INFO:tensorflow:Scale of 0 disables regularizer.\n"
     ]
    },
    {
     "name": "stderr",
     "output_type": "stream",
     "text": [
      "I0110 22:08:15.604178 139750346217216 tf_logging.py:115] Scale of 0 disables regularizer.\n"
     ]
    },
    {
     "name": "stdout",
     "output_type": "stream",
     "text": [
      "INFO:tensorflow:Scale of 0 disables regularizer.\n"
     ]
    },
    {
     "name": "stderr",
     "output_type": "stream",
     "text": [
      "I0110 22:08:18.053466 139750346217216 tf_logging.py:115] Scale of 0 disables regularizer.\n"
     ]
    },
    {
     "name": "stdout",
     "output_type": "stream",
     "text": [
      "INFO:tensorflow:Scale of 0 disables regularizer.\n"
     ]
    },
    {
     "name": "stderr",
     "output_type": "stream",
     "text": [
      "I0110 22:08:20.508049 139750346217216 tf_logging.py:115] Scale of 0 disables regularizer.\n"
     ]
    },
    {
     "name": "stdout",
     "output_type": "stream",
     "text": [
      "INFO:tensorflow:Scale of 0 disables regularizer.\n"
     ]
    },
    {
     "name": "stderr",
     "output_type": "stream",
     "text": [
      "I0110 22:08:22.972794 139750346217216 tf_logging.py:115] Scale of 0 disables regularizer.\n"
     ]
    },
    {
     "name": "stdout",
     "output_type": "stream",
     "text": [
      "INFO:tensorflow:Scale of 0 disables regularizer.\n"
     ]
    },
    {
     "name": "stderr",
     "output_type": "stream",
     "text": [
      "I0110 22:08:25.366108 139750346217216 tf_logging.py:115] Scale of 0 disables regularizer.\n"
     ]
    },
    {
     "name": "stdout",
     "output_type": "stream",
     "text": [
      "INFO:tensorflow:Scale of 0 disables regularizer.\n"
     ]
    },
    {
     "name": "stderr",
     "output_type": "stream",
     "text": [
      "I0110 22:08:27.806589 139750346217216 tf_logging.py:115] Scale of 0 disables regularizer.\n"
     ]
    },
    {
     "name": "stdout",
     "output_type": "stream",
     "text": [
      "INFO:tensorflow:Scale of 0 disables regularizer.\n"
     ]
    },
    {
     "name": "stderr",
     "output_type": "stream",
     "text": [
      "I0110 22:08:30.290736 139750346217216 tf_logging.py:115] Scale of 0 disables regularizer.\n"
     ]
    },
    {
     "name": "stdout",
     "output_type": "stream",
     "text": [
      "INFO:tensorflow:Scale of 0 disables regularizer.\n"
     ]
    },
    {
     "name": "stderr",
     "output_type": "stream",
     "text": [
      "I0110 22:08:32.740853 139750346217216 tf_logging.py:115] Scale of 0 disables regularizer.\n"
     ]
    },
    {
     "name": "stdout",
     "output_type": "stream",
     "text": [
      "INFO:tensorflow:Scale of 0 disables regularizer.\n"
     ]
    },
    {
     "name": "stderr",
     "output_type": "stream",
     "text": [
      "I0110 22:08:35.191546 139750346217216 tf_logging.py:115] Scale of 0 disables regularizer.\n"
     ]
    },
    {
     "name": "stdout",
     "output_type": "stream",
     "text": [
      "INFO:tensorflow:Scale of 0 disables regularizer.\n"
     ]
    },
    {
     "name": "stderr",
     "output_type": "stream",
     "text": [
      "I0110 22:08:37.575570 139750346217216 tf_logging.py:115] Scale of 0 disables regularizer.\n"
     ]
    },
    {
     "name": "stdout",
     "output_type": "stream",
     "text": [
      "INFO:tensorflow:Scale of 0 disables regularizer.\n"
     ]
    },
    {
     "name": "stderr",
     "output_type": "stream",
     "text": [
      "I0110 22:08:40.022392 139750346217216 tf_logging.py:115] Scale of 0 disables regularizer.\n"
     ]
    },
    {
     "name": "stdout",
     "output_type": "stream",
     "text": [
      "INFO:tensorflow:Scale of 0 disables regularizer.\n"
     ]
    },
    {
     "name": "stderr",
     "output_type": "stream",
     "text": [
      "I0110 22:08:42.470619 139750346217216 tf_logging.py:115] Scale of 0 disables regularizer.\n"
     ]
    },
    {
     "name": "stdout",
     "output_type": "stream",
     "text": [
      "INFO:tensorflow:Scale of 0 disables regularizer.\n"
     ]
    },
    {
     "name": "stderr",
     "output_type": "stream",
     "text": [
      "I0110 22:08:44.943923 139750346217216 tf_logging.py:115] Scale of 0 disables regularizer.\n"
     ]
    },
    {
     "name": "stdout",
     "output_type": "stream",
     "text": [
      "INFO:tensorflow:Scale of 0 disables regularizer.\n"
     ]
    },
    {
     "name": "stderr",
     "output_type": "stream",
     "text": [
      "I0110 22:08:47.337204 139750346217216 tf_logging.py:115] Scale of 0 disables regularizer.\n"
     ]
    },
    {
     "name": "stdout",
     "output_type": "stream",
     "text": [
      "INFO:tensorflow:Scale of 0 disables regularizer.\n"
     ]
    },
    {
     "name": "stderr",
     "output_type": "stream",
     "text": [
      "I0110 22:08:49.779432 139750346217216 tf_logging.py:115] Scale of 0 disables regularizer.\n"
     ]
    },
    {
     "name": "stdout",
     "output_type": "stream",
     "text": [
      "INFO:tensorflow:Scale of 0 disables regularizer.\n"
     ]
    },
    {
     "name": "stderr",
     "output_type": "stream",
     "text": [
      "I0110 22:08:52.222236 139750346217216 tf_logging.py:115] Scale of 0 disables regularizer.\n"
     ]
    },
    {
     "name": "stdout",
     "output_type": "stream",
     "text": [
      "INFO:tensorflow:Scale of 0 disables regularizer.\n"
     ]
    },
    {
     "name": "stderr",
     "output_type": "stream",
     "text": [
      "I0110 22:08:54.690311 139750346217216 tf_logging.py:115] Scale of 0 disables regularizer.\n"
     ]
    },
    {
     "name": "stdout",
     "output_type": "stream",
     "text": [
      "INFO:tensorflow:Scale of 0 disables regularizer.\n"
     ]
    },
    {
     "name": "stderr",
     "output_type": "stream",
     "text": [
      "I0110 22:08:57.113309 139750346217216 tf_logging.py:115] Scale of 0 disables regularizer.\n"
     ]
    },
    {
     "name": "stdout",
     "output_type": "stream",
     "text": [
      "INFO:tensorflow:Scale of 0 disables regularizer.\n"
     ]
    },
    {
     "name": "stderr",
     "output_type": "stream",
     "text": [
      "I0110 22:08:59.555467 139750346217216 tf_logging.py:115] Scale of 0 disables regularizer.\n"
     ]
    },
    {
     "name": "stdout",
     "output_type": "stream",
     "text": [
      "INFO:tensorflow:Scale of 0 disables regularizer.\n"
     ]
    },
    {
     "name": "stderr",
     "output_type": "stream",
     "text": [
      "I0110 22:09:01.994107 139750346217216 tf_logging.py:115] Scale of 0 disables regularizer.\n"
     ]
    },
    {
     "name": "stdout",
     "output_type": "stream",
     "text": [
      "INFO:tensorflow:Scale of 0 disables regularizer.\n"
     ]
    },
    {
     "name": "stderr",
     "output_type": "stream",
     "text": [
      "I0110 22:09:04.439285 139750346217216 tf_logging.py:115] Scale of 0 disables regularizer.\n"
     ]
    },
    {
     "name": "stdout",
     "output_type": "stream",
     "text": [
      "INFO:tensorflow:Scale of 0 disables regularizer.\n"
     ]
    },
    {
     "name": "stderr",
     "output_type": "stream",
     "text": [
      "I0110 22:09:06.891440 139750346217216 tf_logging.py:115] Scale of 0 disables regularizer.\n"
     ]
    },
    {
     "name": "stdout",
     "output_type": "stream",
     "text": [
      "INFO:tensorflow:Scale of 0 disables regularizer.\n"
     ]
    },
    {
     "name": "stderr",
     "output_type": "stream",
     "text": [
      "I0110 22:09:09.281965 139750346217216 tf_logging.py:115] Scale of 0 disables regularizer.\n"
     ]
    },
    {
     "name": "stdout",
     "output_type": "stream",
     "text": [
      "INFO:tensorflow:Scale of 0 disables regularizer.\n"
     ]
    },
    {
     "name": "stderr",
     "output_type": "stream",
     "text": [
      "I0110 22:09:11.724583 139750346217216 tf_logging.py:115] Scale of 0 disables regularizer.\n"
     ]
    },
    {
     "name": "stdout",
     "output_type": "stream",
     "text": [
      "INFO:tensorflow:Scale of 0 disables regularizer.\n"
     ]
    },
    {
     "name": "stderr",
     "output_type": "stream",
     "text": [
      "I0110 22:09:14.175586 139750346217216 tf_logging.py:115] Scale of 0 disables regularizer.\n"
     ]
    },
    {
     "name": "stdout",
     "output_type": "stream",
     "text": [
      "INFO:tensorflow:Scale of 0 disables regularizer.\n"
     ]
    },
    {
     "name": "stderr",
     "output_type": "stream",
     "text": [
      "I0110 22:09:16.630648 139750346217216 tf_logging.py:115] Scale of 0 disables regularizer.\n"
     ]
    },
    {
     "name": "stdout",
     "output_type": "stream",
     "text": [
      "INFO:tensorflow:Scale of 0 disables regularizer.\n"
     ]
    },
    {
     "name": "stderr",
     "output_type": "stream",
     "text": [
      "I0110 22:09:19.019082 139750346217216 tf_logging.py:115] Scale of 0 disables regularizer.\n"
     ]
    },
    {
     "name": "stdout",
     "output_type": "stream",
     "text": [
      "INFO:tensorflow:Scale of 0 disables regularizer.\n"
     ]
    },
    {
     "name": "stderr",
     "output_type": "stream",
     "text": [
      "I0110 22:09:21.491899 139750346217216 tf_logging.py:115] Scale of 0 disables regularizer.\n"
     ]
    },
    {
     "name": "stdout",
     "output_type": "stream",
     "text": [
      "INFO:tensorflow:Scale of 0 disables regularizer.\n"
     ]
    },
    {
     "name": "stderr",
     "output_type": "stream",
     "text": [
      "I0110 22:09:23.935717 139750346217216 tf_logging.py:115] Scale of 0 disables regularizer.\n"
     ]
    },
    {
     "name": "stdout",
     "output_type": "stream",
     "text": [
      "INFO:tensorflow:Scale of 0 disables regularizer.\n"
     ]
    },
    {
     "name": "stderr",
     "output_type": "stream",
     "text": [
      "I0110 22:09:26.539861 139750346217216 tf_logging.py:115] Scale of 0 disables regularizer.\n"
     ]
    },
    {
     "name": "stdout",
     "output_type": "stream",
     "text": [
      "INFO:tensorflow:Scale of 0 disables regularizer.\n"
     ]
    },
    {
     "name": "stderr",
     "output_type": "stream",
     "text": [
      "I0110 22:09:29.000021 139750346217216 tf_logging.py:115] Scale of 0 disables regularizer.\n"
     ]
    },
    {
     "name": "stdout",
     "output_type": "stream",
     "text": [
      "INFO:tensorflow:Scale of 0 disables regularizer.\n"
     ]
    },
    {
     "name": "stderr",
     "output_type": "stream",
     "text": [
      "I0110 22:09:31.488972 139750346217216 tf_logging.py:115] Scale of 0 disables regularizer.\n"
     ]
    },
    {
     "name": "stdout",
     "output_type": "stream",
     "text": [
      "INFO:tensorflow:Scale of 0 disables regularizer.\n"
     ]
    },
    {
     "name": "stderr",
     "output_type": "stream",
     "text": [
      "I0110 22:09:33.967158 139750346217216 tf_logging.py:115] Scale of 0 disables regularizer.\n"
     ]
    },
    {
     "name": "stdout",
     "output_type": "stream",
     "text": [
      "INFO:tensorflow:Scale of 0 disables regularizer.\n"
     ]
    },
    {
     "name": "stderr",
     "output_type": "stream",
     "text": [
      "I0110 22:09:36.411597 139750346217216 tf_logging.py:115] Scale of 0 disables regularizer.\n"
     ]
    },
    {
     "name": "stdout",
     "output_type": "stream",
     "text": [
      "INFO:tensorflow:Scale of 0 disables regularizer.\n"
     ]
    },
    {
     "name": "stderr",
     "output_type": "stream",
     "text": [
      "I0110 22:09:38.873874 139750346217216 tf_logging.py:115] Scale of 0 disables regularizer.\n"
     ]
    },
    {
     "name": "stdout",
     "output_type": "stream",
     "text": [
      "INFO:tensorflow:Scale of 0 disables regularizer.\n"
     ]
    },
    {
     "name": "stderr",
     "output_type": "stream",
     "text": [
      "I0110 22:09:41.267947 139750346217216 tf_logging.py:115] Scale of 0 disables regularizer.\n"
     ]
    },
    {
     "name": "stdout",
     "output_type": "stream",
     "text": [
      "INFO:tensorflow:Scale of 0 disables regularizer.\n"
     ]
    },
    {
     "name": "stderr",
     "output_type": "stream",
     "text": [
      "I0110 22:09:43.711347 139750346217216 tf_logging.py:115] Scale of 0 disables regularizer.\n"
     ]
    },
    {
     "name": "stdout",
     "output_type": "stream",
     "text": [
      "INFO:tensorflow:Scale of 0 disables regularizer.\n"
     ]
    },
    {
     "name": "stderr",
     "output_type": "stream",
     "text": [
      "I0110 22:09:46.154156 139750346217216 tf_logging.py:115] Scale of 0 disables regularizer.\n"
     ]
    },
    {
     "name": "stdout",
     "output_type": "stream",
     "text": [
      "INFO:tensorflow:Scale of 0 disables regularizer.\n"
     ]
    },
    {
     "name": "stderr",
     "output_type": "stream",
     "text": [
      "I0110 22:09:48.603553 139750346217216 tf_logging.py:115] Scale of 0 disables regularizer.\n"
     ]
    },
    {
     "name": "stdout",
     "output_type": "stream",
     "text": [
      "INFO:tensorflow:Scale of 0 disables regularizer.\n"
     ]
    },
    {
     "name": "stderr",
     "output_type": "stream",
     "text": [
      "I0110 22:09:51.000086 139750346217216 tf_logging.py:115] Scale of 0 disables regularizer.\n"
     ]
    },
    {
     "name": "stdout",
     "output_type": "stream",
     "text": [
      "INFO:tensorflow:Scale of 0 disables regularizer.\n"
     ]
    },
    {
     "name": "stderr",
     "output_type": "stream",
     "text": [
      "I0110 22:09:53.450705 139750346217216 tf_logging.py:115] Scale of 0 disables regularizer.\n"
     ]
    },
    {
     "name": "stdout",
     "output_type": "stream",
     "text": [
      "INFO:tensorflow:Scale of 0 disables regularizer.\n"
     ]
    },
    {
     "name": "stderr",
     "output_type": "stream",
     "text": [
      "I0110 22:09:55.901371 139750346217216 tf_logging.py:115] Scale of 0 disables regularizer.\n"
     ]
    },
    {
     "name": "stdout",
     "output_type": "stream",
     "text": [
      "INFO:tensorflow:Scale of 0 disables regularizer.\n"
     ]
    },
    {
     "name": "stderr",
     "output_type": "stream",
     "text": [
      "I0110 22:09:58.345181 139750346217216 tf_logging.py:115] Scale of 0 disables regularizer.\n"
     ]
    },
    {
     "name": "stdout",
     "output_type": "stream",
     "text": [
      "INFO:tensorflow:Scale of 0 disables regularizer.\n"
     ]
    },
    {
     "name": "stderr",
     "output_type": "stream",
     "text": [
      "I0110 22:10:00.827505 139750346217216 tf_logging.py:115] Scale of 0 disables regularizer.\n"
     ]
    },
    {
     "name": "stdout",
     "output_type": "stream",
     "text": [
      "INFO:tensorflow:Scale of 0 disables regularizer.\n"
     ]
    },
    {
     "name": "stderr",
     "output_type": "stream",
     "text": [
      "I0110 22:10:03.212838 139750346217216 tf_logging.py:115] Scale of 0 disables regularizer.\n"
     ]
    },
    {
     "name": "stdout",
     "output_type": "stream",
     "text": [
      "INFO:tensorflow:Scale of 0 disables regularizer.\n"
     ]
    },
    {
     "name": "stderr",
     "output_type": "stream",
     "text": [
      "I0110 22:10:05.657450 139750346217216 tf_logging.py:115] Scale of 0 disables regularizer.\n"
     ]
    },
    {
     "name": "stdout",
     "output_type": "stream",
     "text": [
      "INFO:tensorflow:Scale of 0 disables regularizer.\n"
     ]
    },
    {
     "name": "stderr",
     "output_type": "stream",
     "text": [
      "I0110 22:10:08.105572 139750346217216 tf_logging.py:115] Scale of 0 disables regularizer.\n"
     ]
    },
    {
     "name": "stdout",
     "output_type": "stream",
     "text": [
      "INFO:tensorflow:Scale of 0 disables regularizer.\n"
     ]
    },
    {
     "name": "stderr",
     "output_type": "stream",
     "text": [
      "I0110 22:10:10.606927 139750346217216 tf_logging.py:115] Scale of 0 disables regularizer.\n"
     ]
    },
    {
     "name": "stdout",
     "output_type": "stream",
     "text": [
      "INFO:tensorflow:Scale of 0 disables regularizer.\n"
     ]
    },
    {
     "name": "stderr",
     "output_type": "stream",
     "text": [
      "I0110 22:10:13.000541 139750346217216 tf_logging.py:115] Scale of 0 disables regularizer.\n"
     ]
    },
    {
     "name": "stdout",
     "output_type": "stream",
     "text": [
      "INFO:tensorflow:Scale of 0 disables regularizer.\n"
     ]
    },
    {
     "name": "stderr",
     "output_type": "stream",
     "text": [
      "I0110 22:10:15.436994 139750346217216 tf_logging.py:115] Scale of 0 disables regularizer.\n"
     ]
    },
    {
     "name": "stdout",
     "output_type": "stream",
     "text": [
      "INFO:tensorflow:Scale of 0 disables regularizer.\n"
     ]
    },
    {
     "name": "stderr",
     "output_type": "stream",
     "text": [
      "I0110 22:10:17.939159 139750346217216 tf_logging.py:115] Scale of 0 disables regularizer.\n"
     ]
    },
    {
     "name": "stdout",
     "output_type": "stream",
     "text": [
      "INFO:tensorflow:Scale of 0 disables regularizer.\n"
     ]
    },
    {
     "name": "stderr",
     "output_type": "stream",
     "text": [
      "I0110 22:10:20.384406 139750346217216 tf_logging.py:115] Scale of 0 disables regularizer.\n"
     ]
    },
    {
     "name": "stdout",
     "output_type": "stream",
     "text": [
      "INFO:tensorflow:Scale of 0 disables regularizer.\n"
     ]
    },
    {
     "name": "stderr",
     "output_type": "stream",
     "text": [
      "I0110 22:10:22.837404 139750346217216 tf_logging.py:115] Scale of 0 disables regularizer.\n"
     ]
    },
    {
     "name": "stdout",
     "output_type": "stream",
     "text": [
      "INFO:tensorflow:Scale of 0 disables regularizer.\n"
     ]
    },
    {
     "name": "stderr",
     "output_type": "stream",
     "text": [
      "I0110 22:10:25.222659 139750346217216 tf_logging.py:115] Scale of 0 disables regularizer.\n"
     ]
    },
    {
     "name": "stdout",
     "output_type": "stream",
     "text": [
      "INFO:tensorflow:Scale of 0 disables regularizer.\n"
     ]
    },
    {
     "name": "stderr",
     "output_type": "stream",
     "text": [
      "I0110 22:10:27.686603 139750346217216 tf_logging.py:115] Scale of 0 disables regularizer.\n"
     ]
    },
    {
     "name": "stdout",
     "output_type": "stream",
     "text": [
      "INFO:tensorflow:Scale of 0 disables regularizer.\n"
     ]
    },
    {
     "name": "stderr",
     "output_type": "stream",
     "text": [
      "I0110 22:10:30.138913 139750346217216 tf_logging.py:115] Scale of 0 disables regularizer.\n"
     ]
    },
    {
     "name": "stdout",
     "output_type": "stream",
     "text": [
      "INFO:tensorflow:Scale of 0 disables regularizer.\n"
     ]
    },
    {
     "name": "stderr",
     "output_type": "stream",
     "text": [
      "I0110 22:10:32.587577 139750346217216 tf_logging.py:115] Scale of 0 disables regularizer.\n"
     ]
    },
    {
     "name": "stdout",
     "output_type": "stream",
     "text": [
      "INFO:tensorflow:Scale of 0 disables regularizer.\n"
     ]
    },
    {
     "name": "stderr",
     "output_type": "stream",
     "text": [
      "I0110 22:10:34.998462 139750346217216 tf_logging.py:115] Scale of 0 disables regularizer.\n"
     ]
    },
    {
     "name": "stdout",
     "output_type": "stream",
     "text": [
      "INFO:tensorflow:Scale of 0 disables regularizer.\n"
     ]
    },
    {
     "name": "stderr",
     "output_type": "stream",
     "text": [
      "I0110 22:10:37.514900 139750346217216 tf_logging.py:115] Scale of 0 disables regularizer.\n"
     ]
    },
    {
     "name": "stdout",
     "output_type": "stream",
     "text": [
      "INFO:tensorflow:Scale of 0 disables regularizer.\n"
     ]
    },
    {
     "name": "stderr",
     "output_type": "stream",
     "text": [
      "I0110 22:10:39.953685 139750346217216 tf_logging.py:115] Scale of 0 disables regularizer.\n"
     ]
    },
    {
     "name": "stdout",
     "output_type": "stream",
     "text": [
      "INFO:tensorflow:Scale of 0 disables regularizer.\n"
     ]
    },
    {
     "name": "stderr",
     "output_type": "stream",
     "text": [
      "I0110 22:10:42.726548 139750346217216 tf_logging.py:115] Scale of 0 disables regularizer.\n"
     ]
    },
    {
     "name": "stdout",
     "output_type": "stream",
     "text": [
      "INFO:tensorflow:Scale of 0 disables regularizer.\n"
     ]
    },
    {
     "name": "stderr",
     "output_type": "stream",
     "text": [
      "I0110 22:10:45.118825 139750346217216 tf_logging.py:115] Scale of 0 disables regularizer.\n"
     ]
    },
    {
     "name": "stdout",
     "output_type": "stream",
     "text": [
      "INFO:tensorflow:Scale of 0 disables regularizer.\n"
     ]
    },
    {
     "name": "stderr",
     "output_type": "stream",
     "text": [
      "I0110 22:10:47.543632 139750346217216 tf_logging.py:115] Scale of 0 disables regularizer.\n"
     ]
    },
    {
     "name": "stdout",
     "output_type": "stream",
     "text": [
      "INFO:tensorflow:Scale of 0 disables regularizer.\n"
     ]
    },
    {
     "name": "stderr",
     "output_type": "stream",
     "text": [
      "I0110 22:10:50.002576 139750346217216 tf_logging.py:115] Scale of 0 disables regularizer.\n"
     ]
    },
    {
     "name": "stdout",
     "output_type": "stream",
     "text": [
      "INFO:tensorflow:Scale of 0 disables regularizer.\n"
     ]
    },
    {
     "name": "stderr",
     "output_type": "stream",
     "text": [
      "I0110 22:10:52.491059 139750346217216 tf_logging.py:115] Scale of 0 disables regularizer.\n"
     ]
    },
    {
     "name": "stdout",
     "output_type": "stream",
     "text": [
      "INFO:tensorflow:Scale of 0 disables regularizer.\n"
     ]
    },
    {
     "name": "stderr",
     "output_type": "stream",
     "text": [
      "I0110 22:10:54.971133 139750346217216 tf_logging.py:115] Scale of 0 disables regularizer.\n"
     ]
    },
    {
     "name": "stdout",
     "output_type": "stream",
     "text": [
      "INFO:tensorflow:Scale of 0 disables regularizer.\n"
     ]
    },
    {
     "name": "stderr",
     "output_type": "stream",
     "text": [
      "I0110 22:10:57.359328 139750346217216 tf_logging.py:115] Scale of 0 disables regularizer.\n"
     ]
    },
    {
     "name": "stdout",
     "output_type": "stream",
     "text": [
      "INFO:tensorflow:Scale of 0 disables regularizer.\n"
     ]
    },
    {
     "name": "stderr",
     "output_type": "stream",
     "text": [
      "I0110 22:10:59.807986 139750346217216 tf_logging.py:115] Scale of 0 disables regularizer.\n"
     ]
    },
    {
     "name": "stdout",
     "output_type": "stream",
     "text": [
      "INFO:tensorflow:Scale of 0 disables regularizer.\n"
     ]
    },
    {
     "name": "stderr",
     "output_type": "stream",
     "text": [
      "I0110 22:11:02.259089 139750346217216 tf_logging.py:115] Scale of 0 disables regularizer.\n"
     ]
    },
    {
     "name": "stdout",
     "output_type": "stream",
     "text": [
      "INFO:tensorflow:Scale of 0 disables regularizer.\n"
     ]
    },
    {
     "name": "stderr",
     "output_type": "stream",
     "text": [
      "I0110 22:11:04.714029 139750346217216 tf_logging.py:115] Scale of 0 disables regularizer.\n"
     ]
    },
    {
     "name": "stdout",
     "output_type": "stream",
     "text": [
      "INFO:tensorflow:Scale of 0 disables regularizer.\n"
     ]
    },
    {
     "name": "stderr",
     "output_type": "stream",
     "text": [
      "I0110 22:11:07.109299 139750346217216 tf_logging.py:115] Scale of 0 disables regularizer.\n"
     ]
    },
    {
     "name": "stdout",
     "output_type": "stream",
     "text": [
      "INFO:tensorflow:Scale of 0 disables regularizer.\n"
     ]
    },
    {
     "name": "stderr",
     "output_type": "stream",
     "text": [
      "I0110 22:11:09.558078 139750346217216 tf_logging.py:115] Scale of 0 disables regularizer.\n"
     ]
    },
    {
     "name": "stdout",
     "output_type": "stream",
     "text": [
      "INFO:tensorflow:Scale of 0 disables regularizer.\n"
     ]
    },
    {
     "name": "stderr",
     "output_type": "stream",
     "text": [
      "I0110 22:11:12.002783 139750346217216 tf_logging.py:115] Scale of 0 disables regularizer.\n"
     ]
    },
    {
     "name": "stdout",
     "output_type": "stream",
     "text": [
      "INFO:tensorflow:Scale of 0 disables regularizer.\n"
     ]
    },
    {
     "name": "stderr",
     "output_type": "stream",
     "text": [
      "I0110 22:11:14.460927 139750346217216 tf_logging.py:115] Scale of 0 disables regularizer.\n"
     ]
    },
    {
     "name": "stdout",
     "output_type": "stream",
     "text": [
      "INFO:tensorflow:Scale of 0 disables regularizer.\n"
     ]
    },
    {
     "name": "stderr",
     "output_type": "stream",
     "text": [
      "I0110 22:11:16.929204 139750346217216 tf_logging.py:115] Scale of 0 disables regularizer.\n"
     ]
    },
    {
     "name": "stdout",
     "output_type": "stream",
     "text": [
      "INFO:tensorflow:Scale of 0 disables regularizer.\n"
     ]
    },
    {
     "name": "stderr",
     "output_type": "stream",
     "text": [
      "I0110 22:11:19.314061 139750346217216 tf_logging.py:115] Scale of 0 disables regularizer.\n"
     ]
    },
    {
     "name": "stdout",
     "output_type": "stream",
     "text": [
      "INFO:tensorflow:Scale of 0 disables regularizer.\n"
     ]
    },
    {
     "name": "stderr",
     "output_type": "stream",
     "text": [
      "I0110 22:11:21.764784 139750346217216 tf_logging.py:115] Scale of 0 disables regularizer.\n"
     ]
    },
    {
     "name": "stdout",
     "output_type": "stream",
     "text": [
      "INFO:tensorflow:Scale of 0 disables regularizer.\n"
     ]
    },
    {
     "name": "stderr",
     "output_type": "stream",
     "text": [
      "I0110 22:11:24.222713 139750346217216 tf_logging.py:115] Scale of 0 disables regularizer.\n"
     ]
    },
    {
     "name": "stdout",
     "output_type": "stream",
     "text": [
      "INFO:tensorflow:Scale of 0 disables regularizer.\n"
     ]
    },
    {
     "name": "stderr",
     "output_type": "stream",
     "text": [
      "I0110 22:11:26.642598 139750346217216 tf_logging.py:115] Scale of 0 disables regularizer.\n"
     ]
    },
    {
     "name": "stdout",
     "output_type": "stream",
     "text": [
      "INFO:tensorflow:Scale of 0 disables regularizer.\n"
     ]
    },
    {
     "name": "stderr",
     "output_type": "stream",
     "text": [
      "I0110 22:11:29.032906 139750346217216 tf_logging.py:115] Scale of 0 disables regularizer.\n"
     ]
    },
    {
     "name": "stdout",
     "output_type": "stream",
     "text": [
      "INFO:tensorflow:Scale of 0 disables regularizer.\n"
     ]
    },
    {
     "name": "stderr",
     "output_type": "stream",
     "text": [
      "I0110 22:11:31.484266 139750346217216 tf_logging.py:115] Scale of 0 disables regularizer.\n"
     ]
    },
    {
     "name": "stdout",
     "output_type": "stream",
     "text": [
      "INFO:tensorflow:Scale of 0 disables regularizer.\n"
     ]
    },
    {
     "name": "stderr",
     "output_type": "stream",
     "text": [
      "I0110 22:11:33.937900 139750346217216 tf_logging.py:115] Scale of 0 disables regularizer.\n"
     ]
    },
    {
     "name": "stdout",
     "output_type": "stream",
     "text": [
      "INFO:tensorflow:Scale of 0 disables regularizer.\n"
     ]
    },
    {
     "name": "stderr",
     "output_type": "stream",
     "text": [
      "I0110 22:11:36.460582 139750346217216 tf_logging.py:115] Scale of 0 disables regularizer.\n"
     ]
    },
    {
     "name": "stdout",
     "output_type": "stream",
     "text": [
      "INFO:tensorflow:Scale of 0 disables regularizer.\n"
     ]
    },
    {
     "name": "stderr",
     "output_type": "stream",
     "text": [
      "I0110 22:11:38.875367 139750346217216 tf_logging.py:115] Scale of 0 disables regularizer.\n"
     ]
    },
    {
     "name": "stdout",
     "output_type": "stream",
     "text": [
      "INFO:tensorflow:Scale of 0 disables regularizer.\n"
     ]
    },
    {
     "name": "stderr",
     "output_type": "stream",
     "text": [
      "I0110 22:11:41.320167 139750346217216 tf_logging.py:115] Scale of 0 disables regularizer.\n"
     ]
    },
    {
     "name": "stdout",
     "output_type": "stream",
     "text": [
      "INFO:tensorflow:Scale of 0 disables regularizer.\n"
     ]
    },
    {
     "name": "stderr",
     "output_type": "stream",
     "text": [
      "I0110 22:11:43.769091 139750346217216 tf_logging.py:115] Scale of 0 disables regularizer.\n"
     ]
    },
    {
     "name": "stdout",
     "output_type": "stream",
     "text": [
      "INFO:tensorflow:Scale of 0 disables regularizer.\n"
     ]
    },
    {
     "name": "stderr",
     "output_type": "stream",
     "text": [
      "I0110 22:11:46.217030 139750346217216 tf_logging.py:115] Scale of 0 disables regularizer.\n"
     ]
    },
    {
     "name": "stdout",
     "output_type": "stream",
     "text": [
      "INFO:tensorflow:Scale of 0 disables regularizer.\n"
     ]
    },
    {
     "name": "stderr",
     "output_type": "stream",
     "text": [
      "I0110 22:11:48.675383 139750346217216 tf_logging.py:115] Scale of 0 disables regularizer.\n"
     ]
    },
    {
     "name": "stdout",
     "output_type": "stream",
     "text": [
      "INFO:tensorflow:Scale of 0 disables regularizer.\n"
     ]
    },
    {
     "name": "stderr",
     "output_type": "stream",
     "text": [
      "I0110 22:11:51.063373 139750346217216 tf_logging.py:115] Scale of 0 disables regularizer.\n"
     ]
    },
    {
     "name": "stdout",
     "output_type": "stream",
     "text": [
      "INFO:tensorflow:Scale of 0 disables regularizer.\n"
     ]
    },
    {
     "name": "stderr",
     "output_type": "stream",
     "text": [
      "I0110 22:11:53.546927 139750346217216 tf_logging.py:115] Scale of 0 disables regularizer.\n"
     ]
    },
    {
     "name": "stdout",
     "output_type": "stream",
     "text": [
      "INFO:tensorflow:Scale of 0 disables regularizer.\n"
     ]
    },
    {
     "name": "stderr",
     "output_type": "stream",
     "text": [
      "I0110 22:11:56.032574 139750346217216 tf_logging.py:115] Scale of 0 disables regularizer.\n"
     ]
    },
    {
     "name": "stdout",
     "output_type": "stream",
     "text": [
      "INFO:tensorflow:Scale of 0 disables regularizer.\n"
     ]
    },
    {
     "name": "stderr",
     "output_type": "stream",
     "text": [
      "I0110 22:11:58.486856 139750346217216 tf_logging.py:115] Scale of 0 disables regularizer.\n"
     ]
    },
    {
     "name": "stdout",
     "output_type": "stream",
     "text": [
      "INFO:tensorflow:Scale of 0 disables regularizer.\n"
     ]
    },
    {
     "name": "stderr",
     "output_type": "stream",
     "text": [
      "I0110 22:12:00.901930 139750346217216 tf_logging.py:115] Scale of 0 disables regularizer.\n"
     ]
    },
    {
     "name": "stdout",
     "output_type": "stream",
     "text": [
      "INFO:tensorflow:Scale of 0 disables regularizer.\n"
     ]
    },
    {
     "name": "stderr",
     "output_type": "stream",
     "text": [
      "I0110 22:12:03.351643 139750346217216 tf_logging.py:115] Scale of 0 disables regularizer.\n"
     ]
    },
    {
     "name": "stdout",
     "output_type": "stream",
     "text": [
      "INFO:tensorflow:Scale of 0 disables regularizer.\n"
     ]
    },
    {
     "name": "stderr",
     "output_type": "stream",
     "text": [
      "I0110 22:12:05.809584 139750346217216 tf_logging.py:115] Scale of 0 disables regularizer.\n"
     ]
    },
    {
     "name": "stdout",
     "output_type": "stream",
     "text": [
      "INFO:tensorflow:Scale of 0 disables regularizer.\n"
     ]
    },
    {
     "name": "stderr",
     "output_type": "stream",
     "text": [
      "I0110 22:12:08.302041 139750346217216 tf_logging.py:115] Scale of 0 disables regularizer.\n"
     ]
    },
    {
     "name": "stdout",
     "output_type": "stream",
     "text": [
      "INFO:tensorflow:Scale of 0 disables regularizer.\n"
     ]
    },
    {
     "name": "stderr",
     "output_type": "stream",
     "text": [
      "I0110 22:12:10.773498 139750346217216 tf_logging.py:115] Scale of 0 disables regularizer.\n"
     ]
    },
    {
     "name": "stdout",
     "output_type": "stream",
     "text": [
      "INFO:tensorflow:Scale of 0 disables regularizer.\n"
     ]
    },
    {
     "name": "stderr",
     "output_type": "stream",
     "text": [
      "I0110 22:12:13.173064 139750346217216 tf_logging.py:115] Scale of 0 disables regularizer.\n"
     ]
    },
    {
     "name": "stdout",
     "output_type": "stream",
     "text": [
      "INFO:tensorflow:Scale of 0 disables regularizer.\n"
     ]
    },
    {
     "name": "stderr",
     "output_type": "stream",
     "text": [
      "I0110 22:12:15.619107 139750346217216 tf_logging.py:115] Scale of 0 disables regularizer.\n"
     ]
    },
    {
     "name": "stdout",
     "output_type": "stream",
     "text": [
      "INFO:tensorflow:Scale of 0 disables regularizer.\n"
     ]
    },
    {
     "name": "stderr",
     "output_type": "stream",
     "text": [
      "I0110 22:12:18.064600 139750346217216 tf_logging.py:115] Scale of 0 disables regularizer.\n"
     ]
    },
    {
     "name": "stdout",
     "output_type": "stream",
     "text": [
      "INFO:tensorflow:Scale of 0 disables regularizer.\n"
     ]
    },
    {
     "name": "stderr",
     "output_type": "stream",
     "text": [
      "I0110 22:12:20.513680 139750346217216 tf_logging.py:115] Scale of 0 disables regularizer.\n"
     ]
    },
    {
     "name": "stdout",
     "output_type": "stream",
     "text": [
      "INFO:tensorflow:Scale of 0 disables regularizer.\n"
     ]
    },
    {
     "name": "stderr",
     "output_type": "stream",
     "text": [
      "I0110 22:12:22.898250 139750346217216 tf_logging.py:115] Scale of 0 disables regularizer.\n"
     ]
    },
    {
     "name": "stdout",
     "output_type": "stream",
     "text": [
      "INFO:tensorflow:Scale of 0 disables regularizer.\n"
     ]
    },
    {
     "name": "stderr",
     "output_type": "stream",
     "text": [
      "I0110 22:12:25.354703 139750346217216 tf_logging.py:115] Scale of 0 disables regularizer.\n"
     ]
    },
    {
     "name": "stdout",
     "output_type": "stream",
     "text": [
      "INFO:tensorflow:Scale of 0 disables regularizer.\n"
     ]
    },
    {
     "name": "stderr",
     "output_type": "stream",
     "text": [
      "I0110 22:12:27.794368 139750346217216 tf_logging.py:115] Scale of 0 disables regularizer.\n"
     ]
    },
    {
     "name": "stdout",
     "output_type": "stream",
     "text": [
      "INFO:tensorflow:Scale of 0 disables regularizer.\n"
     ]
    },
    {
     "name": "stderr",
     "output_type": "stream",
     "text": [
      "I0110 22:12:30.250395 139750346217216 tf_logging.py:115] Scale of 0 disables regularizer.\n"
     ]
    },
    {
     "name": "stdout",
     "output_type": "stream",
     "text": [
      "INFO:tensorflow:Scale of 0 disables regularizer.\n"
     ]
    },
    {
     "name": "stderr",
     "output_type": "stream",
     "text": [
      "I0110 22:12:32.639414 139750346217216 tf_logging.py:115] Scale of 0 disables regularizer.\n"
     ]
    },
    {
     "name": "stdout",
     "output_type": "stream",
     "text": [
      "INFO:tensorflow:Scale of 0 disables regularizer.\n"
     ]
    },
    {
     "name": "stderr",
     "output_type": "stream",
     "text": [
      "I0110 22:12:35.093719 139750346217216 tf_logging.py:115] Scale of 0 disables regularizer.\n"
     ]
    },
    {
     "name": "stdout",
     "output_type": "stream",
     "text": [
      "INFO:tensorflow:Scale of 0 disables regularizer.\n"
     ]
    },
    {
     "name": "stderr",
     "output_type": "stream",
     "text": [
      "I0110 22:12:37.535511 139750346217216 tf_logging.py:115] Scale of 0 disables regularizer.\n"
     ]
    },
    {
     "name": "stdout",
     "output_type": "stream",
     "text": [
      "INFO:tensorflow:Scale of 0 disables regularizer.\n"
     ]
    },
    {
     "name": "stderr",
     "output_type": "stream",
     "text": [
      "I0110 22:12:40.017668 139750346217216 tf_logging.py:115] Scale of 0 disables regularizer.\n"
     ]
    },
    {
     "name": "stdout",
     "output_type": "stream",
     "text": [
      "INFO:tensorflow:Scale of 0 disables regularizer.\n"
     ]
    },
    {
     "name": "stderr",
     "output_type": "stream",
     "text": [
      "I0110 22:12:42.464160 139750346217216 tf_logging.py:115] Scale of 0 disables regularizer.\n"
     ]
    },
    {
     "name": "stdout",
     "output_type": "stream",
     "text": [
      "INFO:tensorflow:Scale of 0 disables regularizer.\n"
     ]
    },
    {
     "name": "stderr",
     "output_type": "stream",
     "text": [
      "I0110 22:12:44.852166 139750346217216 tf_logging.py:115] Scale of 0 disables regularizer.\n"
     ]
    },
    {
     "name": "stdout",
     "output_type": "stream",
     "text": [
      "INFO:tensorflow:Scale of 0 disables regularizer.\n"
     ]
    },
    {
     "name": "stderr",
     "output_type": "stream",
     "text": [
      "I0110 22:12:47.294947 139750346217216 tf_logging.py:115] Scale of 0 disables regularizer.\n"
     ]
    },
    {
     "name": "stdout",
     "output_type": "stream",
     "text": [
      "INFO:tensorflow:Scale of 0 disables regularizer.\n"
     ]
    },
    {
     "name": "stderr",
     "output_type": "stream",
     "text": [
      "I0110 22:12:49.775865 139750346217216 tf_logging.py:115] Scale of 0 disables regularizer.\n"
     ]
    },
    {
     "name": "stdout",
     "output_type": "stream",
     "text": [
      "INFO:tensorflow:Scale of 0 disables regularizer.\n"
     ]
    },
    {
     "name": "stderr",
     "output_type": "stream",
     "text": [
      "I0110 22:12:52.225962 139750346217216 tf_logging.py:115] Scale of 0 disables regularizer.\n"
     ]
    },
    {
     "name": "stdout",
     "output_type": "stream",
     "text": [
      "INFO:tensorflow:Scale of 0 disables regularizer.\n"
     ]
    },
    {
     "name": "stderr",
     "output_type": "stream",
     "text": [
      "I0110 22:12:54.617920 139750346217216 tf_logging.py:115] Scale of 0 disables regularizer.\n"
     ]
    },
    {
     "name": "stdout",
     "output_type": "stream",
     "text": [
      "INFO:tensorflow:Scale of 0 disables regularizer.\n"
     ]
    },
    {
     "name": "stderr",
     "output_type": "stream",
     "text": [
      "I0110 22:12:57.057978 139750346217216 tf_logging.py:115] Scale of 0 disables regularizer.\n"
     ]
    },
    {
     "name": "stdout",
     "output_type": "stream",
     "text": [
      "INFO:tensorflow:Scale of 0 disables regularizer.\n"
     ]
    },
    {
     "name": "stderr",
     "output_type": "stream",
     "text": [
      "I0110 22:12:59.507147 139750346217216 tf_logging.py:115] Scale of 0 disables regularizer.\n"
     ]
    },
    {
     "name": "stdout",
     "output_type": "stream",
     "text": [
      "INFO:tensorflow:Scale of 0 disables regularizer.\n"
     ]
    },
    {
     "name": "stderr",
     "output_type": "stream",
     "text": [
      "I0110 22:13:01.956516 139750346217216 tf_logging.py:115] Scale of 0 disables regularizer.\n"
     ]
    },
    {
     "name": "stdout",
     "output_type": "stream",
     "text": [
      "INFO:tensorflow:Scale of 0 disables regularizer.\n"
     ]
    },
    {
     "name": "stderr",
     "output_type": "stream",
     "text": [
      "I0110 22:13:04.407655 139750346217216 tf_logging.py:115] Scale of 0 disables regularizer.\n"
     ]
    },
    {
     "name": "stdout",
     "output_type": "stream",
     "text": [
      "INFO:tensorflow:Scale of 0 disables regularizer.\n"
     ]
    },
    {
     "name": "stderr",
     "output_type": "stream",
     "text": [
      "I0110 22:13:06.804830 139750346217216 tf_logging.py:115] Scale of 0 disables regularizer.\n"
     ]
    },
    {
     "name": "stdout",
     "output_type": "stream",
     "text": [
      "INFO:tensorflow:Scale of 0 disables regularizer.\n"
     ]
    },
    {
     "name": "stderr",
     "output_type": "stream",
     "text": [
      "I0110 22:13:09.246829 139750346217216 tf_logging.py:115] Scale of 0 disables regularizer.\n"
     ]
    },
    {
     "name": "stdout",
     "output_type": "stream",
     "text": [
      "INFO:tensorflow:Scale of 0 disables regularizer.\n"
     ]
    },
    {
     "name": "stderr",
     "output_type": "stream",
     "text": [
      "I0110 22:13:11.692363 139750346217216 tf_logging.py:115] Scale of 0 disables regularizer.\n"
     ]
    },
    {
     "name": "stdout",
     "output_type": "stream",
     "text": [
      "INFO:tensorflow:Scale of 0 disables regularizer.\n"
     ]
    },
    {
     "name": "stderr",
     "output_type": "stream",
     "text": [
      "I0110 22:13:14.143557 139750346217216 tf_logging.py:115] Scale of 0 disables regularizer.\n"
     ]
    },
    {
     "name": "stdout",
     "output_type": "stream",
     "text": [
      "INFO:tensorflow:Scale of 0 disables regularizer.\n"
     ]
    },
    {
     "name": "stderr",
     "output_type": "stream",
     "text": [
      "I0110 22:13:16.527412 139750346217216 tf_logging.py:115] Scale of 0 disables regularizer.\n"
     ]
    },
    {
     "name": "stdout",
     "output_type": "stream",
     "text": [
      "INFO:tensorflow:Scale of 0 disables regularizer.\n"
     ]
    },
    {
     "name": "stderr",
     "output_type": "stream",
     "text": [
      "I0110 22:13:18.969572 139750346217216 tf_logging.py:115] Scale of 0 disables regularizer.\n"
     ]
    },
    {
     "name": "stdout",
     "output_type": "stream",
     "text": [
      "INFO:tensorflow:Scale of 0 disables regularizer.\n"
     ]
    },
    {
     "name": "stderr",
     "output_type": "stream",
     "text": [
      "I0110 22:13:21.416952 139750346217216 tf_logging.py:115] Scale of 0 disables regularizer.\n"
     ]
    },
    {
     "name": "stdout",
     "output_type": "stream",
     "text": [
      "INFO:tensorflow:Scale of 0 disables regularizer.\n"
     ]
    },
    {
     "name": "stderr",
     "output_type": "stream",
     "text": [
      "I0110 22:13:23.875770 139750346217216 tf_logging.py:115] Scale of 0 disables regularizer.\n"
     ]
    },
    {
     "name": "stdout",
     "output_type": "stream",
     "text": [
      "INFO:tensorflow:Scale of 0 disables regularizer.\n"
     ]
    },
    {
     "name": "stderr",
     "output_type": "stream",
     "text": [
      "I0110 22:13:26.286545 139750346217216 tf_logging.py:115] Scale of 0 disables regularizer.\n"
     ]
    },
    {
     "name": "stdout",
     "output_type": "stream",
     "text": [
      "INFO:tensorflow:Scale of 0 disables regularizer.\n"
     ]
    },
    {
     "name": "stderr",
     "output_type": "stream",
     "text": [
      "I0110 22:13:28.757691 139750346217216 tf_logging.py:115] Scale of 0 disables regularizer.\n"
     ]
    },
    {
     "name": "stdout",
     "output_type": "stream",
     "text": [
      "INFO:tensorflow:Scale of 0 disables regularizer.\n"
     ]
    },
    {
     "name": "stderr",
     "output_type": "stream",
     "text": [
      "I0110 22:13:31.224347 139750346217216 tf_logging.py:115] Scale of 0 disables regularizer.\n"
     ]
    },
    {
     "name": "stdout",
     "output_type": "stream",
     "text": [
      "INFO:tensorflow:Scale of 0 disables regularizer.\n"
     ]
    },
    {
     "name": "stderr",
     "output_type": "stream",
     "text": [
      "I0110 22:13:33.674017 139750346217216 tf_logging.py:115] Scale of 0 disables regularizer.\n"
     ]
    },
    {
     "name": "stdout",
     "output_type": "stream",
     "text": [
      "INFO:tensorflow:Scale of 0 disables regularizer.\n"
     ]
    },
    {
     "name": "stderr",
     "output_type": "stream",
     "text": [
      "I0110 22:13:36.143872 139750346217216 tf_logging.py:115] Scale of 0 disables regularizer.\n"
     ]
    },
    {
     "name": "stdout",
     "output_type": "stream",
     "text": [
      "INFO:tensorflow:Scale of 0 disables regularizer.\n"
     ]
    },
    {
     "name": "stderr",
     "output_type": "stream",
     "text": [
      "I0110 22:13:38.536096 139750346217216 tf_logging.py:115] Scale of 0 disables regularizer.\n"
     ]
    },
    {
     "name": "stdout",
     "output_type": "stream",
     "text": [
      "INFO:tensorflow:Scale of 0 disables regularizer.\n"
     ]
    },
    {
     "name": "stderr",
     "output_type": "stream",
     "text": [
      "I0110 22:13:41.007333 139750346217216 tf_logging.py:115] Scale of 0 disables regularizer.\n"
     ]
    },
    {
     "name": "stdout",
     "output_type": "stream",
     "text": [
      "INFO:tensorflow:Scale of 0 disables regularizer.\n"
     ]
    },
    {
     "name": "stderr",
     "output_type": "stream",
     "text": [
      "I0110 22:13:43.435048 139750346217216 tf_logging.py:115] Scale of 0 disables regularizer.\n"
     ]
    },
    {
     "name": "stdout",
     "output_type": "stream",
     "text": [
      "INFO:tensorflow:Scale of 0 disables regularizer.\n"
     ]
    },
    {
     "name": "stderr",
     "output_type": "stream",
     "text": [
      "I0110 22:13:45.886584 139750346217216 tf_logging.py:115] Scale of 0 disables regularizer.\n"
     ]
    },
    {
     "name": "stdout",
     "output_type": "stream",
     "text": [
      "INFO:tensorflow:Scale of 0 disables regularizer.\n"
     ]
    },
    {
     "name": "stderr",
     "output_type": "stream",
     "text": [
      "I0110 22:13:48.282186 139750346217216 tf_logging.py:115] Scale of 0 disables regularizer.\n"
     ]
    },
    {
     "name": "stdout",
     "output_type": "stream",
     "text": [
      "INFO:tensorflow:Scale of 0 disables regularizer.\n"
     ]
    },
    {
     "name": "stderr",
     "output_type": "stream",
     "text": [
      "I0110 22:13:50.759152 139750346217216 tf_logging.py:115] Scale of 0 disables regularizer.\n"
     ]
    },
    {
     "name": "stdout",
     "output_type": "stream",
     "text": [
      "INFO:tensorflow:Scale of 0 disables regularizer.\n"
     ]
    },
    {
     "name": "stderr",
     "output_type": "stream",
     "text": [
      "I0110 22:13:53.210064 139750346217216 tf_logging.py:115] Scale of 0 disables regularizer.\n"
     ]
    },
    {
     "name": "stdout",
     "output_type": "stream",
     "text": [
      "INFO:tensorflow:Scale of 0 disables regularizer.\n"
     ]
    },
    {
     "name": "stderr",
     "output_type": "stream",
     "text": [
      "I0110 22:13:55.665180 139750346217216 tf_logging.py:115] Scale of 0 disables regularizer.\n"
     ]
    },
    {
     "name": "stdout",
     "output_type": "stream",
     "text": [
      "INFO:tensorflow:Scale of 0 disables regularizer.\n"
     ]
    },
    {
     "name": "stderr",
     "output_type": "stream",
     "text": [
      "I0110 22:13:58.120292 139750346217216 tf_logging.py:115] Scale of 0 disables regularizer.\n"
     ]
    },
    {
     "name": "stdout",
     "output_type": "stream",
     "text": [
      "INFO:tensorflow:Scale of 0 disables regularizer.\n"
     ]
    },
    {
     "name": "stderr",
     "output_type": "stream",
     "text": [
      "I0110 22:14:00.509193 139750346217216 tf_logging.py:115] Scale of 0 disables regularizer.\n"
     ]
    },
    {
     "name": "stdout",
     "output_type": "stream",
     "text": [
      "INFO:tensorflow:Scale of 0 disables regularizer.\n"
     ]
    },
    {
     "name": "stderr",
     "output_type": "stream",
     "text": [
      "I0110 22:14:02.952805 139750346217216 tf_logging.py:115] Scale of 0 disables regularizer.\n"
     ]
    },
    {
     "name": "stdout",
     "output_type": "stream",
     "text": [
      "INFO:tensorflow:Scale of 0 disables regularizer.\n"
     ]
    },
    {
     "name": "stderr",
     "output_type": "stream",
     "text": [
      "I0110 22:14:05.398512 139750346217216 tf_logging.py:115] Scale of 0 disables regularizer.\n"
     ]
    },
    {
     "name": "stdout",
     "output_type": "stream",
     "text": [
      "INFO:tensorflow:Scale of 0 disables regularizer.\n"
     ]
    },
    {
     "name": "stderr",
     "output_type": "stream",
     "text": [
      "I0110 22:14:07.853871 139750346217216 tf_logging.py:115] Scale of 0 disables regularizer.\n"
     ]
    },
    {
     "name": "stdout",
     "output_type": "stream",
     "text": [
      "INFO:tensorflow:Scale of 0 disables regularizer.\n"
     ]
    },
    {
     "name": "stderr",
     "output_type": "stream",
     "text": [
      "I0110 22:14:10.240758 139750346217216 tf_logging.py:115] Scale of 0 disables regularizer.\n"
     ]
    },
    {
     "name": "stdout",
     "output_type": "stream",
     "text": [
      "INFO:tensorflow:Scale of 0 disables regularizer.\n"
     ]
    },
    {
     "name": "stderr",
     "output_type": "stream",
     "text": [
      "I0110 22:14:12.701198 139750346217216 tf_logging.py:115] Scale of 0 disables regularizer.\n"
     ]
    },
    {
     "name": "stdout",
     "output_type": "stream",
     "text": [
      "INFO:tensorflow:Scale of 0 disables regularizer.\n"
     ]
    },
    {
     "name": "stderr",
     "output_type": "stream",
     "text": [
      "I0110 22:14:15.145251 139750346217216 tf_logging.py:115] Scale of 0 disables regularizer.\n"
     ]
    },
    {
     "name": "stdout",
     "output_type": "stream",
     "text": [
      "INFO:tensorflow:Scale of 0 disables regularizer.\n"
     ]
    },
    {
     "name": "stderr",
     "output_type": "stream",
     "text": [
      "I0110 22:14:17.592417 139750346217216 tf_logging.py:115] Scale of 0 disables regularizer.\n"
     ]
    },
    {
     "name": "stdout",
     "output_type": "stream",
     "text": [
      "INFO:tensorflow:Scale of 0 disables regularizer.\n"
     ]
    },
    {
     "name": "stderr",
     "output_type": "stream",
     "text": [
      "I0110 22:14:19.982507 139750346217216 tf_logging.py:115] Scale of 0 disables regularizer.\n"
     ]
    },
    {
     "name": "stdout",
     "output_type": "stream",
     "text": [
      "INFO:tensorflow:Scale of 0 disables regularizer.\n"
     ]
    },
    {
     "name": "stderr",
     "output_type": "stream",
     "text": [
      "I0110 22:14:22.465754 139750346217216 tf_logging.py:115] Scale of 0 disables regularizer.\n"
     ]
    },
    {
     "name": "stdout",
     "output_type": "stream",
     "text": [
      "INFO:tensorflow:Scale of 0 disables regularizer.\n"
     ]
    },
    {
     "name": "stderr",
     "output_type": "stream",
     "text": [
      "I0110 22:14:24.913625 139750346217216 tf_logging.py:115] Scale of 0 disables regularizer.\n"
     ]
    },
    {
     "name": "stdout",
     "output_type": "stream",
     "text": [
      "INFO:tensorflow:Scale of 0 disables regularizer.\n"
     ]
    },
    {
     "name": "stderr",
     "output_type": "stream",
     "text": [
      "I0110 22:14:27.360741 139750346217216 tf_logging.py:115] Scale of 0 disables regularizer.\n"
     ]
    },
    {
     "name": "stdout",
     "output_type": "stream",
     "text": [
      "INFO:tensorflow:Scale of 0 disables regularizer.\n"
     ]
    },
    {
     "name": "stderr",
     "output_type": "stream",
     "text": [
      "I0110 22:14:29.816252 139750346217216 tf_logging.py:115] Scale of 0 disables regularizer.\n"
     ]
    },
    {
     "name": "stdout",
     "output_type": "stream",
     "text": [
      "INFO:tensorflow:Scale of 0 disables regularizer.\n"
     ]
    },
    {
     "name": "stderr",
     "output_type": "stream",
     "text": [
      "I0110 22:14:32.218347 139750346217216 tf_logging.py:115] Scale of 0 disables regularizer.\n"
     ]
    },
    {
     "name": "stdout",
     "output_type": "stream",
     "text": [
      "INFO:tensorflow:Scale of 0 disables regularizer.\n"
     ]
    },
    {
     "name": "stderr",
     "output_type": "stream",
     "text": [
      "I0110 22:14:34.668478 139750346217216 tf_logging.py:115] Scale of 0 disables regularizer.\n"
     ]
    },
    {
     "name": "stdout",
     "output_type": "stream",
     "text": [
      "INFO:tensorflow:Scale of 0 disables regularizer.\n"
     ]
    },
    {
     "name": "stderr",
     "output_type": "stream",
     "text": [
      "I0110 22:14:37.103853 139750346217216 tf_logging.py:115] Scale of 0 disables regularizer.\n"
     ]
    },
    {
     "name": "stdout",
     "output_type": "stream",
     "text": [
      "INFO:tensorflow:Scale of 0 disables regularizer.\n"
     ]
    },
    {
     "name": "stderr",
     "output_type": "stream",
     "text": [
      "I0110 22:14:39.558064 139750346217216 tf_logging.py:115] Scale of 0 disables regularizer.\n"
     ]
    },
    {
     "name": "stdout",
     "output_type": "stream",
     "text": [
      "INFO:tensorflow:Scale of 0 disables regularizer.\n"
     ]
    },
    {
     "name": "stderr",
     "output_type": "stream",
     "text": [
      "I0110 22:14:41.972502 139750346217216 tf_logging.py:115] Scale of 0 disables regularizer.\n"
     ]
    },
    {
     "name": "stdout",
     "output_type": "stream",
     "text": [
      "INFO:tensorflow:Scale of 0 disables regularizer.\n"
     ]
    },
    {
     "name": "stderr",
     "output_type": "stream",
     "text": [
      "I0110 22:14:44.420377 139750346217216 tf_logging.py:115] Scale of 0 disables regularizer.\n"
     ]
    },
    {
     "name": "stdout",
     "output_type": "stream",
     "text": [
      "INFO:tensorflow:Scale of 0 disables regularizer.\n"
     ]
    },
    {
     "name": "stderr",
     "output_type": "stream",
     "text": [
      "I0110 22:14:46.878458 139750346217216 tf_logging.py:115] Scale of 0 disables regularizer.\n"
     ]
    },
    {
     "name": "stdout",
     "output_type": "stream",
     "text": [
      "INFO:tensorflow:Scale of 0 disables regularizer.\n"
     ]
    },
    {
     "name": "stderr",
     "output_type": "stream",
     "text": [
      "I0110 22:14:49.348699 139750346217216 tf_logging.py:115] Scale of 0 disables regularizer.\n"
     ]
    },
    {
     "name": "stdout",
     "output_type": "stream",
     "text": [
      "INFO:tensorflow:Scale of 0 disables regularizer.\n"
     ]
    },
    {
     "name": "stderr",
     "output_type": "stream",
     "text": [
      "I0110 22:14:52.100115 139750346217216 tf_logging.py:115] Scale of 0 disables regularizer.\n"
     ]
    },
    {
     "name": "stdout",
     "output_type": "stream",
     "text": [
      "INFO:tensorflow:Scale of 0 disables regularizer.\n"
     ]
    },
    {
     "name": "stderr",
     "output_type": "stream",
     "text": [
      "I0110 22:14:54.501336 139750346217216 tf_logging.py:115] Scale of 0 disables regularizer.\n"
     ]
    },
    {
     "name": "stdout",
     "output_type": "stream",
     "text": [
      "INFO:tensorflow:Scale of 0 disables regularizer.\n"
     ]
    },
    {
     "name": "stderr",
     "output_type": "stream",
     "text": [
      "I0110 22:14:56.956799 139750346217216 tf_logging.py:115] Scale of 0 disables regularizer.\n"
     ]
    },
    {
     "name": "stdout",
     "output_type": "stream",
     "text": [
      "INFO:tensorflow:Scale of 0 disables regularizer.\n"
     ]
    },
    {
     "name": "stderr",
     "output_type": "stream",
     "text": [
      "I0110 22:14:59.414746 139750346217216 tf_logging.py:115] Scale of 0 disables regularizer.\n"
     ]
    },
    {
     "name": "stdout",
     "output_type": "stream",
     "text": [
      "INFO:tensorflow:Scale of 0 disables regularizer.\n"
     ]
    },
    {
     "name": "stderr",
     "output_type": "stream",
     "text": [
      "I0110 22:15:01.872312 139750346217216 tf_logging.py:115] Scale of 0 disables regularizer.\n"
     ]
    },
    {
     "name": "stdout",
     "output_type": "stream",
     "text": [
      "INFO:tensorflow:Scale of 0 disables regularizer.\n"
     ]
    },
    {
     "name": "stderr",
     "output_type": "stream",
     "text": [
      "I0110 22:15:04.266582 139750346217216 tf_logging.py:115] Scale of 0 disables regularizer.\n"
     ]
    },
    {
     "name": "stdout",
     "output_type": "stream",
     "text": [
      "INFO:tensorflow:Scale of 0 disables regularizer.\n"
     ]
    },
    {
     "name": "stderr",
     "output_type": "stream",
     "text": [
      "I0110 22:15:06.744562 139750346217216 tf_logging.py:115] Scale of 0 disables regularizer.\n"
     ]
    },
    {
     "name": "stdout",
     "output_type": "stream",
     "text": [
      "INFO:tensorflow:Scale of 0 disables regularizer.\n"
     ]
    },
    {
     "name": "stderr",
     "output_type": "stream",
     "text": [
      "I0110 22:15:09.223590 139750346217216 tf_logging.py:115] Scale of 0 disables regularizer.\n"
     ]
    },
    {
     "name": "stdout",
     "output_type": "stream",
     "text": [
      "INFO:tensorflow:Scale of 0 disables regularizer.\n"
     ]
    },
    {
     "name": "stderr",
     "output_type": "stream",
     "text": [
      "I0110 22:15:11.682485 139750346217216 tf_logging.py:115] Scale of 0 disables regularizer.\n"
     ]
    },
    {
     "name": "stdout",
     "output_type": "stream",
     "text": [
      "INFO:tensorflow:Scale of 0 disables regularizer.\n"
     ]
    },
    {
     "name": "stderr",
     "output_type": "stream",
     "text": [
      "I0110 22:15:14.068772 139750346217216 tf_logging.py:115] Scale of 0 disables regularizer.\n"
     ]
    },
    {
     "name": "stdout",
     "output_type": "stream",
     "text": [
      "INFO:tensorflow:Scale of 0 disables regularizer.\n"
     ]
    },
    {
     "name": "stderr",
     "output_type": "stream",
     "text": [
      "I0110 22:15:16.508759 139750346217216 tf_logging.py:115] Scale of 0 disables regularizer.\n"
     ]
    },
    {
     "name": "stdout",
     "output_type": "stream",
     "text": [
      "INFO:tensorflow:Scale of 0 disables regularizer.\n"
     ]
    },
    {
     "name": "stderr",
     "output_type": "stream",
     "text": [
      "I0110 22:15:18.983194 139750346217216 tf_logging.py:115] Scale of 0 disables regularizer.\n"
     ]
    },
    {
     "name": "stdout",
     "output_type": "stream",
     "text": [
      "INFO:tensorflow:Scale of 0 disables regularizer.\n"
     ]
    },
    {
     "name": "stderr",
     "output_type": "stream",
     "text": [
      "I0110 22:15:21.429516 139750346217216 tf_logging.py:115] Scale of 0 disables regularizer.\n"
     ]
    },
    {
     "name": "stdout",
     "output_type": "stream",
     "text": [
      "INFO:tensorflow:Scale of 0 disables regularizer.\n"
     ]
    },
    {
     "name": "stderr",
     "output_type": "stream",
     "text": [
      "I0110 22:15:23.884774 139750346217216 tf_logging.py:115] Scale of 0 disables regularizer.\n"
     ]
    },
    {
     "name": "stdout",
     "output_type": "stream",
     "text": [
      "INFO:tensorflow:Scale of 0 disables regularizer.\n"
     ]
    },
    {
     "name": "stderr",
     "output_type": "stream",
     "text": [
      "I0110 22:15:26.269418 139750346217216 tf_logging.py:115] Scale of 0 disables regularizer.\n"
     ]
    },
    {
     "name": "stdout",
     "output_type": "stream",
     "text": [
      "INFO:tensorflow:Scale of 0 disables regularizer.\n"
     ]
    },
    {
     "name": "stderr",
     "output_type": "stream",
     "text": [
      "I0110 22:15:28.714010 139750346217216 tf_logging.py:115] Scale of 0 disables regularizer.\n"
     ]
    },
    {
     "name": "stdout",
     "output_type": "stream",
     "text": [
      "INFO:tensorflow:Scale of 0 disables regularizer.\n"
     ]
    },
    {
     "name": "stderr",
     "output_type": "stream",
     "text": [
      "I0110 22:15:31.168143 139750346217216 tf_logging.py:115] Scale of 0 disables regularizer.\n"
     ]
    },
    {
     "name": "stdout",
     "output_type": "stream",
     "text": [
      "INFO:tensorflow:Scale of 0 disables regularizer.\n"
     ]
    },
    {
     "name": "stderr",
     "output_type": "stream",
     "text": [
      "I0110 22:15:33.624188 139750346217216 tf_logging.py:115] Scale of 0 disables regularizer.\n"
     ]
    },
    {
     "name": "stdout",
     "output_type": "stream",
     "text": [
      "INFO:tensorflow:Scale of 0 disables regularizer.\n"
     ]
    },
    {
     "name": "stderr",
     "output_type": "stream",
     "text": [
      "I0110 22:15:36.013598 139750346217216 tf_logging.py:115] Scale of 0 disables regularizer.\n"
     ]
    },
    {
     "name": "stdout",
     "output_type": "stream",
     "text": [
      "INFO:tensorflow:Scale of 0 disables regularizer.\n"
     ]
    },
    {
     "name": "stderr",
     "output_type": "stream",
     "text": [
      "I0110 22:15:38.476882 139750346217216 tf_logging.py:115] Scale of 0 disables regularizer.\n"
     ]
    },
    {
     "name": "stdout",
     "output_type": "stream",
     "text": [
      "INFO:tensorflow:Scale of 0 disables regularizer.\n"
     ]
    },
    {
     "name": "stderr",
     "output_type": "stream",
     "text": [
      "I0110 22:15:40.927782 139750346217216 tf_logging.py:115] Scale of 0 disables regularizer.\n"
     ]
    },
    {
     "name": "stdout",
     "output_type": "stream",
     "text": [
      "INFO:tensorflow:Scale of 0 disables regularizer.\n"
     ]
    },
    {
     "name": "stderr",
     "output_type": "stream",
     "text": [
      "I0110 22:15:43.372521 139750346217216 tf_logging.py:115] Scale of 0 disables regularizer.\n"
     ]
    },
    {
     "name": "stdout",
     "output_type": "stream",
     "text": [
      "INFO:tensorflow:Scale of 0 disables regularizer.\n"
     ]
    },
    {
     "name": "stderr",
     "output_type": "stream",
     "text": [
      "I0110 22:15:45.843394 139750346217216 tf_logging.py:115] Scale of 0 disables regularizer.\n"
     ]
    },
    {
     "name": "stdout",
     "output_type": "stream",
     "text": [
      "INFO:tensorflow:Scale of 0 disables regularizer.\n"
     ]
    },
    {
     "name": "stderr",
     "output_type": "stream",
     "text": [
      "I0110 22:15:48.255329 139750346217216 tf_logging.py:115] Scale of 0 disables regularizer.\n"
     ]
    },
    {
     "name": "stdout",
     "output_type": "stream",
     "text": [
      "INFO:tensorflow:Scale of 0 disables regularizer.\n"
     ]
    },
    {
     "name": "stderr",
     "output_type": "stream",
     "text": [
      "I0110 22:15:50.712241 139750346217216 tf_logging.py:115] Scale of 0 disables regularizer.\n"
     ]
    },
    {
     "name": "stdout",
     "output_type": "stream",
     "text": [
      "INFO:tensorflow:Scale of 0 disables regularizer.\n"
     ]
    },
    {
     "name": "stderr",
     "output_type": "stream",
     "text": [
      "I0110 22:15:53.151904 139750346217216 tf_logging.py:115] Scale of 0 disables regularizer.\n"
     ]
    },
    {
     "name": "stdout",
     "output_type": "stream",
     "text": [
      "INFO:tensorflow:Scale of 0 disables regularizer.\n"
     ]
    },
    {
     "name": "stderr",
     "output_type": "stream",
     "text": [
      "I0110 22:15:55.614475 139750346217216 tf_logging.py:115] Scale of 0 disables regularizer.\n"
     ]
    },
    {
     "name": "stdout",
     "output_type": "stream",
     "text": [
      "INFO:tensorflow:Scale of 0 disables regularizer.\n"
     ]
    },
    {
     "name": "stderr",
     "output_type": "stream",
     "text": [
      "I0110 22:15:57.999712 139750346217216 tf_logging.py:115] Scale of 0 disables regularizer.\n"
     ]
    },
    {
     "name": "stdout",
     "output_type": "stream",
     "text": [
      "INFO:tensorflow:Scale of 0 disables regularizer.\n"
     ]
    },
    {
     "name": "stderr",
     "output_type": "stream",
     "text": [
      "I0110 22:16:00.462668 139750346217216 tf_logging.py:115] Scale of 0 disables regularizer.\n"
     ]
    },
    {
     "name": "stdout",
     "output_type": "stream",
     "text": [
      "INFO:tensorflow:Scale of 0 disables regularizer.\n"
     ]
    },
    {
     "name": "stderr",
     "output_type": "stream",
     "text": [
      "I0110 22:16:02.908394 139750346217216 tf_logging.py:115] Scale of 0 disables regularizer.\n"
     ]
    },
    {
     "name": "stdout",
     "output_type": "stream",
     "text": [
      "INFO:tensorflow:Scale of 0 disables regularizer.\n"
     ]
    },
    {
     "name": "stderr",
     "output_type": "stream",
     "text": [
      "I0110 22:16:05.371960 139750346217216 tf_logging.py:115] Scale of 0 disables regularizer.\n"
     ]
    },
    {
     "name": "stdout",
     "output_type": "stream",
     "text": [
      "INFO:tensorflow:Scale of 0 disables regularizer.\n"
     ]
    },
    {
     "name": "stderr",
     "output_type": "stream",
     "text": [
      "I0110 22:16:07.825054 139750346217216 tf_logging.py:115] Scale of 0 disables regularizer.\n"
     ]
    },
    {
     "name": "stdout",
     "output_type": "stream",
     "text": [
      "INFO:tensorflow:Scale of 0 disables regularizer.\n"
     ]
    },
    {
     "name": "stderr",
     "output_type": "stream",
     "text": [
      "I0110 22:16:10.276300 139750346217216 tf_logging.py:115] Scale of 0 disables regularizer.\n"
     ]
    },
    {
     "name": "stdout",
     "output_type": "stream",
     "text": [
      "INFO:tensorflow:Scale of 0 disables regularizer.\n"
     ]
    },
    {
     "name": "stderr",
     "output_type": "stream",
     "text": [
      "I0110 22:16:12.734853 139750346217216 tf_logging.py:115] Scale of 0 disables regularizer.\n"
     ]
    },
    {
     "name": "stdout",
     "output_type": "stream",
     "text": [
      "INFO:tensorflow:Scale of 0 disables regularizer.\n"
     ]
    },
    {
     "name": "stderr",
     "output_type": "stream",
     "text": [
      "I0110 22:16:15.199209 139750346217216 tf_logging.py:115] Scale of 0 disables regularizer.\n"
     ]
    },
    {
     "name": "stdout",
     "output_type": "stream",
     "text": [
      "INFO:tensorflow:Scale of 0 disables regularizer.\n"
     ]
    },
    {
     "name": "stderr",
     "output_type": "stream",
     "text": [
      "I0110 22:16:17.656513 139750346217216 tf_logging.py:115] Scale of 0 disables regularizer.\n"
     ]
    },
    {
     "name": "stdout",
     "output_type": "stream",
     "text": [
      "INFO:tensorflow:Scale of 0 disables regularizer.\n"
     ]
    },
    {
     "name": "stderr",
     "output_type": "stream",
     "text": [
      "I0110 22:16:20.082624 139750346217216 tf_logging.py:115] Scale of 0 disables regularizer.\n"
     ]
    },
    {
     "name": "stdout",
     "output_type": "stream",
     "text": [
      "INFO:tensorflow:Scale of 0 disables regularizer.\n"
     ]
    },
    {
     "name": "stderr",
     "output_type": "stream",
     "text": [
      "I0110 22:16:22.577232 139750346217216 tf_logging.py:115] Scale of 0 disables regularizer.\n"
     ]
    },
    {
     "name": "stdout",
     "output_type": "stream",
     "text": [
      "INFO:tensorflow:Scale of 0 disables regularizer.\n"
     ]
    },
    {
     "name": "stderr",
     "output_type": "stream",
     "text": [
      "I0110 22:16:25.028953 139750346217216 tf_logging.py:115] Scale of 0 disables regularizer.\n"
     ]
    },
    {
     "name": "stdout",
     "output_type": "stream",
     "text": [
      "INFO:tensorflow:Scale of 0 disables regularizer.\n"
     ]
    },
    {
     "name": "stderr",
     "output_type": "stream",
     "text": [
      "I0110 22:16:27.500571 139750346217216 tf_logging.py:115] Scale of 0 disables regularizer.\n"
     ]
    },
    {
     "name": "stdout",
     "output_type": "stream",
     "text": [
      "INFO:tensorflow:Scale of 0 disables regularizer.\n"
     ]
    },
    {
     "name": "stderr",
     "output_type": "stream",
     "text": [
      "I0110 22:16:29.890311 139750346217216 tf_logging.py:115] Scale of 0 disables regularizer.\n"
     ]
    },
    {
     "name": "stdout",
     "output_type": "stream",
     "text": [
      "INFO:tensorflow:Scale of 0 disables regularizer.\n"
     ]
    },
    {
     "name": "stderr",
     "output_type": "stream",
     "text": [
      "I0110 22:16:32.339119 139750346217216 tf_logging.py:115] Scale of 0 disables regularizer.\n"
     ]
    },
    {
     "name": "stdout",
     "output_type": "stream",
     "text": [
      "INFO:tensorflow:Scale of 0 disables regularizer.\n"
     ]
    },
    {
     "name": "stderr",
     "output_type": "stream",
     "text": [
      "I0110 22:16:34.796112 139750346217216 tf_logging.py:115] Scale of 0 disables regularizer.\n"
     ]
    },
    {
     "name": "stdout",
     "output_type": "stream",
     "text": [
      "INFO:tensorflow:Scale of 0 disables regularizer.\n"
     ]
    },
    {
     "name": "stderr",
     "output_type": "stream",
     "text": [
      "I0110 22:16:37.253912 139750346217216 tf_logging.py:115] Scale of 0 disables regularizer.\n"
     ]
    },
    {
     "name": "stdout",
     "output_type": "stream",
     "text": [
      "INFO:tensorflow:Scale of 0 disables regularizer.\n"
     ]
    },
    {
     "name": "stderr",
     "output_type": "stream",
     "text": [
      "I0110 22:16:39.707678 139750346217216 tf_logging.py:115] Scale of 0 disables regularizer.\n"
     ]
    },
    {
     "name": "stdout",
     "output_type": "stream",
     "text": [
      "INFO:tensorflow:Scale of 0 disables regularizer.\n"
     ]
    },
    {
     "name": "stderr",
     "output_type": "stream",
     "text": [
      "I0110 22:16:42.209699 139750346217216 tf_logging.py:115] Scale of 0 disables regularizer.\n"
     ]
    },
    {
     "name": "stdout",
     "output_type": "stream",
     "text": [
      "INFO:tensorflow:Scale of 0 disables regularizer.\n"
     ]
    },
    {
     "name": "stderr",
     "output_type": "stream",
     "text": [
      "I0110 22:16:44.649690 139750346217216 tf_logging.py:115] Scale of 0 disables regularizer.\n"
     ]
    },
    {
     "name": "stdout",
     "output_type": "stream",
     "text": [
      "INFO:tensorflow:Scale of 0 disables regularizer.\n"
     ]
    },
    {
     "name": "stderr",
     "output_type": "stream",
     "text": [
      "I0110 22:16:47.096873 139750346217216 tf_logging.py:115] Scale of 0 disables regularizer.\n"
     ]
    },
    {
     "name": "stdout",
     "output_type": "stream",
     "text": [
      "INFO:tensorflow:Scale of 0 disables regularizer.\n"
     ]
    },
    {
     "name": "stderr",
     "output_type": "stream",
     "text": [
      "I0110 22:16:49.553823 139750346217216 tf_logging.py:115] Scale of 0 disables regularizer.\n"
     ]
    },
    {
     "name": "stdout",
     "output_type": "stream",
     "text": [
      "INFO:tensorflow:Scale of 0 disables regularizer.\n"
     ]
    },
    {
     "name": "stderr",
     "output_type": "stream",
     "text": [
      "I0110 22:16:51.977324 139750346217216 tf_logging.py:115] Scale of 0 disables regularizer.\n"
     ]
    },
    {
     "name": "stdout",
     "output_type": "stream",
     "text": [
      "INFO:tensorflow:Scale of 0 disables regularizer.\n"
     ]
    },
    {
     "name": "stderr",
     "output_type": "stream",
     "text": [
      "I0110 22:16:54.413129 139750346217216 tf_logging.py:115] Scale of 0 disables regularizer.\n"
     ]
    },
    {
     "name": "stdout",
     "output_type": "stream",
     "text": [
      "INFO:tensorflow:Scale of 0 disables regularizer.\n"
     ]
    },
    {
     "name": "stderr",
     "output_type": "stream",
     "text": [
      "I0110 22:16:56.859554 139750346217216 tf_logging.py:115] Scale of 0 disables regularizer.\n"
     ]
    },
    {
     "name": "stdout",
     "output_type": "stream",
     "text": [
      "INFO:tensorflow:Scale of 0 disables regularizer.\n"
     ]
    },
    {
     "name": "stderr",
     "output_type": "stream",
     "text": [
      "I0110 22:16:59.314238 139750346217216 tf_logging.py:115] Scale of 0 disables regularizer.\n"
     ]
    },
    {
     "name": "stdout",
     "output_type": "stream",
     "text": [
      "INFO:tensorflow:Scale of 0 disables regularizer.\n"
     ]
    },
    {
     "name": "stderr",
     "output_type": "stream",
     "text": [
      "I0110 22:17:01.714613 139750346217216 tf_logging.py:115] Scale of 0 disables regularizer.\n"
     ]
    },
    {
     "name": "stdout",
     "output_type": "stream",
     "text": [
      "INFO:tensorflow:Scale of 0 disables regularizer.\n"
     ]
    },
    {
     "name": "stderr",
     "output_type": "stream",
     "text": [
      "I0110 22:17:04.157314 139750346217216 tf_logging.py:115] Scale of 0 disables regularizer.\n"
     ]
    },
    {
     "name": "stdout",
     "output_type": "stream",
     "text": [
      "INFO:tensorflow:Scale of 0 disables regularizer.\n"
     ]
    },
    {
     "name": "stderr",
     "output_type": "stream",
     "text": [
      "I0110 22:17:06.603610 139750346217216 tf_logging.py:115] Scale of 0 disables regularizer.\n"
     ]
    },
    {
     "name": "stdout",
     "output_type": "stream",
     "text": [
      "INFO:tensorflow:Scale of 0 disables regularizer.\n"
     ]
    },
    {
     "name": "stderr",
     "output_type": "stream",
     "text": [
      "I0110 22:17:09.108805 139750346217216 tf_logging.py:115] Scale of 0 disables regularizer.\n"
     ]
    },
    {
     "name": "stdout",
     "output_type": "stream",
     "text": [
      "INFO:tensorflow:Scale of 0 disables regularizer.\n"
     ]
    },
    {
     "name": "stderr",
     "output_type": "stream",
     "text": [
      "I0110 22:17:11.581703 139750346217216 tf_logging.py:115] Scale of 0 disables regularizer.\n"
     ]
    },
    {
     "name": "stdout",
     "output_type": "stream",
     "text": [
      "INFO:tensorflow:Scale of 0 disables regularizer.\n"
     ]
    },
    {
     "name": "stderr",
     "output_type": "stream",
     "text": [
      "I0110 22:17:13.968460 139750346217216 tf_logging.py:115] Scale of 0 disables regularizer.\n"
     ]
    },
    {
     "name": "stdout",
     "output_type": "stream",
     "text": [
      "INFO:tensorflow:Scale of 0 disables regularizer.\n"
     ]
    },
    {
     "name": "stderr",
     "output_type": "stream",
     "text": [
      "I0110 22:17:16.422100 139750346217216 tf_logging.py:115] Scale of 0 disables regularizer.\n"
     ]
    },
    {
     "name": "stdout",
     "output_type": "stream",
     "text": [
      "INFO:tensorflow:Scale of 0 disables regularizer.\n"
     ]
    },
    {
     "name": "stderr",
     "output_type": "stream",
     "text": [
      "I0110 22:17:18.866819 139750346217216 tf_logging.py:115] Scale of 0 disables regularizer.\n"
     ]
    },
    {
     "name": "stdout",
     "output_type": "stream",
     "text": [
      "INFO:tensorflow:Scale of 0 disables regularizer.\n"
     ]
    },
    {
     "name": "stderr",
     "output_type": "stream",
     "text": [
      "I0110 22:17:21.324026 139750346217216 tf_logging.py:115] Scale of 0 disables regularizer.\n"
     ]
    },
    {
     "name": "stdout",
     "output_type": "stream",
     "text": [
      "INFO:tensorflow:Scale of 0 disables regularizer.\n"
     ]
    },
    {
     "name": "stderr",
     "output_type": "stream",
     "text": [
      "I0110 22:17:23.708181 139750346217216 tf_logging.py:115] Scale of 0 disables regularizer.\n"
     ]
    },
    {
     "name": "stdout",
     "output_type": "stream",
     "text": [
      "INFO:tensorflow:Scale of 0 disables regularizer.\n"
     ]
    },
    {
     "name": "stderr",
     "output_type": "stream",
     "text": [
      "I0110 22:17:26.157547 139750346217216 tf_logging.py:115] Scale of 0 disables regularizer.\n"
     ]
    },
    {
     "name": "stdout",
     "output_type": "stream",
     "text": [
      "INFO:tensorflow:Scale of 0 disables regularizer.\n"
     ]
    },
    {
     "name": "stderr",
     "output_type": "stream",
     "text": [
      "I0110 22:17:28.623522 139750346217216 tf_logging.py:115] Scale of 0 disables regularizer.\n"
     ]
    },
    {
     "name": "stdout",
     "output_type": "stream",
     "text": [
      "INFO:tensorflow:Scale of 0 disables regularizer.\n"
     ]
    },
    {
     "name": "stderr",
     "output_type": "stream",
     "text": [
      "I0110 22:17:31.067847 139750346217216 tf_logging.py:115] Scale of 0 disables regularizer.\n"
     ]
    },
    {
     "name": "stdout",
     "output_type": "stream",
     "text": [
      "INFO:tensorflow:Scale of 0 disables regularizer.\n"
     ]
    },
    {
     "name": "stderr",
     "output_type": "stream",
     "text": [
      "I0110 22:17:33.514217 139750346217216 tf_logging.py:115] Scale of 0 disables regularizer.\n"
     ]
    },
    {
     "name": "stdout",
     "output_type": "stream",
     "text": [
      "INFO:tensorflow:Scale of 0 disables regularizer.\n"
     ]
    },
    {
     "name": "stderr",
     "output_type": "stream",
     "text": [
      "I0110 22:17:35.920430 139750346217216 tf_logging.py:115] Scale of 0 disables regularizer.\n"
     ]
    },
    {
     "name": "stdout",
     "output_type": "stream",
     "text": [
      "INFO:tensorflow:Scale of 0 disables regularizer.\n"
     ]
    },
    {
     "name": "stderr",
     "output_type": "stream",
     "text": [
      "I0110 22:17:38.359824 139750346217216 tf_logging.py:115] Scale of 0 disables regularizer.\n"
     ]
    },
    {
     "name": "stdout",
     "output_type": "stream",
     "text": [
      "INFO:tensorflow:Scale of 0 disables regularizer.\n"
     ]
    },
    {
     "name": "stderr",
     "output_type": "stream",
     "text": [
      "I0110 22:17:40.803363 139750346217216 tf_logging.py:115] Scale of 0 disables regularizer.\n"
     ]
    },
    {
     "name": "stdout",
     "output_type": "stream",
     "text": [
      "INFO:tensorflow:Scale of 0 disables regularizer.\n"
     ]
    },
    {
     "name": "stderr",
     "output_type": "stream",
     "text": [
      "I0110 22:17:43.258496 139750346217216 tf_logging.py:115] Scale of 0 disables regularizer.\n"
     ]
    },
    {
     "name": "stdout",
     "output_type": "stream",
     "text": [
      "INFO:tensorflow:Scale of 0 disables regularizer.\n"
     ]
    },
    {
     "name": "stderr",
     "output_type": "stream",
     "text": [
      "I0110 22:17:45.646357 139750346217216 tf_logging.py:115] Scale of 0 disables regularizer.\n"
     ]
    },
    {
     "name": "stdout",
     "output_type": "stream",
     "text": [
      "INFO:tensorflow:Scale of 0 disables regularizer.\n"
     ]
    },
    {
     "name": "stderr",
     "output_type": "stream",
     "text": [
      "I0110 22:17:48.092878 139750346217216 tf_logging.py:115] Scale of 0 disables regularizer.\n"
     ]
    },
    {
     "name": "stdout",
     "output_type": "stream",
     "text": [
      "INFO:tensorflow:Scale of 0 disables regularizer.\n"
     ]
    },
    {
     "name": "stderr",
     "output_type": "stream",
     "text": [
      "I0110 22:17:50.537258 139750346217216 tf_logging.py:115] Scale of 0 disables regularizer.\n"
     ]
    },
    {
     "name": "stdout",
     "output_type": "stream",
     "text": [
      "INFO:tensorflow:Scale of 0 disables regularizer.\n"
     ]
    },
    {
     "name": "stderr",
     "output_type": "stream",
     "text": [
      "I0110 22:17:52.994128 139750346217216 tf_logging.py:115] Scale of 0 disables regularizer.\n"
     ]
    },
    {
     "name": "stdout",
     "output_type": "stream",
     "text": [
      "INFO:tensorflow:Scale of 0 disables regularizer.\n"
     ]
    },
    {
     "name": "stderr",
     "output_type": "stream",
     "text": [
      "I0110 22:17:55.396084 139750346217216 tf_logging.py:115] Scale of 0 disables regularizer.\n"
     ]
    },
    {
     "name": "stdout",
     "output_type": "stream",
     "text": [
      "INFO:tensorflow:Scale of 0 disables regularizer.\n"
     ]
    },
    {
     "name": "stderr",
     "output_type": "stream",
     "text": [
      "I0110 22:17:57.831979 139750346217216 tf_logging.py:115] Scale of 0 disables regularizer.\n"
     ]
    },
    {
     "name": "stdout",
     "output_type": "stream",
     "text": [
      "INFO:tensorflow:Scale of 0 disables regularizer.\n"
     ]
    },
    {
     "name": "stderr",
     "output_type": "stream",
     "text": [
      "I0110 22:18:00.267119 139750346217216 tf_logging.py:115] Scale of 0 disables regularizer.\n"
     ]
    },
    {
     "name": "stdout",
     "output_type": "stream",
     "text": [
      "INFO:tensorflow:Scale of 0 disables regularizer.\n"
     ]
    },
    {
     "name": "stderr",
     "output_type": "stream",
     "text": [
      "I0110 22:18:02.710767 139750346217216 tf_logging.py:115] Scale of 0 disables regularizer.\n"
     ]
    },
    {
     "name": "stdout",
     "output_type": "stream",
     "text": [
      "INFO:tensorflow:Scale of 0 disables regularizer.\n"
     ]
    },
    {
     "name": "stderr",
     "output_type": "stream",
     "text": [
      "I0110 22:18:05.160944 139750346217216 tf_logging.py:115] Scale of 0 disables regularizer.\n"
     ]
    },
    {
     "name": "stdout",
     "output_type": "stream",
     "text": [
      "INFO:tensorflow:Scale of 0 disables regularizer.\n"
     ]
    },
    {
     "name": "stderr",
     "output_type": "stream",
     "text": [
      "I0110 22:18:07.551035 139750346217216 tf_logging.py:115] Scale of 0 disables regularizer.\n"
     ]
    },
    {
     "name": "stdout",
     "output_type": "stream",
     "text": [
      "INFO:tensorflow:Scale of 0 disables regularizer.\n"
     ]
    },
    {
     "name": "stderr",
     "output_type": "stream",
     "text": [
      "I0110 22:18:09.963051 139750346217216 tf_logging.py:115] Scale of 0 disables regularizer.\n"
     ]
    },
    {
     "name": "stdout",
     "output_type": "stream",
     "text": [
      "INFO:tensorflow:Scale of 0 disables regularizer.\n"
     ]
    },
    {
     "name": "stderr",
     "output_type": "stream",
     "text": [
      "I0110 22:18:12.417752 139750346217216 tf_logging.py:115] Scale of 0 disables regularizer.\n"
     ]
    },
    {
     "name": "stdout",
     "output_type": "stream",
     "text": [
      "INFO:tensorflow:Scale of 0 disables regularizer.\n"
     ]
    },
    {
     "name": "stderr",
     "output_type": "stream",
     "text": [
      "I0110 22:18:14.869614 139750346217216 tf_logging.py:115] Scale of 0 disables regularizer.\n"
     ]
    },
    {
     "name": "stdout",
     "output_type": "stream",
     "text": [
      "INFO:tensorflow:Scale of 0 disables regularizer.\n"
     ]
    },
    {
     "name": "stderr",
     "output_type": "stream",
     "text": [
      "I0110 22:18:17.266092 139750346217216 tf_logging.py:115] Scale of 0 disables regularizer.\n"
     ]
    },
    {
     "name": "stdout",
     "output_type": "stream",
     "text": [
      "INFO:tensorflow:Scale of 0 disables regularizer.\n"
     ]
    },
    {
     "name": "stderr",
     "output_type": "stream",
     "text": [
      "I0110 22:18:19.718944 139750346217216 tf_logging.py:115] Scale of 0 disables regularizer.\n"
     ]
    },
    {
     "name": "stdout",
     "output_type": "stream",
     "text": [
      "INFO:tensorflow:Scale of 0 disables regularizer.\n"
     ]
    },
    {
     "name": "stderr",
     "output_type": "stream",
     "text": [
      "I0110 22:18:22.168222 139750346217216 tf_logging.py:115] Scale of 0 disables regularizer.\n"
     ]
    },
    {
     "name": "stdout",
     "output_type": "stream",
     "text": [
      "INFO:tensorflow:Scale of 0 disables regularizer.\n"
     ]
    },
    {
     "name": "stderr",
     "output_type": "stream",
     "text": [
      "I0110 22:18:24.620672 139750346217216 tf_logging.py:115] Scale of 0 disables regularizer.\n"
     ]
    },
    {
     "name": "stdout",
     "output_type": "stream",
     "text": [
      "INFO:tensorflow:Scale of 0 disables regularizer.\n"
     ]
    },
    {
     "name": "stderr",
     "output_type": "stream",
     "text": [
      "I0110 22:18:27.075381 139750346217216 tf_logging.py:115] Scale of 0 disables regularizer.\n"
     ]
    },
    {
     "name": "stdout",
     "output_type": "stream",
     "text": [
      "INFO:tensorflow:Scale of 0 disables regularizer.\n"
     ]
    },
    {
     "name": "stderr",
     "output_type": "stream",
     "text": [
      "I0110 22:18:29.462133 139750346217216 tf_logging.py:115] Scale of 0 disables regularizer.\n"
     ]
    },
    {
     "name": "stdout",
     "output_type": "stream",
     "text": [
      "INFO:tensorflow:Scale of 0 disables regularizer.\n"
     ]
    },
    {
     "name": "stderr",
     "output_type": "stream",
     "text": [
      "I0110 22:18:31.912820 139750346217216 tf_logging.py:115] Scale of 0 disables regularizer.\n"
     ]
    },
    {
     "name": "stdout",
     "output_type": "stream",
     "text": [
      "INFO:tensorflow:Scale of 0 disables regularizer.\n"
     ]
    },
    {
     "name": "stderr",
     "output_type": "stream",
     "text": [
      "I0110 22:18:34.356783 139750346217216 tf_logging.py:115] Scale of 0 disables regularizer.\n"
     ]
    },
    {
     "name": "stdout",
     "output_type": "stream",
     "text": [
      "INFO:tensorflow:Scale of 0 disables regularizer.\n"
     ]
    },
    {
     "name": "stderr",
     "output_type": "stream",
     "text": [
      "I0110 22:18:36.816854 139750346217216 tf_logging.py:115] Scale of 0 disables regularizer.\n"
     ]
    },
    {
     "name": "stdout",
     "output_type": "stream",
     "text": [
      "INFO:tensorflow:Scale of 0 disables regularizer.\n"
     ]
    },
    {
     "name": "stderr",
     "output_type": "stream",
     "text": [
      "I0110 22:18:39.202663 139750346217216 tf_logging.py:115] Scale of 0 disables regularizer.\n"
     ]
    },
    {
     "name": "stdout",
     "output_type": "stream",
     "text": [
      "INFO:tensorflow:Scale of 0 disables regularizer.\n"
     ]
    },
    {
     "name": "stderr",
     "output_type": "stream",
     "text": [
      "I0110 22:18:41.663406 139750346217216 tf_logging.py:115] Scale of 0 disables regularizer.\n"
     ]
    },
    {
     "name": "stdout",
     "output_type": "stream",
     "text": [
      "INFO:tensorflow:Scale of 0 disables regularizer.\n"
     ]
    },
    {
     "name": "stderr",
     "output_type": "stream",
     "text": [
      "I0110 22:18:44.129819 139750346217216 tf_logging.py:115] Scale of 0 disables regularizer.\n"
     ]
    },
    {
     "name": "stdout",
     "output_type": "stream",
     "text": [
      "INFO:tensorflow:Scale of 0 disables regularizer.\n"
     ]
    },
    {
     "name": "stderr",
     "output_type": "stream",
     "text": [
      "I0110 22:18:46.583814 139750346217216 tf_logging.py:115] Scale of 0 disables regularizer.\n"
     ]
    },
    {
     "name": "stdout",
     "output_type": "stream",
     "text": [
      "INFO:tensorflow:Scale of 0 disables regularizer.\n"
     ]
    },
    {
     "name": "stderr",
     "output_type": "stream",
     "text": [
      "I0110 22:18:48.978020 139750346217216 tf_logging.py:115] Scale of 0 disables regularizer.\n"
     ]
    },
    {
     "name": "stdout",
     "output_type": "stream",
     "text": [
      "INFO:tensorflow:Scale of 0 disables regularizer.\n"
     ]
    },
    {
     "name": "stderr",
     "output_type": "stream",
     "text": [
      "I0110 22:18:51.427743 139750346217216 tf_logging.py:115] Scale of 0 disables regularizer.\n"
     ]
    },
    {
     "name": "stdout",
     "output_type": "stream",
     "text": [
      "INFO:tensorflow:Scale of 0 disables regularizer.\n"
     ]
    },
    {
     "name": "stderr",
     "output_type": "stream",
     "text": [
      "I0110 22:18:53.885538 139750346217216 tf_logging.py:115] Scale of 0 disables regularizer.\n"
     ]
    },
    {
     "name": "stdout",
     "output_type": "stream",
     "text": [
      "INFO:tensorflow:Scale of 0 disables regularizer.\n"
     ]
    },
    {
     "name": "stderr",
     "output_type": "stream",
     "text": [
      "I0110 22:18:56.323518 139750346217216 tf_logging.py:115] Scale of 0 disables regularizer.\n"
     ]
    },
    {
     "name": "stdout",
     "output_type": "stream",
     "text": [
      "INFO:tensorflow:Scale of 0 disables regularizer.\n"
     ]
    },
    {
     "name": "stderr",
     "output_type": "stream",
     "text": [
      "I0110 22:18:58.803131 139750346217216 tf_logging.py:115] Scale of 0 disables regularizer.\n"
     ]
    },
    {
     "name": "stdout",
     "output_type": "stream",
     "text": [
      "INFO:tensorflow:Scale of 0 disables regularizer.\n"
     ]
    },
    {
     "name": "stderr",
     "output_type": "stream",
     "text": [
      "I0110 22:19:01.185342 139750346217216 tf_logging.py:115] Scale of 0 disables regularizer.\n"
     ]
    },
    {
     "name": "stdout",
     "output_type": "stream",
     "text": [
      "INFO:tensorflow:Scale of 0 disables regularizer.\n"
     ]
    },
    {
     "name": "stderr",
     "output_type": "stream",
     "text": [
      "I0110 22:19:03.637617 139750346217216 tf_logging.py:115] Scale of 0 disables regularizer.\n"
     ]
    },
    {
     "name": "stdout",
     "output_type": "stream",
     "text": [
      "INFO:tensorflow:Scale of 0 disables regularizer.\n"
     ]
    },
    {
     "name": "stderr",
     "output_type": "stream",
     "text": [
      "I0110 22:19:06.081338 139750346217216 tf_logging.py:115] Scale of 0 disables regularizer.\n"
     ]
    },
    {
     "name": "stdout",
     "output_type": "stream",
     "text": [
      "INFO:tensorflow:Scale of 0 disables regularizer.\n"
     ]
    },
    {
     "name": "stderr",
     "output_type": "stream",
     "text": [
      "I0110 22:19:08.532468 139750346217216 tf_logging.py:115] Scale of 0 disables regularizer.\n"
     ]
    },
    {
     "name": "stdout",
     "output_type": "stream",
     "text": [
      "INFO:tensorflow:Scale of 0 disables regularizer.\n"
     ]
    },
    {
     "name": "stderr",
     "output_type": "stream",
     "text": [
      "I0110 22:19:10.919850 139750346217216 tf_logging.py:115] Scale of 0 disables regularizer.\n"
     ]
    },
    {
     "name": "stdout",
     "output_type": "stream",
     "text": [
      "INFO:tensorflow:Scale of 0 disables regularizer.\n"
     ]
    },
    {
     "name": "stderr",
     "output_type": "stream",
     "text": [
      "I0110 22:19:13.463000 139750346217216 tf_logging.py:115] Scale of 0 disables regularizer.\n"
     ]
    },
    {
     "name": "stdout",
     "output_type": "stream",
     "text": [
      "INFO:tensorflow:Scale of 0 disables regularizer.\n"
     ]
    },
    {
     "name": "stderr",
     "output_type": "stream",
     "text": [
      "I0110 22:19:15.903366 139750346217216 tf_logging.py:115] Scale of 0 disables regularizer.\n"
     ]
    },
    {
     "name": "stdout",
     "output_type": "stream",
     "text": [
      "INFO:tensorflow:Scale of 0 disables regularizer.\n"
     ]
    },
    {
     "name": "stderr",
     "output_type": "stream",
     "text": [
      "I0110 22:19:18.351181 139750346217216 tf_logging.py:115] Scale of 0 disables regularizer.\n"
     ]
    },
    {
     "name": "stdout",
     "output_type": "stream",
     "text": [
      "INFO:tensorflow:Scale of 0 disables regularizer.\n"
     ]
    },
    {
     "name": "stderr",
     "output_type": "stream",
     "text": [
      "I0110 22:19:20.810751 139750346217216 tf_logging.py:115] Scale of 0 disables regularizer.\n"
     ]
    },
    {
     "name": "stdout",
     "output_type": "stream",
     "text": [
      "INFO:tensorflow:Scale of 0 disables regularizer.\n"
     ]
    },
    {
     "name": "stderr",
     "output_type": "stream",
     "text": [
      "I0110 22:19:23.198900 139750346217216 tf_logging.py:115] Scale of 0 disables regularizer.\n"
     ]
    },
    {
     "name": "stdout",
     "output_type": "stream",
     "text": [
      "INFO:tensorflow:Scale of 0 disables regularizer.\n"
     ]
    },
    {
     "name": "stderr",
     "output_type": "stream",
     "text": [
      "I0110 22:19:25.646243 139750346217216 tf_logging.py:115] Scale of 0 disables regularizer.\n"
     ]
    },
    {
     "name": "stdout",
     "output_type": "stream",
     "text": [
      "INFO:tensorflow:Scale of 0 disables regularizer.\n"
     ]
    },
    {
     "name": "stderr",
     "output_type": "stream",
     "text": [
      "I0110 22:19:28.092631 139750346217216 tf_logging.py:115] Scale of 0 disables regularizer.\n"
     ]
    },
    {
     "name": "stdout",
     "output_type": "stream",
     "text": [
      "INFO:tensorflow:Scale of 0 disables regularizer.\n"
     ]
    },
    {
     "name": "stderr",
     "output_type": "stream",
     "text": [
      "I0110 22:19:30.542541 139750346217216 tf_logging.py:115] Scale of 0 disables regularizer.\n"
     ]
    },
    {
     "name": "stdout",
     "output_type": "stream",
     "text": [
      "INFO:tensorflow:Scale of 0 disables regularizer.\n"
     ]
    },
    {
     "name": "stderr",
     "output_type": "stream",
     "text": [
      "I0110 22:19:32.940692 139750346217216 tf_logging.py:115] Scale of 0 disables regularizer.\n"
     ]
    },
    {
     "name": "stdout",
     "output_type": "stream",
     "text": [
      "INFO:tensorflow:Scale of 0 disables regularizer.\n"
     ]
    },
    {
     "name": "stderr",
     "output_type": "stream",
     "text": [
      "I0110 22:19:35.432080 139750346217216 tf_logging.py:115] Scale of 0 disables regularizer.\n"
     ]
    },
    {
     "name": "stdout",
     "output_type": "stream",
     "text": [
      "INFO:tensorflow:Scale of 0 disables regularizer.\n"
     ]
    },
    {
     "name": "stderr",
     "output_type": "stream",
     "text": [
      "I0110 22:19:37.878070 139750346217216 tf_logging.py:115] Scale of 0 disables regularizer.\n"
     ]
    },
    {
     "name": "stdout",
     "output_type": "stream",
     "text": [
      "INFO:tensorflow:Scale of 0 disables regularizer.\n"
     ]
    },
    {
     "name": "stderr",
     "output_type": "stream",
     "text": [
      "I0110 22:19:40.365432 139750346217216 tf_logging.py:115] Scale of 0 disables regularizer.\n"
     ]
    },
    {
     "name": "stdout",
     "output_type": "stream",
     "text": [
      "INFO:tensorflow:Scale of 0 disables regularizer.\n"
     ]
    },
    {
     "name": "stderr",
     "output_type": "stream",
     "text": [
      "I0110 22:19:42.756993 139750346217216 tf_logging.py:115] Scale of 0 disables regularizer.\n"
     ]
    },
    {
     "name": "stdout",
     "output_type": "stream",
     "text": [
      "INFO:tensorflow:Scale of 0 disables regularizer.\n"
     ]
    },
    {
     "name": "stderr",
     "output_type": "stream",
     "text": [
      "I0110 22:19:45.203568 139750346217216 tf_logging.py:115] Scale of 0 disables regularizer.\n"
     ]
    },
    {
     "name": "stdout",
     "output_type": "stream",
     "text": [
      "INFO:tensorflow:Scale of 0 disables regularizer.\n"
     ]
    },
    {
     "name": "stderr",
     "output_type": "stream",
     "text": [
      "I0110 22:19:47.646173 139750346217216 tf_logging.py:115] Scale of 0 disables regularizer.\n"
     ]
    },
    {
     "name": "stdout",
     "output_type": "stream",
     "text": [
      "INFO:tensorflow:Scale of 0 disables regularizer.\n"
     ]
    },
    {
     "name": "stderr",
     "output_type": "stream",
     "text": [
      "I0110 22:19:50.093650 139750346217216 tf_logging.py:115] Scale of 0 disables regularizer.\n"
     ]
    },
    {
     "name": "stdout",
     "output_type": "stream",
     "text": [
      "INFO:tensorflow:Scale of 0 disables regularizer.\n"
     ]
    },
    {
     "name": "stderr",
     "output_type": "stream",
     "text": [
      "I0110 22:19:52.550003 139750346217216 tf_logging.py:115] Scale of 0 disables regularizer.\n"
     ]
    },
    {
     "name": "stdout",
     "output_type": "stream",
     "text": [
      "INFO:tensorflow:Scale of 0 disables regularizer.\n"
     ]
    },
    {
     "name": "stderr",
     "output_type": "stream",
     "text": [
      "I0110 22:19:54.941448 139750346217216 tf_logging.py:115] Scale of 0 disables regularizer.\n"
     ]
    },
    {
     "name": "stdout",
     "output_type": "stream",
     "text": [
      "INFO:tensorflow:Scale of 0 disables regularizer.\n"
     ]
    },
    {
     "name": "stderr",
     "output_type": "stream",
     "text": [
      "I0110 22:19:57.381690 139750346217216 tf_logging.py:115] Scale of 0 disables regularizer.\n"
     ]
    },
    {
     "name": "stdout",
     "output_type": "stream",
     "text": [
      "INFO:tensorflow:Scale of 0 disables regularizer.\n"
     ]
    },
    {
     "name": "stderr",
     "output_type": "stream",
     "text": [
      "I0110 22:19:59.828970 139750346217216 tf_logging.py:115] Scale of 0 disables regularizer.\n"
     ]
    },
    {
     "name": "stdout",
     "output_type": "stream",
     "text": [
      "INFO:tensorflow:Scale of 0 disables regularizer.\n"
     ]
    },
    {
     "name": "stderr",
     "output_type": "stream",
     "text": [
      "I0110 22:20:02.284156 139750346217216 tf_logging.py:115] Scale of 0 disables regularizer.\n"
     ]
    },
    {
     "name": "stdout",
     "output_type": "stream",
     "text": [
      "INFO:tensorflow:Scale of 0 disables regularizer.\n"
     ]
    },
    {
     "name": "stderr",
     "output_type": "stream",
     "text": [
      "I0110 22:20:04.688800 139750346217216 tf_logging.py:115] Scale of 0 disables regularizer.\n"
     ]
    },
    {
     "name": "stdout",
     "output_type": "stream",
     "text": [
      "INFO:tensorflow:Scale of 0 disables regularizer.\n"
     ]
    },
    {
     "name": "stderr",
     "output_type": "stream",
     "text": [
      "I0110 22:20:07.146198 139750346217216 tf_logging.py:115] Scale of 0 disables regularizer.\n"
     ]
    },
    {
     "name": "stdout",
     "output_type": "stream",
     "text": [
      "INFO:tensorflow:Scale of 0 disables regularizer.\n"
     ]
    },
    {
     "name": "stderr",
     "output_type": "stream",
     "text": [
      "I0110 22:20:09.603588 139750346217216 tf_logging.py:115] Scale of 0 disables regularizer.\n"
     ]
    },
    {
     "name": "stdout",
     "output_type": "stream",
     "text": [
      "INFO:tensorflow:Scale of 0 disables regularizer.\n"
     ]
    },
    {
     "name": "stderr",
     "output_type": "stream",
     "text": [
      "I0110 22:20:12.084999 139750346217216 tf_logging.py:115] Scale of 0 disables regularizer.\n"
     ]
    },
    {
     "name": "stdout",
     "output_type": "stream",
     "text": [
      "INFO:tensorflow:Scale of 0 disables regularizer.\n"
     ]
    },
    {
     "name": "stderr",
     "output_type": "stream",
     "text": [
      "I0110 22:20:14.546483 139750346217216 tf_logging.py:115] Scale of 0 disables regularizer.\n"
     ]
    },
    {
     "name": "stdout",
     "output_type": "stream",
     "text": [
      "INFO:tensorflow:Scale of 0 disables regularizer.\n"
     ]
    },
    {
     "name": "stderr",
     "output_type": "stream",
     "text": [
      "I0110 22:20:16.938029 139750346217216 tf_logging.py:115] Scale of 0 disables regularizer.\n"
     ]
    },
    {
     "name": "stdout",
     "output_type": "stream",
     "text": [
      "INFO:tensorflow:Scale of 0 disables regularizer.\n"
     ]
    },
    {
     "name": "stderr",
     "output_type": "stream",
     "text": [
      "I0110 22:20:19.370398 139750346217216 tf_logging.py:115] Scale of 0 disables regularizer.\n"
     ]
    },
    {
     "name": "stdout",
     "output_type": "stream",
     "text": [
      "INFO:tensorflow:Scale of 0 disables regularizer.\n"
     ]
    },
    {
     "name": "stderr",
     "output_type": "stream",
     "text": [
      "I0110 22:20:21.814782 139750346217216 tf_logging.py:115] Scale of 0 disables regularizer.\n"
     ]
    },
    {
     "name": "stdout",
     "output_type": "stream",
     "text": [
      "INFO:tensorflow:Scale of 0 disables regularizer.\n"
     ]
    },
    {
     "name": "stderr",
     "output_type": "stream",
     "text": [
      "I0110 22:20:24.272900 139750346217216 tf_logging.py:115] Scale of 0 disables regularizer.\n"
     ]
    },
    {
     "name": "stdout",
     "output_type": "stream",
     "text": [
      "INFO:tensorflow:Scale of 0 disables regularizer.\n"
     ]
    },
    {
     "name": "stderr",
     "output_type": "stream",
     "text": [
      "I0110 22:20:26.662919 139750346217216 tf_logging.py:115] Scale of 0 disables regularizer.\n"
     ]
    },
    {
     "name": "stdout",
     "output_type": "stream",
     "text": [
      "INFO:tensorflow:Scale of 0 disables regularizer.\n"
     ]
    },
    {
     "name": "stderr",
     "output_type": "stream",
     "text": [
      "I0110 22:20:29.102083 139750346217216 tf_logging.py:115] Scale of 0 disables regularizer.\n"
     ]
    },
    {
     "name": "stdout",
     "output_type": "stream",
     "text": [
      "INFO:tensorflow:Scale of 0 disables regularizer.\n"
     ]
    },
    {
     "name": "stderr",
     "output_type": "stream",
     "text": [
      "I0110 22:20:31.558677 139750346217216 tf_logging.py:115] Scale of 0 disables regularizer.\n"
     ]
    },
    {
     "name": "stdout",
     "output_type": "stream",
     "text": [
      "INFO:tensorflow:Scale of 0 disables regularizer.\n"
     ]
    },
    {
     "name": "stderr",
     "output_type": "stream",
     "text": [
      "I0110 22:20:34.013990 139750346217216 tf_logging.py:115] Scale of 0 disables regularizer.\n"
     ]
    },
    {
     "name": "stdout",
     "output_type": "stream",
     "text": [
      "INFO:tensorflow:Scale of 0 disables regularizer.\n"
     ]
    },
    {
     "name": "stderr",
     "output_type": "stream",
     "text": [
      "I0110 22:20:36.405657 139750346217216 tf_logging.py:115] Scale of 0 disables regularizer.\n"
     ]
    },
    {
     "name": "stdout",
     "output_type": "stream",
     "text": [
      "INFO:tensorflow:Scale of 0 disables regularizer.\n"
     ]
    },
    {
     "name": "stderr",
     "output_type": "stream",
     "text": [
      "I0110 22:20:38.852487 139750346217216 tf_logging.py:115] Scale of 0 disables regularizer.\n"
     ]
    },
    {
     "name": "stdout",
     "output_type": "stream",
     "text": [
      "INFO:tensorflow:Scale of 0 disables regularizer.\n"
     ]
    },
    {
     "name": "stderr",
     "output_type": "stream",
     "text": [
      "I0110 22:20:41.323469 139750346217216 tf_logging.py:115] Scale of 0 disables regularizer.\n"
     ]
    },
    {
     "name": "stdout",
     "output_type": "stream",
     "text": [
      "INFO:tensorflow:Scale of 0 disables regularizer.\n"
     ]
    },
    {
     "name": "stderr",
     "output_type": "stream",
     "text": [
      "I0110 22:20:43.769483 139750346217216 tf_logging.py:115] Scale of 0 disables regularizer.\n"
     ]
    },
    {
     "name": "stdout",
     "output_type": "stream",
     "text": [
      "INFO:tensorflow:Scale of 0 disables regularizer.\n"
     ]
    },
    {
     "name": "stderr",
     "output_type": "stream",
     "text": [
      "I0110 22:20:46.225529 139750346217216 tf_logging.py:115] Scale of 0 disables regularizer.\n"
     ]
    },
    {
     "name": "stdout",
     "output_type": "stream",
     "text": [
      "INFO:tensorflow:Scale of 0 disables regularizer.\n"
     ]
    },
    {
     "name": "stderr",
     "output_type": "stream",
     "text": [
      "I0110 22:20:48.607368 139750346217216 tf_logging.py:115] Scale of 0 disables regularizer.\n"
     ]
    },
    {
     "name": "stdout",
     "output_type": "stream",
     "text": [
      "INFO:tensorflow:Scale of 0 disables regularizer.\n"
     ]
    },
    {
     "name": "stderr",
     "output_type": "stream",
     "text": [
      "I0110 22:20:51.097028 139750346217216 tf_logging.py:115] Scale of 0 disables regularizer.\n"
     ]
    },
    {
     "name": "stdout",
     "output_type": "stream",
     "text": [
      "INFO:tensorflow:Scale of 0 disables regularizer.\n"
     ]
    },
    {
     "name": "stderr",
     "output_type": "stream",
     "text": [
      "I0110 22:20:53.534981 139750346217216 tf_logging.py:115] Scale of 0 disables regularizer.\n"
     ]
    },
    {
     "name": "stdout",
     "output_type": "stream",
     "text": [
      "INFO:tensorflow:Scale of 0 disables regularizer.\n"
     ]
    },
    {
     "name": "stderr",
     "output_type": "stream",
     "text": [
      "I0110 22:20:55.987493 139750346217216 tf_logging.py:115] Scale of 0 disables regularizer.\n"
     ]
    },
    {
     "name": "stdout",
     "output_type": "stream",
     "text": [
      "INFO:tensorflow:Scale of 0 disables regularizer.\n"
     ]
    },
    {
     "name": "stderr",
     "output_type": "stream",
     "text": [
      "I0110 22:20:58.369376 139750346217216 tf_logging.py:115] Scale of 0 disables regularizer.\n"
     ]
    },
    {
     "name": "stdout",
     "output_type": "stream",
     "text": [
      "INFO:tensorflow:Scale of 0 disables regularizer.\n"
     ]
    },
    {
     "name": "stderr",
     "output_type": "stream",
     "text": [
      "I0110 22:21:00.812231 139750346217216 tf_logging.py:115] Scale of 0 disables regularizer.\n"
     ]
    },
    {
     "name": "stdout",
     "output_type": "stream",
     "text": [
      "INFO:tensorflow:Scale of 0 disables regularizer.\n"
     ]
    },
    {
     "name": "stderr",
     "output_type": "stream",
     "text": [
      "I0110 22:21:03.262319 139750346217216 tf_logging.py:115] Scale of 0 disables regularizer.\n"
     ]
    },
    {
     "name": "stdout",
     "output_type": "stream",
     "text": [
      "INFO:tensorflow:Scale of 0 disables regularizer.\n"
     ]
    },
    {
     "name": "stderr",
     "output_type": "stream",
     "text": [
      "I0110 22:21:05.708554 139750346217216 tf_logging.py:115] Scale of 0 disables regularizer.\n"
     ]
    },
    {
     "name": "stdout",
     "output_type": "stream",
     "text": [
      "INFO:tensorflow:Scale of 0 disables regularizer.\n"
     ]
    },
    {
     "name": "stderr",
     "output_type": "stream",
     "text": [
      "I0110 22:21:08.201452 139750346217216 tf_logging.py:115] Scale of 0 disables regularizer.\n"
     ]
    },
    {
     "name": "stdout",
     "output_type": "stream",
     "text": [
      "INFO:tensorflow:Scale of 0 disables regularizer.\n"
     ]
    },
    {
     "name": "stderr",
     "output_type": "stream",
     "text": [
      "I0110 22:21:10.586324 139750346217216 tf_logging.py:115] Scale of 0 disables regularizer.\n"
     ]
    },
    {
     "name": "stdout",
     "output_type": "stream",
     "text": [
      "INFO:tensorflow:Scale of 0 disables regularizer.\n"
     ]
    },
    {
     "name": "stderr",
     "output_type": "stream",
     "text": [
      "I0110 22:21:13.041718 139750346217216 tf_logging.py:115] Scale of 0 disables regularizer.\n"
     ]
    },
    {
     "name": "stdout",
     "output_type": "stream",
     "text": [
      "INFO:tensorflow:Scale of 0 disables regularizer.\n"
     ]
    },
    {
     "name": "stderr",
     "output_type": "stream",
     "text": [
      "I0110 22:21:15.499045 139750346217216 tf_logging.py:115] Scale of 0 disables regularizer.\n"
     ]
    },
    {
     "name": "stdout",
     "output_type": "stream",
     "text": [
      "INFO:tensorflow:Scale of 0 disables regularizer.\n"
     ]
    },
    {
     "name": "stderr",
     "output_type": "stream",
     "text": [
      "I0110 22:21:17.954142 139750346217216 tf_logging.py:115] Scale of 0 disables regularizer.\n"
     ]
    },
    {
     "name": "stdout",
     "output_type": "stream",
     "text": [
      "INFO:tensorflow:Scale of 0 disables regularizer.\n"
     ]
    },
    {
     "name": "stderr",
     "output_type": "stream",
     "text": [
      "I0110 22:21:20.342242 139750346217216 tf_logging.py:115] Scale of 0 disables regularizer.\n"
     ]
    },
    {
     "name": "stdout",
     "output_type": "stream",
     "text": [
      "INFO:tensorflow:Scale of 0 disables regularizer.\n"
     ]
    },
    {
     "name": "stderr",
     "output_type": "stream",
     "text": [
      "I0110 22:21:22.787487 139750346217216 tf_logging.py:115] Scale of 0 disables regularizer.\n"
     ]
    },
    {
     "name": "stdout",
     "output_type": "stream",
     "text": [
      "INFO:tensorflow:Scale of 0 disables regularizer.\n"
     ]
    },
    {
     "name": "stderr",
     "output_type": "stream",
     "text": [
      "I0110 22:21:25.229077 139750346217216 tf_logging.py:115] Scale of 0 disables regularizer.\n"
     ]
    },
    {
     "name": "stdout",
     "output_type": "stream",
     "text": [
      "INFO:tensorflow:Scale of 0 disables regularizer.\n"
     ]
    },
    {
     "name": "stderr",
     "output_type": "stream",
     "text": [
      "I0110 22:21:27.682737 139750346217216 tf_logging.py:115] Scale of 0 disables regularizer.\n"
     ]
    },
    {
     "name": "stdout",
     "output_type": "stream",
     "text": [
      "INFO:tensorflow:Scale of 0 disables regularizer.\n"
     ]
    },
    {
     "name": "stderr",
     "output_type": "stream",
     "text": [
      "I0110 22:21:30.068602 139750346217216 tf_logging.py:115] Scale of 0 disables regularizer.\n"
     ]
    },
    {
     "name": "stdout",
     "output_type": "stream",
     "text": [
      "INFO:tensorflow:Scale of 0 disables regularizer.\n"
     ]
    },
    {
     "name": "stderr",
     "output_type": "stream",
     "text": [
      "I0110 22:21:32.517329 139750346217216 tf_logging.py:115] Scale of 0 disables regularizer.\n"
     ]
    },
    {
     "name": "stdout",
     "output_type": "stream",
     "text": [
      "INFO:tensorflow:Scale of 0 disables regularizer.\n"
     ]
    },
    {
     "name": "stderr",
     "output_type": "stream",
     "text": [
      "I0110 22:21:34.967637 139750346217216 tf_logging.py:115] Scale of 0 disables regularizer.\n"
     ]
    },
    {
     "name": "stdout",
     "output_type": "stream",
     "text": [
      "INFO:tensorflow:Scale of 0 disables regularizer.\n"
     ]
    },
    {
     "name": "stderr",
     "output_type": "stream",
     "text": [
      "I0110 22:21:37.505143 139750346217216 tf_logging.py:115] Scale of 0 disables regularizer.\n"
     ]
    },
    {
     "name": "stdout",
     "output_type": "stream",
     "text": [
      "INFO:tensorflow:Scale of 0 disables regularizer.\n"
     ]
    },
    {
     "name": "stderr",
     "output_type": "stream",
     "text": [
      "I0110 22:21:39.965723 139750346217216 tf_logging.py:115] Scale of 0 disables regularizer.\n"
     ]
    },
    {
     "name": "stdout",
     "output_type": "stream",
     "text": [
      "INFO:tensorflow:Scale of 0 disables regularizer.\n"
     ]
    },
    {
     "name": "stderr",
     "output_type": "stream",
     "text": [
      "I0110 22:21:42.354333 139750346217216 tf_logging.py:115] Scale of 0 disables regularizer.\n"
     ]
    },
    {
     "name": "stdout",
     "output_type": "stream",
     "text": [
      "INFO:tensorflow:Scale of 0 disables regularizer.\n"
     ]
    },
    {
     "name": "stderr",
     "output_type": "stream",
     "text": [
      "I0110 22:21:44.806589 139750346217216 tf_logging.py:115] Scale of 0 disables regularizer.\n"
     ]
    },
    {
     "name": "stdout",
     "output_type": "stream",
     "text": [
      "INFO:tensorflow:Scale of 0 disables regularizer.\n"
     ]
    },
    {
     "name": "stderr",
     "output_type": "stream",
     "text": [
      "I0110 22:21:47.258429 139750346217216 tf_logging.py:115] Scale of 0 disables regularizer.\n"
     ]
    },
    {
     "name": "stdout",
     "output_type": "stream",
     "text": [
      "INFO:tensorflow:Scale of 0 disables regularizer.\n"
     ]
    },
    {
     "name": "stderr",
     "output_type": "stream",
     "text": [
      "I0110 22:21:49.720434 139750346217216 tf_logging.py:115] Scale of 0 disables regularizer.\n"
     ]
    },
    {
     "name": "stdout",
     "output_type": "stream",
     "text": [
      "INFO:tensorflow:Scale of 0 disables regularizer.\n"
     ]
    },
    {
     "name": "stderr",
     "output_type": "stream",
     "text": [
      "I0110 22:21:52.127565 139750346217216 tf_logging.py:115] Scale of 0 disables regularizer.\n"
     ]
    },
    {
     "name": "stdout",
     "output_type": "stream",
     "text": [
      "INFO:tensorflow:Scale of 0 disables regularizer.\n"
     ]
    },
    {
     "name": "stderr",
     "output_type": "stream",
     "text": [
      "I0110 22:21:54.580900 139750346217216 tf_logging.py:115] Scale of 0 disables regularizer.\n"
     ]
    },
    {
     "name": "stdout",
     "output_type": "stream",
     "text": [
      "INFO:tensorflow:Scale of 0 disables regularizer.\n"
     ]
    },
    {
     "name": "stderr",
     "output_type": "stream",
     "text": [
      "I0110 22:21:57.115241 139750346217216 tf_logging.py:115] Scale of 0 disables regularizer.\n"
     ]
    },
    {
     "name": "stdout",
     "output_type": "stream",
     "text": [
      "INFO:tensorflow:Scale of 0 disables regularizer.\n"
     ]
    },
    {
     "name": "stderr",
     "output_type": "stream",
     "text": [
      "I0110 22:21:59.572451 139750346217216 tf_logging.py:115] Scale of 0 disables regularizer.\n"
     ]
    },
    {
     "name": "stdout",
     "output_type": "stream",
     "text": [
      "INFO:tensorflow:Scale of 0 disables regularizer.\n"
     ]
    },
    {
     "name": "stderr",
     "output_type": "stream",
     "text": [
      "I0110 22:22:02.023913 139750346217216 tf_logging.py:115] Scale of 0 disables regularizer.\n"
     ]
    },
    {
     "name": "stdout",
     "output_type": "stream",
     "text": [
      "INFO:tensorflow:Scale of 0 disables regularizer.\n"
     ]
    },
    {
     "name": "stderr",
     "output_type": "stream",
     "text": [
      "I0110 22:22:04.428708 139750346217216 tf_logging.py:115] Scale of 0 disables regularizer.\n"
     ]
    },
    {
     "name": "stdout",
     "output_type": "stream",
     "text": [
      "INFO:tensorflow:Scale of 0 disables regularizer.\n"
     ]
    },
    {
     "name": "stderr",
     "output_type": "stream",
     "text": [
      "I0110 22:22:06.866103 139750346217216 tf_logging.py:115] Scale of 0 disables regularizer.\n"
     ]
    },
    {
     "name": "stdout",
     "output_type": "stream",
     "text": [
      "INFO:tensorflow:Scale of 0 disables regularizer.\n"
     ]
    },
    {
     "name": "stderr",
     "output_type": "stream",
     "text": [
      "I0110 22:22:09.342276 139750346217216 tf_logging.py:115] Scale of 0 disables regularizer.\n"
     ]
    },
    {
     "name": "stdout",
     "output_type": "stream",
     "text": [
      "INFO:tensorflow:Scale of 0 disables regularizer.\n"
     ]
    },
    {
     "name": "stderr",
     "output_type": "stream",
     "text": [
      "I0110 22:22:11.787637 139750346217216 tf_logging.py:115] Scale of 0 disables regularizer.\n"
     ]
    },
    {
     "name": "stdout",
     "output_type": "stream",
     "text": [
      "INFO:tensorflow:Scale of 0 disables regularizer.\n"
     ]
    },
    {
     "name": "stderr",
     "output_type": "stream",
     "text": [
      "I0110 22:22:14.200979 139750346217216 tf_logging.py:115] Scale of 0 disables regularizer.\n"
     ]
    },
    {
     "name": "stdout",
     "output_type": "stream",
     "text": [
      "INFO:tensorflow:Scale of 0 disables regularizer.\n"
     ]
    },
    {
     "name": "stderr",
     "output_type": "stream",
     "text": [
      "I0110 22:22:16.649555 139750346217216 tf_logging.py:115] Scale of 0 disables regularizer.\n"
     ]
    },
    {
     "name": "stdout",
     "output_type": "stream",
     "text": [
      "INFO:tensorflow:Scale of 0 disables regularizer.\n"
     ]
    },
    {
     "name": "stderr",
     "output_type": "stream",
     "text": [
      "I0110 22:22:19.096203 139750346217216 tf_logging.py:115] Scale of 0 disables regularizer.\n"
     ]
    },
    {
     "name": "stdout",
     "output_type": "stream",
     "text": [
      "INFO:tensorflow:Scale of 0 disables regularizer.\n"
     ]
    },
    {
     "name": "stderr",
     "output_type": "stream",
     "text": [
      "I0110 22:22:21.550536 139750346217216 tf_logging.py:115] Scale of 0 disables regularizer.\n"
     ]
    },
    {
     "name": "stdout",
     "output_type": "stream",
     "text": [
      "INFO:tensorflow:Scale of 0 disables regularizer.\n"
     ]
    },
    {
     "name": "stderr",
     "output_type": "stream",
     "text": [
      "I0110 22:22:23.974247 139750346217216 tf_logging.py:115] Scale of 0 disables regularizer.\n"
     ]
    },
    {
     "name": "stdout",
     "output_type": "stream",
     "text": [
      "INFO:tensorflow:Scale of 0 disables regularizer.\n"
     ]
    },
    {
     "name": "stderr",
     "output_type": "stream",
     "text": [
      "I0110 22:22:26.421397 139750346217216 tf_logging.py:115] Scale of 0 disables regularizer.\n"
     ]
    },
    {
     "name": "stdout",
     "output_type": "stream",
     "text": [
      "INFO:tensorflow:Scale of 0 disables regularizer.\n"
     ]
    },
    {
     "name": "stderr",
     "output_type": "stream",
     "text": [
      "I0110 22:22:28.871430 139750346217216 tf_logging.py:115] Scale of 0 disables regularizer.\n"
     ]
    },
    {
     "name": "stdout",
     "output_type": "stream",
     "text": [
      "INFO:tensorflow:Scale of 0 disables regularizer.\n"
     ]
    },
    {
     "name": "stderr",
     "output_type": "stream",
     "text": [
      "I0110 22:22:31.363006 139750346217216 tf_logging.py:115] Scale of 0 disables regularizer.\n"
     ]
    },
    {
     "name": "stdout",
     "output_type": "stream",
     "text": [
      "INFO:tensorflow:Scale of 0 disables regularizer.\n"
     ]
    },
    {
     "name": "stderr",
     "output_type": "stream",
     "text": [
      "I0110 22:22:33.841126 139750346217216 tf_logging.py:115] Scale of 0 disables regularizer.\n"
     ]
    },
    {
     "name": "stdout",
     "output_type": "stream",
     "text": [
      "INFO:tensorflow:Scale of 0 disables regularizer.\n"
     ]
    },
    {
     "name": "stderr",
     "output_type": "stream",
     "text": [
      "I0110 22:22:36.226230 139750346217216 tf_logging.py:115] Scale of 0 disables regularizer.\n"
     ]
    },
    {
     "name": "stdout",
     "output_type": "stream",
     "text": [
      "INFO:tensorflow:Scale of 0 disables regularizer.\n"
     ]
    },
    {
     "name": "stderr",
     "output_type": "stream",
     "text": [
      "I0110 22:22:38.673501 139750346217216 tf_logging.py:115] Scale of 0 disables regularizer.\n"
     ]
    },
    {
     "name": "stdout",
     "output_type": "stream",
     "text": [
      "INFO:tensorflow:Scale of 0 disables regularizer.\n"
     ]
    },
    {
     "name": "stderr",
     "output_type": "stream",
     "text": [
      "I0110 22:22:41.120465 139750346217216 tf_logging.py:115] Scale of 0 disables regularizer.\n"
     ]
    },
    {
     "name": "stdout",
     "output_type": "stream",
     "text": [
      "INFO:tensorflow:Scale of 0 disables regularizer.\n"
     ]
    },
    {
     "name": "stderr",
     "output_type": "stream",
     "text": [
      "I0110 22:22:43.575753 139750346217216 tf_logging.py:115] Scale of 0 disables regularizer.\n"
     ]
    },
    {
     "name": "stdout",
     "output_type": "stream",
     "text": [
      "INFO:tensorflow:Scale of 0 disables regularizer.\n"
     ]
    },
    {
     "name": "stderr",
     "output_type": "stream",
     "text": [
      "I0110 22:22:45.961866 139750346217216 tf_logging.py:115] Scale of 0 disables regularizer.\n"
     ]
    },
    {
     "name": "stdout",
     "output_type": "stream",
     "text": [
      "INFO:tensorflow:Scale of 0 disables regularizer.\n"
     ]
    },
    {
     "name": "stderr",
     "output_type": "stream",
     "text": [
      "I0110 22:22:48.411807 139750346217216 tf_logging.py:115] Scale of 0 disables regularizer.\n"
     ]
    },
    {
     "name": "stdout",
     "output_type": "stream",
     "text": [
      "INFO:tensorflow:Scale of 0 disables regularizer.\n"
     ]
    },
    {
     "name": "stderr",
     "output_type": "stream",
     "text": [
      "I0110 22:22:50.861506 139750346217216 tf_logging.py:115] Scale of 0 disables regularizer.\n"
     ]
    },
    {
     "name": "stdout",
     "output_type": "stream",
     "text": [
      "INFO:tensorflow:Scale of 0 disables regularizer.\n"
     ]
    },
    {
     "name": "stderr",
     "output_type": "stream",
     "text": [
      "I0110 22:22:53.319750 139750346217216 tf_logging.py:115] Scale of 0 disables regularizer.\n"
     ]
    },
    {
     "name": "stdout",
     "output_type": "stream",
     "text": [
      "INFO:tensorflow:Scale of 0 disables regularizer.\n"
     ]
    },
    {
     "name": "stderr",
     "output_type": "stream",
     "text": [
      "I0110 22:22:55.768752 139750346217216 tf_logging.py:115] Scale of 0 disables regularizer.\n"
     ]
    },
    {
     "name": "stdout",
     "output_type": "stream",
     "text": [
      "INFO:tensorflow:Scale of 0 disables regularizer.\n"
     ]
    },
    {
     "name": "stderr",
     "output_type": "stream",
     "text": [
      "I0110 22:22:58.148660 139750346217216 tf_logging.py:115] Scale of 0 disables regularizer.\n"
     ]
    },
    {
     "name": "stdout",
     "output_type": "stream",
     "text": [
      "INFO:tensorflow:Scale of 0 disables regularizer.\n"
     ]
    },
    {
     "name": "stderr",
     "output_type": "stream",
     "text": [
      "I0110 22:23:00.595008 139750346217216 tf_logging.py:115] Scale of 0 disables regularizer.\n"
     ]
    },
    {
     "name": "stdout",
     "output_type": "stream",
     "text": [
      "INFO:tensorflow:Scale of 0 disables regularizer.\n"
     ]
    },
    {
     "name": "stderr",
     "output_type": "stream",
     "text": [
      "I0110 22:23:03.040808 139750346217216 tf_logging.py:115] Scale of 0 disables regularizer.\n"
     ]
    },
    {
     "name": "stdout",
     "output_type": "stream",
     "text": [
      "INFO:tensorflow:Scale of 0 disables regularizer.\n"
     ]
    },
    {
     "name": "stderr",
     "output_type": "stream",
     "text": [
      "I0110 22:23:05.506331 139750346217216 tf_logging.py:115] Scale of 0 disables regularizer.\n"
     ]
    },
    {
     "name": "stdout",
     "output_type": "stream",
     "text": [
      "INFO:tensorflow:Scale of 0 disables regularizer.\n"
     ]
    },
    {
     "name": "stderr",
     "output_type": "stream",
     "text": [
      "I0110 22:23:07.892801 139750346217216 tf_logging.py:115] Scale of 0 disables regularizer.\n"
     ]
    },
    {
     "name": "stdout",
     "output_type": "stream",
     "text": [
      "INFO:tensorflow:Scale of 0 disables regularizer.\n"
     ]
    },
    {
     "name": "stderr",
     "output_type": "stream",
     "text": [
      "I0110 22:23:10.310144 139750346217216 tf_logging.py:115] Scale of 0 disables regularizer.\n"
     ]
    },
    {
     "name": "stdout",
     "output_type": "stream",
     "text": [
      "INFO:tensorflow:Scale of 0 disables regularizer.\n"
     ]
    },
    {
     "name": "stderr",
     "output_type": "stream",
     "text": [
      "I0110 22:23:12.747824 139750346217216 tf_logging.py:115] Scale of 0 disables regularizer.\n"
     ]
    },
    {
     "name": "stdout",
     "output_type": "stream",
     "text": [
      "INFO:tensorflow:Scale of 0 disables regularizer.\n"
     ]
    },
    {
     "name": "stderr",
     "output_type": "stream",
     "text": [
      "I0110 22:23:15.195686 139750346217216 tf_logging.py:115] Scale of 0 disables regularizer.\n"
     ]
    },
    {
     "name": "stdout",
     "output_type": "stream",
     "text": [
      "INFO:tensorflow:Scale of 0 disables regularizer.\n"
     ]
    },
    {
     "name": "stderr",
     "output_type": "stream",
     "text": [
      "I0110 22:23:17.586691 139750346217216 tf_logging.py:115] Scale of 0 disables regularizer.\n"
     ]
    },
    {
     "name": "stdout",
     "output_type": "stream",
     "text": [
      "INFO:tensorflow:Scale of 0 disables regularizer.\n"
     ]
    },
    {
     "name": "stderr",
     "output_type": "stream",
     "text": [
      "I0110 22:23:20.032821 139750346217216 tf_logging.py:115] Scale of 0 disables regularizer.\n"
     ]
    },
    {
     "name": "stdout",
     "output_type": "stream",
     "text": [
      "INFO:tensorflow:Scale of 0 disables regularizer.\n"
     ]
    },
    {
     "name": "stderr",
     "output_type": "stream",
     "text": [
      "I0110 22:23:22.475695 139750346217216 tf_logging.py:115] Scale of 0 disables regularizer.\n"
     ]
    },
    {
     "name": "stdout",
     "output_type": "stream",
     "text": [
      "INFO:tensorflow:Scale of 0 disables regularizer.\n"
     ]
    },
    {
     "name": "stderr",
     "output_type": "stream",
     "text": [
      "I0110 22:23:24.922678 139750346217216 tf_logging.py:115] Scale of 0 disables regularizer.\n"
     ]
    },
    {
     "name": "stdout",
     "output_type": "stream",
     "text": [
      "INFO:tensorflow:Scale of 0 disables regularizer.\n"
     ]
    },
    {
     "name": "stderr",
     "output_type": "stream",
     "text": [
      "I0110 22:23:27.370826 139750346217216 tf_logging.py:115] Scale of 0 disables regularizer.\n"
     ]
    },
    {
     "name": "stdout",
     "output_type": "stream",
     "text": [
      "INFO:tensorflow:Scale of 0 disables regularizer.\n"
     ]
    },
    {
     "name": "stderr",
     "output_type": "stream",
     "text": [
      "I0110 22:23:29.756841 139750346217216 tf_logging.py:115] Scale of 0 disables regularizer.\n"
     ]
    },
    {
     "name": "stdout",
     "output_type": "stream",
     "text": [
      "INFO:tensorflow:Scale of 0 disables regularizer.\n"
     ]
    },
    {
     "name": "stderr",
     "output_type": "stream",
     "text": [
      "I0110 22:23:32.205217 139750346217216 tf_logging.py:115] Scale of 0 disables regularizer.\n"
     ]
    },
    {
     "name": "stdout",
     "output_type": "stream",
     "text": [
      "INFO:tensorflow:Scale of 0 disables regularizer.\n"
     ]
    },
    {
     "name": "stderr",
     "output_type": "stream",
     "text": [
      "I0110 22:23:34.692167 139750346217216 tf_logging.py:115] Scale of 0 disables regularizer.\n"
     ]
    },
    {
     "name": "stdout",
     "output_type": "stream",
     "text": [
      "INFO:tensorflow:Scale of 0 disables regularizer.\n"
     ]
    },
    {
     "name": "stderr",
     "output_type": "stream",
     "text": [
      "I0110 22:23:37.143321 139750346217216 tf_logging.py:115] Scale of 0 disables regularizer.\n"
     ]
    },
    {
     "name": "stdout",
     "output_type": "stream",
     "text": [
      "INFO:tensorflow:Scale of 0 disables regularizer.\n"
     ]
    },
    {
     "name": "stderr",
     "output_type": "stream",
     "text": [
      "I0110 22:23:39.532630 139750346217216 tf_logging.py:115] Scale of 0 disables regularizer.\n"
     ]
    },
    {
     "name": "stdout",
     "output_type": "stream",
     "text": [
      "INFO:tensorflow:Scale of 0 disables regularizer.\n"
     ]
    },
    {
     "name": "stderr",
     "output_type": "stream",
     "text": [
      "I0110 22:23:41.967678 139750346217216 tf_logging.py:115] Scale of 0 disables regularizer.\n"
     ]
    },
    {
     "name": "stdout",
     "output_type": "stream",
     "text": [
      "INFO:tensorflow:Scale of 0 disables regularizer.\n"
     ]
    },
    {
     "name": "stderr",
     "output_type": "stream",
     "text": [
      "I0110 22:23:44.411635 139750346217216 tf_logging.py:115] Scale of 0 disables regularizer.\n"
     ]
    },
    {
     "name": "stdout",
     "output_type": "stream",
     "text": [
      "INFO:tensorflow:Scale of 0 disables regularizer.\n"
     ]
    },
    {
     "name": "stderr",
     "output_type": "stream",
     "text": [
      "I0110 22:23:46.858511 139750346217216 tf_logging.py:115] Scale of 0 disables regularizer.\n"
     ]
    },
    {
     "name": "stdout",
     "output_type": "stream",
     "text": [
      "INFO:tensorflow:Scale of 0 disables regularizer.\n"
     ]
    },
    {
     "name": "stderr",
     "output_type": "stream",
     "text": [
      "I0110 22:23:49.314651 139750346217216 tf_logging.py:115] Scale of 0 disables regularizer.\n"
     ]
    },
    {
     "name": "stdout",
     "output_type": "stream",
     "text": [
      "INFO:tensorflow:Scale of 0 disables regularizer.\n"
     ]
    },
    {
     "name": "stderr",
     "output_type": "stream",
     "text": [
      "I0110 22:23:51.698333 139750346217216 tf_logging.py:115] Scale of 0 disables regularizer.\n"
     ]
    },
    {
     "name": "stdout",
     "output_type": "stream",
     "text": [
      "INFO:tensorflow:Scale of 0 disables regularizer.\n"
     ]
    },
    {
     "name": "stderr",
     "output_type": "stream",
     "text": [
      "I0110 22:23:54.152543 139750346217216 tf_logging.py:115] Scale of 0 disables regularizer.\n"
     ]
    },
    {
     "name": "stdout",
     "output_type": "stream",
     "text": [
      "INFO:tensorflow:Scale of 0 disables regularizer.\n"
     ]
    },
    {
     "name": "stderr",
     "output_type": "stream",
     "text": [
      "I0110 22:23:56.602914 139750346217216 tf_logging.py:115] Scale of 0 disables regularizer.\n"
     ]
    },
    {
     "name": "stdout",
     "output_type": "stream",
     "text": [
      "INFO:tensorflow:Scale of 0 disables regularizer.\n"
     ]
    },
    {
     "name": "stderr",
     "output_type": "stream",
     "text": [
      "I0110 22:23:59.043591 139750346217216 tf_logging.py:115] Scale of 0 disables regularizer.\n"
     ]
    },
    {
     "name": "stdout",
     "output_type": "stream",
     "text": [
      "INFO:tensorflow:Scale of 0 disables regularizer.\n"
     ]
    },
    {
     "name": "stderr",
     "output_type": "stream",
     "text": [
      "I0110 22:24:01.433800 139750346217216 tf_logging.py:115] Scale of 0 disables regularizer.\n"
     ]
    },
    {
     "name": "stdout",
     "output_type": "stream",
     "text": [
      "INFO:tensorflow:Scale of 0 disables regularizer.\n"
     ]
    },
    {
     "name": "stderr",
     "output_type": "stream",
     "text": [
      "I0110 22:24:03.871258 139750346217216 tf_logging.py:115] Scale of 0 disables regularizer.\n"
     ]
    },
    {
     "name": "stdout",
     "output_type": "stream",
     "text": [
      "INFO:tensorflow:Scale of 0 disables regularizer.\n"
     ]
    },
    {
     "name": "stderr",
     "output_type": "stream",
     "text": [
      "I0110 22:24:06.317631 139750346217216 tf_logging.py:115] Scale of 0 disables regularizer.\n"
     ]
    },
    {
     "name": "stdout",
     "output_type": "stream",
     "text": [
      "INFO:tensorflow:Scale of 0 disables regularizer.\n"
     ]
    },
    {
     "name": "stderr",
     "output_type": "stream",
     "text": [
      "I0110 22:24:08.758070 139750346217216 tf_logging.py:115] Scale of 0 disables regularizer.\n"
     ]
    },
    {
     "name": "stdout",
     "output_type": "stream",
     "text": [
      "INFO:tensorflow:Scale of 0 disables regularizer.\n"
     ]
    },
    {
     "name": "stderr",
     "output_type": "stream",
     "text": [
      "I0110 22:24:11.150451 139750346217216 tf_logging.py:115] Scale of 0 disables regularizer.\n"
     ]
    },
    {
     "name": "stdout",
     "output_type": "stream",
     "text": [
      "INFO:tensorflow:Scale of 0 disables regularizer.\n"
     ]
    },
    {
     "name": "stderr",
     "output_type": "stream",
     "text": [
      "I0110 22:24:13.594229 139750346217216 tf_logging.py:115] Scale of 0 disables regularizer.\n"
     ]
    },
    {
     "name": "stdout",
     "output_type": "stream",
     "text": [
      "INFO:tensorflow:Scale of 0 disables regularizer.\n"
     ]
    },
    {
     "name": "stderr",
     "output_type": "stream",
     "text": [
      "I0110 22:24:16.040387 139750346217216 tf_logging.py:115] Scale of 0 disables regularizer.\n"
     ]
    },
    {
     "name": "stdout",
     "output_type": "stream",
     "text": [
      "INFO:tensorflow:Scale of 0 disables regularizer.\n"
     ]
    },
    {
     "name": "stderr",
     "output_type": "stream",
     "text": [
      "I0110 22:24:18.484381 139750346217216 tf_logging.py:115] Scale of 0 disables regularizer.\n"
     ]
    },
    {
     "name": "stdout",
     "output_type": "stream",
     "text": [
      "INFO:tensorflow:Scale of 0 disables regularizer.\n"
     ]
    },
    {
     "name": "stderr",
     "output_type": "stream",
     "text": [
      "I0110 22:24:20.943360 139750346217216 tf_logging.py:115] Scale of 0 disables regularizer.\n"
     ]
    },
    {
     "name": "stdout",
     "output_type": "stream",
     "text": [
      "INFO:tensorflow:Scale of 0 disables regularizer.\n"
     ]
    },
    {
     "name": "stderr",
     "output_type": "stream",
     "text": [
      "I0110 22:24:23.329288 139750346217216 tf_logging.py:115] Scale of 0 disables regularizer.\n"
     ]
    },
    {
     "name": "stdout",
     "output_type": "stream",
     "text": [
      "INFO:tensorflow:Scale of 0 disables regularizer.\n"
     ]
    },
    {
     "name": "stderr",
     "output_type": "stream",
     "text": [
      "I0110 22:24:25.771923 139750346217216 tf_logging.py:115] Scale of 0 disables regularizer.\n"
     ]
    },
    {
     "name": "stdout",
     "output_type": "stream",
     "text": [
      "INFO:tensorflow:Scale of 0 disables regularizer.\n"
     ]
    },
    {
     "name": "stderr",
     "output_type": "stream",
     "text": [
      "I0110 22:24:28.216830 139750346217216 tf_logging.py:115] Scale of 0 disables regularizer.\n"
     ]
    },
    {
     "name": "stdout",
     "output_type": "stream",
     "text": [
      "INFO:tensorflow:Scale of 0 disables regularizer.\n"
     ]
    },
    {
     "name": "stderr",
     "output_type": "stream",
     "text": [
      "I0110 22:24:30.668917 139750346217216 tf_logging.py:115] Scale of 0 disables regularizer.\n"
     ]
    },
    {
     "name": "stdout",
     "output_type": "stream",
     "text": [
      "INFO:tensorflow:Scale of 0 disables regularizer.\n"
     ]
    },
    {
     "name": "stderr",
     "output_type": "stream",
     "text": [
      "I0110 22:24:33.118048 139750346217216 tf_logging.py:115] Scale of 0 disables regularizer.\n"
     ]
    },
    {
     "name": "stdout",
     "output_type": "stream",
     "text": [
      "INFO:tensorflow:Scale of 0 disables regularizer.\n"
     ]
    },
    {
     "name": "stderr",
     "output_type": "stream",
     "text": [
      "I0110 22:24:35.561025 139750346217216 tf_logging.py:115] Scale of 0 disables regularizer.\n"
     ]
    },
    {
     "name": "stdout",
     "output_type": "stream",
     "text": [
      "INFO:tensorflow:Scale of 0 disables regularizer.\n"
     ]
    },
    {
     "name": "stderr",
     "output_type": "stream",
     "text": [
      "I0110 22:24:38.028092 139750346217216 tf_logging.py:115] Scale of 0 disables regularizer.\n"
     ]
    },
    {
     "name": "stdout",
     "output_type": "stream",
     "text": [
      "INFO:tensorflow:Scale of 0 disables regularizer.\n"
     ]
    },
    {
     "name": "stderr",
     "output_type": "stream",
     "text": [
      "I0110 22:24:40.481582 139750346217216 tf_logging.py:115] Scale of 0 disables regularizer.\n"
     ]
    },
    {
     "name": "stdout",
     "output_type": "stream",
     "text": [
      "INFO:tensorflow:Scale of 0 disables regularizer.\n"
     ]
    },
    {
     "name": "stderr",
     "output_type": "stream",
     "text": [
      "I0110 22:24:42.932951 139750346217216 tf_logging.py:115] Scale of 0 disables regularizer.\n"
     ]
    },
    {
     "name": "stdout",
     "output_type": "stream",
     "text": [
      "INFO:tensorflow:Scale of 0 disables regularizer.\n"
     ]
    },
    {
     "name": "stderr",
     "output_type": "stream",
     "text": [
      "I0110 22:24:45.349431 139750346217216 tf_logging.py:115] Scale of 0 disables regularizer.\n"
     ]
    },
    {
     "name": "stdout",
     "output_type": "stream",
     "text": [
      "INFO:tensorflow:Scale of 0 disables regularizer.\n"
     ]
    },
    {
     "name": "stderr",
     "output_type": "stream",
     "text": [
      "I0110 22:24:47.818430 139750346217216 tf_logging.py:115] Scale of 0 disables regularizer.\n"
     ]
    },
    {
     "name": "stdout",
     "output_type": "stream",
     "text": [
      "INFO:tensorflow:Scale of 0 disables regularizer.\n"
     ]
    },
    {
     "name": "stderr",
     "output_type": "stream",
     "text": [
      "I0110 22:24:50.260801 139750346217216 tf_logging.py:115] Scale of 0 disables regularizer.\n"
     ]
    },
    {
     "name": "stdout",
     "output_type": "stream",
     "text": [
      "INFO:tensorflow:Scale of 0 disables regularizer.\n"
     ]
    },
    {
     "name": "stderr",
     "output_type": "stream",
     "text": [
      "I0110 22:24:52.718333 139750346217216 tf_logging.py:115] Scale of 0 disables regularizer.\n"
     ]
    },
    {
     "name": "stdout",
     "output_type": "stream",
     "text": [
      "INFO:tensorflow:Scale of 0 disables regularizer.\n"
     ]
    },
    {
     "name": "stderr",
     "output_type": "stream",
     "text": [
      "I0110 22:24:55.152069 139750346217216 tf_logging.py:115] Scale of 0 disables regularizer.\n"
     ]
    },
    {
     "name": "stdout",
     "output_type": "stream",
     "text": [
      "INFO:tensorflow:Scale of 0 disables regularizer.\n"
     ]
    },
    {
     "name": "stderr",
     "output_type": "stream",
     "text": [
      "I0110 22:24:57.588858 139750346217216 tf_logging.py:115] Scale of 0 disables regularizer.\n"
     ]
    },
    {
     "name": "stdout",
     "output_type": "stream",
     "text": [
      "INFO:tensorflow:Scale of 0 disables regularizer.\n"
     ]
    },
    {
     "name": "stderr",
     "output_type": "stream",
     "text": [
      "I0110 22:25:00.024766 139750346217216 tf_logging.py:115] Scale of 0 disables regularizer.\n"
     ]
    },
    {
     "name": "stdout",
     "output_type": "stream",
     "text": [
      "INFO:tensorflow:Scale of 0 disables regularizer.\n"
     ]
    },
    {
     "name": "stderr",
     "output_type": "stream",
     "text": [
      "I0110 22:25:02.503262 139750346217216 tf_logging.py:115] Scale of 0 disables regularizer.\n"
     ]
    },
    {
     "name": "stdout",
     "output_type": "stream",
     "text": [
      "INFO:tensorflow:Scale of 0 disables regularizer.\n"
     ]
    },
    {
     "name": "stderr",
     "output_type": "stream",
     "text": [
      "I0110 22:25:04.921464 139750346217216 tf_logging.py:115] Scale of 0 disables regularizer.\n"
     ]
    },
    {
     "name": "stdout",
     "output_type": "stream",
     "text": [
      "INFO:tensorflow:Scale of 0 disables regularizer.\n"
     ]
    },
    {
     "name": "stderr",
     "output_type": "stream",
     "text": [
      "I0110 22:25:07.354499 139750346217216 tf_logging.py:115] Scale of 0 disables regularizer.\n"
     ]
    },
    {
     "name": "stdout",
     "output_type": "stream",
     "text": [
      "INFO:tensorflow:Scale of 0 disables regularizer.\n"
     ]
    },
    {
     "name": "stderr",
     "output_type": "stream",
     "text": [
      "I0110 22:25:09.792959 139750346217216 tf_logging.py:115] Scale of 0 disables regularizer.\n"
     ]
    },
    {
     "name": "stdout",
     "output_type": "stream",
     "text": [
      "INFO:tensorflow:Scale of 0 disables regularizer.\n"
     ]
    },
    {
     "name": "stderr",
     "output_type": "stream",
     "text": [
      "I0110 22:25:12.259849 139750346217216 tf_logging.py:115] Scale of 0 disables regularizer.\n"
     ]
    },
    {
     "name": "stdout",
     "output_type": "stream",
     "text": [
      "INFO:tensorflow:Scale of 0 disables regularizer.\n"
     ]
    },
    {
     "name": "stderr",
     "output_type": "stream",
     "text": [
      "I0110 22:25:14.705572 139750346217216 tf_logging.py:115] Scale of 0 disables regularizer.\n"
     ]
    },
    {
     "name": "stdout",
     "output_type": "stream",
     "text": [
      "INFO:tensorflow:Scale of 0 disables regularizer.\n"
     ]
    },
    {
     "name": "stderr",
     "output_type": "stream",
     "text": [
      "I0110 22:25:17.094664 139750346217216 tf_logging.py:115] Scale of 0 disables regularizer.\n"
     ]
    },
    {
     "name": "stdout",
     "output_type": "stream",
     "text": [
      "INFO:tensorflow:Scale of 0 disables regularizer.\n"
     ]
    },
    {
     "name": "stderr",
     "output_type": "stream",
     "text": [
      "I0110 22:25:19.532109 139750346217216 tf_logging.py:115] Scale of 0 disables regularizer.\n"
     ]
    },
    {
     "name": "stdout",
     "output_type": "stream",
     "text": [
      "INFO:tensorflow:Scale of 0 disables regularizer.\n"
     ]
    },
    {
     "name": "stderr",
     "output_type": "stream",
     "text": [
      "I0110 22:25:21.974069 139750346217216 tf_logging.py:115] Scale of 0 disables regularizer.\n"
     ]
    },
    {
     "name": "stdout",
     "output_type": "stream",
     "text": [
      "INFO:tensorflow:Scale of 0 disables regularizer.\n"
     ]
    },
    {
     "name": "stderr",
     "output_type": "stream",
     "text": [
      "I0110 22:25:24.420438 139750346217216 tf_logging.py:115] Scale of 0 disables regularizer.\n"
     ]
    },
    {
     "name": "stdout",
     "output_type": "stream",
     "text": [
      "INFO:tensorflow:Scale of 0 disables regularizer.\n"
     ]
    },
    {
     "name": "stderr",
     "output_type": "stream",
     "text": [
      "I0110 22:25:26.804115 139750346217216 tf_logging.py:115] Scale of 0 disables regularizer.\n"
     ]
    },
    {
     "name": "stdout",
     "output_type": "stream",
     "text": [
      "INFO:tensorflow:Scale of 0 disables regularizer.\n"
     ]
    },
    {
     "name": "stderr",
     "output_type": "stream",
     "text": [
      "I0110 22:25:29.247539 139750346217216 tf_logging.py:115] Scale of 0 disables regularizer.\n"
     ]
    },
    {
     "name": "stdout",
     "output_type": "stream",
     "text": [
      "INFO:tensorflow:Scale of 0 disables regularizer.\n"
     ]
    },
    {
     "name": "stderr",
     "output_type": "stream",
     "text": [
      "I0110 22:25:31.694554 139750346217216 tf_logging.py:115] Scale of 0 disables regularizer.\n"
     ]
    },
    {
     "name": "stdout",
     "output_type": "stream",
     "text": [
      "INFO:tensorflow:Scale of 0 disables regularizer.\n"
     ]
    },
    {
     "name": "stderr",
     "output_type": "stream",
     "text": [
      "I0110 22:25:34.148099 139750346217216 tf_logging.py:115] Scale of 0 disables regularizer.\n"
     ]
    },
    {
     "name": "stdout",
     "output_type": "stream",
     "text": [
      "INFO:tensorflow:Scale of 0 disables regularizer.\n"
     ]
    },
    {
     "name": "stderr",
     "output_type": "stream",
     "text": [
      "I0110 22:25:36.598376 139750346217216 tf_logging.py:115] Scale of 0 disables regularizer.\n"
     ]
    },
    {
     "name": "stdout",
     "output_type": "stream",
     "text": [
      "INFO:tensorflow:Scale of 0 disables regularizer.\n"
     ]
    },
    {
     "name": "stderr",
     "output_type": "stream",
     "text": [
      "I0110 22:25:38.987651 139750346217216 tf_logging.py:115] Scale of 0 disables regularizer.\n"
     ]
    },
    {
     "name": "stdout",
     "output_type": "stream",
     "text": [
      "INFO:tensorflow:Scale of 0 disables regularizer.\n"
     ]
    },
    {
     "name": "stderr",
     "output_type": "stream",
     "text": [
      "I0110 22:25:41.431102 139750346217216 tf_logging.py:115] Scale of 0 disables regularizer.\n"
     ]
    },
    {
     "name": "stdout",
     "output_type": "stream",
     "text": [
      "INFO:tensorflow:Scale of 0 disables regularizer.\n"
     ]
    },
    {
     "name": "stderr",
     "output_type": "stream",
     "text": [
      "I0110 22:25:43.876942 139750346217216 tf_logging.py:115] Scale of 0 disables regularizer.\n"
     ]
    },
    {
     "name": "stdout",
     "output_type": "stream",
     "text": [
      "INFO:tensorflow:Scale of 0 disables regularizer.\n"
     ]
    },
    {
     "name": "stderr",
     "output_type": "stream",
     "text": [
      "I0110 22:25:46.359463 139750346217216 tf_logging.py:115] Scale of 0 disables regularizer.\n"
     ]
    },
    {
     "name": "stdout",
     "output_type": "stream",
     "text": [
      "INFO:tensorflow:Scale of 0 disables regularizer.\n"
     ]
    },
    {
     "name": "stderr",
     "output_type": "stream",
     "text": [
      "I0110 22:25:48.750285 139750346217216 tf_logging.py:115] Scale of 0 disables regularizer.\n"
     ]
    },
    {
     "name": "stdout",
     "output_type": "stream",
     "text": [
      "INFO:tensorflow:Scale of 0 disables regularizer.\n"
     ]
    },
    {
     "name": "stderr",
     "output_type": "stream",
     "text": [
      "I0110 22:25:51.191794 139750346217216 tf_logging.py:115] Scale of 0 disables regularizer.\n"
     ]
    },
    {
     "name": "stdout",
     "output_type": "stream",
     "text": [
      "INFO:tensorflow:Scale of 0 disables regularizer.\n"
     ]
    },
    {
     "name": "stderr",
     "output_type": "stream",
     "text": [
      "I0110 22:25:53.645485 139750346217216 tf_logging.py:115] Scale of 0 disables regularizer.\n"
     ]
    },
    {
     "name": "stdout",
     "output_type": "stream",
     "text": [
      "INFO:tensorflow:Scale of 0 disables regularizer.\n"
     ]
    },
    {
     "name": "stderr",
     "output_type": "stream",
     "text": [
      "I0110 22:25:56.106539 139750346217216 tf_logging.py:115] Scale of 0 disables regularizer.\n"
     ]
    },
    {
     "name": "stdout",
     "output_type": "stream",
     "text": [
      "INFO:tensorflow:Scale of 0 disables regularizer.\n"
     ]
    },
    {
     "name": "stderr",
     "output_type": "stream",
     "text": [
      "I0110 22:25:58.491449 139750346217216 tf_logging.py:115] Scale of 0 disables regularizer.\n"
     ]
    },
    {
     "name": "stdout",
     "output_type": "stream",
     "text": [
      "INFO:tensorflow:Scale of 0 disables regularizer.\n"
     ]
    },
    {
     "name": "stderr",
     "output_type": "stream",
     "text": [
      "I0110 22:26:00.937304 139750346217216 tf_logging.py:115] Scale of 0 disables regularizer.\n"
     ]
    },
    {
     "name": "stdout",
     "output_type": "stream",
     "text": [
      "INFO:tensorflow:Scale of 0 disables regularizer.\n"
     ]
    },
    {
     "name": "stderr",
     "output_type": "stream",
     "text": [
      "I0110 22:26:03.394415 139750346217216 tf_logging.py:115] Scale of 0 disables regularizer.\n"
     ]
    },
    {
     "name": "stdout",
     "output_type": "stream",
     "text": [
      "INFO:tensorflow:Scale of 0 disables regularizer.\n"
     ]
    },
    {
     "name": "stderr",
     "output_type": "stream",
     "text": [
      "I0110 22:26:05.843611 139750346217216 tf_logging.py:115] Scale of 0 disables regularizer.\n"
     ]
    },
    {
     "name": "stdout",
     "output_type": "stream",
     "text": [
      "INFO:tensorflow:Scale of 0 disables regularizer.\n"
     ]
    },
    {
     "name": "stderr",
     "output_type": "stream",
     "text": [
      "I0110 22:26:08.308708 139750346217216 tf_logging.py:115] Scale of 0 disables regularizer.\n"
     ]
    },
    {
     "name": "stdout",
     "output_type": "stream",
     "text": [
      "INFO:tensorflow:Scale of 0 disables regularizer.\n"
     ]
    },
    {
     "name": "stderr",
     "output_type": "stream",
     "text": [
      "I0110 22:26:10.702346 139750346217216 tf_logging.py:115] Scale of 0 disables regularizer.\n"
     ]
    },
    {
     "name": "stdout",
     "output_type": "stream",
     "text": [
      "INFO:tensorflow:Scale of 0 disables regularizer.\n"
     ]
    },
    {
     "name": "stderr",
     "output_type": "stream",
     "text": [
      "I0110 22:26:13.151703 139750346217216 tf_logging.py:115] Scale of 0 disables regularizer.\n"
     ]
    },
    {
     "name": "stdout",
     "output_type": "stream",
     "text": [
      "INFO:tensorflow:Scale of 0 disables regularizer.\n"
     ]
    },
    {
     "name": "stderr",
     "output_type": "stream",
     "text": [
      "I0110 22:26:15.593451 139750346217216 tf_logging.py:115] Scale of 0 disables regularizer.\n"
     ]
    },
    {
     "name": "stdout",
     "output_type": "stream",
     "text": [
      "INFO:tensorflow:Scale of 0 disables regularizer.\n"
     ]
    },
    {
     "name": "stderr",
     "output_type": "stream",
     "text": [
      "I0110 22:26:18.046746 139750346217216 tf_logging.py:115] Scale of 0 disables regularizer.\n"
     ]
    },
    {
     "name": "stdout",
     "output_type": "stream",
     "text": [
      "INFO:tensorflow:Scale of 0 disables regularizer.\n"
     ]
    },
    {
     "name": "stderr",
     "output_type": "stream",
     "text": [
      "I0110 22:26:20.445213 139750346217216 tf_logging.py:115] Scale of 0 disables regularizer.\n"
     ]
    },
    {
     "name": "stdout",
     "output_type": "stream",
     "text": [
      "INFO:tensorflow:Scale of 0 disables regularizer.\n"
     ]
    },
    {
     "name": "stderr",
     "output_type": "stream",
     "text": [
      "I0110 22:26:22.890759 139750346217216 tf_logging.py:115] Scale of 0 disables regularizer.\n"
     ]
    },
    {
     "name": "stdout",
     "output_type": "stream",
     "text": [
      "INFO:tensorflow:Scale of 0 disables regularizer.\n"
     ]
    },
    {
     "name": "stderr",
     "output_type": "stream",
     "text": [
      "I0110 22:26:25.389375 139750346217216 tf_logging.py:115] Scale of 0 disables regularizer.\n"
     ]
    },
    {
     "name": "stdout",
     "output_type": "stream",
     "text": [
      "INFO:tensorflow:Scale of 0 disables regularizer.\n"
     ]
    },
    {
     "name": "stderr",
     "output_type": "stream",
     "text": [
      "I0110 22:26:27.834079 139750346217216 tf_logging.py:115] Scale of 0 disables regularizer.\n"
     ]
    },
    {
     "name": "stdout",
     "output_type": "stream",
     "text": [
      "INFO:tensorflow:Scale of 0 disables regularizer.\n"
     ]
    },
    {
     "name": "stderr",
     "output_type": "stream",
     "text": [
      "I0110 22:26:30.302710 139750346217216 tf_logging.py:115] Scale of 0 disables regularizer.\n"
     ]
    },
    {
     "name": "stdout",
     "output_type": "stream",
     "text": [
      "INFO:tensorflow:Scale of 0 disables regularizer.\n"
     ]
    },
    {
     "name": "stderr",
     "output_type": "stream",
     "text": [
      "I0110 22:26:32.690173 139750346217216 tf_logging.py:115] Scale of 0 disables regularizer.\n"
     ]
    },
    {
     "name": "stdout",
     "output_type": "stream",
     "text": [
      "INFO:tensorflow:Scale of 0 disables regularizer.\n"
     ]
    },
    {
     "name": "stderr",
     "output_type": "stream",
     "text": [
      "I0110 22:26:35.142472 139750346217216 tf_logging.py:115] Scale of 0 disables regularizer.\n"
     ]
    },
    {
     "name": "stdout",
     "output_type": "stream",
     "text": [
      "INFO:tensorflow:Scale of 0 disables regularizer.\n"
     ]
    },
    {
     "name": "stderr",
     "output_type": "stream",
     "text": [
      "I0110 22:26:37.586597 139750346217216 tf_logging.py:115] Scale of 0 disables regularizer.\n"
     ]
    },
    {
     "name": "stdout",
     "output_type": "stream",
     "text": [
      "INFO:tensorflow:Scale of 0 disables regularizer.\n"
     ]
    },
    {
     "name": "stderr",
     "output_type": "stream",
     "text": [
      "I0110 22:26:40.042602 139750346217216 tf_logging.py:115] Scale of 0 disables regularizer.\n"
     ]
    },
    {
     "name": "stdout",
     "output_type": "stream",
     "text": [
      "INFO:tensorflow:Scale of 0 disables regularizer.\n"
     ]
    },
    {
     "name": "stderr",
     "output_type": "stream",
     "text": [
      "I0110 22:26:42.445045 139750346217216 tf_logging.py:115] Scale of 0 disables regularizer.\n"
     ]
    },
    {
     "name": "stdout",
     "output_type": "stream",
     "text": [
      "INFO:tensorflow:Scale of 0 disables regularizer.\n"
     ]
    },
    {
     "name": "stderr",
     "output_type": "stream",
     "text": [
      "I0110 22:26:44.914920 139750346217216 tf_logging.py:115] Scale of 0 disables regularizer.\n"
     ]
    },
    {
     "name": "stdout",
     "output_type": "stream",
     "text": [
      "INFO:tensorflow:Scale of 0 disables regularizer.\n"
     ]
    },
    {
     "name": "stderr",
     "output_type": "stream",
     "text": [
      "I0110 22:26:47.367095 139750346217216 tf_logging.py:115] Scale of 0 disables regularizer.\n"
     ]
    },
    {
     "name": "stdout",
     "output_type": "stream",
     "text": [
      "INFO:tensorflow:Scale of 0 disables regularizer.\n"
     ]
    },
    {
     "name": "stderr",
     "output_type": "stream",
     "text": [
      "I0110 22:26:49.843525 139750346217216 tf_logging.py:115] Scale of 0 disables regularizer.\n"
     ]
    },
    {
     "name": "stdout",
     "output_type": "stream",
     "text": [
      "INFO:tensorflow:Scale of 0 disables regularizer.\n"
     ]
    },
    {
     "name": "stderr",
     "output_type": "stream",
     "text": [
      "I0110 22:26:52.235399 139750346217216 tf_logging.py:115] Scale of 0 disables regularizer.\n"
     ]
    },
    {
     "name": "stdout",
     "output_type": "stream",
     "text": [
      "INFO:tensorflow:Scale of 0 disables regularizer.\n"
     ]
    },
    {
     "name": "stderr",
     "output_type": "stream",
     "text": [
      "I0110 22:26:54.672994 139750346217216 tf_logging.py:115] Scale of 0 disables regularizer.\n"
     ]
    },
    {
     "name": "stdout",
     "output_type": "stream",
     "text": [
      "INFO:tensorflow:Scale of 0 disables regularizer.\n"
     ]
    },
    {
     "name": "stderr",
     "output_type": "stream",
     "text": [
      "I0110 22:26:57.208619 139750346217216 tf_logging.py:115] Scale of 0 disables regularizer.\n"
     ]
    },
    {
     "name": "stdout",
     "output_type": "stream",
     "text": [
      "INFO:tensorflow:Scale of 0 disables regularizer.\n"
     ]
    },
    {
     "name": "stderr",
     "output_type": "stream",
     "text": [
      "I0110 22:26:59.665882 139750346217216 tf_logging.py:115] Scale of 0 disables regularizer.\n"
     ]
    },
    {
     "name": "stdout",
     "output_type": "stream",
     "text": [
      "INFO:tensorflow:Scale of 0 disables regularizer.\n"
     ]
    },
    {
     "name": "stderr",
     "output_type": "stream",
     "text": [
      "I0110 22:27:02.118358 139750346217216 tf_logging.py:115] Scale of 0 disables regularizer.\n"
     ]
    },
    {
     "name": "stdout",
     "output_type": "stream",
     "text": [
      "INFO:tensorflow:Scale of 0 disables regularizer.\n"
     ]
    },
    {
     "name": "stderr",
     "output_type": "stream",
     "text": [
      "I0110 22:27:04.507079 139750346217216 tf_logging.py:115] Scale of 0 disables regularizer.\n"
     ]
    },
    {
     "name": "stdout",
     "output_type": "stream",
     "text": [
      "INFO:tensorflow:Scale of 0 disables regularizer.\n"
     ]
    },
    {
     "name": "stderr",
     "output_type": "stream",
     "text": [
      "I0110 22:27:06.967455 139750346217216 tf_logging.py:115] Scale of 0 disables regularizer.\n"
     ]
    },
    {
     "name": "stdout",
     "output_type": "stream",
     "text": [
      "INFO:tensorflow:Scale of 0 disables regularizer.\n"
     ]
    },
    {
     "name": "stderr",
     "output_type": "stream",
     "text": [
      "I0110 22:27:09.449417 139750346217216 tf_logging.py:115] Scale of 0 disables regularizer.\n"
     ]
    },
    {
     "name": "stdout",
     "output_type": "stream",
     "text": [
      "INFO:tensorflow:Scale of 0 disables regularizer.\n"
     ]
    },
    {
     "name": "stderr",
     "output_type": "stream",
     "text": [
      "I0110 22:27:11.902621 139750346217216 tf_logging.py:115] Scale of 0 disables regularizer.\n"
     ]
    },
    {
     "name": "stdout",
     "output_type": "stream",
     "text": [
      "INFO:tensorflow:Scale of 0 disables regularizer.\n"
     ]
    },
    {
     "name": "stderr",
     "output_type": "stream",
     "text": [
      "I0110 22:27:14.289392 139750346217216 tf_logging.py:115] Scale of 0 disables regularizer.\n"
     ]
    },
    {
     "name": "stdout",
     "output_type": "stream",
     "text": [
      "INFO:tensorflow:Scale of 0 disables regularizer.\n"
     ]
    },
    {
     "name": "stderr",
     "output_type": "stream",
     "text": [
      "I0110 22:27:16.749020 139750346217216 tf_logging.py:115] Scale of 0 disables regularizer.\n"
     ]
    },
    {
     "name": "stdout",
     "output_type": "stream",
     "text": [
      "INFO:tensorflow:Scale of 0 disables regularizer.\n"
     ]
    },
    {
     "name": "stderr",
     "output_type": "stream",
     "text": [
      "I0110 22:27:19.199449 139750346217216 tf_logging.py:115] Scale of 0 disables regularizer.\n"
     ]
    },
    {
     "name": "stdout",
     "output_type": "stream",
     "text": [
      "INFO:tensorflow:Scale of 0 disables regularizer.\n"
     ]
    },
    {
     "name": "stderr",
     "output_type": "stream",
     "text": [
      "I0110 22:27:21.649677 139750346217216 tf_logging.py:115] Scale of 0 disables regularizer.\n"
     ]
    },
    {
     "name": "stdout",
     "output_type": "stream",
     "text": [
      "INFO:tensorflow:Scale of 0 disables regularizer.\n"
     ]
    },
    {
     "name": "stderr",
     "output_type": "stream",
     "text": [
      "I0110 22:27:24.113793 139750346217216 tf_logging.py:115] Scale of 0 disables regularizer.\n"
     ]
    },
    {
     "name": "stdout",
     "output_type": "stream",
     "text": [
      "INFO:tensorflow:Scale of 0 disables regularizer.\n"
     ]
    },
    {
     "name": "stderr",
     "output_type": "stream",
     "text": [
      "I0110 22:27:26.533541 139750346217216 tf_logging.py:115] Scale of 0 disables regularizer.\n"
     ]
    },
    {
     "name": "stdout",
     "output_type": "stream",
     "text": [
      "INFO:tensorflow:Scale of 0 disables regularizer.\n"
     ]
    },
    {
     "name": "stderr",
     "output_type": "stream",
     "text": [
      "I0110 22:27:28.979719 139750346217216 tf_logging.py:115] Scale of 0 disables regularizer.\n"
     ]
    },
    {
     "name": "stdout",
     "output_type": "stream",
     "text": [
      "INFO:tensorflow:Scale of 0 disables regularizer.\n"
     ]
    },
    {
     "name": "stderr",
     "output_type": "stream",
     "text": [
      "I0110 22:27:31.521678 139750346217216 tf_logging.py:115] Scale of 0 disables regularizer.\n"
     ]
    },
    {
     "name": "stdout",
     "output_type": "stream",
     "text": [
      "INFO:tensorflow:Scale of 0 disables regularizer.\n"
     ]
    },
    {
     "name": "stderr",
     "output_type": "stream",
     "text": [
      "I0110 22:27:34.018734 139750346217216 tf_logging.py:115] Scale of 0 disables regularizer.\n"
     ]
    },
    {
     "name": "stdout",
     "output_type": "stream",
     "text": [
      "INFO:tensorflow:Scale of 0 disables regularizer.\n"
     ]
    },
    {
     "name": "stderr",
     "output_type": "stream",
     "text": [
      "I0110 22:27:36.417304 139750346217216 tf_logging.py:115] Scale of 0 disables regularizer.\n"
     ]
    },
    {
     "name": "stdout",
     "output_type": "stream",
     "text": [
      "INFO:tensorflow:Scale of 0 disables regularizer.\n"
     ]
    },
    {
     "name": "stderr",
     "output_type": "stream",
     "text": [
      "I0110 22:27:38.892356 139750346217216 tf_logging.py:115] Scale of 0 disables regularizer.\n"
     ]
    },
    {
     "name": "stdout",
     "output_type": "stream",
     "text": [
      "INFO:tensorflow:Scale of 0 disables regularizer.\n"
     ]
    },
    {
     "name": "stderr",
     "output_type": "stream",
     "text": [
      "I0110 22:27:41.349494 139750346217216 tf_logging.py:115] Scale of 0 disables regularizer.\n"
     ]
    },
    {
     "name": "stdout",
     "output_type": "stream",
     "text": [
      "INFO:tensorflow:Scale of 0 disables regularizer.\n"
     ]
    },
    {
     "name": "stderr",
     "output_type": "stream",
     "text": [
      "I0110 22:27:43.808306 139750346217216 tf_logging.py:115] Scale of 0 disables regularizer.\n"
     ]
    },
    {
     "name": "stdout",
     "output_type": "stream",
     "text": [
      "INFO:tensorflow:Scale of 0 disables regularizer.\n"
     ]
    },
    {
     "name": "stderr",
     "output_type": "stream",
     "text": [
      "I0110 22:27:46.182751 139750346217216 tf_logging.py:115] Scale of 0 disables regularizer.\n"
     ]
    },
    {
     "name": "stdout",
     "output_type": "stream",
     "text": [
      "INFO:tensorflow:Scale of 0 disables regularizer.\n"
     ]
    },
    {
     "name": "stderr",
     "output_type": "stream",
     "text": [
      "I0110 22:27:48.628063 139750346217216 tf_logging.py:115] Scale of 0 disables regularizer.\n"
     ]
    },
    {
     "name": "stdout",
     "output_type": "stream",
     "text": [
      "INFO:tensorflow:Scale of 0 disables regularizer.\n"
     ]
    },
    {
     "name": "stderr",
     "output_type": "stream",
     "text": [
      "I0110 22:27:51.107402 139750346217216 tf_logging.py:115] Scale of 0 disables regularizer.\n"
     ]
    },
    {
     "name": "stdout",
     "output_type": "stream",
     "text": [
      "INFO:tensorflow:Scale of 0 disables regularizer.\n"
     ]
    },
    {
     "name": "stderr",
     "output_type": "stream",
     "text": [
      "I0110 22:27:53.562760 139750346217216 tf_logging.py:115] Scale of 0 disables regularizer.\n"
     ]
    },
    {
     "name": "stdout",
     "output_type": "stream",
     "text": [
      "INFO:tensorflow:Scale of 0 disables regularizer.\n"
     ]
    },
    {
     "name": "stderr",
     "output_type": "stream",
     "text": [
      "I0110 22:27:56.033901 139750346217216 tf_logging.py:115] Scale of 0 disables regularizer.\n"
     ]
    },
    {
     "name": "stdout",
     "output_type": "stream",
     "text": [
      "INFO:tensorflow:Scale of 0 disables regularizer.\n"
     ]
    },
    {
     "name": "stderr",
     "output_type": "stream",
     "text": [
      "I0110 22:27:58.426781 139750346217216 tf_logging.py:115] Scale of 0 disables regularizer.\n"
     ]
    },
    {
     "name": "stdout",
     "output_type": "stream",
     "text": [
      "INFO:tensorflow:Scale of 0 disables regularizer.\n"
     ]
    },
    {
     "name": "stderr",
     "output_type": "stream",
     "text": [
      "I0110 22:28:00.894000 139750346217216 tf_logging.py:115] Scale of 0 disables regularizer.\n"
     ]
    },
    {
     "name": "stdout",
     "output_type": "stream",
     "text": [
      "INFO:tensorflow:Scale of 0 disables regularizer.\n"
     ]
    },
    {
     "name": "stderr",
     "output_type": "stream",
     "text": [
      "I0110 22:28:03.335125 139750346217216 tf_logging.py:115] Scale of 0 disables regularizer.\n"
     ]
    },
    {
     "name": "stdout",
     "output_type": "stream",
     "text": [
      "INFO:tensorflow:Scale of 0 disables regularizer.\n"
     ]
    },
    {
     "name": "stderr",
     "output_type": "stream",
     "text": [
      "I0110 22:28:05.791162 139750346217216 tf_logging.py:115] Scale of 0 disables regularizer.\n"
     ]
    },
    {
     "name": "stdout",
     "output_type": "stream",
     "text": [
      "INFO:tensorflow:Scale of 0 disables regularizer.\n"
     ]
    },
    {
     "name": "stderr",
     "output_type": "stream",
     "text": [
      "I0110 22:28:08.169929 139750346217216 tf_logging.py:115] Scale of 0 disables regularizer.\n"
     ]
    },
    {
     "name": "stdout",
     "output_type": "stream",
     "text": [
      "INFO:tensorflow:Scale of 0 disables regularizer.\n"
     ]
    },
    {
     "name": "stderr",
     "output_type": "stream",
     "text": [
      "I0110 22:28:10.633837 139750346217216 tf_logging.py:115] Scale of 0 disables regularizer.\n"
     ]
    },
    {
     "name": "stdout",
     "output_type": "stream",
     "text": [
      "INFO:tensorflow:Scale of 0 disables regularizer.\n"
     ]
    },
    {
     "name": "stderr",
     "output_type": "stream",
     "text": [
      "I0110 22:28:13.082341 139750346217216 tf_logging.py:115] Scale of 0 disables regularizer.\n"
     ]
    },
    {
     "name": "stdout",
     "output_type": "stream",
     "text": [
      "INFO:tensorflow:Scale of 0 disables regularizer.\n"
     ]
    },
    {
     "name": "stderr",
     "output_type": "stream",
     "text": [
      "I0110 22:28:15.529127 139750346217216 tf_logging.py:115] Scale of 0 disables regularizer.\n"
     ]
    },
    {
     "name": "stdout",
     "output_type": "stream",
     "text": [
      "INFO:tensorflow:Scale of 0 disables regularizer.\n"
     ]
    },
    {
     "name": "stderr",
     "output_type": "stream",
     "text": [
      "I0110 22:28:18.003744 139750346217216 tf_logging.py:115] Scale of 0 disables regularizer.\n"
     ]
    },
    {
     "name": "stdout",
     "output_type": "stream",
     "text": [
      "INFO:tensorflow:Scale of 0 disables regularizer.\n"
     ]
    },
    {
     "name": "stderr",
     "output_type": "stream",
     "text": [
      "I0110 22:28:20.391615 139750346217216 tf_logging.py:115] Scale of 0 disables regularizer.\n"
     ]
    },
    {
     "name": "stdout",
     "output_type": "stream",
     "text": [
      "INFO:tensorflow:Scale of 0 disables regularizer.\n"
     ]
    },
    {
     "name": "stderr",
     "output_type": "stream",
     "text": [
      "I0110 22:28:22.857091 139750346217216 tf_logging.py:115] Scale of 0 disables regularizer.\n"
     ]
    },
    {
     "name": "stdout",
     "output_type": "stream",
     "text": [
      "INFO:tensorflow:Scale of 0 disables regularizer.\n"
     ]
    },
    {
     "name": "stderr",
     "output_type": "stream",
     "text": [
      "I0110 22:28:25.326267 139750346217216 tf_logging.py:115] Scale of 0 disables regularizer.\n"
     ]
    },
    {
     "name": "stdout",
     "output_type": "stream",
     "text": [
      "INFO:tensorflow:Scale of 0 disables regularizer.\n"
     ]
    },
    {
     "name": "stderr",
     "output_type": "stream",
     "text": [
      "I0110 22:28:27.776368 139750346217216 tf_logging.py:115] Scale of 0 disables regularizer.\n"
     ]
    },
    {
     "name": "stdout",
     "output_type": "stream",
     "text": [
      "INFO:tensorflow:Scale of 0 disables regularizer.\n"
     ]
    },
    {
     "name": "stderr",
     "output_type": "stream",
     "text": [
      "I0110 22:28:30.222278 139750346217216 tf_logging.py:115] Scale of 0 disables regularizer.\n"
     ]
    },
    {
     "name": "stdout",
     "output_type": "stream",
     "text": [
      "INFO:tensorflow:Scale of 0 disables regularizer.\n"
     ]
    },
    {
     "name": "stderr",
     "output_type": "stream",
     "text": [
      "I0110 22:28:32.665065 139750346217216 tf_logging.py:115] Scale of 0 disables regularizer.\n"
     ]
    },
    {
     "name": "stdout",
     "output_type": "stream",
     "text": [
      "INFO:tensorflow:Scale of 0 disables regularizer.\n"
     ]
    },
    {
     "name": "stderr",
     "output_type": "stream",
     "text": [
      "I0110 22:28:35.110013 139750346217216 tf_logging.py:115] Scale of 0 disables regularizer.\n"
     ]
    },
    {
     "name": "stdout",
     "output_type": "stream",
     "text": [
      "INFO:tensorflow:Scale of 0 disables regularizer.\n"
     ]
    },
    {
     "name": "stderr",
     "output_type": "stream",
     "text": [
      "I0110 22:28:37.570385 139750346217216 tf_logging.py:115] Scale of 0 disables regularizer.\n"
     ]
    },
    {
     "name": "stdout",
     "output_type": "stream",
     "text": [
      "INFO:tensorflow:Scale of 0 disables regularizer.\n"
     ]
    },
    {
     "name": "stderr",
     "output_type": "stream",
     "text": [
      "I0110 22:28:39.955799 139750346217216 tf_logging.py:115] Scale of 0 disables regularizer.\n"
     ]
    },
    {
     "name": "stdout",
     "output_type": "stream",
     "text": [
      "INFO:tensorflow:Scale of 0 disables regularizer.\n"
     ]
    },
    {
     "name": "stderr",
     "output_type": "stream",
     "text": [
      "I0110 22:28:42.435331 139750346217216 tf_logging.py:115] Scale of 0 disables regularizer.\n"
     ]
    },
    {
     "name": "stdout",
     "output_type": "stream",
     "text": [
      "INFO:tensorflow:Scale of 0 disables regularizer.\n"
     ]
    },
    {
     "name": "stderr",
     "output_type": "stream",
     "text": [
      "I0110 22:28:44.884426 139750346217216 tf_logging.py:115] Scale of 0 disables regularizer.\n"
     ]
    },
    {
     "name": "stdout",
     "output_type": "stream",
     "text": [
      "INFO:tensorflow:Scale of 0 disables regularizer.\n"
     ]
    },
    {
     "name": "stderr",
     "output_type": "stream",
     "text": [
      "I0110 22:28:47.338712 139750346217216 tf_logging.py:115] Scale of 0 disables regularizer.\n"
     ]
    },
    {
     "name": "stdout",
     "output_type": "stream",
     "text": [
      "INFO:tensorflow:Scale of 0 disables regularizer.\n"
     ]
    },
    {
     "name": "stderr",
     "output_type": "stream",
     "text": [
      "I0110 22:28:49.784192 139750346217216 tf_logging.py:115] Scale of 0 disables regularizer.\n"
     ]
    },
    {
     "name": "stdout",
     "output_type": "stream",
     "text": [
      "INFO:tensorflow:Scale of 0 disables regularizer.\n"
     ]
    },
    {
     "name": "stderr",
     "output_type": "stream",
     "text": [
      "I0110 22:28:52.181737 139750346217216 tf_logging.py:115] Scale of 0 disables regularizer.\n"
     ]
    },
    {
     "name": "stdout",
     "output_type": "stream",
     "text": [
      "INFO:tensorflow:Scale of 0 disables regularizer.\n"
     ]
    },
    {
     "name": "stderr",
     "output_type": "stream",
     "text": [
      "I0110 22:28:54.616343 139750346217216 tf_logging.py:115] Scale of 0 disables regularizer.\n"
     ]
    },
    {
     "name": "stdout",
     "output_type": "stream",
     "text": [
      "INFO:tensorflow:Scale of 0 disables regularizer.\n"
     ]
    },
    {
     "name": "stderr",
     "output_type": "stream",
     "text": [
      "I0110 22:28:57.122744 139750346217216 tf_logging.py:115] Scale of 0 disables regularizer.\n"
     ]
    },
    {
     "name": "stdout",
     "output_type": "stream",
     "text": [
      "INFO:tensorflow:Scale of 0 disables regularizer.\n"
     ]
    },
    {
     "name": "stderr",
     "output_type": "stream",
     "text": [
      "I0110 22:28:59.587671 139750346217216 tf_logging.py:115] Scale of 0 disables regularizer.\n"
     ]
    },
    {
     "name": "stdout",
     "output_type": "stream",
     "text": [
      "INFO:tensorflow:Scale of 0 disables regularizer.\n"
     ]
    },
    {
     "name": "stderr",
     "output_type": "stream",
     "text": [
      "I0110 22:29:01.976352 139750346217216 tf_logging.py:115] Scale of 0 disables regularizer.\n"
     ]
    },
    {
     "name": "stdout",
     "output_type": "stream",
     "text": [
      "INFO:tensorflow:Scale of 0 disables regularizer.\n"
     ]
    },
    {
     "name": "stderr",
     "output_type": "stream",
     "text": [
      "I0110 22:29:04.424504 139750346217216 tf_logging.py:115] Scale of 0 disables regularizer.\n"
     ]
    },
    {
     "name": "stdout",
     "output_type": "stream",
     "text": [
      "INFO:tensorflow:Scale of 0 disables regularizer.\n"
     ]
    },
    {
     "name": "stderr",
     "output_type": "stream",
     "text": [
      "I0110 22:29:06.870827 139750346217216 tf_logging.py:115] Scale of 0 disables regularizer.\n"
     ]
    },
    {
     "name": "stdout",
     "output_type": "stream",
     "text": [
      "INFO:tensorflow:Scale of 0 disables regularizer.\n"
     ]
    },
    {
     "name": "stderr",
     "output_type": "stream",
     "text": [
      "I0110 22:29:09.323312 139750346217216 tf_logging.py:115] Scale of 0 disables regularizer.\n"
     ]
    },
    {
     "name": "stdout",
     "output_type": "stream",
     "text": [
      "INFO:tensorflow:Scale of 0 disables regularizer.\n"
     ]
    },
    {
     "name": "stderr",
     "output_type": "stream",
     "text": [
      "I0110 22:29:11.774526 139750346217216 tf_logging.py:115] Scale of 0 disables regularizer.\n"
     ]
    },
    {
     "name": "stdout",
     "output_type": "stream",
     "text": [
      "INFO:tensorflow:Scale of 0 disables regularizer.\n"
     ]
    },
    {
     "name": "stderr",
     "output_type": "stream",
     "text": [
      "I0110 22:29:14.163220 139750346217216 tf_logging.py:115] Scale of 0 disables regularizer.\n"
     ]
    },
    {
     "name": "stdout",
     "output_type": "stream",
     "text": [
      "INFO:tensorflow:Scale of 0 disables regularizer.\n"
     ]
    },
    {
     "name": "stderr",
     "output_type": "stream",
     "text": [
      "I0110 22:29:16.606199 139750346217216 tf_logging.py:115] Scale of 0 disables regularizer.\n"
     ]
    },
    {
     "name": "stdout",
     "output_type": "stream",
     "text": [
      "INFO:tensorflow:Scale of 0 disables regularizer.\n"
     ]
    },
    {
     "name": "stderr",
     "output_type": "stream",
     "text": [
      "I0110 22:29:19.054432 139750346217216 tf_logging.py:115] Scale of 0 disables regularizer.\n"
     ]
    },
    {
     "name": "stdout",
     "output_type": "stream",
     "text": [
      "INFO:tensorflow:Scale of 0 disables regularizer.\n"
     ]
    },
    {
     "name": "stderr",
     "output_type": "stream",
     "text": [
      "I0110 22:29:21.511434 139750346217216 tf_logging.py:115] Scale of 0 disables regularizer.\n"
     ]
    },
    {
     "name": "stdout",
     "output_type": "stream",
     "text": [
      "INFO:tensorflow:Scale of 0 disables regularizer.\n"
     ]
    },
    {
     "name": "stderr",
     "output_type": "stream",
     "text": [
      "I0110 22:29:23.903367 139750346217216 tf_logging.py:115] Scale of 0 disables regularizer.\n"
     ]
    },
    {
     "name": "stdout",
     "output_type": "stream",
     "text": [
      "INFO:tensorflow:Scale of 0 disables regularizer.\n"
     ]
    },
    {
     "name": "stderr",
     "output_type": "stream",
     "text": [
      "I0110 22:29:26.341147 139750346217216 tf_logging.py:115] Scale of 0 disables regularizer.\n"
     ]
    },
    {
     "name": "stdout",
     "output_type": "stream",
     "text": [
      "INFO:tensorflow:Scale of 0 disables regularizer.\n"
     ]
    },
    {
     "name": "stderr",
     "output_type": "stream",
     "text": [
      "I0110 22:29:28.804320 139750346217216 tf_logging.py:115] Scale of 0 disables regularizer.\n"
     ]
    },
    {
     "name": "stdout",
     "output_type": "stream",
     "text": [
      "INFO:tensorflow:Scale of 0 disables regularizer.\n"
     ]
    },
    {
     "name": "stderr",
     "output_type": "stream",
     "text": [
      "I0110 22:29:31.254293 139750346217216 tf_logging.py:115] Scale of 0 disables regularizer.\n"
     ]
    },
    {
     "name": "stdout",
     "output_type": "stream",
     "text": [
      "INFO:tensorflow:Scale of 0 disables regularizer.\n"
     ]
    },
    {
     "name": "stderr",
     "output_type": "stream",
     "text": [
      "I0110 22:29:33.643235 139750346217216 tf_logging.py:115] Scale of 0 disables regularizer.\n"
     ]
    },
    {
     "name": "stdout",
     "output_type": "stream",
     "text": [
      "INFO:tensorflow:Scale of 0 disables regularizer.\n"
     ]
    },
    {
     "name": "stderr",
     "output_type": "stream",
     "text": [
      "I0110 22:29:36.078462 139750346217216 tf_logging.py:115] Scale of 0 disables regularizer.\n"
     ]
    },
    {
     "name": "stdout",
     "output_type": "stream",
     "text": [
      "INFO:tensorflow:Scale of 0 disables regularizer.\n"
     ]
    },
    {
     "name": "stderr",
     "output_type": "stream",
     "text": [
      "I0110 22:29:38.521307 139750346217216 tf_logging.py:115] Scale of 0 disables regularizer.\n"
     ]
    },
    {
     "name": "stdout",
     "output_type": "stream",
     "text": [
      "INFO:tensorflow:Scale of 0 disables regularizer.\n"
     ]
    },
    {
     "name": "stderr",
     "output_type": "stream",
     "text": [
      "I0110 22:29:40.969087 139750346217216 tf_logging.py:115] Scale of 0 disables regularizer.\n"
     ]
    },
    {
     "name": "stdout",
     "output_type": "stream",
     "text": [
      "INFO:tensorflow:Scale of 0 disables regularizer.\n"
     ]
    },
    {
     "name": "stderr",
     "output_type": "stream",
     "text": [
      "I0110 22:29:43.426368 139750346217216 tf_logging.py:115] Scale of 0 disables regularizer.\n"
     ]
    },
    {
     "name": "stdout",
     "output_type": "stream",
     "text": [
      "INFO:tensorflow:Scale of 0 disables regularizer.\n"
     ]
    },
    {
     "name": "stderr",
     "output_type": "stream",
     "text": [
      "I0110 22:29:45.824492 139750346217216 tf_logging.py:115] Scale of 0 disables regularizer.\n"
     ]
    },
    {
     "name": "stdout",
     "output_type": "stream",
     "text": [
      "INFO:tensorflow:Scale of 0 disables regularizer.\n"
     ]
    },
    {
     "name": "stderr",
     "output_type": "stream",
     "text": [
      "I0110 22:29:48.279288 139750346217216 tf_logging.py:115] Scale of 0 disables regularizer.\n"
     ]
    },
    {
     "name": "stdout",
     "output_type": "stream",
     "text": [
      "INFO:tensorflow:Scale of 0 disables regularizer.\n"
     ]
    },
    {
     "name": "stderr",
     "output_type": "stream",
     "text": [
      "I0110 22:29:50.727121 139750346217216 tf_logging.py:115] Scale of 0 disables regularizer.\n"
     ]
    },
    {
     "name": "stdout",
     "output_type": "stream",
     "text": [
      "INFO:tensorflow:Scale of 0 disables regularizer.\n"
     ]
    },
    {
     "name": "stderr",
     "output_type": "stream",
     "text": [
      "I0110 22:29:53.199951 139750346217216 tf_logging.py:115] Scale of 0 disables regularizer.\n"
     ]
    },
    {
     "name": "stdout",
     "output_type": "stream",
     "text": [
      "INFO:tensorflow:Scale of 0 disables regularizer.\n"
     ]
    },
    {
     "name": "stderr",
     "output_type": "stream",
     "text": [
      "I0110 22:29:55.587323 139750346217216 tf_logging.py:115] Scale of 0 disables regularizer.\n"
     ]
    },
    {
     "name": "stdout",
     "output_type": "stream",
     "text": [
      "INFO:tensorflow:Scale of 0 disables regularizer.\n"
     ]
    },
    {
     "name": "stderr",
     "output_type": "stream",
     "text": [
      "I0110 22:29:58.003430 139750346217216 tf_logging.py:115] Scale of 0 disables regularizer.\n"
     ]
    },
    {
     "name": "stdout",
     "output_type": "stream",
     "text": [
      "INFO:tensorflow:Scale of 0 disables regularizer.\n"
     ]
    },
    {
     "name": "stderr",
     "output_type": "stream",
     "text": [
      "I0110 22:30:00.453603 139750346217216 tf_logging.py:115] Scale of 0 disables regularizer.\n"
     ]
    },
    {
     "name": "stdout",
     "output_type": "stream",
     "text": [
      "INFO:tensorflow:Scale of 0 disables regularizer.\n"
     ]
    },
    {
     "name": "stderr",
     "output_type": "stream",
     "text": [
      "I0110 22:30:02.901379 139750346217216 tf_logging.py:115] Scale of 0 disables regularizer.\n"
     ]
    },
    {
     "name": "stdout",
     "output_type": "stream",
     "text": [
      "INFO:tensorflow:Scale of 0 disables regularizer.\n"
     ]
    },
    {
     "name": "stderr",
     "output_type": "stream",
     "text": [
      "I0110 22:30:05.352653 139750346217216 tf_logging.py:115] Scale of 0 disables regularizer.\n"
     ]
    },
    {
     "name": "stdout",
     "output_type": "stream",
     "text": [
      "INFO:tensorflow:Scale of 0 disables regularizer.\n"
     ]
    },
    {
     "name": "stderr",
     "output_type": "stream",
     "text": [
      "I0110 22:30:07.736912 139750346217216 tf_logging.py:115] Scale of 0 disables regularizer.\n"
     ]
    },
    {
     "name": "stdout",
     "output_type": "stream",
     "text": [
      "INFO:tensorflow:Scale of 0 disables regularizer.\n"
     ]
    },
    {
     "name": "stderr",
     "output_type": "stream",
     "text": [
      "I0110 22:30:10.221413 139750346217216 tf_logging.py:115] Scale of 0 disables regularizer.\n"
     ]
    },
    {
     "name": "stdout",
     "output_type": "stream",
     "text": [
      "INFO:tensorflow:Scale of 0 disables regularizer.\n"
     ]
    },
    {
     "name": "stderr",
     "output_type": "stream",
     "text": [
      "I0110 22:30:12.664613 139750346217216 tf_logging.py:115] Scale of 0 disables regularizer.\n"
     ]
    },
    {
     "name": "stdout",
     "output_type": "stream",
     "text": [
      "INFO:tensorflow:Scale of 0 disables regularizer.\n"
     ]
    },
    {
     "name": "stderr",
     "output_type": "stream",
     "text": [
      "I0110 22:30:15.112551 139750346217216 tf_logging.py:115] Scale of 0 disables regularizer.\n"
     ]
    },
    {
     "name": "stdout",
     "output_type": "stream",
     "text": [
      "INFO:tensorflow:Scale of 0 disables regularizer.\n"
     ]
    },
    {
     "name": "stderr",
     "output_type": "stream",
     "text": [
      "I0110 22:30:17.507901 139750346217216 tf_logging.py:115] Scale of 0 disables regularizer.\n"
     ]
    },
    {
     "name": "stdout",
     "output_type": "stream",
     "text": [
      "INFO:tensorflow:Scale of 0 disables regularizer.\n"
     ]
    },
    {
     "name": "stderr",
     "output_type": "stream",
     "text": [
      "I0110 22:30:19.956188 139750346217216 tf_logging.py:115] Scale of 0 disables regularizer.\n"
     ]
    },
    {
     "name": "stdout",
     "output_type": "stream",
     "text": [
      "INFO:tensorflow:Scale of 0 disables regularizer.\n"
     ]
    },
    {
     "name": "stderr",
     "output_type": "stream",
     "text": [
      "I0110 22:30:22.402111 139750346217216 tf_logging.py:115] Scale of 0 disables regularizer.\n"
     ]
    },
    {
     "name": "stdout",
     "output_type": "stream",
     "text": [
      "INFO:tensorflow:Scale of 0 disables regularizer.\n"
     ]
    },
    {
     "name": "stderr",
     "output_type": "stream",
     "text": [
      "I0110 22:30:24.884457 139750346217216 tf_logging.py:115] Scale of 0 disables regularizer.\n"
     ]
    },
    {
     "name": "stdout",
     "output_type": "stream",
     "text": [
      "INFO:tensorflow:Scale of 0 disables regularizer.\n"
     ]
    },
    {
     "name": "stderr",
     "output_type": "stream",
     "text": [
      "I0110 22:30:27.278719 139750346217216 tf_logging.py:115] Scale of 0 disables regularizer.\n"
     ]
    },
    {
     "name": "stdout",
     "output_type": "stream",
     "text": [
      "INFO:tensorflow:Scale of 0 disables regularizer.\n"
     ]
    },
    {
     "name": "stderr",
     "output_type": "stream",
     "text": [
      "I0110 22:30:29.730340 139750346217216 tf_logging.py:115] Scale of 0 disables regularizer.\n"
     ]
    },
    {
     "name": "stdout",
     "output_type": "stream",
     "text": [
      "INFO:tensorflow:Scale of 0 disables regularizer.\n"
     ]
    },
    {
     "name": "stderr",
     "output_type": "stream",
     "text": [
      "I0110 22:30:32.175432 139750346217216 tf_logging.py:115] Scale of 0 disables regularizer.\n"
     ]
    },
    {
     "name": "stdout",
     "output_type": "stream",
     "text": [
      "INFO:tensorflow:Scale of 0 disables regularizer.\n"
     ]
    },
    {
     "name": "stderr",
     "output_type": "stream",
     "text": [
      "I0110 22:30:34.628852 139750346217216 tf_logging.py:115] Scale of 0 disables regularizer.\n"
     ]
    },
    {
     "name": "stdout",
     "output_type": "stream",
     "text": [
      "INFO:tensorflow:Scale of 0 disables regularizer.\n"
     ]
    },
    {
     "name": "stderr",
     "output_type": "stream",
     "text": [
      "I0110 22:30:37.080523 139750346217216 tf_logging.py:115] Scale of 0 disables regularizer.\n"
     ]
    },
    {
     "name": "stdout",
     "output_type": "stream",
     "text": [
      "INFO:tensorflow:Scale of 0 disables regularizer.\n"
     ]
    },
    {
     "name": "stderr",
     "output_type": "stream",
     "text": [
      "I0110 22:30:39.476038 139750346217216 tf_logging.py:115] Scale of 0 disables regularizer.\n"
     ]
    },
    {
     "name": "stdout",
     "output_type": "stream",
     "text": [
      "INFO:tensorflow:Scale of 0 disables regularizer.\n"
     ]
    },
    {
     "name": "stderr",
     "output_type": "stream",
     "text": [
      "I0110 22:30:41.918427 139750346217216 tf_logging.py:115] Scale of 0 disables regularizer.\n"
     ]
    },
    {
     "name": "stdout",
     "output_type": "stream",
     "text": [
      "INFO:tensorflow:Scale of 0 disables regularizer.\n"
     ]
    },
    {
     "name": "stderr",
     "output_type": "stream",
     "text": [
      "I0110 22:30:44.389118 139750346217216 tf_logging.py:115] Scale of 0 disables regularizer.\n"
     ]
    },
    {
     "name": "stdout",
     "output_type": "stream",
     "text": [
      "INFO:tensorflow:Scale of 0 disables regularizer.\n"
     ]
    },
    {
     "name": "stderr",
     "output_type": "stream",
     "text": [
      "I0110 22:30:46.847603 139750346217216 tf_logging.py:115] Scale of 0 disables regularizer.\n"
     ]
    },
    {
     "name": "stdout",
     "output_type": "stream",
     "text": [
      "INFO:tensorflow:Scale of 0 disables regularizer.\n"
     ]
    },
    {
     "name": "stderr",
     "output_type": "stream",
     "text": [
      "I0110 22:30:49.248244 139750346217216 tf_logging.py:115] Scale of 0 disables regularizer.\n"
     ]
    },
    {
     "name": "stdout",
     "output_type": "stream",
     "text": [
      "INFO:tensorflow:Scale of 0 disables regularizer.\n"
     ]
    },
    {
     "name": "stderr",
     "output_type": "stream",
     "text": [
      "I0110 22:30:51.701421 139750346217216 tf_logging.py:115] Scale of 0 disables regularizer.\n"
     ]
    },
    {
     "name": "stdout",
     "output_type": "stream",
     "text": [
      "INFO:tensorflow:Scale of 0 disables regularizer.\n"
     ]
    },
    {
     "name": "stderr",
     "output_type": "stream",
     "text": [
      "I0110 22:30:54.154818 139750346217216 tf_logging.py:115] Scale of 0 disables regularizer.\n"
     ]
    },
    {
     "name": "stdout",
     "output_type": "stream",
     "text": [
      "INFO:tensorflow:Scale of 0 disables regularizer.\n"
     ]
    },
    {
     "name": "stderr",
     "output_type": "stream",
     "text": [
      "I0110 22:30:56.597091 139750346217216 tf_logging.py:115] Scale of 0 disables regularizer.\n"
     ]
    },
    {
     "name": "stdout",
     "output_type": "stream",
     "text": [
      "INFO:tensorflow:Scale of 0 disables regularizer.\n"
     ]
    },
    {
     "name": "stderr",
     "output_type": "stream",
     "text": [
      "I0110 22:30:59.067246 139750346217216 tf_logging.py:115] Scale of 0 disables regularizer.\n"
     ]
    },
    {
     "name": "stdout",
     "output_type": "stream",
     "text": [
      "INFO:tensorflow:Scale of 0 disables regularizer.\n"
     ]
    },
    {
     "name": "stderr",
     "output_type": "stream",
     "text": [
      "I0110 22:31:01.540241 139750346217216 tf_logging.py:115] Scale of 0 disables regularizer.\n"
     ]
    },
    {
     "name": "stdout",
     "output_type": "stream",
     "text": [
      "INFO:tensorflow:Scale of 0 disables regularizer.\n"
     ]
    },
    {
     "name": "stderr",
     "output_type": "stream",
     "text": [
      "I0110 22:31:03.974030 139750346217216 tf_logging.py:115] Scale of 0 disables regularizer.\n"
     ]
    },
    {
     "name": "stdout",
     "output_type": "stream",
     "text": [
      "INFO:tensorflow:Scale of 0 disables regularizer.\n"
     ]
    },
    {
     "name": "stderr",
     "output_type": "stream",
     "text": [
      "I0110 22:31:06.425787 139750346217216 tf_logging.py:115] Scale of 0 disables regularizer.\n"
     ]
    },
    {
     "name": "stdout",
     "output_type": "stream",
     "text": [
      "INFO:tensorflow:Scale of 0 disables regularizer.\n"
     ]
    },
    {
     "name": "stderr",
     "output_type": "stream",
     "text": [
      "I0110 22:31:08.940184 139750346217216 tf_logging.py:115] Scale of 0 disables regularizer.\n"
     ]
    },
    {
     "name": "stdout",
     "output_type": "stream",
     "text": [
      "INFO:tensorflow:Scale of 0 disables regularizer.\n"
     ]
    },
    {
     "name": "stderr",
     "output_type": "stream",
     "text": [
      "I0110 22:31:11.327466 139750346217216 tf_logging.py:115] Scale of 0 disables regularizer.\n"
     ]
    },
    {
     "name": "stdout",
     "output_type": "stream",
     "text": [
      "INFO:tensorflow:Scale of 0 disables regularizer.\n"
     ]
    },
    {
     "name": "stderr",
     "output_type": "stream",
     "text": [
      "I0110 22:31:13.762843 139750346217216 tf_logging.py:115] Scale of 0 disables regularizer.\n"
     ]
    },
    {
     "name": "stdout",
     "output_type": "stream",
     "text": [
      "INFO:tensorflow:Scale of 0 disables regularizer.\n"
     ]
    },
    {
     "name": "stderr",
     "output_type": "stream",
     "text": [
      "I0110 22:31:16.204926 139750346217216 tf_logging.py:115] Scale of 0 disables regularizer.\n"
     ]
    },
    {
     "name": "stdout",
     "output_type": "stream",
     "text": [
      "INFO:tensorflow:Scale of 0 disables regularizer.\n"
     ]
    },
    {
     "name": "stderr",
     "output_type": "stream",
     "text": [
      "I0110 22:31:18.655309 139750346217216 tf_logging.py:115] Scale of 0 disables regularizer.\n"
     ]
    },
    {
     "name": "stdout",
     "output_type": "stream",
     "text": [
      "INFO:tensorflow:Scale of 0 disables regularizer.\n"
     ]
    },
    {
     "name": "stderr",
     "output_type": "stream",
     "text": [
      "I0110 22:31:21.087910 139750346217216 tf_logging.py:115] Scale of 0 disables regularizer.\n"
     ]
    },
    {
     "name": "stdout",
     "output_type": "stream",
     "text": [
      "INFO:tensorflow:Scale of 0 disables regularizer.\n"
     ]
    },
    {
     "name": "stderr",
     "output_type": "stream",
     "text": [
      "I0110 22:31:23.525293 139750346217216 tf_logging.py:115] Scale of 0 disables regularizer.\n"
     ]
    },
    {
     "name": "stdout",
     "output_type": "stream",
     "text": [
      "INFO:tensorflow:Scale of 0 disables regularizer.\n"
     ]
    },
    {
     "name": "stderr",
     "output_type": "stream",
     "text": [
      "I0110 22:31:25.980414 139750346217216 tf_logging.py:115] Scale of 0 disables regularizer.\n"
     ]
    },
    {
     "name": "stdout",
     "output_type": "stream",
     "text": [
      "INFO:tensorflow:Scale of 0 disables regularizer.\n"
     ]
    },
    {
     "name": "stderr",
     "output_type": "stream",
     "text": [
      "I0110 22:31:28.422594 139750346217216 tf_logging.py:115] Scale of 0 disables regularizer.\n"
     ]
    },
    {
     "name": "stdout",
     "output_type": "stream",
     "text": [
      "INFO:tensorflow:Scale of 0 disables regularizer.\n"
     ]
    },
    {
     "name": "stderr",
     "output_type": "stream",
     "text": [
      "I0110 22:31:30.884726 139750346217216 tf_logging.py:115] Scale of 0 disables regularizer.\n"
     ]
    },
    {
     "name": "stdout",
     "output_type": "stream",
     "text": [
      "INFO:tensorflow:Scale of 0 disables regularizer.\n"
     ]
    },
    {
     "name": "stderr",
     "output_type": "stream",
     "text": [
      "I0110 22:31:33.273500 139750346217216 tf_logging.py:115] Scale of 0 disables regularizer.\n"
     ]
    },
    {
     "name": "stdout",
     "output_type": "stream",
     "text": [
      "INFO:tensorflow:Scale of 0 disables regularizer.\n"
     ]
    },
    {
     "name": "stderr",
     "output_type": "stream",
     "text": [
      "I0110 22:31:35.727848 139750346217216 tf_logging.py:115] Scale of 0 disables regularizer.\n"
     ]
    },
    {
     "name": "stdout",
     "output_type": "stream",
     "text": [
      "INFO:tensorflow:Scale of 0 disables regularizer.\n"
     ]
    },
    {
     "name": "stderr",
     "output_type": "stream",
     "text": [
      "I0110 22:31:38.180761 139750346217216 tf_logging.py:115] Scale of 0 disables regularizer.\n"
     ]
    },
    {
     "name": "stdout",
     "output_type": "stream",
     "text": [
      "INFO:tensorflow:Scale of 0 disables regularizer.\n"
     ]
    },
    {
     "name": "stderr",
     "output_type": "stream",
     "text": [
      "I0110 22:31:40.636217 139750346217216 tf_logging.py:115] Scale of 0 disables regularizer.\n"
     ]
    },
    {
     "name": "stdout",
     "output_type": "stream",
     "text": [
      "INFO:tensorflow:Scale of 0 disables regularizer.\n"
     ]
    },
    {
     "name": "stderr",
     "output_type": "stream",
     "text": [
      "I0110 22:31:43.024999 139750346217216 tf_logging.py:115] Scale of 0 disables regularizer.\n"
     ]
    },
    {
     "name": "stdout",
     "output_type": "stream",
     "text": [
      "INFO:tensorflow:Scale of 0 disables regularizer.\n"
     ]
    },
    {
     "name": "stderr",
     "output_type": "stream",
     "text": [
      "I0110 22:31:45.464112 139750346217216 tf_logging.py:115] Scale of 0 disables regularizer.\n"
     ]
    },
    {
     "name": "stdout",
     "output_type": "stream",
     "text": [
      "INFO:tensorflow:Scale of 0 disables regularizer.\n"
     ]
    },
    {
     "name": "stderr",
     "output_type": "stream",
     "text": [
      "I0110 22:31:47.909896 139750346217216 tf_logging.py:115] Scale of 0 disables regularizer.\n"
     ]
    },
    {
     "name": "stdout",
     "output_type": "stream",
     "text": [
      "INFO:tensorflow:Scale of 0 disables regularizer.\n"
     ]
    },
    {
     "name": "stderr",
     "output_type": "stream",
     "text": [
      "I0110 22:31:50.353949 139750346217216 tf_logging.py:115] Scale of 0 disables regularizer.\n"
     ]
    },
    {
     "name": "stdout",
     "output_type": "stream",
     "text": [
      "INFO:tensorflow:Scale of 0 disables regularizer.\n"
     ]
    },
    {
     "name": "stderr",
     "output_type": "stream",
     "text": [
      "I0110 22:31:52.807511 139750346217216 tf_logging.py:115] Scale of 0 disables regularizer.\n"
     ]
    },
    {
     "name": "stdout",
     "output_type": "stream",
     "text": [
      "INFO:tensorflow:Scale of 0 disables regularizer.\n"
     ]
    },
    {
     "name": "stderr",
     "output_type": "stream",
     "text": [
      "I0110 22:31:55.206828 139750346217216 tf_logging.py:115] Scale of 0 disables regularizer.\n"
     ]
    },
    {
     "name": "stdout",
     "output_type": "stream",
     "text": [
      "INFO:tensorflow:Scale of 0 disables regularizer.\n"
     ]
    },
    {
     "name": "stderr",
     "output_type": "stream",
     "text": [
      "I0110 22:31:57.665883 139750346217216 tf_logging.py:115] Scale of 0 disables regularizer.\n"
     ]
    },
    {
     "name": "stdout",
     "output_type": "stream",
     "text": [
      "INFO:tensorflow:Scale of 0 disables regularizer.\n"
     ]
    },
    {
     "name": "stderr",
     "output_type": "stream",
     "text": [
      "I0110 22:32:00.120433 139750346217216 tf_logging.py:115] Scale of 0 disables regularizer.\n"
     ]
    },
    {
     "name": "stdout",
     "output_type": "stream",
     "text": [
      "INFO:tensorflow:Scale of 0 disables regularizer.\n"
     ]
    },
    {
     "name": "stderr",
     "output_type": "stream",
     "text": [
      "I0110 22:32:02.585935 139750346217216 tf_logging.py:115] Scale of 0 disables regularizer.\n"
     ]
    },
    {
     "name": "stdout",
     "output_type": "stream",
     "text": [
      "INFO:tensorflow:Scale of 0 disables regularizer.\n"
     ]
    },
    {
     "name": "stderr",
     "output_type": "stream",
     "text": [
      "I0110 22:32:04.987882 139750346217216 tf_logging.py:115] Scale of 0 disables regularizer.\n"
     ]
    },
    {
     "name": "stdout",
     "output_type": "stream",
     "text": [
      "INFO:tensorflow:Scale of 0 disables regularizer.\n"
     ]
    },
    {
     "name": "stderr",
     "output_type": "stream",
     "text": [
      "I0110 22:32:07.426956 139750346217216 tf_logging.py:115] Scale of 0 disables regularizer.\n"
     ]
    },
    {
     "name": "stdout",
     "output_type": "stream",
     "text": [
      "INFO:tensorflow:Scale of 0 disables regularizer.\n"
     ]
    },
    {
     "name": "stderr",
     "output_type": "stream",
     "text": [
      "I0110 22:32:09.867404 139750346217216 tf_logging.py:115] Scale of 0 disables regularizer.\n"
     ]
    },
    {
     "name": "stdout",
     "output_type": "stream",
     "text": [
      "INFO:tensorflow:Scale of 0 disables regularizer.\n"
     ]
    },
    {
     "name": "stderr",
     "output_type": "stream",
     "text": [
      "I0110 22:32:12.330164 139750346217216 tf_logging.py:115] Scale of 0 disables regularizer.\n"
     ]
    },
    {
     "name": "stdout",
     "output_type": "stream",
     "text": [
      "INFO:tensorflow:Scale of 0 disables regularizer.\n"
     ]
    },
    {
     "name": "stderr",
     "output_type": "stream",
     "text": [
      "I0110 22:32:14.718822 139750346217216 tf_logging.py:115] Scale of 0 disables regularizer.\n"
     ]
    },
    {
     "name": "stdout",
     "output_type": "stream",
     "text": [
      "INFO:tensorflow:Scale of 0 disables regularizer.\n"
     ]
    },
    {
     "name": "stderr",
     "output_type": "stream",
     "text": [
      "I0110 22:32:17.168076 139750346217216 tf_logging.py:115] Scale of 0 disables regularizer.\n"
     ]
    },
    {
     "name": "stdout",
     "output_type": "stream",
     "text": [
      "INFO:tensorflow:Scale of 0 disables regularizer.\n"
     ]
    },
    {
     "name": "stderr",
     "output_type": "stream",
     "text": [
      "I0110 22:32:19.615435 139750346217216 tf_logging.py:115] Scale of 0 disables regularizer.\n"
     ]
    },
    {
     "name": "stdout",
     "output_type": "stream",
     "text": [
      "INFO:tensorflow:Scale of 0 disables regularizer.\n"
     ]
    },
    {
     "name": "stderr",
     "output_type": "stream",
     "text": [
      "I0110 22:32:22.060944 139750346217216 tf_logging.py:115] Scale of 0 disables regularizer.\n"
     ]
    },
    {
     "name": "stdout",
     "output_type": "stream",
     "text": [
      "INFO:tensorflow:Scale of 0 disables regularizer.\n"
     ]
    },
    {
     "name": "stderr",
     "output_type": "stream",
     "text": [
      "I0110 22:32:24.508569 139750346217216 tf_logging.py:115] Scale of 0 disables regularizer.\n"
     ]
    },
    {
     "name": "stdout",
     "output_type": "stream",
     "text": [
      "INFO:tensorflow:Scale of 0 disables regularizer.\n"
     ]
    },
    {
     "name": "stderr",
     "output_type": "stream",
     "text": [
      "I0110 22:32:26.901282 139750346217216 tf_logging.py:115] Scale of 0 disables regularizer.\n"
     ]
    },
    {
     "name": "stdout",
     "output_type": "stream",
     "text": [
      "INFO:tensorflow:Scale of 0 disables regularizer.\n"
     ]
    },
    {
     "name": "stderr",
     "output_type": "stream",
     "text": [
      "I0110 22:32:29.349667 139750346217216 tf_logging.py:115] Scale of 0 disables regularizer.\n"
     ]
    },
    {
     "name": "stdout",
     "output_type": "stream",
     "text": [
      "INFO:tensorflow:Scale of 0 disables regularizer.\n"
     ]
    },
    {
     "name": "stderr",
     "output_type": "stream",
     "text": [
      "I0110 22:32:31.803648 139750346217216 tf_logging.py:115] Scale of 0 disables regularizer.\n"
     ]
    },
    {
     "name": "stdout",
     "output_type": "stream",
     "text": [
      "INFO:tensorflow:Scale of 0 disables regularizer.\n"
     ]
    },
    {
     "name": "stderr",
     "output_type": "stream",
     "text": [
      "I0110 22:32:34.254435 139750346217216 tf_logging.py:115] Scale of 0 disables regularizer.\n"
     ]
    },
    {
     "name": "stdout",
     "output_type": "stream",
     "text": [
      "INFO:tensorflow:Scale of 0 disables regularizer.\n"
     ]
    },
    {
     "name": "stderr",
     "output_type": "stream",
     "text": [
      "I0110 22:32:36.669909 139750346217216 tf_logging.py:115] Scale of 0 disables regularizer.\n"
     ]
    },
    {
     "name": "stdout",
     "output_type": "stream",
     "text": [
      "INFO:tensorflow:Scale of 0 disables regularizer.\n"
     ]
    },
    {
     "name": "stderr",
     "output_type": "stream",
     "text": [
      "I0110 22:32:39.117391 139750346217216 tf_logging.py:115] Scale of 0 disables regularizer.\n"
     ]
    },
    {
     "name": "stdout",
     "output_type": "stream",
     "text": [
      "INFO:tensorflow:Scale of 0 disables regularizer.\n"
     ]
    },
    {
     "name": "stderr",
     "output_type": "stream",
     "text": [
      "I0110 22:32:41.582064 139750346217216 tf_logging.py:115] Scale of 0 disables regularizer.\n"
     ]
    },
    {
     "name": "stdout",
     "output_type": "stream",
     "text": [
      "INFO:tensorflow:Scale of 0 disables regularizer.\n"
     ]
    },
    {
     "name": "stderr",
     "output_type": "stream",
     "text": [
      "I0110 22:32:44.047488 139750346217216 tf_logging.py:115] Scale of 0 disables regularizer.\n"
     ]
    },
    {
     "name": "stdout",
     "output_type": "stream",
     "text": [
      "INFO:tensorflow:Scale of 0 disables regularizer.\n"
     ]
    },
    {
     "name": "stderr",
     "output_type": "stream",
     "text": [
      "I0110 22:32:46.515452 139750346217216 tf_logging.py:115] Scale of 0 disables regularizer.\n"
     ]
    },
    {
     "name": "stdout",
     "output_type": "stream",
     "text": [
      "INFO:tensorflow:Scale of 0 disables regularizer.\n"
     ]
    },
    {
     "name": "stderr",
     "output_type": "stream",
     "text": [
      "I0110 22:32:48.911536 139750346217216 tf_logging.py:115] Scale of 0 disables regularizer.\n"
     ]
    },
    {
     "name": "stdout",
     "output_type": "stream",
     "text": [
      "INFO:tensorflow:Scale of 0 disables regularizer.\n"
     ]
    },
    {
     "name": "stderr",
     "output_type": "stream",
     "text": [
      "I0110 22:32:51.351581 139750346217216 tf_logging.py:115] Scale of 0 disables regularizer.\n"
     ]
    },
    {
     "name": "stdout",
     "output_type": "stream",
     "text": [
      "INFO:tensorflow:Scale of 0 disables regularizer.\n"
     ]
    },
    {
     "name": "stderr",
     "output_type": "stream",
     "text": [
      "I0110 22:32:53.789663 139750346217216 tf_logging.py:115] Scale of 0 disables regularizer.\n"
     ]
    },
    {
     "name": "stdout",
     "output_type": "stream",
     "text": [
      "INFO:tensorflow:Scale of 0 disables regularizer.\n"
     ]
    },
    {
     "name": "stderr",
     "output_type": "stream",
     "text": [
      "I0110 22:32:56.236848 139750346217216 tf_logging.py:115] Scale of 0 disables regularizer.\n"
     ]
    },
    {
     "name": "stdout",
     "output_type": "stream",
     "text": [
      "INFO:tensorflow:Scale of 0 disables regularizer.\n"
     ]
    },
    {
     "name": "stderr",
     "output_type": "stream",
     "text": [
      "I0110 22:32:58.648592 139750346217216 tf_logging.py:115] Scale of 0 disables regularizer.\n"
     ]
    },
    {
     "name": "stdout",
     "output_type": "stream",
     "text": [
      "INFO:tensorflow:Scale of 0 disables regularizer.\n"
     ]
    },
    {
     "name": "stderr",
     "output_type": "stream",
     "text": [
      "I0110 22:33:01.098490 139750346217216 tf_logging.py:115] Scale of 0 disables regularizer.\n"
     ]
    },
    {
     "name": "stdout",
     "output_type": "stream",
     "text": [
      "INFO:tensorflow:Scale of 0 disables regularizer.\n"
     ]
    },
    {
     "name": "stderr",
     "output_type": "stream",
     "text": [
      "I0110 22:33:03.555353 139750346217216 tf_logging.py:115] Scale of 0 disables regularizer.\n"
     ]
    },
    {
     "name": "stdout",
     "output_type": "stream",
     "text": [
      "INFO:tensorflow:Scale of 0 disables regularizer.\n"
     ]
    },
    {
     "name": "stderr",
     "output_type": "stream",
     "text": [
      "I0110 22:33:06.005895 139750346217216 tf_logging.py:115] Scale of 0 disables regularizer.\n"
     ]
    },
    {
     "name": "stdout",
     "output_type": "stream",
     "text": [
      "INFO:tensorflow:Scale of 0 disables regularizer.\n"
     ]
    },
    {
     "name": "stderr",
     "output_type": "stream",
     "text": [
      "I0110 22:33:08.401334 139750346217216 tf_logging.py:115] Scale of 0 disables regularizer.\n"
     ]
    },
    {
     "name": "stdout",
     "output_type": "stream",
     "text": [
      "INFO:tensorflow:Scale of 0 disables regularizer.\n"
     ]
    },
    {
     "name": "stderr",
     "output_type": "stream",
     "text": [
      "I0110 22:33:10.836401 139750346217216 tf_logging.py:115] Scale of 0 disables regularizer.\n"
     ]
    },
    {
     "name": "stdout",
     "output_type": "stream",
     "text": [
      "INFO:tensorflow:Scale of 0 disables regularizer.\n"
     ]
    },
    {
     "name": "stderr",
     "output_type": "stream",
     "text": [
      "I0110 22:33:13.285418 139750346217216 tf_logging.py:115] Scale of 0 disables regularizer.\n"
     ]
    },
    {
     "name": "stdout",
     "output_type": "stream",
     "text": [
      "INFO:tensorflow:Scale of 0 disables regularizer.\n"
     ]
    },
    {
     "name": "stderr",
     "output_type": "stream",
     "text": [
      "I0110 22:33:15.728678 139750346217216 tf_logging.py:115] Scale of 0 disables regularizer.\n"
     ]
    },
    {
     "name": "stdout",
     "output_type": "stream",
     "text": [
      "INFO:tensorflow:Scale of 0 disables regularizer.\n"
     ]
    },
    {
     "name": "stderr",
     "output_type": "stream",
     "text": [
      "I0110 22:33:18.180936 139750346217216 tf_logging.py:115] Scale of 0 disables regularizer.\n"
     ]
    },
    {
     "name": "stdout",
     "output_type": "stream",
     "text": [
      "INFO:tensorflow:Scale of 0 disables regularizer.\n"
     ]
    },
    {
     "name": "stderr",
     "output_type": "stream",
     "text": [
      "I0110 22:33:20.560326 139750346217216 tf_logging.py:115] Scale of 0 disables regularizer.\n"
     ]
    },
    {
     "name": "stdout",
     "output_type": "stream",
     "text": [
      "INFO:tensorflow:Scale of 0 disables regularizer.\n"
     ]
    },
    {
     "name": "stderr",
     "output_type": "stream",
     "text": [
      "I0110 22:33:23.001322 139750346217216 tf_logging.py:115] Scale of 0 disables regularizer.\n"
     ]
    },
    {
     "name": "stdout",
     "output_type": "stream",
     "text": [
      "INFO:tensorflow:Scale of 0 disables regularizer.\n"
     ]
    },
    {
     "name": "stderr",
     "output_type": "stream",
     "text": [
      "I0110 22:33:25.451646 139750346217216 tf_logging.py:115] Scale of 0 disables regularizer.\n"
     ]
    },
    {
     "name": "stdout",
     "output_type": "stream",
     "text": [
      "INFO:tensorflow:Scale of 0 disables regularizer.\n"
     ]
    },
    {
     "name": "stderr",
     "output_type": "stream",
     "text": [
      "I0110 22:33:27.903791 139750346217216 tf_logging.py:115] Scale of 0 disables regularizer.\n"
     ]
    },
    {
     "name": "stdout",
     "output_type": "stream",
     "text": [
      "INFO:tensorflow:Scale of 0 disables regularizer.\n"
     ]
    },
    {
     "name": "stderr",
     "output_type": "stream",
     "text": [
      "I0110 22:33:30.327214 139750346217216 tf_logging.py:115] Scale of 0 disables regularizer.\n"
     ]
    },
    {
     "name": "stdout",
     "output_type": "stream",
     "text": [
      "INFO:tensorflow:Scale of 0 disables regularizer.\n"
     ]
    },
    {
     "name": "stderr",
     "output_type": "stream",
     "text": [
      "I0110 22:33:32.770869 139750346217216 tf_logging.py:115] Scale of 0 disables regularizer.\n"
     ]
    },
    {
     "name": "stdout",
     "output_type": "stream",
     "text": [
      "INFO:tensorflow:Scale of 0 disables regularizer.\n"
     ]
    },
    {
     "name": "stderr",
     "output_type": "stream",
     "text": [
      "I0110 22:33:35.225989 139750346217216 tf_logging.py:115] Scale of 0 disables regularizer.\n"
     ]
    },
    {
     "name": "stdout",
     "output_type": "stream",
     "text": [
      "INFO:tensorflow:Scale of 0 disables regularizer.\n"
     ]
    },
    {
     "name": "stderr",
     "output_type": "stream",
     "text": [
      "I0110 22:33:37.677734 139750346217216 tf_logging.py:115] Scale of 0 disables regularizer.\n"
     ]
    },
    {
     "name": "stdout",
     "output_type": "stream",
     "text": [
      "INFO:tensorflow:Scale of 0 disables regularizer.\n"
     ]
    },
    {
     "name": "stderr",
     "output_type": "stream",
     "text": [
      "I0110 22:33:40.173665 139750346217216 tf_logging.py:115] Scale of 0 disables regularizer.\n"
     ]
    },
    {
     "name": "stdout",
     "output_type": "stream",
     "text": [
      "INFO:tensorflow:Scale of 0 disables regularizer.\n"
     ]
    },
    {
     "name": "stderr",
     "output_type": "stream",
     "text": [
      "I0110 22:33:42.561689 139750346217216 tf_logging.py:115] Scale of 0 disables regularizer.\n"
     ]
    },
    {
     "name": "stdout",
     "output_type": "stream",
     "text": [
      "INFO:tensorflow:Scale of 0 disables regularizer.\n"
     ]
    },
    {
     "name": "stderr",
     "output_type": "stream",
     "text": [
      "I0110 22:33:45.005100 139750346217216 tf_logging.py:115] Scale of 0 disables regularizer.\n"
     ]
    },
    {
     "name": "stdout",
     "output_type": "stream",
     "text": [
      "INFO:tensorflow:Scale of 0 disables regularizer.\n"
     ]
    },
    {
     "name": "stderr",
     "output_type": "stream",
     "text": [
      "I0110 22:33:47.443088 139750346217216 tf_logging.py:115] Scale of 0 disables regularizer.\n"
     ]
    },
    {
     "name": "stdout",
     "output_type": "stream",
     "text": [
      "INFO:tensorflow:Scale of 0 disables regularizer.\n"
     ]
    },
    {
     "name": "stderr",
     "output_type": "stream",
     "text": [
      "I0110 22:33:49.891558 139750346217216 tf_logging.py:115] Scale of 0 disables regularizer.\n"
     ]
    },
    {
     "name": "stdout",
     "output_type": "stream",
     "text": [
      "INFO:tensorflow:Scale of 0 disables regularizer.\n"
     ]
    },
    {
     "name": "stderr",
     "output_type": "stream",
     "text": [
      "I0110 22:33:52.283108 139750346217216 tf_logging.py:115] Scale of 0 disables regularizer.\n"
     ]
    },
    {
     "name": "stdout",
     "output_type": "stream",
     "text": [
      "INFO:tensorflow:Scale of 0 disables regularizer.\n"
     ]
    },
    {
     "name": "stderr",
     "output_type": "stream",
     "text": [
      "I0110 22:33:54.753362 139750346217216 tf_logging.py:115] Scale of 0 disables regularizer.\n"
     ]
    },
    {
     "name": "stdout",
     "output_type": "stream",
     "text": [
      "INFO:tensorflow:Scale of 0 disables regularizer.\n"
     ]
    },
    {
     "name": "stderr",
     "output_type": "stream",
     "text": [
      "I0110 22:33:57.192859 139750346217216 tf_logging.py:115] Scale of 0 disables regularizer.\n"
     ]
    },
    {
     "name": "stdout",
     "output_type": "stream",
     "text": [
      "INFO:tensorflow:Scale of 0 disables regularizer.\n"
     ]
    },
    {
     "name": "stderr",
     "output_type": "stream",
     "text": [
      "I0110 22:33:59.677655 139750346217216 tf_logging.py:115] Scale of 0 disables regularizer.\n"
     ]
    },
    {
     "name": "stdout",
     "output_type": "stream",
     "text": [
      "INFO:tensorflow:Scale of 0 disables regularizer.\n"
     ]
    },
    {
     "name": "stderr",
     "output_type": "stream",
     "text": [
      "I0110 22:34:02.063402 139750346217216 tf_logging.py:115] Scale of 0 disables regularizer.\n"
     ]
    },
    {
     "name": "stdout",
     "output_type": "stream",
     "text": [
      "INFO:tensorflow:Scale of 0 disables regularizer.\n"
     ]
    },
    {
     "name": "stderr",
     "output_type": "stream",
     "text": [
      "I0110 22:34:04.501263 139750346217216 tf_logging.py:115] Scale of 0 disables regularizer.\n"
     ]
    },
    {
     "name": "stdout",
     "output_type": "stream",
     "text": [
      "INFO:tensorflow:Scale of 0 disables regularizer.\n"
     ]
    },
    {
     "name": "stderr",
     "output_type": "stream",
     "text": [
      "I0110 22:34:06.946198 139750346217216 tf_logging.py:115] Scale of 0 disables regularizer.\n"
     ]
    },
    {
     "name": "stdout",
     "output_type": "stream",
     "text": [
      "INFO:tensorflow:Scale of 0 disables regularizer.\n"
     ]
    },
    {
     "name": "stderr",
     "output_type": "stream",
     "text": [
      "I0110 22:34:09.394806 139750346217216 tf_logging.py:115] Scale of 0 disables regularizer.\n"
     ]
    },
    {
     "name": "stdout",
     "output_type": "stream",
     "text": [
      "INFO:tensorflow:Scale of 0 disables regularizer.\n"
     ]
    },
    {
     "name": "stderr",
     "output_type": "stream",
     "text": [
      "I0110 22:34:11.851378 139750346217216 tf_logging.py:115] Scale of 0 disables regularizer.\n"
     ]
    },
    {
     "name": "stdout",
     "output_type": "stream",
     "text": [
      "INFO:tensorflow:Scale of 0 disables regularizer.\n"
     ]
    },
    {
     "name": "stderr",
     "output_type": "stream",
     "text": [
      "I0110 22:34:14.242631 139750346217216 tf_logging.py:115] Scale of 0 disables regularizer.\n"
     ]
    },
    {
     "name": "stdout",
     "output_type": "stream",
     "text": [
      "INFO:tensorflow:Scale of 0 disables regularizer.\n"
     ]
    },
    {
     "name": "stderr",
     "output_type": "stream",
     "text": [
      "I0110 22:34:16.685545 139750346217216 tf_logging.py:115] Scale of 0 disables regularizer.\n"
     ]
    },
    {
     "name": "stdout",
     "output_type": "stream",
     "text": [
      "INFO:tensorflow:Scale of 0 disables regularizer.\n"
     ]
    },
    {
     "name": "stderr",
     "output_type": "stream",
     "text": [
      "I0110 22:34:19.144543 139750346217216 tf_logging.py:115] Scale of 0 disables regularizer.\n"
     ]
    },
    {
     "name": "stdout",
     "output_type": "stream",
     "text": [
      "INFO:tensorflow:Scale of 0 disables regularizer.\n"
     ]
    },
    {
     "name": "stderr",
     "output_type": "stream",
     "text": [
      "I0110 22:34:21.595099 139750346217216 tf_logging.py:115] Scale of 0 disables regularizer.\n"
     ]
    },
    {
     "name": "stdout",
     "output_type": "stream",
     "text": [
      "INFO:tensorflow:Scale of 0 disables regularizer.\n"
     ]
    },
    {
     "name": "stderr",
     "output_type": "stream",
     "text": [
      "I0110 22:34:23.975165 139750346217216 tf_logging.py:115] Scale of 0 disables regularizer.\n"
     ]
    },
    {
     "name": "stdout",
     "output_type": "stream",
     "text": [
      "INFO:tensorflow:Scale of 0 disables regularizer.\n"
     ]
    },
    {
     "name": "stderr",
     "output_type": "stream",
     "text": [
      "I0110 22:34:26.460302 139750346217216 tf_logging.py:115] Scale of 0 disables regularizer.\n"
     ]
    },
    {
     "name": "stdout",
     "output_type": "stream",
     "text": [
      "INFO:tensorflow:Scale of 0 disables regularizer.\n"
     ]
    },
    {
     "name": "stderr",
     "output_type": "stream",
     "text": [
      "I0110 22:34:28.916493 139750346217216 tf_logging.py:115] Scale of 0 disables regularizer.\n"
     ]
    },
    {
     "name": "stdout",
     "output_type": "stream",
     "text": [
      "INFO:tensorflow:Scale of 0 disables regularizer.\n"
     ]
    },
    {
     "name": "stderr",
     "output_type": "stream",
     "text": [
      "I0110 22:34:31.455755 139750346217216 tf_logging.py:115] Scale of 0 disables regularizer.\n"
     ]
    },
    {
     "name": "stdout",
     "output_type": "stream",
     "text": [
      "INFO:tensorflow:Scale of 0 disables regularizer.\n"
     ]
    },
    {
     "name": "stderr",
     "output_type": "stream",
     "text": [
      "I0110 22:34:33.910423 139750346217216 tf_logging.py:115] Scale of 0 disables regularizer.\n"
     ]
    },
    {
     "name": "stdout",
     "output_type": "stream",
     "text": [
      "INFO:tensorflow:Scale of 0 disables regularizer.\n"
     ]
    },
    {
     "name": "stderr",
     "output_type": "stream",
     "text": [
      "I0110 22:34:36.298152 139750346217216 tf_logging.py:115] Scale of 0 disables regularizer.\n"
     ]
    },
    {
     "name": "stdout",
     "output_type": "stream",
     "text": [
      "INFO:tensorflow:Scale of 0 disables regularizer.\n"
     ]
    },
    {
     "name": "stderr",
     "output_type": "stream",
     "text": [
      "I0110 22:34:38.740350 139750346217216 tf_logging.py:115] Scale of 0 disables regularizer.\n"
     ]
    },
    {
     "name": "stdout",
     "output_type": "stream",
     "text": [
      "INFO:tensorflow:Scale of 0 disables regularizer.\n"
     ]
    },
    {
     "name": "stderr",
     "output_type": "stream",
     "text": [
      "I0110 22:34:41.194816 139750346217216 tf_logging.py:115] Scale of 0 disables regularizer.\n"
     ]
    },
    {
     "name": "stdout",
     "output_type": "stream",
     "text": [
      "INFO:tensorflow:Scale of 0 disables regularizer.\n"
     ]
    },
    {
     "name": "stderr",
     "output_type": "stream",
     "text": [
      "I0110 22:34:43.641083 139750346217216 tf_logging.py:115] Scale of 0 disables regularizer.\n"
     ]
    },
    {
     "name": "stdout",
     "output_type": "stream",
     "text": [
      "INFO:tensorflow:Scale of 0 disables regularizer.\n"
     ]
    },
    {
     "name": "stderr",
     "output_type": "stream",
     "text": [
      "I0110 22:34:46.026628 139750346217216 tf_logging.py:115] Scale of 0 disables regularizer.\n"
     ]
    },
    {
     "name": "stdout",
     "output_type": "stream",
     "text": [
      "INFO:tensorflow:Scale of 0 disables regularizer.\n"
     ]
    },
    {
     "name": "stderr",
     "output_type": "stream",
     "text": [
      "I0110 22:34:48.465821 139750346217216 tf_logging.py:115] Scale of 0 disables regularizer.\n"
     ]
    },
    {
     "name": "stdout",
     "output_type": "stream",
     "text": [
      "INFO:tensorflow:Scale of 0 disables regularizer.\n"
     ]
    },
    {
     "name": "stderr",
     "output_type": "stream",
     "text": [
      "I0110 22:34:50.912904 139750346217216 tf_logging.py:115] Scale of 0 disables regularizer.\n"
     ]
    },
    {
     "name": "stdout",
     "output_type": "stream",
     "text": [
      "INFO:tensorflow:Scale of 0 disables regularizer.\n"
     ]
    },
    {
     "name": "stderr",
     "output_type": "stream",
     "text": [
      "I0110 22:34:53.360496 139750346217216 tf_logging.py:115] Scale of 0 disables regularizer.\n"
     ]
    },
    {
     "name": "stdout",
     "output_type": "stream",
     "text": [
      "INFO:tensorflow:Scale of 0 disables regularizer.\n"
     ]
    },
    {
     "name": "stderr",
     "output_type": "stream",
     "text": [
      "I0110 22:34:55.748641 139750346217216 tf_logging.py:115] Scale of 0 disables regularizer.\n"
     ]
    },
    {
     "name": "stdout",
     "output_type": "stream",
     "text": [
      "INFO:tensorflow:Scale of 0 disables regularizer.\n"
     ]
    },
    {
     "name": "stderr",
     "output_type": "stream",
     "text": [
      "I0110 22:34:58.188734 139750346217216 tf_logging.py:115] Scale of 0 disables regularizer.\n"
     ]
    },
    {
     "name": "stdout",
     "output_type": "stream",
     "text": [
      "INFO:tensorflow:Scale of 0 disables regularizer.\n"
     ]
    },
    {
     "name": "stderr",
     "output_type": "stream",
     "text": [
      "I0110 22:35:00.635558 139750346217216 tf_logging.py:115] Scale of 0 disables regularizer.\n"
     ]
    },
    {
     "name": "stdout",
     "output_type": "stream",
     "text": [
      "INFO:tensorflow:Scale of 0 disables regularizer.\n"
     ]
    },
    {
     "name": "stderr",
     "output_type": "stream",
     "text": [
      "I0110 22:35:03.111885 139750346217216 tf_logging.py:115] Scale of 0 disables regularizer.\n"
     ]
    },
    {
     "name": "stdout",
     "output_type": "stream",
     "text": [
      "INFO:tensorflow:Scale of 0 disables regularizer.\n"
     ]
    },
    {
     "name": "stderr",
     "output_type": "stream",
     "text": [
      "I0110 22:35:05.563317 139750346217216 tf_logging.py:115] Scale of 0 disables regularizer.\n"
     ]
    },
    {
     "name": "stdout",
     "output_type": "stream",
     "text": [
      "INFO:tensorflow:Scale of 0 disables regularizer.\n"
     ]
    },
    {
     "name": "stderr",
     "output_type": "stream",
     "text": [
      "I0110 22:35:07.987414 139750346217216 tf_logging.py:115] Scale of 0 disables regularizer.\n"
     ]
    },
    {
     "name": "stdout",
     "output_type": "stream",
     "text": [
      "INFO:tensorflow:Scale of 0 disables regularizer.\n"
     ]
    },
    {
     "name": "stderr",
     "output_type": "stream",
     "text": [
      "I0110 22:35:10.419283 139750346217216 tf_logging.py:115] Scale of 0 disables regularizer.\n"
     ]
    },
    {
     "name": "stdout",
     "output_type": "stream",
     "text": [
      "INFO:tensorflow:Scale of 0 disables regularizer.\n"
     ]
    },
    {
     "name": "stderr",
     "output_type": "stream",
     "text": [
      "I0110 22:35:12.868682 139750346217216 tf_logging.py:115] Scale of 0 disables regularizer.\n"
     ]
    },
    {
     "name": "stdout",
     "output_type": "stream",
     "text": [
      "INFO:tensorflow:Scale of 0 disables regularizer.\n"
     ]
    },
    {
     "name": "stderr",
     "output_type": "stream",
     "text": [
      "I0110 22:35:15.313498 139750346217216 tf_logging.py:115] Scale of 0 disables regularizer.\n"
     ]
    },
    {
     "name": "stdout",
     "output_type": "stream",
     "text": [
      "INFO:tensorflow:Scale of 0 disables regularizer.\n"
     ]
    },
    {
     "name": "stderr",
     "output_type": "stream",
     "text": [
      "I0110 22:35:17.699344 139750346217216 tf_logging.py:115] Scale of 0 disables regularizer.\n"
     ]
    },
    {
     "name": "stdout",
     "output_type": "stream",
     "text": [
      "INFO:tensorflow:Scale of 0 disables regularizer.\n"
     ]
    },
    {
     "name": "stderr",
     "output_type": "stream",
     "text": [
      "I0110 22:35:20.112944 139750346217216 tf_logging.py:115] Scale of 0 disables regularizer.\n"
     ]
    },
    {
     "name": "stdout",
     "output_type": "stream",
     "text": [
      "INFO:tensorflow:Scale of 0 disables regularizer.\n"
     ]
    },
    {
     "name": "stderr",
     "output_type": "stream",
     "text": [
      "I0110 22:35:22.536281 139750346217216 tf_logging.py:115] Scale of 0 disables regularizer.\n"
     ]
    },
    {
     "name": "stdout",
     "output_type": "stream",
     "text": [
      "INFO:tensorflow:Scale of 0 disables regularizer.\n"
     ]
    },
    {
     "name": "stderr",
     "output_type": "stream",
     "text": [
      "I0110 22:35:24.985991 139750346217216 tf_logging.py:115] Scale of 0 disables regularizer.\n"
     ]
    },
    {
     "name": "stdout",
     "output_type": "stream",
     "text": [
      "INFO:tensorflow:Scale of 0 disables regularizer.\n"
     ]
    },
    {
     "name": "stderr",
     "output_type": "stream",
     "text": [
      "I0110 22:35:27.442302 139750346217216 tf_logging.py:115] Scale of 0 disables regularizer.\n"
     ]
    },
    {
     "name": "stdout",
     "output_type": "stream",
     "text": [
      "INFO:tensorflow:Scale of 0 disables regularizer.\n"
     ]
    },
    {
     "name": "stderr",
     "output_type": "stream",
     "text": [
      "I0110 22:35:29.832760 139750346217216 tf_logging.py:115] Scale of 0 disables regularizer.\n"
     ]
    },
    {
     "name": "stdout",
     "output_type": "stream",
     "text": [
      "INFO:tensorflow:Scale of 0 disables regularizer.\n"
     ]
    },
    {
     "name": "stderr",
     "output_type": "stream",
     "text": [
      "I0110 22:35:32.300287 139750346217216 tf_logging.py:115] Scale of 0 disables regularizer.\n"
     ]
    },
    {
     "name": "stdout",
     "output_type": "stream",
     "text": [
      "INFO:tensorflow:Scale of 0 disables regularizer.\n"
     ]
    },
    {
     "name": "stderr",
     "output_type": "stream",
     "text": [
      "I0110 22:35:34.743228 139750346217216 tf_logging.py:115] Scale of 0 disables regularizer.\n"
     ]
    },
    {
     "name": "stdout",
     "output_type": "stream",
     "text": [
      "INFO:tensorflow:Scale of 0 disables regularizer.\n"
     ]
    },
    {
     "name": "stderr",
     "output_type": "stream",
     "text": [
      "I0110 22:35:37.204499 139750346217216 tf_logging.py:115] Scale of 0 disables regularizer.\n"
     ]
    },
    {
     "name": "stdout",
     "output_type": "stream",
     "text": [
      "INFO:tensorflow:Scale of 0 disables regularizer.\n"
     ]
    },
    {
     "name": "stderr",
     "output_type": "stream",
     "text": [
      "I0110 22:35:39.593338 139750346217216 tf_logging.py:115] Scale of 0 disables regularizer.\n"
     ]
    },
    {
     "name": "stdout",
     "output_type": "stream",
     "text": [
      "INFO:tensorflow:Scale of 0 disables regularizer.\n"
     ]
    },
    {
     "name": "stderr",
     "output_type": "stream",
     "text": [
      "I0110 22:35:42.044657 139750346217216 tf_logging.py:115] Scale of 0 disables regularizer.\n"
     ]
    },
    {
     "name": "stdout",
     "output_type": "stream",
     "text": [
      "INFO:tensorflow:Scale of 0 disables regularizer.\n"
     ]
    },
    {
     "name": "stderr",
     "output_type": "stream",
     "text": [
      "I0110 22:35:44.487388 139750346217216 tf_logging.py:115] Scale of 0 disables regularizer.\n"
     ]
    },
    {
     "name": "stdout",
     "output_type": "stream",
     "text": [
      "INFO:tensorflow:Scale of 0 disables regularizer.\n"
     ]
    },
    {
     "name": "stderr",
     "output_type": "stream",
     "text": [
      "I0110 22:35:46.950998 139750346217216 tf_logging.py:115] Scale of 0 disables regularizer.\n"
     ]
    },
    {
     "name": "stdout",
     "output_type": "stream",
     "text": [
      "INFO:tensorflow:Scale of 0 disables regularizer.\n"
     ]
    },
    {
     "name": "stderr",
     "output_type": "stream",
     "text": [
      "I0110 22:35:49.353008 139750346217216 tf_logging.py:115] Scale of 0 disables regularizer.\n"
     ]
    },
    {
     "name": "stdout",
     "output_type": "stream",
     "text": [
      "INFO:tensorflow:Scale of 0 disables regularizer.\n"
     ]
    },
    {
     "name": "stderr",
     "output_type": "stream",
     "text": [
      "I0110 22:35:51.814228 139750346217216 tf_logging.py:115] Scale of 0 disables regularizer.\n"
     ]
    },
    {
     "name": "stdout",
     "output_type": "stream",
     "text": [
      "INFO:tensorflow:Scale of 0 disables regularizer.\n"
     ]
    },
    {
     "name": "stderr",
     "output_type": "stream",
     "text": [
      "I0110 22:35:54.262002 139750346217216 tf_logging.py:115] Scale of 0 disables regularizer.\n"
     ]
    },
    {
     "name": "stdout",
     "output_type": "stream",
     "text": [
      "INFO:tensorflow:Scale of 0 disables regularizer.\n"
     ]
    },
    {
     "name": "stderr",
     "output_type": "stream",
     "text": [
      "I0110 22:35:56.721586 139750346217216 tf_logging.py:115] Scale of 0 disables regularizer.\n"
     ]
    },
    {
     "name": "stdout",
     "output_type": "stream",
     "text": [
      "INFO:tensorflow:Scale of 0 disables regularizer.\n"
     ]
    },
    {
     "name": "stderr",
     "output_type": "stream",
     "text": [
      "I0110 22:35:59.170109 139750346217216 tf_logging.py:115] Scale of 0 disables regularizer.\n"
     ]
    },
    {
     "name": "stdout",
     "output_type": "stream",
     "text": [
      "INFO:tensorflow:Scale of 0 disables regularizer.\n"
     ]
    },
    {
     "name": "stderr",
     "output_type": "stream",
     "text": [
      "I0110 22:36:01.538664 139750346217216 tf_logging.py:115] Scale of 0 disables regularizer.\n"
     ]
    },
    {
     "name": "stdout",
     "output_type": "stream",
     "text": [
      "INFO:tensorflow:Scale of 0 disables regularizer.\n"
     ]
    },
    {
     "name": "stderr",
     "output_type": "stream",
     "text": [
      "I0110 22:36:03.993887 139750346217216 tf_logging.py:115] Scale of 0 disables regularizer.\n"
     ]
    },
    {
     "name": "stdout",
     "output_type": "stream",
     "text": [
      "INFO:tensorflow:Scale of 0 disables regularizer.\n"
     ]
    },
    {
     "name": "stderr",
     "output_type": "stream",
     "text": [
      "I0110 22:36:06.451976 139750346217216 tf_logging.py:115] Scale of 0 disables regularizer.\n"
     ]
    },
    {
     "name": "stdout",
     "output_type": "stream",
     "text": [
      "INFO:tensorflow:Scale of 0 disables regularizer.\n"
     ]
    },
    {
     "name": "stderr",
     "output_type": "stream",
     "text": [
      "I0110 22:36:08.919476 139750346217216 tf_logging.py:115] Scale of 0 disables regularizer.\n"
     ]
    },
    {
     "name": "stdout",
     "output_type": "stream",
     "text": [
      "INFO:tensorflow:Scale of 0 disables regularizer.\n"
     ]
    },
    {
     "name": "stderr",
     "output_type": "stream",
     "text": [
      "I0110 22:36:11.309226 139750346217216 tf_logging.py:115] Scale of 0 disables regularizer.\n"
     ]
    },
    {
     "name": "stdout",
     "output_type": "stream",
     "text": [
      "INFO:tensorflow:Scale of 0 disables regularizer.\n"
     ]
    },
    {
     "name": "stderr",
     "output_type": "stream",
     "text": [
      "I0110 22:36:13.750818 139750346217216 tf_logging.py:115] Scale of 0 disables regularizer.\n"
     ]
    },
    {
     "name": "stdout",
     "output_type": "stream",
     "text": [
      "INFO:tensorflow:Scale of 0 disables regularizer.\n"
     ]
    },
    {
     "name": "stderr",
     "output_type": "stream",
     "text": [
      "I0110 22:36:16.197854 139750346217216 tf_logging.py:115] Scale of 0 disables regularizer.\n"
     ]
    },
    {
     "name": "stdout",
     "output_type": "stream",
     "text": [
      "INFO:tensorflow:Scale of 0 disables regularizer.\n"
     ]
    },
    {
     "name": "stderr",
     "output_type": "stream",
     "text": [
      "I0110 22:36:18.648036 139750346217216 tf_logging.py:115] Scale of 0 disables regularizer.\n"
     ]
    },
    {
     "name": "stdout",
     "output_type": "stream",
     "text": [
      "INFO:tensorflow:Scale of 0 disables regularizer.\n"
     ]
    },
    {
     "name": "stderr",
     "output_type": "stream",
     "text": [
      "I0110 22:36:21.131737 139750346217216 tf_logging.py:115] Scale of 0 disables regularizer.\n"
     ]
    },
    {
     "name": "stdout",
     "output_type": "stream",
     "text": [
      "INFO:tensorflow:Scale of 0 disables regularizer.\n"
     ]
    },
    {
     "name": "stderr",
     "output_type": "stream",
     "text": [
      "I0110 22:36:23.518917 139750346217216 tf_logging.py:115] Scale of 0 disables regularizer.\n"
     ]
    },
    {
     "name": "stdout",
     "output_type": "stream",
     "text": [
      "INFO:tensorflow:Scale of 0 disables regularizer.\n"
     ]
    },
    {
     "name": "stderr",
     "output_type": "stream",
     "text": [
      "I0110 22:36:25.930824 139750346217216 tf_logging.py:115] Scale of 0 disables regularizer.\n"
     ]
    },
    {
     "name": "stdout",
     "output_type": "stream",
     "text": [
      "INFO:tensorflow:Scale of 0 disables regularizer.\n"
     ]
    },
    {
     "name": "stderr",
     "output_type": "stream",
     "text": [
      "I0110 22:36:28.403032 139750346217216 tf_logging.py:115] Scale of 0 disables regularizer.\n"
     ]
    },
    {
     "name": "stdout",
     "output_type": "stream",
     "text": [
      "INFO:tensorflow:Scale of 0 disables regularizer.\n"
     ]
    },
    {
     "name": "stderr",
     "output_type": "stream",
     "text": [
      "I0110 22:36:30.853079 139750346217216 tf_logging.py:115] Scale of 0 disables regularizer.\n"
     ]
    },
    {
     "name": "stdout",
     "output_type": "stream",
     "text": [
      "INFO:tensorflow:Scale of 0 disables regularizer.\n"
     ]
    },
    {
     "name": "stderr",
     "output_type": "stream",
     "text": [
      "I0110 22:36:33.246123 139750346217216 tf_logging.py:115] Scale of 0 disables regularizer.\n"
     ]
    },
    {
     "name": "stdout",
     "output_type": "stream",
     "text": [
      "INFO:tensorflow:Scale of 0 disables regularizer.\n"
     ]
    },
    {
     "name": "stderr",
     "output_type": "stream",
     "text": [
      "I0110 22:36:35.687633 139750346217216 tf_logging.py:115] Scale of 0 disables regularizer.\n"
     ]
    },
    {
     "name": "stdout",
     "output_type": "stream",
     "text": [
      "INFO:tensorflow:Scale of 0 disables regularizer.\n"
     ]
    },
    {
     "name": "stderr",
     "output_type": "stream",
     "text": [
      "I0110 22:36:38.141385 139750346217216 tf_logging.py:115] Scale of 0 disables regularizer.\n"
     ]
    },
    {
     "name": "stdout",
     "output_type": "stream",
     "text": [
      "INFO:tensorflow:Scale of 0 disables regularizer.\n"
     ]
    },
    {
     "name": "stderr",
     "output_type": "stream",
     "text": [
      "I0110 22:36:40.591246 139750346217216 tf_logging.py:115] Scale of 0 disables regularizer.\n"
     ]
    },
    {
     "name": "stdout",
     "output_type": "stream",
     "text": [
      "INFO:tensorflow:Scale of 0 disables regularizer.\n"
     ]
    },
    {
     "name": "stderr",
     "output_type": "stream",
     "text": [
      "I0110 22:36:42.985445 139750346217216 tf_logging.py:115] Scale of 0 disables regularizer.\n"
     ]
    },
    {
     "name": "stdout",
     "output_type": "stream",
     "text": [
      "INFO:tensorflow:Scale of 0 disables regularizer.\n"
     ]
    },
    {
     "name": "stderr",
     "output_type": "stream",
     "text": [
      "I0110 22:36:45.432843 139750346217216 tf_logging.py:115] Scale of 0 disables regularizer.\n"
     ]
    },
    {
     "name": "stdout",
     "output_type": "stream",
     "text": [
      "INFO:tensorflow:Scale of 0 disables regularizer.\n"
     ]
    },
    {
     "name": "stderr",
     "output_type": "stream",
     "text": [
      "I0110 22:36:47.885672 139750346217216 tf_logging.py:115] Scale of 0 disables regularizer.\n"
     ]
    },
    {
     "name": "stdout",
     "output_type": "stream",
     "text": [
      "INFO:tensorflow:Scale of 0 disables regularizer.\n"
     ]
    },
    {
     "name": "stderr",
     "output_type": "stream",
     "text": [
      "I0110 22:36:50.357631 139750346217216 tf_logging.py:115] Scale of 0 disables regularizer.\n"
     ]
    },
    {
     "name": "stdout",
     "output_type": "stream",
     "text": [
      "INFO:tensorflow:Scale of 0 disables regularizer.\n"
     ]
    },
    {
     "name": "stderr",
     "output_type": "stream",
     "text": [
      "I0110 22:36:52.814539 139750346217216 tf_logging.py:115] Scale of 0 disables regularizer.\n"
     ]
    },
    {
     "name": "stdout",
     "output_type": "stream",
     "text": [
      "INFO:tensorflow:Scale of 0 disables regularizer.\n"
     ]
    },
    {
     "name": "stderr",
     "output_type": "stream",
     "text": [
      "I0110 22:36:55.215638 139750346217216 tf_logging.py:115] Scale of 0 disables regularizer.\n"
     ]
    },
    {
     "name": "stdout",
     "output_type": "stream",
     "text": [
      "INFO:tensorflow:Scale of 0 disables regularizer.\n"
     ]
    },
    {
     "name": "stderr",
     "output_type": "stream",
     "text": [
      "I0110 22:36:57.653008 139750346217216 tf_logging.py:115] Scale of 0 disables regularizer.\n"
     ]
    },
    {
     "name": "stdout",
     "output_type": "stream",
     "text": [
      "INFO:tensorflow:Scale of 0 disables regularizer.\n"
     ]
    },
    {
     "name": "stderr",
     "output_type": "stream",
     "text": [
      "I0110 22:37:00.115011 139750346217216 tf_logging.py:115] Scale of 0 disables regularizer.\n"
     ]
    },
    {
     "name": "stdout",
     "output_type": "stream",
     "text": [
      "INFO:tensorflow:Scale of 0 disables regularizer.\n"
     ]
    },
    {
     "name": "stderr",
     "output_type": "stream",
     "text": [
      "I0110 22:37:02.558573 139750346217216 tf_logging.py:115] Scale of 0 disables regularizer.\n"
     ]
    },
    {
     "name": "stdout",
     "output_type": "stream",
     "text": [
      "INFO:tensorflow:Scale of 0 disables regularizer.\n"
     ]
    },
    {
     "name": "stderr",
     "output_type": "stream",
     "text": [
      "I0110 22:37:04.974361 139750346217216 tf_logging.py:115] Scale of 0 disables regularizer.\n"
     ]
    },
    {
     "name": "stdout",
     "output_type": "stream",
     "text": [
      "INFO:tensorflow:Scale of 0 disables regularizer.\n"
     ]
    },
    {
     "name": "stderr",
     "output_type": "stream",
     "text": [
      "I0110 22:37:07.479758 139750346217216 tf_logging.py:115] Scale of 0 disables regularizer.\n"
     ]
    },
    {
     "name": "stdout",
     "output_type": "stream",
     "text": [
      "INFO:tensorflow:Scale of 0 disables regularizer.\n"
     ]
    },
    {
     "name": "stderr",
     "output_type": "stream",
     "text": [
      "I0110 22:37:09.934512 139750346217216 tf_logging.py:115] Scale of 0 disables regularizer.\n"
     ]
    },
    {
     "name": "stdout",
     "output_type": "stream",
     "text": [
      "INFO:tensorflow:Scale of 0 disables regularizer.\n"
     ]
    },
    {
     "name": "stderr",
     "output_type": "stream",
     "text": [
      "I0110 22:37:12.422765 139750346217216 tf_logging.py:115] Scale of 0 disables regularizer.\n"
     ]
    },
    {
     "name": "stdout",
     "output_type": "stream",
     "text": [
      "INFO:tensorflow:Scale of 0 disables regularizer.\n"
     ]
    },
    {
     "name": "stderr",
     "output_type": "stream",
     "text": [
      "I0110 22:37:14.879296 139750346217216 tf_logging.py:115] Scale of 0 disables regularizer.\n"
     ]
    },
    {
     "name": "stdout",
     "output_type": "stream",
     "text": [
      "INFO:tensorflow:Scale of 0 disables regularizer.\n"
     ]
    },
    {
     "name": "stderr",
     "output_type": "stream",
     "text": [
      "I0110 22:37:17.264874 139750346217216 tf_logging.py:115] Scale of 0 disables regularizer.\n"
     ]
    },
    {
     "name": "stdout",
     "output_type": "stream",
     "text": [
      "INFO:tensorflow:Scale of 0 disables regularizer.\n"
     ]
    },
    {
     "name": "stderr",
     "output_type": "stream",
     "text": [
      "I0110 22:37:19.714407 139750346217216 tf_logging.py:115] Scale of 0 disables regularizer.\n"
     ]
    },
    {
     "name": "stdout",
     "output_type": "stream",
     "text": [
      "INFO:tensorflow:Scale of 0 disables regularizer.\n"
     ]
    },
    {
     "name": "stderr",
     "output_type": "stream",
     "text": [
      "I0110 22:37:22.165184 139750346217216 tf_logging.py:115] Scale of 0 disables regularizer.\n"
     ]
    },
    {
     "name": "stdout",
     "output_type": "stream",
     "text": [
      "INFO:tensorflow:Scale of 0 disables regularizer.\n"
     ]
    },
    {
     "name": "stderr",
     "output_type": "stream",
     "text": [
      "I0110 22:37:24.629331 139750346217216 tf_logging.py:115] Scale of 0 disables regularizer.\n"
     ]
    },
    {
     "name": "stdout",
     "output_type": "stream",
     "text": [
      "INFO:tensorflow:Scale of 0 disables regularizer.\n"
     ]
    },
    {
     "name": "stderr",
     "output_type": "stream",
     "text": [
      "I0110 22:37:27.014231 139750346217216 tf_logging.py:115] Scale of 0 disables regularizer.\n"
     ]
    },
    {
     "name": "stdout",
     "output_type": "stream",
     "text": [
      "INFO:tensorflow:Scale of 0 disables regularizer.\n"
     ]
    },
    {
     "name": "stderr",
     "output_type": "stream",
     "text": [
      "I0110 22:37:29.463750 139750346217216 tf_logging.py:115] Scale of 0 disables regularizer.\n"
     ]
    },
    {
     "name": "stdout",
     "output_type": "stream",
     "text": [
      "INFO:tensorflow:Scale of 0 disables regularizer.\n"
     ]
    },
    {
     "name": "stderr",
     "output_type": "stream",
     "text": [
      "I0110 22:37:31.917647 139750346217216 tf_logging.py:115] Scale of 0 disables regularizer.\n"
     ]
    },
    {
     "name": "stdout",
     "output_type": "stream",
     "text": [
      "INFO:tensorflow:Scale of 0 disables regularizer.\n"
     ]
    },
    {
     "name": "stderr",
     "output_type": "stream",
     "text": [
      "I0110 22:37:34.382580 139750346217216 tf_logging.py:115] Scale of 0 disables regularizer.\n"
     ]
    },
    {
     "name": "stdout",
     "output_type": "stream",
     "text": [
      "INFO:tensorflow:Scale of 0 disables regularizer.\n"
     ]
    },
    {
     "name": "stderr",
     "output_type": "stream",
     "text": [
      "I0110 22:37:36.750309 139750346217216 tf_logging.py:115] Scale of 0 disables regularizer.\n"
     ]
    },
    {
     "name": "stdout",
     "output_type": "stream",
     "text": [
      "INFO:tensorflow:Scale of 0 disables regularizer.\n"
     ]
    },
    {
     "name": "stderr",
     "output_type": "stream",
     "text": [
      "I0110 22:37:39.191433 139750346217216 tf_logging.py:115] Scale of 0 disables regularizer.\n"
     ]
    },
    {
     "name": "stdout",
     "output_type": "stream",
     "text": [
      "INFO:tensorflow:Scale of 0 disables regularizer.\n"
     ]
    },
    {
     "name": "stderr",
     "output_type": "stream",
     "text": [
      "I0110 22:37:41.662396 139750346217216 tf_logging.py:115] Scale of 0 disables regularizer.\n"
     ]
    },
    {
     "name": "stdout",
     "output_type": "stream",
     "text": [
      "INFO:tensorflow:Scale of 0 disables regularizer.\n"
     ]
    },
    {
     "name": "stderr",
     "output_type": "stream",
     "text": [
      "I0110 22:37:44.106656 139750346217216 tf_logging.py:115] Scale of 0 disables regularizer.\n"
     ]
    },
    {
     "name": "stdout",
     "output_type": "stream",
     "text": [
      "INFO:tensorflow:Scale of 0 disables regularizer.\n"
     ]
    },
    {
     "name": "stderr",
     "output_type": "stream",
     "text": [
      "I0110 22:37:46.565984 139750346217216 tf_logging.py:115] Scale of 0 disables regularizer.\n"
     ]
    },
    {
     "name": "stdout",
     "output_type": "stream",
     "text": [
      "INFO:tensorflow:Scale of 0 disables regularizer.\n"
     ]
    },
    {
     "name": "stderr",
     "output_type": "stream",
     "text": [
      "I0110 22:37:48.951040 139750346217216 tf_logging.py:115] Scale of 0 disables regularizer.\n"
     ]
    },
    {
     "name": "stdout",
     "output_type": "stream",
     "text": [
      "INFO:tensorflow:Scale of 0 disables regularizer.\n"
     ]
    },
    {
     "name": "stderr",
     "output_type": "stream",
     "text": [
      "I0110 22:37:51.391487 139750346217216 tf_logging.py:115] Scale of 0 disables regularizer.\n"
     ]
    },
    {
     "name": "stdout",
     "output_type": "stream",
     "text": [
      "INFO:tensorflow:Scale of 0 disables regularizer.\n"
     ]
    },
    {
     "name": "stderr",
     "output_type": "stream",
     "text": [
      "I0110 22:37:53.812583 139750346217216 tf_logging.py:115] Scale of 0 disables regularizer.\n"
     ]
    },
    {
     "name": "stdout",
     "output_type": "stream",
     "text": [
      "INFO:tensorflow:Scale of 0 disables regularizer.\n"
     ]
    },
    {
     "name": "stderr",
     "output_type": "stream",
     "text": [
      "I0110 22:37:56.267897 139750346217216 tf_logging.py:115] Scale of 0 disables regularizer.\n"
     ]
    },
    {
     "name": "stdout",
     "output_type": "stream",
     "text": [
      "INFO:tensorflow:Scale of 0 disables regularizer.\n"
     ]
    },
    {
     "name": "stderr",
     "output_type": "stream",
     "text": [
      "I0110 22:37:58.647732 139750346217216 tf_logging.py:115] Scale of 0 disables regularizer.\n"
     ]
    },
    {
     "name": "stdout",
     "output_type": "stream",
     "text": [
      "INFO:tensorflow:Scale of 0 disables regularizer.\n"
     ]
    },
    {
     "name": "stderr",
     "output_type": "stream",
     "text": [
      "I0110 22:38:01.096221 139750346217216 tf_logging.py:115] Scale of 0 disables regularizer.\n"
     ]
    },
    {
     "name": "stdout",
     "output_type": "stream",
     "text": [
      "INFO:tensorflow:Scale of 0 disables regularizer.\n"
     ]
    },
    {
     "name": "stderr",
     "output_type": "stream",
     "text": [
      "I0110 22:38:03.556224 139750346217216 tf_logging.py:115] Scale of 0 disables regularizer.\n"
     ]
    },
    {
     "name": "stdout",
     "output_type": "stream",
     "text": [
      "INFO:tensorflow:Scale of 0 disables regularizer.\n"
     ]
    },
    {
     "name": "stderr",
     "output_type": "stream",
     "text": [
      "I0110 22:38:05.999698 139750346217216 tf_logging.py:115] Scale of 0 disables regularizer.\n"
     ]
    },
    {
     "name": "stdout",
     "output_type": "stream",
     "text": [
      "INFO:tensorflow:Scale of 0 disables regularizer.\n"
     ]
    },
    {
     "name": "stderr",
     "output_type": "stream",
     "text": [
      "I0110 22:38:08.455667 139750346217216 tf_logging.py:115] Scale of 0 disables regularizer.\n"
     ]
    },
    {
     "name": "stdout",
     "output_type": "stream",
     "text": [
      "INFO:tensorflow:Scale of 0 disables regularizer.\n"
     ]
    },
    {
     "name": "stderr",
     "output_type": "stream",
     "text": [
      "I0110 22:38:10.879518 139750346217216 tf_logging.py:115] Scale of 0 disables regularizer.\n"
     ]
    },
    {
     "name": "stdout",
     "output_type": "stream",
     "text": [
      "INFO:tensorflow:Scale of 0 disables regularizer.\n"
     ]
    },
    {
     "name": "stderr",
     "output_type": "stream",
     "text": [
      "I0110 22:38:13.320462 139750346217216 tf_logging.py:115] Scale of 0 disables regularizer.\n"
     ]
    },
    {
     "name": "stdout",
     "output_type": "stream",
     "text": [
      "INFO:tensorflow:Scale of 0 disables regularizer.\n"
     ]
    },
    {
     "name": "stderr",
     "output_type": "stream",
     "text": [
      "I0110 22:38:15.762324 139750346217216 tf_logging.py:115] Scale of 0 disables regularizer.\n"
     ]
    },
    {
     "name": "stdout",
     "output_type": "stream",
     "text": [
      "INFO:tensorflow:Scale of 0 disables regularizer.\n"
     ]
    },
    {
     "name": "stderr",
     "output_type": "stream",
     "text": [
      "I0110 22:38:18.209295 139750346217216 tf_logging.py:115] Scale of 0 disables regularizer.\n"
     ]
    },
    {
     "name": "stdout",
     "output_type": "stream",
     "text": [
      "INFO:tensorflow:Scale of 0 disables regularizer.\n"
     ]
    },
    {
     "name": "stderr",
     "output_type": "stream",
     "text": [
      "I0110 22:38:20.597970 139750346217216 tf_logging.py:115] Scale of 0 disables regularizer.\n"
     ]
    },
    {
     "name": "stdout",
     "output_type": "stream",
     "text": [
      "INFO:tensorflow:Scale of 0 disables regularizer.\n"
     ]
    },
    {
     "name": "stderr",
     "output_type": "stream",
     "text": [
      "I0110 22:38:23.049431 139750346217216 tf_logging.py:115] Scale of 0 disables regularizer.\n"
     ]
    },
    {
     "name": "stdout",
     "output_type": "stream",
     "text": [
      "INFO:tensorflow:Scale of 0 disables regularizer.\n"
     ]
    },
    {
     "name": "stderr",
     "output_type": "stream",
     "text": [
      "I0110 22:38:25.488811 139750346217216 tf_logging.py:115] Scale of 0 disables regularizer.\n"
     ]
    },
    {
     "name": "stdout",
     "output_type": "stream",
     "text": [
      "INFO:tensorflow:Scale of 0 disables regularizer.\n"
     ]
    },
    {
     "name": "stderr",
     "output_type": "stream",
     "text": [
      "I0110 22:38:27.931532 139750346217216 tf_logging.py:115] Scale of 0 disables regularizer.\n"
     ]
    },
    {
     "name": "stdout",
     "output_type": "stream",
     "text": [
      "INFO:tensorflow:Scale of 0 disables regularizer.\n"
     ]
    },
    {
     "name": "stderr",
     "output_type": "stream",
     "text": [
      "I0110 22:38:30.320565 139750346217216 tf_logging.py:115] Scale of 0 disables regularizer.\n"
     ]
    },
    {
     "name": "stdout",
     "output_type": "stream",
     "text": [
      "INFO:tensorflow:Scale of 0 disables regularizer.\n"
     ]
    },
    {
     "name": "stderr",
     "output_type": "stream",
     "text": [
      "I0110 22:38:32.752184 139750346217216 tf_logging.py:115] Scale of 0 disables regularizer.\n"
     ]
    },
    {
     "name": "stdout",
     "output_type": "stream",
     "text": [
      "INFO:tensorflow:Scale of 0 disables regularizer.\n"
     ]
    },
    {
     "name": "stderr",
     "output_type": "stream",
     "text": [
      "I0110 22:38:35.193222 139750346217216 tf_logging.py:115] Scale of 0 disables regularizer.\n"
     ]
    },
    {
     "name": "stdout",
     "output_type": "stream",
     "text": [
      "INFO:tensorflow:Scale of 0 disables regularizer.\n"
     ]
    },
    {
     "name": "stderr",
     "output_type": "stream",
     "text": [
      "I0110 22:38:37.643514 139750346217216 tf_logging.py:115] Scale of 0 disables regularizer.\n"
     ]
    },
    {
     "name": "stdout",
     "output_type": "stream",
     "text": [
      "INFO:tensorflow:Scale of 0 disables regularizer.\n"
     ]
    },
    {
     "name": "stderr",
     "output_type": "stream",
     "text": [
      "I0110 22:38:40.091040 139750346217216 tf_logging.py:115] Scale of 0 disables regularizer.\n"
     ]
    },
    {
     "name": "stdout",
     "output_type": "stream",
     "text": [
      "INFO:tensorflow:Scale of 0 disables regularizer.\n"
     ]
    },
    {
     "name": "stderr",
     "output_type": "stream",
     "text": [
      "I0110 22:38:42.504550 139750346217216 tf_logging.py:115] Scale of 0 disables regularizer.\n"
     ]
    },
    {
     "name": "stdout",
     "output_type": "stream",
     "text": [
      "INFO:tensorflow:Scale of 0 disables regularizer.\n"
     ]
    },
    {
     "name": "stderr",
     "output_type": "stream",
     "text": [
      "I0110 22:38:44.944846 139750346217216 tf_logging.py:115] Scale of 0 disables regularizer.\n"
     ]
    },
    {
     "name": "stdout",
     "output_type": "stream",
     "text": [
      "INFO:tensorflow:Scale of 0 disables regularizer.\n"
     ]
    },
    {
     "name": "stderr",
     "output_type": "stream",
     "text": [
      "I0110 22:38:47.396461 139750346217216 tf_logging.py:115] Scale of 0 disables regularizer.\n"
     ]
    },
    {
     "name": "stdout",
     "output_type": "stream",
     "text": [
      "INFO:tensorflow:Scale of 0 disables regularizer.\n"
     ]
    },
    {
     "name": "stderr",
     "output_type": "stream",
     "text": [
      "I0110 22:38:49.848120 139750346217216 tf_logging.py:115] Scale of 0 disables regularizer.\n"
     ]
    },
    {
     "name": "stdout",
     "output_type": "stream",
     "text": [
      "INFO:tensorflow:Scale of 0 disables regularizer.\n"
     ]
    },
    {
     "name": "stderr",
     "output_type": "stream",
     "text": [
      "I0110 22:38:52.246619 139750346217216 tf_logging.py:115] Scale of 0 disables regularizer.\n"
     ]
    },
    {
     "name": "stdout",
     "output_type": "stream",
     "text": [
      "INFO:tensorflow:Scale of 0 disables regularizer.\n"
     ]
    },
    {
     "name": "stderr",
     "output_type": "stream",
     "text": [
      "I0110 22:38:54.698708 139750346217216 tf_logging.py:115] Scale of 0 disables regularizer.\n"
     ]
    },
    {
     "name": "stdout",
     "output_type": "stream",
     "text": [
      "INFO:tensorflow:Scale of 0 disables regularizer.\n"
     ]
    },
    {
     "name": "stderr",
     "output_type": "stream",
     "text": [
      "I0110 22:38:57.149650 139750346217216 tf_logging.py:115] Scale of 0 disables regularizer.\n"
     ]
    },
    {
     "name": "stdout",
     "output_type": "stream",
     "text": [
      "INFO:tensorflow:Scale of 0 disables regularizer.\n"
     ]
    },
    {
     "name": "stderr",
     "output_type": "stream",
     "text": [
      "I0110 22:38:59.603253 139750346217216 tf_logging.py:115] Scale of 0 disables regularizer.\n"
     ]
    },
    {
     "name": "stdout",
     "output_type": "stream",
     "text": [
      "INFO:tensorflow:Scale of 0 disables regularizer.\n"
     ]
    },
    {
     "name": "stderr",
     "output_type": "stream",
     "text": [
      "I0110 22:39:02.053661 139750346217216 tf_logging.py:115] Scale of 0 disables regularizer.\n"
     ]
    },
    {
     "name": "stdout",
     "output_type": "stream",
     "text": [
      "INFO:tensorflow:Scale of 0 disables regularizer.\n"
     ]
    },
    {
     "name": "stderr",
     "output_type": "stream",
     "text": [
      "I0110 22:39:04.446991 139750346217216 tf_logging.py:115] Scale of 0 disables regularizer.\n"
     ]
    },
    {
     "name": "stdout",
     "output_type": "stream",
     "text": [
      "INFO:tensorflow:Scale of 0 disables regularizer.\n"
     ]
    },
    {
     "name": "stderr",
     "output_type": "stream",
     "text": [
      "I0110 22:39:06.908849 139750346217216 tf_logging.py:115] Scale of 0 disables regularizer.\n"
     ]
    },
    {
     "name": "stdout",
     "output_type": "stream",
     "text": [
      "INFO:tensorflow:Scale of 0 disables regularizer.\n"
     ]
    },
    {
     "name": "stderr",
     "output_type": "stream",
     "text": [
      "I0110 22:39:09.360116 139750346217216 tf_logging.py:115] Scale of 0 disables regularizer.\n"
     ]
    },
    {
     "name": "stdout",
     "output_type": "stream",
     "text": [
      "INFO:tensorflow:Scale of 0 disables regularizer.\n"
     ]
    },
    {
     "name": "stderr",
     "output_type": "stream",
     "text": [
      "I0110 22:39:11.819050 139750346217216 tf_logging.py:115] Scale of 0 disables regularizer.\n"
     ]
    },
    {
     "name": "stdout",
     "output_type": "stream",
     "text": [
      "INFO:tensorflow:Scale of 0 disables regularizer.\n"
     ]
    },
    {
     "name": "stderr",
     "output_type": "stream",
     "text": [
      "I0110 22:39:14.244901 139750346217216 tf_logging.py:115] Scale of 0 disables regularizer.\n"
     ]
    },
    {
     "name": "stdout",
     "output_type": "stream",
     "text": [
      "INFO:tensorflow:Scale of 0 disables regularizer.\n"
     ]
    },
    {
     "name": "stderr",
     "output_type": "stream",
     "text": [
      "I0110 22:39:16.690461 139750346217216 tf_logging.py:115] Scale of 0 disables regularizer.\n"
     ]
    },
    {
     "name": "stdout",
     "output_type": "stream",
     "text": [
      "INFO:tensorflow:Scale of 0 disables regularizer.\n"
     ]
    },
    {
     "name": "stderr",
     "output_type": "stream",
     "text": [
      "I0110 22:39:19.140554 139750346217216 tf_logging.py:115] Scale of 0 disables regularizer.\n"
     ]
    },
    {
     "name": "stdout",
     "output_type": "stream",
     "text": [
      "INFO:tensorflow:Scale of 0 disables regularizer.\n"
     ]
    },
    {
     "name": "stderr",
     "output_type": "stream",
     "text": [
      "I0110 22:39:21.620061 139750346217216 tf_logging.py:115] Scale of 0 disables regularizer.\n"
     ]
    },
    {
     "name": "stdout",
     "output_type": "stream",
     "text": [
      "INFO:tensorflow:Scale of 0 disables regularizer.\n"
     ]
    },
    {
     "name": "stderr",
     "output_type": "stream",
     "text": [
      "I0110 22:39:24.009278 139750346217216 tf_logging.py:115] Scale of 0 disables regularizer.\n"
     ]
    },
    {
     "name": "stdout",
     "output_type": "stream",
     "text": [
      "INFO:tensorflow:Scale of 0 disables regularizer.\n"
     ]
    },
    {
     "name": "stderr",
     "output_type": "stream",
     "text": [
      "I0110 22:39:26.446091 139750346217216 tf_logging.py:115] Scale of 0 disables regularizer.\n"
     ]
    },
    {
     "name": "stdout",
     "output_type": "stream",
     "text": [
      "INFO:tensorflow:Scale of 0 disables regularizer.\n"
     ]
    },
    {
     "name": "stderr",
     "output_type": "stream",
     "text": [
      "I0110 22:39:28.889992 139750346217216 tf_logging.py:115] Scale of 0 disables regularizer.\n"
     ]
    },
    {
     "name": "stdout",
     "output_type": "stream",
     "text": [
      "INFO:tensorflow:Scale of 0 disables regularizer.\n"
     ]
    },
    {
     "name": "stderr",
     "output_type": "stream",
     "text": [
      "I0110 22:39:31.372401 139750346217216 tf_logging.py:115] Scale of 0 disables regularizer.\n"
     ]
    },
    {
     "name": "stdout",
     "output_type": "stream",
     "text": [
      "INFO:tensorflow:Scale of 0 disables regularizer.\n"
     ]
    },
    {
     "name": "stderr",
     "output_type": "stream",
     "text": [
      "I0110 22:39:33.863912 139750346217216 tf_logging.py:115] Scale of 0 disables regularizer.\n"
     ]
    },
    {
     "name": "stdout",
     "output_type": "stream",
     "text": [
      "INFO:tensorflow:Scale of 0 disables regularizer.\n"
     ]
    },
    {
     "name": "stderr",
     "output_type": "stream",
     "text": [
      "I0110 22:39:36.249607 139750346217216 tf_logging.py:115] Scale of 0 disables regularizer.\n"
     ]
    },
    {
     "name": "stdout",
     "output_type": "stream",
     "text": [
      "INFO:tensorflow:Scale of 0 disables regularizer.\n"
     ]
    },
    {
     "name": "stderr",
     "output_type": "stream",
     "text": [
      "I0110 22:39:38.705301 139750346217216 tf_logging.py:115] Scale of 0 disables regularizer.\n"
     ]
    },
    {
     "name": "stdout",
     "output_type": "stream",
     "text": [
      "INFO:tensorflow:Scale of 0 disables regularizer.\n"
     ]
    },
    {
     "name": "stderr",
     "output_type": "stream",
     "text": [
      "I0110 22:39:41.153586 139750346217216 tf_logging.py:115] Scale of 0 disables regularizer.\n"
     ]
    },
    {
     "name": "stdout",
     "output_type": "stream",
     "text": [
      "INFO:tensorflow:Scale of 0 disables regularizer.\n"
     ]
    },
    {
     "name": "stderr",
     "output_type": "stream",
     "text": [
      "I0110 22:39:43.605399 139750346217216 tf_logging.py:115] Scale of 0 disables regularizer.\n"
     ]
    },
    {
     "name": "stdout",
     "output_type": "stream",
     "text": [
      "INFO:tensorflow:Scale of 0 disables regularizer.\n"
     ]
    },
    {
     "name": "stderr",
     "output_type": "stream",
     "text": [
      "I0110 22:39:46.051634 139750346217216 tf_logging.py:115] Scale of 0 disables regularizer.\n"
     ]
    },
    {
     "name": "stdout",
     "output_type": "stream",
     "text": [
      "INFO:tensorflow:Scale of 0 disables regularizer.\n"
     ]
    },
    {
     "name": "stderr",
     "output_type": "stream",
     "text": [
      "I0110 22:39:48.505609 139750346217216 tf_logging.py:115] Scale of 0 disables regularizer.\n"
     ]
    },
    {
     "name": "stdout",
     "output_type": "stream",
     "text": [
      "INFO:tensorflow:Scale of 0 disables regularizer.\n"
     ]
    },
    {
     "name": "stderr",
     "output_type": "stream",
     "text": [
      "I0110 22:39:50.947690 139750346217216 tf_logging.py:115] Scale of 0 disables regularizer.\n"
     ]
    },
    {
     "name": "stdout",
     "output_type": "stream",
     "text": [
      "INFO:tensorflow:Scale of 0 disables regularizer.\n"
     ]
    },
    {
     "name": "stderr",
     "output_type": "stream",
     "text": [
      "I0110 22:39:53.445044 139750346217216 tf_logging.py:115] Scale of 0 disables regularizer.\n"
     ]
    },
    {
     "name": "stdout",
     "output_type": "stream",
     "text": [
      "INFO:tensorflow:Scale of 0 disables regularizer.\n"
     ]
    },
    {
     "name": "stderr",
     "output_type": "stream",
     "text": [
      "I0110 22:39:55.930451 139750346217216 tf_logging.py:115] Scale of 0 disables regularizer.\n"
     ]
    },
    {
     "name": "stdout",
     "output_type": "stream",
     "text": [
      "INFO:tensorflow:Scale of 0 disables regularizer.\n"
     ]
    },
    {
     "name": "stderr",
     "output_type": "stream",
     "text": [
      "I0110 22:39:58.325228 139750346217216 tf_logging.py:115] Scale of 0 disables regularizer.\n"
     ]
    },
    {
     "name": "stdout",
     "output_type": "stream",
     "text": [
      "INFO:tensorflow:Scale of 0 disables regularizer.\n"
     ]
    },
    {
     "name": "stderr",
     "output_type": "stream",
     "text": [
      "I0110 22:40:00.763634 139750346217216 tf_logging.py:115] Scale of 0 disables regularizer.\n"
     ]
    },
    {
     "name": "stdout",
     "output_type": "stream",
     "text": [
      "INFO:tensorflow:Scale of 0 disables regularizer.\n"
     ]
    },
    {
     "name": "stderr",
     "output_type": "stream",
     "text": [
      "I0110 22:40:03.230514 139750346217216 tf_logging.py:115] Scale of 0 disables regularizer.\n"
     ]
    },
    {
     "name": "stdout",
     "output_type": "stream",
     "text": [
      "INFO:tensorflow:Scale of 0 disables regularizer.\n"
     ]
    },
    {
     "name": "stderr",
     "output_type": "stream",
     "text": [
      "I0110 22:40:05.677984 139750346217216 tf_logging.py:115] Scale of 0 disables regularizer.\n"
     ]
    },
    {
     "name": "stdout",
     "output_type": "stream",
     "text": [
      "INFO:tensorflow:Scale of 0 disables regularizer.\n"
     ]
    },
    {
     "name": "stderr",
     "output_type": "stream",
     "text": [
      "I0110 22:40:08.067841 139750346217216 tf_logging.py:115] Scale of 0 disables regularizer.\n"
     ]
    },
    {
     "name": "stdout",
     "output_type": "stream",
     "text": [
      "INFO:tensorflow:Scale of 0 disables regularizer.\n"
     ]
    },
    {
     "name": "stderr",
     "output_type": "stream",
     "text": [
      "I0110 22:40:10.515873 139750346217216 tf_logging.py:115] Scale of 0 disables regularizer.\n"
     ]
    },
    {
     "name": "stdout",
     "output_type": "stream",
     "text": [
      "INFO:tensorflow:Scale of 0 disables regularizer.\n"
     ]
    },
    {
     "name": "stderr",
     "output_type": "stream",
     "text": [
      "I0110 22:40:12.997400 139750346217216 tf_logging.py:115] Scale of 0 disables regularizer.\n"
     ]
    },
    {
     "name": "stdout",
     "output_type": "stream",
     "text": [
      "INFO:tensorflow:Scale of 0 disables regularizer.\n"
     ]
    },
    {
     "name": "stderr",
     "output_type": "stream",
     "text": [
      "I0110 22:40:15.458785 139750346217216 tf_logging.py:115] Scale of 0 disables regularizer.\n"
     ]
    },
    {
     "name": "stdout",
     "output_type": "stream",
     "text": [
      "INFO:tensorflow:Scale of 0 disables regularizer.\n"
     ]
    },
    {
     "name": "stderr",
     "output_type": "stream",
     "text": [
      "I0110 22:40:17.870169 139750346217216 tf_logging.py:115] Scale of 0 disables regularizer.\n"
     ]
    },
    {
     "name": "stdout",
     "output_type": "stream",
     "text": [
      "INFO:tensorflow:Scale of 0 disables regularizer.\n"
     ]
    },
    {
     "name": "stderr",
     "output_type": "stream",
     "text": [
      "I0110 22:40:20.347984 139750346217216 tf_logging.py:115] Scale of 0 disables regularizer.\n"
     ]
    },
    {
     "name": "stdout",
     "output_type": "stream",
     "text": [
      "INFO:tensorflow:Scale of 0 disables regularizer.\n"
     ]
    },
    {
     "name": "stderr",
     "output_type": "stream",
     "text": [
      "I0110 22:40:22.797608 139750346217216 tf_logging.py:115] Scale of 0 disables regularizer.\n"
     ]
    },
    {
     "name": "stdout",
     "output_type": "stream",
     "text": [
      "INFO:tensorflow:Scale of 0 disables regularizer.\n"
     ]
    },
    {
     "name": "stderr",
     "output_type": "stream",
     "text": [
      "I0110 22:40:25.259334 139750346217216 tf_logging.py:115] Scale of 0 disables regularizer.\n"
     ]
    },
    {
     "name": "stdout",
     "output_type": "stream",
     "text": [
      "INFO:tensorflow:Scale of 0 disables regularizer.\n"
     ]
    },
    {
     "name": "stderr",
     "output_type": "stream",
     "text": [
      "I0110 22:40:27.723294 139750346217216 tf_logging.py:115] Scale of 0 disables regularizer.\n"
     ]
    },
    {
     "name": "stdout",
     "output_type": "stream",
     "text": [
      "INFO:tensorflow:Scale of 0 disables regularizer.\n"
     ]
    },
    {
     "name": "stderr",
     "output_type": "stream",
     "text": [
      "I0110 22:40:30.105718 139750346217216 tf_logging.py:115] Scale of 0 disables regularizer.\n"
     ]
    },
    {
     "name": "stdout",
     "output_type": "stream",
     "text": [
      "INFO:tensorflow:Scale of 0 disables regularizer.\n"
     ]
    },
    {
     "name": "stderr",
     "output_type": "stream",
     "text": [
      "I0110 22:40:32.558739 139750346217216 tf_logging.py:115] Scale of 0 disables regularizer.\n"
     ]
    },
    {
     "name": "stdout",
     "output_type": "stream",
     "text": [
      "INFO:tensorflow:Scale of 0 disables regularizer.\n"
     ]
    },
    {
     "name": "stderr",
     "output_type": "stream",
     "text": [
      "I0110 22:40:35.019619 139750346217216 tf_logging.py:115] Scale of 0 disables regularizer.\n"
     ]
    },
    {
     "name": "stdout",
     "output_type": "stream",
     "text": [
      "INFO:tensorflow:Scale of 0 disables regularizer.\n"
     ]
    },
    {
     "name": "stderr",
     "output_type": "stream",
     "text": [
      "I0110 22:40:37.481866 139750346217216 tf_logging.py:115] Scale of 0 disables regularizer.\n"
     ]
    },
    {
     "name": "stdout",
     "output_type": "stream",
     "text": [
      "INFO:tensorflow:Scale of 0 disables regularizer.\n"
     ]
    },
    {
     "name": "stderr",
     "output_type": "stream",
     "text": [
      "I0110 22:40:39.862170 139750346217216 tf_logging.py:115] Scale of 0 disables regularizer.\n"
     ]
    },
    {
     "name": "stdout",
     "output_type": "stream",
     "text": [
      "INFO:tensorflow:Scale of 0 disables regularizer.\n"
     ]
    },
    {
     "name": "stderr",
     "output_type": "stream",
     "text": [
      "I0110 22:40:42.303090 139750346217216 tf_logging.py:115] Scale of 0 disables regularizer.\n"
     ]
    },
    {
     "name": "stdout",
     "output_type": "stream",
     "text": [
      "INFO:tensorflow:Scale of 0 disables regularizer.\n"
     ]
    },
    {
     "name": "stderr",
     "output_type": "stream",
     "text": [
      "I0110 22:40:44.776823 139750346217216 tf_logging.py:115] Scale of 0 disables regularizer.\n"
     ]
    },
    {
     "name": "stdout",
     "output_type": "stream",
     "text": [
      "INFO:tensorflow:Scale of 0 disables regularizer.\n"
     ]
    },
    {
     "name": "stderr",
     "output_type": "stream",
     "text": [
      "I0110 22:40:47.235424 139750346217216 tf_logging.py:115] Scale of 0 disables regularizer.\n"
     ]
    },
    {
     "name": "stdout",
     "output_type": "stream",
     "text": [
      "INFO:tensorflow:Scale of 0 disables regularizer.\n"
     ]
    },
    {
     "name": "stderr",
     "output_type": "stream",
     "text": [
      "I0110 22:40:49.685462 139750346217216 tf_logging.py:115] Scale of 0 disables regularizer.\n"
     ]
    },
    {
     "name": "stdout",
     "output_type": "stream",
     "text": [
      "INFO:tensorflow:Scale of 0 disables regularizer.\n"
     ]
    },
    {
     "name": "stderr",
     "output_type": "stream",
     "text": [
      "I0110 22:40:52.066956 139750346217216 tf_logging.py:115] Scale of 0 disables regularizer.\n"
     ]
    },
    {
     "name": "stdout",
     "output_type": "stream",
     "text": [
      "INFO:tensorflow:Scale of 0 disables regularizer.\n"
     ]
    },
    {
     "name": "stderr",
     "output_type": "stream",
     "text": [
      "I0110 22:40:54.503562 139750346217216 tf_logging.py:115] Scale of 0 disables regularizer.\n"
     ]
    },
    {
     "name": "stdout",
     "output_type": "stream",
     "text": [
      "INFO:tensorflow:Scale of 0 disables regularizer.\n"
     ]
    },
    {
     "name": "stderr",
     "output_type": "stream",
     "text": [
      "I0110 22:40:56.945087 139750346217216 tf_logging.py:115] Scale of 0 disables regularizer.\n"
     ]
    },
    {
     "name": "stdout",
     "output_type": "stream",
     "text": [
      "INFO:tensorflow:Scale of 0 disables regularizer.\n"
     ]
    },
    {
     "name": "stderr",
     "output_type": "stream",
     "text": [
      "I0110 22:40:59.430210 139750346217216 tf_logging.py:115] Scale of 0 disables regularizer.\n"
     ]
    },
    {
     "name": "stdout",
     "output_type": "stream",
     "text": [
      "INFO:tensorflow:Scale of 0 disables regularizer.\n"
     ]
    },
    {
     "name": "stderr",
     "output_type": "stream",
     "text": [
      "I0110 22:41:01.816183 139750346217216 tf_logging.py:115] Scale of 0 disables regularizer.\n"
     ]
    },
    {
     "name": "stdout",
     "output_type": "stream",
     "text": [
      "INFO:tensorflow:Scale of 0 disables regularizer.\n"
     ]
    },
    {
     "name": "stderr",
     "output_type": "stream",
     "text": [
      "I0110 22:41:04.262974 139750346217216 tf_logging.py:115] Scale of 0 disables regularizer.\n"
     ]
    },
    {
     "name": "stdout",
     "output_type": "stream",
     "text": [
      "INFO:tensorflow:Scale of 0 disables regularizer.\n"
     ]
    },
    {
     "name": "stderr",
     "output_type": "stream",
     "text": [
      "I0110 22:41:06.703398 139750346217216 tf_logging.py:115] Scale of 0 disables regularizer.\n"
     ]
    },
    {
     "name": "stdout",
     "output_type": "stream",
     "text": [
      "INFO:tensorflow:Scale of 0 disables regularizer.\n"
     ]
    },
    {
     "name": "stderr",
     "output_type": "stream",
     "text": [
      "I0110 22:41:09.138222 139750346217216 tf_logging.py:115] Scale of 0 disables regularizer.\n"
     ]
    },
    {
     "name": "stdout",
     "output_type": "stream",
     "text": [
      "INFO:tensorflow:Scale of 0 disables regularizer.\n"
     ]
    },
    {
     "name": "stderr",
     "output_type": "stream",
     "text": [
      "I0110 22:41:11.554447 139750346217216 tf_logging.py:115] Scale of 0 disables regularizer.\n"
     ]
    },
    {
     "name": "stdout",
     "output_type": "stream",
     "text": [
      "INFO:tensorflow:Scale of 0 disables regularizer.\n"
     ]
    },
    {
     "name": "stderr",
     "output_type": "stream",
     "text": [
      "I0110 22:41:14.006372 139750346217216 tf_logging.py:115] Scale of 0 disables regularizer.\n"
     ]
    },
    {
     "name": "stdout",
     "output_type": "stream",
     "text": [
      "INFO:tensorflow:Scale of 0 disables regularizer.\n"
     ]
    },
    {
     "name": "stderr",
     "output_type": "stream",
     "text": [
      "I0110 22:41:16.475153 139750346217216 tf_logging.py:115] Scale of 0 disables regularizer.\n"
     ]
    },
    {
     "name": "stdout",
     "output_type": "stream",
     "text": [
      "INFO:tensorflow:Scale of 0 disables regularizer.\n"
     ]
    },
    {
     "name": "stderr",
     "output_type": "stream",
     "text": [
      "I0110 22:41:18.932816 139750346217216 tf_logging.py:115] Scale of 0 disables regularizer.\n"
     ]
    },
    {
     "name": "stdout",
     "output_type": "stream",
     "text": [
      "INFO:tensorflow:Scale of 0 disables regularizer.\n"
     ]
    },
    {
     "name": "stderr",
     "output_type": "stream",
     "text": [
      "I0110 22:41:21.384331 139750346217216 tf_logging.py:115] Scale of 0 disables regularizer.\n"
     ]
    },
    {
     "name": "stdout",
     "output_type": "stream",
     "text": [
      "INFO:tensorflow:Scale of 0 disables regularizer.\n"
     ]
    },
    {
     "name": "stderr",
     "output_type": "stream",
     "text": [
      "I0110 22:41:23.767903 139750346217216 tf_logging.py:115] Scale of 0 disables regularizer.\n"
     ]
    },
    {
     "name": "stdout",
     "output_type": "stream",
     "text": [
      "INFO:tensorflow:Scale of 0 disables regularizer.\n"
     ]
    },
    {
     "name": "stderr",
     "output_type": "stream",
     "text": [
      "I0110 22:41:26.245942 139750346217216 tf_logging.py:115] Scale of 0 disables regularizer.\n"
     ]
    },
    {
     "name": "stdout",
     "output_type": "stream",
     "text": [
      "INFO:tensorflow:Scale of 0 disables regularizer.\n"
     ]
    },
    {
     "name": "stderr",
     "output_type": "stream",
     "text": [
      "I0110 22:41:28.697263 139750346217216 tf_logging.py:115] Scale of 0 disables regularizer.\n"
     ]
    },
    {
     "name": "stdout",
     "output_type": "stream",
     "text": [
      "INFO:tensorflow:Scale of 0 disables regularizer.\n"
     ]
    },
    {
     "name": "stderr",
     "output_type": "stream",
     "text": [
      "I0110 22:41:31.164870 139750346217216 tf_logging.py:115] Scale of 0 disables regularizer.\n"
     ]
    },
    {
     "name": "stdout",
     "output_type": "stream",
     "text": [
      "INFO:tensorflow:Scale of 0 disables regularizer.\n"
     ]
    },
    {
     "name": "stderr",
     "output_type": "stream",
     "text": [
      "I0110 22:41:33.547070 139750346217216 tf_logging.py:115] Scale of 0 disables regularizer.\n"
     ]
    },
    {
     "name": "stdout",
     "output_type": "stream",
     "text": [
      "INFO:tensorflow:Scale of 0 disables regularizer.\n"
     ]
    },
    {
     "name": "stderr",
     "output_type": "stream",
     "text": [
      "I0110 22:41:35.997053 139750346217216 tf_logging.py:115] Scale of 0 disables regularizer.\n"
     ]
    },
    {
     "name": "stdout",
     "output_type": "stream",
     "text": [
      "INFO:tensorflow:Scale of 0 disables regularizer.\n"
     ]
    },
    {
     "name": "stderr",
     "output_type": "stream",
     "text": [
      "I0110 22:41:38.445568 139750346217216 tf_logging.py:115] Scale of 0 disables regularizer.\n"
     ]
    },
    {
     "name": "stdout",
     "output_type": "stream",
     "text": [
      "INFO:tensorflow:Scale of 0 disables regularizer.\n"
     ]
    },
    {
     "name": "stderr",
     "output_type": "stream",
     "text": [
      "I0110 22:41:40.892349 139750346217216 tf_logging.py:115] Scale of 0 disables regularizer.\n"
     ]
    },
    {
     "name": "stdout",
     "output_type": "stream",
     "text": [
      "INFO:tensorflow:Scale of 0 disables regularizer.\n"
     ]
    },
    {
     "name": "stderr",
     "output_type": "stream",
     "text": [
      "I0110 22:41:43.338695 139750346217216 tf_logging.py:115] Scale of 0 disables regularizer.\n"
     ]
    },
    {
     "name": "stdout",
     "output_type": "stream",
     "text": [
      "INFO:tensorflow:Scale of 0 disables regularizer.\n"
     ]
    },
    {
     "name": "stderr",
     "output_type": "stream",
     "text": [
      "I0110 22:41:45.741947 139750346217216 tf_logging.py:115] Scale of 0 disables regularizer.\n"
     ]
    },
    {
     "name": "stdout",
     "output_type": "stream",
     "text": [
      "INFO:tensorflow:Scale of 0 disables regularizer.\n"
     ]
    },
    {
     "name": "stderr",
     "output_type": "stream",
     "text": [
      "I0110 22:41:48.190639 139750346217216 tf_logging.py:115] Scale of 0 disables regularizer.\n"
     ]
    },
    {
     "name": "stdout",
     "output_type": "stream",
     "text": [
      "INFO:tensorflow:Scale of 0 disables regularizer.\n"
     ]
    },
    {
     "name": "stderr",
     "output_type": "stream",
     "text": [
      "I0110 22:41:50.643234 139750346217216 tf_logging.py:115] Scale of 0 disables regularizer.\n"
     ]
    },
    {
     "name": "stdout",
     "output_type": "stream",
     "text": [
      "INFO:tensorflow:Scale of 0 disables regularizer.\n"
     ]
    },
    {
     "name": "stderr",
     "output_type": "stream",
     "text": [
      "I0110 22:41:53.093160 139750346217216 tf_logging.py:115] Scale of 0 disables regularizer.\n"
     ]
    },
    {
     "name": "stdout",
     "output_type": "stream",
     "text": [
      "INFO:tensorflow:Scale of 0 disables regularizer.\n"
     ]
    },
    {
     "name": "stderr",
     "output_type": "stream",
     "text": [
      "I0110 22:41:55.492918 139750346217216 tf_logging.py:115] Scale of 0 disables regularizer.\n"
     ]
    },
    {
     "name": "stdout",
     "output_type": "stream",
     "text": [
      "INFO:tensorflow:Scale of 0 disables regularizer.\n"
     ]
    },
    {
     "name": "stderr",
     "output_type": "stream",
     "text": [
      "I0110 22:41:57.946436 139750346217216 tf_logging.py:115] Scale of 0 disables regularizer.\n"
     ]
    },
    {
     "name": "stdout",
     "output_type": "stream",
     "text": [
      "INFO:tensorflow:Scale of 0 disables regularizer.\n"
     ]
    },
    {
     "name": "stderr",
     "output_type": "stream",
     "text": [
      "I0110 22:42:00.405116 139750346217216 tf_logging.py:115] Scale of 0 disables regularizer.\n"
     ]
    },
    {
     "name": "stdout",
     "output_type": "stream",
     "text": [
      "INFO:tensorflow:Scale of 0 disables regularizer.\n"
     ]
    },
    {
     "name": "stderr",
     "output_type": "stream",
     "text": [
      "I0110 22:42:02.862733 139750346217216 tf_logging.py:115] Scale of 0 disables regularizer.\n"
     ]
    },
    {
     "name": "stdout",
     "output_type": "stream",
     "text": [
      "INFO:tensorflow:Scale of 0 disables regularizer.\n"
     ]
    },
    {
     "name": "stderr",
     "output_type": "stream",
     "text": [
      "I0110 22:42:05.247765 139750346217216 tf_logging.py:115] Scale of 0 disables regularizer.\n"
     ]
    },
    {
     "name": "stdout",
     "output_type": "stream",
     "text": [
      "INFO:tensorflow:Scale of 0 disables regularizer.\n"
     ]
    },
    {
     "name": "stderr",
     "output_type": "stream",
     "text": [
      "I0110 22:42:07.691045 139750346217216 tf_logging.py:115] Scale of 0 disables regularizer.\n"
     ]
    },
    {
     "name": "stdout",
     "output_type": "stream",
     "text": [
      "INFO:tensorflow:Scale of 0 disables regularizer.\n"
     ]
    },
    {
     "name": "stderr",
     "output_type": "stream",
     "text": [
      "I0110 22:42:10.127140 139750346217216 tf_logging.py:115] Scale of 0 disables regularizer.\n"
     ]
    },
    {
     "name": "stdout",
     "output_type": "stream",
     "text": [
      "INFO:tensorflow:Scale of 0 disables regularizer.\n"
     ]
    },
    {
     "name": "stderr",
     "output_type": "stream",
     "text": [
      "I0110 22:42:12.574981 139750346217216 tf_logging.py:115] Scale of 0 disables regularizer.\n"
     ]
    },
    {
     "name": "stdout",
     "output_type": "stream",
     "text": [
      "INFO:tensorflow:Scale of 0 disables regularizer.\n"
     ]
    },
    {
     "name": "stderr",
     "output_type": "stream",
     "text": [
      "I0110 22:42:15.018194 139750346217216 tf_logging.py:115] Scale of 0 disables regularizer.\n"
     ]
    },
    {
     "name": "stdout",
     "output_type": "stream",
     "text": [
      "INFO:tensorflow:Scale of 0 disables regularizer.\n"
     ]
    },
    {
     "name": "stderr",
     "output_type": "stream",
     "text": [
      "I0110 22:42:17.434694 139750346217216 tf_logging.py:115] Scale of 0 disables regularizer.\n"
     ]
    },
    {
     "name": "stdout",
     "output_type": "stream",
     "text": [
      "INFO:tensorflow:Scale of 0 disables regularizer.\n"
     ]
    },
    {
     "name": "stderr",
     "output_type": "stream",
     "text": [
      "I0110 22:42:19.870059 139750346217216 tf_logging.py:115] Scale of 0 disables regularizer.\n"
     ]
    },
    {
     "name": "stdout",
     "output_type": "stream",
     "text": [
      "INFO:tensorflow:Scale of 0 disables regularizer.\n"
     ]
    },
    {
     "name": "stderr",
     "output_type": "stream",
     "text": [
      "I0110 22:42:22.315632 139750346217216 tf_logging.py:115] Scale of 0 disables regularizer.\n"
     ]
    },
    {
     "name": "stdout",
     "output_type": "stream",
     "text": [
      "INFO:tensorflow:Scale of 0 disables regularizer.\n"
     ]
    },
    {
     "name": "stderr",
     "output_type": "stream",
     "text": [
      "I0110 22:42:24.758424 139750346217216 tf_logging.py:115] Scale of 0 disables regularizer.\n"
     ]
    },
    {
     "name": "stdout",
     "output_type": "stream",
     "text": [
      "INFO:tensorflow:Scale of 0 disables regularizer.\n"
     ]
    },
    {
     "name": "stderr",
     "output_type": "stream",
     "text": [
      "I0110 22:42:27.156643 139750346217216 tf_logging.py:115] Scale of 0 disables regularizer.\n"
     ]
    },
    {
     "name": "stdout",
     "output_type": "stream",
     "text": [
      "INFO:tensorflow:Scale of 0 disables regularizer.\n"
     ]
    },
    {
     "name": "stderr",
     "output_type": "stream",
     "text": [
      "I0110 22:42:29.590956 139750346217216 tf_logging.py:115] Scale of 0 disables regularizer.\n"
     ]
    },
    {
     "name": "stdout",
     "output_type": "stream",
     "text": [
      "INFO:tensorflow:Scale of 0 disables regularizer.\n"
     ]
    },
    {
     "name": "stderr",
     "output_type": "stream",
     "text": [
      "I0110 22:42:32.044635 139750346217216 tf_logging.py:115] Scale of 0 disables regularizer.\n"
     ]
    },
    {
     "name": "stdout",
     "output_type": "stream",
     "text": [
      "INFO:tensorflow:Scale of 0 disables regularizer.\n"
     ]
    },
    {
     "name": "stderr",
     "output_type": "stream",
     "text": [
      "I0110 22:42:34.488423 139750346217216 tf_logging.py:115] Scale of 0 disables regularizer.\n"
     ]
    },
    {
     "name": "stdout",
     "output_type": "stream",
     "text": [
      "INFO:tensorflow:Scale of 0 disables regularizer.\n"
     ]
    },
    {
     "name": "stderr",
     "output_type": "stream",
     "text": [
      "I0110 22:42:36.984613 139750346217216 tf_logging.py:115] Scale of 0 disables regularizer.\n"
     ]
    },
    {
     "name": "stdout",
     "output_type": "stream",
     "text": [
      "INFO:tensorflow:Scale of 0 disables regularizer.\n"
     ]
    },
    {
     "name": "stderr",
     "output_type": "stream",
     "text": [
      "I0110 22:42:39.370256 139750346217216 tf_logging.py:115] Scale of 0 disables regularizer.\n"
     ]
    },
    {
     "name": "stdout",
     "output_type": "stream",
     "text": [
      "INFO:tensorflow:Scale of 0 disables regularizer.\n"
     ]
    },
    {
     "name": "stderr",
     "output_type": "stream",
     "text": [
      "I0110 22:42:41.818335 139750346217216 tf_logging.py:115] Scale of 0 disables regularizer.\n"
     ]
    },
    {
     "name": "stdout",
     "output_type": "stream",
     "text": [
      "INFO:tensorflow:Scale of 0 disables regularizer.\n"
     ]
    },
    {
     "name": "stderr",
     "output_type": "stream",
     "text": [
      "I0110 22:42:44.269562 139750346217216 tf_logging.py:115] Scale of 0 disables regularizer.\n"
     ]
    },
    {
     "name": "stdout",
     "output_type": "stream",
     "text": [
      "INFO:tensorflow:Scale of 0 disables regularizer.\n"
     ]
    },
    {
     "name": "stderr",
     "output_type": "stream",
     "text": [
      "I0110 22:42:46.717786 139750346217216 tf_logging.py:115] Scale of 0 disables regularizer.\n"
     ]
    },
    {
     "name": "stdout",
     "output_type": "stream",
     "text": [
      "INFO:tensorflow:Scale of 0 disables regularizer.\n"
     ]
    },
    {
     "name": "stderr",
     "output_type": "stream",
     "text": [
      "I0110 22:42:49.091521 139750346217216 tf_logging.py:115] Scale of 0 disables regularizer.\n"
     ]
    },
    {
     "name": "stdout",
     "output_type": "stream",
     "text": [
      "INFO:tensorflow:Scale of 0 disables regularizer.\n"
     ]
    },
    {
     "name": "stderr",
     "output_type": "stream",
     "text": [
      "I0110 22:42:51.530195 139750346217216 tf_logging.py:115] Scale of 0 disables regularizer.\n"
     ]
    },
    {
     "name": "stdout",
     "output_type": "stream",
     "text": [
      "INFO:tensorflow:Scale of 0 disables regularizer.\n"
     ]
    },
    {
     "name": "stderr",
     "output_type": "stream",
     "text": [
      "I0110 22:42:53.976777 139750346217216 tf_logging.py:115] Scale of 0 disables regularizer.\n"
     ]
    },
    {
     "name": "stdout",
     "output_type": "stream",
     "text": [
      "INFO:tensorflow:Scale of 0 disables regularizer.\n"
     ]
    },
    {
     "name": "stderr",
     "output_type": "stream",
     "text": [
      "I0110 22:42:56.425574 139750346217216 tf_logging.py:115] Scale of 0 disables regularizer.\n"
     ]
    },
    {
     "name": "stdout",
     "output_type": "stream",
     "text": [
      "INFO:tensorflow:Scale of 0 disables regularizer.\n"
     ]
    },
    {
     "name": "stderr",
     "output_type": "stream",
     "text": [
      "I0110 22:42:58.811663 139750346217216 tf_logging.py:115] Scale of 0 disables regularizer.\n"
     ]
    },
    {
     "name": "stdout",
     "output_type": "stream",
     "text": [
      "INFO:tensorflow:Scale of 0 disables regularizer.\n"
     ]
    },
    {
     "name": "stderr",
     "output_type": "stream",
     "text": [
      "I0110 22:43:01.249919 139750346217216 tf_logging.py:115] Scale of 0 disables regularizer.\n"
     ]
    },
    {
     "name": "stdout",
     "output_type": "stream",
     "text": [
      "INFO:tensorflow:Scale of 0 disables regularizer.\n"
     ]
    },
    {
     "name": "stderr",
     "output_type": "stream",
     "text": [
      "I0110 22:43:03.690228 139750346217216 tf_logging.py:115] Scale of 0 disables regularizer.\n"
     ]
    },
    {
     "name": "stdout",
     "output_type": "stream",
     "text": [
      "INFO:tensorflow:Scale of 0 disables regularizer.\n"
     ]
    },
    {
     "name": "stderr",
     "output_type": "stream",
     "text": [
      "I0110 22:43:06.139771 139750346217216 tf_logging.py:115] Scale of 0 disables regularizer.\n"
     ]
    },
    {
     "name": "stdout",
     "output_type": "stream",
     "text": [
      "INFO:tensorflow:Scale of 0 disables regularizer.\n"
     ]
    },
    {
     "name": "stderr",
     "output_type": "stream",
     "text": [
      "I0110 22:43:08.591631 139750346217216 tf_logging.py:115] Scale of 0 disables regularizer.\n"
     ]
    },
    {
     "name": "stdout",
     "output_type": "stream",
     "text": [
      "INFO:tensorflow:Scale of 0 disables regularizer.\n"
     ]
    },
    {
     "name": "stderr",
     "output_type": "stream",
     "text": [
      "I0110 22:43:10.976151 139750346217216 tf_logging.py:115] Scale of 0 disables regularizer.\n"
     ]
    },
    {
     "name": "stdout",
     "output_type": "stream",
     "text": [
      "INFO:tensorflow:Scale of 0 disables regularizer.\n"
     ]
    },
    {
     "name": "stderr",
     "output_type": "stream",
     "text": [
      "I0110 22:43:13.418906 139750346217216 tf_logging.py:115] Scale of 0 disables regularizer.\n"
     ]
    },
    {
     "name": "stdout",
     "output_type": "stream",
     "text": [
      "INFO:tensorflow:Scale of 0 disables regularizer.\n"
     ]
    },
    {
     "name": "stderr",
     "output_type": "stream",
     "text": [
      "I0110 22:43:15.864217 139750346217216 tf_logging.py:115] Scale of 0 disables regularizer.\n"
     ]
    },
    {
     "name": "stdout",
     "output_type": "stream",
     "text": [
      "INFO:tensorflow:Scale of 0 disables regularizer.\n"
     ]
    },
    {
     "name": "stderr",
     "output_type": "stream",
     "text": [
      "I0110 22:43:18.312350 139750346217216 tf_logging.py:115] Scale of 0 disables regularizer.\n"
     ]
    },
    {
     "name": "stdout",
     "output_type": "stream",
     "text": [
      "INFO:tensorflow:Scale of 0 disables regularizer.\n"
     ]
    },
    {
     "name": "stderr",
     "output_type": "stream",
     "text": [
      "I0110 22:43:20.698276 139750346217216 tf_logging.py:115] Scale of 0 disables regularizer.\n"
     ]
    },
    {
     "name": "stdout",
     "output_type": "stream",
     "text": [
      "INFO:tensorflow:Scale of 0 disables regularizer.\n"
     ]
    },
    {
     "name": "stderr",
     "output_type": "stream",
     "text": [
      "I0110 22:43:23.141174 139750346217216 tf_logging.py:115] Scale of 0 disables regularizer.\n"
     ]
    },
    {
     "name": "stdout",
     "output_type": "stream",
     "text": [
      "INFO:tensorflow:Scale of 0 disables regularizer.\n"
     ]
    },
    {
     "name": "stderr",
     "output_type": "stream",
     "text": [
      "I0110 22:43:25.583612 139750346217216 tf_logging.py:115] Scale of 0 disables regularizer.\n"
     ]
    },
    {
     "name": "stdout",
     "output_type": "stream",
     "text": [
      "INFO:tensorflow:Scale of 0 disables regularizer.\n"
     ]
    },
    {
     "name": "stderr",
     "output_type": "stream",
     "text": [
      "I0110 22:43:28.047110 139750346217216 tf_logging.py:115] Scale of 0 disables regularizer.\n"
     ]
    },
    {
     "name": "stdout",
     "output_type": "stream",
     "text": [
      "INFO:tensorflow:Scale of 0 disables regularizer.\n"
     ]
    },
    {
     "name": "stderr",
     "output_type": "stream",
     "text": [
      "I0110 22:43:30.514555 139750346217216 tf_logging.py:115] Scale of 0 disables regularizer.\n"
     ]
    },
    {
     "name": "stdout",
     "output_type": "stream",
     "text": [
      "INFO:tensorflow:Scale of 0 disables regularizer.\n"
     ]
    },
    {
     "name": "stderr",
     "output_type": "stream",
     "text": [
      "I0110 22:43:32.944277 139750346217216 tf_logging.py:115] Scale of 0 disables regularizer.\n"
     ]
    },
    {
     "name": "stdout",
     "output_type": "stream",
     "text": [
      "INFO:tensorflow:Scale of 0 disables regularizer.\n"
     ]
    },
    {
     "name": "stderr",
     "output_type": "stream",
     "text": [
      "I0110 22:43:35.415626 139750346217216 tf_logging.py:115] Scale of 0 disables regularizer.\n"
     ]
    },
    {
     "name": "stdout",
     "output_type": "stream",
     "text": [
      "INFO:tensorflow:Scale of 0 disables regularizer.\n"
     ]
    },
    {
     "name": "stderr",
     "output_type": "stream",
     "text": [
      "I0110 22:43:37.861759 139750346217216 tf_logging.py:115] Scale of 0 disables regularizer.\n"
     ]
    },
    {
     "name": "stdout",
     "output_type": "stream",
     "text": [
      "INFO:tensorflow:Scale of 0 disables regularizer.\n"
     ]
    },
    {
     "name": "stderr",
     "output_type": "stream",
     "text": [
      "I0110 22:43:40.343479 139750346217216 tf_logging.py:115] Scale of 0 disables regularizer.\n"
     ]
    },
    {
     "name": "stdout",
     "output_type": "stream",
     "text": [
      "INFO:tensorflow:Scale of 0 disables regularizer.\n"
     ]
    },
    {
     "name": "stderr",
     "output_type": "stream",
     "text": [
      "I0110 22:43:42.747170 139750346217216 tf_logging.py:115] Scale of 0 disables regularizer.\n"
     ]
    },
    {
     "name": "stdout",
     "output_type": "stream",
     "text": [
      "INFO:tensorflow:Scale of 0 disables regularizer.\n"
     ]
    },
    {
     "name": "stderr",
     "output_type": "stream",
     "text": [
      "I0110 22:43:45.192646 139750346217216 tf_logging.py:115] Scale of 0 disables regularizer.\n"
     ]
    },
    {
     "name": "stdout",
     "output_type": "stream",
     "text": [
      "INFO:tensorflow:Scale of 0 disables regularizer.\n"
     ]
    },
    {
     "name": "stderr",
     "output_type": "stream",
     "text": [
      "I0110 22:43:47.636116 139750346217216 tf_logging.py:115] Scale of 0 disables regularizer.\n"
     ]
    },
    {
     "name": "stdout",
     "output_type": "stream",
     "text": [
      "INFO:tensorflow:Scale of 0 disables regularizer.\n"
     ]
    },
    {
     "name": "stderr",
     "output_type": "stream",
     "text": [
      "I0110 22:43:50.099294 139750346217216 tf_logging.py:115] Scale of 0 disables regularizer.\n"
     ]
    },
    {
     "name": "stdout",
     "output_type": "stream",
     "text": [
      "INFO:tensorflow:Scale of 0 disables regularizer.\n"
     ]
    },
    {
     "name": "stderr",
     "output_type": "stream",
     "text": [
      "I0110 22:43:52.500681 139750346217216 tf_logging.py:115] Scale of 0 disables regularizer.\n"
     ]
    },
    {
     "name": "stdout",
     "output_type": "stream",
     "text": [
      "INFO:tensorflow:Scale of 0 disables regularizer.\n"
     ]
    },
    {
     "name": "stderr",
     "output_type": "stream",
     "text": [
      "I0110 22:43:54.993644 139750346217216 tf_logging.py:115] Scale of 0 disables regularizer.\n"
     ]
    },
    {
     "name": "stdout",
     "output_type": "stream",
     "text": [
      "INFO:tensorflow:Scale of 0 disables regularizer.\n"
     ]
    },
    {
     "name": "stderr",
     "output_type": "stream",
     "text": [
      "I0110 22:43:57.451455 139750346217216 tf_logging.py:115] Scale of 0 disables regularizer.\n"
     ]
    },
    {
     "name": "stdout",
     "output_type": "stream",
     "text": [
      "INFO:tensorflow:Scale of 0 disables regularizer.\n"
     ]
    },
    {
     "name": "stderr",
     "output_type": "stream",
     "text": [
      "I0110 22:43:59.894548 139750346217216 tf_logging.py:115] Scale of 0 disables regularizer.\n"
     ]
    },
    {
     "name": "stdout",
     "output_type": "stream",
     "text": [
      "INFO:tensorflow:Scale of 0 disables regularizer.\n"
     ]
    },
    {
     "name": "stderr",
     "output_type": "stream",
     "text": [
      "I0110 22:44:02.356518 139750346217216 tf_logging.py:115] Scale of 0 disables regularizer.\n"
     ]
    },
    {
     "name": "stdout",
     "output_type": "stream",
     "text": [
      "INFO:tensorflow:Scale of 0 disables regularizer.\n"
     ]
    },
    {
     "name": "stderr",
     "output_type": "stream",
     "text": [
      "I0110 22:44:04.752100 139750346217216 tf_logging.py:115] Scale of 0 disables regularizer.\n"
     ]
    },
    {
     "name": "stdout",
     "output_type": "stream",
     "text": [
      "INFO:tensorflow:Scale of 0 disables regularizer.\n"
     ]
    },
    {
     "name": "stderr",
     "output_type": "stream",
     "text": [
      "I0110 22:44:07.204295 139750346217216 tf_logging.py:115] Scale of 0 disables regularizer.\n"
     ]
    },
    {
     "name": "stdout",
     "output_type": "stream",
     "text": [
      "INFO:tensorflow:Scale of 0 disables regularizer.\n"
     ]
    },
    {
     "name": "stderr",
     "output_type": "stream",
     "text": [
      "I0110 22:44:09.648350 139750346217216 tf_logging.py:115] Scale of 0 disables regularizer.\n"
     ]
    },
    {
     "name": "stdout",
     "output_type": "stream",
     "text": [
      "INFO:tensorflow:Scale of 0 disables regularizer.\n"
     ]
    },
    {
     "name": "stderr",
     "output_type": "stream",
     "text": [
      "I0110 22:44:12.101644 139750346217216 tf_logging.py:115] Scale of 0 disables regularizer.\n"
     ]
    },
    {
     "name": "stdout",
     "output_type": "stream",
     "text": [
      "INFO:tensorflow:Scale of 0 disables regularizer.\n"
     ]
    },
    {
     "name": "stderr",
     "output_type": "stream",
     "text": [
      "I0110 22:44:14.502861 139750346217216 tf_logging.py:115] Scale of 0 disables regularizer.\n"
     ]
    },
    {
     "name": "stdout",
     "output_type": "stream",
     "text": [
      "INFO:tensorflow:Scale of 0 disables regularizer.\n"
     ]
    },
    {
     "name": "stderr",
     "output_type": "stream",
     "text": [
      "I0110 22:44:16.952321 139750346217216 tf_logging.py:115] Scale of 0 disables regularizer.\n"
     ]
    },
    {
     "name": "stdout",
     "output_type": "stream",
     "text": [
      "INFO:tensorflow:Scale of 0 disables regularizer.\n"
     ]
    },
    {
     "name": "stderr",
     "output_type": "stream",
     "text": [
      "I0110 22:44:19.465178 139750346217216 tf_logging.py:115] Scale of 0 disables regularizer.\n"
     ]
    },
    {
     "name": "stdout",
     "output_type": "stream",
     "text": [
      "INFO:tensorflow:Scale of 0 disables regularizer.\n"
     ]
    },
    {
     "name": "stderr",
     "output_type": "stream",
     "text": [
      "I0110 22:44:21.912711 139750346217216 tf_logging.py:115] Scale of 0 disables regularizer.\n"
     ]
    },
    {
     "name": "stdout",
     "output_type": "stream",
     "text": [
      "INFO:tensorflow:Scale of 0 disables regularizer.\n"
     ]
    },
    {
     "name": "stderr",
     "output_type": "stream",
     "text": [
      "I0110 22:44:24.367457 139750346217216 tf_logging.py:115] Scale of 0 disables regularizer.\n"
     ]
    },
    {
     "name": "stdout",
     "output_type": "stream",
     "text": [
      "INFO:tensorflow:Scale of 0 disables regularizer.\n"
     ]
    },
    {
     "name": "stderr",
     "output_type": "stream",
     "text": [
      "I0110 22:44:26.748552 139750346217216 tf_logging.py:115] Scale of 0 disables regularizer.\n"
     ]
    },
    {
     "name": "stdout",
     "output_type": "stream",
     "text": [
      "INFO:tensorflow:Scale of 0 disables regularizer.\n"
     ]
    },
    {
     "name": "stderr",
     "output_type": "stream",
     "text": [
      "I0110 22:44:29.193519 139750346217216 tf_logging.py:115] Scale of 0 disables regularizer.\n"
     ]
    },
    {
     "name": "stdout",
     "output_type": "stream",
     "text": [
      "INFO:tensorflow:Scale of 0 disables regularizer.\n"
     ]
    },
    {
     "name": "stderr",
     "output_type": "stream",
     "text": [
      "I0110 22:44:31.632667 139750346217216 tf_logging.py:115] Scale of 0 disables regularizer.\n"
     ]
    },
    {
     "name": "stdout",
     "output_type": "stream",
     "text": [
      "INFO:tensorflow:Scale of 0 disables regularizer.\n"
     ]
    },
    {
     "name": "stderr",
     "output_type": "stream",
     "text": [
      "I0110 22:44:34.090616 139750346217216 tf_logging.py:115] Scale of 0 disables regularizer.\n"
     ]
    },
    {
     "name": "stdout",
     "output_type": "stream",
     "text": [
      "INFO:tensorflow:Scale of 0 disables regularizer.\n"
     ]
    },
    {
     "name": "stderr",
     "output_type": "stream",
     "text": [
      "I0110 22:44:36.477493 139750346217216 tf_logging.py:115] Scale of 0 disables regularizer.\n"
     ]
    },
    {
     "name": "stdout",
     "output_type": "stream",
     "text": [
      "INFO:tensorflow:Scale of 0 disables regularizer.\n"
     ]
    },
    {
     "name": "stderr",
     "output_type": "stream",
     "text": [
      "I0110 22:44:38.943296 139750346217216 tf_logging.py:115] Scale of 0 disables regularizer.\n"
     ]
    },
    {
     "name": "stdout",
     "output_type": "stream",
     "text": [
      "INFO:tensorflow:Scale of 0 disables regularizer.\n"
     ]
    },
    {
     "name": "stderr",
     "output_type": "stream",
     "text": [
      "I0110 22:44:41.412333 139750346217216 tf_logging.py:115] Scale of 0 disables regularizer.\n"
     ]
    },
    {
     "name": "stdout",
     "output_type": "stream",
     "text": [
      "INFO:tensorflow:Scale of 0 disables regularizer.\n"
     ]
    },
    {
     "name": "stderr",
     "output_type": "stream",
     "text": [
      "I0110 22:44:43.868924 139750346217216 tf_logging.py:115] Scale of 0 disables regularizer.\n"
     ]
    },
    {
     "name": "stdout",
     "output_type": "stream",
     "text": [
      "INFO:tensorflow:Scale of 0 disables regularizer.\n"
     ]
    },
    {
     "name": "stderr",
     "output_type": "stream",
     "text": [
      "I0110 22:44:46.263246 139750346217216 tf_logging.py:115] Scale of 0 disables regularizer.\n"
     ]
    },
    {
     "name": "stdout",
     "output_type": "stream",
     "text": [
      "INFO:tensorflow:Scale of 0 disables regularizer.\n"
     ]
    },
    {
     "name": "stderr",
     "output_type": "stream",
     "text": [
      "I0110 22:44:48.719421 139750346217216 tf_logging.py:115] Scale of 0 disables regularizer.\n"
     ]
    },
    {
     "name": "stdout",
     "output_type": "stream",
     "text": [
      "INFO:tensorflow:Scale of 0 disables regularizer.\n"
     ]
    },
    {
     "name": "stderr",
     "output_type": "stream",
     "text": [
      "I0110 22:44:51.169602 139750346217216 tf_logging.py:115] Scale of 0 disables regularizer.\n"
     ]
    },
    {
     "name": "stdout",
     "output_type": "stream",
     "text": [
      "INFO:tensorflow:Scale of 0 disables regularizer.\n"
     ]
    },
    {
     "name": "stderr",
     "output_type": "stream",
     "text": [
      "I0110 22:44:53.619690 139750346217216 tf_logging.py:115] Scale of 0 disables regularizer.\n"
     ]
    },
    {
     "name": "stdout",
     "output_type": "stream",
     "text": [
      "INFO:tensorflow:Scale of 0 disables regularizer.\n"
     ]
    },
    {
     "name": "stderr",
     "output_type": "stream",
     "text": [
      "I0110 22:44:56.093106 139750346217216 tf_logging.py:115] Scale of 0 disables regularizer.\n"
     ]
    },
    {
     "name": "stdout",
     "output_type": "stream",
     "text": [
      "INFO:tensorflow:Scale of 0 disables regularizer.\n"
     ]
    },
    {
     "name": "stderr",
     "output_type": "stream",
     "text": [
      "I0110 22:44:58.488414 139750346217216 tf_logging.py:115] Scale of 0 disables regularizer.\n"
     ]
    },
    {
     "name": "stdout",
     "output_type": "stream",
     "text": [
      "INFO:tensorflow:Scale of 0 disables regularizer.\n"
     ]
    },
    {
     "name": "stderr",
     "output_type": "stream",
     "text": [
      "I0110 22:45:00.943541 139750346217216 tf_logging.py:115] Scale of 0 disables regularizer.\n"
     ]
    },
    {
     "name": "stdout",
     "output_type": "stream",
     "text": [
      "INFO:tensorflow:Scale of 0 disables regularizer.\n"
     ]
    },
    {
     "name": "stderr",
     "output_type": "stream",
     "text": [
      "I0110 22:45:03.385088 139750346217216 tf_logging.py:115] Scale of 0 disables regularizer.\n"
     ]
    },
    {
     "name": "stdout",
     "output_type": "stream",
     "text": [
      "INFO:tensorflow:Scale of 0 disables regularizer.\n"
     ]
    },
    {
     "name": "stderr",
     "output_type": "stream",
     "text": [
      "I0110 22:45:05.856685 139750346217216 tf_logging.py:115] Scale of 0 disables regularizer.\n"
     ]
    },
    {
     "name": "stdout",
     "output_type": "stream",
     "text": [
      "INFO:tensorflow:Scale of 0 disables regularizer.\n"
     ]
    },
    {
     "name": "stderr",
     "output_type": "stream",
     "text": [
      "I0110 22:45:08.259813 139750346217216 tf_logging.py:115] Scale of 0 disables regularizer.\n"
     ]
    },
    {
     "name": "stdout",
     "output_type": "stream",
     "text": [
      "INFO:tensorflow:Scale of 0 disables regularizer.\n"
     ]
    },
    {
     "name": "stderr",
     "output_type": "stream",
     "text": [
      "I0110 22:45:10.719389 139750346217216 tf_logging.py:115] Scale of 0 disables regularizer.\n"
     ]
    },
    {
     "name": "stdout",
     "output_type": "stream",
     "text": [
      "INFO:tensorflow:Scale of 0 disables regularizer.\n"
     ]
    },
    {
     "name": "stderr",
     "output_type": "stream",
     "text": [
      "I0110 22:45:13.160219 139750346217216 tf_logging.py:115] Scale of 0 disables regularizer.\n"
     ]
    },
    {
     "name": "stdout",
     "output_type": "stream",
     "text": [
      "INFO:tensorflow:Scale of 0 disables regularizer.\n"
     ]
    },
    {
     "name": "stderr",
     "output_type": "stream",
     "text": [
      "I0110 22:45:15.641493 139750346217216 tf_logging.py:115] Scale of 0 disables regularizer.\n"
     ]
    },
    {
     "name": "stdout",
     "output_type": "stream",
     "text": [
      "INFO:tensorflow:Scale of 0 disables regularizer.\n"
     ]
    },
    {
     "name": "stderr",
     "output_type": "stream",
     "text": [
      "I0110 22:45:18.121025 139750346217216 tf_logging.py:115] Scale of 0 disables regularizer.\n"
     ]
    },
    {
     "name": "stdout",
     "output_type": "stream",
     "text": [
      "INFO:tensorflow:Scale of 0 disables regularizer.\n"
     ]
    },
    {
     "name": "stderr",
     "output_type": "stream",
     "text": [
      "I0110 22:45:20.527560 139750346217216 tf_logging.py:115] Scale of 0 disables regularizer.\n"
     ]
    },
    {
     "name": "stdout",
     "output_type": "stream",
     "text": [
      "INFO:tensorflow:Scale of 0 disables regularizer.\n"
     ]
    },
    {
     "name": "stderr",
     "output_type": "stream",
     "text": [
      "I0110 22:45:22.971988 139750346217216 tf_logging.py:115] Scale of 0 disables regularizer.\n"
     ]
    },
    {
     "name": "stdout",
     "output_type": "stream",
     "text": [
      "INFO:tensorflow:Scale of 0 disables regularizer.\n"
     ]
    },
    {
     "name": "stderr",
     "output_type": "stream",
     "text": [
      "I0110 22:45:25.509490 139750346217216 tf_logging.py:115] Scale of 0 disables regularizer.\n"
     ]
    },
    {
     "name": "stdout",
     "output_type": "stream",
     "text": [
      "INFO:tensorflow:Scale of 0 disables regularizer.\n"
     ]
    },
    {
     "name": "stderr",
     "output_type": "stream",
     "text": [
      "I0110 22:45:28.016624 139750346217216 tf_logging.py:115] Scale of 0 disables regularizer.\n"
     ]
    },
    {
     "name": "stdout",
     "output_type": "stream",
     "text": [
      "INFO:tensorflow:Scale of 0 disables regularizer.\n"
     ]
    },
    {
     "name": "stderr",
     "output_type": "stream",
     "text": [
      "I0110 22:45:30.410491 139750346217216 tf_logging.py:115] Scale of 0 disables regularizer.\n"
     ]
    },
    {
     "name": "stdout",
     "output_type": "stream",
     "text": [
      "INFO:tensorflow:Scale of 0 disables regularizer.\n"
     ]
    },
    {
     "name": "stderr",
     "output_type": "stream",
     "text": [
      "I0110 22:45:32.857461 139750346217216 tf_logging.py:115] Scale of 0 disables regularizer.\n"
     ]
    },
    {
     "name": "stdout",
     "output_type": "stream",
     "text": [
      "INFO:tensorflow:Scale of 0 disables regularizer.\n"
     ]
    },
    {
     "name": "stderr",
     "output_type": "stream",
     "text": [
      "I0110 22:45:35.307258 139750346217216 tf_logging.py:115] Scale of 0 disables regularizer.\n"
     ]
    },
    {
     "name": "stdout",
     "output_type": "stream",
     "text": [
      "INFO:tensorflow:Scale of 0 disables regularizer.\n"
     ]
    },
    {
     "name": "stderr",
     "output_type": "stream",
     "text": [
      "I0110 22:45:37.783626 139750346217216 tf_logging.py:115] Scale of 0 disables regularizer.\n"
     ]
    },
    {
     "name": "stdout",
     "output_type": "stream",
     "text": [
      "INFO:tensorflow:Scale of 0 disables regularizer.\n"
     ]
    },
    {
     "name": "stderr",
     "output_type": "stream",
     "text": [
      "I0110 22:45:40.167813 139750346217216 tf_logging.py:115] Scale of 0 disables regularizer.\n"
     ]
    },
    {
     "name": "stdout",
     "output_type": "stream",
     "text": [
      "INFO:tensorflow:Scale of 0 disables regularizer.\n"
     ]
    },
    {
     "name": "stderr",
     "output_type": "stream",
     "text": [
      "I0110 22:45:42.652187 139750346217216 tf_logging.py:115] Scale of 0 disables regularizer.\n"
     ]
    },
    {
     "name": "stdout",
     "output_type": "stream",
     "text": [
      "INFO:tensorflow:Scale of 0 disables regularizer.\n"
     ]
    },
    {
     "name": "stderr",
     "output_type": "stream",
     "text": [
      "I0110 22:45:45.089743 139750346217216 tf_logging.py:115] Scale of 0 disables regularizer.\n"
     ]
    },
    {
     "name": "stdout",
     "output_type": "stream",
     "text": [
      "INFO:tensorflow:Scale of 0 disables regularizer.\n"
     ]
    },
    {
     "name": "stderr",
     "output_type": "stream",
     "text": [
      "I0110 22:45:47.544771 139750346217216 tf_logging.py:115] Scale of 0 disables regularizer.\n"
     ]
    },
    {
     "name": "stdout",
     "output_type": "stream",
     "text": [
      "INFO:tensorflow:Scale of 0 disables regularizer.\n"
     ]
    },
    {
     "name": "stderr",
     "output_type": "stream",
     "text": [
      "I0110 22:45:50.011522 139750346217216 tf_logging.py:115] Scale of 0 disables regularizer.\n"
     ]
    },
    {
     "name": "stdout",
     "output_type": "stream",
     "text": [
      "INFO:tensorflow:Scale of 0 disables regularizer.\n"
     ]
    },
    {
     "name": "stderr",
     "output_type": "stream",
     "text": [
      "I0110 22:45:52.399839 139750346217216 tf_logging.py:115] Scale of 0 disables regularizer.\n"
     ]
    },
    {
     "name": "stdout",
     "output_type": "stream",
     "text": [
      "INFO:tensorflow:Scale of 0 disables regularizer.\n"
     ]
    },
    {
     "name": "stderr",
     "output_type": "stream",
     "text": [
      "I0110 22:45:54.845231 139750346217216 tf_logging.py:115] Scale of 0 disables regularizer.\n"
     ]
    },
    {
     "name": "stdout",
     "output_type": "stream",
     "text": [
      "INFO:tensorflow:Scale of 0 disables regularizer.\n"
     ]
    },
    {
     "name": "stderr",
     "output_type": "stream",
     "text": [
      "I0110 22:45:57.294688 139750346217216 tf_logging.py:115] Scale of 0 disables regularizer.\n"
     ]
    },
    {
     "name": "stdout",
     "output_type": "stream",
     "text": [
      "INFO:tensorflow:Scale of 0 disables regularizer.\n"
     ]
    },
    {
     "name": "stderr",
     "output_type": "stream",
     "text": [
      "I0110 22:45:59.744772 139750346217216 tf_logging.py:115] Scale of 0 disables regularizer.\n"
     ]
    },
    {
     "name": "stdout",
     "output_type": "stream",
     "text": [
      "INFO:tensorflow:Scale of 0 disables regularizer.\n"
     ]
    },
    {
     "name": "stderr",
     "output_type": "stream",
     "text": [
      "I0110 22:46:02.137387 139750346217216 tf_logging.py:115] Scale of 0 disables regularizer.\n"
     ]
    },
    {
     "name": "stdout",
     "output_type": "stream",
     "text": [
      "INFO:tensorflow:Scale of 0 disables regularizer.\n"
     ]
    },
    {
     "name": "stderr",
     "output_type": "stream",
     "text": [
      "I0110 22:46:04.577522 139750346217216 tf_logging.py:115] Scale of 0 disables regularizer.\n"
     ]
    },
    {
     "name": "stdout",
     "output_type": "stream",
     "text": [
      "INFO:tensorflow:Scale of 0 disables regularizer.\n"
     ]
    },
    {
     "name": "stderr",
     "output_type": "stream",
     "text": [
      "I0110 22:46:07.022530 139750346217216 tf_logging.py:115] Scale of 0 disables regularizer.\n"
     ]
    },
    {
     "name": "stdout",
     "output_type": "stream",
     "text": [
      "INFO:tensorflow:Scale of 0 disables regularizer.\n"
     ]
    },
    {
     "name": "stderr",
     "output_type": "stream",
     "text": [
      "I0110 22:46:09.467665 139750346217216 tf_logging.py:115] Scale of 0 disables regularizer.\n"
     ]
    },
    {
     "name": "stdout",
     "output_type": "stream",
     "text": [
      "INFO:tensorflow:Scale of 0 disables regularizer.\n"
     ]
    },
    {
     "name": "stderr",
     "output_type": "stream",
     "text": [
      "I0110 22:46:11.940225 139750346217216 tf_logging.py:115] Scale of 0 disables regularizer.\n"
     ]
    },
    {
     "name": "stdout",
     "output_type": "stream",
     "text": [
      "INFO:tensorflow:Scale of 0 disables regularizer.\n"
     ]
    },
    {
     "name": "stderr",
     "output_type": "stream",
     "text": [
      "I0110 22:46:14.322596 139750346217216 tf_logging.py:115] Scale of 0 disables regularizer.\n"
     ]
    },
    {
     "name": "stdout",
     "output_type": "stream",
     "text": [
      "INFO:tensorflow:Scale of 0 disables regularizer.\n"
     ]
    },
    {
     "name": "stderr",
     "output_type": "stream",
     "text": [
      "I0110 22:46:16.799541 139750346217216 tf_logging.py:115] Scale of 0 disables regularizer.\n"
     ]
    },
    {
     "name": "stdout",
     "output_type": "stream",
     "text": [
      "INFO:tensorflow:Scale of 0 disables regularizer.\n"
     ]
    },
    {
     "name": "stderr",
     "output_type": "stream",
     "text": [
      "I0110 22:46:19.235121 139750346217216 tf_logging.py:115] Scale of 0 disables regularizer.\n"
     ]
    },
    {
     "name": "stdout",
     "output_type": "stream",
     "text": [
      "INFO:tensorflow:Scale of 0 disables regularizer.\n"
     ]
    },
    {
     "name": "stderr",
     "output_type": "stream",
     "text": [
      "I0110 22:46:21.693650 139750346217216 tf_logging.py:115] Scale of 0 disables regularizer.\n"
     ]
    },
    {
     "name": "stdout",
     "output_type": "stream",
     "text": [
      "INFO:tensorflow:Scale of 0 disables regularizer.\n"
     ]
    },
    {
     "name": "stderr",
     "output_type": "stream",
     "text": [
      "I0110 22:46:24.094030 139750346217216 tf_logging.py:115] Scale of 0 disables regularizer.\n"
     ]
    },
    {
     "name": "stdout",
     "output_type": "stream",
     "text": [
      "INFO:tensorflow:Scale of 0 disables regularizer.\n"
     ]
    },
    {
     "name": "stderr",
     "output_type": "stream",
     "text": [
      "I0110 22:46:26.553875 139750346217216 tf_logging.py:115] Scale of 0 disables regularizer.\n"
     ]
    },
    {
     "name": "stdout",
     "output_type": "stream",
     "text": [
      "INFO:tensorflow:Scale of 0 disables regularizer.\n"
     ]
    },
    {
     "name": "stderr",
     "output_type": "stream",
     "text": [
      "I0110 22:46:29.051554 139750346217216 tf_logging.py:115] Scale of 0 disables regularizer.\n"
     ]
    },
    {
     "name": "stdout",
     "output_type": "stream",
     "text": [
      "INFO:tensorflow:Scale of 0 disables regularizer.\n"
     ]
    },
    {
     "name": "stderr",
     "output_type": "stream",
     "text": [
      "I0110 22:46:31.530901 139750346217216 tf_logging.py:115] Scale of 0 disables regularizer.\n"
     ]
    },
    {
     "name": "stdout",
     "output_type": "stream",
     "text": [
      "INFO:tensorflow:Scale of 0 disables regularizer.\n"
     ]
    },
    {
     "name": "stderr",
     "output_type": "stream",
     "text": [
      "I0110 22:46:33.925122 139750346217216 tf_logging.py:115] Scale of 0 disables regularizer.\n"
     ]
    },
    {
     "name": "stdout",
     "output_type": "stream",
     "text": [
      "INFO:tensorflow:Scale of 0 disables regularizer.\n"
     ]
    },
    {
     "name": "stderr",
     "output_type": "stream",
     "text": [
      "I0110 22:46:36.368180 139750346217216 tf_logging.py:115] Scale of 0 disables regularizer.\n"
     ]
    },
    {
     "name": "stdout",
     "output_type": "stream",
     "text": [
      "INFO:tensorflow:Scale of 0 disables regularizer.\n"
     ]
    },
    {
     "name": "stderr",
     "output_type": "stream",
     "text": [
      "I0110 22:46:38.821014 139750346217216 tf_logging.py:115] Scale of 0 disables regularizer.\n"
     ]
    },
    {
     "name": "stdout",
     "output_type": "stream",
     "text": [
      "INFO:tensorflow:Scale of 0 disables regularizer.\n"
     ]
    },
    {
     "name": "stderr",
     "output_type": "stream",
     "text": [
      "I0110 22:46:41.269688 139750346217216 tf_logging.py:115] Scale of 0 disables regularizer.\n"
     ]
    },
    {
     "name": "stdout",
     "output_type": "stream",
     "text": [
      "INFO:tensorflow:Scale of 0 disables regularizer.\n"
     ]
    },
    {
     "name": "stderr",
     "output_type": "stream",
     "text": [
      "I0110 22:46:43.732284 139750346217216 tf_logging.py:115] Scale of 0 disables regularizer.\n"
     ]
    },
    {
     "name": "stdout",
     "output_type": "stream",
     "text": [
      "INFO:tensorflow:Scale of 0 disables regularizer.\n"
     ]
    },
    {
     "name": "stderr",
     "output_type": "stream",
     "text": [
      "I0110 22:46:46.119037 139750346217216 tf_logging.py:115] Scale of 0 disables regularizer.\n"
     ]
    },
    {
     "name": "stdout",
     "output_type": "stream",
     "text": [
      "INFO:tensorflow:Scale of 0 disables regularizer.\n"
     ]
    },
    {
     "name": "stderr",
     "output_type": "stream",
     "text": [
      "I0110 22:46:48.574719 139750346217216 tf_logging.py:115] Scale of 0 disables regularizer.\n"
     ]
    },
    {
     "name": "stdout",
     "output_type": "stream",
     "text": [
      "INFO:tensorflow:Scale of 0 disables regularizer.\n"
     ]
    },
    {
     "name": "stderr",
     "output_type": "stream",
     "text": [
      "I0110 22:46:51.018188 139750346217216 tf_logging.py:115] Scale of 0 disables regularizer.\n"
     ]
    },
    {
     "name": "stdout",
     "output_type": "stream",
     "text": [
      "INFO:tensorflow:Scale of 0 disables regularizer.\n"
     ]
    },
    {
     "name": "stderr",
     "output_type": "stream",
     "text": [
      "I0110 22:46:53.478022 139750346217216 tf_logging.py:115] Scale of 0 disables regularizer.\n"
     ]
    },
    {
     "name": "stdout",
     "output_type": "stream",
     "text": [
      "INFO:tensorflow:Scale of 0 disables regularizer.\n"
     ]
    },
    {
     "name": "stderr",
     "output_type": "stream",
     "text": [
      "I0110 22:46:55.887373 139750346217216 tf_logging.py:115] Scale of 0 disables regularizer.\n"
     ]
    },
    {
     "name": "stdout",
     "output_type": "stream",
     "text": [
      "INFO:tensorflow:Scale of 0 disables regularizer.\n"
     ]
    },
    {
     "name": "stderr",
     "output_type": "stream",
     "text": [
      "I0110 22:46:58.352886 139750346217216 tf_logging.py:115] Scale of 0 disables regularizer.\n"
     ]
    },
    {
     "name": "stdout",
     "output_type": "stream",
     "text": [
      "INFO:tensorflow:Scale of 0 disables regularizer.\n"
     ]
    },
    {
     "name": "stderr",
     "output_type": "stream",
     "text": [
      "I0110 22:47:00.803180 139750346217216 tf_logging.py:115] Scale of 0 disables regularizer.\n"
     ]
    },
    {
     "name": "stdout",
     "output_type": "stream",
     "text": [
      "INFO:tensorflow:Scale of 0 disables regularizer.\n"
     ]
    },
    {
     "name": "stderr",
     "output_type": "stream",
     "text": [
      "I0110 22:47:03.257206 139750346217216 tf_logging.py:115] Scale of 0 disables regularizer.\n"
     ]
    },
    {
     "name": "stdout",
     "output_type": "stream",
     "text": [
      "INFO:tensorflow:Scale of 0 disables regularizer.\n"
     ]
    },
    {
     "name": "stderr",
     "output_type": "stream",
     "text": [
      "I0110 22:47:05.719415 139750346217216 tf_logging.py:115] Scale of 0 disables regularizer.\n"
     ]
    },
    {
     "name": "stdout",
     "output_type": "stream",
     "text": [
      "INFO:tensorflow:Scale of 0 disables regularizer.\n"
     ]
    },
    {
     "name": "stderr",
     "output_type": "stream",
     "text": [
      "I0110 22:47:08.123114 139750346217216 tf_logging.py:115] Scale of 0 disables regularizer.\n"
     ]
    },
    {
     "name": "stdout",
     "output_type": "stream",
     "text": [
      "INFO:tensorflow:Scale of 0 disables regularizer.\n"
     ]
    },
    {
     "name": "stderr",
     "output_type": "stream",
     "text": [
      "I0110 22:47:10.564646 139750346217216 tf_logging.py:115] Scale of 0 disables regularizer.\n"
     ]
    },
    {
     "name": "stdout",
     "output_type": "stream",
     "text": [
      "INFO:tensorflow:Scale of 0 disables regularizer.\n"
     ]
    },
    {
     "name": "stderr",
     "output_type": "stream",
     "text": [
      "I0110 22:47:13.021708 139750346217216 tf_logging.py:115] Scale of 0 disables regularizer.\n"
     ]
    },
    {
     "name": "stdout",
     "output_type": "stream",
     "text": [
      "INFO:tensorflow:Scale of 0 disables regularizer.\n"
     ]
    },
    {
     "name": "stderr",
     "output_type": "stream",
     "text": [
      "I0110 22:47:15.479327 139750346217216 tf_logging.py:115] Scale of 0 disables regularizer.\n"
     ]
    },
    {
     "name": "stdout",
     "output_type": "stream",
     "text": [
      "INFO:tensorflow:Scale of 0 disables regularizer.\n"
     ]
    },
    {
     "name": "stderr",
     "output_type": "stream",
     "text": [
      "I0110 22:47:17.865625 139750346217216 tf_logging.py:115] Scale of 0 disables regularizer.\n"
     ]
    },
    {
     "name": "stdout",
     "output_type": "stream",
     "text": [
      "INFO:tensorflow:Scale of 0 disables regularizer.\n"
     ]
    },
    {
     "name": "stderr",
     "output_type": "stream",
     "text": [
      "I0110 22:47:20.303480 139750346217216 tf_logging.py:115] Scale of 0 disables regularizer.\n"
     ]
    },
    {
     "name": "stdout",
     "output_type": "stream",
     "text": [
      "INFO:tensorflow:Scale of 0 disables regularizer.\n"
     ]
    },
    {
     "name": "stderr",
     "output_type": "stream",
     "text": [
      "I0110 22:47:22.797288 139750346217216 tf_logging.py:115] Scale of 0 disables regularizer.\n"
     ]
    },
    {
     "name": "stdout",
     "output_type": "stream",
     "text": [
      "INFO:tensorflow:Scale of 0 disables regularizer.\n"
     ]
    },
    {
     "name": "stderr",
     "output_type": "stream",
     "text": [
      "I0110 22:47:25.257318 139750346217216 tf_logging.py:115] Scale of 0 disables regularizer.\n"
     ]
    },
    {
     "name": "stdout",
     "output_type": "stream",
     "text": [
      "INFO:tensorflow:Scale of 0 disables regularizer.\n"
     ]
    },
    {
     "name": "stderr",
     "output_type": "stream",
     "text": [
      "I0110 22:47:27.659451 139750346217216 tf_logging.py:115] Scale of 0 disables regularizer.\n"
     ]
    },
    {
     "name": "stdout",
     "output_type": "stream",
     "text": [
      "INFO:tensorflow:Scale of 0 disables regularizer.\n"
     ]
    },
    {
     "name": "stderr",
     "output_type": "stream",
     "text": [
      "I0110 22:47:30.106261 139750346217216 tf_logging.py:115] Scale of 0 disables regularizer.\n"
     ]
    },
    {
     "name": "stdout",
     "output_type": "stream",
     "text": [
      "INFO:tensorflow:Scale of 0 disables regularizer.\n"
     ]
    },
    {
     "name": "stderr",
     "output_type": "stream",
     "text": [
      "I0110 22:47:32.545206 139750346217216 tf_logging.py:115] Scale of 0 disables regularizer.\n"
     ]
    },
    {
     "name": "stdout",
     "output_type": "stream",
     "text": [
      "INFO:tensorflow:Scale of 0 disables regularizer.\n"
     ]
    },
    {
     "name": "stderr",
     "output_type": "stream",
     "text": [
      "I0110 22:47:34.997003 139750346217216 tf_logging.py:115] Scale of 0 disables regularizer.\n"
     ]
    },
    {
     "name": "stdout",
     "output_type": "stream",
     "text": [
      "INFO:tensorflow:Scale of 0 disables regularizer.\n"
     ]
    },
    {
     "name": "stderr",
     "output_type": "stream",
     "text": [
      "I0110 22:47:37.465547 139750346217216 tf_logging.py:115] Scale of 0 disables regularizer.\n"
     ]
    },
    {
     "name": "stdout",
     "output_type": "stream",
     "text": [
      "INFO:tensorflow:Scale of 0 disables regularizer.\n"
     ]
    },
    {
     "name": "stderr",
     "output_type": "stream",
     "text": [
      "I0110 22:47:39.867403 139750346217216 tf_logging.py:115] Scale of 0 disables regularizer.\n"
     ]
    },
    {
     "name": "stdout",
     "output_type": "stream",
     "text": [
      "INFO:tensorflow:Scale of 0 disables regularizer.\n"
     ]
    },
    {
     "name": "stderr",
     "output_type": "stream",
     "text": [
      "I0110 22:47:42.313352 139750346217216 tf_logging.py:115] Scale of 0 disables regularizer.\n"
     ]
    },
    {
     "name": "stdout",
     "output_type": "stream",
     "text": [
      "INFO:tensorflow:Scale of 0 disables regularizer.\n"
     ]
    },
    {
     "name": "stderr",
     "output_type": "stream",
     "text": [
      "I0110 22:47:44.859073 139750346217216 tf_logging.py:115] Scale of 0 disables regularizer.\n"
     ]
    },
    {
     "name": "stdout",
     "output_type": "stream",
     "text": [
      "INFO:tensorflow:Scale of 0 disables regularizer.\n"
     ]
    },
    {
     "name": "stderr",
     "output_type": "stream",
     "text": [
      "I0110 22:47:47.300816 139750346217216 tf_logging.py:115] Scale of 0 disables regularizer.\n"
     ]
    },
    {
     "name": "stdout",
     "output_type": "stream",
     "text": [
      "INFO:tensorflow:Scale of 0 disables regularizer.\n"
     ]
    },
    {
     "name": "stderr",
     "output_type": "stream",
     "text": [
      "I0110 22:47:49.678892 139750346217216 tf_logging.py:115] Scale of 0 disables regularizer.\n"
     ]
    },
    {
     "name": "stdout",
     "output_type": "stream",
     "text": [
      "INFO:tensorflow:Scale of 0 disables regularizer.\n"
     ]
    },
    {
     "name": "stderr",
     "output_type": "stream",
     "text": [
      "I0110 22:47:52.129543 139750346217216 tf_logging.py:115] Scale of 0 disables regularizer.\n"
     ]
    },
    {
     "name": "stdout",
     "output_type": "stream",
     "text": [
      "INFO:tensorflow:Scale of 0 disables regularizer.\n"
     ]
    },
    {
     "name": "stderr",
     "output_type": "stream",
     "text": [
      "I0110 22:47:54.588691 139750346217216 tf_logging.py:115] Scale of 0 disables regularizer.\n"
     ]
    },
    {
     "name": "stdout",
     "output_type": "stream",
     "text": [
      "INFO:tensorflow:Scale of 0 disables regularizer.\n"
     ]
    },
    {
     "name": "stderr",
     "output_type": "stream",
     "text": [
      "I0110 22:47:57.095120 139750346217216 tf_logging.py:115] Scale of 0 disables regularizer.\n"
     ]
    },
    {
     "name": "stdout",
     "output_type": "stream",
     "text": [
      "INFO:tensorflow:Scale of 0 disables regularizer.\n"
     ]
    },
    {
     "name": "stderr",
     "output_type": "stream",
     "text": [
      "I0110 22:47:59.561579 139750346217216 tf_logging.py:115] Scale of 0 disables regularizer.\n"
     ]
    },
    {
     "name": "stdout",
     "output_type": "stream",
     "text": [
      "INFO:tensorflow:Scale of 0 disables regularizer.\n"
     ]
    },
    {
     "name": "stderr",
     "output_type": "stream",
     "text": [
      "I0110 22:48:01.954573 139750346217216 tf_logging.py:115] Scale of 0 disables regularizer.\n"
     ]
    },
    {
     "name": "stdout",
     "output_type": "stream",
     "text": [
      "INFO:tensorflow:Scale of 0 disables regularizer.\n"
     ]
    },
    {
     "name": "stderr",
     "output_type": "stream",
     "text": [
      "I0110 22:48:04.413253 139750346217216 tf_logging.py:115] Scale of 0 disables regularizer.\n"
     ]
    },
    {
     "name": "stdout",
     "output_type": "stream",
     "text": [
      "INFO:tensorflow:Scale of 0 disables regularizer.\n"
     ]
    },
    {
     "name": "stderr",
     "output_type": "stream",
     "text": [
      "I0110 22:48:06.863375 139750346217216 tf_logging.py:115] Scale of 0 disables regularizer.\n"
     ]
    },
    {
     "name": "stdout",
     "output_type": "stream",
     "text": [
      "INFO:tensorflow:Scale of 0 disables regularizer.\n"
     ]
    },
    {
     "name": "stderr",
     "output_type": "stream",
     "text": [
      "I0110 22:48:09.318158 139750346217216 tf_logging.py:115] Scale of 0 disables regularizer.\n"
     ]
    },
    {
     "name": "stdout",
     "output_type": "stream",
     "text": [
      "INFO:tensorflow:Scale of 0 disables regularizer.\n"
     ]
    },
    {
     "name": "stderr",
     "output_type": "stream",
     "text": [
      "I0110 22:48:11.698825 139750346217216 tf_logging.py:115] Scale of 0 disables regularizer.\n"
     ]
    },
    {
     "name": "stdout",
     "output_type": "stream",
     "text": [
      "INFO:tensorflow:Scale of 0 disables regularizer.\n"
     ]
    },
    {
     "name": "stderr",
     "output_type": "stream",
     "text": [
      "I0110 22:48:14.136206 139750346217216 tf_logging.py:115] Scale of 0 disables regularizer.\n"
     ]
    },
    {
     "name": "stdout",
     "output_type": "stream",
     "text": [
      "INFO:tensorflow:Scale of 0 disables regularizer.\n"
     ]
    },
    {
     "name": "stderr",
     "output_type": "stream",
     "text": [
      "I0110 22:48:16.586572 139750346217216 tf_logging.py:115] Scale of 0 disables regularizer.\n"
     ]
    },
    {
     "name": "stdout",
     "output_type": "stream",
     "text": [
      "INFO:tensorflow:Scale of 0 disables regularizer.\n"
     ]
    },
    {
     "name": "stderr",
     "output_type": "stream",
     "text": [
      "I0110 22:48:19.054173 139750346217216 tf_logging.py:115] Scale of 0 disables regularizer.\n"
     ]
    },
    {
     "name": "stdout",
     "output_type": "stream",
     "text": [
      "INFO:tensorflow:Scale of 0 disables regularizer.\n"
     ]
    },
    {
     "name": "stderr",
     "output_type": "stream",
     "text": [
      "I0110 22:48:21.448591 139750346217216 tf_logging.py:115] Scale of 0 disables regularizer.\n"
     ]
    },
    {
     "name": "stdout",
     "output_type": "stream",
     "text": [
      "INFO:tensorflow:Scale of 0 disables regularizer.\n"
     ]
    },
    {
     "name": "stderr",
     "output_type": "stream",
     "text": [
      "I0110 22:48:23.887178 139750346217216 tf_logging.py:115] Scale of 0 disables regularizer.\n"
     ]
    },
    {
     "name": "stdout",
     "output_type": "stream",
     "text": [
      "INFO:tensorflow:Scale of 0 disables regularizer.\n"
     ]
    },
    {
     "name": "stderr",
     "output_type": "stream",
     "text": [
      "I0110 22:48:26.338139 139750346217216 tf_logging.py:115] Scale of 0 disables regularizer.\n"
     ]
    },
    {
     "name": "stdout",
     "output_type": "stream",
     "text": [
      "INFO:tensorflow:Scale of 0 disables regularizer.\n"
     ]
    },
    {
     "name": "stderr",
     "output_type": "stream",
     "text": [
      "I0110 22:48:28.789046 139750346217216 tf_logging.py:115] Scale of 0 disables regularizer.\n"
     ]
    },
    {
     "name": "stdout",
     "output_type": "stream",
     "text": [
      "INFO:tensorflow:Scale of 0 disables regularizer.\n"
     ]
    },
    {
     "name": "stderr",
     "output_type": "stream",
     "text": [
      "I0110 22:48:31.261388 139750346217216 tf_logging.py:115] Scale of 0 disables regularizer.\n"
     ]
    },
    {
     "name": "stdout",
     "output_type": "stream",
     "text": [
      "INFO:tensorflow:Scale of 0 disables regularizer.\n"
     ]
    },
    {
     "name": "stderr",
     "output_type": "stream",
     "text": [
      "I0110 22:48:33.657792 139750346217216 tf_logging.py:115] Scale of 0 disables regularizer.\n"
     ]
    },
    {
     "name": "stdout",
     "output_type": "stream",
     "text": [
      "INFO:tensorflow:Scale of 0 disables regularizer.\n"
     ]
    },
    {
     "name": "stderr",
     "output_type": "stream",
     "text": [
      "I0110 22:48:36.113360 139750346217216 tf_logging.py:115] Scale of 0 disables regularizer.\n"
     ]
    },
    {
     "name": "stdout",
     "output_type": "stream",
     "text": [
      "INFO:tensorflow:Scale of 0 disables regularizer.\n"
     ]
    },
    {
     "name": "stderr",
     "output_type": "stream",
     "text": [
      "I0110 22:48:38.560973 139750346217216 tf_logging.py:115] Scale of 0 disables regularizer.\n"
     ]
    },
    {
     "name": "stdout",
     "output_type": "stream",
     "text": [
      "INFO:tensorflow:Scale of 0 disables regularizer.\n"
     ]
    },
    {
     "name": "stderr",
     "output_type": "stream",
     "text": [
      "I0110 22:48:41.016253 139750346217216 tf_logging.py:115] Scale of 0 disables regularizer.\n"
     ]
    },
    {
     "name": "stdout",
     "output_type": "stream",
     "text": [
      "INFO:tensorflow:Scale of 0 disables regularizer.\n"
     ]
    },
    {
     "name": "stderr",
     "output_type": "stream",
     "text": [
      "I0110 22:48:43.407444 139750346217216 tf_logging.py:115] Scale of 0 disables regularizer.\n"
     ]
    },
    {
     "name": "stdout",
     "output_type": "stream",
     "text": [
      "INFO:tensorflow:Scale of 0 disables regularizer.\n"
     ]
    },
    {
     "name": "stderr",
     "output_type": "stream",
     "text": [
      "I0110 22:48:45.851523 139750346217216 tf_logging.py:115] Scale of 0 disables regularizer.\n"
     ]
    },
    {
     "name": "stdout",
     "output_type": "stream",
     "text": [
      "INFO:tensorflow:Scale of 0 disables regularizer.\n"
     ]
    },
    {
     "name": "stderr",
     "output_type": "stream",
     "text": [
      "I0110 22:48:48.292985 139750346217216 tf_logging.py:115] Scale of 0 disables regularizer.\n"
     ]
    },
    {
     "name": "stdout",
     "output_type": "stream",
     "text": [
      "INFO:tensorflow:Scale of 0 disables regularizer.\n"
     ]
    },
    {
     "name": "stderr",
     "output_type": "stream",
     "text": [
      "I0110 22:48:50.739479 139750346217216 tf_logging.py:115] Scale of 0 disables regularizer.\n"
     ]
    },
    {
     "name": "stdout",
     "output_type": "stream",
     "text": [
      "INFO:tensorflow:Scale of 0 disables regularizer.\n"
     ]
    },
    {
     "name": "stderr",
     "output_type": "stream",
     "text": [
      "I0110 22:48:53.190642 139750346217216 tf_logging.py:115] Scale of 0 disables regularizer.\n"
     ]
    },
    {
     "name": "stdout",
     "output_type": "stream",
     "text": [
      "INFO:tensorflow:Scale of 0 disables regularizer.\n"
     ]
    },
    {
     "name": "stderr",
     "output_type": "stream",
     "text": [
      "I0110 22:48:55.588209 139750346217216 tf_logging.py:115] Scale of 0 disables regularizer.\n"
     ]
    },
    {
     "name": "stdout",
     "output_type": "stream",
     "text": [
      "INFO:tensorflow:Scale of 0 disables regularizer.\n"
     ]
    },
    {
     "name": "stderr",
     "output_type": "stream",
     "text": [
      "I0110 22:48:58.024638 139750346217216 tf_logging.py:115] Scale of 0 disables regularizer.\n"
     ]
    },
    {
     "name": "stdout",
     "output_type": "stream",
     "text": [
      "INFO:tensorflow:Scale of 0 disables regularizer.\n"
     ]
    },
    {
     "name": "stderr",
     "output_type": "stream",
     "text": [
      "I0110 22:49:00.492058 139750346217216 tf_logging.py:115] Scale of 0 disables regularizer.\n"
     ]
    },
    {
     "name": "stdout",
     "output_type": "stream",
     "text": [
      "INFO:tensorflow:Scale of 0 disables regularizer.\n"
     ]
    },
    {
     "name": "stderr",
     "output_type": "stream",
     "text": [
      "I0110 22:49:03.066836 139750346217216 tf_logging.py:115] Scale of 0 disables regularizer.\n"
     ]
    },
    {
     "name": "stdout",
     "output_type": "stream",
     "text": [
      "INFO:tensorflow:Scale of 0 disables regularizer.\n"
     ]
    },
    {
     "name": "stderr",
     "output_type": "stream",
     "text": [
      "I0110 22:49:05.456752 139750346217216 tf_logging.py:115] Scale of 0 disables regularizer.\n"
     ]
    },
    {
     "name": "stdout",
     "output_type": "stream",
     "text": [
      "INFO:tensorflow:Scale of 0 disables regularizer.\n"
     ]
    },
    {
     "name": "stderr",
     "output_type": "stream",
     "text": [
      "I0110 22:49:07.899347 139750346217216 tf_logging.py:115] Scale of 0 disables regularizer.\n"
     ]
    },
    {
     "name": "stdout",
     "output_type": "stream",
     "text": [
      "INFO:tensorflow:Scale of 0 disables regularizer.\n"
     ]
    },
    {
     "name": "stderr",
     "output_type": "stream",
     "text": [
      "I0110 22:49:10.348861 139750346217216 tf_logging.py:115] Scale of 0 disables regularizer.\n"
     ]
    },
    {
     "name": "stdout",
     "output_type": "stream",
     "text": [
      "INFO:tensorflow:Scale of 0 disables regularizer.\n"
     ]
    },
    {
     "name": "stderr",
     "output_type": "stream",
     "text": [
      "I0110 22:49:12.802719 139750346217216 tf_logging.py:115] Scale of 0 disables regularizer.\n"
     ]
    },
    {
     "name": "stdout",
     "output_type": "stream",
     "text": [
      "INFO:tensorflow:Scale of 0 disables regularizer.\n"
     ]
    },
    {
     "name": "stderr",
     "output_type": "stream",
     "text": [
      "I0110 22:49:15.194014 139750346217216 tf_logging.py:115] Scale of 0 disables regularizer.\n"
     ]
    },
    {
     "name": "stdout",
     "output_type": "stream",
     "text": [
      "INFO:tensorflow:Scale of 0 disables regularizer.\n"
     ]
    },
    {
     "name": "stderr",
     "output_type": "stream",
     "text": [
      "I0110 22:49:17.645844 139750346217216 tf_logging.py:115] Scale of 0 disables regularizer.\n"
     ]
    },
    {
     "name": "stdout",
     "output_type": "stream",
     "text": [
      "INFO:tensorflow:Scale of 0 disables regularizer.\n"
     ]
    },
    {
     "name": "stderr",
     "output_type": "stream",
     "text": [
      "I0110 22:49:20.157779 139750346217216 tf_logging.py:115] Scale of 0 disables regularizer.\n"
     ]
    },
    {
     "name": "stdout",
     "output_type": "stream",
     "text": [
      "INFO:tensorflow:Scale of 0 disables regularizer.\n"
     ]
    },
    {
     "name": "stderr",
     "output_type": "stream",
     "text": [
      "I0110 22:49:22.605528 139750346217216 tf_logging.py:115] Scale of 0 disables regularizer.\n"
     ]
    },
    {
     "name": "stdout",
     "output_type": "stream",
     "text": [
      "INFO:tensorflow:Scale of 0 disables regularizer.\n"
     ]
    },
    {
     "name": "stderr",
     "output_type": "stream",
     "text": [
      "I0110 22:49:25.077565 139750346217216 tf_logging.py:115] Scale of 0 disables regularizer.\n"
     ]
    },
    {
     "name": "stdout",
     "output_type": "stream",
     "text": [
      "INFO:tensorflow:Scale of 0 disables regularizer.\n"
     ]
    },
    {
     "name": "stderr",
     "output_type": "stream",
     "text": [
      "I0110 22:49:27.466898 139750346217216 tf_logging.py:115] Scale of 0 disables regularizer.\n"
     ]
    },
    {
     "name": "stdout",
     "output_type": "stream",
     "text": [
      "INFO:tensorflow:Scale of 0 disables regularizer.\n"
     ]
    },
    {
     "name": "stderr",
     "output_type": "stream",
     "text": [
      "I0110 22:49:29.907699 139750346217216 tf_logging.py:115] Scale of 0 disables regularizer.\n"
     ]
    },
    {
     "name": "stdout",
     "output_type": "stream",
     "text": [
      "INFO:tensorflow:Scale of 0 disables regularizer.\n"
     ]
    },
    {
     "name": "stderr",
     "output_type": "stream",
     "text": [
      "I0110 22:49:32.363287 139750346217216 tf_logging.py:115] Scale of 0 disables regularizer.\n"
     ]
    },
    {
     "name": "stdout",
     "output_type": "stream",
     "text": [
      "INFO:tensorflow:Scale of 0 disables regularizer.\n"
     ]
    },
    {
     "name": "stderr",
     "output_type": "stream",
     "text": [
      "I0110 22:49:34.826129 139750346217216 tf_logging.py:115] Scale of 0 disables regularizer.\n"
     ]
    },
    {
     "name": "stdout",
     "output_type": "stream",
     "text": [
      "INFO:tensorflow:Scale of 0 disables regularizer.\n"
     ]
    },
    {
     "name": "stderr",
     "output_type": "stream",
     "text": [
      "I0110 22:49:37.238625 139750346217216 tf_logging.py:115] Scale of 0 disables regularizer.\n"
     ]
    },
    {
     "name": "stdout",
     "output_type": "stream",
     "text": [
      "INFO:tensorflow:Scale of 0 disables regularizer.\n"
     ]
    },
    {
     "name": "stderr",
     "output_type": "stream",
     "text": [
      "I0110 22:49:39.681463 139750346217216 tf_logging.py:115] Scale of 0 disables regularizer.\n"
     ]
    },
    {
     "name": "stdout",
     "output_type": "stream",
     "text": [
      "INFO:tensorflow:Scale of 0 disables regularizer.\n"
     ]
    },
    {
     "name": "stderr",
     "output_type": "stream",
     "text": [
      "I0110 22:49:42.142287 139750346217216 tf_logging.py:115] Scale of 0 disables regularizer.\n"
     ]
    },
    {
     "name": "stdout",
     "output_type": "stream",
     "text": [
      "INFO:tensorflow:Scale of 0 disables regularizer.\n"
     ]
    },
    {
     "name": "stderr",
     "output_type": "stream",
     "text": [
      "I0110 22:49:44.645341 139750346217216 tf_logging.py:115] Scale of 0 disables regularizer.\n"
     ]
    },
    {
     "name": "stdout",
     "output_type": "stream",
     "text": [
      "INFO:tensorflow:Scale of 0 disables regularizer.\n"
     ]
    },
    {
     "name": "stderr",
     "output_type": "stream",
     "text": [
      "I0110 22:49:47.113368 139750346217216 tf_logging.py:115] Scale of 0 disables regularizer.\n"
     ]
    },
    {
     "name": "stdout",
     "output_type": "stream",
     "text": [
      "INFO:tensorflow:Scale of 0 disables regularizer.\n"
     ]
    },
    {
     "name": "stderr",
     "output_type": "stream",
     "text": [
      "I0110 22:49:49.514574 139750346217216 tf_logging.py:115] Scale of 0 disables regularizer.\n"
     ]
    },
    {
     "name": "stdout",
     "output_type": "stream",
     "text": [
      "INFO:tensorflow:Scale of 0 disables regularizer.\n"
     ]
    },
    {
     "name": "stderr",
     "output_type": "stream",
     "text": [
      "I0110 22:49:51.996420 139750346217216 tf_logging.py:115] Scale of 0 disables regularizer.\n"
     ]
    },
    {
     "name": "stdout",
     "output_type": "stream",
     "text": [
      "INFO:tensorflow:Scale of 0 disables regularizer.\n"
     ]
    },
    {
     "name": "stderr",
     "output_type": "stream",
     "text": [
      "I0110 22:49:54.445676 139750346217216 tf_logging.py:115] Scale of 0 disables regularizer.\n"
     ]
    },
    {
     "name": "stdout",
     "output_type": "stream",
     "text": [
      "INFO:tensorflow:Scale of 0 disables regularizer.\n"
     ]
    },
    {
     "name": "stderr",
     "output_type": "stream",
     "text": [
      "I0110 22:49:56.964826 139750346217216 tf_logging.py:115] Scale of 0 disables regularizer.\n"
     ]
    },
    {
     "name": "stdout",
     "output_type": "stream",
     "text": [
      "INFO:tensorflow:Scale of 0 disables regularizer.\n"
     ]
    },
    {
     "name": "stderr",
     "output_type": "stream",
     "text": [
      "I0110 22:49:59.353386 139750346217216 tf_logging.py:115] Scale of 0 disables regularizer.\n"
     ]
    },
    {
     "name": "stdout",
     "output_type": "stream",
     "text": [
      "INFO:tensorflow:Scale of 0 disables regularizer.\n"
     ]
    },
    {
     "name": "stderr",
     "output_type": "stream",
     "text": [
      "I0110 22:50:01.836576 139750346217216 tf_logging.py:115] Scale of 0 disables regularizer.\n"
     ]
    },
    {
     "name": "stdout",
     "output_type": "stream",
     "text": [
      "INFO:tensorflow:Scale of 0 disables regularizer.\n"
     ]
    },
    {
     "name": "stderr",
     "output_type": "stream",
     "text": [
      "I0110 22:50:04.281940 139750346217216 tf_logging.py:115] Scale of 0 disables regularizer.\n"
     ]
    },
    {
     "name": "stdout",
     "output_type": "stream",
     "text": [
      "INFO:tensorflow:Scale of 0 disables regularizer.\n"
     ]
    },
    {
     "name": "stderr",
     "output_type": "stream",
     "text": [
      "I0110 22:50:06.734696 139750346217216 tf_logging.py:115] Scale of 0 disables regularizer.\n"
     ]
    },
    {
     "name": "stdout",
     "output_type": "stream",
     "text": [
      "INFO:tensorflow:Scale of 0 disables regularizer.\n"
     ]
    },
    {
     "name": "stderr",
     "output_type": "stream",
     "text": [
      "I0110 22:50:09.133007 139750346217216 tf_logging.py:115] Scale of 0 disables regularizer.\n"
     ]
    },
    {
     "name": "stdout",
     "output_type": "stream",
     "text": [
      "INFO:tensorflow:Scale of 0 disables regularizer.\n"
     ]
    },
    {
     "name": "stderr",
     "output_type": "stream",
     "text": [
      "I0110 22:50:11.587282 139750346217216 tf_logging.py:115] Scale of 0 disables regularizer.\n"
     ]
    },
    {
     "name": "stdout",
     "output_type": "stream",
     "text": [
      "INFO:tensorflow:Scale of 0 disables regularizer.\n"
     ]
    },
    {
     "name": "stderr",
     "output_type": "stream",
     "text": [
      "I0110 22:50:14.037493 139750346217216 tf_logging.py:115] Scale of 0 disables regularizer.\n"
     ]
    },
    {
     "name": "stdout",
     "output_type": "stream",
     "text": [
      "INFO:tensorflow:Scale of 0 disables regularizer.\n"
     ]
    },
    {
     "name": "stderr",
     "output_type": "stream",
     "text": [
      "I0110 22:50:16.489464 139750346217216 tf_logging.py:115] Scale of 0 disables regularizer.\n"
     ]
    },
    {
     "name": "stdout",
     "output_type": "stream",
     "text": [
      "INFO:tensorflow:Scale of 0 disables regularizer.\n"
     ]
    },
    {
     "name": "stderr",
     "output_type": "stream",
     "text": [
      "I0110 22:50:19.021827 139750346217216 tf_logging.py:115] Scale of 0 disables regularizer.\n"
     ]
    },
    {
     "name": "stdout",
     "output_type": "stream",
     "text": [
      "INFO:tensorflow:Scale of 0 disables regularizer.\n"
     ]
    },
    {
     "name": "stderr",
     "output_type": "stream",
     "text": [
      "I0110 22:50:21.405092 139750346217216 tf_logging.py:115] Scale of 0 disables regularizer.\n"
     ]
    },
    {
     "name": "stdout",
     "output_type": "stream",
     "text": [
      "INFO:tensorflow:Scale of 0 disables regularizer.\n"
     ]
    },
    {
     "name": "stderr",
     "output_type": "stream",
     "text": [
      "I0110 22:50:23.848266 139750346217216 tf_logging.py:115] Scale of 0 disables regularizer.\n"
     ]
    },
    {
     "name": "stdout",
     "output_type": "stream",
     "text": [
      "INFO:tensorflow:Scale of 0 disables regularizer.\n"
     ]
    },
    {
     "name": "stderr",
     "output_type": "stream",
     "text": [
      "I0110 22:50:26.292833 139750346217216 tf_logging.py:115] Scale of 0 disables regularizer.\n"
     ]
    },
    {
     "name": "stdout",
     "output_type": "stream",
     "text": [
      "INFO:tensorflow:Scale of 0 disables regularizer.\n"
     ]
    },
    {
     "name": "stderr",
     "output_type": "stream",
     "text": [
      "I0110 22:50:28.734345 139750346217216 tf_logging.py:115] Scale of 0 disables regularizer.\n"
     ]
    },
    {
     "name": "stdout",
     "output_type": "stream",
     "text": [
      "INFO:tensorflow:Scale of 0 disables regularizer.\n"
     ]
    },
    {
     "name": "stderr",
     "output_type": "stream",
     "text": [
      "I0110 22:50:31.148398 139750346217216 tf_logging.py:115] Scale of 0 disables regularizer.\n"
     ]
    },
    {
     "name": "stdout",
     "output_type": "stream",
     "text": [
      "INFO:tensorflow:Scale of 0 disables regularizer.\n"
     ]
    },
    {
     "name": "stderr",
     "output_type": "stream",
     "text": [
      "I0110 22:50:33.618639 139750346217216 tf_logging.py:115] Scale of 0 disables regularizer.\n"
     ]
    },
    {
     "name": "stdout",
     "output_type": "stream",
     "text": [
      "INFO:tensorflow:Scale of 0 disables regularizer.\n"
     ]
    },
    {
     "name": "stderr",
     "output_type": "stream",
     "text": [
      "I0110 22:50:36.063515 139750346217216 tf_logging.py:115] Scale of 0 disables regularizer.\n"
     ]
    },
    {
     "name": "stdout",
     "output_type": "stream",
     "text": [
      "INFO:tensorflow:Scale of 0 disables regularizer.\n"
     ]
    },
    {
     "name": "stderr",
     "output_type": "stream",
     "text": [
      "I0110 22:50:38.519619 139750346217216 tf_logging.py:115] Scale of 0 disables regularizer.\n"
     ]
    },
    {
     "name": "stdout",
     "output_type": "stream",
     "text": [
      "INFO:tensorflow:Scale of 0 disables regularizer.\n"
     ]
    },
    {
     "name": "stderr",
     "output_type": "stream",
     "text": [
      "I0110 22:50:40.969285 139750346217216 tf_logging.py:115] Scale of 0 disables regularizer.\n"
     ]
    },
    {
     "name": "stdout",
     "output_type": "stream",
     "text": [
      "INFO:tensorflow:Scale of 0 disables regularizer.\n"
     ]
    },
    {
     "name": "stderr",
     "output_type": "stream",
     "text": [
      "I0110 22:50:43.358140 139750346217216 tf_logging.py:115] Scale of 0 disables regularizer.\n"
     ]
    },
    {
     "name": "stdout",
     "output_type": "stream",
     "text": [
      "INFO:tensorflow:Scale of 0 disables regularizer.\n"
     ]
    },
    {
     "name": "stderr",
     "output_type": "stream",
     "text": [
      "I0110 22:50:45.796245 139750346217216 tf_logging.py:115] Scale of 0 disables regularizer.\n"
     ]
    },
    {
     "name": "stdout",
     "output_type": "stream",
     "text": [
      "INFO:tensorflow:Scale of 0 disables regularizer.\n"
     ]
    },
    {
     "name": "stderr",
     "output_type": "stream",
     "text": [
      "I0110 22:50:48.257920 139750346217216 tf_logging.py:115] Scale of 0 disables regularizer.\n"
     ]
    },
    {
     "name": "stdout",
     "output_type": "stream",
     "text": [
      "INFO:tensorflow:Scale of 0 disables regularizer.\n"
     ]
    },
    {
     "name": "stderr",
     "output_type": "stream",
     "text": [
      "I0110 22:50:50.711667 139750346217216 tf_logging.py:115] Scale of 0 disables regularizer.\n"
     ]
    },
    {
     "name": "stdout",
     "output_type": "stream",
     "text": [
      "INFO:tensorflow:Scale of 0 disables regularizer.\n"
     ]
    },
    {
     "name": "stderr",
     "output_type": "stream",
     "text": [
      "I0110 22:50:53.105414 139750346217216 tf_logging.py:115] Scale of 0 disables regularizer.\n"
     ]
    },
    {
     "name": "stdout",
     "output_type": "stream",
     "text": [
      "INFO:tensorflow:Scale of 0 disables regularizer.\n"
     ]
    },
    {
     "name": "stderr",
     "output_type": "stream",
     "text": [
      "I0110 22:50:55.558290 139750346217216 tf_logging.py:115] Scale of 0 disables regularizer.\n"
     ]
    },
    {
     "name": "stdout",
     "output_type": "stream",
     "text": [
      "INFO:tensorflow:Scale of 0 disables regularizer.\n"
     ]
    },
    {
     "name": "stderr",
     "output_type": "stream",
     "text": [
      "I0110 22:50:58.012465 139750346217216 tf_logging.py:115] Scale of 0 disables regularizer.\n"
     ]
    },
    {
     "name": "stdout",
     "output_type": "stream",
     "text": [
      "INFO:tensorflow:Scale of 0 disables regularizer.\n"
     ]
    },
    {
     "name": "stderr",
     "output_type": "stream",
     "text": [
      "I0110 22:51:00.463343 139750346217216 tf_logging.py:115] Scale of 0 disables regularizer.\n"
     ]
    },
    {
     "name": "stdout",
     "output_type": "stream",
     "text": [
      "INFO:tensorflow:Scale of 0 disables regularizer.\n"
     ]
    },
    {
     "name": "stderr",
     "output_type": "stream",
     "text": [
      "I0110 22:51:02.855329 139750346217216 tf_logging.py:115] Scale of 0 disables regularizer.\n"
     ]
    },
    {
     "name": "stdout",
     "output_type": "stream",
     "text": [
      "INFO:tensorflow:Scale of 0 disables regularizer.\n"
     ]
    },
    {
     "name": "stderr",
     "output_type": "stream",
     "text": [
      "I0110 22:51:05.329168 139750346217216 tf_logging.py:115] Scale of 0 disables regularizer.\n"
     ]
    },
    {
     "name": "stdout",
     "output_type": "stream",
     "text": [
      "INFO:tensorflow:Scale of 0 disables regularizer.\n"
     ]
    },
    {
     "name": "stderr",
     "output_type": "stream",
     "text": [
      "I0110 22:51:07.778964 139750346217216 tf_logging.py:115] Scale of 0 disables regularizer.\n"
     ]
    },
    {
     "name": "stdout",
     "output_type": "stream",
     "text": [
      "INFO:tensorflow:Scale of 0 disables regularizer.\n"
     ]
    },
    {
     "name": "stderr",
     "output_type": "stream",
     "text": [
      "I0110 22:51:10.230352 139750346217216 tf_logging.py:115] Scale of 0 disables regularizer.\n"
     ]
    },
    {
     "name": "stdout",
     "output_type": "stream",
     "text": [
      "INFO:tensorflow:Scale of 0 disables regularizer.\n"
     ]
    },
    {
     "name": "stderr",
     "output_type": "stream",
     "text": [
      "I0110 22:51:12.691614 139750346217216 tf_logging.py:115] Scale of 0 disables regularizer.\n"
     ]
    },
    {
     "name": "stdout",
     "output_type": "stream",
     "text": [
      "INFO:tensorflow:Scale of 0 disables regularizer.\n"
     ]
    },
    {
     "name": "stderr",
     "output_type": "stream",
     "text": [
      "I0110 22:51:15.079571 139750346217216 tf_logging.py:115] Scale of 0 disables regularizer.\n"
     ]
    },
    {
     "name": "stdout",
     "output_type": "stream",
     "text": [
      "INFO:tensorflow:Scale of 0 disables regularizer.\n"
     ]
    },
    {
     "name": "stderr",
     "output_type": "stream",
     "text": [
      "I0110 22:51:17.525828 139750346217216 tf_logging.py:115] Scale of 0 disables regularizer.\n"
     ]
    },
    {
     "name": "stdout",
     "output_type": "stream",
     "text": [
      "INFO:tensorflow:Scale of 0 disables regularizer.\n"
     ]
    },
    {
     "name": "stderr",
     "output_type": "stream",
     "text": [
      "I0110 22:51:19.970484 139750346217216 tf_logging.py:115] Scale of 0 disables regularizer.\n"
     ]
    },
    {
     "name": "stdout",
     "output_type": "stream",
     "text": [
      "INFO:tensorflow:Scale of 0 disables regularizer.\n"
     ]
    },
    {
     "name": "stderr",
     "output_type": "stream",
     "text": [
      "I0110 22:51:22.418692 139750346217216 tf_logging.py:115] Scale of 0 disables regularizer.\n"
     ]
    },
    {
     "name": "stdout",
     "output_type": "stream",
     "text": [
      "INFO:tensorflow:Scale of 0 disables regularizer.\n"
     ]
    },
    {
     "name": "stderr",
     "output_type": "stream",
     "text": [
      "I0110 22:51:24.829975 139750346217216 tf_logging.py:115] Scale of 0 disables regularizer.\n"
     ]
    },
    {
     "name": "stdout",
     "output_type": "stream",
     "text": [
      "INFO:tensorflow:Scale of 0 disables regularizer.\n"
     ]
    },
    {
     "name": "stderr",
     "output_type": "stream",
     "text": [
      "I0110 22:51:27.274990 139750346217216 tf_logging.py:115] Scale of 0 disables regularizer.\n"
     ]
    },
    {
     "name": "stdout",
     "output_type": "stream",
     "text": [
      "INFO:tensorflow:Scale of 0 disables regularizer.\n"
     ]
    },
    {
     "name": "stderr",
     "output_type": "stream",
     "text": [
      "I0110 22:51:29.738733 139750346217216 tf_logging.py:115] Scale of 0 disables regularizer.\n"
     ]
    },
    {
     "name": "stdout",
     "output_type": "stream",
     "text": [
      "INFO:tensorflow:Scale of 0 disables regularizer.\n"
     ]
    },
    {
     "name": "stderr",
     "output_type": "stream",
     "text": [
      "I0110 22:51:32.190444 139750346217216 tf_logging.py:115] Scale of 0 disables regularizer.\n"
     ]
    },
    {
     "name": "stdout",
     "output_type": "stream",
     "text": [
      "INFO:tensorflow:Scale of 0 disables regularizer.\n"
     ]
    },
    {
     "name": "stderr",
     "output_type": "stream",
     "text": [
      "I0110 22:51:34.646592 139750346217216 tf_logging.py:115] Scale of 0 disables regularizer.\n"
     ]
    },
    {
     "name": "stdout",
     "output_type": "stream",
     "text": [
      "INFO:tensorflow:Scale of 0 disables regularizer.\n"
     ]
    },
    {
     "name": "stderr",
     "output_type": "stream",
     "text": [
      "I0110 22:51:37.031403 139750346217216 tf_logging.py:115] Scale of 0 disables regularizer.\n"
     ]
    },
    {
     "name": "stdout",
     "output_type": "stream",
     "text": [
      "INFO:tensorflow:Scale of 0 disables regularizer.\n"
     ]
    },
    {
     "name": "stderr",
     "output_type": "stream",
     "text": [
      "I0110 22:51:39.490505 139750346217216 tf_logging.py:115] Scale of 0 disables regularizer.\n"
     ]
    },
    {
     "name": "stdout",
     "output_type": "stream",
     "text": [
      "INFO:tensorflow:Scale of 0 disables regularizer.\n"
     ]
    },
    {
     "name": "stderr",
     "output_type": "stream",
     "text": [
      "I0110 22:51:41.940313 139750346217216 tf_logging.py:115] Scale of 0 disables regularizer.\n"
     ]
    },
    {
     "name": "stdout",
     "output_type": "stream",
     "text": [
      "INFO:tensorflow:Scale of 0 disables regularizer.\n"
     ]
    },
    {
     "name": "stderr",
     "output_type": "stream",
     "text": [
      "I0110 22:51:44.402243 139750346217216 tf_logging.py:115] Scale of 0 disables regularizer.\n"
     ]
    },
    {
     "name": "stdout",
     "output_type": "stream",
     "text": [
      "INFO:tensorflow:Scale of 0 disables regularizer.\n"
     ]
    },
    {
     "name": "stderr",
     "output_type": "stream",
     "text": [
      "I0110 22:51:46.831450 139750346217216 tf_logging.py:115] Scale of 0 disables regularizer.\n"
     ]
    },
    {
     "name": "stdout",
     "output_type": "stream",
     "text": [
      "INFO:tensorflow:Scale of 0 disables regularizer.\n"
     ]
    },
    {
     "name": "stderr",
     "output_type": "stream",
     "text": [
      "I0110 22:51:49.288705 139750346217216 tf_logging.py:115] Scale of 0 disables regularizer.\n"
     ]
    },
    {
     "name": "stdout",
     "output_type": "stream",
     "text": [
      "INFO:tensorflow:Scale of 0 disables regularizer.\n"
     ]
    },
    {
     "name": "stderr",
     "output_type": "stream",
     "text": [
      "I0110 22:51:51.744755 139750346217216 tf_logging.py:115] Scale of 0 disables regularizer.\n"
     ]
    },
    {
     "name": "stdout",
     "output_type": "stream",
     "text": [
      "INFO:tensorflow:Scale of 0 disables regularizer.\n"
     ]
    },
    {
     "name": "stderr",
     "output_type": "stream",
     "text": [
      "I0110 22:51:54.192421 139750346217216 tf_logging.py:115] Scale of 0 disables regularizer.\n"
     ]
    },
    {
     "name": "stdout",
     "output_type": "stream",
     "text": [
      "INFO:tensorflow:Scale of 0 disables regularizer.\n"
     ]
    },
    {
     "name": "stderr",
     "output_type": "stream",
     "text": [
      "I0110 22:51:56.584889 139750346217216 tf_logging.py:115] Scale of 0 disables regularizer.\n"
     ]
    },
    {
     "name": "stdout",
     "output_type": "stream",
     "text": [
      "INFO:tensorflow:Scale of 0 disables regularizer.\n"
     ]
    },
    {
     "name": "stderr",
     "output_type": "stream",
     "text": [
      "I0110 22:51:59.024724 139750346217216 tf_logging.py:115] Scale of 0 disables regularizer.\n"
     ]
    },
    {
     "name": "stdout",
     "output_type": "stream",
     "text": [
      "INFO:tensorflow:Scale of 0 disables regularizer.\n"
     ]
    },
    {
     "name": "stderr",
     "output_type": "stream",
     "text": [
      "I0110 22:52:01.475843 139750346217216 tf_logging.py:115] Scale of 0 disables regularizer.\n"
     ]
    },
    {
     "name": "stdout",
     "output_type": "stream",
     "text": [
      "INFO:tensorflow:Scale of 0 disables regularizer.\n"
     ]
    },
    {
     "name": "stderr",
     "output_type": "stream",
     "text": [
      "I0110 22:52:03.977980 139750346217216 tf_logging.py:115] Scale of 0 disables regularizer.\n"
     ]
    },
    {
     "name": "stdout",
     "output_type": "stream",
     "text": [
      "INFO:tensorflow:Scale of 0 disables regularizer.\n"
     ]
    },
    {
     "name": "stderr",
     "output_type": "stream",
     "text": [
      "I0110 22:52:06.438163 139750346217216 tf_logging.py:115] Scale of 0 disables regularizer.\n"
     ]
    },
    {
     "name": "stdout",
     "output_type": "stream",
     "text": [
      "INFO:tensorflow:Scale of 0 disables regularizer.\n"
     ]
    },
    {
     "name": "stderr",
     "output_type": "stream",
     "text": [
      "I0110 22:52:08.828958 139750346217216 tf_logging.py:115] Scale of 0 disables regularizer.\n"
     ]
    },
    {
     "name": "stdout",
     "output_type": "stream",
     "text": [
      "INFO:tensorflow:Scale of 0 disables regularizer.\n"
     ]
    },
    {
     "name": "stderr",
     "output_type": "stream",
     "text": [
      "I0110 22:52:11.282469 139750346217216 tf_logging.py:115] Scale of 0 disables regularizer.\n"
     ]
    },
    {
     "name": "stdout",
     "output_type": "stream",
     "text": [
      "INFO:tensorflow:Scale of 0 disables regularizer.\n"
     ]
    },
    {
     "name": "stderr",
     "output_type": "stream",
     "text": [
      "I0110 22:52:13.734689 139750346217216 tf_logging.py:115] Scale of 0 disables regularizer.\n"
     ]
    },
    {
     "name": "stdout",
     "output_type": "stream",
     "text": [
      "INFO:tensorflow:Scale of 0 disables regularizer.\n"
     ]
    },
    {
     "name": "stderr",
     "output_type": "stream",
     "text": [
      "I0110 22:52:16.226881 139750346217216 tf_logging.py:115] Scale of 0 disables regularizer.\n"
     ]
    },
    {
     "name": "stdout",
     "output_type": "stream",
     "text": [
      "INFO:tensorflow:Scale of 0 disables regularizer.\n"
     ]
    },
    {
     "name": "stderr",
     "output_type": "stream",
     "text": [
      "I0110 22:52:18.620257 139750346217216 tf_logging.py:115] Scale of 0 disables regularizer.\n"
     ]
    },
    {
     "name": "stdout",
     "output_type": "stream",
     "text": [
      "INFO:tensorflow:Scale of 0 disables regularizer.\n"
     ]
    },
    {
     "name": "stderr",
     "output_type": "stream",
     "text": [
      "I0110 22:52:21.075716 139750346217216 tf_logging.py:115] Scale of 0 disables regularizer.\n"
     ]
    },
    {
     "name": "stdout",
     "output_type": "stream",
     "text": [
      "INFO:tensorflow:Scale of 0 disables regularizer.\n"
     ]
    },
    {
     "name": "stderr",
     "output_type": "stream",
     "text": [
      "I0110 22:52:23.543330 139750346217216 tf_logging.py:115] Scale of 0 disables regularizer.\n"
     ]
    },
    {
     "name": "stdout",
     "output_type": "stream",
     "text": [
      "INFO:tensorflow:Scale of 0 disables regularizer.\n"
     ]
    },
    {
     "name": "stderr",
     "output_type": "stream",
     "text": [
      "I0110 22:52:26.004878 139750346217216 tf_logging.py:115] Scale of 0 disables regularizer.\n"
     ]
    },
    {
     "name": "stdout",
     "output_type": "stream",
     "text": [
      "INFO:tensorflow:Scale of 0 disables regularizer.\n"
     ]
    },
    {
     "name": "stderr",
     "output_type": "stream",
     "text": [
      "I0110 22:52:28.459711 139750346217216 tf_logging.py:115] Scale of 0 disables regularizer.\n"
     ]
    },
    {
     "name": "stdout",
     "output_type": "stream",
     "text": [
      "INFO:tensorflow:Scale of 0 disables regularizer.\n"
     ]
    },
    {
     "name": "stderr",
     "output_type": "stream",
     "text": [
      "I0110 22:52:30.851383 139750346217216 tf_logging.py:115] Scale of 0 disables regularizer.\n"
     ]
    },
    {
     "name": "stdout",
     "output_type": "stream",
     "text": [
      "INFO:tensorflow:Scale of 0 disables regularizer.\n"
     ]
    },
    {
     "name": "stderr",
     "output_type": "stream",
     "text": [
      "I0110 22:52:33.290001 139750346217216 tf_logging.py:115] Scale of 0 disables regularizer.\n"
     ]
    },
    {
     "name": "stdout",
     "output_type": "stream",
     "text": [
      "INFO:tensorflow:Scale of 0 disables regularizer.\n"
     ]
    },
    {
     "name": "stderr",
     "output_type": "stream",
     "text": [
      "I0110 22:52:35.742079 139750346217216 tf_logging.py:115] Scale of 0 disables regularizer.\n"
     ]
    },
    {
     "name": "stdout",
     "output_type": "stream",
     "text": [
      "INFO:tensorflow:Scale of 0 disables regularizer.\n"
     ]
    },
    {
     "name": "stderr",
     "output_type": "stream",
     "text": [
      "I0110 22:52:38.198941 139750346217216 tf_logging.py:115] Scale of 0 disables regularizer.\n"
     ]
    },
    {
     "name": "stdout",
     "output_type": "stream",
     "text": [
      "INFO:tensorflow:Scale of 0 disables regularizer.\n"
     ]
    },
    {
     "name": "stderr",
     "output_type": "stream",
     "text": [
      "I0110 22:52:40.629604 139750346217216 tf_logging.py:115] Scale of 0 disables regularizer.\n"
     ]
    },
    {
     "name": "stdout",
     "output_type": "stream",
     "text": [
      "INFO:tensorflow:Scale of 0 disables regularizer.\n"
     ]
    },
    {
     "name": "stderr",
     "output_type": "stream",
     "text": [
      "I0110 22:52:43.070652 139750346217216 tf_logging.py:115] Scale of 0 disables regularizer.\n"
     ]
    },
    {
     "name": "stdout",
     "output_type": "stream",
     "text": [
      "INFO:tensorflow:Scale of 0 disables regularizer.\n"
     ]
    },
    {
     "name": "stderr",
     "output_type": "stream",
     "text": [
      "I0110 22:52:45.535902 139750346217216 tf_logging.py:115] Scale of 0 disables regularizer.\n"
     ]
    },
    {
     "name": "stdout",
     "output_type": "stream",
     "text": [
      "INFO:tensorflow:Scale of 0 disables regularizer.\n"
     ]
    },
    {
     "name": "stderr",
     "output_type": "stream",
     "text": [
      "I0110 22:52:48.013094 139750346217216 tf_logging.py:115] Scale of 0 disables regularizer.\n"
     ]
    },
    {
     "name": "stdout",
     "output_type": "stream",
     "text": [
      "INFO:tensorflow:Scale of 0 disables regularizer.\n"
     ]
    },
    {
     "name": "stderr",
     "output_type": "stream",
     "text": [
      "I0110 22:52:50.397099 139750346217216 tf_logging.py:115] Scale of 0 disables regularizer.\n"
     ]
    },
    {
     "name": "stdout",
     "output_type": "stream",
     "text": [
      "INFO:tensorflow:Scale of 0 disables regularizer.\n"
     ]
    },
    {
     "name": "stderr",
     "output_type": "stream",
     "text": [
      "I0110 22:52:52.847180 139750346217216 tf_logging.py:115] Scale of 0 disables regularizer.\n"
     ]
    },
    {
     "name": "stdout",
     "output_type": "stream",
     "text": [
      "INFO:tensorflow:Scale of 0 disables regularizer.\n"
     ]
    },
    {
     "name": "stderr",
     "output_type": "stream",
     "text": [
      "I0110 22:52:55.287374 139750346217216 tf_logging.py:115] Scale of 0 disables regularizer.\n"
     ]
    },
    {
     "name": "stdout",
     "output_type": "stream",
     "text": [
      "INFO:tensorflow:Scale of 0 disables regularizer.\n"
     ]
    },
    {
     "name": "stderr",
     "output_type": "stream",
     "text": [
      "I0110 22:52:57.752521 139750346217216 tf_logging.py:115] Scale of 0 disables regularizer.\n"
     ]
    },
    {
     "name": "stdout",
     "output_type": "stream",
     "text": [
      "INFO:tensorflow:Scale of 0 disables regularizer.\n"
     ]
    },
    {
     "name": "stderr",
     "output_type": "stream",
     "text": [
      "I0110 22:53:00.214646 139750346217216 tf_logging.py:115] Scale of 0 disables regularizer.\n"
     ]
    },
    {
     "name": "stdout",
     "output_type": "stream",
     "text": [
      "INFO:tensorflow:Scale of 0 disables regularizer.\n"
     ]
    },
    {
     "name": "stderr",
     "output_type": "stream",
     "text": [
      "I0110 22:53:02.617325 139750346217216 tf_logging.py:115] Scale of 0 disables regularizer.\n"
     ]
    },
    {
     "name": "stdout",
     "output_type": "stream",
     "text": [
      "INFO:tensorflow:Scale of 0 disables regularizer.\n"
     ]
    },
    {
     "name": "stderr",
     "output_type": "stream",
     "text": [
      "I0110 22:53:05.052706 139750346217216 tf_logging.py:115] Scale of 0 disables regularizer.\n"
     ]
    },
    {
     "name": "stdout",
     "output_type": "stream",
     "text": [
      "INFO:tensorflow:Scale of 0 disables regularizer.\n"
     ]
    },
    {
     "name": "stderr",
     "output_type": "stream",
     "text": [
      "I0110 22:53:07.517613 139750346217216 tf_logging.py:115] Scale of 0 disables regularizer.\n"
     ]
    },
    {
     "name": "stdout",
     "output_type": "stream",
     "text": [
      "INFO:tensorflow:Scale of 0 disables regularizer.\n"
     ]
    },
    {
     "name": "stderr",
     "output_type": "stream",
     "text": [
      "I0110 22:53:09.983209 139750346217216 tf_logging.py:115] Scale of 0 disables regularizer.\n"
     ]
    },
    {
     "name": "stdout",
     "output_type": "stream",
     "text": [
      "INFO:tensorflow:Scale of 0 disables regularizer.\n"
     ]
    },
    {
     "name": "stderr",
     "output_type": "stream",
     "text": [
      "I0110 22:53:12.372426 139750346217216 tf_logging.py:115] Scale of 0 disables regularizer.\n"
     ]
    },
    {
     "name": "stdout",
     "output_type": "stream",
     "text": [
      "INFO:tensorflow:Scale of 0 disables regularizer.\n"
     ]
    },
    {
     "name": "stderr",
     "output_type": "stream",
     "text": [
      "I0110 22:53:14.820633 139750346217216 tf_logging.py:115] Scale of 0 disables regularizer.\n"
     ]
    },
    {
     "name": "stdout",
     "output_type": "stream",
     "text": [
      "INFO:tensorflow:Scale of 0 disables regularizer.\n"
     ]
    },
    {
     "name": "stderr",
     "output_type": "stream",
     "text": [
      "I0110 22:53:17.292441 139750346217216 tf_logging.py:115] Scale of 0 disables regularizer.\n"
     ]
    },
    {
     "name": "stdout",
     "output_type": "stream",
     "text": [
      "INFO:tensorflow:Scale of 0 disables regularizer.\n"
     ]
    },
    {
     "name": "stderr",
     "output_type": "stream",
     "text": [
      "I0110 22:53:19.737927 139750346217216 tf_logging.py:115] Scale of 0 disables regularizer.\n"
     ]
    },
    {
     "name": "stdout",
     "output_type": "stream",
     "text": [
      "INFO:tensorflow:Scale of 0 disables regularizer.\n"
     ]
    },
    {
     "name": "stderr",
     "output_type": "stream",
     "text": [
      "I0110 22:53:22.204795 139750346217216 tf_logging.py:115] Scale of 0 disables regularizer.\n"
     ]
    },
    {
     "name": "stdout",
     "output_type": "stream",
     "text": [
      "INFO:tensorflow:Scale of 0 disables regularizer.\n"
     ]
    },
    {
     "name": "stderr",
     "output_type": "stream",
     "text": [
      "I0110 22:53:24.591709 139750346217216 tf_logging.py:115] Scale of 0 disables regularizer.\n"
     ]
    },
    {
     "name": "stdout",
     "output_type": "stream",
     "text": [
      "INFO:tensorflow:Scale of 0 disables regularizer.\n"
     ]
    },
    {
     "name": "stderr",
     "output_type": "stream",
     "text": [
      "I0110 22:53:27.039410 139750346217216 tf_logging.py:115] Scale of 0 disables regularizer.\n"
     ]
    },
    {
     "name": "stdout",
     "output_type": "stream",
     "text": [
      "INFO:tensorflow:Scale of 0 disables regularizer.\n"
     ]
    },
    {
     "name": "stderr",
     "output_type": "stream",
     "text": [
      "I0110 22:53:29.495378 139750346217216 tf_logging.py:115] Scale of 0 disables regularizer.\n"
     ]
    },
    {
     "name": "stdout",
     "output_type": "stream",
     "text": [
      "INFO:tensorflow:Scale of 0 disables regularizer.\n"
     ]
    },
    {
     "name": "stderr",
     "output_type": "stream",
     "text": [
      "I0110 22:53:31.951654 139750346217216 tf_logging.py:115] Scale of 0 disables regularizer.\n"
     ]
    },
    {
     "name": "stdout",
     "output_type": "stream",
     "text": [
      "INFO:tensorflow:Scale of 0 disables regularizer.\n"
     ]
    },
    {
     "name": "stderr",
     "output_type": "stream",
     "text": [
      "I0110 22:53:34.348771 139750346217216 tf_logging.py:115] Scale of 0 disables regularizer.\n"
     ]
    },
    {
     "name": "stdout",
     "output_type": "stream",
     "text": [
      "INFO:tensorflow:Scale of 0 disables regularizer.\n"
     ]
    },
    {
     "name": "stderr",
     "output_type": "stream",
     "text": [
      "I0110 22:53:36.796833 139750346217216 tf_logging.py:115] Scale of 0 disables regularizer.\n"
     ]
    },
    {
     "name": "stdout",
     "output_type": "stream",
     "text": [
      "INFO:tensorflow:Scale of 0 disables regularizer.\n"
     ]
    },
    {
     "name": "stderr",
     "output_type": "stream",
     "text": [
      "I0110 22:53:39.242404 139750346217216 tf_logging.py:115] Scale of 0 disables regularizer.\n"
     ]
    },
    {
     "name": "stdout",
     "output_type": "stream",
     "text": [
      "INFO:tensorflow:Scale of 0 disables regularizer.\n"
     ]
    },
    {
     "name": "stderr",
     "output_type": "stream",
     "text": [
      "I0110 22:53:41.693003 139750346217216 tf_logging.py:115] Scale of 0 disables regularizer.\n"
     ]
    },
    {
     "name": "stdout",
     "output_type": "stream",
     "text": [
      "INFO:tensorflow:Scale of 0 disables regularizer.\n"
     ]
    },
    {
     "name": "stderr",
     "output_type": "stream",
     "text": [
      "I0110 22:53:44.084366 139750346217216 tf_logging.py:115] Scale of 0 disables regularizer.\n"
     ]
    },
    {
     "name": "stdout",
     "output_type": "stream",
     "text": [
      "INFO:tensorflow:Scale of 0 disables regularizer.\n"
     ]
    },
    {
     "name": "stderr",
     "output_type": "stream",
     "text": [
      "I0110 22:53:46.527863 139750346217216 tf_logging.py:115] Scale of 0 disables regularizer.\n"
     ]
    },
    {
     "name": "stdout",
     "output_type": "stream",
     "text": [
      "INFO:tensorflow:Scale of 0 disables regularizer.\n"
     ]
    },
    {
     "name": "stderr",
     "output_type": "stream",
     "text": [
      "I0110 22:53:48.998681 139750346217216 tf_logging.py:115] Scale of 0 disables regularizer.\n"
     ]
    },
    {
     "name": "stdout",
     "output_type": "stream",
     "text": [
      "INFO:tensorflow:Scale of 0 disables regularizer.\n"
     ]
    },
    {
     "name": "stderr",
     "output_type": "stream",
     "text": [
      "I0110 22:53:51.449862 139750346217216 tf_logging.py:115] Scale of 0 disables regularizer.\n"
     ]
    },
    {
     "name": "stdout",
     "output_type": "stream",
     "text": [
      "INFO:tensorflow:Scale of 0 disables regularizer.\n"
     ]
    },
    {
     "name": "stderr",
     "output_type": "stream",
     "text": [
      "I0110 22:53:53.906270 139750346217216 tf_logging.py:115] Scale of 0 disables regularizer.\n"
     ]
    },
    {
     "name": "stdout",
     "output_type": "stream",
     "text": [
      "INFO:tensorflow:Scale of 0 disables regularizer.\n"
     ]
    },
    {
     "name": "stderr",
     "output_type": "stream",
     "text": [
      "I0110 22:53:56.288132 139750346217216 tf_logging.py:115] Scale of 0 disables regularizer.\n"
     ]
    },
    {
     "name": "stdout",
     "output_type": "stream",
     "text": [
      "INFO:tensorflow:Scale of 0 disables regularizer.\n"
     ]
    },
    {
     "name": "stderr",
     "output_type": "stream",
     "text": [
      "I0110 22:53:58.738506 139750346217216 tf_logging.py:115] Scale of 0 disables regularizer.\n"
     ]
    },
    {
     "name": "stdout",
     "output_type": "stream",
     "text": [
      "INFO:tensorflow:Scale of 0 disables regularizer.\n"
     ]
    },
    {
     "name": "stderr",
     "output_type": "stream",
     "text": [
      "I0110 22:54:01.186086 139750346217216 tf_logging.py:115] Scale of 0 disables regularizer.\n"
     ]
    },
    {
     "name": "stdout",
     "output_type": "stream",
     "text": [
      "INFO:tensorflow:Scale of 0 disables regularizer.\n"
     ]
    },
    {
     "name": "stderr",
     "output_type": "stream",
     "text": [
      "I0110 22:54:03.651301 139750346217216 tf_logging.py:115] Scale of 0 disables regularizer.\n"
     ]
    },
    {
     "name": "stdout",
     "output_type": "stream",
     "text": [
      "INFO:tensorflow:Scale of 0 disables regularizer.\n"
     ]
    },
    {
     "name": "stderr",
     "output_type": "stream",
     "text": [
      "I0110 22:54:06.038814 139750346217216 tf_logging.py:115] Scale of 0 disables regularizer.\n"
     ]
    },
    {
     "name": "stdout",
     "output_type": "stream",
     "text": [
      "INFO:tensorflow:Scale of 0 disables regularizer.\n"
     ]
    },
    {
     "name": "stderr",
     "output_type": "stream",
     "text": [
      "I0110 22:54:08.479189 139750346217216 tf_logging.py:115] Scale of 0 disables regularizer.\n"
     ]
    },
    {
     "name": "stdout",
     "output_type": "stream",
     "text": [
      "INFO:tensorflow:Scale of 0 disables regularizer.\n"
     ]
    },
    {
     "name": "stderr",
     "output_type": "stream",
     "text": [
      "I0110 22:54:10.919226 139750346217216 tf_logging.py:115] Scale of 0 disables regularizer.\n"
     ]
    },
    {
     "name": "stdout",
     "output_type": "stream",
     "text": [
      "INFO:tensorflow:Scale of 0 disables regularizer.\n"
     ]
    },
    {
     "name": "stderr",
     "output_type": "stream",
     "text": [
      "I0110 22:54:13.364768 139750346217216 tf_logging.py:115] Scale of 0 disables regularizer.\n"
     ]
    },
    {
     "name": "stdout",
     "output_type": "stream",
     "text": [
      "INFO:tensorflow:Scale of 0 disables regularizer.\n"
     ]
    },
    {
     "name": "stderr",
     "output_type": "stream",
     "text": [
      "I0110 22:54:15.821730 139750346217216 tf_logging.py:115] Scale of 0 disables regularizer.\n"
     ]
    },
    {
     "name": "stdout",
     "output_type": "stream",
     "text": [
      "INFO:tensorflow:Scale of 0 disables regularizer.\n"
     ]
    },
    {
     "name": "stderr",
     "output_type": "stream",
     "text": [
      "I0110 22:54:18.207527 139750346217216 tf_logging.py:115] Scale of 0 disables regularizer.\n"
     ]
    },
    {
     "name": "stdout",
     "output_type": "stream",
     "text": [
      "INFO:tensorflow:Scale of 0 disables regularizer.\n"
     ]
    },
    {
     "name": "stderr",
     "output_type": "stream",
     "text": [
      "I0110 22:54:20.648782 139750346217216 tf_logging.py:115] Scale of 0 disables regularizer.\n"
     ]
    },
    {
     "name": "stdout",
     "output_type": "stream",
     "text": [
      "INFO:tensorflow:Scale of 0 disables regularizer.\n"
     ]
    },
    {
     "name": "stderr",
     "output_type": "stream",
     "text": [
      "I0110 22:54:23.107357 139750346217216 tf_logging.py:115] Scale of 0 disables regularizer.\n"
     ]
    },
    {
     "name": "stdout",
     "output_type": "stream",
     "text": [
      "INFO:tensorflow:Scale of 0 disables regularizer.\n"
     ]
    },
    {
     "name": "stderr",
     "output_type": "stream",
     "text": [
      "I0110 22:54:25.553450 139750346217216 tf_logging.py:115] Scale of 0 disables regularizer.\n"
     ]
    },
    {
     "name": "stdout",
     "output_type": "stream",
     "text": [
      "INFO:tensorflow:Scale of 0 disables regularizer.\n"
     ]
    },
    {
     "name": "stderr",
     "output_type": "stream",
     "text": [
      "I0110 22:54:27.942657 139750346217216 tf_logging.py:115] Scale of 0 disables regularizer.\n"
     ]
    },
    {
     "name": "stdout",
     "output_type": "stream",
     "text": [
      "INFO:tensorflow:Scale of 0 disables regularizer.\n"
     ]
    },
    {
     "name": "stderr",
     "output_type": "stream",
     "text": [
      "I0110 22:54:30.378363 139750346217216 tf_logging.py:115] Scale of 0 disables regularizer.\n"
     ]
    },
    {
     "name": "stdout",
     "output_type": "stream",
     "text": [
      "INFO:tensorflow:Scale of 0 disables regularizer.\n"
     ]
    },
    {
     "name": "stderr",
     "output_type": "stream",
     "text": [
      "I0110 22:54:32.822206 139750346217216 tf_logging.py:115] Scale of 0 disables regularizer.\n"
     ]
    },
    {
     "name": "stdout",
     "output_type": "stream",
     "text": [
      "INFO:tensorflow:Scale of 0 disables regularizer.\n"
     ]
    },
    {
     "name": "stderr",
     "output_type": "stream",
     "text": [
      "I0110 22:54:35.270727 139750346217216 tf_logging.py:115] Scale of 0 disables regularizer.\n"
     ]
    },
    {
     "name": "stdout",
     "output_type": "stream",
     "text": [
      "INFO:tensorflow:Scale of 0 disables regularizer.\n"
     ]
    },
    {
     "name": "stderr",
     "output_type": "stream",
     "text": [
      "I0110 22:54:37.658823 139750346217216 tf_logging.py:115] Scale of 0 disables regularizer.\n"
     ]
    },
    {
     "name": "stdout",
     "output_type": "stream",
     "text": [
      "INFO:tensorflow:Scale of 0 disables regularizer.\n"
     ]
    },
    {
     "name": "stderr",
     "output_type": "stream",
     "text": [
      "I0110 22:54:40.096134 139750346217216 tf_logging.py:115] Scale of 0 disables regularizer.\n"
     ]
    },
    {
     "name": "stdout",
     "output_type": "stream",
     "text": [
      "INFO:tensorflow:Scale of 0 disables regularizer.\n"
     ]
    },
    {
     "name": "stderr",
     "output_type": "stream",
     "text": [
      "I0110 22:54:42.533874 139750346217216 tf_logging.py:115] Scale of 0 disables regularizer.\n"
     ]
    },
    {
     "name": "stdout",
     "output_type": "stream",
     "text": [
      "INFO:tensorflow:Scale of 0 disables regularizer.\n"
     ]
    },
    {
     "name": "stderr",
     "output_type": "stream",
     "text": [
      "I0110 22:54:44.982361 139750346217216 tf_logging.py:115] Scale of 0 disables regularizer.\n"
     ]
    },
    {
     "name": "stdout",
     "output_type": "stream",
     "text": [
      "INFO:tensorflow:Scale of 0 disables regularizer.\n"
     ]
    },
    {
     "name": "stderr",
     "output_type": "stream",
     "text": [
      "I0110 22:54:47.427200 139750346217216 tf_logging.py:115] Scale of 0 disables regularizer.\n"
     ]
    },
    {
     "name": "stdout",
     "output_type": "stream",
     "text": [
      "INFO:tensorflow:Scale of 0 disables regularizer.\n"
     ]
    },
    {
     "name": "stderr",
     "output_type": "stream",
     "text": [
      "I0110 22:54:49.818711 139750346217216 tf_logging.py:115] Scale of 0 disables regularizer.\n"
     ]
    },
    {
     "name": "stdout",
     "output_type": "stream",
     "text": [
      "INFO:tensorflow:Scale of 0 disables regularizer.\n"
     ]
    },
    {
     "name": "stderr",
     "output_type": "stream",
     "text": [
      "I0110 22:54:52.271864 139750346217216 tf_logging.py:115] Scale of 0 disables regularizer.\n"
     ]
    },
    {
     "name": "stdout",
     "output_type": "stream",
     "text": [
      "INFO:tensorflow:Scale of 0 disables regularizer.\n"
     ]
    },
    {
     "name": "stderr",
     "output_type": "stream",
     "text": [
      "I0110 22:54:54.738546 139750346217216 tf_logging.py:115] Scale of 0 disables regularizer.\n"
     ]
    },
    {
     "name": "stdout",
     "output_type": "stream",
     "text": [
      "INFO:tensorflow:Scale of 0 disables regularizer.\n"
     ]
    },
    {
     "name": "stderr",
     "output_type": "stream",
     "text": [
      "I0110 22:54:57.182307 139750346217216 tf_logging.py:115] Scale of 0 disables regularizer.\n"
     ]
    },
    {
     "name": "stdout",
     "output_type": "stream",
     "text": [
      "INFO:tensorflow:Scale of 0 disables regularizer.\n"
     ]
    },
    {
     "name": "stderr",
     "output_type": "stream",
     "text": [
      "I0110 22:54:59.579178 139750346217216 tf_logging.py:115] Scale of 0 disables regularizer.\n"
     ]
    },
    {
     "name": "stdout",
     "output_type": "stream",
     "text": [
      "INFO:tensorflow:Scale of 0 disables regularizer.\n"
     ]
    },
    {
     "name": "stderr",
     "output_type": "stream",
     "text": [
      "I0110 22:55:02.029878 139750346217216 tf_logging.py:115] Scale of 0 disables regularizer.\n"
     ]
    },
    {
     "name": "stdout",
     "output_type": "stream",
     "text": [
      "INFO:tensorflow:Scale of 0 disables regularizer.\n"
     ]
    },
    {
     "name": "stderr",
     "output_type": "stream",
     "text": [
      "I0110 22:55:04.485954 139750346217216 tf_logging.py:115] Scale of 0 disables regularizer.\n"
     ]
    },
    {
     "name": "stdout",
     "output_type": "stream",
     "text": [
      "INFO:tensorflow:Scale of 0 disables regularizer.\n"
     ]
    },
    {
     "name": "stderr",
     "output_type": "stream",
     "text": [
      "I0110 22:55:06.944584 139750346217216 tf_logging.py:115] Scale of 0 disables regularizer.\n"
     ]
    },
    {
     "name": "stdout",
     "output_type": "stream",
     "text": [
      "INFO:tensorflow:Scale of 0 disables regularizer.\n"
     ]
    },
    {
     "name": "stderr",
     "output_type": "stream",
     "text": [
      "I0110 22:55:09.461643 139750346217216 tf_logging.py:115] Scale of 0 disables regularizer.\n"
     ]
    },
    {
     "name": "stdout",
     "output_type": "stream",
     "text": [
      "INFO:tensorflow:Scale of 0 disables regularizer.\n"
     ]
    },
    {
     "name": "stderr",
     "output_type": "stream",
     "text": [
      "I0110 22:55:11.854394 139750346217216 tf_logging.py:115] Scale of 0 disables regularizer.\n"
     ]
    },
    {
     "name": "stdout",
     "output_type": "stream",
     "text": [
      "INFO:tensorflow:Scale of 0 disables regularizer.\n"
     ]
    },
    {
     "name": "stderr",
     "output_type": "stream",
     "text": [
      "I0110 22:55:14.306595 139750346217216 tf_logging.py:115] Scale of 0 disables regularizer.\n"
     ]
    },
    {
     "name": "stdout",
     "output_type": "stream",
     "text": [
      "INFO:tensorflow:Scale of 0 disables regularizer.\n"
     ]
    },
    {
     "name": "stderr",
     "output_type": "stream",
     "text": [
      "I0110 22:55:16.748827 139750346217216 tf_logging.py:115] Scale of 0 disables regularizer.\n"
     ]
    },
    {
     "name": "stdout",
     "output_type": "stream",
     "text": [
      "INFO:tensorflow:Scale of 0 disables regularizer.\n"
     ]
    },
    {
     "name": "stderr",
     "output_type": "stream",
     "text": [
      "I0110 22:55:19.216921 139750346217216 tf_logging.py:115] Scale of 0 disables regularizer.\n"
     ]
    },
    {
     "name": "stdout",
     "output_type": "stream",
     "text": [
      "INFO:tensorflow:Scale of 0 disables regularizer.\n"
     ]
    },
    {
     "name": "stderr",
     "output_type": "stream",
     "text": [
      "I0110 22:55:21.599794 139750346217216 tf_logging.py:115] Scale of 0 disables regularizer.\n"
     ]
    },
    {
     "name": "stdout",
     "output_type": "stream",
     "text": [
      "INFO:tensorflow:Scale of 0 disables regularizer.\n"
     ]
    },
    {
     "name": "stderr",
     "output_type": "stream",
     "text": [
      "I0110 22:55:24.045590 139750346217216 tf_logging.py:115] Scale of 0 disables regularizer.\n"
     ]
    },
    {
     "name": "stdout",
     "output_type": "stream",
     "text": [
      "INFO:tensorflow:Scale of 0 disables regularizer.\n"
     ]
    },
    {
     "name": "stderr",
     "output_type": "stream",
     "text": [
      "I0110 22:55:26.511749 139750346217216 tf_logging.py:115] Scale of 0 disables regularizer.\n"
     ]
    },
    {
     "name": "stdout",
     "output_type": "stream",
     "text": [
      "INFO:tensorflow:Scale of 0 disables regularizer.\n"
     ]
    },
    {
     "name": "stderr",
     "output_type": "stream",
     "text": [
      "I0110 22:55:28.964138 139750346217216 tf_logging.py:115] Scale of 0 disables regularizer.\n"
     ]
    },
    {
     "name": "stdout",
     "output_type": "stream",
     "text": [
      "INFO:tensorflow:Scale of 0 disables regularizer.\n"
     ]
    },
    {
     "name": "stderr",
     "output_type": "stream",
     "text": [
      "I0110 22:55:31.419855 139750346217216 tf_logging.py:115] Scale of 0 disables regularizer.\n"
     ]
    },
    {
     "name": "stdout",
     "output_type": "stream",
     "text": [
      "INFO:tensorflow:Scale of 0 disables regularizer.\n"
     ]
    },
    {
     "name": "stderr",
     "output_type": "stream",
     "text": [
      "I0110 22:55:33.869354 139750346217216 tf_logging.py:115] Scale of 0 disables regularizer.\n"
     ]
    },
    {
     "name": "stdout",
     "output_type": "stream",
     "text": [
      "INFO:tensorflow:Scale of 0 disables regularizer.\n"
     ]
    },
    {
     "name": "stderr",
     "output_type": "stream",
     "text": [
      "I0110 22:55:36.329361 139750346217216 tf_logging.py:115] Scale of 0 disables regularizer.\n"
     ]
    },
    {
     "name": "stdout",
     "output_type": "stream",
     "text": [
      "INFO:tensorflow:Scale of 0 disables regularizer.\n"
     ]
    },
    {
     "name": "stderr",
     "output_type": "stream",
     "text": [
      "I0110 22:55:38.778096 139750346217216 tf_logging.py:115] Scale of 0 disables regularizer.\n"
     ]
    },
    {
     "name": "stdout",
     "output_type": "stream",
     "text": [
      "INFO:tensorflow:Scale of 0 disables regularizer.\n"
     ]
    },
    {
     "name": "stderr",
     "output_type": "stream",
     "text": [
      "I0110 22:55:41.225800 139750346217216 tf_logging.py:115] Scale of 0 disables regularizer.\n"
     ]
    },
    {
     "name": "stdout",
     "output_type": "stream",
     "text": [
      "INFO:tensorflow:Scale of 0 disables regularizer.\n"
     ]
    },
    {
     "name": "stderr",
     "output_type": "stream",
     "text": [
      "I0110 22:55:43.604310 139750346217216 tf_logging.py:115] Scale of 0 disables regularizer.\n"
     ]
    },
    {
     "name": "stdout",
     "output_type": "stream",
     "text": [
      "INFO:tensorflow:Scale of 0 disables regularizer.\n"
     ]
    },
    {
     "name": "stderr",
     "output_type": "stream",
     "text": [
      "I0110 22:55:46.084166 139750346217216 tf_logging.py:115] Scale of 0 disables regularizer.\n"
     ]
    },
    {
     "name": "stdout",
     "output_type": "stream",
     "text": [
      "INFO:tensorflow:Scale of 0 disables regularizer.\n"
     ]
    },
    {
     "name": "stderr",
     "output_type": "stream",
     "text": [
      "I0110 22:55:48.521877 139750346217216 tf_logging.py:115] Scale of 0 disables regularizer.\n"
     ]
    },
    {
     "name": "stdout",
     "output_type": "stream",
     "text": [
      "INFO:tensorflow:Scale of 0 disables regularizer.\n"
     ]
    },
    {
     "name": "stderr",
     "output_type": "stream",
     "text": [
      "I0110 22:55:50.972888 139750346217216 tf_logging.py:115] Scale of 0 disables regularizer.\n"
     ]
    },
    {
     "name": "stdout",
     "output_type": "stream",
     "text": [
      "INFO:tensorflow:Scale of 0 disables regularizer.\n"
     ]
    },
    {
     "name": "stderr",
     "output_type": "stream",
     "text": [
      "I0110 22:55:53.359754 139750346217216 tf_logging.py:115] Scale of 0 disables regularizer.\n"
     ]
    },
    {
     "name": "stdout",
     "output_type": "stream",
     "text": [
      "INFO:tensorflow:Scale of 0 disables regularizer.\n"
     ]
    },
    {
     "name": "stderr",
     "output_type": "stream",
     "text": [
      "I0110 22:55:55.796903 139750346217216 tf_logging.py:115] Scale of 0 disables regularizer.\n"
     ]
    },
    {
     "name": "stdout",
     "output_type": "stream",
     "text": [
      "INFO:tensorflow:Scale of 0 disables regularizer.\n"
     ]
    },
    {
     "name": "stderr",
     "output_type": "stream",
     "text": [
      "I0110 22:55:58.241360 139750346217216 tf_logging.py:115] Scale of 0 disables regularizer.\n"
     ]
    },
    {
     "name": "stdout",
     "output_type": "stream",
     "text": [
      "INFO:tensorflow:Scale of 0 disables regularizer.\n"
     ]
    },
    {
     "name": "stderr",
     "output_type": "stream",
     "text": [
      "I0110 22:56:00.712044 139750346217216 tf_logging.py:115] Scale of 0 disables regularizer.\n"
     ]
    },
    {
     "name": "stdout",
     "output_type": "stream",
     "text": [
      "INFO:tensorflow:Scale of 0 disables regularizer.\n"
     ]
    },
    {
     "name": "stderr",
     "output_type": "stream",
     "text": [
      "I0110 22:56:03.147173 139750346217216 tf_logging.py:115] Scale of 0 disables regularizer.\n"
     ]
    },
    {
     "name": "stdout",
     "output_type": "stream",
     "text": [
      "INFO:tensorflow:Scale of 0 disables regularizer.\n"
     ]
    },
    {
     "name": "stderr",
     "output_type": "stream",
     "text": [
      "I0110 22:56:05.545244 139750346217216 tf_logging.py:115] Scale of 0 disables regularizer.\n"
     ]
    },
    {
     "name": "stdout",
     "output_type": "stream",
     "text": [
      "INFO:tensorflow:Scale of 0 disables regularizer.\n"
     ]
    },
    {
     "name": "stderr",
     "output_type": "stream",
     "text": [
      "I0110 22:56:07.992038 139750346217216 tf_logging.py:115] Scale of 0 disables regularizer.\n"
     ]
    },
    {
     "name": "stdout",
     "output_type": "stream",
     "text": [
      "INFO:tensorflow:Scale of 0 disables regularizer.\n"
     ]
    },
    {
     "name": "stderr",
     "output_type": "stream",
     "text": [
      "I0110 22:56:10.481318 139750346217216 tf_logging.py:115] Scale of 0 disables regularizer.\n"
     ]
    },
    {
     "name": "stdout",
     "output_type": "stream",
     "text": [
      "INFO:tensorflow:Scale of 0 disables regularizer.\n"
     ]
    },
    {
     "name": "stderr",
     "output_type": "stream",
     "text": [
      "I0110 22:56:12.936770 139750346217216 tf_logging.py:115] Scale of 0 disables regularizer.\n"
     ]
    },
    {
     "name": "stdout",
     "output_type": "stream",
     "text": [
      "INFO:tensorflow:Scale of 0 disables regularizer.\n"
     ]
    },
    {
     "name": "stderr",
     "output_type": "stream",
     "text": [
      "I0110 22:56:15.360331 139750346217216 tf_logging.py:115] Scale of 0 disables regularizer.\n"
     ]
    },
    {
     "name": "stdout",
     "output_type": "stream",
     "text": [
      "INFO:tensorflow:Scale of 0 disables regularizer.\n"
     ]
    },
    {
     "name": "stderr",
     "output_type": "stream",
     "text": [
      "I0110 22:56:17.803908 139750346217216 tf_logging.py:115] Scale of 0 disables regularizer.\n"
     ]
    },
    {
     "name": "stdout",
     "output_type": "stream",
     "text": [
      "INFO:tensorflow:Scale of 0 disables regularizer.\n"
     ]
    },
    {
     "name": "stderr",
     "output_type": "stream",
     "text": [
      "I0110 22:56:20.252304 139750346217216 tf_logging.py:115] Scale of 0 disables regularizer.\n"
     ]
    },
    {
     "name": "stdout",
     "output_type": "stream",
     "text": [
      "INFO:tensorflow:Scale of 0 disables regularizer.\n"
     ]
    },
    {
     "name": "stderr",
     "output_type": "stream",
     "text": [
      "I0110 22:56:22.700400 139750346217216 tf_logging.py:115] Scale of 0 disables regularizer.\n"
     ]
    },
    {
     "name": "stdout",
     "output_type": "stream",
     "text": [
      "INFO:tensorflow:Scale of 0 disables regularizer.\n"
     ]
    },
    {
     "name": "stderr",
     "output_type": "stream",
     "text": [
      "I0110 22:56:25.089656 139750346217216 tf_logging.py:115] Scale of 0 disables regularizer.\n"
     ]
    },
    {
     "name": "stdout",
     "output_type": "stream",
     "text": [
      "INFO:tensorflow:Scale of 0 disables regularizer.\n"
     ]
    },
    {
     "name": "stderr",
     "output_type": "stream",
     "text": [
      "I0110 22:56:27.522326 139750346217216 tf_logging.py:115] Scale of 0 disables regularizer.\n"
     ]
    },
    {
     "name": "stdout",
     "output_type": "stream",
     "text": [
      "INFO:tensorflow:Scale of 0 disables regularizer.\n"
     ]
    },
    {
     "name": "stderr",
     "output_type": "stream",
     "text": [
      "I0110 22:56:29.961162 139750346217216 tf_logging.py:115] Scale of 0 disables regularizer.\n"
     ]
    },
    {
     "name": "stdout",
     "output_type": "stream",
     "text": [
      "INFO:tensorflow:Scale of 0 disables regularizer.\n"
     ]
    },
    {
     "name": "stderr",
     "output_type": "stream",
     "text": [
      "I0110 22:56:32.409740 139750346217216 tf_logging.py:115] Scale of 0 disables regularizer.\n"
     ]
    },
    {
     "name": "stdout",
     "output_type": "stream",
     "text": [
      "INFO:tensorflow:Scale of 0 disables regularizer.\n"
     ]
    },
    {
     "name": "stderr",
     "output_type": "stream",
     "text": [
      "I0110 22:56:34.874581 139750346217216 tf_logging.py:115] Scale of 0 disables regularizer.\n"
     ]
    },
    {
     "name": "stdout",
     "output_type": "stream",
     "text": [
      "INFO:tensorflow:Scale of 0 disables regularizer.\n"
     ]
    },
    {
     "name": "stderr",
     "output_type": "stream",
     "text": [
      "I0110 22:56:37.269354 139750346217216 tf_logging.py:115] Scale of 0 disables regularizer.\n"
     ]
    },
    {
     "name": "stdout",
     "output_type": "stream",
     "text": [
      "INFO:tensorflow:Scale of 0 disables regularizer.\n"
     ]
    },
    {
     "name": "stderr",
     "output_type": "stream",
     "text": [
      "I0110 22:56:39.701634 139750346217216 tf_logging.py:115] Scale of 0 disables regularizer.\n"
     ]
    },
    {
     "name": "stdout",
     "output_type": "stream",
     "text": [
      "INFO:tensorflow:Scale of 0 disables regularizer.\n"
     ]
    },
    {
     "name": "stderr",
     "output_type": "stream",
     "text": [
      "I0110 22:56:42.146395 139750346217216 tf_logging.py:115] Scale of 0 disables regularizer.\n"
     ]
    },
    {
     "name": "stdout",
     "output_type": "stream",
     "text": [
      "INFO:tensorflow:Scale of 0 disables regularizer.\n"
     ]
    },
    {
     "name": "stderr",
     "output_type": "stream",
     "text": [
      "I0110 22:56:44.595562 139750346217216 tf_logging.py:115] Scale of 0 disables regularizer.\n"
     ]
    },
    {
     "name": "stdout",
     "output_type": "stream",
     "text": [
      "INFO:tensorflow:Scale of 0 disables regularizer.\n"
     ]
    },
    {
     "name": "stderr",
     "output_type": "stream",
     "text": [
      "I0110 22:56:47.013161 139750346217216 tf_logging.py:115] Scale of 0 disables regularizer.\n"
     ]
    },
    {
     "name": "stdout",
     "output_type": "stream",
     "text": [
      "INFO:tensorflow:Scale of 0 disables regularizer.\n"
     ]
    },
    {
     "name": "stderr",
     "output_type": "stream",
     "text": [
      "I0110 22:56:49.547068 139750346217216 tf_logging.py:115] Scale of 0 disables regularizer.\n"
     ]
    },
    {
     "name": "stdout",
     "output_type": "stream",
     "text": [
      "INFO:tensorflow:Scale of 0 disables regularizer.\n"
     ]
    },
    {
     "name": "stderr",
     "output_type": "stream",
     "text": [
      "I0110 22:56:52.355267 139750346217216 tf_logging.py:115] Scale of 0 disables regularizer.\n"
     ]
    },
    {
     "name": "stdout",
     "output_type": "stream",
     "text": [
      "INFO:tensorflow:Scale of 0 disables regularizer.\n"
     ]
    },
    {
     "name": "stderr",
     "output_type": "stream",
     "text": [
      "I0110 22:56:54.816613 139750346217216 tf_logging.py:115] Scale of 0 disables regularizer.\n"
     ]
    },
    {
     "name": "stdout",
     "output_type": "stream",
     "text": [
      "INFO:tensorflow:Scale of 0 disables regularizer.\n"
     ]
    },
    {
     "name": "stderr",
     "output_type": "stream",
     "text": [
      "I0110 22:56:57.271613 139750346217216 tf_logging.py:115] Scale of 0 disables regularizer.\n"
     ]
    },
    {
     "name": "stdout",
     "output_type": "stream",
     "text": [
      "INFO:tensorflow:Scale of 0 disables regularizer.\n"
     ]
    },
    {
     "name": "stderr",
     "output_type": "stream",
     "text": [
      "I0110 22:56:59.655581 139750346217216 tf_logging.py:115] Scale of 0 disables regularizer.\n"
     ]
    },
    {
     "name": "stdout",
     "output_type": "stream",
     "text": [
      "INFO:tensorflow:Scale of 0 disables regularizer.\n"
     ]
    },
    {
     "name": "stderr",
     "output_type": "stream",
     "text": [
      "I0110 22:57:02.127123 139750346217216 tf_logging.py:115] Scale of 0 disables regularizer.\n"
     ]
    },
    {
     "name": "stdout",
     "output_type": "stream",
     "text": [
      "INFO:tensorflow:Scale of 0 disables regularizer.\n"
     ]
    },
    {
     "name": "stderr",
     "output_type": "stream",
     "text": [
      "I0110 22:57:04.574561 139750346217216 tf_logging.py:115] Scale of 0 disables regularizer.\n"
     ]
    },
    {
     "name": "stdout",
     "output_type": "stream",
     "text": [
      "INFO:tensorflow:Scale of 0 disables regularizer.\n"
     ]
    },
    {
     "name": "stderr",
     "output_type": "stream",
     "text": [
      "I0110 22:57:07.032062 139750346217216 tf_logging.py:115] Scale of 0 disables regularizer.\n"
     ]
    },
    {
     "name": "stdout",
     "output_type": "stream",
     "text": [
      "INFO:tensorflow:Scale of 0 disables regularizer.\n"
     ]
    },
    {
     "name": "stderr",
     "output_type": "stream",
     "text": [
      "I0110 22:57:09.414480 139750346217216 tf_logging.py:115] Scale of 0 disables regularizer.\n"
     ]
    },
    {
     "name": "stdout",
     "output_type": "stream",
     "text": [
      "INFO:tensorflow:Scale of 0 disables regularizer.\n"
     ]
    },
    {
     "name": "stderr",
     "output_type": "stream",
     "text": [
      "I0110 22:57:11.860599 139750346217216 tf_logging.py:115] Scale of 0 disables regularizer.\n"
     ]
    },
    {
     "name": "stdout",
     "output_type": "stream",
     "text": [
      "INFO:tensorflow:Scale of 0 disables regularizer.\n"
     ]
    },
    {
     "name": "stderr",
     "output_type": "stream",
     "text": [
      "I0110 22:57:14.301463 139750346217216 tf_logging.py:115] Scale of 0 disables regularizer.\n"
     ]
    },
    {
     "name": "stdout",
     "output_type": "stream",
     "text": [
      "INFO:tensorflow:Scale of 0 disables regularizer.\n"
     ]
    },
    {
     "name": "stderr",
     "output_type": "stream",
     "text": [
      "I0110 22:57:16.804587 139750346217216 tf_logging.py:115] Scale of 0 disables regularizer.\n"
     ]
    },
    {
     "name": "stdout",
     "output_type": "stream",
     "text": [
      "INFO:tensorflow:Scale of 0 disables regularizer.\n"
     ]
    },
    {
     "name": "stderr",
     "output_type": "stream",
     "text": [
      "I0110 22:57:19.209018 139750346217216 tf_logging.py:115] Scale of 0 disables regularizer.\n"
     ]
    },
    {
     "name": "stdout",
     "output_type": "stream",
     "text": [
      "INFO:tensorflow:Scale of 0 disables regularizer.\n"
     ]
    },
    {
     "name": "stderr",
     "output_type": "stream",
     "text": [
      "I0110 22:57:21.664872 139750346217216 tf_logging.py:115] Scale of 0 disables regularizer.\n"
     ]
    },
    {
     "name": "stdout",
     "output_type": "stream",
     "text": [
      "INFO:tensorflow:Scale of 0 disables regularizer.\n"
     ]
    },
    {
     "name": "stderr",
     "output_type": "stream",
     "text": [
      "I0110 22:57:24.125002 139750346217216 tf_logging.py:115] Scale of 0 disables regularizer.\n"
     ]
    },
    {
     "name": "stdout",
     "output_type": "stream",
     "text": [
      "INFO:tensorflow:Scale of 0 disables regularizer.\n"
     ]
    },
    {
     "name": "stderr",
     "output_type": "stream",
     "text": [
      "I0110 22:57:26.567092 139750346217216 tf_logging.py:115] Scale of 0 disables regularizer.\n"
     ]
    },
    {
     "name": "stdout",
     "output_type": "stream",
     "text": [
      "INFO:tensorflow:Scale of 0 disables regularizer.\n"
     ]
    },
    {
     "name": "stderr",
     "output_type": "stream",
     "text": [
      "I0110 22:57:29.026926 139750346217216 tf_logging.py:115] Scale of 0 disables regularizer.\n"
     ]
    },
    {
     "name": "stdout",
     "output_type": "stream",
     "text": [
      "INFO:tensorflow:Scale of 0 disables regularizer.\n"
     ]
    },
    {
     "name": "stderr",
     "output_type": "stream",
     "text": [
      "I0110 22:57:31.444774 139750346217216 tf_logging.py:115] Scale of 0 disables regularizer.\n"
     ]
    },
    {
     "name": "stdout",
     "output_type": "stream",
     "text": [
      "INFO:tensorflow:Scale of 0 disables regularizer.\n"
     ]
    },
    {
     "name": "stderr",
     "output_type": "stream",
     "text": [
      "I0110 22:57:33.889850 139750346217216 tf_logging.py:115] Scale of 0 disables regularizer.\n"
     ]
    },
    {
     "name": "stdout",
     "output_type": "stream",
     "text": [
      "INFO:tensorflow:Scale of 0 disables regularizer.\n"
     ]
    },
    {
     "name": "stderr",
     "output_type": "stream",
     "text": [
      "I0110 22:57:36.332906 139750346217216 tf_logging.py:115] Scale of 0 disables regularizer.\n"
     ]
    },
    {
     "name": "stdout",
     "output_type": "stream",
     "text": [
      "INFO:tensorflow:Scale of 0 disables regularizer.\n"
     ]
    },
    {
     "name": "stderr",
     "output_type": "stream",
     "text": [
      "I0110 22:57:38.801537 139750346217216 tf_logging.py:115] Scale of 0 disables regularizer.\n"
     ]
    },
    {
     "name": "stdout",
     "output_type": "stream",
     "text": [
      "INFO:tensorflow:Scale of 0 disables regularizer.\n"
     ]
    },
    {
     "name": "stderr",
     "output_type": "stream",
     "text": [
      "I0110 22:57:41.191129 139750346217216 tf_logging.py:115] Scale of 0 disables regularizer.\n"
     ]
    },
    {
     "name": "stdout",
     "output_type": "stream",
     "text": [
      "INFO:tensorflow:Scale of 0 disables regularizer.\n"
     ]
    },
    {
     "name": "stderr",
     "output_type": "stream",
     "text": [
      "I0110 22:57:43.633090 139750346217216 tf_logging.py:115] Scale of 0 disables regularizer.\n"
     ]
    },
    {
     "name": "stdout",
     "output_type": "stream",
     "text": [
      "INFO:tensorflow:Scale of 0 disables regularizer.\n"
     ]
    },
    {
     "name": "stderr",
     "output_type": "stream",
     "text": [
      "I0110 22:57:46.072458 139750346217216 tf_logging.py:115] Scale of 0 disables regularizer.\n"
     ]
    },
    {
     "name": "stdout",
     "output_type": "stream",
     "text": [
      "INFO:tensorflow:Scale of 0 disables regularizer.\n"
     ]
    },
    {
     "name": "stderr",
     "output_type": "stream",
     "text": [
      "I0110 22:57:48.537165 139750346217216 tf_logging.py:115] Scale of 0 disables regularizer.\n"
     ]
    },
    {
     "name": "stdout",
     "output_type": "stream",
     "text": [
      "INFO:tensorflow:Scale of 0 disables regularizer.\n"
     ]
    },
    {
     "name": "stderr",
     "output_type": "stream",
     "text": [
      "I0110 22:57:50.995176 139750346217216 tf_logging.py:115] Scale of 0 disables regularizer.\n"
     ]
    },
    {
     "name": "stdout",
     "output_type": "stream",
     "text": [
      "INFO:tensorflow:Scale of 0 disables regularizer.\n"
     ]
    },
    {
     "name": "stderr",
     "output_type": "stream",
     "text": [
      "I0110 22:57:53.380005 139750346217216 tf_logging.py:115] Scale of 0 disables regularizer.\n"
     ]
    },
    {
     "name": "stdout",
     "output_type": "stream",
     "text": [
      "INFO:tensorflow:Scale of 0 disables regularizer.\n"
     ]
    },
    {
     "name": "stderr",
     "output_type": "stream",
     "text": [
      "I0110 22:57:55.821404 139750346217216 tf_logging.py:115] Scale of 0 disables regularizer.\n"
     ]
    },
    {
     "name": "stdout",
     "output_type": "stream",
     "text": [
      "INFO:tensorflow:Scale of 0 disables regularizer.\n"
     ]
    },
    {
     "name": "stderr",
     "output_type": "stream",
     "text": [
      "I0110 22:57:58.268223 139750346217216 tf_logging.py:115] Scale of 0 disables regularizer.\n"
     ]
    },
    {
     "name": "stdout",
     "output_type": "stream",
     "text": [
      "INFO:tensorflow:Scale of 0 disables regularizer.\n"
     ]
    },
    {
     "name": "stderr",
     "output_type": "stream",
     "text": [
      "I0110 22:58:00.714306 139750346217216 tf_logging.py:115] Scale of 0 disables regularizer.\n"
     ]
    },
    {
     "name": "stdout",
     "output_type": "stream",
     "text": [
      "INFO:tensorflow:Scale of 0 disables regularizer.\n"
     ]
    },
    {
     "name": "stderr",
     "output_type": "stream",
     "text": [
      "I0110 22:58:03.104997 139750346217216 tf_logging.py:115] Scale of 0 disables regularizer.\n"
     ]
    },
    {
     "name": "stdout",
     "output_type": "stream",
     "text": [
      "INFO:tensorflow:Scale of 0 disables regularizer.\n"
     ]
    },
    {
     "name": "stderr",
     "output_type": "stream",
     "text": [
      "I0110 22:58:05.558345 139750346217216 tf_logging.py:115] Scale of 0 disables regularizer.\n"
     ]
    },
    {
     "name": "stdout",
     "output_type": "stream",
     "text": [
      "INFO:tensorflow:Scale of 0 disables regularizer.\n"
     ]
    },
    {
     "name": "stderr",
     "output_type": "stream",
     "text": [
      "I0110 22:58:08.018023 139750346217216 tf_logging.py:115] Scale of 0 disables regularizer.\n"
     ]
    },
    {
     "name": "stdout",
     "output_type": "stream",
     "text": [
      "INFO:tensorflow:Scale of 0 disables regularizer.\n"
     ]
    },
    {
     "name": "stderr",
     "output_type": "stream",
     "text": [
      "I0110 22:58:10.463592 139750346217216 tf_logging.py:115] Scale of 0 disables regularizer.\n"
     ]
    },
    {
     "name": "stdout",
     "output_type": "stream",
     "text": [
      "INFO:tensorflow:Scale of 0 disables regularizer.\n"
     ]
    },
    {
     "name": "stderr",
     "output_type": "stream",
     "text": [
      "I0110 22:58:12.847093 139750346217216 tf_logging.py:115] Scale of 0 disables regularizer.\n"
     ]
    },
    {
     "name": "stdout",
     "output_type": "stream",
     "text": [
      "INFO:tensorflow:Scale of 0 disables regularizer.\n"
     ]
    },
    {
     "name": "stderr",
     "output_type": "stream",
     "text": [
      "I0110 22:58:15.284100 139750346217216 tf_logging.py:115] Scale of 0 disables regularizer.\n"
     ]
    },
    {
     "name": "stdout",
     "output_type": "stream",
     "text": [
      "INFO:tensorflow:Scale of 0 disables regularizer.\n"
     ]
    },
    {
     "name": "stderr",
     "output_type": "stream",
     "text": [
      "I0110 22:58:17.717712 139750346217216 tf_logging.py:115] Scale of 0 disables regularizer.\n"
     ]
    },
    {
     "name": "stdout",
     "output_type": "stream",
     "text": [
      "INFO:tensorflow:Scale of 0 disables regularizer.\n"
     ]
    },
    {
     "name": "stderr",
     "output_type": "stream",
     "text": [
      "I0110 22:58:20.162854 139750346217216 tf_logging.py:115] Scale of 0 disables regularizer.\n"
     ]
    },
    {
     "name": "stdout",
     "output_type": "stream",
     "text": [
      "INFO:tensorflow:Scale of 0 disables regularizer.\n"
     ]
    },
    {
     "name": "stderr",
     "output_type": "stream",
     "text": [
      "I0110 22:58:22.610584 139750346217216 tf_logging.py:115] Scale of 0 disables regularizer.\n"
     ]
    },
    {
     "name": "stdout",
     "output_type": "stream",
     "text": [
      "INFO:tensorflow:Scale of 0 disables regularizer.\n"
     ]
    },
    {
     "name": "stderr",
     "output_type": "stream",
     "text": [
      "I0110 22:58:24.994984 139750346217216 tf_logging.py:115] Scale of 0 disables regularizer.\n"
     ]
    },
    {
     "name": "stdout",
     "output_type": "stream",
     "text": [
      "INFO:tensorflow:Scale of 0 disables regularizer.\n"
     ]
    },
    {
     "name": "stderr",
     "output_type": "stream",
     "text": [
      "I0110 22:58:27.432677 139750346217216 tf_logging.py:115] Scale of 0 disables regularizer.\n"
     ]
    },
    {
     "name": "stdout",
     "output_type": "stream",
     "text": [
      "INFO:tensorflow:Scale of 0 disables regularizer.\n"
     ]
    },
    {
     "name": "stderr",
     "output_type": "stream",
     "text": [
      "I0110 22:58:29.882298 139750346217216 tf_logging.py:115] Scale of 0 disables regularizer.\n"
     ]
    },
    {
     "name": "stdout",
     "output_type": "stream",
     "text": [
      "INFO:tensorflow:Scale of 0 disables regularizer.\n"
     ]
    },
    {
     "name": "stderr",
     "output_type": "stream",
     "text": [
      "I0110 22:58:32.329802 139750346217216 tf_logging.py:115] Scale of 0 disables regularizer.\n"
     ]
    },
    {
     "name": "stdout",
     "output_type": "stream",
     "text": [
      "INFO:tensorflow:Scale of 0 disables regularizer.\n"
     ]
    },
    {
     "name": "stderr",
     "output_type": "stream",
     "text": [
      "I0110 22:58:34.724798 139750346217216 tf_logging.py:115] Scale of 0 disables regularizer.\n"
     ]
    },
    {
     "name": "stdout",
     "output_type": "stream",
     "text": [
      "INFO:tensorflow:Scale of 0 disables regularizer.\n"
     ]
    },
    {
     "name": "stderr",
     "output_type": "stream",
     "text": [
      "I0110 22:58:37.169632 139750346217216 tf_logging.py:115] Scale of 0 disables regularizer.\n"
     ]
    },
    {
     "name": "stdout",
     "output_type": "stream",
     "text": [
      "INFO:tensorflow:Scale of 0 disables regularizer.\n"
     ]
    },
    {
     "name": "stderr",
     "output_type": "stream",
     "text": [
      "I0110 22:58:39.624534 139750346217216 tf_logging.py:115] Scale of 0 disables regularizer.\n"
     ]
    },
    {
     "name": "stdout",
     "output_type": "stream",
     "text": [
      "INFO:tensorflow:Scale of 0 disables regularizer.\n"
     ]
    },
    {
     "name": "stderr",
     "output_type": "stream",
     "text": [
      "I0110 22:58:42.069999 139750346217216 tf_logging.py:115] Scale of 0 disables regularizer.\n"
     ]
    },
    {
     "name": "stdout",
     "output_type": "stream",
     "text": [
      "INFO:tensorflow:Scale of 0 disables regularizer.\n"
     ]
    },
    {
     "name": "stderr",
     "output_type": "stream",
     "text": [
      "I0110 22:58:44.531016 139750346217216 tf_logging.py:115] Scale of 0 disables regularizer.\n"
     ]
    },
    {
     "name": "stdout",
     "output_type": "stream",
     "text": [
      "INFO:tensorflow:Scale of 0 disables regularizer.\n"
     ]
    },
    {
     "name": "stderr",
     "output_type": "stream",
     "text": [
      "I0110 22:58:46.918546 139750346217216 tf_logging.py:115] Scale of 0 disables regularizer.\n"
     ]
    },
    {
     "name": "stdout",
     "output_type": "stream",
     "text": [
      "INFO:tensorflow:Scale of 0 disables regularizer.\n"
     ]
    },
    {
     "name": "stderr",
     "output_type": "stream",
     "text": [
      "I0110 22:58:49.395747 139750346217216 tf_logging.py:115] Scale of 0 disables regularizer.\n"
     ]
    },
    {
     "name": "stdout",
     "output_type": "stream",
     "text": [
      "INFO:tensorflow:Scale of 0 disables regularizer.\n"
     ]
    },
    {
     "name": "stderr",
     "output_type": "stream",
     "text": [
      "I0110 22:58:51.853250 139750346217216 tf_logging.py:115] Scale of 0 disables regularizer.\n"
     ]
    },
    {
     "name": "stdout",
     "output_type": "stream",
     "text": [
      "INFO:tensorflow:Scale of 0 disables regularizer.\n"
     ]
    },
    {
     "name": "stderr",
     "output_type": "stream",
     "text": [
      "I0110 22:58:54.310236 139750346217216 tf_logging.py:115] Scale of 0 disables regularizer.\n"
     ]
    },
    {
     "name": "stdout",
     "output_type": "stream",
     "text": [
      "INFO:tensorflow:Scale of 0 disables regularizer.\n"
     ]
    },
    {
     "name": "stderr",
     "output_type": "stream",
     "text": [
      "I0110 22:58:56.725394 139750346217216 tf_logging.py:115] Scale of 0 disables regularizer.\n"
     ]
    },
    {
     "name": "stdout",
     "output_type": "stream",
     "text": [
      "INFO:tensorflow:Scale of 0 disables regularizer.\n"
     ]
    },
    {
     "name": "stderr",
     "output_type": "stream",
     "text": [
      "I0110 22:58:59.169647 139750346217216 tf_logging.py:115] Scale of 0 disables regularizer.\n"
     ]
    },
    {
     "name": "stdout",
     "output_type": "stream",
     "text": [
      "INFO:tensorflow:Scale of 0 disables regularizer.\n"
     ]
    },
    {
     "name": "stderr",
     "output_type": "stream",
     "text": [
      "I0110 22:59:01.621426 139750346217216 tf_logging.py:115] Scale of 0 disables regularizer.\n"
     ]
    },
    {
     "name": "stdout",
     "output_type": "stream",
     "text": [
      "INFO:tensorflow:Scale of 0 disables regularizer.\n"
     ]
    },
    {
     "name": "stderr",
     "output_type": "stream",
     "text": [
      "I0110 22:59:04.071092 139750346217216 tf_logging.py:115] Scale of 0 disables regularizer.\n"
     ]
    },
    {
     "name": "stdout",
     "output_type": "stream",
     "text": [
      "INFO:tensorflow:Scale of 0 disables regularizer.\n"
     ]
    },
    {
     "name": "stderr",
     "output_type": "stream",
     "text": [
      "I0110 22:59:06.466093 139750346217216 tf_logging.py:115] Scale of 0 disables regularizer.\n"
     ]
    },
    {
     "name": "stdout",
     "output_type": "stream",
     "text": [
      "INFO:tensorflow:Scale of 0 disables regularizer.\n"
     ]
    },
    {
     "name": "stderr",
     "output_type": "stream",
     "text": [
      "I0110 22:59:08.901232 139750346217216 tf_logging.py:115] Scale of 0 disables regularizer.\n"
     ]
    },
    {
     "name": "stdout",
     "output_type": "stream",
     "text": [
      "INFO:tensorflow:Scale of 0 disables regularizer.\n"
     ]
    },
    {
     "name": "stderr",
     "output_type": "stream",
     "text": [
      "I0110 22:59:11.347444 139750346217216 tf_logging.py:115] Scale of 0 disables regularizer.\n"
     ]
    },
    {
     "name": "stdout",
     "output_type": "stream",
     "text": [
      "INFO:tensorflow:Scale of 0 disables regularizer.\n"
     ]
    },
    {
     "name": "stderr",
     "output_type": "stream",
     "text": [
      "I0110 22:59:13.798893 139750346217216 tf_logging.py:115] Scale of 0 disables regularizer.\n"
     ]
    },
    {
     "name": "stdout",
     "output_type": "stream",
     "text": [
      "INFO:tensorflow:Scale of 0 disables regularizer.\n"
     ]
    },
    {
     "name": "stderr",
     "output_type": "stream",
     "text": [
      "I0110 22:59:16.265274 139750346217216 tf_logging.py:115] Scale of 0 disables regularizer.\n"
     ]
    },
    {
     "name": "stdout",
     "output_type": "stream",
     "text": [
      "INFO:tensorflow:Scale of 0 disables regularizer.\n"
     ]
    },
    {
     "name": "stderr",
     "output_type": "stream",
     "text": [
      "I0110 22:59:18.653798 139750346217216 tf_logging.py:115] Scale of 0 disables regularizer.\n"
     ]
    },
    {
     "name": "stdout",
     "output_type": "stream",
     "text": [
      "INFO:tensorflow:Scale of 0 disables regularizer.\n"
     ]
    },
    {
     "name": "stderr",
     "output_type": "stream",
     "text": [
      "I0110 22:59:21.101595 139750346217216 tf_logging.py:115] Scale of 0 disables regularizer.\n"
     ]
    },
    {
     "name": "stdout",
     "output_type": "stream",
     "text": [
      "INFO:tensorflow:Scale of 0 disables regularizer.\n"
     ]
    },
    {
     "name": "stderr",
     "output_type": "stream",
     "text": [
      "I0110 22:59:23.540654 139750346217216 tf_logging.py:115] Scale of 0 disables regularizer.\n"
     ]
    },
    {
     "name": "stdout",
     "output_type": "stream",
     "text": [
      "INFO:tensorflow:Scale of 0 disables regularizer.\n"
     ]
    },
    {
     "name": "stderr",
     "output_type": "stream",
     "text": [
      "I0110 22:59:26.030684 139750346217216 tf_logging.py:115] Scale of 0 disables regularizer.\n"
     ]
    },
    {
     "name": "stdout",
     "output_type": "stream",
     "text": [
      "INFO:tensorflow:Scale of 0 disables regularizer.\n"
     ]
    },
    {
     "name": "stderr",
     "output_type": "stream",
     "text": [
      "I0110 22:59:28.419752 139750346217216 tf_logging.py:115] Scale of 0 disables regularizer.\n"
     ]
    },
    {
     "name": "stdout",
     "output_type": "stream",
     "text": [
      "INFO:tensorflow:Scale of 0 disables regularizer.\n"
     ]
    },
    {
     "name": "stderr",
     "output_type": "stream",
     "text": [
      "I0110 22:59:30.872552 139750346217216 tf_logging.py:115] Scale of 0 disables regularizer.\n"
     ]
    },
    {
     "name": "stdout",
     "output_type": "stream",
     "text": [
      "INFO:tensorflow:Scale of 0 disables regularizer.\n"
     ]
    },
    {
     "name": "stderr",
     "output_type": "stream",
     "text": [
      "I0110 22:59:33.321021 139750346217216 tf_logging.py:115] Scale of 0 disables regularizer.\n"
     ]
    },
    {
     "name": "stdout",
     "output_type": "stream",
     "text": [
      "INFO:tensorflow:Scale of 0 disables regularizer.\n"
     ]
    },
    {
     "name": "stderr",
     "output_type": "stream",
     "text": [
      "I0110 22:59:35.779334 139750346217216 tf_logging.py:115] Scale of 0 disables regularizer.\n"
     ]
    },
    {
     "name": "stdout",
     "output_type": "stream",
     "text": [
      "INFO:tensorflow:Scale of 0 disables regularizer.\n"
     ]
    },
    {
     "name": "stderr",
     "output_type": "stream",
     "text": [
      "I0110 22:59:38.232918 139750346217216 tf_logging.py:115] Scale of 0 disables regularizer.\n"
     ]
    },
    {
     "name": "stdout",
     "output_type": "stream",
     "text": [
      "INFO:tensorflow:Scale of 0 disables regularizer.\n"
     ]
    },
    {
     "name": "stderr",
     "output_type": "stream",
     "text": [
      "I0110 22:59:40.622877 139750346217216 tf_logging.py:115] Scale of 0 disables regularizer.\n"
     ]
    },
    {
     "name": "stdout",
     "output_type": "stream",
     "text": [
      "INFO:tensorflow:Scale of 0 disables regularizer.\n"
     ]
    },
    {
     "name": "stderr",
     "output_type": "stream",
     "text": [
      "I0110 22:59:43.081081 139750346217216 tf_logging.py:115] Scale of 0 disables regularizer.\n"
     ]
    },
    {
     "name": "stdout",
     "output_type": "stream",
     "text": [
      "INFO:tensorflow:Scale of 0 disables regularizer.\n"
     ]
    },
    {
     "name": "stderr",
     "output_type": "stream",
     "text": [
      "I0110 22:59:45.540981 139750346217216 tf_logging.py:115] Scale of 0 disables regularizer.\n"
     ]
    },
    {
     "name": "stdout",
     "output_type": "stream",
     "text": [
      "INFO:tensorflow:Scale of 0 disables regularizer.\n"
     ]
    },
    {
     "name": "stderr",
     "output_type": "stream",
     "text": [
      "I0110 22:59:47.993632 139750346217216 tf_logging.py:115] Scale of 0 disables regularizer.\n"
     ]
    },
    {
     "name": "stdout",
     "output_type": "stream",
     "text": [
      "INFO:tensorflow:Scale of 0 disables regularizer.\n"
     ]
    },
    {
     "name": "stderr",
     "output_type": "stream",
     "text": [
      "I0110 22:59:50.387492 139750346217216 tf_logging.py:115] Scale of 0 disables regularizer.\n"
     ]
    },
    {
     "name": "stdout",
     "output_type": "stream",
     "text": [
      "INFO:tensorflow:Scale of 0 disables regularizer.\n"
     ]
    },
    {
     "name": "stderr",
     "output_type": "stream",
     "text": [
      "I0110 22:59:52.840614 139750346217216 tf_logging.py:115] Scale of 0 disables regularizer.\n"
     ]
    },
    {
     "name": "stdout",
     "output_type": "stream",
     "text": [
      "INFO:tensorflow:Scale of 0 disables regularizer.\n"
     ]
    },
    {
     "name": "stderr",
     "output_type": "stream",
     "text": [
      "I0110 22:59:55.316359 139750346217216 tf_logging.py:115] Scale of 0 disables regularizer.\n"
     ]
    },
    {
     "name": "stdout",
     "output_type": "stream",
     "text": [
      "INFO:tensorflow:Scale of 0 disables regularizer.\n"
     ]
    },
    {
     "name": "stderr",
     "output_type": "stream",
     "text": [
      "I0110 22:59:57.807193 139750346217216 tf_logging.py:115] Scale of 0 disables regularizer.\n"
     ]
    },
    {
     "name": "stdout",
     "output_type": "stream",
     "text": [
      "INFO:tensorflow:Scale of 0 disables regularizer.\n"
     ]
    },
    {
     "name": "stderr",
     "output_type": "stream",
     "text": [
      "I0110 23:00:00.197489 139750346217216 tf_logging.py:115] Scale of 0 disables regularizer.\n"
     ]
    },
    {
     "name": "stdout",
     "output_type": "stream",
     "text": [
      "INFO:tensorflow:Scale of 0 disables regularizer.\n"
     ]
    },
    {
     "name": "stderr",
     "output_type": "stream",
     "text": [
      "I0110 23:00:02.774121 139750346217216 tf_logging.py:115] Scale of 0 disables regularizer.\n"
     ]
    },
    {
     "name": "stdout",
     "output_type": "stream",
     "text": [
      "INFO:tensorflow:Scale of 0 disables regularizer.\n"
     ]
    },
    {
     "name": "stderr",
     "output_type": "stream",
     "text": [
      "I0110 23:00:05.227753 139750346217216 tf_logging.py:115] Scale of 0 disables regularizer.\n"
     ]
    },
    {
     "name": "stdout",
     "output_type": "stream",
     "text": [
      "INFO:tensorflow:Scale of 0 disables regularizer.\n"
     ]
    },
    {
     "name": "stderr",
     "output_type": "stream",
     "text": [
      "I0110 23:00:07.675528 139750346217216 tf_logging.py:115] Scale of 0 disables regularizer.\n"
     ]
    },
    {
     "name": "stdout",
     "output_type": "stream",
     "text": [
      "INFO:tensorflow:Scale of 0 disables regularizer.\n"
     ]
    },
    {
     "name": "stderr",
     "output_type": "stream",
     "text": [
      "I0110 23:00:10.136867 139750346217216 tf_logging.py:115] Scale of 0 disables regularizer.\n"
     ]
    },
    {
     "name": "stdout",
     "output_type": "stream",
     "text": [
      "INFO:tensorflow:Scale of 0 disables regularizer.\n"
     ]
    },
    {
     "name": "stderr",
     "output_type": "stream",
     "text": [
      "I0110 23:00:12.531076 139750346217216 tf_logging.py:115] Scale of 0 disables regularizer.\n"
     ]
    },
    {
     "name": "stdout",
     "output_type": "stream",
     "text": [
      "INFO:tensorflow:Scale of 0 disables regularizer.\n"
     ]
    },
    {
     "name": "stderr",
     "output_type": "stream",
     "text": [
      "I0110 23:00:14.975614 139750346217216 tf_logging.py:115] Scale of 0 disables regularizer.\n"
     ]
    },
    {
     "name": "stdout",
     "output_type": "stream",
     "text": [
      "INFO:tensorflow:Scale of 0 disables regularizer.\n"
     ]
    },
    {
     "name": "stderr",
     "output_type": "stream",
     "text": [
      "I0110 23:00:17.437801 139750346217216 tf_logging.py:115] Scale of 0 disables regularizer.\n"
     ]
    },
    {
     "name": "stdout",
     "output_type": "stream",
     "text": [
      "INFO:tensorflow:Scale of 0 disables regularizer.\n"
     ]
    },
    {
     "name": "stderr",
     "output_type": "stream",
     "text": [
      "I0110 23:00:19.883087 139750346217216 tf_logging.py:115] Scale of 0 disables regularizer.\n"
     ]
    },
    {
     "name": "stdout",
     "output_type": "stream",
     "text": [
      "INFO:tensorflow:Scale of 0 disables regularizer.\n"
     ]
    },
    {
     "name": "stderr",
     "output_type": "stream",
     "text": [
      "I0110 23:00:22.304756 139750346217216 tf_logging.py:115] Scale of 0 disables regularizer.\n"
     ]
    },
    {
     "name": "stdout",
     "output_type": "stream",
     "text": [
      "INFO:tensorflow:Scale of 0 disables regularizer.\n"
     ]
    },
    {
     "name": "stderr",
     "output_type": "stream",
     "text": [
      "I0110 23:00:24.731209 139750346217216 tf_logging.py:115] Scale of 0 disables regularizer.\n"
     ]
    },
    {
     "name": "stdout",
     "output_type": "stream",
     "text": [
      "INFO:tensorflow:Scale of 0 disables regularizer.\n"
     ]
    },
    {
     "name": "stderr",
     "output_type": "stream",
     "text": [
      "I0110 23:00:27.202013 139750346217216 tf_logging.py:115] Scale of 0 disables regularizer.\n"
     ]
    },
    {
     "name": "stdout",
     "output_type": "stream",
     "text": [
      "INFO:tensorflow:Scale of 0 disables regularizer.\n"
     ]
    },
    {
     "name": "stderr",
     "output_type": "stream",
     "text": [
      "I0110 23:00:29.650641 139750346217216 tf_logging.py:115] Scale of 0 disables regularizer.\n"
     ]
    },
    {
     "name": "stdout",
     "output_type": "stream",
     "text": [
      "INFO:tensorflow:Scale of 0 disables regularizer.\n"
     ]
    },
    {
     "name": "stderr",
     "output_type": "stream",
     "text": [
      "I0110 23:00:32.100456 139750346217216 tf_logging.py:115] Scale of 0 disables regularizer.\n"
     ]
    },
    {
     "name": "stdout",
     "output_type": "stream",
     "text": [
      "INFO:tensorflow:Scale of 0 disables regularizer.\n"
     ]
    },
    {
     "name": "stderr",
     "output_type": "stream",
     "text": [
      "I0110 23:00:34.486913 139750346217216 tf_logging.py:115] Scale of 0 disables regularizer.\n"
     ]
    },
    {
     "name": "stdout",
     "output_type": "stream",
     "text": [
      "INFO:tensorflow:Scale of 0 disables regularizer.\n"
     ]
    },
    {
     "name": "stderr",
     "output_type": "stream",
     "text": [
      "I0110 23:00:36.965141 139750346217216 tf_logging.py:115] Scale of 0 disables regularizer.\n"
     ]
    },
    {
     "name": "stdout",
     "output_type": "stream",
     "text": [
      "INFO:tensorflow:Scale of 0 disables regularizer.\n"
     ]
    },
    {
     "name": "stderr",
     "output_type": "stream",
     "text": [
      "I0110 23:00:39.410377 139750346217216 tf_logging.py:115] Scale of 0 disables regularizer.\n"
     ]
    },
    {
     "name": "stdout",
     "output_type": "stream",
     "text": [
      "INFO:tensorflow:Scale of 0 disables regularizer.\n"
     ]
    },
    {
     "name": "stderr",
     "output_type": "stream",
     "text": [
      "I0110 23:00:41.878794 139750346217216 tf_logging.py:115] Scale of 0 disables regularizer.\n"
     ]
    },
    {
     "name": "stdout",
     "output_type": "stream",
     "text": [
      "INFO:tensorflow:Scale of 0 disables regularizer.\n"
     ]
    },
    {
     "name": "stderr",
     "output_type": "stream",
     "text": [
      "I0110 23:00:44.265456 139750346217216 tf_logging.py:115] Scale of 0 disables regularizer.\n"
     ]
    },
    {
     "name": "stdout",
     "output_type": "stream",
     "text": [
      "INFO:tensorflow:Scale of 0 disables regularizer.\n"
     ]
    },
    {
     "name": "stderr",
     "output_type": "stream",
     "text": [
      "I0110 23:00:46.717638 139750346217216 tf_logging.py:115] Scale of 0 disables regularizer.\n"
     ]
    },
    {
     "name": "stdout",
     "output_type": "stream",
     "text": [
      "INFO:tensorflow:Scale of 0 disables regularizer.\n"
     ]
    },
    {
     "name": "stderr",
     "output_type": "stream",
     "text": [
      "I0110 23:00:49.202052 139750346217216 tf_logging.py:115] Scale of 0 disables regularizer.\n"
     ]
    },
    {
     "name": "stdout",
     "output_type": "stream",
     "text": [
      "INFO:tensorflow:Scale of 0 disables regularizer.\n"
     ]
    },
    {
     "name": "stderr",
     "output_type": "stream",
     "text": [
      "I0110 23:00:51.649419 139750346217216 tf_logging.py:115] Scale of 0 disables regularizer.\n"
     ]
    },
    {
     "name": "stdout",
     "output_type": "stream",
     "text": [
      "INFO:tensorflow:Scale of 0 disables regularizer.\n"
     ]
    },
    {
     "name": "stderr",
     "output_type": "stream",
     "text": [
      "I0110 23:00:54.051151 139750346217216 tf_logging.py:115] Scale of 0 disables regularizer.\n"
     ]
    },
    {
     "name": "stdout",
     "output_type": "stream",
     "text": [
      "INFO:tensorflow:Scale of 0 disables regularizer.\n"
     ]
    },
    {
     "name": "stderr",
     "output_type": "stream",
     "text": [
      "I0110 23:00:56.508128 139750346217216 tf_logging.py:115] Scale of 0 disables regularizer.\n"
     ]
    },
    {
     "name": "stdout",
     "output_type": "stream",
     "text": [
      "122923_testing\n",
      "INFO:tensorflow:Scale of 0 disables regularizer.\n"
     ]
    },
    {
     "name": "stderr",
     "output_type": "stream",
     "text": [
      "I0110 23:00:58.955810 139750346217216 tf_logging.py:115] Scale of 0 disables regularizer.\n"
     ]
    },
    {
     "name": "stdout",
     "output_type": "stream",
     "text": [
      "INFO:tensorflow:Scale of 0 disables regularizer.\n"
     ]
    },
    {
     "name": "stderr",
     "output_type": "stream",
     "text": [
      "I0110 23:01:01.475182 139750346217216 tf_logging.py:115] Scale of 0 disables regularizer.\n"
     ]
    },
    {
     "name": "stdout",
     "output_type": "stream",
     "text": [
      "INFO:tensorflow:Scale of 0 disables regularizer.\n"
     ]
    },
    {
     "name": "stderr",
     "output_type": "stream",
     "text": [
      "I0110 23:01:03.964810 139750346217216 tf_logging.py:115] Scale of 0 disables regularizer.\n"
     ]
    },
    {
     "name": "stdout",
     "output_type": "stream",
     "text": [
      "INFO:tensorflow:Scale of 0 disables regularizer.\n"
     ]
    },
    {
     "name": "stderr",
     "output_type": "stream",
     "text": [
      "I0110 23:01:06.345607 139750346217216 tf_logging.py:115] Scale of 0 disables regularizer.\n"
     ]
    },
    {
     "name": "stdout",
     "output_type": "stream",
     "text": [
      "INFO:tensorflow:Scale of 0 disables regularizer.\n"
     ]
    },
    {
     "name": "stderr",
     "output_type": "stream",
     "text": [
      "I0110 23:01:08.826440 139750346217216 tf_logging.py:115] Scale of 0 disables regularizer.\n"
     ]
    },
    {
     "name": "stdout",
     "output_type": "stream",
     "text": [
      "INFO:tensorflow:Scale of 0 disables regularizer.\n"
     ]
    },
    {
     "name": "stderr",
     "output_type": "stream",
     "text": [
      "I0110 23:01:11.292565 139750346217216 tf_logging.py:115] Scale of 0 disables regularizer.\n"
     ]
    },
    {
     "name": "stdout",
     "output_type": "stream",
     "text": [
      "INFO:tensorflow:Scale of 0 disables regularizer.\n"
     ]
    },
    {
     "name": "stderr",
     "output_type": "stream",
     "text": [
      "I0110 23:01:13.752118 139750346217216 tf_logging.py:115] Scale of 0 disables regularizer.\n"
     ]
    },
    {
     "name": "stdout",
     "output_type": "stream",
     "text": [
      "INFO:tensorflow:Scale of 0 disables regularizer.\n"
     ]
    },
    {
     "name": "stderr",
     "output_type": "stream",
     "text": [
      "I0110 23:01:16.145955 139750346217216 tf_logging.py:115] Scale of 0 disables regularizer.\n"
     ]
    },
    {
     "name": "stdout",
     "output_type": "stream",
     "text": [
      "INFO:tensorflow:Scale of 0 disables regularizer.\n"
     ]
    },
    {
     "name": "stderr",
     "output_type": "stream",
     "text": [
      "I0110 23:01:18.593851 139750346217216 tf_logging.py:115] Scale of 0 disables regularizer.\n"
     ]
    },
    {
     "name": "stdout",
     "output_type": "stream",
     "text": [
      "INFO:tensorflow:Scale of 0 disables regularizer.\n"
     ]
    },
    {
     "name": "stderr",
     "output_type": "stream",
     "text": [
      "I0110 23:01:21.059891 139750346217216 tf_logging.py:115] Scale of 0 disables regularizer.\n"
     ]
    },
    {
     "name": "stdout",
     "output_type": "stream",
     "text": [
      "INFO:tensorflow:Scale of 0 disables regularizer.\n"
     ]
    },
    {
     "name": "stderr",
     "output_type": "stream",
     "text": [
      "I0110 23:01:23.545083 139750346217216 tf_logging.py:115] Scale of 0 disables regularizer.\n"
     ]
    },
    {
     "name": "stdout",
     "output_type": "stream",
     "text": [
      "INFO:tensorflow:Scale of 0 disables regularizer.\n"
     ]
    },
    {
     "name": "stderr",
     "output_type": "stream",
     "text": [
      "I0110 23:01:26.006204 139750346217216 tf_logging.py:115] Scale of 0 disables regularizer.\n"
     ]
    },
    {
     "name": "stdout",
     "output_type": "stream",
     "text": [
      "INFO:tensorflow:Scale of 0 disables regularizer.\n"
     ]
    },
    {
     "name": "stderr",
     "output_type": "stream",
     "text": [
      "I0110 23:01:28.395724 139750346217216 tf_logging.py:115] Scale of 0 disables regularizer.\n"
     ]
    },
    {
     "name": "stdout",
     "output_type": "stream",
     "text": [
      "INFO:tensorflow:Scale of 0 disables regularizer.\n"
     ]
    },
    {
     "name": "stderr",
     "output_type": "stream",
     "text": [
      "I0110 23:01:30.834461 139750346217216 tf_logging.py:115] Scale of 0 disables regularizer.\n"
     ]
    },
    {
     "name": "stdout",
     "output_type": "stream",
     "text": [
      "INFO:tensorflow:Scale of 0 disables regularizer.\n"
     ]
    },
    {
     "name": "stderr",
     "output_type": "stream",
     "text": [
      "I0110 23:01:33.316555 139750346217216 tf_logging.py:115] Scale of 0 disables regularizer.\n"
     ]
    },
    {
     "name": "stdout",
     "output_type": "stream",
     "text": [
      "INFO:tensorflow:Scale of 0 disables regularizer.\n"
     ]
    },
    {
     "name": "stderr",
     "output_type": "stream",
     "text": [
      "I0110 23:01:35.779358 139750346217216 tf_logging.py:115] Scale of 0 disables regularizer.\n"
     ]
    },
    {
     "name": "stdout",
     "output_type": "stream",
     "text": [
      "INFO:tensorflow:Scale of 0 disables regularizer.\n"
     ]
    },
    {
     "name": "stderr",
     "output_type": "stream",
     "text": [
      "I0110 23:01:38.195259 139750346217216 tf_logging.py:115] Scale of 0 disables regularizer.\n"
     ]
    },
    {
     "name": "stdout",
     "output_type": "stream",
     "text": [
      "INFO:tensorflow:Scale of 0 disables regularizer.\n"
     ]
    },
    {
     "name": "stderr",
     "output_type": "stream",
     "text": [
      "I0110 23:01:40.643184 139750346217216 tf_logging.py:115] Scale of 0 disables regularizer.\n"
     ]
    },
    {
     "name": "stdout",
     "output_type": "stream",
     "text": [
      "INFO:tensorflow:Scale of 0 disables regularizer.\n"
     ]
    },
    {
     "name": "stderr",
     "output_type": "stream",
     "text": [
      "I0110 23:01:43.122467 139750346217216 tf_logging.py:115] Scale of 0 disables regularizer.\n"
     ]
    },
    {
     "name": "stdout",
     "output_type": "stream",
     "text": [
      "INFO:tensorflow:Scale of 0 disables regularizer.\n"
     ]
    },
    {
     "name": "stderr",
     "output_type": "stream",
     "text": [
      "I0110 23:01:45.577739 139750346217216 tf_logging.py:115] Scale of 0 disables regularizer.\n"
     ]
    },
    {
     "name": "stdout",
     "output_type": "stream",
     "text": [
      "INFO:tensorflow:Scale of 0 disables regularizer.\n"
     ]
    },
    {
     "name": "stderr",
     "output_type": "stream",
     "text": [
      "I0110 23:01:47.974846 139750346217216 tf_logging.py:115] Scale of 0 disables regularizer.\n"
     ]
    },
    {
     "name": "stdout",
     "output_type": "stream",
     "text": [
      "INFO:tensorflow:Scale of 0 disables regularizer.\n"
     ]
    },
    {
     "name": "stderr",
     "output_type": "stream",
     "text": [
      "I0110 23:01:50.419023 139750346217216 tf_logging.py:115] Scale of 0 disables regularizer.\n"
     ]
    },
    {
     "name": "stdout",
     "output_type": "stream",
     "text": [
      "INFO:tensorflow:Scale of 0 disables regularizer.\n"
     ]
    },
    {
     "name": "stderr",
     "output_type": "stream",
     "text": [
      "I0110 23:01:52.870905 139750346217216 tf_logging.py:115] Scale of 0 disables regularizer.\n"
     ]
    },
    {
     "name": "stdout",
     "output_type": "stream",
     "text": [
      "INFO:tensorflow:Scale of 0 disables regularizer.\n"
     ]
    },
    {
     "name": "stderr",
     "output_type": "stream",
     "text": [
      "I0110 23:01:55.351128 139750346217216 tf_logging.py:115] Scale of 0 disables regularizer.\n"
     ]
    },
    {
     "name": "stdout",
     "output_type": "stream",
     "text": [
      "INFO:tensorflow:Scale of 0 disables regularizer.\n"
     ]
    },
    {
     "name": "stderr",
     "output_type": "stream",
     "text": [
      "I0110 23:01:57.797818 139750346217216 tf_logging.py:115] Scale of 0 disables regularizer.\n"
     ]
    },
    {
     "name": "stdout",
     "output_type": "stream",
     "text": [
      "INFO:tensorflow:Scale of 0 disables regularizer.\n"
     ]
    },
    {
     "name": "stderr",
     "output_type": "stream",
     "text": [
      "I0110 23:02:00.184720 139750346217216 tf_logging.py:115] Scale of 0 disables regularizer.\n"
     ]
    },
    {
     "name": "stdout",
     "output_type": "stream",
     "text": [
      "INFO:tensorflow:Scale of 0 disables regularizer.\n"
     ]
    },
    {
     "name": "stderr",
     "output_type": "stream",
     "text": [
      "I0110 23:02:02.620278 139750346217216 tf_logging.py:115] Scale of 0 disables regularizer.\n"
     ]
    },
    {
     "name": "stdout",
     "output_type": "stream",
     "text": [
      "INFO:tensorflow:Scale of 0 disables regularizer.\n"
     ]
    },
    {
     "name": "stderr",
     "output_type": "stream",
     "text": [
      "I0110 23:02:05.065487 139750346217216 tf_logging.py:115] Scale of 0 disables regularizer.\n"
     ]
    },
    {
     "name": "stdout",
     "output_type": "stream",
     "text": [
      "INFO:tensorflow:Scale of 0 disables regularizer.\n"
     ]
    },
    {
     "name": "stderr",
     "output_type": "stream",
     "text": [
      "I0110 23:02:07.528865 139750346217216 tf_logging.py:115] Scale of 0 disables regularizer.\n"
     ]
    },
    {
     "name": "stdout",
     "output_type": "stream",
     "text": [
      "INFO:tensorflow:Scale of 0 disables regularizer.\n"
     ]
    },
    {
     "name": "stderr",
     "output_type": "stream",
     "text": [
      "I0110 23:02:09.918812 139750346217216 tf_logging.py:115] Scale of 0 disables regularizer.\n"
     ]
    },
    {
     "name": "stdout",
     "output_type": "stream",
     "text": [
      "INFO:tensorflow:Scale of 0 disables regularizer.\n"
     ]
    },
    {
     "name": "stderr",
     "output_type": "stream",
     "text": [
      "I0110 23:02:12.358609 139750346217216 tf_logging.py:115] Scale of 0 disables regularizer.\n"
     ]
    },
    {
     "name": "stdout",
     "output_type": "stream",
     "text": [
      "INFO:tensorflow:Scale of 0 disables regularizer.\n"
     ]
    },
    {
     "name": "stderr",
     "output_type": "stream",
     "text": [
      "I0110 23:02:14.826884 139750346217216 tf_logging.py:115] Scale of 0 disables regularizer.\n"
     ]
    },
    {
     "name": "stdout",
     "output_type": "stream",
     "text": [
      "INFO:tensorflow:Scale of 0 disables regularizer.\n"
     ]
    },
    {
     "name": "stderr",
     "output_type": "stream",
     "text": [
      "I0110 23:02:17.288759 139750346217216 tf_logging.py:115] Scale of 0 disables regularizer.\n"
     ]
    },
    {
     "name": "stdout",
     "output_type": "stream",
     "text": [
      "INFO:tensorflow:Scale of 0 disables regularizer.\n"
     ]
    },
    {
     "name": "stderr",
     "output_type": "stream",
     "text": [
      "I0110 23:02:19.740772 139750346217216 tf_logging.py:115] Scale of 0 disables regularizer.\n"
     ]
    },
    {
     "name": "stdout",
     "output_type": "stream",
     "text": [
      "INFO:tensorflow:Scale of 0 disables regularizer.\n"
     ]
    },
    {
     "name": "stderr",
     "output_type": "stream",
     "text": [
      "I0110 23:02:22.120452 139750346217216 tf_logging.py:115] Scale of 0 disables regularizer.\n"
     ]
    },
    {
     "name": "stdout",
     "output_type": "stream",
     "text": [
      "INFO:tensorflow:Scale of 0 disables regularizer.\n"
     ]
    },
    {
     "name": "stderr",
     "output_type": "stream",
     "text": [
      "I0110 23:02:24.566803 139750346217216 tf_logging.py:115] Scale of 0 disables regularizer.\n"
     ]
    },
    {
     "name": "stdout",
     "output_type": "stream",
     "text": [
      "INFO:tensorflow:Scale of 0 disables regularizer.\n"
     ]
    },
    {
     "name": "stderr",
     "output_type": "stream",
     "text": [
      "I0110 23:02:27.007539 139750346217216 tf_logging.py:115] Scale of 0 disables regularizer.\n"
     ]
    },
    {
     "name": "stdout",
     "output_type": "stream",
     "text": [
      "INFO:tensorflow:Scale of 0 disables regularizer.\n"
     ]
    },
    {
     "name": "stderr",
     "output_type": "stream",
     "text": [
      "I0110 23:02:29.459408 139750346217216 tf_logging.py:115] Scale of 0 disables regularizer.\n"
     ]
    },
    {
     "name": "stdout",
     "output_type": "stream",
     "text": [
      "INFO:tensorflow:Scale of 0 disables regularizer.\n"
     ]
    },
    {
     "name": "stderr",
     "output_type": "stream",
     "text": [
      "I0110 23:02:31.848778 139750346217216 tf_logging.py:115] Scale of 0 disables regularizer.\n"
     ]
    },
    {
     "name": "stdout",
     "output_type": "stream",
     "text": [
      "INFO:tensorflow:Scale of 0 disables regularizer.\n"
     ]
    },
    {
     "name": "stderr",
     "output_type": "stream",
     "text": [
      "I0110 23:02:34.285600 139750346217216 tf_logging.py:115] Scale of 0 disables regularizer.\n"
     ]
    },
    {
     "name": "stdout",
     "output_type": "stream",
     "text": [
      "INFO:tensorflow:Scale of 0 disables regularizer.\n"
     ]
    },
    {
     "name": "stderr",
     "output_type": "stream",
     "text": [
      "I0110 23:02:36.728699 139750346217216 tf_logging.py:115] Scale of 0 disables regularizer.\n"
     ]
    },
    {
     "name": "stdout",
     "output_type": "stream",
     "text": [
      "INFO:tensorflow:Scale of 0 disables regularizer.\n"
     ]
    },
    {
     "name": "stderr",
     "output_type": "stream",
     "text": [
      "I0110 23:02:39.179418 139750346217216 tf_logging.py:115] Scale of 0 disables regularizer.\n"
     ]
    },
    {
     "name": "stdout",
     "output_type": "stream",
     "text": [
      "INFO:tensorflow:Scale of 0 disables regularizer.\n"
     ]
    },
    {
     "name": "stderr",
     "output_type": "stream",
     "text": [
      "I0110 23:02:41.571774 139750346217216 tf_logging.py:115] Scale of 0 disables regularizer.\n"
     ]
    },
    {
     "name": "stdout",
     "output_type": "stream",
     "text": [
      "INFO:tensorflow:Scale of 0 disables regularizer.\n"
     ]
    },
    {
     "name": "stderr",
     "output_type": "stream",
     "text": [
      "I0110 23:02:44.010986 139750346217216 tf_logging.py:115] Scale of 0 disables regularizer.\n"
     ]
    },
    {
     "name": "stdout",
     "output_type": "stream",
     "text": [
      "INFO:tensorflow:Scale of 0 disables regularizer.\n"
     ]
    },
    {
     "name": "stderr",
     "output_type": "stream",
     "text": [
      "I0110 23:02:46.467376 139750346217216 tf_logging.py:115] Scale of 0 disables regularizer.\n"
     ]
    },
    {
     "name": "stdout",
     "output_type": "stream",
     "text": [
      "INFO:tensorflow:Scale of 0 disables regularizer.\n"
     ]
    },
    {
     "name": "stderr",
     "output_type": "stream",
     "text": [
      "I0110 23:02:48.913488 139750346217216 tf_logging.py:115] Scale of 0 disables regularizer.\n"
     ]
    },
    {
     "name": "stdout",
     "output_type": "stream",
     "text": [
      "INFO:tensorflow:Scale of 0 disables regularizer.\n"
     ]
    },
    {
     "name": "stderr",
     "output_type": "stream",
     "text": [
      "I0110 23:02:51.362545 139750346217216 tf_logging.py:115] Scale of 0 disables regularizer.\n"
     ]
    },
    {
     "name": "stdout",
     "output_type": "stream",
     "text": [
      "INFO:tensorflow:Scale of 0 disables regularizer.\n"
     ]
    },
    {
     "name": "stderr",
     "output_type": "stream",
     "text": [
      "I0110 23:02:53.745024 139750346217216 tf_logging.py:115] Scale of 0 disables regularizer.\n"
     ]
    },
    {
     "name": "stdout",
     "output_type": "stream",
     "text": [
      "INFO:tensorflow:Scale of 0 disables regularizer.\n"
     ]
    },
    {
     "name": "stderr",
     "output_type": "stream",
     "text": [
      "I0110 23:02:56.179560 139750346217216 tf_logging.py:115] Scale of 0 disables regularizer.\n"
     ]
    },
    {
     "name": "stdout",
     "output_type": "stream",
     "text": [
      "INFO:tensorflow:Scale of 0 disables regularizer.\n"
     ]
    },
    {
     "name": "stderr",
     "output_type": "stream",
     "text": [
      "I0110 23:02:58.654289 139750346217216 tf_logging.py:115] Scale of 0 disables regularizer.\n"
     ]
    },
    {
     "name": "stdout",
     "output_type": "stream",
     "text": [
      "INFO:tensorflow:Scale of 0 disables regularizer.\n"
     ]
    },
    {
     "name": "stderr",
     "output_type": "stream",
     "text": [
      "I0110 23:03:01.109361 139750346217216 tf_logging.py:115] Scale of 0 disables regularizer.\n"
     ]
    },
    {
     "name": "stdout",
     "output_type": "stream",
     "text": [
      "INFO:tensorflow:Scale of 0 disables regularizer.\n"
     ]
    },
    {
     "name": "stderr",
     "output_type": "stream",
     "text": [
      "I0110 23:03:03.507478 139750346217216 tf_logging.py:115] Scale of 0 disables regularizer.\n"
     ]
    },
    {
     "name": "stdout",
     "output_type": "stream",
     "text": [
      "INFO:tensorflow:Scale of 0 disables regularizer.\n"
     ]
    },
    {
     "name": "stderr",
     "output_type": "stream",
     "text": [
      "I0110 23:03:05.971264 139750346217216 tf_logging.py:115] Scale of 0 disables regularizer.\n"
     ]
    },
    {
     "name": "stdout",
     "output_type": "stream",
     "text": [
      "INFO:tensorflow:Scale of 0 disables regularizer.\n"
     ]
    },
    {
     "name": "stderr",
     "output_type": "stream",
     "text": [
      "I0110 23:03:08.429608 139750346217216 tf_logging.py:115] Scale of 0 disables regularizer.\n"
     ]
    },
    {
     "name": "stdout",
     "output_type": "stream",
     "text": [
      "INFO:tensorflow:Scale of 0 disables regularizer.\n"
     ]
    },
    {
     "name": "stderr",
     "output_type": "stream",
     "text": [
      "I0110 23:03:10.880296 139750346217216 tf_logging.py:115] Scale of 0 disables regularizer.\n"
     ]
    },
    {
     "name": "stdout",
     "output_type": "stream",
     "text": [
      "INFO:tensorflow:Scale of 0 disables regularizer.\n"
     ]
    },
    {
     "name": "stderr",
     "output_type": "stream",
     "text": [
      "I0110 23:03:13.334219 139750346217216 tf_logging.py:115] Scale of 0 disables regularizer.\n"
     ]
    },
    {
     "name": "stdout",
     "output_type": "stream",
     "text": [
      "INFO:tensorflow:Scale of 0 disables regularizer.\n"
     ]
    },
    {
     "name": "stderr",
     "output_type": "stream",
     "text": [
      "I0110 23:03:15.721403 139750346217216 tf_logging.py:115] Scale of 0 disables regularizer.\n"
     ]
    },
    {
     "name": "stdout",
     "output_type": "stream",
     "text": [
      "INFO:tensorflow:Scale of 0 disables regularizer.\n"
     ]
    },
    {
     "name": "stderr",
     "output_type": "stream",
     "text": [
      "I0110 23:03:18.159127 139750346217216 tf_logging.py:115] Scale of 0 disables regularizer.\n"
     ]
    },
    {
     "name": "stdout",
     "output_type": "stream",
     "text": [
      "INFO:tensorflow:Scale of 0 disables regularizer.\n"
     ]
    },
    {
     "name": "stderr",
     "output_type": "stream",
     "text": [
      "I0110 23:03:20.599241 139750346217216 tf_logging.py:115] Scale of 0 disables regularizer.\n"
     ]
    },
    {
     "name": "stdout",
     "output_type": "stream",
     "text": [
      "INFO:tensorflow:Scale of 0 disables regularizer.\n"
     ]
    },
    {
     "name": "stderr",
     "output_type": "stream",
     "text": [
      "I0110 23:03:23.055781 139750346217216 tf_logging.py:115] Scale of 0 disables regularizer.\n"
     ]
    },
    {
     "name": "stdout",
     "output_type": "stream",
     "text": [
      "INFO:tensorflow:Scale of 0 disables regularizer.\n"
     ]
    },
    {
     "name": "stderr",
     "output_type": "stream",
     "text": [
      "I0110 23:03:25.451438 139750346217216 tf_logging.py:115] Scale of 0 disables regularizer.\n"
     ]
    },
    {
     "name": "stdout",
     "output_type": "stream",
     "text": [
      "INFO:tensorflow:Scale of 0 disables regularizer.\n"
     ]
    },
    {
     "name": "stderr",
     "output_type": "stream",
     "text": [
      "I0110 23:03:27.895214 139750346217216 tf_logging.py:115] Scale of 0 disables regularizer.\n"
     ]
    },
    {
     "name": "stdout",
     "output_type": "stream",
     "text": [
      "INFO:tensorflow:Scale of 0 disables regularizer.\n"
     ]
    },
    {
     "name": "stderr",
     "output_type": "stream",
     "text": [
      "I0110 23:03:30.353736 139750346217216 tf_logging.py:115] Scale of 0 disables regularizer.\n"
     ]
    },
    {
     "name": "stdout",
     "output_type": "stream",
     "text": [
      "INFO:tensorflow:Scale of 0 disables regularizer.\n"
     ]
    },
    {
     "name": "stderr",
     "output_type": "stream",
     "text": [
      "I0110 23:03:32.808775 139750346217216 tf_logging.py:115] Scale of 0 disables regularizer.\n"
     ]
    },
    {
     "name": "stdout",
     "output_type": "stream",
     "text": [
      "INFO:tensorflow:Scale of 0 disables regularizer.\n"
     ]
    },
    {
     "name": "stderr",
     "output_type": "stream",
     "text": [
      "I0110 23:03:35.207118 139750346217216 tf_logging.py:115] Scale of 0 disables regularizer.\n"
     ]
    },
    {
     "name": "stdout",
     "output_type": "stream",
     "text": [
      "INFO:tensorflow:Scale of 0 disables regularizer.\n"
     ]
    },
    {
     "name": "stderr",
     "output_type": "stream",
     "text": [
      "I0110 23:03:37.670272 139750346217216 tf_logging.py:115] Scale of 0 disables regularizer.\n"
     ]
    },
    {
     "name": "stdout",
     "output_type": "stream",
     "text": [
      "INFO:tensorflow:Scale of 0 disables regularizer.\n"
     ]
    },
    {
     "name": "stderr",
     "output_type": "stream",
     "text": [
      "I0110 23:03:40.133023 139750346217216 tf_logging.py:115] Scale of 0 disables regularizer.\n"
     ]
    },
    {
     "name": "stdout",
     "output_type": "stream",
     "text": [
      "INFO:tensorflow:Scale of 0 disables regularizer.\n"
     ]
    },
    {
     "name": "stderr",
     "output_type": "stream",
     "text": [
      "I0110 23:03:42.587601 139750346217216 tf_logging.py:115] Scale of 0 disables regularizer.\n"
     ]
    },
    {
     "name": "stdout",
     "output_type": "stream",
     "text": [
      "INFO:tensorflow:Scale of 0 disables regularizer.\n"
     ]
    },
    {
     "name": "stderr",
     "output_type": "stream",
     "text": [
      "I0110 23:03:45.034165 139750346217216 tf_logging.py:115] Scale of 0 disables regularizer.\n"
     ]
    },
    {
     "name": "stdout",
     "output_type": "stream",
     "text": [
      "INFO:tensorflow:Scale of 0 disables regularizer.\n"
     ]
    },
    {
     "name": "stderr",
     "output_type": "stream",
     "text": [
      "I0110 23:03:47.419973 139750346217216 tf_logging.py:115] Scale of 0 disables regularizer.\n"
     ]
    },
    {
     "name": "stdout",
     "output_type": "stream",
     "text": [
      "INFO:tensorflow:Scale of 0 disables regularizer.\n"
     ]
    },
    {
     "name": "stderr",
     "output_type": "stream",
     "text": [
      "I0110 23:03:49.896375 139750346217216 tf_logging.py:115] Scale of 0 disables regularizer.\n"
     ]
    },
    {
     "name": "stdout",
     "output_type": "stream",
     "text": [
      "INFO:tensorflow:Scale of 0 disables regularizer.\n"
     ]
    },
    {
     "name": "stderr",
     "output_type": "stream",
     "text": [
      "I0110 23:03:52.341427 139750346217216 tf_logging.py:115] Scale of 0 disables regularizer.\n"
     ]
    },
    {
     "name": "stdout",
     "output_type": "stream",
     "text": [
      "INFO:tensorflow:Scale of 0 disables regularizer.\n"
     ]
    },
    {
     "name": "stderr",
     "output_type": "stream",
     "text": [
      "I0110 23:03:54.794358 139750346217216 tf_logging.py:115] Scale of 0 disables regularizer.\n"
     ]
    },
    {
     "name": "stdout",
     "output_type": "stream",
     "text": [
      "INFO:tensorflow:Scale of 0 disables regularizer.\n"
     ]
    },
    {
     "name": "stderr",
     "output_type": "stream",
     "text": [
      "I0110 23:03:57.207223 139750346217216 tf_logging.py:115] Scale of 0 disables regularizer.\n"
     ]
    },
    {
     "name": "stdout",
     "output_type": "stream",
     "text": [
      "INFO:tensorflow:Scale of 0 disables regularizer.\n"
     ]
    },
    {
     "name": "stderr",
     "output_type": "stream",
     "text": [
      "I0110 23:03:59.672209 139750346217216 tf_logging.py:115] Scale of 0 disables regularizer.\n"
     ]
    },
    {
     "name": "stdout",
     "output_type": "stream",
     "text": [
      "INFO:tensorflow:Scale of 0 disables regularizer.\n"
     ]
    },
    {
     "name": "stderr",
     "output_type": "stream",
     "text": [
      "I0110 23:04:02.118944 139750346217216 tf_logging.py:115] Scale of 0 disables regularizer.\n"
     ]
    },
    {
     "name": "stdout",
     "output_type": "stream",
     "text": [
      "INFO:tensorflow:Scale of 0 disables regularizer.\n"
     ]
    },
    {
     "name": "stderr",
     "output_type": "stream",
     "text": [
      "I0110 23:04:04.563449 139750346217216 tf_logging.py:115] Scale of 0 disables regularizer.\n"
     ]
    },
    {
     "name": "stdout",
     "output_type": "stream",
     "text": [
      "INFO:tensorflow:Scale of 0 disables regularizer.\n"
     ]
    },
    {
     "name": "stderr",
     "output_type": "stream",
     "text": [
      "I0110 23:04:07.010660 139750346217216 tf_logging.py:115] Scale of 0 disables regularizer.\n"
     ]
    },
    {
     "name": "stdout",
     "output_type": "stream",
     "text": [
      "INFO:tensorflow:Scale of 0 disables regularizer.\n"
     ]
    },
    {
     "name": "stderr",
     "output_type": "stream",
     "text": [
      "I0110 23:04:09.397672 139750346217216 tf_logging.py:115] Scale of 0 disables regularizer.\n"
     ]
    },
    {
     "name": "stdout",
     "output_type": "stream",
     "text": [
      "INFO:tensorflow:Scale of 0 disables regularizer.\n"
     ]
    },
    {
     "name": "stderr",
     "output_type": "stream",
     "text": [
      "I0110 23:04:11.894164 139750346217216 tf_logging.py:115] Scale of 0 disables regularizer.\n"
     ]
    },
    {
     "name": "stdout",
     "output_type": "stream",
     "text": [
      "INFO:tensorflow:Scale of 0 disables regularizer.\n"
     ]
    },
    {
     "name": "stderr",
     "output_type": "stream",
     "text": [
      "I0110 23:04:14.334650 139750346217216 tf_logging.py:115] Scale of 0 disables regularizer.\n"
     ]
    },
    {
     "name": "stdout",
     "output_type": "stream",
     "text": [
      "INFO:tensorflow:Scale of 0 disables regularizer.\n"
     ]
    },
    {
     "name": "stderr",
     "output_type": "stream",
     "text": [
      "I0110 23:04:16.785667 139750346217216 tf_logging.py:115] Scale of 0 disables regularizer.\n"
     ]
    },
    {
     "name": "stdout",
     "output_type": "stream",
     "text": [
      "INFO:tensorflow:Scale of 0 disables regularizer.\n"
     ]
    },
    {
     "name": "stderr",
     "output_type": "stream",
     "text": [
      "I0110 23:04:19.177635 139750346217216 tf_logging.py:115] Scale of 0 disables regularizer.\n"
     ]
    },
    {
     "name": "stdout",
     "output_type": "stream",
     "text": [
      "INFO:tensorflow:Scale of 0 disables regularizer.\n"
     ]
    },
    {
     "name": "stderr",
     "output_type": "stream",
     "text": [
      "I0110 23:04:21.629042 139750346217216 tf_logging.py:115] Scale of 0 disables regularizer.\n"
     ]
    },
    {
     "name": "stdout",
     "output_type": "stream",
     "text": [
      "INFO:tensorflow:Scale of 0 disables regularizer.\n"
     ]
    },
    {
     "name": "stderr",
     "output_type": "stream",
     "text": [
      "I0110 23:04:24.118351 139750346217216 tf_logging.py:115] Scale of 0 disables regularizer.\n"
     ]
    },
    {
     "name": "stdout",
     "output_type": "stream",
     "text": [
      "INFO:tensorflow:Scale of 0 disables regularizer.\n"
     ]
    },
    {
     "name": "stderr",
     "output_type": "stream",
     "text": [
      "I0110 23:04:26.569834 139750346217216 tf_logging.py:115] Scale of 0 disables regularizer.\n"
     ]
    },
    {
     "name": "stdout",
     "output_type": "stream",
     "text": [
      "INFO:tensorflow:Scale of 0 disables regularizer.\n"
     ]
    },
    {
     "name": "stderr",
     "output_type": "stream",
     "text": [
      "I0110 23:04:28.965389 139750346217216 tf_logging.py:115] Scale of 0 disables regularizer.\n"
     ]
    },
    {
     "name": "stdout",
     "output_type": "stream",
     "text": [
      "INFO:tensorflow:Scale of 0 disables regularizer.\n"
     ]
    },
    {
     "name": "stderr",
     "output_type": "stream",
     "text": [
      "I0110 23:04:31.480455 139750346217216 tf_logging.py:115] Scale of 0 disables regularizer.\n"
     ]
    },
    {
     "name": "stdout",
     "output_type": "stream",
     "text": [
      "INFO:tensorflow:Scale of 0 disables regularizer.\n"
     ]
    },
    {
     "name": "stderr",
     "output_type": "stream",
     "text": [
      "I0110 23:04:33.928223 139750346217216 tf_logging.py:115] Scale of 0 disables regularizer.\n"
     ]
    },
    {
     "name": "stdout",
     "output_type": "stream",
     "text": [
      "INFO:tensorflow:Scale of 0 disables regularizer.\n"
     ]
    },
    {
     "name": "stderr",
     "output_type": "stream",
     "text": [
      "I0110 23:04:36.383109 139750346217216 tf_logging.py:115] Scale of 0 disables regularizer.\n"
     ]
    },
    {
     "name": "stdout",
     "output_type": "stream",
     "text": [
      "INFO:tensorflow:Scale of 0 disables regularizer.\n"
     ]
    },
    {
     "name": "stderr",
     "output_type": "stream",
     "text": [
      "I0110 23:04:38.840164 139750346217216 tf_logging.py:115] Scale of 0 disables regularizer.\n"
     ]
    },
    {
     "name": "stdout",
     "output_type": "stream",
     "text": [
      "INFO:tensorflow:Scale of 0 disables regularizer.\n"
     ]
    },
    {
     "name": "stderr",
     "output_type": "stream",
     "text": [
      "I0110 23:04:41.228064 139750346217216 tf_logging.py:115] Scale of 0 disables regularizer.\n"
     ]
    },
    {
     "name": "stdout",
     "output_type": "stream",
     "text": [
      "INFO:tensorflow:Scale of 0 disables regularizer.\n"
     ]
    },
    {
     "name": "stderr",
     "output_type": "stream",
     "text": [
      "I0110 23:04:43.677116 139750346217216 tf_logging.py:115] Scale of 0 disables regularizer.\n"
     ]
    },
    {
     "name": "stdout",
     "output_type": "stream",
     "text": [
      "INFO:tensorflow:Scale of 0 disables regularizer.\n"
     ]
    },
    {
     "name": "stderr",
     "output_type": "stream",
     "text": [
      "I0110 23:04:46.132691 139750346217216 tf_logging.py:115] Scale of 0 disables regularizer.\n"
     ]
    },
    {
     "name": "stdout",
     "output_type": "stream",
     "text": [
      "INFO:tensorflow:Scale of 0 disables regularizer.\n"
     ]
    },
    {
     "name": "stderr",
     "output_type": "stream",
     "text": [
      "I0110 23:04:48.603885 139750346217216 tf_logging.py:115] Scale of 0 disables regularizer.\n"
     ]
    },
    {
     "name": "stdout",
     "output_type": "stream",
     "text": [
      "INFO:tensorflow:Scale of 0 disables regularizer.\n"
     ]
    },
    {
     "name": "stderr",
     "output_type": "stream",
     "text": [
      "I0110 23:04:50.996525 139750346217216 tf_logging.py:115] Scale of 0 disables regularizer.\n"
     ]
    },
    {
     "name": "stdout",
     "output_type": "stream",
     "text": [
      "INFO:tensorflow:Scale of 0 disables regularizer.\n"
     ]
    },
    {
     "name": "stderr",
     "output_type": "stream",
     "text": [
      "I0110 23:04:53.446532 139750346217216 tf_logging.py:115] Scale of 0 disables regularizer.\n"
     ]
    },
    {
     "name": "stdout",
     "output_type": "stream",
     "text": [
      "INFO:tensorflow:Scale of 0 disables regularizer.\n"
     ]
    },
    {
     "name": "stderr",
     "output_type": "stream",
     "text": [
      "I0110 23:04:55.906615 139750346217216 tf_logging.py:115] Scale of 0 disables regularizer.\n"
     ]
    },
    {
     "name": "stdout",
     "output_type": "stream",
     "text": [
      "INFO:tensorflow:Scale of 0 disables regularizer.\n"
     ]
    },
    {
     "name": "stderr",
     "output_type": "stream",
     "text": [
      "I0110 23:04:58.369274 139750346217216 tf_logging.py:115] Scale of 0 disables regularizer.\n"
     ]
    },
    {
     "name": "stdout",
     "output_type": "stream",
     "text": [
      "INFO:tensorflow:Scale of 0 disables regularizer.\n"
     ]
    },
    {
     "name": "stderr",
     "output_type": "stream",
     "text": [
      "I0110 23:05:00.830795 139750346217216 tf_logging.py:115] Scale of 0 disables regularizer.\n"
     ]
    },
    {
     "name": "stdout",
     "output_type": "stream",
     "text": [
      "INFO:tensorflow:Scale of 0 disables regularizer.\n"
     ]
    },
    {
     "name": "stderr",
     "output_type": "stream",
     "text": [
      "I0110 23:05:03.222823 139750346217216 tf_logging.py:115] Scale of 0 disables regularizer.\n"
     ]
    },
    {
     "name": "stdout",
     "output_type": "stream",
     "text": [
      "INFO:tensorflow:Scale of 0 disables regularizer.\n"
     ]
    },
    {
     "name": "stderr",
     "output_type": "stream",
     "text": [
      "I0110 23:05:05.660292 139750346217216 tf_logging.py:115] Scale of 0 disables regularizer.\n"
     ]
    },
    {
     "name": "stdout",
     "output_type": "stream",
     "text": [
      "INFO:tensorflow:Scale of 0 disables regularizer.\n"
     ]
    },
    {
     "name": "stderr",
     "output_type": "stream",
     "text": [
      "I0110 23:05:08.120968 139750346217216 tf_logging.py:115] Scale of 0 disables regularizer.\n"
     ]
    },
    {
     "name": "stdout",
     "output_type": "stream",
     "text": [
      "INFO:tensorflow:Scale of 0 disables regularizer.\n"
     ]
    },
    {
     "name": "stderr",
     "output_type": "stream",
     "text": [
      "I0110 23:05:10.573969 139750346217216 tf_logging.py:115] Scale of 0 disables regularizer.\n"
     ]
    },
    {
     "name": "stdout",
     "output_type": "stream",
     "text": [
      "INFO:tensorflow:Scale of 0 disables regularizer.\n"
     ]
    },
    {
     "name": "stderr",
     "output_type": "stream",
     "text": [
      "I0110 23:05:12.992726 139750346217216 tf_logging.py:115] Scale of 0 disables regularizer.\n"
     ]
    },
    {
     "name": "stdout",
     "output_type": "stream",
     "text": [
      "INFO:tensorflow:Scale of 0 disables regularizer.\n"
     ]
    },
    {
     "name": "stderr",
     "output_type": "stream",
     "text": [
      "I0110 23:05:15.453620 139750346217216 tf_logging.py:115] Scale of 0 disables regularizer.\n"
     ]
    },
    {
     "name": "stdout",
     "output_type": "stream",
     "text": [
      "INFO:tensorflow:Scale of 0 disables regularizer.\n"
     ]
    },
    {
     "name": "stderr",
     "output_type": "stream",
     "text": [
      "I0110 23:05:17.944162 139750346217216 tf_logging.py:115] Scale of 0 disables regularizer.\n"
     ]
    },
    {
     "name": "stdout",
     "output_type": "stream",
     "text": [
      "INFO:tensorflow:Scale of 0 disables regularizer.\n"
     ]
    },
    {
     "name": "stderr",
     "output_type": "stream",
     "text": [
      "I0110 23:05:20.415833 139750346217216 tf_logging.py:115] Scale of 0 disables regularizer.\n"
     ]
    },
    {
     "name": "stdout",
     "output_type": "stream",
     "text": [
      "INFO:tensorflow:Scale of 0 disables regularizer.\n"
     ]
    },
    {
     "name": "stderr",
     "output_type": "stream",
     "text": [
      "I0110 23:05:22.808394 139750346217216 tf_logging.py:115] Scale of 0 disables regularizer.\n"
     ]
    },
    {
     "name": "stdout",
     "output_type": "stream",
     "text": [
      "INFO:tensorflow:Scale of 0 disables regularizer.\n"
     ]
    },
    {
     "name": "stderr",
     "output_type": "stream",
     "text": [
      "I0110 23:05:25.271769 139750346217216 tf_logging.py:115] Scale of 0 disables regularizer.\n"
     ]
    },
    {
     "name": "stdout",
     "output_type": "stream",
     "text": [
      "INFO:tensorflow:Scale of 0 disables regularizer.\n"
     ]
    },
    {
     "name": "stderr",
     "output_type": "stream",
     "text": [
      "I0110 23:05:28.071055 139750346217216 tf_logging.py:115] Scale of 0 disables regularizer.\n"
     ]
    },
    {
     "name": "stdout",
     "output_type": "stream",
     "text": [
      "INFO:tensorflow:Scale of 0 disables regularizer.\n"
     ]
    },
    {
     "name": "stderr",
     "output_type": "stream",
     "text": [
      "I0110 23:05:30.537894 139750346217216 tf_logging.py:115] Scale of 0 disables regularizer.\n"
     ]
    },
    {
     "name": "stdout",
     "output_type": "stream",
     "text": [
      "INFO:tensorflow:Scale of 0 disables regularizer.\n"
     ]
    },
    {
     "name": "stderr",
     "output_type": "stream",
     "text": [
      "I0110 23:05:32.980593 139750346217216 tf_logging.py:115] Scale of 0 disables regularizer.\n"
     ]
    },
    {
     "name": "stdout",
     "output_type": "stream",
     "text": [
      "INFO:tensorflow:Scale of 0 disables regularizer.\n"
     ]
    },
    {
     "name": "stderr",
     "output_type": "stream",
     "text": [
      "I0110 23:05:35.362801 139750346217216 tf_logging.py:115] Scale of 0 disables regularizer.\n"
     ]
    },
    {
     "name": "stdout",
     "output_type": "stream",
     "text": [
      "INFO:tensorflow:Scale of 0 disables regularizer.\n"
     ]
    },
    {
     "name": "stderr",
     "output_type": "stream",
     "text": [
      "I0110 23:05:37.798457 139750346217216 tf_logging.py:115] Scale of 0 disables regularizer.\n"
     ]
    },
    {
     "name": "stdout",
     "output_type": "stream",
     "text": [
      "INFO:tensorflow:Scale of 0 disables regularizer.\n"
     ]
    },
    {
     "name": "stderr",
     "output_type": "stream",
     "text": [
      "I0110 23:05:40.238322 139750346217216 tf_logging.py:115] Scale of 0 disables regularizer.\n"
     ]
    },
    {
     "name": "stdout",
     "output_type": "stream",
     "text": [
      "INFO:tensorflow:Scale of 0 disables regularizer.\n"
     ]
    },
    {
     "name": "stderr",
     "output_type": "stream",
     "text": [
      "I0110 23:05:42.681936 139750346217216 tf_logging.py:115] Scale of 0 disables regularizer.\n"
     ]
    },
    {
     "name": "stdout",
     "output_type": "stream",
     "text": [
      "INFO:tensorflow:Scale of 0 disables regularizer.\n"
     ]
    },
    {
     "name": "stderr",
     "output_type": "stream",
     "text": [
      "I0110 23:05:45.076849 139750346217216 tf_logging.py:115] Scale of 0 disables regularizer.\n"
     ]
    },
    {
     "name": "stdout",
     "output_type": "stream",
     "text": [
      "INFO:tensorflow:Scale of 0 disables regularizer.\n"
     ]
    },
    {
     "name": "stderr",
     "output_type": "stream",
     "text": [
      "I0110 23:05:47.513025 139750346217216 tf_logging.py:115] Scale of 0 disables regularizer.\n"
     ]
    },
    {
     "name": "stdout",
     "output_type": "stream",
     "text": [
      "INFO:tensorflow:Scale of 0 disables regularizer.\n"
     ]
    },
    {
     "name": "stderr",
     "output_type": "stream",
     "text": [
      "I0110 23:05:49.955044 139750346217216 tf_logging.py:115] Scale of 0 disables regularizer.\n"
     ]
    },
    {
     "name": "stdout",
     "output_type": "stream",
     "text": [
      "INFO:tensorflow:Scale of 0 disables regularizer.\n"
     ]
    },
    {
     "name": "stderr",
     "output_type": "stream",
     "text": [
      "I0110 23:05:52.395970 139750346217216 tf_logging.py:115] Scale of 0 disables regularizer.\n"
     ]
    },
    {
     "name": "stdout",
     "output_type": "stream",
     "text": [
      "INFO:tensorflow:Scale of 0 disables regularizer.\n"
     ]
    },
    {
     "name": "stderr",
     "output_type": "stream",
     "text": [
      "I0110 23:05:54.856999 139750346217216 tf_logging.py:115] Scale of 0 disables regularizer.\n"
     ]
    },
    {
     "name": "stdout",
     "output_type": "stream",
     "text": [
      "INFO:tensorflow:Scale of 0 disables regularizer.\n"
     ]
    },
    {
     "name": "stderr",
     "output_type": "stream",
     "text": [
      "I0110 23:05:57.238008 139750346217216 tf_logging.py:115] Scale of 0 disables regularizer.\n"
     ]
    },
    {
     "name": "stdout",
     "output_type": "stream",
     "text": [
      "INFO:tensorflow:Scale of 0 disables regularizer.\n"
     ]
    },
    {
     "name": "stderr",
     "output_type": "stream",
     "text": [
      "I0110 23:05:59.699691 139750346217216 tf_logging.py:115] Scale of 0 disables regularizer.\n"
     ]
    },
    {
     "name": "stdout",
     "output_type": "stream",
     "text": [
      "INFO:tensorflow:Scale of 0 disables regularizer.\n"
     ]
    },
    {
     "name": "stderr",
     "output_type": "stream",
     "text": [
      "I0110 23:06:02.147804 139750346217216 tf_logging.py:115] Scale of 0 disables regularizer.\n"
     ]
    },
    {
     "name": "stdout",
     "output_type": "stream",
     "text": [
      "INFO:tensorflow:Scale of 0 disables regularizer.\n"
     ]
    },
    {
     "name": "stderr",
     "output_type": "stream",
     "text": [
      "I0110 23:06:04.622161 139750346217216 tf_logging.py:115] Scale of 0 disables regularizer.\n"
     ]
    },
    {
     "name": "stdout",
     "output_type": "stream",
     "text": [
      "INFO:tensorflow:Scale of 0 disables regularizer.\n"
     ]
    },
    {
     "name": "stderr",
     "output_type": "stream",
     "text": [
      "I0110 23:06:07.042324 139750346217216 tf_logging.py:115] Scale of 0 disables regularizer.\n"
     ]
    },
    {
     "name": "stdout",
     "output_type": "stream",
     "text": [
      "INFO:tensorflow:Scale of 0 disables regularizer.\n"
     ]
    },
    {
     "name": "stderr",
     "output_type": "stream",
     "text": [
      "I0110 23:06:09.480446 139750346217216 tf_logging.py:115] Scale of 0 disables regularizer.\n"
     ]
    },
    {
     "name": "stdout",
     "output_type": "stream",
     "text": [
      "INFO:tensorflow:Scale of 0 disables regularizer.\n"
     ]
    },
    {
     "name": "stderr",
     "output_type": "stream",
     "text": [
      "I0110 23:06:11.936911 139750346217216 tf_logging.py:115] Scale of 0 disables regularizer.\n"
     ]
    },
    {
     "name": "stdout",
     "output_type": "stream",
     "text": [
      "INFO:tensorflow:Scale of 0 disables regularizer.\n"
     ]
    },
    {
     "name": "stderr",
     "output_type": "stream",
     "text": [
      "I0110 23:06:14.393586 139750346217216 tf_logging.py:115] Scale of 0 disables regularizer.\n"
     ]
    },
    {
     "name": "stdout",
     "output_type": "stream",
     "text": [
      "INFO:tensorflow:Scale of 0 disables regularizer.\n"
     ]
    },
    {
     "name": "stderr",
     "output_type": "stream",
     "text": [
      "I0110 23:06:16.784367 139750346217216 tf_logging.py:115] Scale of 0 disables regularizer.\n"
     ]
    },
    {
     "name": "stdout",
     "output_type": "stream",
     "text": [
      "INFO:tensorflow:Scale of 0 disables regularizer.\n"
     ]
    },
    {
     "name": "stderr",
     "output_type": "stream",
     "text": [
      "I0110 23:06:19.232497 139750346217216 tf_logging.py:115] Scale of 0 disables regularizer.\n"
     ]
    },
    {
     "name": "stdout",
     "output_type": "stream",
     "text": [
      "INFO:tensorflow:Scale of 0 disables regularizer.\n"
     ]
    },
    {
     "name": "stderr",
     "output_type": "stream",
     "text": [
      "I0110 23:06:21.680023 139750346217216 tf_logging.py:115] Scale of 0 disables regularizer.\n"
     ]
    },
    {
     "name": "stdout",
     "output_type": "stream",
     "text": [
      "INFO:tensorflow:Scale of 0 disables regularizer.\n"
     ]
    },
    {
     "name": "stderr",
     "output_type": "stream",
     "text": [
      "I0110 23:06:24.127364 139750346217216 tf_logging.py:115] Scale of 0 disables regularizer.\n"
     ]
    },
    {
     "name": "stdout",
     "output_type": "stream",
     "text": [
      "INFO:tensorflow:Scale of 0 disables regularizer.\n"
     ]
    },
    {
     "name": "stderr",
     "output_type": "stream",
     "text": [
      "I0110 23:06:26.575916 139750346217216 tf_logging.py:115] Scale of 0 disables regularizer.\n"
     ]
    },
    {
     "name": "stdout",
     "output_type": "stream",
     "text": [
      "INFO:tensorflow:Scale of 0 disables regularizer.\n"
     ]
    },
    {
     "name": "stderr",
     "output_type": "stream",
     "text": [
      "I0110 23:06:28.979341 139750346217216 tf_logging.py:115] Scale of 0 disables regularizer.\n"
     ]
    },
    {
     "name": "stdout",
     "output_type": "stream",
     "text": [
      "INFO:tensorflow:Scale of 0 disables regularizer.\n"
     ]
    },
    {
     "name": "stderr",
     "output_type": "stream",
     "text": [
      "I0110 23:06:31.504947 139750346217216 tf_logging.py:115] Scale of 0 disables regularizer.\n"
     ]
    },
    {
     "name": "stdout",
     "output_type": "stream",
     "text": [
      "INFO:tensorflow:Scale of 0 disables regularizer.\n"
     ]
    },
    {
     "name": "stderr",
     "output_type": "stream",
     "text": [
      "I0110 23:06:33.962448 139750346217216 tf_logging.py:115] Scale of 0 disables regularizer.\n"
     ]
    },
    {
     "name": "stdout",
     "output_type": "stream",
     "text": [
      "INFO:tensorflow:Scale of 0 disables regularizer.\n"
     ]
    },
    {
     "name": "stderr",
     "output_type": "stream",
     "text": [
      "I0110 23:06:36.436604 139750346217216 tf_logging.py:115] Scale of 0 disables regularizer.\n"
     ]
    },
    {
     "name": "stdout",
     "output_type": "stream",
     "text": [
      "INFO:tensorflow:Scale of 0 disables regularizer.\n"
     ]
    },
    {
     "name": "stderr",
     "output_type": "stream",
     "text": [
      "I0110 23:06:38.829390 139750346217216 tf_logging.py:115] Scale of 0 disables regularizer.\n"
     ]
    },
    {
     "name": "stdout",
     "output_type": "stream",
     "text": [
      "INFO:tensorflow:Scale of 0 disables regularizer.\n"
     ]
    },
    {
     "name": "stderr",
     "output_type": "stream",
     "text": [
      "I0110 23:06:41.280069 139750346217216 tf_logging.py:115] Scale of 0 disables regularizer.\n"
     ]
    },
    {
     "name": "stdout",
     "output_type": "stream",
     "text": [
      "INFO:tensorflow:Scale of 0 disables regularizer.\n"
     ]
    },
    {
     "name": "stderr",
     "output_type": "stream",
     "text": [
      "I0110 23:06:43.727430 139750346217216 tf_logging.py:115] Scale of 0 disables regularizer.\n"
     ]
    },
    {
     "name": "stdout",
     "output_type": "stream",
     "text": [
      "INFO:tensorflow:Scale of 0 disables regularizer.\n"
     ]
    },
    {
     "name": "stderr",
     "output_type": "stream",
     "text": [
      "I0110 23:06:46.176893 139750346217216 tf_logging.py:115] Scale of 0 disables regularizer.\n"
     ]
    },
    {
     "name": "stdout",
     "output_type": "stream",
     "text": [
      "INFO:tensorflow:Scale of 0 disables regularizer.\n"
     ]
    },
    {
     "name": "stderr",
     "output_type": "stream",
     "text": [
      "I0110 23:06:48.625125 139750346217216 tf_logging.py:115] Scale of 0 disables regularizer.\n"
     ]
    },
    {
     "name": "stdout",
     "output_type": "stream",
     "text": [
      "INFO:tensorflow:Scale of 0 disables regularizer.\n"
     ]
    },
    {
     "name": "stderr",
     "output_type": "stream",
     "text": [
      "I0110 23:06:51.026933 139750346217216 tf_logging.py:115] Scale of 0 disables regularizer.\n"
     ]
    },
    {
     "name": "stdout",
     "output_type": "stream",
     "text": [
      "INFO:tensorflow:Scale of 0 disables regularizer.\n"
     ]
    },
    {
     "name": "stderr",
     "output_type": "stream",
     "text": [
      "I0110 23:06:53.463538 139750346217216 tf_logging.py:115] Scale of 0 disables regularizer.\n"
     ]
    },
    {
     "name": "stdout",
     "output_type": "stream",
     "text": [
      "INFO:tensorflow:Scale of 0 disables regularizer.\n"
     ]
    },
    {
     "name": "stderr",
     "output_type": "stream",
     "text": [
      "I0110 23:06:55.908746 139750346217216 tf_logging.py:115] Scale of 0 disables regularizer.\n"
     ]
    },
    {
     "name": "stdout",
     "output_type": "stream",
     "text": [
      "INFO:tensorflow:Scale of 0 disables regularizer.\n"
     ]
    },
    {
     "name": "stderr",
     "output_type": "stream",
     "text": [
      "I0110 23:06:58.350564 139750346217216 tf_logging.py:115] Scale of 0 disables regularizer.\n"
     ]
    },
    {
     "name": "stdout",
     "output_type": "stream",
     "text": [
      "INFO:tensorflow:Scale of 0 disables regularizer.\n"
     ]
    },
    {
     "name": "stderr",
     "output_type": "stream",
     "text": [
      "I0110 23:07:00.738195 139750346217216 tf_logging.py:115] Scale of 0 disables regularizer.\n"
     ]
    },
    {
     "name": "stdout",
     "output_type": "stream",
     "text": [
      "INFO:tensorflow:Scale of 0 disables regularizer.\n"
     ]
    },
    {
     "name": "stderr",
     "output_type": "stream",
     "text": [
      "I0110 23:07:03.175589 139750346217216 tf_logging.py:115] Scale of 0 disables regularizer.\n"
     ]
    },
    {
     "name": "stdout",
     "output_type": "stream",
     "text": [
      "INFO:tensorflow:Scale of 0 disables regularizer.\n"
     ]
    },
    {
     "name": "stderr",
     "output_type": "stream",
     "text": [
      "I0110 23:07:05.617228 139750346217216 tf_logging.py:115] Scale of 0 disables regularizer.\n"
     ]
    },
    {
     "name": "stdout",
     "output_type": "stream",
     "text": [
      "INFO:tensorflow:Scale of 0 disables regularizer.\n"
     ]
    },
    {
     "name": "stderr",
     "output_type": "stream",
     "text": [
      "I0110 23:07:08.066966 139750346217216 tf_logging.py:115] Scale of 0 disables regularizer.\n"
     ]
    },
    {
     "name": "stdout",
     "output_type": "stream",
     "text": [
      "INFO:tensorflow:Scale of 0 disables regularizer.\n"
     ]
    },
    {
     "name": "stderr",
     "output_type": "stream",
     "text": [
      "I0110 23:07:10.461296 139750346217216 tf_logging.py:115] Scale of 0 disables regularizer.\n"
     ]
    },
    {
     "name": "stdout",
     "output_type": "stream",
     "text": [
      "INFO:tensorflow:Scale of 0 disables regularizer.\n"
     ]
    },
    {
     "name": "stderr",
     "output_type": "stream",
     "text": [
      "I0110 23:07:12.907496 139750346217216 tf_logging.py:115] Scale of 0 disables regularizer.\n"
     ]
    },
    {
     "name": "stdout",
     "output_type": "stream",
     "text": [
      "INFO:tensorflow:Scale of 0 disables regularizer.\n"
     ]
    },
    {
     "name": "stderr",
     "output_type": "stream",
     "text": [
      "I0110 23:07:15.356124 139750346217216 tf_logging.py:115] Scale of 0 disables regularizer.\n"
     ]
    },
    {
     "name": "stdout",
     "output_type": "stream",
     "text": [
      "INFO:tensorflow:Scale of 0 disables regularizer.\n"
     ]
    },
    {
     "name": "stderr",
     "output_type": "stream",
     "text": [
      "I0110 23:07:17.807506 139750346217216 tf_logging.py:115] Scale of 0 disables regularizer.\n"
     ]
    },
    {
     "name": "stdout",
     "output_type": "stream",
     "text": [
      "INFO:tensorflow:Scale of 0 disables regularizer.\n"
     ]
    },
    {
     "name": "stderr",
     "output_type": "stream",
     "text": [
      "I0110 23:07:20.250475 139750346217216 tf_logging.py:115] Scale of 0 disables regularizer.\n"
     ]
    },
    {
     "name": "stdout",
     "output_type": "stream",
     "text": [
      "INFO:tensorflow:Scale of 0 disables regularizer.\n"
     ]
    },
    {
     "name": "stderr",
     "output_type": "stream",
     "text": [
      "I0110 23:07:22.650615 139750346217216 tf_logging.py:115] Scale of 0 disables regularizer.\n"
     ]
    },
    {
     "name": "stdout",
     "output_type": "stream",
     "text": [
      "INFO:tensorflow:Scale of 0 disables regularizer.\n"
     ]
    },
    {
     "name": "stderr",
     "output_type": "stream",
     "text": [
      "I0110 23:07:25.129399 139750346217216 tf_logging.py:115] Scale of 0 disables regularizer.\n"
     ]
    },
    {
     "name": "stdout",
     "output_type": "stream",
     "text": [
      "INFO:tensorflow:Scale of 0 disables regularizer.\n"
     ]
    },
    {
     "name": "stderr",
     "output_type": "stream",
     "text": [
      "I0110 23:07:27.589330 139750346217216 tf_logging.py:115] Scale of 0 disables regularizer.\n"
     ]
    },
    {
     "name": "stdout",
     "output_type": "stream",
     "text": [
      "INFO:tensorflow:Scale of 0 disables regularizer.\n"
     ]
    },
    {
     "name": "stderr",
     "output_type": "stream",
     "text": [
      "I0110 23:07:30.038532 139750346217216 tf_logging.py:115] Scale of 0 disables regularizer.\n"
     ]
    },
    {
     "name": "stdout",
     "output_type": "stream",
     "text": [
      "INFO:tensorflow:Scale of 0 disables regularizer.\n"
     ]
    },
    {
     "name": "stderr",
     "output_type": "stream",
     "text": [
      "I0110 23:07:32.425711 139750346217216 tf_logging.py:115] Scale of 0 disables regularizer.\n"
     ]
    },
    {
     "name": "stdout",
     "output_type": "stream",
     "text": [
      "INFO:tensorflow:Scale of 0 disables regularizer.\n"
     ]
    },
    {
     "name": "stderr",
     "output_type": "stream",
     "text": [
      "I0110 23:07:34.870623 139750346217216 tf_logging.py:115] Scale of 0 disables regularizer.\n"
     ]
    },
    {
     "name": "stdout",
     "output_type": "stream",
     "text": [
      "INFO:tensorflow:Scale of 0 disables regularizer.\n"
     ]
    },
    {
     "name": "stderr",
     "output_type": "stream",
     "text": [
      "I0110 23:07:37.325095 139750346217216 tf_logging.py:115] Scale of 0 disables regularizer.\n"
     ]
    },
    {
     "name": "stdout",
     "output_type": "stream",
     "text": [
      "INFO:tensorflow:Scale of 0 disables regularizer.\n"
     ]
    },
    {
     "name": "stderr",
     "output_type": "stream",
     "text": [
      "I0110 23:07:39.773678 139750346217216 tf_logging.py:115] Scale of 0 disables regularizer.\n"
     ]
    },
    {
     "name": "stdout",
     "output_type": "stream",
     "text": [
      "INFO:tensorflow:Scale of 0 disables regularizer.\n"
     ]
    },
    {
     "name": "stderr",
     "output_type": "stream",
     "text": [
      "I0110 23:07:42.239484 139750346217216 tf_logging.py:115] Scale of 0 disables regularizer.\n"
     ]
    },
    {
     "name": "stdout",
     "output_type": "stream",
     "text": [
      "INFO:tensorflow:Scale of 0 disables regularizer.\n"
     ]
    },
    {
     "name": "stderr",
     "output_type": "stream",
     "text": [
      "I0110 23:07:44.622813 139750346217216 tf_logging.py:115] Scale of 0 disables regularizer.\n"
     ]
    },
    {
     "name": "stdout",
     "output_type": "stream",
     "text": [
      "INFO:tensorflow:Scale of 0 disables regularizer.\n"
     ]
    },
    {
     "name": "stderr",
     "output_type": "stream",
     "text": [
      "I0110 23:07:47.081114 139750346217216 tf_logging.py:115] Scale of 0 disables regularizer.\n"
     ]
    },
    {
     "name": "stdout",
     "output_type": "stream",
     "text": [
      "INFO:tensorflow:Scale of 0 disables regularizer.\n"
     ]
    },
    {
     "name": "stderr",
     "output_type": "stream",
     "text": [
      "I0110 23:07:49.522722 139750346217216 tf_logging.py:115] Scale of 0 disables regularizer.\n"
     ]
    },
    {
     "name": "stdout",
     "output_type": "stream",
     "text": [
      "INFO:tensorflow:Scale of 0 disables regularizer.\n"
     ]
    },
    {
     "name": "stderr",
     "output_type": "stream",
     "text": [
      "I0110 23:07:52.005041 139750346217216 tf_logging.py:115] Scale of 0 disables regularizer.\n"
     ]
    },
    {
     "name": "stdout",
     "output_type": "stream",
     "text": [
      "INFO:tensorflow:Scale of 0 disables regularizer.\n"
     ]
    },
    {
     "name": "stderr",
     "output_type": "stream",
     "text": [
      "I0110 23:07:54.406247 139750346217216 tf_logging.py:115] Scale of 0 disables regularizer.\n"
     ]
    },
    {
     "name": "stdout",
     "output_type": "stream",
     "text": [
      "INFO:tensorflow:Scale of 0 disables regularizer.\n"
     ]
    },
    {
     "name": "stderr",
     "output_type": "stream",
     "text": [
      "I0110 23:07:56.864425 139750346217216 tf_logging.py:115] Scale of 0 disables regularizer.\n"
     ]
    },
    {
     "name": "stdout",
     "output_type": "stream",
     "text": [
      "INFO:tensorflow:Scale of 0 disables regularizer.\n"
     ]
    },
    {
     "name": "stderr",
     "output_type": "stream",
     "text": [
      "I0110 23:07:59.319749 139750346217216 tf_logging.py:115] Scale of 0 disables regularizer.\n"
     ]
    },
    {
     "name": "stdout",
     "output_type": "stream",
     "text": [
      "INFO:tensorflow:Scale of 0 disables regularizer.\n"
     ]
    },
    {
     "name": "stderr",
     "output_type": "stream",
     "text": [
      "I0110 23:08:01.788331 139750346217216 tf_logging.py:115] Scale of 0 disables regularizer.\n"
     ]
    },
    {
     "name": "stdout",
     "output_type": "stream",
     "text": [
      "INFO:tensorflow:Scale of 0 disables regularizer.\n"
     ]
    },
    {
     "name": "stderr",
     "output_type": "stream",
     "text": [
      "I0110 23:08:04.181136 139750346217216 tf_logging.py:115] Scale of 0 disables regularizer.\n"
     ]
    },
    {
     "name": "stdout",
     "output_type": "stream",
     "text": [
      "INFO:tensorflow:Scale of 0 disables regularizer.\n"
     ]
    },
    {
     "name": "stderr",
     "output_type": "stream",
     "text": [
      "I0110 23:08:06.627103 139750346217216 tf_logging.py:115] Scale of 0 disables regularizer.\n"
     ]
    },
    {
     "name": "stdout",
     "output_type": "stream",
     "text": [
      "INFO:tensorflow:Scale of 0 disables regularizer.\n"
     ]
    },
    {
     "name": "stderr",
     "output_type": "stream",
     "text": [
      "I0110 23:08:09.141342 139750346217216 tf_logging.py:115] Scale of 0 disables regularizer.\n"
     ]
    },
    {
     "name": "stdout",
     "output_type": "stream",
     "text": [
      "INFO:tensorflow:Scale of 0 disables regularizer.\n"
     ]
    },
    {
     "name": "stderr",
     "output_type": "stream",
     "text": [
      "I0110 23:08:11.583848 139750346217216 tf_logging.py:115] Scale of 0 disables regularizer.\n"
     ]
    },
    {
     "name": "stdout",
     "output_type": "stream",
     "text": [
      "INFO:tensorflow:Scale of 0 disables regularizer.\n"
     ]
    },
    {
     "name": "stderr",
     "output_type": "stream",
     "text": [
      "I0110 23:08:14.054435 139750346217216 tf_logging.py:115] Scale of 0 disables regularizer.\n"
     ]
    },
    {
     "name": "stdout",
     "output_type": "stream",
     "text": [
      "INFO:tensorflow:Scale of 0 disables regularizer.\n"
     ]
    },
    {
     "name": "stderr",
     "output_type": "stream",
     "text": [
      "I0110 23:08:16.439923 139750346217216 tf_logging.py:115] Scale of 0 disables regularizer.\n"
     ]
    },
    {
     "name": "stdout",
     "output_type": "stream",
     "text": [
      "INFO:tensorflow:Scale of 0 disables regularizer.\n"
     ]
    },
    {
     "name": "stderr",
     "output_type": "stream",
     "text": [
      "I0110 23:08:18.890590 139750346217216 tf_logging.py:115] Scale of 0 disables regularizer.\n"
     ]
    },
    {
     "name": "stdout",
     "output_type": "stream",
     "text": [
      "INFO:tensorflow:Scale of 0 disables regularizer.\n"
     ]
    },
    {
     "name": "stderr",
     "output_type": "stream",
     "text": [
      "I0110 23:08:21.336364 139750346217216 tf_logging.py:115] Scale of 0 disables regularizer.\n"
     ]
    },
    {
     "name": "stdout",
     "output_type": "stream",
     "text": [
      "INFO:tensorflow:Scale of 0 disables regularizer.\n"
     ]
    },
    {
     "name": "stderr",
     "output_type": "stream",
     "text": [
      "I0110 23:08:23.793421 139750346217216 tf_logging.py:115] Scale of 0 disables regularizer.\n"
     ]
    },
    {
     "name": "stdout",
     "output_type": "stream",
     "text": [
      "INFO:tensorflow:Scale of 0 disables regularizer.\n"
     ]
    },
    {
     "name": "stderr",
     "output_type": "stream",
     "text": [
      "I0110 23:08:26.176748 139750346217216 tf_logging.py:115] Scale of 0 disables regularizer.\n"
     ]
    },
    {
     "name": "stdout",
     "output_type": "stream",
     "text": [
      "INFO:tensorflow:Scale of 0 disables regularizer.\n"
     ]
    },
    {
     "name": "stderr",
     "output_type": "stream",
     "text": [
      "I0110 23:08:28.598390 139750346217216 tf_logging.py:115] Scale of 0 disables regularizer.\n"
     ]
    },
    {
     "name": "stdout",
     "output_type": "stream",
     "text": [
      "INFO:tensorflow:Scale of 0 disables regularizer.\n"
     ]
    },
    {
     "name": "stderr",
     "output_type": "stream",
     "text": [
      "I0110 23:08:31.041187 139750346217216 tf_logging.py:115] Scale of 0 disables regularizer.\n"
     ]
    },
    {
     "name": "stdout",
     "output_type": "stream",
     "text": [
      "INFO:tensorflow:Scale of 0 disables regularizer.\n"
     ]
    },
    {
     "name": "stderr",
     "output_type": "stream",
     "text": [
      "I0110 23:08:33.485548 139750346217216 tf_logging.py:115] Scale of 0 disables regularizer.\n"
     ]
    },
    {
     "name": "stdout",
     "output_type": "stream",
     "text": [
      "INFO:tensorflow:Scale of 0 disables regularizer.\n"
     ]
    },
    {
     "name": "stderr",
     "output_type": "stream",
     "text": [
      "I0110 23:08:35.961222 139750346217216 tf_logging.py:115] Scale of 0 disables regularizer.\n"
     ]
    },
    {
     "name": "stdout",
     "output_type": "stream",
     "text": [
      "INFO:tensorflow:Scale of 0 disables regularizer.\n"
     ]
    },
    {
     "name": "stderr",
     "output_type": "stream",
     "text": [
      "I0110 23:08:38.350220 139750346217216 tf_logging.py:115] Scale of 0 disables regularizer.\n"
     ]
    },
    {
     "name": "stdout",
     "output_type": "stream",
     "text": [
      "INFO:tensorflow:Scale of 0 disables regularizer.\n"
     ]
    },
    {
     "name": "stderr",
     "output_type": "stream",
     "text": [
      "I0110 23:08:40.793432 139750346217216 tf_logging.py:115] Scale of 0 disables regularizer.\n"
     ]
    },
    {
     "name": "stdout",
     "output_type": "stream",
     "text": [
      "INFO:tensorflow:Scale of 0 disables regularizer.\n"
     ]
    },
    {
     "name": "stderr",
     "output_type": "stream",
     "text": [
      "I0110 23:08:43.264246 139750346217216 tf_logging.py:115] Scale of 0 disables regularizer.\n"
     ]
    },
    {
     "name": "stdout",
     "output_type": "stream",
     "text": [
      "INFO:tensorflow:Scale of 0 disables regularizer.\n"
     ]
    },
    {
     "name": "stderr",
     "output_type": "stream",
     "text": [
      "I0110 23:08:45.721699 139750346217216 tf_logging.py:115] Scale of 0 disables regularizer.\n"
     ]
    },
    {
     "name": "stdout",
     "output_type": "stream",
     "text": [
      "INFO:tensorflow:Scale of 0 disables regularizer.\n"
     ]
    },
    {
     "name": "stderr",
     "output_type": "stream",
     "text": [
      "I0110 23:08:48.125090 139750346217216 tf_logging.py:115] Scale of 0 disables regularizer.\n"
     ]
    },
    {
     "name": "stdout",
     "output_type": "stream",
     "text": [
      "INFO:tensorflow:Scale of 0 disables regularizer.\n"
     ]
    },
    {
     "name": "stderr",
     "output_type": "stream",
     "text": [
      "I0110 23:08:50.588118 139750346217216 tf_logging.py:115] Scale of 0 disables regularizer.\n"
     ]
    },
    {
     "name": "stdout",
     "output_type": "stream",
     "text": [
      "INFO:tensorflow:Scale of 0 disables regularizer.\n"
     ]
    },
    {
     "name": "stderr",
     "output_type": "stream",
     "text": [
      "I0110 23:08:53.038676 139750346217216 tf_logging.py:115] Scale of 0 disables regularizer.\n"
     ]
    },
    {
     "name": "stdout",
     "output_type": "stream",
     "text": [
      "INFO:tensorflow:Scale of 0 disables regularizer.\n"
     ]
    },
    {
     "name": "stderr",
     "output_type": "stream",
     "text": [
      "I0110 23:08:55.492304 139750346217216 tf_logging.py:115] Scale of 0 disables regularizer.\n"
     ]
    },
    {
     "name": "stdout",
     "output_type": "stream",
     "text": [
      "INFO:tensorflow:Scale of 0 disables regularizer.\n"
     ]
    },
    {
     "name": "stderr",
     "output_type": "stream",
     "text": [
      "I0110 23:08:57.896683 139750346217216 tf_logging.py:115] Scale of 0 disables regularizer.\n"
     ]
    },
    {
     "name": "stdout",
     "output_type": "stream",
     "text": [
      "INFO:tensorflow:Scale of 0 disables regularizer.\n"
     ]
    },
    {
     "name": "stderr",
     "output_type": "stream",
     "text": [
      "I0110 23:09:00.341804 139750346217216 tf_logging.py:115] Scale of 0 disables regularizer.\n"
     ]
    },
    {
     "name": "stdout",
     "output_type": "stream",
     "text": [
      "INFO:tensorflow:Scale of 0 disables regularizer.\n"
     ]
    },
    {
     "name": "stderr",
     "output_type": "stream",
     "text": [
      "I0110 23:09:02.814201 139750346217216 tf_logging.py:115] Scale of 0 disables regularizer.\n"
     ]
    },
    {
     "name": "stdout",
     "output_type": "stream",
     "text": [
      "INFO:tensorflow:Scale of 0 disables regularizer.\n"
     ]
    },
    {
     "name": "stderr",
     "output_type": "stream",
     "text": [
      "I0110 23:09:05.265359 139750346217216 tf_logging.py:115] Scale of 0 disables regularizer.\n"
     ]
    },
    {
     "name": "stdout",
     "output_type": "stream",
     "text": [
      "INFO:tensorflow:Scale of 0 disables regularizer.\n"
     ]
    },
    {
     "name": "stderr",
     "output_type": "stream",
     "text": [
      "I0110 23:09:07.735775 139750346217216 tf_logging.py:115] Scale of 0 disables regularizer.\n"
     ]
    },
    {
     "name": "stdout",
     "output_type": "stream",
     "text": [
      "INFO:tensorflow:Scale of 0 disables regularizer.\n"
     ]
    },
    {
     "name": "stderr",
     "output_type": "stream",
     "text": [
      "I0110 23:09:10.131297 139750346217216 tf_logging.py:115] Scale of 0 disables regularizer.\n"
     ]
    },
    {
     "name": "stdout",
     "output_type": "stream",
     "text": [
      "INFO:tensorflow:Scale of 0 disables regularizer.\n"
     ]
    },
    {
     "name": "stderr",
     "output_type": "stream",
     "text": [
      "I0110 23:09:12.573405 139750346217216 tf_logging.py:115] Scale of 0 disables regularizer.\n"
     ]
    },
    {
     "name": "stdout",
     "output_type": "stream",
     "text": [
      "INFO:tensorflow:Scale of 0 disables regularizer.\n"
     ]
    },
    {
     "name": "stderr",
     "output_type": "stream",
     "text": [
      "I0110 23:09:15.021189 139750346217216 tf_logging.py:115] Scale of 0 disables regularizer.\n"
     ]
    },
    {
     "name": "stdout",
     "output_type": "stream",
     "text": [
      "INFO:tensorflow:Scale of 0 disables regularizer.\n"
     ]
    },
    {
     "name": "stderr",
     "output_type": "stream",
     "text": [
      "I0110 23:09:17.471436 139750346217216 tf_logging.py:115] Scale of 0 disables regularizer.\n"
     ]
    },
    {
     "name": "stdout",
     "output_type": "stream",
     "text": [
      "INFO:tensorflow:Scale of 0 disables regularizer.\n"
     ]
    },
    {
     "name": "stderr",
     "output_type": "stream",
     "text": [
      "I0110 23:09:19.871785 139750346217216 tf_logging.py:115] Scale of 0 disables regularizer.\n"
     ]
    },
    {
     "name": "stdout",
     "output_type": "stream",
     "text": [
      "INFO:tensorflow:Scale of 0 disables regularizer.\n"
     ]
    },
    {
     "name": "stderr",
     "output_type": "stream",
     "text": [
      "I0110 23:09:22.276931 139750346217216 tf_logging.py:115] Scale of 0 disables regularizer.\n"
     ]
    },
    {
     "name": "stdout",
     "output_type": "stream",
     "text": [
      "INFO:tensorflow:Scale of 0 disables regularizer.\n"
     ]
    },
    {
     "name": "stderr",
     "output_type": "stream",
     "text": [
      "I0110 23:09:24.722789 139750346217216 tf_logging.py:115] Scale of 0 disables regularizer.\n"
     ]
    },
    {
     "name": "stdout",
     "output_type": "stream",
     "text": [
      "INFO:tensorflow:Scale of 0 disables regularizer.\n"
     ]
    },
    {
     "name": "stderr",
     "output_type": "stream",
     "text": [
      "I0110 23:09:27.151307 139750346217216 tf_logging.py:115] Scale of 0 disables regularizer.\n"
     ]
    },
    {
     "name": "stdout",
     "output_type": "stream",
     "text": [
      "INFO:tensorflow:Scale of 0 disables regularizer.\n"
     ]
    },
    {
     "name": "stderr",
     "output_type": "stream",
     "text": [
      "I0110 23:09:29.607602 139750346217216 tf_logging.py:115] Scale of 0 disables regularizer.\n"
     ]
    },
    {
     "name": "stdout",
     "output_type": "stream",
     "text": [
      "INFO:tensorflow:Scale of 0 disables regularizer.\n"
     ]
    },
    {
     "name": "stderr",
     "output_type": "stream",
     "text": [
      "I0110 23:09:31.997563 139750346217216 tf_logging.py:115] Scale of 0 disables regularizer.\n"
     ]
    },
    {
     "name": "stdout",
     "output_type": "stream",
     "text": [
      "INFO:tensorflow:Scale of 0 disables regularizer.\n"
     ]
    },
    {
     "name": "stderr",
     "output_type": "stream",
     "text": [
      "I0110 23:09:34.464837 139750346217216 tf_logging.py:115] Scale of 0 disables regularizer.\n"
     ]
    },
    {
     "name": "stdout",
     "output_type": "stream",
     "text": [
      "INFO:tensorflow:Scale of 0 disables regularizer.\n"
     ]
    },
    {
     "name": "stderr",
     "output_type": "stream",
     "text": [
      "I0110 23:09:36.911232 139750346217216 tf_logging.py:115] Scale of 0 disables regularizer.\n"
     ]
    },
    {
     "name": "stdout",
     "output_type": "stream",
     "text": [
      "INFO:tensorflow:Scale of 0 disables regularizer.\n"
     ]
    },
    {
     "name": "stderr",
     "output_type": "stream",
     "text": [
      "I0110 23:09:39.368578 139750346217216 tf_logging.py:115] Scale of 0 disables regularizer.\n"
     ]
    },
    {
     "name": "stdout",
     "output_type": "stream",
     "text": [
      "INFO:tensorflow:Scale of 0 disables regularizer.\n"
     ]
    },
    {
     "name": "stderr",
     "output_type": "stream",
     "text": [
      "I0110 23:09:41.752407 139750346217216 tf_logging.py:115] Scale of 0 disables regularizer.\n"
     ]
    },
    {
     "name": "stdout",
     "output_type": "stream",
     "text": [
      "INFO:tensorflow:Scale of 0 disables regularizer.\n"
     ]
    },
    {
     "name": "stderr",
     "output_type": "stream",
     "text": [
      "I0110 23:09:44.216480 139750346217216 tf_logging.py:115] Scale of 0 disables regularizer.\n"
     ]
    },
    {
     "name": "stdout",
     "output_type": "stream",
     "text": [
      "INFO:tensorflow:Scale of 0 disables regularizer.\n"
     ]
    },
    {
     "name": "stderr",
     "output_type": "stream",
     "text": [
      "I0110 23:09:46.668970 139750346217216 tf_logging.py:115] Scale of 0 disables regularizer.\n"
     ]
    },
    {
     "name": "stdout",
     "output_type": "stream",
     "text": [
      "INFO:tensorflow:Scale of 0 disables regularizer.\n"
     ]
    },
    {
     "name": "stderr",
     "output_type": "stream",
     "text": [
      "I0110 23:09:49.143206 139750346217216 tf_logging.py:115] Scale of 0 disables regularizer.\n"
     ]
    },
    {
     "name": "stdout",
     "output_type": "stream",
     "text": [
      "INFO:tensorflow:Scale of 0 disables regularizer.\n"
     ]
    },
    {
     "name": "stderr",
     "output_type": "stream",
     "text": [
      "I0110 23:09:51.531610 139750346217216 tf_logging.py:115] Scale of 0 disables regularizer.\n"
     ]
    },
    {
     "name": "stdout",
     "output_type": "stream",
     "text": [
      "INFO:tensorflow:Scale of 0 disables regularizer.\n"
     ]
    },
    {
     "name": "stderr",
     "output_type": "stream",
     "text": [
      "I0110 23:09:53.963066 139750346217216 tf_logging.py:115] Scale of 0 disables regularizer.\n"
     ]
    },
    {
     "name": "stdout",
     "output_type": "stream",
     "text": [
      "INFO:tensorflow:Scale of 0 disables regularizer.\n"
     ]
    },
    {
     "name": "stderr",
     "output_type": "stream",
     "text": [
      "I0110 23:09:56.400691 139750346217216 tf_logging.py:115] Scale of 0 disables regularizer.\n"
     ]
    },
    {
     "name": "stdout",
     "output_type": "stream",
     "text": [
      "INFO:tensorflow:Scale of 0 disables regularizer.\n"
     ]
    },
    {
     "name": "stderr",
     "output_type": "stream",
     "text": [
      "I0110 23:09:58.837295 139750346217216 tf_logging.py:115] Scale of 0 disables regularizer.\n"
     ]
    },
    {
     "name": "stdout",
     "output_type": "stream",
     "text": [
      "INFO:tensorflow:Scale of 0 disables regularizer.\n"
     ]
    },
    {
     "name": "stderr",
     "output_type": "stream",
     "text": [
      "I0110 23:10:01.305989 139750346217216 tf_logging.py:115] Scale of 0 disables regularizer.\n"
     ]
    },
    {
     "name": "stdout",
     "output_type": "stream",
     "text": [
      "INFO:tensorflow:Scale of 0 disables regularizer.\n"
     ]
    },
    {
     "name": "stderr",
     "output_type": "stream",
     "text": [
      "I0110 23:10:03.682783 139750346217216 tf_logging.py:115] Scale of 0 disables regularizer.\n"
     ]
    },
    {
     "name": "stdout",
     "output_type": "stream",
     "text": [
      "INFO:tensorflow:Scale of 0 disables regularizer.\n"
     ]
    },
    {
     "name": "stderr",
     "output_type": "stream",
     "text": [
      "I0110 23:10:06.116855 139750346217216 tf_logging.py:115] Scale of 0 disables regularizer.\n"
     ]
    },
    {
     "name": "stdout",
     "output_type": "stream",
     "text": [
      "INFO:tensorflow:Scale of 0 disables regularizer.\n"
     ]
    },
    {
     "name": "stderr",
     "output_type": "stream",
     "text": [
      "I0110 23:10:08.555851 139750346217216 tf_logging.py:115] Scale of 0 disables regularizer.\n"
     ]
    },
    {
     "name": "stdout",
     "output_type": "stream",
     "text": [
      "INFO:tensorflow:Scale of 0 disables regularizer.\n"
     ]
    },
    {
     "name": "stderr",
     "output_type": "stream",
     "text": [
      "I0110 23:10:11.000546 139750346217216 tf_logging.py:115] Scale of 0 disables regularizer.\n"
     ]
    },
    {
     "name": "stdout",
     "output_type": "stream",
     "text": [
      "INFO:tensorflow:Scale of 0 disables regularizer.\n"
     ]
    },
    {
     "name": "stderr",
     "output_type": "stream",
     "text": [
      "I0110 23:10:13.380656 139750346217216 tf_logging.py:115] Scale of 0 disables regularizer.\n"
     ]
    },
    {
     "name": "stdout",
     "output_type": "stream",
     "text": [
      "INFO:tensorflow:Scale of 0 disables regularizer.\n"
     ]
    },
    {
     "name": "stderr",
     "output_type": "stream",
     "text": [
      "I0110 23:10:15.830816 139750346217216 tf_logging.py:115] Scale of 0 disables regularizer.\n"
     ]
    },
    {
     "name": "stdout",
     "output_type": "stream",
     "text": [
      "INFO:tensorflow:Scale of 0 disables regularizer.\n"
     ]
    },
    {
     "name": "stderr",
     "output_type": "stream",
     "text": [
      "I0110 23:10:18.449291 139750346217216 tf_logging.py:115] Scale of 0 disables regularizer.\n"
     ]
    },
    {
     "name": "stdout",
     "output_type": "stream",
     "text": [
      "INFO:tensorflow:Scale of 0 disables regularizer.\n"
     ]
    },
    {
     "name": "stderr",
     "output_type": "stream",
     "text": [
      "I0110 23:10:20.898410 139750346217216 tf_logging.py:115] Scale of 0 disables regularizer.\n"
     ]
    },
    {
     "name": "stdout",
     "output_type": "stream",
     "text": [
      "INFO:tensorflow:Scale of 0 disables regularizer.\n"
     ]
    },
    {
     "name": "stderr",
     "output_type": "stream",
     "text": [
      "I0110 23:10:23.351156 139750346217216 tf_logging.py:115] Scale of 0 disables regularizer.\n"
     ]
    },
    {
     "name": "stdout",
     "output_type": "stream",
     "text": [
      "INFO:tensorflow:Scale of 0 disables regularizer.\n"
     ]
    },
    {
     "name": "stderr",
     "output_type": "stream",
     "text": [
      "I0110 23:10:25.748267 139750346217216 tf_logging.py:115] Scale of 0 disables regularizer.\n"
     ]
    },
    {
     "name": "stdout",
     "output_type": "stream",
     "text": [
      "INFO:tensorflow:Scale of 0 disables regularizer.\n"
     ]
    },
    {
     "name": "stderr",
     "output_type": "stream",
     "text": [
      "I0110 23:10:28.179687 139750346217216 tf_logging.py:115] Scale of 0 disables regularizer.\n"
     ]
    },
    {
     "name": "stdout",
     "output_type": "stream",
     "text": [
      "INFO:tensorflow:Scale of 0 disables regularizer.\n"
     ]
    },
    {
     "name": "stderr",
     "output_type": "stream",
     "text": [
      "I0110 23:10:30.626442 139750346217216 tf_logging.py:115] Scale of 0 disables regularizer.\n"
     ]
    },
    {
     "name": "stdout",
     "output_type": "stream",
     "text": [
      "INFO:tensorflow:Scale of 0 disables regularizer.\n"
     ]
    },
    {
     "name": "stderr",
     "output_type": "stream",
     "text": [
      "I0110 23:10:33.081662 139750346217216 tf_logging.py:115] Scale of 0 disables regularizer.\n"
     ]
    },
    {
     "name": "stdout",
     "output_type": "stream",
     "text": [
      "INFO:tensorflow:Scale of 0 disables regularizer.\n"
     ]
    },
    {
     "name": "stderr",
     "output_type": "stream",
     "text": [
      "I0110 23:10:35.509083 139750346217216 tf_logging.py:115] Scale of 0 disables regularizer.\n"
     ]
    },
    {
     "name": "stdout",
     "output_type": "stream",
     "text": [
      "INFO:tensorflow:Scale of 0 disables regularizer.\n"
     ]
    },
    {
     "name": "stderr",
     "output_type": "stream",
     "text": [
      "I0110 23:10:37.949685 139750346217216 tf_logging.py:115] Scale of 0 disables regularizer.\n"
     ]
    },
    {
     "name": "stdout",
     "output_type": "stream",
     "text": [
      "INFO:tensorflow:Scale of 0 disables regularizer.\n"
     ]
    },
    {
     "name": "stderr",
     "output_type": "stream",
     "text": [
      "I0110 23:10:40.393062 139750346217216 tf_logging.py:115] Scale of 0 disables regularizer.\n"
     ]
    },
    {
     "name": "stdout",
     "output_type": "stream",
     "text": [
      "INFO:tensorflow:Scale of 0 disables regularizer.\n"
     ]
    },
    {
     "name": "stderr",
     "output_type": "stream",
     "text": [
      "I0110 23:10:42.847317 139750346217216 tf_logging.py:115] Scale of 0 disables regularizer.\n"
     ]
    },
    {
     "name": "stdout",
     "output_type": "stream",
     "text": [
      "INFO:tensorflow:Scale of 0 disables regularizer.\n"
     ]
    },
    {
     "name": "stderr",
     "output_type": "stream",
     "text": [
      "I0110 23:10:45.239360 139750346217216 tf_logging.py:115] Scale of 0 disables regularizer.\n"
     ]
    },
    {
     "name": "stdout",
     "output_type": "stream",
     "text": [
      "INFO:tensorflow:Scale of 0 disables regularizer.\n"
     ]
    },
    {
     "name": "stderr",
     "output_type": "stream",
     "text": [
      "I0110 23:10:47.681378 139750346217216 tf_logging.py:115] Scale of 0 disables regularizer.\n"
     ]
    },
    {
     "name": "stdout",
     "output_type": "stream",
     "text": [
      "INFO:tensorflow:Scale of 0 disables regularizer.\n"
     ]
    },
    {
     "name": "stderr",
     "output_type": "stream",
     "text": [
      "I0110 23:10:50.119441 139750346217216 tf_logging.py:115] Scale of 0 disables regularizer.\n"
     ]
    },
    {
     "name": "stdout",
     "output_type": "stream",
     "text": [
      "INFO:tensorflow:Scale of 0 disables regularizer.\n"
     ]
    },
    {
     "name": "stderr",
     "output_type": "stream",
     "text": [
      "I0110 23:10:52.575075 139750346217216 tf_logging.py:115] Scale of 0 disables regularizer.\n"
     ]
    },
    {
     "name": "stdout",
     "output_type": "stream",
     "text": [
      "INFO:tensorflow:Scale of 0 disables regularizer.\n"
     ]
    },
    {
     "name": "stderr",
     "output_type": "stream",
     "text": [
      "I0110 23:10:55.032323 139750346217216 tf_logging.py:115] Scale of 0 disables regularizer.\n"
     ]
    },
    {
     "name": "stdout",
     "output_type": "stream",
     "text": [
      "INFO:tensorflow:Scale of 0 disables regularizer.\n"
     ]
    },
    {
     "name": "stderr",
     "output_type": "stream",
     "text": [
      "I0110 23:10:57.417550 139750346217216 tf_logging.py:115] Scale of 0 disables regularizer.\n"
     ]
    },
    {
     "name": "stdout",
     "output_type": "stream",
     "text": [
      "INFO:tensorflow:Scale of 0 disables regularizer.\n"
     ]
    },
    {
     "name": "stderr",
     "output_type": "stream",
     "text": [
      "I0110 23:10:59.857213 139750346217216 tf_logging.py:115] Scale of 0 disables regularizer.\n"
     ]
    },
    {
     "name": "stdout",
     "output_type": "stream",
     "text": [
      "INFO:tensorflow:Scale of 0 disables regularizer.\n"
     ]
    },
    {
     "name": "stderr",
     "output_type": "stream",
     "text": [
      "I0110 23:11:02.319964 139750346217216 tf_logging.py:115] Scale of 0 disables regularizer.\n"
     ]
    },
    {
     "name": "stdout",
     "output_type": "stream",
     "text": [
      "INFO:tensorflow:Scale of 0 disables regularizer.\n"
     ]
    },
    {
     "name": "stderr",
     "output_type": "stream",
     "text": [
      "I0110 23:11:04.772765 139750346217216 tf_logging.py:115] Scale of 0 disables regularizer.\n"
     ]
    },
    {
     "name": "stdout",
     "output_type": "stream",
     "text": [
      "INFO:tensorflow:Scale of 0 disables regularizer.\n"
     ]
    },
    {
     "name": "stderr",
     "output_type": "stream",
     "text": [
      "I0110 23:11:07.161251 139750346217216 tf_logging.py:115] Scale of 0 disables regularizer.\n"
     ]
    },
    {
     "name": "stdout",
     "output_type": "stream",
     "text": [
      "INFO:tensorflow:Scale of 0 disables regularizer.\n"
     ]
    },
    {
     "name": "stderr",
     "output_type": "stream",
     "text": [
      "I0110 23:11:09.598617 139750346217216 tf_logging.py:115] Scale of 0 disables regularizer.\n"
     ]
    },
    {
     "name": "stdout",
     "output_type": "stream",
     "text": [
      "INFO:tensorflow:Scale of 0 disables regularizer.\n"
     ]
    },
    {
     "name": "stderr",
     "output_type": "stream",
     "text": [
      "I0110 23:11:12.038911 139750346217216 tf_logging.py:115] Scale of 0 disables regularizer.\n"
     ]
    },
    {
     "name": "stdout",
     "output_type": "stream",
     "text": [
      "INFO:tensorflow:Scale of 0 disables regularizer.\n"
     ]
    },
    {
     "name": "stderr",
     "output_type": "stream",
     "text": [
      "I0110 23:11:14.482307 139750346217216 tf_logging.py:115] Scale of 0 disables regularizer.\n"
     ]
    },
    {
     "name": "stdout",
     "output_type": "stream",
     "text": [
      "INFO:tensorflow:Scale of 0 disables regularizer.\n"
     ]
    },
    {
     "name": "stderr",
     "output_type": "stream",
     "text": [
      "I0110 23:11:16.930116 139750346217216 tf_logging.py:115] Scale of 0 disables regularizer.\n"
     ]
    },
    {
     "name": "stdout",
     "output_type": "stream",
     "text": [
      "INFO:tensorflow:Scale of 0 disables regularizer.\n"
     ]
    },
    {
     "name": "stderr",
     "output_type": "stream",
     "text": [
      "I0110 23:11:19.324923 139750346217216 tf_logging.py:115] Scale of 0 disables regularizer.\n"
     ]
    },
    {
     "name": "stdout",
     "output_type": "stream",
     "text": [
      "INFO:tensorflow:Scale of 0 disables regularizer.\n"
     ]
    },
    {
     "name": "stderr",
     "output_type": "stream",
     "text": [
      "I0110 23:11:21.772555 139750346217216 tf_logging.py:115] Scale of 0 disables regularizer.\n"
     ]
    },
    {
     "name": "stdout",
     "output_type": "stream",
     "text": [
      "INFO:tensorflow:Scale of 0 disables regularizer.\n"
     ]
    },
    {
     "name": "stderr",
     "output_type": "stream",
     "text": [
      "I0110 23:11:24.211347 139750346217216 tf_logging.py:115] Scale of 0 disables regularizer.\n"
     ]
    },
    {
     "name": "stdout",
     "output_type": "stream",
     "text": [
      "INFO:tensorflow:Scale of 0 disables regularizer.\n"
     ]
    },
    {
     "name": "stderr",
     "output_type": "stream",
     "text": [
      "I0110 23:11:26.692726 139750346217216 tf_logging.py:115] Scale of 0 disables regularizer.\n"
     ]
    },
    {
     "name": "stdout",
     "output_type": "stream",
     "text": [
      "INFO:tensorflow:Scale of 0 disables regularizer.\n"
     ]
    },
    {
     "name": "stderr",
     "output_type": "stream",
     "text": [
      "I0110 23:11:29.086415 139750346217216 tf_logging.py:115] Scale of 0 disables regularizer.\n"
     ]
    },
    {
     "name": "stdout",
     "output_type": "stream",
     "text": [
      "INFO:tensorflow:Scale of 0 disables regularizer.\n"
     ]
    },
    {
     "name": "stderr",
     "output_type": "stream",
     "text": [
      "I0110 23:11:31.529538 139750346217216 tf_logging.py:115] Scale of 0 disables regularizer.\n"
     ]
    },
    {
     "name": "stdout",
     "output_type": "stream",
     "text": [
      "INFO:tensorflow:Scale of 0 disables regularizer.\n"
     ]
    },
    {
     "name": "stderr",
     "output_type": "stream",
     "text": [
      "I0110 23:11:33.976599 139750346217216 tf_logging.py:115] Scale of 0 disables regularizer.\n"
     ]
    },
    {
     "name": "stdout",
     "output_type": "stream",
     "text": [
      "INFO:tensorflow:Scale of 0 disables regularizer.\n"
     ]
    },
    {
     "name": "stderr",
     "output_type": "stream",
     "text": [
      "I0110 23:11:36.422557 139750346217216 tf_logging.py:115] Scale of 0 disables regularizer.\n"
     ]
    },
    {
     "name": "stdout",
     "output_type": "stream",
     "text": [
      "INFO:tensorflow:Scale of 0 disables regularizer.\n"
     ]
    },
    {
     "name": "stderr",
     "output_type": "stream",
     "text": [
      "I0110 23:11:38.822092 139750346217216 tf_logging.py:115] Scale of 0 disables regularizer.\n"
     ]
    },
    {
     "name": "stdout",
     "output_type": "stream",
     "text": [
      "INFO:tensorflow:Scale of 0 disables regularizer.\n"
     ]
    },
    {
     "name": "stderr",
     "output_type": "stream",
     "text": [
      "I0110 23:11:41.258058 139750346217216 tf_logging.py:115] Scale of 0 disables regularizer.\n"
     ]
    },
    {
     "name": "stdout",
     "output_type": "stream",
     "text": [
      "INFO:tensorflow:Scale of 0 disables regularizer.\n"
     ]
    },
    {
     "name": "stderr",
     "output_type": "stream",
     "text": [
      "I0110 23:11:43.702696 139750346217216 tf_logging.py:115] Scale of 0 disables regularizer.\n"
     ]
    },
    {
     "name": "stdout",
     "output_type": "stream",
     "text": [
      "INFO:tensorflow:Scale of 0 disables regularizer.\n"
     ]
    },
    {
     "name": "stderr",
     "output_type": "stream",
     "text": [
      "I0110 23:11:46.148184 139750346217216 tf_logging.py:115] Scale of 0 disables regularizer.\n"
     ]
    },
    {
     "name": "stdout",
     "output_type": "stream",
     "text": [
      "INFO:tensorflow:Scale of 0 disables regularizer.\n"
     ]
    },
    {
     "name": "stderr",
     "output_type": "stream",
     "text": [
      "I0110 23:11:48.606492 139750346217216 tf_logging.py:115] Scale of 0 disables regularizer.\n"
     ]
    },
    {
     "name": "stdout",
     "output_type": "stream",
     "text": [
      "INFO:tensorflow:Scale of 0 disables regularizer.\n"
     ]
    },
    {
     "name": "stderr",
     "output_type": "stream",
     "text": [
      "I0110 23:11:50.995596 139750346217216 tf_logging.py:115] Scale of 0 disables regularizer.\n"
     ]
    },
    {
     "name": "stdout",
     "output_type": "stream",
     "text": [
      "INFO:tensorflow:Scale of 0 disables regularizer.\n"
     ]
    },
    {
     "name": "stderr",
     "output_type": "stream",
     "text": [
      "I0110 23:11:53.431538 139750346217216 tf_logging.py:115] Scale of 0 disables regularizer.\n"
     ]
    },
    {
     "name": "stdout",
     "output_type": "stream",
     "text": [
      "INFO:tensorflow:Scale of 0 disables regularizer.\n"
     ]
    },
    {
     "name": "stderr",
     "output_type": "stream",
     "text": [
      "I0110 23:11:55.868225 139750346217216 tf_logging.py:115] Scale of 0 disables regularizer.\n"
     ]
    },
    {
     "name": "stdout",
     "output_type": "stream",
     "text": [
      "INFO:tensorflow:Scale of 0 disables regularizer.\n"
     ]
    },
    {
     "name": "stderr",
     "output_type": "stream",
     "text": [
      "I0110 23:11:58.340811 139750346217216 tf_logging.py:115] Scale of 0 disables regularizer.\n"
     ]
    },
    {
     "name": "stdout",
     "output_type": "stream",
     "text": [
      "INFO:tensorflow:Scale of 0 disables regularizer.\n"
     ]
    },
    {
     "name": "stderr",
     "output_type": "stream",
     "text": [
      "I0110 23:12:00.731598 139750346217216 tf_logging.py:115] Scale of 0 disables regularizer.\n"
     ]
    },
    {
     "name": "stdout",
     "output_type": "stream",
     "text": [
      "INFO:tensorflow:Scale of 0 disables regularizer.\n"
     ]
    },
    {
     "name": "stderr",
     "output_type": "stream",
     "text": [
      "I0110 23:12:03.176999 139750346217216 tf_logging.py:115] Scale of 0 disables regularizer.\n"
     ]
    },
    {
     "name": "stdout",
     "output_type": "stream",
     "text": [
      "INFO:tensorflow:Scale of 0 disables regularizer.\n"
     ]
    },
    {
     "name": "stderr",
     "output_type": "stream",
     "text": [
      "I0110 23:12:05.631268 139750346217216 tf_logging.py:115] Scale of 0 disables regularizer.\n"
     ]
    },
    {
     "name": "stdout",
     "output_type": "stream",
     "text": [
      "INFO:tensorflow:Scale of 0 disables regularizer.\n"
     ]
    },
    {
     "name": "stderr",
     "output_type": "stream",
     "text": [
      "I0110 23:12:08.103980 139750346217216 tf_logging.py:115] Scale of 0 disables regularizer.\n"
     ]
    },
    {
     "name": "stdout",
     "output_type": "stream",
     "text": [
      "INFO:tensorflow:Scale of 0 disables regularizer.\n"
     ]
    },
    {
     "name": "stderr",
     "output_type": "stream",
     "text": [
      "I0110 23:12:10.566248 139750346217216 tf_logging.py:115] Scale of 0 disables regularizer.\n"
     ]
    },
    {
     "name": "stdout",
     "output_type": "stream",
     "text": [
      "INFO:tensorflow:Scale of 0 disables regularizer.\n"
     ]
    },
    {
     "name": "stderr",
     "output_type": "stream",
     "text": [
      "I0110 23:12:12.955436 139750346217216 tf_logging.py:115] Scale of 0 disables regularizer.\n"
     ]
    },
    {
     "name": "stdout",
     "output_type": "stream",
     "text": [
      "INFO:tensorflow:Scale of 0 disables regularizer.\n"
     ]
    },
    {
     "name": "stderr",
     "output_type": "stream",
     "text": [
      "I0110 23:12:15.379805 139750346217216 tf_logging.py:115] Scale of 0 disables regularizer.\n"
     ]
    },
    {
     "name": "stdout",
     "output_type": "stream",
     "text": [
      "INFO:tensorflow:Scale of 0 disables regularizer.\n"
     ]
    },
    {
     "name": "stderr",
     "output_type": "stream",
     "text": [
      "I0110 23:12:17.813434 139750346217216 tf_logging.py:115] Scale of 0 disables regularizer.\n"
     ]
    },
    {
     "name": "stdout",
     "output_type": "stream",
     "text": [
      "INFO:tensorflow:Scale of 0 disables regularizer.\n"
     ]
    },
    {
     "name": "stderr",
     "output_type": "stream",
     "text": [
      "I0110 23:12:20.267856 139750346217216 tf_logging.py:115] Scale of 0 disables regularizer.\n"
     ]
    },
    {
     "name": "stdout",
     "output_type": "stream",
     "text": [
      "INFO:tensorflow:Scale of 0 disables regularizer.\n"
     ]
    },
    {
     "name": "stderr",
     "output_type": "stream",
     "text": [
      "I0110 23:12:22.667264 139750346217216 tf_logging.py:115] Scale of 0 disables regularizer.\n"
     ]
    },
    {
     "name": "stdout",
     "output_type": "stream",
     "text": [
      "INFO:tensorflow:Scale of 0 disables regularizer.\n"
     ]
    },
    {
     "name": "stderr",
     "output_type": "stream",
     "text": [
      "I0110 23:12:25.149026 139750346217216 tf_logging.py:115] Scale of 0 disables regularizer.\n"
     ]
    },
    {
     "name": "stdout",
     "output_type": "stream",
     "text": [
      "INFO:tensorflow:Scale of 0 disables regularizer.\n"
     ]
    },
    {
     "name": "stderr",
     "output_type": "stream",
     "text": [
      "I0110 23:12:27.583174 139750346217216 tf_logging.py:115] Scale of 0 disables regularizer.\n"
     ]
    },
    {
     "name": "stdout",
     "output_type": "stream",
     "text": [
      "INFO:tensorflow:Scale of 0 disables regularizer.\n"
     ]
    },
    {
     "name": "stderr",
     "output_type": "stream",
     "text": [
      "I0110 23:12:30.028868 139750346217216 tf_logging.py:115] Scale of 0 disables regularizer.\n"
     ]
    },
    {
     "name": "stdout",
     "output_type": "stream",
     "text": [
      "INFO:tensorflow:Scale of 0 disables regularizer.\n"
     ]
    },
    {
     "name": "stderr",
     "output_type": "stream",
     "text": [
      "I0110 23:12:32.420462 139750346217216 tf_logging.py:115] Scale of 0 disables regularizer.\n"
     ]
    },
    {
     "name": "stdout",
     "output_type": "stream",
     "text": [
      "INFO:tensorflow:Scale of 0 disables regularizer.\n"
     ]
    },
    {
     "name": "stderr",
     "output_type": "stream",
     "text": [
      "I0110 23:12:34.855238 139750346217216 tf_logging.py:115] Scale of 0 disables regularizer.\n"
     ]
    },
    {
     "name": "stdout",
     "output_type": "stream",
     "text": [
      "INFO:tensorflow:Scale of 0 disables regularizer.\n"
     ]
    },
    {
     "name": "stderr",
     "output_type": "stream",
     "text": [
      "I0110 23:12:37.299553 139750346217216 tf_logging.py:115] Scale of 0 disables regularizer.\n"
     ]
    },
    {
     "name": "stdout",
     "output_type": "stream",
     "text": [
      "INFO:tensorflow:Scale of 0 disables regularizer.\n"
     ]
    },
    {
     "name": "stderr",
     "output_type": "stream",
     "text": [
      "I0110 23:12:39.760478 139750346217216 tf_logging.py:115] Scale of 0 disables regularizer.\n"
     ]
    },
    {
     "name": "stdout",
     "output_type": "stream",
     "text": [
      "INFO:tensorflow:Scale of 0 disables regularizer.\n"
     ]
    },
    {
     "name": "stderr",
     "output_type": "stream",
     "text": [
      "I0110 23:12:42.218052 139750346217216 tf_logging.py:115] Scale of 0 disables regularizer.\n"
     ]
    },
    {
     "name": "stdout",
     "output_type": "stream",
     "text": [
      "INFO:tensorflow:Scale of 0 disables regularizer.\n"
     ]
    },
    {
     "name": "stderr",
     "output_type": "stream",
     "text": [
      "I0110 23:12:44.598787 139750346217216 tf_logging.py:115] Scale of 0 disables regularizer.\n"
     ]
    },
    {
     "name": "stdout",
     "output_type": "stream",
     "text": [
      "INFO:tensorflow:Scale of 0 disables regularizer.\n"
     ]
    },
    {
     "name": "stderr",
     "output_type": "stream",
     "text": [
      "I0110 23:12:47.059134 139750346217216 tf_logging.py:115] Scale of 0 disables regularizer.\n"
     ]
    },
    {
     "name": "stdout",
     "output_type": "stream",
     "text": [
      "INFO:tensorflow:Scale of 0 disables regularizer.\n"
     ]
    },
    {
     "name": "stderr",
     "output_type": "stream",
     "text": [
      "I0110 23:12:49.511604 139750346217216 tf_logging.py:115] Scale of 0 disables regularizer.\n"
     ]
    },
    {
     "name": "stdout",
     "output_type": "stream",
     "text": [
      "INFO:tensorflow:Scale of 0 disables regularizer.\n"
     ]
    },
    {
     "name": "stderr",
     "output_type": "stream",
     "text": [
      "I0110 23:12:51.966479 139750346217216 tf_logging.py:115] Scale of 0 disables regularizer.\n"
     ]
    },
    {
     "name": "stdout",
     "output_type": "stream",
     "text": [
      "INFO:tensorflow:Scale of 0 disables regularizer.\n"
     ]
    },
    {
     "name": "stderr",
     "output_type": "stream",
     "text": [
      "I0110 23:12:54.358890 139750346217216 tf_logging.py:115] Scale of 0 disables regularizer.\n"
     ]
    },
    {
     "name": "stdout",
     "output_type": "stream",
     "text": [
      "INFO:tensorflow:Scale of 0 disables regularizer.\n"
     ]
    },
    {
     "name": "stderr",
     "output_type": "stream",
     "text": [
      "I0110 23:12:56.797975 139750346217216 tf_logging.py:115] Scale of 0 disables regularizer.\n"
     ]
    },
    {
     "name": "stdout",
     "output_type": "stream",
     "text": [
      "INFO:tensorflow:Scale of 0 disables regularizer.\n"
     ]
    },
    {
     "name": "stderr",
     "output_type": "stream",
     "text": [
      "I0110 23:12:59.247772 139750346217216 tf_logging.py:115] Scale of 0 disables regularizer.\n"
     ]
    },
    {
     "name": "stdout",
     "output_type": "stream",
     "text": [
      "INFO:tensorflow:Scale of 0 disables regularizer.\n"
     ]
    },
    {
     "name": "stderr",
     "output_type": "stream",
     "text": [
      "I0110 23:13:01.697594 139750346217216 tf_logging.py:115] Scale of 0 disables regularizer.\n"
     ]
    },
    {
     "name": "stdout",
     "output_type": "stream",
     "text": [
      "INFO:tensorflow:Scale of 0 disables regularizer.\n"
     ]
    },
    {
     "name": "stderr",
     "output_type": "stream",
     "text": [
      "I0110 23:13:04.189339 139750346217216 tf_logging.py:115] Scale of 0 disables regularizer.\n"
     ]
    },
    {
     "name": "stdout",
     "output_type": "stream",
     "text": [
      "INFO:tensorflow:Scale of 0 disables regularizer.\n"
     ]
    },
    {
     "name": "stderr",
     "output_type": "stream",
     "text": [
      "I0110 23:13:06.575276 139750346217216 tf_logging.py:115] Scale of 0 disables regularizer.\n"
     ]
    },
    {
     "name": "stdout",
     "output_type": "stream",
     "text": [
      "INFO:tensorflow:Scale of 0 disables regularizer.\n"
     ]
    },
    {
     "name": "stderr",
     "output_type": "stream",
     "text": [
      "I0110 23:13:09.027112 139750346217216 tf_logging.py:115] Scale of 0 disables regularizer.\n"
     ]
    },
    {
     "name": "stdout",
     "output_type": "stream",
     "text": [
      "INFO:tensorflow:Scale of 0 disables regularizer.\n"
     ]
    },
    {
     "name": "stderr",
     "output_type": "stream",
     "text": [
      "I0110 23:13:11.494285 139750346217216 tf_logging.py:115] Scale of 0 disables regularizer.\n"
     ]
    },
    {
     "name": "stdout",
     "output_type": "stream",
     "text": [
      "INFO:tensorflow:Scale of 0 disables regularizer.\n"
     ]
    },
    {
     "name": "stderr",
     "output_type": "stream",
     "text": [
      "I0110 23:13:13.952562 139750346217216 tf_logging.py:115] Scale of 0 disables regularizer.\n"
     ]
    },
    {
     "name": "stdout",
     "output_type": "stream",
     "text": [
      "INFO:tensorflow:Scale of 0 disables regularizer.\n"
     ]
    },
    {
     "name": "stderr",
     "output_type": "stream",
     "text": [
      "I0110 23:13:16.337954 139750346217216 tf_logging.py:115] Scale of 0 disables regularizer.\n"
     ]
    },
    {
     "name": "stdout",
     "output_type": "stream",
     "text": [
      "INFO:tensorflow:Scale of 0 disables regularizer.\n"
     ]
    },
    {
     "name": "stderr",
     "output_type": "stream",
     "text": [
      "I0110 23:13:18.775591 139750346217216 tf_logging.py:115] Scale of 0 disables regularizer.\n"
     ]
    },
    {
     "name": "stdout",
     "output_type": "stream",
     "text": [
      "INFO:tensorflow:Scale of 0 disables regularizer.\n"
     ]
    },
    {
     "name": "stderr",
     "output_type": "stream",
     "text": [
      "I0110 23:13:21.219289 139750346217216 tf_logging.py:115] Scale of 0 disables regularizer.\n"
     ]
    },
    {
     "name": "stdout",
     "output_type": "stream",
     "text": [
      "INFO:tensorflow:Scale of 0 disables regularizer.\n"
     ]
    },
    {
     "name": "stderr",
     "output_type": "stream",
     "text": [
      "I0110 23:13:23.675966 139750346217216 tf_logging.py:115] Scale of 0 disables regularizer.\n"
     ]
    },
    {
     "name": "stdout",
     "output_type": "stream",
     "text": [
      "INFO:tensorflow:Scale of 0 disables regularizer.\n"
     ]
    },
    {
     "name": "stderr",
     "output_type": "stream",
     "text": [
      "I0110 23:13:26.072840 139750346217216 tf_logging.py:115] Scale of 0 disables regularizer.\n"
     ]
    },
    {
     "name": "stdout",
     "output_type": "stream",
     "text": [
      "INFO:tensorflow:Scale of 0 disables regularizer.\n"
     ]
    },
    {
     "name": "stderr",
     "output_type": "stream",
     "text": [
      "I0110 23:13:28.512035 139750346217216 tf_logging.py:115] Scale of 0 disables regularizer.\n"
     ]
    },
    {
     "name": "stdout",
     "output_type": "stream",
     "text": [
      "INFO:tensorflow:Scale of 0 disables regularizer.\n"
     ]
    },
    {
     "name": "stderr",
     "output_type": "stream",
     "text": [
      "I0110 23:13:30.978818 139750346217216 tf_logging.py:115] Scale of 0 disables regularizer.\n"
     ]
    },
    {
     "name": "stdout",
     "output_type": "stream",
     "text": [
      "INFO:tensorflow:Scale of 0 disables regularizer.\n"
     ]
    },
    {
     "name": "stderr",
     "output_type": "stream",
     "text": [
      "I0110 23:13:33.436178 139750346217216 tf_logging.py:115] Scale of 0 disables regularizer.\n"
     ]
    },
    {
     "name": "stdout",
     "output_type": "stream",
     "text": [
      "INFO:tensorflow:Scale of 0 disables regularizer.\n"
     ]
    },
    {
     "name": "stderr",
     "output_type": "stream",
     "text": [
      "I0110 23:13:35.889942 139750346217216 tf_logging.py:115] Scale of 0 disables regularizer.\n"
     ]
    },
    {
     "name": "stdout",
     "output_type": "stream",
     "text": [
      "INFO:tensorflow:Scale of 0 disables regularizer.\n"
     ]
    },
    {
     "name": "stderr",
     "output_type": "stream",
     "text": [
      "I0110 23:13:38.310235 139750346217216 tf_logging.py:115] Scale of 0 disables regularizer.\n"
     ]
    },
    {
     "name": "stdout",
     "output_type": "stream",
     "text": [
      "INFO:tensorflow:Scale of 0 disables regularizer.\n"
     ]
    },
    {
     "name": "stderr",
     "output_type": "stream",
     "text": [
      "I0110 23:13:40.751349 139750346217216 tf_logging.py:115] Scale of 0 disables regularizer.\n"
     ]
    },
    {
     "name": "stdout",
     "output_type": "stream",
     "text": [
      "INFO:tensorflow:Scale of 0 disables regularizer.\n"
     ]
    },
    {
     "name": "stderr",
     "output_type": "stream",
     "text": [
      "I0110 23:13:43.194915 139750346217216 tf_logging.py:115] Scale of 0 disables regularizer.\n"
     ]
    },
    {
     "name": "stdout",
     "output_type": "stream",
     "text": [
      "INFO:tensorflow:Scale of 0 disables regularizer.\n"
     ]
    },
    {
     "name": "stderr",
     "output_type": "stream",
     "text": [
      "I0110 23:13:45.647753 139750346217216 tf_logging.py:115] Scale of 0 disables regularizer.\n"
     ]
    },
    {
     "name": "stdout",
     "output_type": "stream",
     "text": [
      "INFO:tensorflow:Scale of 0 disables regularizer.\n"
     ]
    },
    {
     "name": "stderr",
     "output_type": "stream",
     "text": [
      "I0110 23:13:48.037737 139750346217216 tf_logging.py:115] Scale of 0 disables regularizer.\n"
     ]
    },
    {
     "name": "stdout",
     "output_type": "stream",
     "text": [
      "INFO:tensorflow:Scale of 0 disables regularizer.\n"
     ]
    },
    {
     "name": "stderr",
     "output_type": "stream",
     "text": [
      "I0110 23:13:50.483060 139750346217216 tf_logging.py:115] Scale of 0 disables regularizer.\n"
     ]
    },
    {
     "name": "stdout",
     "output_type": "stream",
     "text": [
      "INFO:tensorflow:Scale of 0 disables regularizer.\n"
     ]
    },
    {
     "name": "stderr",
     "output_type": "stream",
     "text": [
      "I0110 23:13:52.940502 139750346217216 tf_logging.py:115] Scale of 0 disables regularizer.\n"
     ]
    },
    {
     "name": "stdout",
     "output_type": "stream",
     "text": [
      "INFO:tensorflow:Scale of 0 disables regularizer.\n"
     ]
    },
    {
     "name": "stderr",
     "output_type": "stream",
     "text": [
      "I0110 23:13:55.393943 139750346217216 tf_logging.py:115] Scale of 0 disables regularizer.\n"
     ]
    },
    {
     "name": "stdout",
     "output_type": "stream",
     "text": [
      "INFO:tensorflow:Scale of 0 disables regularizer.\n"
     ]
    },
    {
     "name": "stderr",
     "output_type": "stream",
     "text": [
      "I0110 23:13:57.848126 139750346217216 tf_logging.py:115] Scale of 0 disables regularizer.\n"
     ]
    },
    {
     "name": "stdout",
     "output_type": "stream",
     "text": [
      "INFO:tensorflow:Scale of 0 disables regularizer.\n"
     ]
    },
    {
     "name": "stderr",
     "output_type": "stream",
     "text": [
      "I0110 23:14:00.247386 139750346217216 tf_logging.py:115] Scale of 0 disables regularizer.\n"
     ]
    },
    {
     "name": "stdout",
     "output_type": "stream",
     "text": [
      "INFO:tensorflow:Scale of 0 disables regularizer.\n"
     ]
    },
    {
     "name": "stderr",
     "output_type": "stream",
     "text": [
      "I0110 23:14:02.715086 139750346217216 tf_logging.py:115] Scale of 0 disables regularizer.\n"
     ]
    },
    {
     "name": "stdout",
     "output_type": "stream",
     "text": [
      "INFO:tensorflow:Scale of 0 disables regularizer.\n"
     ]
    },
    {
     "name": "stderr",
     "output_type": "stream",
     "text": [
      "I0110 23:14:05.168072 139750346217216 tf_logging.py:115] Scale of 0 disables regularizer.\n"
     ]
    },
    {
     "name": "stdout",
     "output_type": "stream",
     "text": [
      "INFO:tensorflow:Scale of 0 disables regularizer.\n"
     ]
    },
    {
     "name": "stderr",
     "output_type": "stream",
     "text": [
      "I0110 23:14:07.648097 139750346217216 tf_logging.py:115] Scale of 0 disables regularizer.\n"
     ]
    },
    {
     "name": "stdout",
     "output_type": "stream",
     "text": [
      "INFO:tensorflow:Scale of 0 disables regularizer.\n"
     ]
    },
    {
     "name": "stderr",
     "output_type": "stream",
     "text": [
      "I0110 23:14:10.040939 139750346217216 tf_logging.py:115] Scale of 0 disables regularizer.\n"
     ]
    },
    {
     "name": "stdout",
     "output_type": "stream",
     "text": [
      "INFO:tensorflow:Scale of 0 disables regularizer.\n"
     ]
    },
    {
     "name": "stderr",
     "output_type": "stream",
     "text": [
      "I0110 23:14:12.478681 139750346217216 tf_logging.py:115] Scale of 0 disables regularizer.\n"
     ]
    },
    {
     "name": "stdout",
     "output_type": "stream",
     "text": [
      "INFO:tensorflow:Scale of 0 disables regularizer.\n"
     ]
    },
    {
     "name": "stderr",
     "output_type": "stream",
     "text": [
      "I0110 23:14:14.923262 139750346217216 tf_logging.py:115] Scale of 0 disables regularizer.\n"
     ]
    },
    {
     "name": "stdout",
     "output_type": "stream",
     "text": [
      "INFO:tensorflow:Scale of 0 disables regularizer.\n"
     ]
    },
    {
     "name": "stderr",
     "output_type": "stream",
     "text": [
      "I0110 23:14:17.372243 139750346217216 tf_logging.py:115] Scale of 0 disables regularizer.\n"
     ]
    },
    {
     "name": "stdout",
     "output_type": "stream",
     "text": [
      "INFO:tensorflow:Scale of 0 disables regularizer.\n"
     ]
    },
    {
     "name": "stderr",
     "output_type": "stream",
     "text": [
      "I0110 23:14:19.759511 139750346217216 tf_logging.py:115] Scale of 0 disables regularizer.\n"
     ]
    },
    {
     "name": "stdout",
     "output_type": "stream",
     "text": [
      "INFO:tensorflow:Scale of 0 disables regularizer.\n"
     ]
    },
    {
     "name": "stderr",
     "output_type": "stream",
     "text": [
      "I0110 23:14:22.197730 139750346217216 tf_logging.py:115] Scale of 0 disables regularizer.\n"
     ]
    },
    {
     "name": "stdout",
     "output_type": "stream",
     "text": [
      "INFO:tensorflow:Scale of 0 disables regularizer.\n"
     ]
    },
    {
     "name": "stderr",
     "output_type": "stream",
     "text": [
      "I0110 23:14:24.634787 139750346217216 tf_logging.py:115] Scale of 0 disables regularizer.\n"
     ]
    },
    {
     "name": "stdout",
     "output_type": "stream",
     "text": [
      "INFO:tensorflow:Scale of 0 disables regularizer.\n"
     ]
    },
    {
     "name": "stderr",
     "output_type": "stream",
     "text": [
      "I0110 23:14:27.078963 139750346217216 tf_logging.py:115] Scale of 0 disables regularizer.\n"
     ]
    },
    {
     "name": "stdout",
     "output_type": "stream",
     "text": [
      "INFO:tensorflow:Scale of 0 disables regularizer.\n"
     ]
    },
    {
     "name": "stderr",
     "output_type": "stream",
     "text": [
      "I0110 23:14:29.521770 139750346217216 tf_logging.py:115] Scale of 0 disables regularizer.\n"
     ]
    },
    {
     "name": "stdout",
     "output_type": "stream",
     "text": [
      "INFO:tensorflow:Scale of 0 disables regularizer.\n"
     ]
    },
    {
     "name": "stderr",
     "output_type": "stream",
     "text": [
      "I0110 23:14:31.914633 139750346217216 tf_logging.py:115] Scale of 0 disables regularizer.\n"
     ]
    },
    {
     "name": "stdout",
     "output_type": "stream",
     "text": [
      "INFO:tensorflow:Scale of 0 disables regularizer.\n"
     ]
    },
    {
     "name": "stderr",
     "output_type": "stream",
     "text": [
      "I0110 23:14:34.359893 139750346217216 tf_logging.py:115] Scale of 0 disables regularizer.\n"
     ]
    },
    {
     "name": "stdout",
     "output_type": "stream",
     "text": [
      "INFO:tensorflow:Scale of 0 disables regularizer.\n"
     ]
    },
    {
     "name": "stderr",
     "output_type": "stream",
     "text": [
      "I0110 23:14:36.811561 139750346217216 tf_logging.py:115] Scale of 0 disables regularizer.\n"
     ]
    },
    {
     "name": "stdout",
     "output_type": "stream",
     "text": [
      "INFO:tensorflow:Scale of 0 disables regularizer.\n"
     ]
    },
    {
     "name": "stderr",
     "output_type": "stream",
     "text": [
      "I0110 23:14:39.258144 139750346217216 tf_logging.py:115] Scale of 0 disables regularizer.\n"
     ]
    },
    {
     "name": "stdout",
     "output_type": "stream",
     "text": [
      "INFO:tensorflow:Scale of 0 disables regularizer.\n"
     ]
    },
    {
     "name": "stderr",
     "output_type": "stream",
     "text": [
      "I0110 23:14:41.641775 139750346217216 tf_logging.py:115] Scale of 0 disables regularizer.\n"
     ]
    },
    {
     "name": "stdout",
     "output_type": "stream",
     "text": [
      "INFO:tensorflow:Scale of 0 disables regularizer.\n"
     ]
    },
    {
     "name": "stderr",
     "output_type": "stream",
     "text": [
      "I0110 23:14:44.078870 139750346217216 tf_logging.py:115] Scale of 0 disables regularizer.\n"
     ]
    },
    {
     "name": "stdout",
     "output_type": "stream",
     "text": [
      "INFO:tensorflow:Scale of 0 disables regularizer.\n"
     ]
    },
    {
     "name": "stderr",
     "output_type": "stream",
     "text": [
      "I0110 23:14:46.534955 139750346217216 tf_logging.py:115] Scale of 0 disables regularizer.\n"
     ]
    },
    {
     "name": "stdout",
     "output_type": "stream",
     "text": [
      "INFO:tensorflow:Scale of 0 disables regularizer.\n"
     ]
    },
    {
     "name": "stderr",
     "output_type": "stream",
     "text": [
      "I0110 23:14:48.977344 139750346217216 tf_logging.py:115] Scale of 0 disables regularizer.\n"
     ]
    },
    {
     "name": "stdout",
     "output_type": "stream",
     "text": [
      "INFO:tensorflow:Scale of 0 disables regularizer.\n"
     ]
    },
    {
     "name": "stderr",
     "output_type": "stream",
     "text": [
      "I0110 23:14:51.421960 139750346217216 tf_logging.py:115] Scale of 0 disables regularizer.\n"
     ]
    },
    {
     "name": "stdout",
     "output_type": "stream",
     "text": [
      "INFO:tensorflow:Scale of 0 disables regularizer.\n"
     ]
    },
    {
     "name": "stderr",
     "output_type": "stream",
     "text": [
      "I0110 23:14:53.808093 139750346217216 tf_logging.py:115] Scale of 0 disables regularizer.\n"
     ]
    },
    {
     "name": "stdout",
     "output_type": "stream",
     "text": [
      "INFO:tensorflow:Scale of 0 disables regularizer.\n"
     ]
    },
    {
     "name": "stderr",
     "output_type": "stream",
     "text": [
      "I0110 23:14:56.243367 139750346217216 tf_logging.py:115] Scale of 0 disables regularizer.\n"
     ]
    },
    {
     "name": "stdout",
     "output_type": "stream",
     "text": [
      "INFO:tensorflow:Scale of 0 disables regularizer.\n"
     ]
    },
    {
     "name": "stderr",
     "output_type": "stream",
     "text": [
      "I0110 23:14:58.685375 139750346217216 tf_logging.py:115] Scale of 0 disables regularizer.\n"
     ]
    },
    {
     "name": "stdout",
     "output_type": "stream",
     "text": [
      "INFO:tensorflow:Scale of 0 disables regularizer.\n"
     ]
    },
    {
     "name": "stderr",
     "output_type": "stream",
     "text": [
      "I0110 23:15:01.143331 139750346217216 tf_logging.py:115] Scale of 0 disables regularizer.\n"
     ]
    },
    {
     "name": "stdout",
     "output_type": "stream",
     "text": [
      "INFO:tensorflow:Scale of 0 disables regularizer.\n"
     ]
    },
    {
     "name": "stderr",
     "output_type": "stream",
     "text": [
      "I0110 23:15:03.555770 139750346217216 tf_logging.py:115] Scale of 0 disables regularizer.\n"
     ]
    },
    {
     "name": "stdout",
     "output_type": "stream",
     "text": [
      "INFO:tensorflow:Scale of 0 disables regularizer.\n"
     ]
    },
    {
     "name": "stderr",
     "output_type": "stream",
     "text": [
      "I0110 23:15:06.009539 139750346217216 tf_logging.py:115] Scale of 0 disables regularizer.\n"
     ]
    },
    {
     "name": "stdout",
     "output_type": "stream",
     "text": [
      "INFO:tensorflow:Scale of 0 disables regularizer.\n"
     ]
    },
    {
     "name": "stderr",
     "output_type": "stream",
     "text": [
      "I0110 23:15:08.448952 139750346217216 tf_logging.py:115] Scale of 0 disables regularizer.\n"
     ]
    },
    {
     "name": "stdout",
     "output_type": "stream",
     "text": [
      "INFO:tensorflow:Scale of 0 disables regularizer.\n"
     ]
    },
    {
     "name": "stderr",
     "output_type": "stream",
     "text": [
      "I0110 23:15:10.891141 139750346217216 tf_logging.py:115] Scale of 0 disables regularizer.\n"
     ]
    },
    {
     "name": "stdout",
     "output_type": "stream",
     "text": [
      "INFO:tensorflow:Scale of 0 disables regularizer.\n"
     ]
    },
    {
     "name": "stderr",
     "output_type": "stream",
     "text": [
      "I0110 23:15:13.304392 139750346217216 tf_logging.py:115] Scale of 0 disables regularizer.\n"
     ]
    },
    {
     "name": "stdout",
     "output_type": "stream",
     "text": [
      "INFO:tensorflow:Scale of 0 disables regularizer.\n"
     ]
    },
    {
     "name": "stderr",
     "output_type": "stream",
     "text": [
      "I0110 23:15:15.739314 139750346217216 tf_logging.py:115] Scale of 0 disables regularizer.\n"
     ]
    },
    {
     "name": "stdout",
     "output_type": "stream",
     "text": [
      "INFO:tensorflow:Scale of 0 disables regularizer.\n"
     ]
    },
    {
     "name": "stderr",
     "output_type": "stream",
     "text": [
      "I0110 23:15:18.195366 139750346217216 tf_logging.py:115] Scale of 0 disables regularizer.\n"
     ]
    },
    {
     "name": "stdout",
     "output_type": "stream",
     "text": [
      "INFO:tensorflow:Scale of 0 disables regularizer.\n"
     ]
    },
    {
     "name": "stderr",
     "output_type": "stream",
     "text": [
      "I0110 23:15:20.641023 139750346217216 tf_logging.py:115] Scale of 0 disables regularizer.\n"
     ]
    },
    {
     "name": "stdout",
     "output_type": "stream",
     "text": [
      "INFO:tensorflow:Scale of 0 disables regularizer.\n"
     ]
    },
    {
     "name": "stderr",
     "output_type": "stream",
     "text": [
      "I0110 23:15:23.096149 139750346217216 tf_logging.py:115] Scale of 0 disables regularizer.\n"
     ]
    },
    {
     "name": "stdout",
     "output_type": "stream",
     "text": [
      "INFO:tensorflow:Scale of 0 disables regularizer.\n"
     ]
    },
    {
     "name": "stderr",
     "output_type": "stream",
     "text": [
      "I0110 23:15:25.481849 139750346217216 tf_logging.py:115] Scale of 0 disables regularizer.\n"
     ]
    },
    {
     "name": "stdout",
     "output_type": "stream",
     "text": [
      "INFO:tensorflow:Scale of 0 disables regularizer.\n"
     ]
    },
    {
     "name": "stderr",
     "output_type": "stream",
     "text": [
      "I0110 23:15:27.931585 139750346217216 tf_logging.py:115] Scale of 0 disables regularizer.\n"
     ]
    },
    {
     "name": "stdout",
     "output_type": "stream",
     "text": [
      "INFO:tensorflow:Scale of 0 disables regularizer.\n"
     ]
    },
    {
     "name": "stderr",
     "output_type": "stream",
     "text": [
      "I0110 23:15:30.385714 139750346217216 tf_logging.py:115] Scale of 0 disables regularizer.\n"
     ]
    },
    {
     "name": "stdout",
     "output_type": "stream",
     "text": [
      "INFO:tensorflow:Scale of 0 disables regularizer.\n"
     ]
    },
    {
     "name": "stderr",
     "output_type": "stream",
     "text": [
      "I0110 23:15:32.838070 139750346217216 tf_logging.py:115] Scale of 0 disables regularizer.\n"
     ]
    },
    {
     "name": "stdout",
     "output_type": "stream",
     "text": [
      "INFO:tensorflow:Scale of 0 disables regularizer.\n"
     ]
    },
    {
     "name": "stderr",
     "output_type": "stream",
     "text": [
      "I0110 23:15:35.222483 139750346217216 tf_logging.py:115] Scale of 0 disables regularizer.\n"
     ]
    },
    {
     "name": "stdout",
     "output_type": "stream",
     "text": [
      "INFO:tensorflow:Scale of 0 disables regularizer.\n"
     ]
    },
    {
     "name": "stderr",
     "output_type": "stream",
     "text": [
      "I0110 23:15:37.679317 139750346217216 tf_logging.py:115] Scale of 0 disables regularizer.\n"
     ]
    },
    {
     "name": "stdout",
     "output_type": "stream",
     "text": [
      "INFO:tensorflow:Scale of 0 disables regularizer.\n"
     ]
    },
    {
     "name": "stderr",
     "output_type": "stream",
     "text": [
      "I0110 23:15:40.136076 139750346217216 tf_logging.py:115] Scale of 0 disables regularizer.\n"
     ]
    },
    {
     "name": "stdout",
     "output_type": "stream",
     "text": [
      "INFO:tensorflow:Scale of 0 disables regularizer.\n"
     ]
    },
    {
     "name": "stderr",
     "output_type": "stream",
     "text": [
      "I0110 23:15:42.596151 139750346217216 tf_logging.py:115] Scale of 0 disables regularizer.\n"
     ]
    },
    {
     "name": "stdout",
     "output_type": "stream",
     "text": [
      "INFO:tensorflow:Scale of 0 disables regularizer.\n"
     ]
    },
    {
     "name": "stderr",
     "output_type": "stream",
     "text": [
      "I0110 23:15:45.061473 139750346217216 tf_logging.py:115] Scale of 0 disables regularizer.\n"
     ]
    },
    {
     "name": "stdout",
     "output_type": "stream",
     "text": [
      "INFO:tensorflow:Scale of 0 disables regularizer.\n"
     ]
    },
    {
     "name": "stderr",
     "output_type": "stream",
     "text": [
      "I0110 23:15:47.456820 139750346217216 tf_logging.py:115] Scale of 0 disables regularizer.\n"
     ]
    },
    {
     "name": "stdout",
     "output_type": "stream",
     "text": [
      "INFO:tensorflow:Scale of 0 disables regularizer.\n"
     ]
    },
    {
     "name": "stderr",
     "output_type": "stream",
     "text": [
      "I0110 23:15:49.906560 139750346217216 tf_logging.py:115] Scale of 0 disables regularizer.\n"
     ]
    },
    {
     "name": "stdout",
     "output_type": "stream",
     "text": [
      "INFO:tensorflow:Scale of 0 disables regularizer.\n"
     ]
    },
    {
     "name": "stderr",
     "output_type": "stream",
     "text": [
      "I0110 23:15:52.366767 139750346217216 tf_logging.py:115] Scale of 0 disables regularizer.\n"
     ]
    },
    {
     "name": "stdout",
     "output_type": "stream",
     "text": [
      "INFO:tensorflow:Scale of 0 disables regularizer.\n"
     ]
    },
    {
     "name": "stderr",
     "output_type": "stream",
     "text": [
      "I0110 23:15:54.834213 139750346217216 tf_logging.py:115] Scale of 0 disables regularizer.\n"
     ]
    },
    {
     "name": "stdout",
     "output_type": "stream",
     "text": [
      "INFO:tensorflow:Scale of 0 disables regularizer.\n"
     ]
    },
    {
     "name": "stderr",
     "output_type": "stream",
     "text": [
      "I0110 23:15:57.234194 139750346217216 tf_logging.py:115] Scale of 0 disables regularizer.\n"
     ]
    },
    {
     "name": "stdout",
     "output_type": "stream",
     "text": [
      "INFO:tensorflow:Scale of 0 disables regularizer.\n"
     ]
    },
    {
     "name": "stderr",
     "output_type": "stream",
     "text": [
      "I0110 23:15:59.705925 139750346217216 tf_logging.py:115] Scale of 0 disables regularizer.\n"
     ]
    },
    {
     "name": "stdout",
     "output_type": "stream",
     "text": [
      "INFO:tensorflow:Scale of 0 disables regularizer.\n"
     ]
    },
    {
     "name": "stderr",
     "output_type": "stream",
     "text": [
      "I0110 23:16:02.146765 139750346217216 tf_logging.py:115] Scale of 0 disables regularizer.\n"
     ]
    },
    {
     "name": "stdout",
     "output_type": "stream",
     "text": [
      "INFO:tensorflow:Scale of 0 disables regularizer.\n"
     ]
    },
    {
     "name": "stderr",
     "output_type": "stream",
     "text": [
      "I0110 23:16:04.597900 139750346217216 tf_logging.py:115] Scale of 0 disables regularizer.\n"
     ]
    },
    {
     "name": "stdout",
     "output_type": "stream",
     "text": [
      "INFO:tensorflow:Scale of 0 disables regularizer.\n"
     ]
    },
    {
     "name": "stderr",
     "output_type": "stream",
     "text": [
      "I0110 23:16:07.008246 139750346217216 tf_logging.py:115] Scale of 0 disables regularizer.\n"
     ]
    },
    {
     "name": "stdout",
     "output_type": "stream",
     "text": [
      "INFO:tensorflow:Scale of 0 disables regularizer.\n"
     ]
    },
    {
     "name": "stderr",
     "output_type": "stream",
     "text": [
      "I0110 23:16:09.463736 139750346217216 tf_logging.py:115] Scale of 0 disables regularizer.\n"
     ]
    },
    {
     "name": "stdout",
     "output_type": "stream",
     "text": [
      "INFO:tensorflow:Scale of 0 disables regularizer.\n"
     ]
    },
    {
     "name": "stderr",
     "output_type": "stream",
     "text": [
      "I0110 23:16:11.903313 139750346217216 tf_logging.py:115] Scale of 0 disables regularizer.\n"
     ]
    },
    {
     "name": "stdout",
     "output_type": "stream",
     "text": [
      "INFO:tensorflow:Scale of 0 disables regularizer.\n"
     ]
    },
    {
     "name": "stderr",
     "output_type": "stream",
     "text": [
      "I0110 23:16:14.355124 139750346217216 tf_logging.py:115] Scale of 0 disables regularizer.\n"
     ]
    },
    {
     "name": "stdout",
     "output_type": "stream",
     "text": [
      "INFO:tensorflow:Scale of 0 disables regularizer.\n"
     ]
    },
    {
     "name": "stderr",
     "output_type": "stream",
     "text": [
      "I0110 23:16:16.814059 139750346217216 tf_logging.py:115] Scale of 0 disables regularizer.\n"
     ]
    },
    {
     "name": "stdout",
     "output_type": "stream",
     "text": [
      "INFO:tensorflow:Scale of 0 disables regularizer.\n"
     ]
    },
    {
     "name": "stderr",
     "output_type": "stream",
     "text": [
      "I0110 23:16:19.223185 139750346217216 tf_logging.py:115] Scale of 0 disables regularizer.\n"
     ]
    },
    {
     "name": "stdout",
     "output_type": "stream",
     "text": [
      "INFO:tensorflow:Scale of 0 disables regularizer.\n"
     ]
    },
    {
     "name": "stderr",
     "output_type": "stream",
     "text": [
      "I0110 23:16:21.660861 139750346217216 tf_logging.py:115] Scale of 0 disables regularizer.\n"
     ]
    },
    {
     "name": "stdout",
     "output_type": "stream",
     "text": [
      "INFO:tensorflow:Scale of 0 disables regularizer.\n"
     ]
    },
    {
     "name": "stderr",
     "output_type": "stream",
     "text": [
      "I0110 23:16:24.127781 139750346217216 tf_logging.py:115] Scale of 0 disables regularizer.\n"
     ]
    },
    {
     "name": "stdout",
     "output_type": "stream",
     "text": [
      "INFO:tensorflow:Scale of 0 disables regularizer.\n"
     ]
    },
    {
     "name": "stderr",
     "output_type": "stream",
     "text": [
      "I0110 23:16:26.602583 139750346217216 tf_logging.py:115] Scale of 0 disables regularizer.\n"
     ]
    },
    {
     "name": "stdout",
     "output_type": "stream",
     "text": [
      "INFO:tensorflow:Scale of 0 disables regularizer.\n"
     ]
    },
    {
     "name": "stderr",
     "output_type": "stream",
     "text": [
      "I0110 23:16:29.003698 139750346217216 tf_logging.py:115] Scale of 0 disables regularizer.\n"
     ]
    },
    {
     "name": "stdout",
     "output_type": "stream",
     "text": [
      "INFO:tensorflow:Scale of 0 disables regularizer.\n"
     ]
    },
    {
     "name": "stderr",
     "output_type": "stream",
     "text": [
      "I0110 23:16:31.529421 139750346217216 tf_logging.py:115] Scale of 0 disables regularizer.\n"
     ]
    },
    {
     "name": "stdout",
     "output_type": "stream",
     "text": [
      "INFO:tensorflow:Scale of 0 disables regularizer.\n"
     ]
    },
    {
     "name": "stderr",
     "output_type": "stream",
     "text": [
      "I0110 23:16:33.994138 139750346217216 tf_logging.py:115] Scale of 0 disables regularizer.\n"
     ]
    },
    {
     "name": "stdout",
     "output_type": "stream",
     "text": [
      "INFO:tensorflow:Scale of 0 disables regularizer.\n"
     ]
    },
    {
     "name": "stderr",
     "output_type": "stream",
     "text": [
      "I0110 23:16:36.449913 139750346217216 tf_logging.py:115] Scale of 0 disables regularizer.\n"
     ]
    },
    {
     "name": "stdout",
     "output_type": "stream",
     "text": [
      "INFO:tensorflow:Scale of 0 disables regularizer.\n"
     ]
    },
    {
     "name": "stderr",
     "output_type": "stream",
     "text": [
      "I0110 23:16:38.894542 139750346217216 tf_logging.py:115] Scale of 0 disables regularizer.\n"
     ]
    },
    {
     "name": "stdout",
     "output_type": "stream",
     "text": [
      "INFO:tensorflow:Scale of 0 disables regularizer.\n"
     ]
    },
    {
     "name": "stderr",
     "output_type": "stream",
     "text": [
      "I0110 23:16:41.282662 139750346217216 tf_logging.py:115] Scale of 0 disables regularizer.\n"
     ]
    },
    {
     "name": "stdout",
     "output_type": "stream",
     "text": [
      "INFO:tensorflow:Scale of 0 disables regularizer.\n"
     ]
    },
    {
     "name": "stderr",
     "output_type": "stream",
     "text": [
      "I0110 23:16:43.727938 139750346217216 tf_logging.py:115] Scale of 0 disables regularizer.\n"
     ]
    },
    {
     "name": "stdout",
     "output_type": "stream",
     "text": [
      "INFO:tensorflow:Scale of 0 disables regularizer.\n"
     ]
    },
    {
     "name": "stderr",
     "output_type": "stream",
     "text": [
      "I0110 23:16:46.182780 139750346217216 tf_logging.py:115] Scale of 0 disables regularizer.\n"
     ]
    },
    {
     "name": "stdout",
     "output_type": "stream",
     "text": [
      "INFO:tensorflow:Scale of 0 disables regularizer.\n"
     ]
    },
    {
     "name": "stderr",
     "output_type": "stream",
     "text": [
      "I0110 23:16:48.627421 139750346217216 tf_logging.py:115] Scale of 0 disables regularizer.\n"
     ]
    },
    {
     "name": "stdout",
     "output_type": "stream",
     "text": [
      "INFO:tensorflow:Scale of 0 disables regularizer.\n"
     ]
    },
    {
     "name": "stderr",
     "output_type": "stream",
     "text": [
      "I0110 23:16:51.018002 139750346217216 tf_logging.py:115] Scale of 0 disables regularizer.\n"
     ]
    },
    {
     "name": "stdout",
     "output_type": "stream",
     "text": [
      "INFO:tensorflow:Scale of 0 disables regularizer.\n"
     ]
    },
    {
     "name": "stderr",
     "output_type": "stream",
     "text": [
      "I0110 23:16:53.458383 139750346217216 tf_logging.py:115] Scale of 0 disables regularizer.\n"
     ]
    },
    {
     "name": "stdout",
     "output_type": "stream",
     "text": [
      "INFO:tensorflow:Scale of 0 disables regularizer.\n"
     ]
    },
    {
     "name": "stderr",
     "output_type": "stream",
     "text": [
      "I0110 23:16:55.904881 139750346217216 tf_logging.py:115] Scale of 0 disables regularizer.\n"
     ]
    },
    {
     "name": "stdout",
     "output_type": "stream",
     "text": [
      "INFO:tensorflow:Scale of 0 disables regularizer.\n"
     ]
    },
    {
     "name": "stderr",
     "output_type": "stream",
     "text": [
      "I0110 23:16:58.346871 139750346217216 tf_logging.py:115] Scale of 0 disables regularizer.\n"
     ]
    },
    {
     "name": "stdout",
     "output_type": "stream",
     "text": [
      "INFO:tensorflow:Scale of 0 disables regularizer.\n"
     ]
    },
    {
     "name": "stderr",
     "output_type": "stream",
     "text": [
      "I0110 23:17:00.736153 139750346217216 tf_logging.py:115] Scale of 0 disables regularizer.\n"
     ]
    },
    {
     "name": "stdout",
     "output_type": "stream",
     "text": [
      "INFO:tensorflow:Scale of 0 disables regularizer.\n"
     ]
    },
    {
     "name": "stderr",
     "output_type": "stream",
     "text": [
      "I0110 23:17:03.174970 139750346217216 tf_logging.py:115] Scale of 0 disables regularizer.\n"
     ]
    },
    {
     "name": "stdout",
     "output_type": "stream",
     "text": [
      "INFO:tensorflow:Scale of 0 disables regularizer.\n"
     ]
    },
    {
     "name": "stderr",
     "output_type": "stream",
     "text": [
      "I0110 23:17:05.648358 139750346217216 tf_logging.py:115] Scale of 0 disables regularizer.\n"
     ]
    },
    {
     "name": "stdout",
     "output_type": "stream",
     "text": [
      "INFO:tensorflow:Scale of 0 disables regularizer.\n"
     ]
    },
    {
     "name": "stderr",
     "output_type": "stream",
     "text": [
      "I0110 23:17:08.125056 139750346217216 tf_logging.py:115] Scale of 0 disables regularizer.\n"
     ]
    },
    {
     "name": "stdout",
     "output_type": "stream",
     "text": [
      "INFO:tensorflow:Scale of 0 disables regularizer.\n"
     ]
    },
    {
     "name": "stderr",
     "output_type": "stream",
     "text": [
      "I0110 23:17:10.580957 139750346217216 tf_logging.py:115] Scale of 0 disables regularizer.\n"
     ]
    },
    {
     "name": "stdout",
     "output_type": "stream",
     "text": [
      "INFO:tensorflow:Scale of 0 disables regularizer.\n"
     ]
    },
    {
     "name": "stderr",
     "output_type": "stream",
     "text": [
      "I0110 23:17:12.973200 139750346217216 tf_logging.py:115] Scale of 0 disables regularizer.\n"
     ]
    },
    {
     "name": "stdout",
     "output_type": "stream",
     "text": [
      "INFO:tensorflow:Scale of 0 disables regularizer.\n"
     ]
    },
    {
     "name": "stderr",
     "output_type": "stream",
     "text": [
      "I0110 23:17:15.427170 139750346217216 tf_logging.py:115] Scale of 0 disables regularizer.\n"
     ]
    },
    {
     "name": "stdout",
     "output_type": "stream",
     "text": [
      "INFO:tensorflow:Scale of 0 disables regularizer.\n"
     ]
    },
    {
     "name": "stderr",
     "output_type": "stream",
     "text": [
      "I0110 23:17:17.871475 139750346217216 tf_logging.py:115] Scale of 0 disables regularizer.\n"
     ]
    },
    {
     "name": "stdout",
     "output_type": "stream",
     "text": [
      "INFO:tensorflow:Scale of 0 disables regularizer.\n"
     ]
    },
    {
     "name": "stderr",
     "output_type": "stream",
     "text": [
      "I0110 23:17:20.338433 139750346217216 tf_logging.py:115] Scale of 0 disables regularizer.\n"
     ]
    },
    {
     "name": "stdout",
     "output_type": "stream",
     "text": [
      "INFO:tensorflow:Scale of 0 disables regularizer.\n"
     ]
    },
    {
     "name": "stderr",
     "output_type": "stream",
     "text": [
      "I0110 23:17:22.735821 139750346217216 tf_logging.py:115] Scale of 0 disables regularizer.\n"
     ]
    },
    {
     "name": "stdout",
     "output_type": "stream",
     "text": [
      "INFO:tensorflow:Scale of 0 disables regularizer.\n"
     ]
    },
    {
     "name": "stderr",
     "output_type": "stream",
     "text": [
      "I0110 23:17:25.198091 139750346217216 tf_logging.py:115] Scale of 0 disables regularizer.\n"
     ]
    },
    {
     "name": "stdout",
     "output_type": "stream",
     "text": [
      "INFO:tensorflow:Scale of 0 disables regularizer.\n"
     ]
    },
    {
     "name": "stderr",
     "output_type": "stream",
     "text": [
      "I0110 23:17:27.640303 139750346217216 tf_logging.py:115] Scale of 0 disables regularizer.\n"
     ]
    },
    {
     "name": "stdout",
     "output_type": "stream",
     "text": [
      "INFO:tensorflow:Scale of 0 disables regularizer.\n"
     ]
    },
    {
     "name": "stderr",
     "output_type": "stream",
     "text": [
      "I0110 23:17:30.085734 139750346217216 tf_logging.py:115] Scale of 0 disables regularizer.\n"
     ]
    },
    {
     "name": "stdout",
     "output_type": "stream",
     "text": [
      "INFO:tensorflow:Scale of 0 disables regularizer.\n"
     ]
    },
    {
     "name": "stderr",
     "output_type": "stream",
     "text": [
      "I0110 23:17:32.552497 139750346217216 tf_logging.py:115] Scale of 0 disables regularizer.\n"
     ]
    },
    {
     "name": "stdout",
     "output_type": "stream",
     "text": [
      "INFO:tensorflow:Scale of 0 disables regularizer.\n"
     ]
    },
    {
     "name": "stderr",
     "output_type": "stream",
     "text": [
      "I0110 23:17:34.934735 139750346217216 tf_logging.py:115] Scale of 0 disables regularizer.\n"
     ]
    },
    {
     "name": "stdout",
     "output_type": "stream",
     "text": [
      "INFO:tensorflow:Scale of 0 disables regularizer.\n"
     ]
    },
    {
     "name": "stderr",
     "output_type": "stream",
     "text": [
      "I0110 23:17:37.384160 139750346217216 tf_logging.py:115] Scale of 0 disables regularizer.\n"
     ]
    },
    {
     "name": "stdout",
     "output_type": "stream",
     "text": [
      "INFO:tensorflow:Scale of 0 disables regularizer.\n"
     ]
    },
    {
     "name": "stderr",
     "output_type": "stream",
     "text": [
      "I0110 23:17:39.826126 139750346217216 tf_logging.py:115] Scale of 0 disables regularizer.\n"
     ]
    },
    {
     "name": "stdout",
     "output_type": "stream",
     "text": [
      "INFO:tensorflow:Scale of 0 disables regularizer.\n"
     ]
    },
    {
     "name": "stderr",
     "output_type": "stream",
     "text": [
      "I0110 23:17:42.271362 139750346217216 tf_logging.py:115] Scale of 0 disables regularizer.\n"
     ]
    },
    {
     "name": "stdout",
     "output_type": "stream",
     "text": [
      "INFO:tensorflow:Scale of 0 disables regularizer.\n"
     ]
    },
    {
     "name": "stderr",
     "output_type": "stream",
     "text": [
      "I0110 23:17:44.658603 139750346217216 tf_logging.py:115] Scale of 0 disables regularizer.\n"
     ]
    },
    {
     "name": "stdout",
     "output_type": "stream",
     "text": [
      "INFO:tensorflow:Scale of 0 disables regularizer.\n"
     ]
    },
    {
     "name": "stderr",
     "output_type": "stream",
     "text": [
      "I0110 23:17:47.113984 139750346217216 tf_logging.py:115] Scale of 0 disables regularizer.\n"
     ]
    },
    {
     "name": "stdout",
     "output_type": "stream",
     "text": [
      "INFO:tensorflow:Scale of 0 disables regularizer.\n"
     ]
    },
    {
     "name": "stderr",
     "output_type": "stream",
     "text": [
      "I0110 23:17:49.561648 139750346217216 tf_logging.py:115] Scale of 0 disables regularizer.\n"
     ]
    },
    {
     "name": "stdout",
     "output_type": "stream",
     "text": [
      "INFO:tensorflow:Scale of 0 disables regularizer.\n"
     ]
    },
    {
     "name": "stderr",
     "output_type": "stream",
     "text": [
      "I0110 23:17:52.028264 139750346217216 tf_logging.py:115] Scale of 0 disables regularizer.\n"
     ]
    },
    {
     "name": "stdout",
     "output_type": "stream",
     "text": [
      "INFO:tensorflow:Scale of 0 disables regularizer.\n"
     ]
    },
    {
     "name": "stderr",
     "output_type": "stream",
     "text": [
      "I0110 23:17:54.423067 139750346217216 tf_logging.py:115] Scale of 0 disables regularizer.\n"
     ]
    },
    {
     "name": "stdout",
     "output_type": "stream",
     "text": [
      "INFO:tensorflow:Scale of 0 disables regularizer.\n"
     ]
    },
    {
     "name": "stderr",
     "output_type": "stream",
     "text": [
      "I0110 23:17:56.890434 139750346217216 tf_logging.py:115] Scale of 0 disables regularizer.\n"
     ]
    },
    {
     "name": "stdout",
     "output_type": "stream",
     "text": [
      "INFO:tensorflow:Scale of 0 disables regularizer.\n"
     ]
    },
    {
     "name": "stderr",
     "output_type": "stream",
     "text": [
      "I0110 23:17:59.331789 139750346217216 tf_logging.py:115] Scale of 0 disables regularizer.\n"
     ]
    },
    {
     "name": "stdout",
     "output_type": "stream",
     "text": [
      "INFO:tensorflow:Scale of 0 disables regularizer.\n"
     ]
    },
    {
     "name": "stderr",
     "output_type": "stream",
     "text": [
      "I0110 23:18:01.782181 139750346217216 tf_logging.py:115] Scale of 0 disables regularizer.\n"
     ]
    },
    {
     "name": "stdout",
     "output_type": "stream",
     "text": [
      "INFO:tensorflow:Scale of 0 disables regularizer.\n"
     ]
    },
    {
     "name": "stderr",
     "output_type": "stream",
     "text": [
      "I0110 23:18:04.239007 139750346217216 tf_logging.py:115] Scale of 0 disables regularizer.\n"
     ]
    },
    {
     "name": "stdout",
     "output_type": "stream",
     "text": [
      "INFO:tensorflow:Scale of 0 disables regularizer.\n"
     ]
    },
    {
     "name": "stderr",
     "output_type": "stream",
     "text": [
      "I0110 23:18:06.636216 139750346217216 tf_logging.py:115] Scale of 0 disables regularizer.\n"
     ]
    },
    {
     "name": "stdout",
     "output_type": "stream",
     "text": [
      "INFO:tensorflow:Scale of 0 disables regularizer.\n"
     ]
    },
    {
     "name": "stderr",
     "output_type": "stream",
     "text": [
      "I0110 23:18:09.139314 139750346217216 tf_logging.py:115] Scale of 0 disables regularizer.\n"
     ]
    },
    {
     "name": "stdout",
     "output_type": "stream",
     "text": [
      "INFO:tensorflow:Scale of 0 disables regularizer.\n"
     ]
    },
    {
     "name": "stderr",
     "output_type": "stream",
     "text": [
      "I0110 23:18:11.601161 139750346217216 tf_logging.py:115] Scale of 0 disables regularizer.\n"
     ]
    },
    {
     "name": "stdout",
     "output_type": "stream",
     "text": [
      "INFO:tensorflow:Scale of 0 disables regularizer.\n"
     ]
    },
    {
     "name": "stderr",
     "output_type": "stream",
     "text": [
      "I0110 23:18:14.042551 139750346217216 tf_logging.py:115] Scale of 0 disables regularizer.\n"
     ]
    },
    {
     "name": "stdout",
     "output_type": "stream",
     "text": [
      "INFO:tensorflow:Scale of 0 disables regularizer.\n"
     ]
    },
    {
     "name": "stderr",
     "output_type": "stream",
     "text": [
      "I0110 23:18:16.437267 139750346217216 tf_logging.py:115] Scale of 0 disables regularizer.\n"
     ]
    },
    {
     "name": "stdout",
     "output_type": "stream",
     "text": [
      "INFO:tensorflow:Scale of 0 disables regularizer.\n"
     ]
    },
    {
     "name": "stderr",
     "output_type": "stream",
     "text": [
      "I0110 23:18:18.882309 139750346217216 tf_logging.py:115] Scale of 0 disables regularizer.\n"
     ]
    },
    {
     "name": "stdout",
     "output_type": "stream",
     "text": [
      "INFO:tensorflow:Scale of 0 disables regularizer.\n"
     ]
    },
    {
     "name": "stderr",
     "output_type": "stream",
     "text": [
      "I0110 23:18:21.335705 139750346217216 tf_logging.py:115] Scale of 0 disables regularizer.\n"
     ]
    },
    {
     "name": "stdout",
     "output_type": "stream",
     "text": [
      "INFO:tensorflow:Scale of 0 disables regularizer.\n"
     ]
    },
    {
     "name": "stderr",
     "output_type": "stream",
     "text": [
      "I0110 23:18:23.802132 139750346217216 tf_logging.py:115] Scale of 0 disables regularizer.\n"
     ]
    },
    {
     "name": "stdout",
     "output_type": "stream",
     "text": [
      "INFO:tensorflow:Scale of 0 disables regularizer.\n"
     ]
    },
    {
     "name": "stderr",
     "output_type": "stream",
     "text": [
      "I0110 23:18:26.266528 139750346217216 tf_logging.py:115] Scale of 0 disables regularizer.\n"
     ]
    },
    {
     "name": "stdout",
     "output_type": "stream",
     "text": [
      "INFO:tensorflow:Scale of 0 disables regularizer.\n"
     ]
    },
    {
     "name": "stderr",
     "output_type": "stream",
     "text": [
      "I0110 23:18:28.669301 139750346217216 tf_logging.py:115] Scale of 0 disables regularizer.\n"
     ]
    },
    {
     "name": "stdout",
     "output_type": "stream",
     "text": [
      "INFO:tensorflow:Scale of 0 disables regularizer.\n"
     ]
    },
    {
     "name": "stderr",
     "output_type": "stream",
     "text": [
      "I0110 23:18:31.115366 139750346217216 tf_logging.py:115] Scale of 0 disables regularizer.\n"
     ]
    },
    {
     "name": "stdout",
     "output_type": "stream",
     "text": [
      "INFO:tensorflow:Scale of 0 disables regularizer.\n"
     ]
    },
    {
     "name": "stderr",
     "output_type": "stream",
     "text": [
      "I0110 23:18:33.581482 139750346217216 tf_logging.py:115] Scale of 0 disables regularizer.\n"
     ]
    },
    {
     "name": "stdout",
     "output_type": "stream",
     "text": [
      "INFO:tensorflow:Scale of 0 disables regularizer.\n"
     ]
    },
    {
     "name": "stderr",
     "output_type": "stream",
     "text": [
      "I0110 23:18:36.033413 139750346217216 tf_logging.py:115] Scale of 0 disables regularizer.\n"
     ]
    },
    {
     "name": "stdout",
     "output_type": "stream",
     "text": [
      "INFO:tensorflow:Scale of 0 disables regularizer.\n"
     ]
    },
    {
     "name": "stderr",
     "output_type": "stream",
     "text": [
      "I0110 23:18:38.429983 139750346217216 tf_logging.py:115] Scale of 0 disables regularizer.\n"
     ]
    },
    {
     "name": "stdout",
     "output_type": "stream",
     "text": [
      "INFO:tensorflow:Scale of 0 disables regularizer.\n"
     ]
    },
    {
     "name": "stderr",
     "output_type": "stream",
     "text": [
      "I0110 23:18:40.841111 139750346217216 tf_logging.py:115] Scale of 0 disables regularizer.\n"
     ]
    },
    {
     "name": "stdout",
     "output_type": "stream",
     "text": [
      "INFO:tensorflow:Scale of 0 disables regularizer.\n"
     ]
    },
    {
     "name": "stderr",
     "output_type": "stream",
     "text": [
      "I0110 23:18:43.288745 139750346217216 tf_logging.py:115] Scale of 0 disables regularizer.\n"
     ]
    },
    {
     "name": "stdout",
     "output_type": "stream",
     "text": [
      "INFO:tensorflow:Scale of 0 disables regularizer.\n"
     ]
    },
    {
     "name": "stderr",
     "output_type": "stream",
     "text": [
      "I0110 23:18:45.743587 139750346217216 tf_logging.py:115] Scale of 0 disables regularizer.\n"
     ]
    },
    {
     "name": "stdout",
     "output_type": "stream",
     "text": [
      "INFO:tensorflow:Scale of 0 disables regularizer.\n"
     ]
    },
    {
     "name": "stderr",
     "output_type": "stream",
     "text": [
      "I0110 23:18:48.161941 139750346217216 tf_logging.py:115] Scale of 0 disables regularizer.\n"
     ]
    },
    {
     "name": "stdout",
     "output_type": "stream",
     "text": [
      "INFO:tensorflow:Scale of 0 disables regularizer.\n"
     ]
    },
    {
     "name": "stderr",
     "output_type": "stream",
     "text": [
      "I0110 23:18:50.597148 139750346217216 tf_logging.py:115] Scale of 0 disables regularizer.\n"
     ]
    },
    {
     "name": "stdout",
     "output_type": "stream",
     "text": [
      "INFO:tensorflow:Scale of 0 disables regularizer.\n"
     ]
    },
    {
     "name": "stderr",
     "output_type": "stream",
     "text": [
      "I0110 23:18:53.050539 139750346217216 tf_logging.py:115] Scale of 0 disables regularizer.\n"
     ]
    },
    {
     "name": "stdout",
     "output_type": "stream",
     "text": [
      "INFO:tensorflow:Scale of 0 disables regularizer.\n"
     ]
    },
    {
     "name": "stderr",
     "output_type": "stream",
     "text": [
      "I0110 23:18:55.494165 139750346217216 tf_logging.py:115] Scale of 0 disables regularizer.\n"
     ]
    },
    {
     "name": "stdout",
     "output_type": "stream",
     "text": [
      "INFO:tensorflow:Scale of 0 disables regularizer.\n"
     ]
    },
    {
     "name": "stderr",
     "output_type": "stream",
     "text": [
      "I0110 23:18:57.983326 139750346217216 tf_logging.py:115] Scale of 0 disables regularizer.\n"
     ]
    },
    {
     "name": "stdout",
     "output_type": "stream",
     "text": [
      "INFO:tensorflow:Scale of 0 disables regularizer.\n"
     ]
    },
    {
     "name": "stderr",
     "output_type": "stream",
     "text": [
      "I0110 23:19:00.374135 139750346217216 tf_logging.py:115] Scale of 0 disables regularizer.\n"
     ]
    },
    {
     "name": "stdout",
     "output_type": "stream",
     "text": [
      "INFO:tensorflow:Scale of 0 disables regularizer.\n"
     ]
    },
    {
     "name": "stderr",
     "output_type": "stream",
     "text": [
      "I0110 23:19:02.826655 139750346217216 tf_logging.py:115] Scale of 0 disables regularizer.\n"
     ]
    },
    {
     "name": "stdout",
     "output_type": "stream",
     "text": [
      "INFO:tensorflow:Scale of 0 disables regularizer.\n"
     ]
    },
    {
     "name": "stderr",
     "output_type": "stream",
     "text": [
      "I0110 23:19:05.271703 139750346217216 tf_logging.py:115] Scale of 0 disables regularizer.\n"
     ]
    },
    {
     "name": "stdout",
     "output_type": "stream",
     "text": [
      "INFO:tensorflow:Scale of 0 disables regularizer.\n"
     ]
    },
    {
     "name": "stderr",
     "output_type": "stream",
     "text": [
      "I0110 23:19:07.735505 139750346217216 tf_logging.py:115] Scale of 0 disables regularizer.\n"
     ]
    },
    {
     "name": "stdout",
     "output_type": "stream",
     "text": [
      "INFO:tensorflow:Scale of 0 disables regularizer.\n"
     ]
    },
    {
     "name": "stderr",
     "output_type": "stream",
     "text": [
      "I0110 23:19:10.129955 139750346217216 tf_logging.py:115] Scale of 0 disables regularizer.\n"
     ]
    },
    {
     "name": "stdout",
     "output_type": "stream",
     "text": [
      "INFO:tensorflow:Scale of 0 disables regularizer.\n"
     ]
    },
    {
     "name": "stderr",
     "output_type": "stream",
     "text": [
      "I0110 23:19:12.605336 139750346217216 tf_logging.py:115] Scale of 0 disables regularizer.\n"
     ]
    },
    {
     "name": "stdout",
     "output_type": "stream",
     "text": [
      "INFO:tensorflow:Scale of 0 disables regularizer.\n"
     ]
    },
    {
     "name": "stderr",
     "output_type": "stream",
     "text": [
      "I0110 23:19:15.055501 139750346217216 tf_logging.py:115] Scale of 0 disables regularizer.\n"
     ]
    },
    {
     "name": "stdout",
     "output_type": "stream",
     "text": [
      "INFO:tensorflow:Scale of 0 disables regularizer.\n"
     ]
    },
    {
     "name": "stderr",
     "output_type": "stream",
     "text": [
      "I0110 23:19:17.502766 139750346217216 tf_logging.py:115] Scale of 0 disables regularizer.\n"
     ]
    },
    {
     "name": "stdout",
     "output_type": "stream",
     "text": [
      "INFO:tensorflow:Scale of 0 disables regularizer.\n"
     ]
    },
    {
     "name": "stderr",
     "output_type": "stream",
     "text": [
      "I0110 23:19:19.963719 139750346217216 tf_logging.py:115] Scale of 0 disables regularizer.\n"
     ]
    },
    {
     "name": "stdout",
     "output_type": "stream",
     "text": [
      "INFO:tensorflow:Scale of 0 disables regularizer.\n"
     ]
    },
    {
     "name": "stderr",
     "output_type": "stream",
     "text": [
      "I0110 23:19:22.349033 139750346217216 tf_logging.py:115] Scale of 0 disables regularizer.\n"
     ]
    },
    {
     "name": "stdout",
     "output_type": "stream",
     "text": [
      "INFO:tensorflow:Scale of 0 disables regularizer.\n"
     ]
    },
    {
     "name": "stderr",
     "output_type": "stream",
     "text": [
      "I0110 23:19:24.789165 139750346217216 tf_logging.py:115] Scale of 0 disables regularizer.\n"
     ]
    },
    {
     "name": "stdout",
     "output_type": "stream",
     "text": [
      "INFO:tensorflow:Scale of 0 disables regularizer.\n"
     ]
    },
    {
     "name": "stderr",
     "output_type": "stream",
     "text": [
      "I0110 23:19:27.233110 139750346217216 tf_logging.py:115] Scale of 0 disables regularizer.\n"
     ]
    },
    {
     "name": "stdout",
     "output_type": "stream",
     "text": [
      "INFO:tensorflow:Scale of 0 disables regularizer.\n"
     ]
    },
    {
     "name": "stderr",
     "output_type": "stream",
     "text": [
      "I0110 23:19:29.688490 139750346217216 tf_logging.py:115] Scale of 0 disables regularizer.\n"
     ]
    },
    {
     "name": "stdout",
     "output_type": "stream",
     "text": [
      "INFO:tensorflow:Scale of 0 disables regularizer.\n"
     ]
    },
    {
     "name": "stderr",
     "output_type": "stream",
     "text": [
      "I0110 23:19:32.095340 139750346217216 tf_logging.py:115] Scale of 0 disables regularizer.\n"
     ]
    },
    {
     "name": "stdout",
     "output_type": "stream",
     "text": [
      "INFO:tensorflow:Scale of 0 disables regularizer.\n"
     ]
    },
    {
     "name": "stderr",
     "output_type": "stream",
     "text": [
      "I0110 23:19:34.541858 139750346217216 tf_logging.py:115] Scale of 0 disables regularizer.\n"
     ]
    },
    {
     "name": "stdout",
     "output_type": "stream",
     "text": [
      "INFO:tensorflow:Scale of 0 disables regularizer.\n"
     ]
    },
    {
     "name": "stderr",
     "output_type": "stream",
     "text": [
      "I0110 23:19:36.988384 139750346217216 tf_logging.py:115] Scale of 0 disables regularizer.\n"
     ]
    },
    {
     "name": "stdout",
     "output_type": "stream",
     "text": [
      "INFO:tensorflow:Scale of 0 disables regularizer.\n"
     ]
    },
    {
     "name": "stderr",
     "output_type": "stream",
     "text": [
      "I0110 23:19:39.449067 139750346217216 tf_logging.py:115] Scale of 0 disables regularizer.\n"
     ]
    },
    {
     "name": "stdout",
     "output_type": "stream",
     "text": [
      "INFO:tensorflow:Scale of 0 disables regularizer.\n"
     ]
    },
    {
     "name": "stderr",
     "output_type": "stream",
     "text": [
      "I0110 23:19:41.835123 139750346217216 tf_logging.py:115] Scale of 0 disables regularizer.\n"
     ]
    },
    {
     "name": "stdout",
     "output_type": "stream",
     "text": [
      "INFO:tensorflow:Scale of 0 disables regularizer.\n"
     ]
    },
    {
     "name": "stderr",
     "output_type": "stream",
     "text": [
      "I0110 23:19:44.275888 139750346217216 tf_logging.py:115] Scale of 0 disables regularizer.\n"
     ]
    },
    {
     "name": "stdout",
     "output_type": "stream",
     "text": [
      "INFO:tensorflow:Scale of 0 disables regularizer.\n"
     ]
    },
    {
     "name": "stderr",
     "output_type": "stream",
     "text": [
      "I0110 23:19:46.720284 139750346217216 tf_logging.py:115] Scale of 0 disables regularizer.\n"
     ]
    },
    {
     "name": "stdout",
     "output_type": "stream",
     "text": [
      "INFO:tensorflow:Scale of 0 disables regularizer.\n"
     ]
    },
    {
     "name": "stderr",
     "output_type": "stream",
     "text": [
      "I0110 23:19:49.171787 139750346217216 tf_logging.py:115] Scale of 0 disables regularizer.\n"
     ]
    },
    {
     "name": "stdout",
     "output_type": "stream",
     "text": [
      "INFO:tensorflow:Scale of 0 disables regularizer.\n"
     ]
    },
    {
     "name": "stderr",
     "output_type": "stream",
     "text": [
      "I0110 23:19:51.639115 139750346217216 tf_logging.py:115] Scale of 0 disables regularizer.\n"
     ]
    },
    {
     "name": "stdout",
     "output_type": "stream",
     "text": [
      "INFO:tensorflow:Scale of 0 disables regularizer.\n"
     ]
    },
    {
     "name": "stderr",
     "output_type": "stream",
     "text": [
      "I0110 23:19:54.033797 139750346217216 tf_logging.py:115] Scale of 0 disables regularizer.\n"
     ]
    },
    {
     "name": "stdout",
     "output_type": "stream",
     "text": [
      "INFO:tensorflow:Scale of 0 disables regularizer.\n"
     ]
    },
    {
     "name": "stderr",
     "output_type": "stream",
     "text": [
      "I0110 23:19:56.473783 139750346217216 tf_logging.py:115] Scale of 0 disables regularizer.\n"
     ]
    },
    {
     "name": "stdout",
     "output_type": "stream",
     "text": [
      "INFO:tensorflow:Scale of 0 disables regularizer.\n"
     ]
    },
    {
     "name": "stderr",
     "output_type": "stream",
     "text": [
      "I0110 23:19:58.969814 139750346217216 tf_logging.py:115] Scale of 0 disables regularizer.\n"
     ]
    },
    {
     "name": "stdout",
     "output_type": "stream",
     "text": [
      "INFO:tensorflow:Scale of 0 disables regularizer.\n"
     ]
    },
    {
     "name": "stderr",
     "output_type": "stream",
     "text": [
      "I0110 23:20:01.481528 139750346217216 tf_logging.py:115] Scale of 0 disables regularizer.\n"
     ]
    },
    {
     "name": "stdout",
     "output_type": "stream",
     "text": [
      "INFO:tensorflow:Scale of 0 disables regularizer.\n"
     ]
    },
    {
     "name": "stderr",
     "output_type": "stream",
     "text": [
      "I0110 23:20:03.875518 139750346217216 tf_logging.py:115] Scale of 0 disables regularizer.\n"
     ]
    },
    {
     "name": "stdout",
     "output_type": "stream",
     "text": [
      "INFO:tensorflow:Scale of 0 disables regularizer.\n"
     ]
    },
    {
     "name": "stderr",
     "output_type": "stream",
     "text": [
      "I0110 23:20:06.320683 139750346217216 tf_logging.py:115] Scale of 0 disables regularizer.\n"
     ]
    },
    {
     "name": "stdout",
     "output_type": "stream",
     "text": [
      "INFO:tensorflow:Scale of 0 disables regularizer.\n"
     ]
    },
    {
     "name": "stderr",
     "output_type": "stream",
     "text": [
      "I0110 23:20:08.777110 139750346217216 tf_logging.py:115] Scale of 0 disables regularizer.\n"
     ]
    },
    {
     "name": "stdout",
     "output_type": "stream",
     "text": [
      "INFO:tensorflow:Scale of 0 disables regularizer.\n"
     ]
    },
    {
     "name": "stderr",
     "output_type": "stream",
     "text": [
      "I0110 23:20:11.234310 139750346217216 tf_logging.py:115] Scale of 0 disables regularizer.\n"
     ]
    },
    {
     "name": "stdout",
     "output_type": "stream",
     "text": [
      "INFO:tensorflow:Scale of 0 disables regularizer.\n"
     ]
    },
    {
     "name": "stderr",
     "output_type": "stream",
     "text": [
      "I0110 23:20:13.649706 139750346217216 tf_logging.py:115] Scale of 0 disables regularizer.\n"
     ]
    },
    {
     "name": "stdout",
     "output_type": "stream",
     "text": [
      "INFO:tensorflow:Scale of 0 disables regularizer.\n"
     ]
    },
    {
     "name": "stderr",
     "output_type": "stream",
     "text": [
      "I0110 23:20:16.007891 139750346217216 tf_logging.py:115] Scale of 0 disables regularizer.\n"
     ]
    },
    {
     "name": "stdout",
     "output_type": "stream",
     "text": [
      "INFO:tensorflow:Scale of 0 disables regularizer.\n"
     ]
    },
    {
     "name": "stderr",
     "output_type": "stream",
     "text": [
      "I0110 23:20:18.428154 139750346217216 tf_logging.py:115] Scale of 0 disables regularizer.\n"
     ]
    },
    {
     "name": "stdout",
     "output_type": "stream",
     "text": [
      "INFO:tensorflow:Scale of 0 disables regularizer.\n"
     ]
    },
    {
     "name": "stderr",
     "output_type": "stream",
     "text": [
      "I0110 23:20:20.878731 139750346217216 tf_logging.py:115] Scale of 0 disables regularizer.\n"
     ]
    },
    {
     "name": "stdout",
     "output_type": "stream",
     "text": [
      "INFO:tensorflow:Scale of 0 disables regularizer.\n"
     ]
    },
    {
     "name": "stderr",
     "output_type": "stream",
     "text": [
      "I0110 23:20:23.339919 139750346217216 tf_logging.py:115] Scale of 0 disables regularizer.\n"
     ]
    },
    {
     "name": "stdout",
     "output_type": "stream",
     "text": [
      "INFO:tensorflow:Scale of 0 disables regularizer.\n"
     ]
    },
    {
     "name": "stderr",
     "output_type": "stream",
     "text": [
      "I0110 23:20:25.740714 139750346217216 tf_logging.py:115] Scale of 0 disables regularizer.\n"
     ]
    },
    {
     "name": "stdout",
     "output_type": "stream",
     "text": [
      "INFO:tensorflow:Scale of 0 disables regularizer.\n"
     ]
    },
    {
     "name": "stderr",
     "output_type": "stream",
     "text": [
      "I0110 23:20:28.180624 139750346217216 tf_logging.py:115] Scale of 0 disables regularizer.\n"
     ]
    },
    {
     "name": "stdout",
     "output_type": "stream",
     "text": [
      "INFO:tensorflow:Scale of 0 disables regularizer.\n"
     ]
    },
    {
     "name": "stderr",
     "output_type": "stream",
     "text": [
      "I0110 23:20:30.628984 139750346217216 tf_logging.py:115] Scale of 0 disables regularizer.\n"
     ]
    },
    {
     "name": "stdout",
     "output_type": "stream",
     "text": [
      "INFO:tensorflow:Scale of 0 disables regularizer.\n"
     ]
    },
    {
     "name": "stderr",
     "output_type": "stream",
     "text": [
      "I0110 23:20:33.078975 139750346217216 tf_logging.py:115] Scale of 0 disables regularizer.\n"
     ]
    },
    {
     "name": "stdout",
     "output_type": "stream",
     "text": [
      "INFO:tensorflow:Scale of 0 disables regularizer.\n"
     ]
    },
    {
     "name": "stderr",
     "output_type": "stream",
     "text": [
      "I0110 23:20:35.471654 139750346217216 tf_logging.py:115] Scale of 0 disables regularizer.\n"
     ]
    },
    {
     "name": "stdout",
     "output_type": "stream",
     "text": [
      "INFO:tensorflow:Scale of 0 disables regularizer.\n"
     ]
    },
    {
     "name": "stderr",
     "output_type": "stream",
     "text": [
      "I0110 23:20:37.914645 139750346217216 tf_logging.py:115] Scale of 0 disables regularizer.\n"
     ]
    },
    {
     "name": "stdout",
     "output_type": "stream",
     "text": [
      "INFO:tensorflow:Scale of 0 disables regularizer.\n"
     ]
    },
    {
     "name": "stderr",
     "output_type": "stream",
     "text": [
      "I0110 23:20:40.389728 139750346217216 tf_logging.py:115] Scale of 0 disables regularizer.\n"
     ]
    },
    {
     "name": "stdout",
     "output_type": "stream",
     "text": [
      "INFO:tensorflow:Scale of 0 disables regularizer.\n"
     ]
    },
    {
     "name": "stderr",
     "output_type": "stream",
     "text": [
      "I0110 23:20:42.847465 139750346217216 tf_logging.py:115] Scale of 0 disables regularizer.\n"
     ]
    },
    {
     "name": "stdout",
     "output_type": "stream",
     "text": [
      "INFO:tensorflow:Scale of 0 disables regularizer.\n"
     ]
    },
    {
     "name": "stderr",
     "output_type": "stream",
     "text": [
      "I0110 23:20:45.308415 139750346217216 tf_logging.py:115] Scale of 0 disables regularizer.\n"
     ]
    },
    {
     "name": "stdout",
     "output_type": "stream",
     "text": [
      "INFO:tensorflow:Scale of 0 disables regularizer.\n"
     ]
    },
    {
     "name": "stderr",
     "output_type": "stream",
     "text": [
      "I0110 23:20:47.704926 139750346217216 tf_logging.py:115] Scale of 0 disables regularizer.\n"
     ]
    },
    {
     "name": "stdout",
     "output_type": "stream",
     "text": [
      "INFO:tensorflow:Scale of 0 disables regularizer.\n"
     ]
    },
    {
     "name": "stderr",
     "output_type": "stream",
     "text": [
      "I0110 23:20:50.122355 139750346217216 tf_logging.py:115] Scale of 0 disables regularizer.\n"
     ]
    },
    {
     "name": "stdout",
     "output_type": "stream",
     "text": [
      "INFO:tensorflow:Scale of 0 disables regularizer.\n"
     ]
    },
    {
     "name": "stderr",
     "output_type": "stream",
     "text": [
      "I0110 23:20:52.568997 139750346217216 tf_logging.py:115] Scale of 0 disables regularizer.\n"
     ]
    },
    {
     "name": "stdout",
     "output_type": "stream",
     "text": [
      "INFO:tensorflow:Scale of 0 disables regularizer.\n"
     ]
    },
    {
     "name": "stderr",
     "output_type": "stream",
     "text": [
      "I0110 23:20:55.032851 139750346217216 tf_logging.py:115] Scale of 0 disables regularizer.\n"
     ]
    },
    {
     "name": "stdout",
     "output_type": "stream",
     "text": [
      "INFO:tensorflow:Scale of 0 disables regularizer.\n"
     ]
    },
    {
     "name": "stderr",
     "output_type": "stream",
     "text": [
      "I0110 23:20:57.428478 139750346217216 tf_logging.py:115] Scale of 0 disables regularizer.\n"
     ]
    },
    {
     "name": "stdout",
     "output_type": "stream",
     "text": [
      "INFO:tensorflow:Scale of 0 disables regularizer.\n"
     ]
    },
    {
     "name": "stderr",
     "output_type": "stream",
     "text": [
      "I0110 23:20:59.882053 139750346217216 tf_logging.py:115] Scale of 0 disables regularizer.\n"
     ]
    },
    {
     "name": "stdout",
     "output_type": "stream",
     "text": [
      "INFO:tensorflow:Scale of 0 disables regularizer.\n"
     ]
    },
    {
     "name": "stderr",
     "output_type": "stream",
     "text": [
      "I0110 23:21:02.333103 139750346217216 tf_logging.py:115] Scale of 0 disables regularizer.\n"
     ]
    },
    {
     "name": "stdout",
     "output_type": "stream",
     "text": [
      "INFO:tensorflow:Scale of 0 disables regularizer.\n"
     ]
    },
    {
     "name": "stderr",
     "output_type": "stream",
     "text": [
      "I0110 23:21:04.778501 139750346217216 tf_logging.py:115] Scale of 0 disables regularizer.\n"
     ]
    },
    {
     "name": "stdout",
     "output_type": "stream",
     "text": [
      "INFO:tensorflow:Scale of 0 disables regularizer.\n"
     ]
    },
    {
     "name": "stderr",
     "output_type": "stream",
     "text": [
      "I0110 23:21:07.251778 139750346217216 tf_logging.py:115] Scale of 0 disables regularizer.\n"
     ]
    },
    {
     "name": "stdout",
     "output_type": "stream",
     "text": [
      "INFO:tensorflow:Scale of 0 disables regularizer.\n"
     ]
    },
    {
     "name": "stderr",
     "output_type": "stream",
     "text": [
      "I0110 23:21:09.640787 139750346217216 tf_logging.py:115] Scale of 0 disables regularizer.\n"
     ]
    },
    {
     "name": "stdout",
     "output_type": "stream",
     "text": [
      "INFO:tensorflow:Scale of 0 disables regularizer.\n"
     ]
    },
    {
     "name": "stderr",
     "output_type": "stream",
     "text": [
      "I0110 23:21:12.083594 139750346217216 tf_logging.py:115] Scale of 0 disables regularizer.\n"
     ]
    },
    {
     "name": "stdout",
     "output_type": "stream",
     "text": [
      "INFO:tensorflow:Scale of 0 disables regularizer.\n"
     ]
    },
    {
     "name": "stderr",
     "output_type": "stream",
     "text": [
      "I0110 23:21:14.523572 139750346217216 tf_logging.py:115] Scale of 0 disables regularizer.\n"
     ]
    },
    {
     "name": "stdout",
     "output_type": "stream",
     "text": [
      "INFO:tensorflow:Scale of 0 disables regularizer.\n"
     ]
    },
    {
     "name": "stderr",
     "output_type": "stream",
     "text": [
      "I0110 23:21:16.970074 139750346217216 tf_logging.py:115] Scale of 0 disables regularizer.\n"
     ]
    },
    {
     "name": "stdout",
     "output_type": "stream",
     "text": [
      "INFO:tensorflow:Scale of 0 disables regularizer.\n"
     ]
    },
    {
     "name": "stderr",
     "output_type": "stream",
     "text": [
      "I0110 23:21:19.355279 139750346217216 tf_logging.py:115] Scale of 0 disables regularizer.\n"
     ]
    },
    {
     "name": "stdout",
     "output_type": "stream",
     "text": [
      "INFO:tensorflow:Scale of 0 disables regularizer.\n"
     ]
    },
    {
     "name": "stderr",
     "output_type": "stream",
     "text": [
      "I0110 23:21:21.791483 139750346217216 tf_logging.py:115] Scale of 0 disables regularizer.\n"
     ]
    },
    {
     "name": "stdout",
     "output_type": "stream",
     "text": [
      "INFO:tensorflow:Scale of 0 disables regularizer.\n"
     ]
    },
    {
     "name": "stderr",
     "output_type": "stream",
     "text": [
      "I0110 23:21:24.231856 139750346217216 tf_logging.py:115] Scale of 0 disables regularizer.\n"
     ]
    },
    {
     "name": "stdout",
     "output_type": "stream",
     "text": [
      "INFO:tensorflow:Scale of 0 disables regularizer.\n"
     ]
    },
    {
     "name": "stderr",
     "output_type": "stream",
     "text": [
      "I0110 23:21:26.678260 139750346217216 tf_logging.py:115] Scale of 0 disables regularizer.\n"
     ]
    },
    {
     "name": "stdout",
     "output_type": "stream",
     "text": [
      "INFO:tensorflow:Scale of 0 disables regularizer.\n"
     ]
    },
    {
     "name": "stderr",
     "output_type": "stream",
     "text": [
      "I0110 23:21:29.060737 139750346217216 tf_logging.py:115] Scale of 0 disables regularizer.\n"
     ]
    },
    {
     "name": "stdout",
     "output_type": "stream",
     "text": [
      "INFO:tensorflow:Scale of 0 disables regularizer.\n"
     ]
    },
    {
     "name": "stderr",
     "output_type": "stream",
     "text": [
      "I0110 23:21:31.508141 139750346217216 tf_logging.py:115] Scale of 0 disables regularizer.\n"
     ]
    },
    {
     "name": "stdout",
     "output_type": "stream",
     "text": [
      "INFO:tensorflow:Scale of 0 disables regularizer.\n"
     ]
    },
    {
     "name": "stderr",
     "output_type": "stream",
     "text": [
      "I0110 23:21:33.950601 139750346217216 tf_logging.py:115] Scale of 0 disables regularizer.\n"
     ]
    },
    {
     "name": "stdout",
     "output_type": "stream",
     "text": [
      "INFO:tensorflow:Scale of 0 disables regularizer.\n"
     ]
    },
    {
     "name": "stderr",
     "output_type": "stream",
     "text": [
      "I0110 23:21:36.410425 139750346217216 tf_logging.py:115] Scale of 0 disables regularizer.\n"
     ]
    },
    {
     "name": "stdout",
     "output_type": "stream",
     "text": [
      "INFO:tensorflow:Scale of 0 disables regularizer.\n"
     ]
    },
    {
     "name": "stderr",
     "output_type": "stream",
     "text": [
      "I0110 23:21:38.864645 139750346217216 tf_logging.py:115] Scale of 0 disables regularizer.\n"
     ]
    },
    {
     "name": "stdout",
     "output_type": "stream",
     "text": [
      "INFO:tensorflow:Scale of 0 disables regularizer.\n"
     ]
    },
    {
     "name": "stderr",
     "output_type": "stream",
     "text": [
      "I0110 23:21:41.251394 139750346217216 tf_logging.py:115] Scale of 0 disables regularizer.\n"
     ]
    },
    {
     "name": "stdout",
     "output_type": "stream",
     "text": [
      "INFO:tensorflow:Scale of 0 disables regularizer.\n"
     ]
    },
    {
     "name": "stderr",
     "output_type": "stream",
     "text": [
      "I0110 23:21:43.691468 139750346217216 tf_logging.py:115] Scale of 0 disables regularizer.\n"
     ]
    },
    {
     "name": "stdout",
     "output_type": "stream",
     "text": [
      "INFO:tensorflow:Scale of 0 disables regularizer.\n"
     ]
    },
    {
     "name": "stderr",
     "output_type": "stream",
     "text": [
      "I0110 23:21:46.148523 139750346217216 tf_logging.py:115] Scale of 0 disables regularizer.\n"
     ]
    },
    {
     "name": "stdout",
     "output_type": "stream",
     "text": [
      "INFO:tensorflow:Scale of 0 disables regularizer.\n"
     ]
    },
    {
     "name": "stderr",
     "output_type": "stream",
     "text": [
      "I0110 23:21:48.603259 139750346217216 tf_logging.py:115] Scale of 0 disables regularizer.\n"
     ]
    },
    {
     "name": "stdout",
     "output_type": "stream",
     "text": [
      "INFO:tensorflow:Scale of 0 disables regularizer.\n"
     ]
    },
    {
     "name": "stderr",
     "output_type": "stream",
     "text": [
      "I0110 23:21:50.985091 139750346217216 tf_logging.py:115] Scale of 0 disables regularizer.\n"
     ]
    },
    {
     "name": "stdout",
     "output_type": "stream",
     "text": [
      "INFO:tensorflow:Scale of 0 disables regularizer.\n"
     ]
    },
    {
     "name": "stderr",
     "output_type": "stream",
     "text": [
      "I0110 23:21:53.428416 139750346217216 tf_logging.py:115] Scale of 0 disables regularizer.\n"
     ]
    },
    {
     "name": "stdout",
     "output_type": "stream",
     "text": [
      "INFO:tensorflow:Scale of 0 disables regularizer.\n"
     ]
    },
    {
     "name": "stderr",
     "output_type": "stream",
     "text": [
      "I0110 23:21:55.864060 139750346217216 tf_logging.py:115] Scale of 0 disables regularizer.\n"
     ]
    },
    {
     "name": "stdout",
     "output_type": "stream",
     "text": [
      "INFO:tensorflow:Scale of 0 disables regularizer.\n"
     ]
    },
    {
     "name": "stderr",
     "output_type": "stream",
     "text": [
      "I0110 23:21:58.323488 139750346217216 tf_logging.py:115] Scale of 0 disables regularizer.\n"
     ]
    },
    {
     "name": "stdout",
     "output_type": "stream",
     "text": [
      "INFO:tensorflow:Scale of 0 disables regularizer.\n"
     ]
    },
    {
     "name": "stderr",
     "output_type": "stream",
     "text": [
      "I0110 23:22:00.783817 139750346217216 tf_logging.py:115] Scale of 0 disables regularizer.\n"
     ]
    },
    {
     "name": "stdout",
     "output_type": "stream",
     "text": [
      "INFO:tensorflow:Scale of 0 disables regularizer.\n"
     ]
    },
    {
     "name": "stderr",
     "output_type": "stream",
     "text": [
      "I0110 23:22:03.172930 139750346217216 tf_logging.py:115] Scale of 0 disables regularizer.\n"
     ]
    },
    {
     "name": "stdout",
     "output_type": "stream",
     "text": [
      "INFO:tensorflow:Scale of 0 disables regularizer.\n"
     ]
    },
    {
     "name": "stderr",
     "output_type": "stream",
     "text": [
      "I0110 23:22:05.623380 139750346217216 tf_logging.py:115] Scale of 0 disables regularizer.\n"
     ]
    },
    {
     "name": "stdout",
     "output_type": "stream",
     "text": [
      "INFO:tensorflow:Scale of 0 disables regularizer.\n"
     ]
    },
    {
     "name": "stderr",
     "output_type": "stream",
     "text": [
      "I0110 23:22:08.043269 139750346217216 tf_logging.py:115] Scale of 0 disables regularizer.\n"
     ]
    },
    {
     "name": "stdout",
     "output_type": "stream",
     "text": [
      "INFO:tensorflow:Scale of 0 disables regularizer.\n"
     ]
    },
    {
     "name": "stderr",
     "output_type": "stream",
     "text": [
      "I0110 23:22:10.464697 139750346217216 tf_logging.py:115] Scale of 0 disables regularizer.\n"
     ]
    },
    {
     "name": "stdout",
     "output_type": "stream",
     "text": [
      "INFO:tensorflow:Scale of 0 disables regularizer.\n"
     ]
    },
    {
     "name": "stderr",
     "output_type": "stream",
     "text": [
      "I0110 23:22:12.857507 139750346217216 tf_logging.py:115] Scale of 0 disables regularizer.\n"
     ]
    },
    {
     "name": "stdout",
     "output_type": "stream",
     "text": [
      "INFO:tensorflow:Scale of 0 disables regularizer.\n"
     ]
    },
    {
     "name": "stderr",
     "output_type": "stream",
     "text": [
      "I0110 23:22:15.302881 139750346217216 tf_logging.py:115] Scale of 0 disables regularizer.\n"
     ]
    },
    {
     "name": "stdout",
     "output_type": "stream",
     "text": [
      "INFO:tensorflow:Scale of 0 disables regularizer.\n"
     ]
    },
    {
     "name": "stderr",
     "output_type": "stream",
     "text": [
      "I0110 23:22:17.746990 139750346217216 tf_logging.py:115] Scale of 0 disables regularizer.\n"
     ]
    },
    {
     "name": "stdout",
     "output_type": "stream",
     "text": [
      "INFO:tensorflow:Scale of 0 disables regularizer.\n"
     ]
    },
    {
     "name": "stderr",
     "output_type": "stream",
     "text": [
      "I0110 23:22:20.196338 139750346217216 tf_logging.py:115] Scale of 0 disables regularizer.\n"
     ]
    },
    {
     "name": "stdout",
     "output_type": "stream",
     "text": [
      "INFO:tensorflow:Scale of 0 disables regularizer.\n"
     ]
    },
    {
     "name": "stderr",
     "output_type": "stream",
     "text": [
      "I0110 23:22:22.575952 139750346217216 tf_logging.py:115] Scale of 0 disables regularizer.\n"
     ]
    },
    {
     "name": "stdout",
     "output_type": "stream",
     "text": [
      "INFO:tensorflow:Scale of 0 disables regularizer.\n"
     ]
    },
    {
     "name": "stderr",
     "output_type": "stream",
     "text": [
      "I0110 23:22:25.008998 139750346217216 tf_logging.py:115] Scale of 0 disables regularizer.\n"
     ]
    },
    {
     "name": "stdout",
     "output_type": "stream",
     "text": [
      "INFO:tensorflow:Scale of 0 disables regularizer.\n"
     ]
    },
    {
     "name": "stderr",
     "output_type": "stream",
     "text": [
      "I0110 23:22:27.464246 139750346217216 tf_logging.py:115] Scale of 0 disables regularizer.\n"
     ]
    },
    {
     "name": "stdout",
     "output_type": "stream",
     "text": [
      "INFO:tensorflow:Scale of 0 disables regularizer.\n"
     ]
    },
    {
     "name": "stderr",
     "output_type": "stream",
     "text": [
      "I0110 23:22:29.916034 139750346217216 tf_logging.py:115] Scale of 0 disables regularizer.\n"
     ]
    },
    {
     "name": "stdout",
     "output_type": "stream",
     "text": [
      "INFO:tensorflow:Scale of 0 disables regularizer.\n"
     ]
    },
    {
     "name": "stderr",
     "output_type": "stream",
     "text": [
      "I0110 23:22:32.372362 139750346217216 tf_logging.py:115] Scale of 0 disables regularizer.\n"
     ]
    },
    {
     "name": "stdout",
     "output_type": "stream",
     "text": [
      "INFO:tensorflow:Scale of 0 disables regularizer.\n"
     ]
    },
    {
     "name": "stderr",
     "output_type": "stream",
     "text": [
      "I0110 23:22:34.768505 139750346217216 tf_logging.py:115] Scale of 0 disables regularizer.\n"
     ]
    },
    {
     "name": "stdout",
     "output_type": "stream",
     "text": [
      "INFO:tensorflow:Scale of 0 disables regularizer.\n"
     ]
    },
    {
     "name": "stderr",
     "output_type": "stream",
     "text": [
      "I0110 23:22:37.213066 139750346217216 tf_logging.py:115] Scale of 0 disables regularizer.\n"
     ]
    },
    {
     "name": "stdout",
     "output_type": "stream",
     "text": [
      "INFO:tensorflow:Scale of 0 disables regularizer.\n"
     ]
    },
    {
     "name": "stderr",
     "output_type": "stream",
     "text": [
      "I0110 23:22:39.678948 139750346217216 tf_logging.py:115] Scale of 0 disables regularizer.\n"
     ]
    },
    {
     "name": "stdout",
     "output_type": "stream",
     "text": [
      "INFO:tensorflow:Scale of 0 disables regularizer.\n"
     ]
    },
    {
     "name": "stderr",
     "output_type": "stream",
     "text": [
      "I0110 23:22:42.136528 139750346217216 tf_logging.py:115] Scale of 0 disables regularizer.\n"
     ]
    },
    {
     "name": "stdout",
     "output_type": "stream",
     "text": [
      "INFO:tensorflow:Scale of 0 disables regularizer.\n"
     ]
    },
    {
     "name": "stderr",
     "output_type": "stream",
     "text": [
      "I0110 23:22:44.523219 139750346217216 tf_logging.py:115] Scale of 0 disables regularizer.\n"
     ]
    },
    {
     "name": "stdout",
     "output_type": "stream",
     "text": [
      "INFO:tensorflow:Scale of 0 disables regularizer.\n"
     ]
    },
    {
     "name": "stderr",
     "output_type": "stream",
     "text": [
      "I0110 23:22:46.966281 139750346217216 tf_logging.py:115] Scale of 0 disables regularizer.\n"
     ]
    },
    {
     "name": "stdout",
     "output_type": "stream",
     "text": [
      "INFO:tensorflow:Scale of 0 disables regularizer.\n"
     ]
    },
    {
     "name": "stderr",
     "output_type": "stream",
     "text": [
      "I0110 23:22:49.430038 139750346217216 tf_logging.py:115] Scale of 0 disables regularizer.\n"
     ]
    },
    {
     "name": "stdout",
     "output_type": "stream",
     "text": [
      "INFO:tensorflow:Scale of 0 disables regularizer.\n"
     ]
    },
    {
     "name": "stderr",
     "output_type": "stream",
     "text": [
      "I0110 23:22:51.876620 139750346217216 tf_logging.py:115] Scale of 0 disables regularizer.\n"
     ]
    },
    {
     "name": "stdout",
     "output_type": "stream",
     "text": [
      "INFO:tensorflow:Scale of 0 disables regularizer.\n"
     ]
    },
    {
     "name": "stderr",
     "output_type": "stream",
     "text": [
      "I0110 23:22:54.323307 139750346217216 tf_logging.py:115] Scale of 0 disables regularizer.\n"
     ]
    },
    {
     "name": "stdout",
     "output_type": "stream",
     "text": [
      "INFO:tensorflow:Scale of 0 disables regularizer.\n"
     ]
    },
    {
     "name": "stderr",
     "output_type": "stream",
     "text": [
      "I0110 23:22:56.707936 139750346217216 tf_logging.py:115] Scale of 0 disables regularizer.\n"
     ]
    },
    {
     "name": "stdout",
     "output_type": "stream",
     "text": [
      "INFO:tensorflow:Scale of 0 disables regularizer.\n"
     ]
    },
    {
     "name": "stderr",
     "output_type": "stream",
     "text": [
      "I0110 23:22:59.154332 139750346217216 tf_logging.py:115] Scale of 0 disables regularizer.\n"
     ]
    },
    {
     "name": "stdout",
     "output_type": "stream",
     "text": [
      "INFO:tensorflow:Scale of 0 disables regularizer.\n"
     ]
    },
    {
     "name": "stderr",
     "output_type": "stream",
     "text": [
      "I0110 23:23:01.605193 139750346217216 tf_logging.py:115] Scale of 0 disables regularizer.\n"
     ]
    },
    {
     "name": "stdout",
     "output_type": "stream",
     "text": [
      "INFO:tensorflow:Scale of 0 disables regularizer.\n"
     ]
    },
    {
     "name": "stderr",
     "output_type": "stream",
     "text": [
      "I0110 23:23:04.108330 139750346217216 tf_logging.py:115] Scale of 0 disables regularizer.\n"
     ]
    },
    {
     "name": "stdout",
     "output_type": "stream",
     "text": [
      "INFO:tensorflow:Scale of 0 disables regularizer.\n"
     ]
    },
    {
     "name": "stderr",
     "output_type": "stream",
     "text": [
      "I0110 23:23:06.499638 139750346217216 tf_logging.py:115] Scale of 0 disables regularizer.\n"
     ]
    },
    {
     "name": "stdout",
     "output_type": "stream",
     "text": [
      "INFO:tensorflow:Scale of 0 disables regularizer.\n"
     ]
    },
    {
     "name": "stderr",
     "output_type": "stream",
     "text": [
      "I0110 23:23:09.005795 139750346217216 tf_logging.py:115] Scale of 0 disables regularizer.\n"
     ]
    },
    {
     "name": "stdout",
     "output_type": "stream",
     "text": [
      "INFO:tensorflow:Scale of 0 disables regularizer.\n"
     ]
    },
    {
     "name": "stderr",
     "output_type": "stream",
     "text": [
      "I0110 23:23:11.462655 139750346217216 tf_logging.py:115] Scale of 0 disables regularizer.\n"
     ]
    },
    {
     "name": "stdout",
     "output_type": "stream",
     "text": [
      "INFO:tensorflow:Scale of 0 disables regularizer.\n"
     ]
    },
    {
     "name": "stderr",
     "output_type": "stream",
     "text": [
      "I0110 23:23:13.920251 139750346217216 tf_logging.py:115] Scale of 0 disables regularizer.\n"
     ]
    },
    {
     "name": "stdout",
     "output_type": "stream",
     "text": [
      "INFO:tensorflow:Scale of 0 disables regularizer.\n"
     ]
    },
    {
     "name": "stderr",
     "output_type": "stream",
     "text": [
      "I0110 23:23:16.297918 139750346217216 tf_logging.py:115] Scale of 0 disables regularizer.\n"
     ]
    },
    {
     "name": "stdout",
     "output_type": "stream",
     "text": [
      "INFO:tensorflow:Scale of 0 disables regularizer.\n"
     ]
    },
    {
     "name": "stderr",
     "output_type": "stream",
     "text": [
      "I0110 23:23:18.751754 139750346217216 tf_logging.py:115] Scale of 0 disables regularizer.\n"
     ]
    },
    {
     "name": "stdout",
     "output_type": "stream",
     "text": [
      "INFO:tensorflow:Scale of 0 disables regularizer.\n"
     ]
    },
    {
     "name": "stderr",
     "output_type": "stream",
     "text": [
      "I0110 23:23:21.263501 139750346217216 tf_logging.py:115] Scale of 0 disables regularizer.\n"
     ]
    },
    {
     "name": "stdout",
     "output_type": "stream",
     "text": [
      "INFO:tensorflow:Scale of 0 disables regularizer.\n"
     ]
    },
    {
     "name": "stderr",
     "output_type": "stream",
     "text": [
      "I0110 23:23:23.732887 139750346217216 tf_logging.py:115] Scale of 0 disables regularizer.\n"
     ]
    },
    {
     "name": "stdout",
     "output_type": "stream",
     "text": [
      "INFO:tensorflow:Scale of 0 disables regularizer.\n"
     ]
    },
    {
     "name": "stderr",
     "output_type": "stream",
     "text": [
      "I0110 23:23:26.183905 139750346217216 tf_logging.py:115] Scale of 0 disables regularizer.\n"
     ]
    },
    {
     "name": "stdout",
     "output_type": "stream",
     "text": [
      "INFO:tensorflow:Scale of 0 disables regularizer.\n"
     ]
    },
    {
     "name": "stderr",
     "output_type": "stream",
     "text": [
      "I0110 23:23:28.569859 139750346217216 tf_logging.py:115] Scale of 0 disables regularizer.\n"
     ]
    },
    {
     "name": "stdout",
     "output_type": "stream",
     "text": [
      "INFO:tensorflow:Scale of 0 disables regularizer.\n"
     ]
    },
    {
     "name": "stderr",
     "output_type": "stream",
     "text": [
      "I0110 23:23:31.035694 139750346217216 tf_logging.py:115] Scale of 0 disables regularizer.\n"
     ]
    },
    {
     "name": "stdout",
     "output_type": "stream",
     "text": [
      "INFO:tensorflow:Scale of 0 disables regularizer.\n"
     ]
    },
    {
     "name": "stderr",
     "output_type": "stream",
     "text": [
      "I0110 23:23:33.478963 139750346217216 tf_logging.py:115] Scale of 0 disables regularizer.\n"
     ]
    },
    {
     "name": "stdout",
     "output_type": "stream",
     "text": [
      "INFO:tensorflow:Scale of 0 disables regularizer.\n"
     ]
    },
    {
     "name": "stderr",
     "output_type": "stream",
     "text": [
      "I0110 23:23:35.952715 139750346217216 tf_logging.py:115] Scale of 0 disables regularizer.\n"
     ]
    },
    {
     "name": "stdout",
     "output_type": "stream",
     "text": [
      "INFO:tensorflow:Scale of 0 disables regularizer.\n"
     ]
    },
    {
     "name": "stderr",
     "output_type": "stream",
     "text": [
      "I0110 23:23:38.339948 139750346217216 tf_logging.py:115] Scale of 0 disables regularizer.\n"
     ]
    },
    {
     "name": "stdout",
     "output_type": "stream",
     "text": [
      "INFO:tensorflow:Scale of 0 disables regularizer.\n"
     ]
    },
    {
     "name": "stderr",
     "output_type": "stream",
     "text": [
      "I0110 23:23:40.784758 139750346217216 tf_logging.py:115] Scale of 0 disables regularizer.\n"
     ]
    },
    {
     "name": "stdout",
     "output_type": "stream",
     "text": [
      "INFO:tensorflow:Scale of 0 disables regularizer.\n"
     ]
    },
    {
     "name": "stderr",
     "output_type": "stream",
     "text": [
      "I0110 23:23:43.228618 139750346217216 tf_logging.py:115] Scale of 0 disables regularizer.\n"
     ]
    },
    {
     "name": "stdout",
     "output_type": "stream",
     "text": [
      "INFO:tensorflow:Scale of 0 disables regularizer.\n"
     ]
    },
    {
     "name": "stderr",
     "output_type": "stream",
     "text": [
      "I0110 23:23:45.702756 139750346217216 tf_logging.py:115] Scale of 0 disables regularizer.\n"
     ]
    },
    {
     "name": "stdout",
     "output_type": "stream",
     "text": [
      "INFO:tensorflow:Scale of 0 disables regularizer.\n"
     ]
    },
    {
     "name": "stderr",
     "output_type": "stream",
     "text": [
      "I0110 23:23:48.146434 139750346217216 tf_logging.py:115] Scale of 0 disables regularizer.\n"
     ]
    },
    {
     "name": "stdout",
     "output_type": "stream",
     "text": [
      "INFO:tensorflow:Scale of 0 disables regularizer.\n"
     ]
    },
    {
     "name": "stderr",
     "output_type": "stream",
     "text": [
      "I0110 23:23:50.532678 139750346217216 tf_logging.py:115] Scale of 0 disables regularizer.\n"
     ]
    },
    {
     "name": "stdout",
     "output_type": "stream",
     "text": [
      "INFO:tensorflow:Scale of 0 disables regularizer.\n"
     ]
    },
    {
     "name": "stderr",
     "output_type": "stream",
     "text": [
      "I0110 23:23:52.984602 139750346217216 tf_logging.py:115] Scale of 0 disables regularizer.\n"
     ]
    },
    {
     "name": "stdout",
     "output_type": "stream",
     "text": [
      "INFO:tensorflow:Scale of 0 disables regularizer.\n"
     ]
    },
    {
     "name": "stderr",
     "output_type": "stream",
     "text": [
      "I0110 23:23:55.447783 139750346217216 tf_logging.py:115] Scale of 0 disables regularizer.\n"
     ]
    },
    {
     "name": "stdout",
     "output_type": "stream",
     "text": [
      "INFO:tensorflow:Scale of 0 disables regularizer.\n"
     ]
    },
    {
     "name": "stderr",
     "output_type": "stream",
     "text": [
      "I0110 23:23:57.919337 139750346217216 tf_logging.py:115] Scale of 0 disables regularizer.\n"
     ]
    },
    {
     "name": "stdout",
     "output_type": "stream",
     "text": [
      "INFO:tensorflow:Scale of 0 disables regularizer.\n"
     ]
    },
    {
     "name": "stderr",
     "output_type": "stream",
     "text": [
      "I0110 23:24:00.352038 139750346217216 tf_logging.py:115] Scale of 0 disables regularizer.\n"
     ]
    },
    {
     "name": "stdout",
     "output_type": "stream",
     "text": [
      "INFO:tensorflow:Scale of 0 disables regularizer.\n"
     ]
    },
    {
     "name": "stderr",
     "output_type": "stream",
     "text": [
      "I0110 23:24:02.811715 139750346217216 tf_logging.py:115] Scale of 0 disables regularizer.\n"
     ]
    },
    {
     "name": "stdout",
     "output_type": "stream",
     "text": [
      "INFO:tensorflow:Scale of 0 disables regularizer.\n"
     ]
    },
    {
     "name": "stderr",
     "output_type": "stream",
     "text": [
      "I0110 23:24:05.260408 139750346217216 tf_logging.py:115] Scale of 0 disables regularizer.\n"
     ]
    },
    {
     "name": "stdout",
     "output_type": "stream",
     "text": [
      "INFO:tensorflow:Scale of 0 disables regularizer.\n"
     ]
    },
    {
     "name": "stderr",
     "output_type": "stream",
     "text": [
      "I0110 23:24:07.731685 139750346217216 tf_logging.py:115] Scale of 0 disables regularizer.\n"
     ]
    },
    {
     "name": "stdout",
     "output_type": "stream",
     "text": [
      "INFO:tensorflow:Scale of 0 disables regularizer.\n"
     ]
    },
    {
     "name": "stderr",
     "output_type": "stream",
     "text": [
      "I0110 23:24:10.133377 139750346217216 tf_logging.py:115] Scale of 0 disables regularizer.\n"
     ]
    },
    {
     "name": "stdout",
     "output_type": "stream",
     "text": [
      "INFO:tensorflow:Scale of 0 disables regularizer.\n"
     ]
    },
    {
     "name": "stderr",
     "output_type": "stream",
     "text": [
      "I0110 23:24:12.592799 139750346217216 tf_logging.py:115] Scale of 0 disables regularizer.\n"
     ]
    },
    {
     "name": "stdout",
     "output_type": "stream",
     "text": [
      "INFO:tensorflow:Scale of 0 disables regularizer.\n"
     ]
    },
    {
     "name": "stderr",
     "output_type": "stream",
     "text": [
      "I0110 23:24:15.084624 139750346217216 tf_logging.py:115] Scale of 0 disables regularizer.\n"
     ]
    },
    {
     "name": "stdout",
     "output_type": "stream",
     "text": [
      "INFO:tensorflow:Scale of 0 disables regularizer.\n"
     ]
    },
    {
     "name": "stderr",
     "output_type": "stream",
     "text": [
      "I0110 23:24:17.541157 139750346217216 tf_logging.py:115] Scale of 0 disables regularizer.\n"
     ]
    },
    {
     "name": "stdout",
     "output_type": "stream",
     "text": [
      "INFO:tensorflow:Scale of 0 disables regularizer.\n"
     ]
    },
    {
     "name": "stderr",
     "output_type": "stream",
     "text": [
      "I0110 23:24:19.993487 139750346217216 tf_logging.py:115] Scale of 0 disables regularizer.\n"
     ]
    },
    {
     "name": "stdout",
     "output_type": "stream",
     "text": [
      "INFO:tensorflow:Scale of 0 disables regularizer.\n"
     ]
    },
    {
     "name": "stderr",
     "output_type": "stream",
     "text": [
      "I0110 23:24:22.395016 139750346217216 tf_logging.py:115] Scale of 0 disables regularizer.\n"
     ]
    },
    {
     "name": "stdout",
     "output_type": "stream",
     "text": [
      "INFO:tensorflow:Scale of 0 disables regularizer.\n"
     ]
    },
    {
     "name": "stderr",
     "output_type": "stream",
     "text": [
      "I0110 23:24:24.840781 139750346217216 tf_logging.py:115] Scale of 0 disables regularizer.\n"
     ]
    },
    {
     "name": "stdout",
     "output_type": "stream",
     "text": [
      "INFO:tensorflow:Scale of 0 disables regularizer.\n"
     ]
    },
    {
     "name": "stderr",
     "output_type": "stream",
     "text": [
      "I0110 23:24:27.287964 139750346217216 tf_logging.py:115] Scale of 0 disables regularizer.\n"
     ]
    },
    {
     "name": "stdout",
     "output_type": "stream",
     "text": [
      "INFO:tensorflow:Scale of 0 disables regularizer.\n"
     ]
    },
    {
     "name": "stderr",
     "output_type": "stream",
     "text": [
      "I0110 23:24:29.742640 139750346217216 tf_logging.py:115] Scale of 0 disables regularizer.\n"
     ]
    },
    {
     "name": "stdout",
     "output_type": "stream",
     "text": [
      "INFO:tensorflow:Scale of 0 disables regularizer.\n"
     ]
    },
    {
     "name": "stderr",
     "output_type": "stream",
     "text": [
      "I0110 23:24:32.154410 139750346217216 tf_logging.py:115] Scale of 0 disables regularizer.\n"
     ]
    },
    {
     "name": "stdout",
     "output_type": "stream",
     "text": [
      "INFO:tensorflow:Scale of 0 disables regularizer.\n"
     ]
    },
    {
     "name": "stderr",
     "output_type": "stream",
     "text": [
      "I0110 23:24:34.593900 139750346217216 tf_logging.py:115] Scale of 0 disables regularizer.\n"
     ]
    },
    {
     "name": "stdout",
     "output_type": "stream",
     "text": [
      "INFO:tensorflow:Scale of 0 disables regularizer.\n"
     ]
    },
    {
     "name": "stderr",
     "output_type": "stream",
     "text": [
      "I0110 23:24:37.078765 139750346217216 tf_logging.py:115] Scale of 0 disables regularizer.\n"
     ]
    },
    {
     "name": "stdout",
     "output_type": "stream",
     "text": [
      "INFO:tensorflow:Scale of 0 disables regularizer.\n"
     ]
    },
    {
     "name": "stderr",
     "output_type": "stream",
     "text": [
      "I0110 23:24:39.521929 139750346217216 tf_logging.py:115] Scale of 0 disables regularizer.\n"
     ]
    },
    {
     "name": "stdout",
     "output_type": "stream",
     "text": [
      "INFO:tensorflow:Scale of 0 disables regularizer.\n"
     ]
    },
    {
     "name": "stderr",
     "output_type": "stream",
     "text": [
      "I0110 23:24:41.980104 139750346217216 tf_logging.py:115] Scale of 0 disables regularizer.\n"
     ]
    },
    {
     "name": "stdout",
     "output_type": "stream",
     "text": [
      "INFO:tensorflow:Scale of 0 disables regularizer.\n"
     ]
    },
    {
     "name": "stderr",
     "output_type": "stream",
     "text": [
      "I0110 23:24:44.359399 139750346217216 tf_logging.py:115] Scale of 0 disables regularizer.\n"
     ]
    },
    {
     "name": "stdout",
     "output_type": "stream",
     "text": [
      "INFO:tensorflow:Scale of 0 disables regularizer.\n"
     ]
    },
    {
     "name": "stderr",
     "output_type": "stream",
     "text": [
      "I0110 23:24:46.803533 139750346217216 tf_logging.py:115] Scale of 0 disables regularizer.\n"
     ]
    },
    {
     "name": "stdout",
     "output_type": "stream",
     "text": [
      "INFO:tensorflow:Scale of 0 disables regularizer.\n"
     ]
    },
    {
     "name": "stderr",
     "output_type": "stream",
     "text": [
      "I0110 23:24:49.247502 139750346217216 tf_logging.py:115] Scale of 0 disables regularizer.\n"
     ]
    },
    {
     "name": "stdout",
     "output_type": "stream",
     "text": [
      "INFO:tensorflow:Scale of 0 disables regularizer.\n"
     ]
    },
    {
     "name": "stderr",
     "output_type": "stream",
     "text": [
      "I0110 23:24:51.713945 139750346217216 tf_logging.py:115] Scale of 0 disables regularizer.\n"
     ]
    },
    {
     "name": "stdout",
     "output_type": "stream",
     "text": [
      "INFO:tensorflow:Scale of 0 disables regularizer.\n"
     ]
    },
    {
     "name": "stderr",
     "output_type": "stream",
     "text": [
      "I0110 23:24:54.107778 139750346217216 tf_logging.py:115] Scale of 0 disables regularizer.\n"
     ]
    },
    {
     "name": "stdout",
     "output_type": "stream",
     "text": [
      "INFO:tensorflow:Scale of 0 disables regularizer.\n"
     ]
    },
    {
     "name": "stderr",
     "output_type": "stream",
     "text": [
      "I0110 23:24:56.552094 139750346217216 tf_logging.py:115] Scale of 0 disables regularizer.\n"
     ]
    },
    {
     "name": "stdout",
     "output_type": "stream",
     "text": [
      "INFO:tensorflow:Scale of 0 disables regularizer.\n"
     ]
    },
    {
     "name": "stderr",
     "output_type": "stream",
     "text": [
      "I0110 23:24:58.997632 139750346217216 tf_logging.py:115] Scale of 0 disables regularizer.\n"
     ]
    },
    {
     "name": "stdout",
     "output_type": "stream",
     "text": [
      "INFO:tensorflow:Scale of 0 disables regularizer.\n"
     ]
    },
    {
     "name": "stderr",
     "output_type": "stream",
     "text": [
      "I0110 23:25:01.450445 139750346217216 tf_logging.py:115] Scale of 0 disables regularizer.\n"
     ]
    },
    {
     "name": "stdout",
     "output_type": "stream",
     "text": [
      "INFO:tensorflow:Scale of 0 disables regularizer.\n"
     ]
    },
    {
     "name": "stderr",
     "output_type": "stream",
     "text": [
      "I0110 23:25:03.874157 139750346217216 tf_logging.py:115] Scale of 0 disables regularizer.\n"
     ]
    },
    {
     "name": "stdout",
     "output_type": "stream",
     "text": [
      "INFO:tensorflow:Scale of 0 disables regularizer.\n"
     ]
    },
    {
     "name": "stderr",
     "output_type": "stream",
     "text": [
      "I0110 23:25:06.309904 139750346217216 tf_logging.py:115] Scale of 0 disables regularizer.\n"
     ]
    },
    {
     "name": "stdout",
     "output_type": "stream",
     "text": [
      "INFO:tensorflow:Scale of 0 disables regularizer.\n"
     ]
    },
    {
     "name": "stderr",
     "output_type": "stream",
     "text": [
      "I0110 23:25:08.751012 139750346217216 tf_logging.py:115] Scale of 0 disables regularizer.\n"
     ]
    },
    {
     "name": "stdout",
     "output_type": "stream",
     "text": [
      "INFO:tensorflow:Scale of 0 disables regularizer.\n"
     ]
    },
    {
     "name": "stderr",
     "output_type": "stream",
     "text": [
      "I0110 23:25:11.208835 139750346217216 tf_logging.py:115] Scale of 0 disables regularizer.\n"
     ]
    },
    {
     "name": "stdout",
     "output_type": "stream",
     "text": [
      "INFO:tensorflow:Scale of 0 disables regularizer.\n"
     ]
    },
    {
     "name": "stderr",
     "output_type": "stream",
     "text": [
      "I0110 23:25:13.677838 139750346217216 tf_logging.py:115] Scale of 0 disables regularizer.\n"
     ]
    },
    {
     "name": "stdout",
     "output_type": "stream",
     "text": [
      "INFO:tensorflow:Scale of 0 disables regularizer.\n"
     ]
    },
    {
     "name": "stderr",
     "output_type": "stream",
     "text": [
      "I0110 23:25:16.065084 139750346217216 tf_logging.py:115] Scale of 0 disables regularizer.\n"
     ]
    },
    {
     "name": "stdout",
     "output_type": "stream",
     "text": [
      "INFO:tensorflow:Scale of 0 disables regularizer.\n"
     ]
    },
    {
     "name": "stderr",
     "output_type": "stream",
     "text": [
      "I0110 23:25:18.536786 139750346217216 tf_logging.py:115] Scale of 0 disables regularizer.\n"
     ]
    },
    {
     "name": "stdout",
     "output_type": "stream",
     "text": [
      "INFO:tensorflow:Scale of 0 disables regularizer.\n"
     ]
    },
    {
     "name": "stderr",
     "output_type": "stream",
     "text": [
      "I0110 23:25:21.021152 139750346217216 tf_logging.py:115] Scale of 0 disables regularizer.\n"
     ]
    },
    {
     "name": "stdout",
     "output_type": "stream",
     "text": [
      "INFO:tensorflow:Scale of 0 disables regularizer.\n"
     ]
    },
    {
     "name": "stderr",
     "output_type": "stream",
     "text": [
      "I0110 23:25:23.487145 139750346217216 tf_logging.py:115] Scale of 0 disables regularizer.\n"
     ]
    },
    {
     "name": "stdout",
     "output_type": "stream",
     "text": [
      "INFO:tensorflow:Scale of 0 disables regularizer.\n"
     ]
    },
    {
     "name": "stderr",
     "output_type": "stream",
     "text": [
      "I0110 23:25:25.877028 139750346217216 tf_logging.py:115] Scale of 0 disables regularizer.\n"
     ]
    },
    {
     "name": "stdout",
     "output_type": "stream",
     "text": [
      "INFO:tensorflow:Scale of 0 disables regularizer.\n"
     ]
    },
    {
     "name": "stderr",
     "output_type": "stream",
     "text": [
      "I0110 23:25:28.335134 139750346217216 tf_logging.py:115] Scale of 0 disables regularizer.\n"
     ]
    },
    {
     "name": "stdout",
     "output_type": "stream",
     "text": [
      "INFO:tensorflow:Scale of 0 disables regularizer.\n"
     ]
    },
    {
     "name": "stderr",
     "output_type": "stream",
     "text": [
      "I0110 23:25:30.790372 139750346217216 tf_logging.py:115] Scale of 0 disables regularizer.\n"
     ]
    },
    {
     "name": "stdout",
     "output_type": "stream",
     "text": [
      "INFO:tensorflow:Scale of 0 disables regularizer.\n"
     ]
    },
    {
     "name": "stderr",
     "output_type": "stream",
     "text": [
      "I0110 23:25:33.290589 139750346217216 tf_logging.py:115] Scale of 0 disables regularizer.\n"
     ]
    },
    {
     "name": "stdout",
     "output_type": "stream",
     "text": [
      "INFO:tensorflow:Scale of 0 disables regularizer.\n"
     ]
    },
    {
     "name": "stderr",
     "output_type": "stream",
     "text": [
      "I0110 23:25:35.757765 139750346217216 tf_logging.py:115] Scale of 0 disables regularizer.\n"
     ]
    },
    {
     "name": "stdout",
     "output_type": "stream",
     "text": [
      "INFO:tensorflow:Scale of 0 disables regularizer.\n"
     ]
    },
    {
     "name": "stderr",
     "output_type": "stream",
     "text": [
      "I0110 23:25:38.152817 139750346217216 tf_logging.py:115] Scale of 0 disables regularizer.\n"
     ]
    },
    {
     "name": "stdout",
     "output_type": "stream",
     "text": [
      "INFO:tensorflow:Scale of 0 disables regularizer.\n"
     ]
    },
    {
     "name": "stderr",
     "output_type": "stream",
     "text": [
      "I0110 23:25:40.605348 139750346217216 tf_logging.py:115] Scale of 0 disables regularizer.\n"
     ]
    },
    {
     "name": "stdout",
     "output_type": "stream",
     "text": [
      "INFO:tensorflow:Scale of 0 disables regularizer.\n"
     ]
    },
    {
     "name": "stderr",
     "output_type": "stream",
     "text": [
      "I0110 23:25:43.085634 139750346217216 tf_logging.py:115] Scale of 0 disables regularizer.\n"
     ]
    },
    {
     "name": "stdout",
     "output_type": "stream",
     "text": [
      "INFO:tensorflow:Scale of 0 disables regularizer.\n"
     ]
    },
    {
     "name": "stderr",
     "output_type": "stream",
     "text": [
      "I0110 23:25:45.593106 139750346217216 tf_logging.py:115] Scale of 0 disables regularizer.\n"
     ]
    },
    {
     "name": "stdout",
     "output_type": "stream",
     "text": [
      "INFO:tensorflow:Scale of 0 disables regularizer.\n"
     ]
    },
    {
     "name": "stderr",
     "output_type": "stream",
     "text": [
      "I0110 23:25:47.999721 139750346217216 tf_logging.py:115] Scale of 0 disables regularizer.\n"
     ]
    },
    {
     "name": "stdout",
     "output_type": "stream",
     "text": [
      "INFO:tensorflow:Scale of 0 disables regularizer.\n"
     ]
    },
    {
     "name": "stderr",
     "output_type": "stream",
     "text": [
      "I0110 23:25:50.439266 139750346217216 tf_logging.py:115] Scale of 0 disables regularizer.\n"
     ]
    },
    {
     "name": "stdout",
     "output_type": "stream",
     "text": [
      "INFO:tensorflow:Scale of 0 disables regularizer.\n"
     ]
    },
    {
     "name": "stderr",
     "output_type": "stream",
     "text": [
      "I0110 23:25:52.892297 139750346217216 tf_logging.py:115] Scale of 0 disables regularizer.\n"
     ]
    },
    {
     "name": "stdout",
     "output_type": "stream",
     "text": [
      "INFO:tensorflow:Scale of 0 disables regularizer.\n"
     ]
    },
    {
     "name": "stderr",
     "output_type": "stream",
     "text": [
      "I0110 23:25:55.401490 139750346217216 tf_logging.py:115] Scale of 0 disables regularizer.\n"
     ]
    },
    {
     "name": "stdout",
     "output_type": "stream",
     "text": [
      "INFO:tensorflow:Scale of 0 disables regularizer.\n"
     ]
    },
    {
     "name": "stderr",
     "output_type": "stream",
     "text": [
      "I0110 23:25:57.803895 139750346217216 tf_logging.py:115] Scale of 0 disables regularizer.\n"
     ]
    },
    {
     "name": "stdout",
     "output_type": "stream",
     "text": [
      "INFO:tensorflow:Scale of 0 disables regularizer.\n"
     ]
    },
    {
     "name": "stderr",
     "output_type": "stream",
     "text": [
      "I0110 23:26:00.255748 139750346217216 tf_logging.py:115] Scale of 0 disables regularizer.\n"
     ]
    },
    {
     "name": "stdout",
     "output_type": "stream",
     "text": [
      "INFO:tensorflow:Scale of 0 disables regularizer.\n"
     ]
    },
    {
     "name": "stderr",
     "output_type": "stream",
     "text": [
      "I0110 23:26:02.722537 139750346217216 tf_logging.py:115] Scale of 0 disables regularizer.\n"
     ]
    },
    {
     "name": "stdout",
     "output_type": "stream",
     "text": [
      "INFO:tensorflow:Scale of 0 disables regularizer.\n"
     ]
    },
    {
     "name": "stderr",
     "output_type": "stream",
     "text": [
      "I0110 23:26:05.169581 139750346217216 tf_logging.py:115] Scale of 0 disables regularizer.\n"
     ]
    },
    {
     "name": "stdout",
     "output_type": "stream",
     "text": [
      "INFO:tensorflow:Scale of 0 disables regularizer.\n"
     ]
    },
    {
     "name": "stderr",
     "output_type": "stream",
     "text": [
      "I0110 23:26:07.621590 139750346217216 tf_logging.py:115] Scale of 0 disables regularizer.\n"
     ]
    },
    {
     "name": "stdout",
     "output_type": "stream",
     "text": [
      "INFO:tensorflow:Scale of 0 disables regularizer.\n"
     ]
    },
    {
     "name": "stderr",
     "output_type": "stream",
     "text": [
      "I0110 23:26:10.004066 139750346217216 tf_logging.py:115] Scale of 0 disables regularizer.\n"
     ]
    },
    {
     "name": "stdout",
     "output_type": "stream",
     "text": [
      "INFO:tensorflow:Scale of 0 disables regularizer.\n"
     ]
    },
    {
     "name": "stderr",
     "output_type": "stream",
     "text": [
      "I0110 23:26:12.459690 139750346217216 tf_logging.py:115] Scale of 0 disables regularizer.\n"
     ]
    },
    {
     "name": "stdout",
     "output_type": "stream",
     "text": [
      "INFO:tensorflow:Scale of 0 disables regularizer.\n"
     ]
    },
    {
     "name": "stderr",
     "output_type": "stream",
     "text": [
      "I0110 23:26:14.918577 139750346217216 tf_logging.py:115] Scale of 0 disables regularizer.\n"
     ]
    },
    {
     "name": "stdout",
     "output_type": "stream",
     "text": [
      "INFO:tensorflow:Scale of 0 disables regularizer.\n"
     ]
    },
    {
     "name": "stderr",
     "output_type": "stream",
     "text": [
      "I0110 23:26:17.369719 139750346217216 tf_logging.py:115] Scale of 0 disables regularizer.\n"
     ]
    },
    {
     "name": "stdout",
     "output_type": "stream",
     "text": [
      "INFO:tensorflow:Scale of 0 disables regularizer.\n"
     ]
    },
    {
     "name": "stderr",
     "output_type": "stream",
     "text": [
      "I0110 23:26:19.790942 139750346217216 tf_logging.py:115] Scale of 0 disables regularizer.\n"
     ]
    },
    {
     "name": "stdout",
     "output_type": "stream",
     "text": [
      "INFO:tensorflow:Scale of 0 disables regularizer.\n"
     ]
    },
    {
     "name": "stderr",
     "output_type": "stream",
     "text": [
      "I0110 23:26:22.231633 139750346217216 tf_logging.py:115] Scale of 0 disables regularizer.\n"
     ]
    },
    {
     "name": "stdout",
     "output_type": "stream",
     "text": [
      "INFO:tensorflow:Scale of 0 disables regularizer.\n"
     ]
    },
    {
     "name": "stderr",
     "output_type": "stream",
     "text": [
      "I0110 23:26:24.685164 139750346217216 tf_logging.py:115] Scale of 0 disables regularizer.\n"
     ]
    },
    {
     "name": "stdout",
     "output_type": "stream",
     "text": [
      "INFO:tensorflow:Scale of 0 disables regularizer.\n"
     ]
    },
    {
     "name": "stderr",
     "output_type": "stream",
     "text": [
      "I0110 23:26:27.127918 139750346217216 tf_logging.py:115] Scale of 0 disables regularizer.\n"
     ]
    },
    {
     "name": "stdout",
     "output_type": "stream",
     "text": [
      "INFO:tensorflow:Scale of 0 disables regularizer.\n"
     ]
    },
    {
     "name": "stderr",
     "output_type": "stream",
     "text": [
      "I0110 23:26:29.578883 139750346217216 tf_logging.py:115] Scale of 0 disables regularizer.\n"
     ]
    },
    {
     "name": "stdout",
     "output_type": "stream",
     "text": [
      "INFO:tensorflow:Scale of 0 disables regularizer.\n"
     ]
    },
    {
     "name": "stderr",
     "output_type": "stream",
     "text": [
      "I0110 23:26:31.962846 139750346217216 tf_logging.py:115] Scale of 0 disables regularizer.\n"
     ]
    },
    {
     "name": "stdout",
     "output_type": "stream",
     "text": [
      "INFO:tensorflow:Scale of 0 disables regularizer.\n"
     ]
    },
    {
     "name": "stderr",
     "output_type": "stream",
     "text": [
      "I0110 23:26:34.408343 139750346217216 tf_logging.py:115] Scale of 0 disables regularizer.\n"
     ]
    },
    {
     "name": "stdout",
     "output_type": "stream",
     "text": [
      "INFO:tensorflow:Scale of 0 disables regularizer.\n"
     ]
    },
    {
     "name": "stderr",
     "output_type": "stream",
     "text": [
      "I0110 23:26:36.851289 139750346217216 tf_logging.py:115] Scale of 0 disables regularizer.\n"
     ]
    },
    {
     "name": "stdout",
     "output_type": "stream",
     "text": [
      "INFO:tensorflow:Scale of 0 disables regularizer.\n"
     ]
    },
    {
     "name": "stderr",
     "output_type": "stream",
     "text": [
      "I0110 23:26:39.308492 139750346217216 tf_logging.py:115] Scale of 0 disables regularizer.\n"
     ]
    },
    {
     "name": "stdout",
     "output_type": "stream",
     "text": [
      "INFO:tensorflow:Scale of 0 disables regularizer.\n"
     ]
    },
    {
     "name": "stderr",
     "output_type": "stream",
     "text": [
      "I0110 23:26:41.692073 139750346217216 tf_logging.py:115] Scale of 0 disables regularizer.\n"
     ]
    },
    {
     "name": "stdout",
     "output_type": "stream",
     "text": [
      "INFO:tensorflow:Scale of 0 disables regularizer.\n"
     ]
    },
    {
     "name": "stderr",
     "output_type": "stream",
     "text": [
      "I0110 23:26:44.129469 139750346217216 tf_logging.py:115] Scale of 0 disables regularizer.\n"
     ]
    },
    {
     "name": "stdout",
     "output_type": "stream",
     "text": [
      "INFO:tensorflow:Scale of 0 disables regularizer.\n"
     ]
    },
    {
     "name": "stderr",
     "output_type": "stream",
     "text": [
      "I0110 23:26:46.574398 139750346217216 tf_logging.py:115] Scale of 0 disables regularizer.\n"
     ]
    },
    {
     "name": "stdout",
     "output_type": "stream",
     "text": [
      "INFO:tensorflow:Scale of 0 disables regularizer.\n"
     ]
    },
    {
     "name": "stderr",
     "output_type": "stream",
     "text": [
      "I0110 23:26:49.025326 139750346217216 tf_logging.py:115] Scale of 0 disables regularizer.\n"
     ]
    },
    {
     "name": "stdout",
     "output_type": "stream",
     "text": [
      "INFO:tensorflow:Scale of 0 disables regularizer.\n"
     ]
    },
    {
     "name": "stderr",
     "output_type": "stream",
     "text": [
      "I0110 23:26:51.412523 139750346217216 tf_logging.py:115] Scale of 0 disables regularizer.\n"
     ]
    },
    {
     "name": "stdout",
     "output_type": "stream",
     "text": [
      "INFO:tensorflow:Scale of 0 disables regularizer.\n"
     ]
    },
    {
     "name": "stderr",
     "output_type": "stream",
     "text": [
      "I0110 23:26:53.854471 139750346217216 tf_logging.py:115] Scale of 0 disables regularizer.\n"
     ]
    },
    {
     "name": "stdout",
     "output_type": "stream",
     "text": [
      "INFO:tensorflow:Scale of 0 disables regularizer.\n"
     ]
    },
    {
     "name": "stderr",
     "output_type": "stream",
     "text": [
      "I0110 23:26:56.294882 139750346217216 tf_logging.py:115] Scale of 0 disables regularizer.\n"
     ]
    },
    {
     "name": "stdout",
     "output_type": "stream",
     "text": [
      "INFO:tensorflow:Scale of 0 disables regularizer.\n"
     ]
    },
    {
     "name": "stderr",
     "output_type": "stream",
     "text": [
      "I0110 23:26:58.743568 139750346217216 tf_logging.py:115] Scale of 0 disables regularizer.\n"
     ]
    },
    {
     "name": "stdout",
     "output_type": "stream",
     "text": [
      "INFO:tensorflow:Scale of 0 disables regularizer.\n"
     ]
    },
    {
     "name": "stderr",
     "output_type": "stream",
     "text": [
      "I0110 23:27:01.199788 139750346217216 tf_logging.py:115] Scale of 0 disables regularizer.\n"
     ]
    },
    {
     "name": "stdout",
     "output_type": "stream",
     "text": [
      "INFO:tensorflow:Scale of 0 disables regularizer.\n"
     ]
    },
    {
     "name": "stderr",
     "output_type": "stream",
     "text": [
      "I0110 23:27:03.587151 139750346217216 tf_logging.py:115] Scale of 0 disables regularizer.\n"
     ]
    },
    {
     "name": "stdout",
     "output_type": "stream",
     "text": [
      "INFO:tensorflow:Scale of 0 disables regularizer.\n"
     ]
    },
    {
     "name": "stderr",
     "output_type": "stream",
     "text": [
      "I0110 23:27:06.026376 139750346217216 tf_logging.py:115] Scale of 0 disables regularizer.\n"
     ]
    },
    {
     "name": "stdout",
     "output_type": "stream",
     "text": [
      "INFO:tensorflow:Scale of 0 disables regularizer.\n"
     ]
    },
    {
     "name": "stderr",
     "output_type": "stream",
     "text": [
      "I0110 23:27:08.470747 139750346217216 tf_logging.py:115] Scale of 0 disables regularizer.\n"
     ]
    },
    {
     "name": "stdout",
     "output_type": "stream",
     "text": [
      "INFO:tensorflow:Scale of 0 disables regularizer.\n"
     ]
    },
    {
     "name": "stderr",
     "output_type": "stream",
     "text": [
      "I0110 23:27:10.920219 139750346217216 tf_logging.py:115] Scale of 0 disables regularizer.\n"
     ]
    },
    {
     "name": "stdout",
     "output_type": "stream",
     "text": [
      "INFO:tensorflow:Scale of 0 disables regularizer.\n"
     ]
    },
    {
     "name": "stderr",
     "output_type": "stream",
     "text": [
      "I0110 23:27:13.310189 139750346217216 tf_logging.py:115] Scale of 0 disables regularizer.\n"
     ]
    },
    {
     "name": "stdout",
     "output_type": "stream",
     "text": [
      "INFO:tensorflow:Scale of 0 disables regularizer.\n"
     ]
    },
    {
     "name": "stderr",
     "output_type": "stream",
     "text": [
      "I0110 23:27:15.768566 139750346217216 tf_logging.py:115] Scale of 0 disables regularizer.\n"
     ]
    },
    {
     "name": "stdout",
     "output_type": "stream",
     "text": [
      "INFO:tensorflow:Scale of 0 disables regularizer.\n"
     ]
    },
    {
     "name": "stderr",
     "output_type": "stream",
     "text": [
      "I0110 23:27:18.215786 139750346217216 tf_logging.py:115] Scale of 0 disables regularizer.\n"
     ]
    },
    {
     "name": "stdout",
     "output_type": "stream",
     "text": [
      "INFO:tensorflow:Scale of 0 disables regularizer.\n"
     ]
    },
    {
     "name": "stderr",
     "output_type": "stream",
     "text": [
      "I0110 23:27:20.701313 139750346217216 tf_logging.py:115] Scale of 0 disables regularizer.\n"
     ]
    },
    {
     "name": "stdout",
     "output_type": "stream",
     "text": [
      "INFO:tensorflow:Scale of 0 disables regularizer.\n"
     ]
    },
    {
     "name": "stderr",
     "output_type": "stream",
     "text": [
      "I0110 23:27:23.143622 139750346217216 tf_logging.py:115] Scale of 0 disables regularizer.\n"
     ]
    },
    {
     "name": "stdout",
     "output_type": "stream",
     "text": [
      "INFO:tensorflow:Scale of 0 disables regularizer.\n"
     ]
    },
    {
     "name": "stderr",
     "output_type": "stream",
     "text": [
      "I0110 23:27:25.529095 139750346217216 tf_logging.py:115] Scale of 0 disables regularizer.\n"
     ]
    },
    {
     "name": "stdout",
     "output_type": "stream",
     "text": [
      "INFO:tensorflow:Scale of 0 disables regularizer.\n"
     ]
    },
    {
     "name": "stderr",
     "output_type": "stream",
     "text": [
      "I0110 23:27:27.972432 139750346217216 tf_logging.py:115] Scale of 0 disables regularizer.\n"
     ]
    },
    {
     "name": "stdout",
     "output_type": "stream",
     "text": [
      "INFO:tensorflow:Scale of 0 disables regularizer.\n"
     ]
    },
    {
     "name": "stderr",
     "output_type": "stream",
     "text": [
      "I0110 23:27:30.439771 139750346217216 tf_logging.py:115] Scale of 0 disables regularizer.\n"
     ]
    },
    {
     "name": "stdout",
     "output_type": "stream",
     "text": [
      "INFO:tensorflow:Scale of 0 disables regularizer.\n"
     ]
    },
    {
     "name": "stderr",
     "output_type": "stream",
     "text": [
      "I0110 23:27:32.885118 139750346217216 tf_logging.py:115] Scale of 0 disables regularizer.\n"
     ]
    },
    {
     "name": "stdout",
     "output_type": "stream",
     "text": [
      "INFO:tensorflow:Scale of 0 disables regularizer.\n"
     ]
    },
    {
     "name": "stderr",
     "output_type": "stream",
     "text": [
      "I0110 23:27:35.284489 139750346217216 tf_logging.py:115] Scale of 0 disables regularizer.\n"
     ]
    },
    {
     "name": "stdout",
     "output_type": "stream",
     "text": [
      "INFO:tensorflow:Scale of 0 disables regularizer.\n"
     ]
    },
    {
     "name": "stderr",
     "output_type": "stream",
     "text": [
      "I0110 23:27:37.718759 139750346217216 tf_logging.py:115] Scale of 0 disables regularizer.\n"
     ]
    },
    {
     "name": "stdout",
     "output_type": "stream",
     "text": [
      "INFO:tensorflow:Scale of 0 disables regularizer.\n"
     ]
    },
    {
     "name": "stderr",
     "output_type": "stream",
     "text": [
      "I0110 23:27:40.165479 139750346217216 tf_logging.py:115] Scale of 0 disables regularizer.\n"
     ]
    },
    {
     "name": "stdout",
     "output_type": "stream",
     "text": [
      "INFO:tensorflow:Scale of 0 disables regularizer.\n"
     ]
    },
    {
     "name": "stderr",
     "output_type": "stream",
     "text": [
      "I0110 23:27:42.626487 139750346217216 tf_logging.py:115] Scale of 0 disables regularizer.\n"
     ]
    },
    {
     "name": "stdout",
     "output_type": "stream",
     "text": [
      "INFO:tensorflow:Scale of 0 disables regularizer.\n"
     ]
    },
    {
     "name": "stderr",
     "output_type": "stream",
     "text": [
      "I0110 23:27:45.019596 139750346217216 tf_logging.py:115] Scale of 0 disables regularizer.\n"
     ]
    },
    {
     "name": "stdout",
     "output_type": "stream",
     "text": [
      "INFO:tensorflow:Scale of 0 disables regularizer.\n"
     ]
    },
    {
     "name": "stderr",
     "output_type": "stream",
     "text": [
      "I0110 23:27:47.464260 139750346217216 tf_logging.py:115] Scale of 0 disables regularizer.\n"
     ]
    },
    {
     "name": "stdout",
     "output_type": "stream",
     "text": [
      "INFO:tensorflow:Scale of 0 disables regularizer.\n"
     ]
    },
    {
     "name": "stderr",
     "output_type": "stream",
     "text": [
      "I0110 23:27:49.919658 139750346217216 tf_logging.py:115] Scale of 0 disables regularizer.\n"
     ]
    },
    {
     "name": "stdout",
     "output_type": "stream",
     "text": [
      "INFO:tensorflow:Scale of 0 disables regularizer.\n"
     ]
    },
    {
     "name": "stderr",
     "output_type": "stream",
     "text": [
      "I0110 23:27:52.363434 139750346217216 tf_logging.py:115] Scale of 0 disables regularizer.\n"
     ]
    },
    {
     "name": "stdout",
     "output_type": "stream",
     "text": [
      "INFO:tensorflow:Scale of 0 disables regularizer.\n"
     ]
    },
    {
     "name": "stderr",
     "output_type": "stream",
     "text": [
      "I0110 23:27:54.836442 139750346217216 tf_logging.py:115] Scale of 0 disables regularizer.\n"
     ]
    },
    {
     "name": "stdout",
     "output_type": "stream",
     "text": [
      "INFO:tensorflow:Scale of 0 disables regularizer.\n"
     ]
    },
    {
     "name": "stderr",
     "output_type": "stream",
     "text": [
      "I0110 23:27:57.208261 139750346217216 tf_logging.py:115] Scale of 0 disables regularizer.\n"
     ]
    },
    {
     "name": "stdout",
     "output_type": "stream",
     "text": [
      "INFO:tensorflow:Scale of 0 disables regularizer.\n"
     ]
    },
    {
     "name": "stderr",
     "output_type": "stream",
     "text": [
      "I0110 23:27:59.658316 139750346217216 tf_logging.py:115] Scale of 0 disables regularizer.\n"
     ]
    },
    {
     "name": "stdout",
     "output_type": "stream",
     "text": [
      "INFO:tensorflow:Scale of 0 disables regularizer.\n"
     ]
    },
    {
     "name": "stderr",
     "output_type": "stream",
     "text": [
      "I0110 23:28:02.126970 139750346217216 tf_logging.py:115] Scale of 0 disables regularizer.\n"
     ]
    },
    {
     "name": "stdout",
     "output_type": "stream",
     "text": [
      "INFO:tensorflow:Scale of 0 disables regularizer.\n"
     ]
    },
    {
     "name": "stderr",
     "output_type": "stream",
     "text": [
      "I0110 23:28:04.569975 139750346217216 tf_logging.py:115] Scale of 0 disables regularizer.\n"
     ]
    },
    {
     "name": "stdout",
     "output_type": "stream",
     "text": [
      "INFO:tensorflow:Scale of 0 disables regularizer.\n"
     ]
    },
    {
     "name": "stderr",
     "output_type": "stream",
     "text": [
      "I0110 23:28:06.983384 139750346217216 tf_logging.py:115] Scale of 0 disables regularizer.\n"
     ]
    },
    {
     "name": "stdout",
     "output_type": "stream",
     "text": [
      "INFO:tensorflow:Scale of 0 disables regularizer.\n"
     ]
    },
    {
     "name": "stderr",
     "output_type": "stream",
     "text": [
      "I0110 23:28:09.474825 139750346217216 tf_logging.py:115] Scale of 0 disables regularizer.\n"
     ]
    },
    {
     "name": "stdout",
     "output_type": "stream",
     "text": [
      "INFO:tensorflow:Scale of 0 disables regularizer.\n"
     ]
    },
    {
     "name": "stderr",
     "output_type": "stream",
     "text": [
      "I0110 23:28:11.959635 139750346217216 tf_logging.py:115] Scale of 0 disables regularizer.\n"
     ]
    },
    {
     "name": "stdout",
     "output_type": "stream",
     "text": [
      "INFO:tensorflow:Scale of 0 disables regularizer.\n"
     ]
    },
    {
     "name": "stderr",
     "output_type": "stream",
     "text": [
      "I0110 23:28:14.403635 139750346217216 tf_logging.py:115] Scale of 0 disables regularizer.\n"
     ]
    },
    {
     "name": "stdout",
     "output_type": "stream",
     "text": [
      "INFO:tensorflow:Scale of 0 disables regularizer.\n"
     ]
    },
    {
     "name": "stderr",
     "output_type": "stream",
     "text": [
      "I0110 23:28:16.883666 139750346217216 tf_logging.py:115] Scale of 0 disables regularizer.\n"
     ]
    },
    {
     "name": "stdout",
     "output_type": "stream",
     "text": [
      "INFO:tensorflow:Scale of 0 disables regularizer.\n"
     ]
    },
    {
     "name": "stderr",
     "output_type": "stream",
     "text": [
      "I0110 23:28:19.302523 139750346217216 tf_logging.py:115] Scale of 0 disables regularizer.\n"
     ]
    },
    {
     "name": "stdout",
     "output_type": "stream",
     "text": [
      "INFO:tensorflow:Scale of 0 disables regularizer.\n"
     ]
    },
    {
     "name": "stderr",
     "output_type": "stream",
     "text": [
      "I0110 23:28:21.750298 139750346217216 tf_logging.py:115] Scale of 0 disables regularizer.\n"
     ]
    },
    {
     "name": "stdout",
     "output_type": "stream",
     "text": [
      "INFO:tensorflow:Scale of 0 disables regularizer.\n"
     ]
    },
    {
     "name": "stderr",
     "output_type": "stream",
     "text": [
      "I0110 23:28:24.184679 139750346217216 tf_logging.py:115] Scale of 0 disables regularizer.\n"
     ]
    },
    {
     "name": "stdout",
     "output_type": "stream",
     "text": [
      "INFO:tensorflow:Scale of 0 disables regularizer.\n"
     ]
    },
    {
     "name": "stderr",
     "output_type": "stream",
     "text": [
      "I0110 23:28:26.627218 139750346217216 tf_logging.py:115] Scale of 0 disables regularizer.\n"
     ]
    },
    {
     "name": "stdout",
     "output_type": "stream",
     "text": [
      "INFO:tensorflow:Scale of 0 disables regularizer.\n"
     ]
    },
    {
     "name": "stderr",
     "output_type": "stream",
     "text": [
      "I0110 23:28:29.005085 139750346217216 tf_logging.py:115] Scale of 0 disables regularizer.\n"
     ]
    },
    {
     "name": "stdout",
     "output_type": "stream",
     "text": [
      "INFO:tensorflow:Scale of 0 disables regularizer.\n"
     ]
    },
    {
     "name": "stderr",
     "output_type": "stream",
     "text": [
      "I0110 23:28:31.445206 139750346217216 tf_logging.py:115] Scale of 0 disables regularizer.\n"
     ]
    },
    {
     "name": "stdout",
     "output_type": "stream",
     "text": [
      "INFO:tensorflow:Scale of 0 disables regularizer.\n"
     ]
    },
    {
     "name": "stderr",
     "output_type": "stream",
     "text": [
      "I0110 23:28:33.885719 139750346217216 tf_logging.py:115] Scale of 0 disables regularizer.\n"
     ]
    },
    {
     "name": "stdout",
     "output_type": "stream",
     "text": [
      "INFO:tensorflow:Scale of 0 disables regularizer.\n"
     ]
    },
    {
     "name": "stderr",
     "output_type": "stream",
     "text": [
      "I0110 23:28:36.346746 139750346217216 tf_logging.py:115] Scale of 0 disables regularizer.\n"
     ]
    },
    {
     "name": "stdout",
     "output_type": "stream",
     "text": [
      "INFO:tensorflow:Scale of 0 disables regularizer.\n"
     ]
    },
    {
     "name": "stderr",
     "output_type": "stream",
     "text": [
      "I0110 23:28:38.717448 139750346217216 tf_logging.py:115] Scale of 0 disables regularizer.\n"
     ]
    },
    {
     "name": "stdout",
     "output_type": "stream",
     "text": [
      "INFO:tensorflow:Scale of 0 disables regularizer.\n"
     ]
    },
    {
     "name": "stderr",
     "output_type": "stream",
     "text": [
      "I0110 23:28:41.149587 139750346217216 tf_logging.py:115] Scale of 0 disables regularizer.\n"
     ]
    },
    {
     "name": "stdout",
     "output_type": "stream",
     "text": [
      "INFO:tensorflow:Scale of 0 disables regularizer.\n"
     ]
    },
    {
     "name": "stderr",
     "output_type": "stream",
     "text": [
      "I0110 23:28:43.600985 139750346217216 tf_logging.py:115] Scale of 0 disables regularizer.\n"
     ]
    },
    {
     "name": "stdout",
     "output_type": "stream",
     "text": [
      "INFO:tensorflow:Scale of 0 disables regularizer.\n"
     ]
    },
    {
     "name": "stderr",
     "output_type": "stream",
     "text": [
      "I0110 23:28:46.043579 139750346217216 tf_logging.py:115] Scale of 0 disables regularizer.\n"
     ]
    },
    {
     "name": "stdout",
     "output_type": "stream",
     "text": [
      "INFO:tensorflow:Scale of 0 disables regularizer.\n"
     ]
    },
    {
     "name": "stderr",
     "output_type": "stream",
     "text": [
      "I0110 23:28:48.493397 139750346217216 tf_logging.py:115] Scale of 0 disables regularizer.\n"
     ]
    },
    {
     "name": "stdout",
     "output_type": "stream",
     "text": [
      "INFO:tensorflow:Scale of 0 disables regularizer.\n"
     ]
    },
    {
     "name": "stderr",
     "output_type": "stream",
     "text": [
      "I0110 23:28:50.872531 139750346217216 tf_logging.py:115] Scale of 0 disables regularizer.\n"
     ]
    },
    {
     "name": "stdout",
     "output_type": "stream",
     "text": [
      "INFO:tensorflow:Scale of 0 disables regularizer.\n"
     ]
    },
    {
     "name": "stderr",
     "output_type": "stream",
     "text": [
      "I0110 23:28:53.321020 139750346217216 tf_logging.py:115] Scale of 0 disables regularizer.\n"
     ]
    },
    {
     "name": "stdout",
     "output_type": "stream",
     "text": [
      "INFO:tensorflow:Scale of 0 disables regularizer.\n"
     ]
    },
    {
     "name": "stderr",
     "output_type": "stream",
     "text": [
      "I0110 23:28:55.789636 139750346217216 tf_logging.py:115] Scale of 0 disables regularizer.\n"
     ]
    },
    {
     "name": "stdout",
     "output_type": "stream",
     "text": [
      "INFO:tensorflow:Scale of 0 disables regularizer.\n"
     ]
    },
    {
     "name": "stderr",
     "output_type": "stream",
     "text": [
      "I0110 23:28:58.241453 139750346217216 tf_logging.py:115] Scale of 0 disables regularizer.\n"
     ]
    },
    {
     "name": "stdout",
     "output_type": "stream",
     "text": [
      "INFO:tensorflow:Scale of 0 disables regularizer.\n"
     ]
    },
    {
     "name": "stderr",
     "output_type": "stream",
     "text": [
      "I0110 23:29:00.626297 139750346217216 tf_logging.py:115] Scale of 0 disables regularizer.\n"
     ]
    },
    {
     "name": "stdout",
     "output_type": "stream",
     "text": [
      "INFO:tensorflow:Scale of 0 disables regularizer.\n"
     ]
    },
    {
     "name": "stderr",
     "output_type": "stream",
     "text": [
      "I0110 23:29:03.059899 139750346217216 tf_logging.py:115] Scale of 0 disables regularizer.\n"
     ]
    }
   ],
   "source": [
    "features = None\n",
    "for session in sorted(os.listdir(SESSIONS_PATH), reverse=True):\n",
    "    try:\n",
    "        a = int(session)\n",
    "    except:\n",
    "        print (session)\n",
    "        continue\n",
    "    \n",
    "    session_path = os.path.join(SESSIONS_PATH, session)\n",
    "    for image_fname in sorted(os.listdir(session_path)):\n",
    "        features_path = os.path.join(session_path, \"features\")\n",
    "        if not os.path.exists(os.path.join(features_path, image_fname+\".feature.coco\")):\n",
    "            image_path = os.path.join(session_path, image_fname)\n",
    "            if not image_path.endswith(\".jpg\"):\n",
    "                continue\n",
    "\n",
    "            image = Image.open(image_path)\n",
    "            # the array based representation of the image will be used later in order to prepare the\n",
    "            # result image with boxes and labels on it.\n",
    "            image_np = load_image_into_numpy_array(image)\n",
    "            # Expand dimensions since the model expects images to have shape: [1, None, None, 3]\n",
    "            image_np_expanded = np.expand_dims(image_np, axis=0)\n",
    "            # Actual detection.\n",
    "\n",
    "            features = extract_region_proposal_features(image_np, detection_model)\n",
    "\n",
    "            features_path = os.path.join(session_path, \"features\")\n",
    "            if not os.path.exists(features_path):\n",
    "                os.makedirs(features_path)\n",
    "\n",
    "            with open(os.path.join(features_path, image_fname+\".feature.coco\"), \"wb\") as f:\n",
    "                np.save(f, features)\n",
    "        else:\n",
    "            print(\"skipped\", os.path.join(features_path, image_fname+\".feature.coco\"))\n",
    "\n",
    "#         slc = features[0][:,:,500]\n",
    "#         slc *= 255.0/slc.max()  \n",
    "\n",
    "#         img = Image.fromarray(slc)\n",
    "#         img = img.convert('RGB')\n",
    "\n",
    "#         plt.figure(figsize=IMAGE_SIZE)\n",
    "#         plt.imshow(image)\n",
    "\n",
    "#         plt.figure(figsize=IMAGE_SIZE)\n",
    "#         plt.imshow(img)\n",
    "\n",
    "#         plt.figure(figsize=IMAGE_SIZE)\n",
    "#         plt.imshow(image_np)\n",
    "    "
   ]
  },
  {
   "cell_type": "code",
   "execution_count": null,
   "metadata": {},
   "outputs": [],
   "source": [
    "def one_detection_features(features, xmin, ymin, xmax, ymax):\n",
    "    final_feature = np.zeros(1024)\n",
    "    xmin = xmin*features.shape[1]\n",
    "    ymin = xmin*features.shape[0]\n",
    "    xmax = xmin*features.shape[1]\n",
    "    ymax = xmin*features.shape[0]\n",
    "    for i in range(1024):\n",
    "        final_feature[i] = np.max(features[0][ymin:ymax,xmin:xmax,i])\n",
    "    \n",
    "    return final_feature"
   ]
  },
  {
   "cell_type": "code",
   "execution_count": 14,
   "metadata": {},
   "outputs": [
    {
     "data": {
      "text/plain": [
       "(38, 50, 1024)"
      ]
     },
     "execution_count": 14,
     "metadata": {},
     "output_type": "execute_result"
    }
   ],
   "source": [
    "features[0].shape"
   ]
  },
  {
   "cell_type": "code",
   "execution_count": 15,
   "metadata": {},
   "outputs": [],
   "source": [
    "slc = features[0][:10,:,500]"
   ]
  },
  {
   "cell_type": "code",
   "execution_count": 16,
   "metadata": {},
   "outputs": [],
   "source": [
    "final_feature = np.zeros(1024)"
   ]
  },
  {
   "cell_type": "code",
   "execution_count": 17,
   "metadata": {},
   "outputs": [],
   "source": [
    "for i in range(1024):\n",
    "    final_feature[i] = np.max(features[0][:,:,i])"
   ]
  },
  {
   "cell_type": "code",
   "execution_count": null,
   "metadata": {},
   "outputs": [],
   "source": [
    "final_feature"
   ]
  },
  {
   "cell_type": "code",
   "execution_count": null,
   "metadata": {},
   "outputs": [],
   "source": [
    "max(final_feature)"
   ]
  },
  {
   "cell_type": "code",
   "execution_count": null,
   "metadata": {},
   "outputs": [],
   "source": []
  }
 ],
 "metadata": {
  "colab": {
   "default_view": {},
   "name": "object_detection_tutorial.ipynb?workspaceId=ronnyvotel:python_inference::citc",
   "provenance": [],
   "version": "0.3.2",
   "views": {}
  },
  "kernelspec": {
   "display_name": "Python 3",
   "language": "python",
   "name": "python3"
  },
  "language_info": {
   "codemirror_mode": {
    "name": "ipython",
    "version": 3
   },
   "file_extension": ".py",
   "mimetype": "text/x-python",
   "name": "python",
   "nbconvert_exporter": "python",
   "pygments_lexer": "ipython3",
   "version": "3.6.0"
  }
 },
 "nbformat": 4,
 "nbformat_minor": 1
}
