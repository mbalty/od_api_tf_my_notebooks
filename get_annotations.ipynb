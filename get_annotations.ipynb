{
 "cells": [
  {
   "cell_type": "markdown",
   "metadata": {
    "colab_type": "text",
    "id": "V8-yl-s-WKMG"
   },
   "source": [
    "# Object Detection Demo\n",
    "Welcome to the object detection inference walkthrough!  This notebook will walk you step by step through the process of using a pre-trained model to detect objects in an image. Make sure to follow the [installation instructions](https://github.com/tensorflow/models/blob/master/research/object_detection/g3doc/installation.md) before you start."
   ]
  },
  {
   "cell_type": "markdown",
   "metadata": {
    "colab_type": "text",
    "id": "kFSqkTCdWKMI"
   },
   "source": [
    "# Imports"
   ]
  },
  {
   "cell_type": "code",
   "execution_count": 1,
   "metadata": {
    "colab": {
     "autoexec": {
      "startup": false,
      "wait_interval": 0
     }
    },
    "colab_type": "code",
    "collapsed": true,
    "id": "hV4P5gyTWKMI"
   },
   "outputs": [
    {
     "name": "stderr",
     "output_type": "stream",
     "text": [
      "/home/wc-gpu/MasterThesis/models/research/object_detection/utils/visualization_utils.py:27: UserWarning: \n",
      "This call to matplotlib.use() has no effect because the backend has already\n",
      "been chosen; matplotlib.use() must be called *before* pylab, matplotlib.pyplot,\n",
      "or matplotlib.backends is imported for the first time.\n",
      "\n",
      "The backend was *originally* set to 'module://ipykernel.pylab.backend_inline' by the following code:\n",
      "  File \"/home/wc-gpu/anaconda3/lib/python3.6/runpy.py\", line 193, in _run_module_as_main\n",
      "    \"__main__\", mod_spec)\n",
      "  File \"/home/wc-gpu/anaconda3/lib/python3.6/runpy.py\", line 85, in _run_code\n",
      "    exec(code, run_globals)\n",
      "  File \"/home/wc-gpu/anaconda3/lib/python3.6/site-packages/ipykernel_launcher.py\", line 16, in <module>\n",
      "    app.launch_new_instance()\n",
      "  File \"/home/wc-gpu/anaconda3/lib/python3.6/site-packages/traitlets/config/application.py\", line 658, in launch_instance\n",
      "    app.start()\n",
      "  File \"/home/wc-gpu/anaconda3/lib/python3.6/site-packages/ipykernel/kernelapp.py\", line 505, in start\n",
      "    self.io_loop.start()\n",
      "  File \"/home/wc-gpu/anaconda3/lib/python3.6/site-packages/tornado/platform/asyncio.py\", line 132, in start\n",
      "    self.asyncio_loop.run_forever()\n",
      "  File \"/home/wc-gpu/anaconda3/lib/python3.6/asyncio/base_events.py\", line 421, in run_forever\n",
      "    self._run_once()\n",
      "  File \"/home/wc-gpu/anaconda3/lib/python3.6/asyncio/base_events.py\", line 1425, in _run_once\n",
      "    handle._run()\n",
      "  File \"/home/wc-gpu/anaconda3/lib/python3.6/asyncio/events.py\", line 126, in _run\n",
      "    self._callback(*self._args)\n",
      "  File \"/home/wc-gpu/anaconda3/lib/python3.6/site-packages/tornado/ioloop.py\", line 758, in _run_callback\n",
      "    ret = callback()\n",
      "  File \"/home/wc-gpu/anaconda3/lib/python3.6/site-packages/tornado/stack_context.py\", line 300, in null_wrapper\n",
      "    return fn(*args, **kwargs)\n",
      "  File \"/home/wc-gpu/anaconda3/lib/python3.6/site-packages/tornado/gen.py\", line 1233, in inner\n",
      "    self.run()\n",
      "  File \"/home/wc-gpu/anaconda3/lib/python3.6/site-packages/tornado/gen.py\", line 1147, in run\n",
      "    yielded = self.gen.send(value)\n",
      "  File \"/home/wc-gpu/anaconda3/lib/python3.6/site-packages/ipykernel/kernelbase.py\", line 357, in process_one\n",
      "    yield gen.maybe_future(dispatch(*args))\n",
      "  File \"/home/wc-gpu/anaconda3/lib/python3.6/site-packages/tornado/gen.py\", line 326, in wrapper\n",
      "    yielded = next(result)\n",
      "  File \"/home/wc-gpu/anaconda3/lib/python3.6/site-packages/ipykernel/kernelbase.py\", line 267, in dispatch_shell\n",
      "    yield gen.maybe_future(handler(stream, idents, msg))\n",
      "  File \"/home/wc-gpu/anaconda3/lib/python3.6/site-packages/tornado/gen.py\", line 326, in wrapper\n",
      "    yielded = next(result)\n",
      "  File \"/home/wc-gpu/anaconda3/lib/python3.6/site-packages/ipykernel/kernelbase.py\", line 534, in execute_request\n",
      "    user_expressions, allow_stdin,\n",
      "  File \"/home/wc-gpu/anaconda3/lib/python3.6/site-packages/tornado/gen.py\", line 326, in wrapper\n",
      "    yielded = next(result)\n",
      "  File \"/home/wc-gpu/anaconda3/lib/python3.6/site-packages/ipykernel/ipkernel.py\", line 294, in do_execute\n",
      "    res = shell.run_cell(code, store_history=store_history, silent=silent)\n",
      "  File \"/home/wc-gpu/anaconda3/lib/python3.6/site-packages/ipykernel/zmqshell.py\", line 536, in run_cell\n",
      "    return super(ZMQInteractiveShell, self).run_cell(*args, **kwargs)\n",
      "  File \"/home/wc-gpu/anaconda3/lib/python3.6/site-packages/IPython/core/interactiveshell.py\", line 2819, in run_cell\n",
      "    raw_cell, store_history, silent, shell_futures)\n",
      "  File \"/home/wc-gpu/anaconda3/lib/python3.6/site-packages/IPython/core/interactiveshell.py\", line 2845, in _run_cell\n",
      "    return runner(coro)\n",
      "  File \"/home/wc-gpu/anaconda3/lib/python3.6/site-packages/IPython/core/async_helpers.py\", line 67, in _pseudo_sync_runner\n",
      "    coro.send(None)\n",
      "  File \"/home/wc-gpu/anaconda3/lib/python3.6/site-packages/IPython/core/interactiveshell.py\", line 3020, in run_cell_async\n",
      "    interactivity=interactivity, compiler=compiler, result=result)\n",
      "  File \"/home/wc-gpu/anaconda3/lib/python3.6/site-packages/IPython/core/interactiveshell.py\", line 3185, in run_ast_nodes\n",
      "    if (yield from self.run_code(code, result)):\n",
      "  File \"/home/wc-gpu/anaconda3/lib/python3.6/site-packages/IPython/core/interactiveshell.py\", line 3267, in run_code\n",
      "    exec(code_obj, self.user_global_ns, self.user_ns)\n",
      "  File \"<ipython-input-1-32255a3fca15>\", line 12, in <module>\n",
      "    from matplotlib import pyplot as plt\n",
      "  File \"/home/wc-gpu/anaconda3/lib/python3.6/site-packages/matplotlib/pyplot.py\", line 72, in <module>\n",
      "    from matplotlib.backends import pylab_setup\n",
      "  File \"/home/wc-gpu/anaconda3/lib/python3.6/site-packages/matplotlib/backends/__init__.py\", line 14, in <module>\n",
      "    line for line in traceback.format_stack()\n",
      "\n",
      "\n",
      "  import matplotlib; matplotlib.use('Agg')  # pylint: disable=multiple-statements\n"
     ]
    }
   ],
   "source": [
    "import numpy as np\n",
    "import os\n",
    "import six.moves.urllib as urllib\n",
    "import sys\n",
    "import tarfile\n",
    "import tensorflow as tf\n",
    "import zipfile\n",
    "\n",
    "from distutils.version import StrictVersion\n",
    "from collections import defaultdict\n",
    "from io import StringIO\n",
    "from matplotlib import pyplot as plt\n",
    "import matplotlib.patches as patches\n",
    "from PIL import Image, ImageDraw, ImageFont\n",
    "import random\n",
    "import pickle as pkl\n",
    "\n",
    "# This is needed since the notebook is stored in the object_detection folder.\n",
    "sys.path.append(\"..\")\n",
    "from object_detection.utils import ops as utils_ops\n",
    "from object_detection.builders import model_builder\n",
    "from google.protobuf import text_format\n",
    "import tensorflow as tf\n",
    "import xml.etree.ElementTree as ET\n",
    "\n",
    "\n",
    "if StrictVersion(tf.__version__) < StrictVersion('1.9.0'):\n",
    "  raise ImportError('Please upgrade your TensorFlow installation to v1.9.* or later!')\n"
   ]
  },
  {
   "cell_type": "markdown",
   "metadata": {
    "colab_type": "text",
    "id": "Wy72mWwAWKMK"
   },
   "source": [
    "## Env setup"
   ]
  },
  {
   "cell_type": "code",
   "execution_count": 2,
   "metadata": {
    "colab": {
     "autoexec": {
      "startup": false,
      "wait_interval": 0
     }
    },
    "colab_type": "code",
    "id": "v7m_NY_aWKMK"
   },
   "outputs": [],
   "source": [
    "# This is needed to display the images.\n",
    "%matplotlib inline"
   ]
  },
  {
   "cell_type": "markdown",
   "metadata": {
    "colab_type": "text",
    "id": "r5FNuiRPWKMN"
   },
   "source": [
    "## Object detection imports\n",
    "Here are the imports from the object detection module."
   ]
  },
  {
   "cell_type": "code",
   "execution_count": 3,
   "metadata": {
    "colab": {
     "autoexec": {
      "startup": false,
      "wait_interval": 0
     }
    },
    "colab_type": "code",
    "collapsed": true,
    "id": "bm0_uNRnWKMN"
   },
   "outputs": [
    {
     "name": "stderr",
     "output_type": "stream",
     "text": [
      "/home/wc-gpu/MasterThesis/models/research/object_detection/utils/visualization_utils.py:27: UserWarning: \n",
      "This call to matplotlib.use() has no effect because the backend has already\n",
      "been chosen; matplotlib.use() must be called *before* pylab, matplotlib.pyplot,\n",
      "or matplotlib.backends is imported for the first time.\n",
      "\n",
      "The backend was *originally* set to 'module://ipykernel.pylab.backend_inline' by the following code:\n",
      "  File \"/home/wc-gpu/anaconda3/lib/python3.6/runpy.py\", line 193, in _run_module_as_main\n",
      "    \"__main__\", mod_spec)\n",
      "  File \"/home/wc-gpu/anaconda3/lib/python3.6/runpy.py\", line 85, in _run_code\n",
      "    exec(code, run_globals)\n",
      "  File \"/home/wc-gpu/anaconda3/lib/python3.6/site-packages/ipykernel_launcher.py\", line 16, in <module>\n",
      "    app.launch_new_instance()\n",
      "  File \"/home/wc-gpu/anaconda3/lib/python3.6/site-packages/traitlets/config/application.py\", line 658, in launch_instance\n",
      "    app.start()\n",
      "  File \"/home/wc-gpu/anaconda3/lib/python3.6/site-packages/ipykernel/kernelapp.py\", line 505, in start\n",
      "    self.io_loop.start()\n",
      "  File \"/home/wc-gpu/anaconda3/lib/python3.6/site-packages/tornado/platform/asyncio.py\", line 132, in start\n",
      "    self.asyncio_loop.run_forever()\n",
      "  File \"/home/wc-gpu/anaconda3/lib/python3.6/asyncio/base_events.py\", line 421, in run_forever\n",
      "    self._run_once()\n",
      "  File \"/home/wc-gpu/anaconda3/lib/python3.6/asyncio/base_events.py\", line 1425, in _run_once\n",
      "    handle._run()\n",
      "  File \"/home/wc-gpu/anaconda3/lib/python3.6/asyncio/events.py\", line 126, in _run\n",
      "    self._callback(*self._args)\n",
      "  File \"/home/wc-gpu/anaconda3/lib/python3.6/site-packages/tornado/ioloop.py\", line 758, in _run_callback\n",
      "    ret = callback()\n",
      "  File \"/home/wc-gpu/anaconda3/lib/python3.6/site-packages/tornado/stack_context.py\", line 300, in null_wrapper\n",
      "    return fn(*args, **kwargs)\n",
      "  File \"/home/wc-gpu/anaconda3/lib/python3.6/site-packages/tornado/gen.py\", line 1233, in inner\n",
      "    self.run()\n",
      "  File \"/home/wc-gpu/anaconda3/lib/python3.6/site-packages/tornado/gen.py\", line 1147, in run\n",
      "    yielded = self.gen.send(value)\n",
      "  File \"/home/wc-gpu/anaconda3/lib/python3.6/site-packages/ipykernel/kernelbase.py\", line 370, in dispatch_queue\n",
      "    yield self.process_one()\n",
      "  File \"/home/wc-gpu/anaconda3/lib/python3.6/site-packages/tornado/gen.py\", line 346, in wrapper\n",
      "    runner = Runner(result, future, yielded)\n",
      "  File \"/home/wc-gpu/anaconda3/lib/python3.6/site-packages/tornado/gen.py\", line 1080, in __init__\n",
      "    self.run()\n",
      "  File \"/home/wc-gpu/anaconda3/lib/python3.6/site-packages/tornado/gen.py\", line 1147, in run\n",
      "    yielded = self.gen.send(value)\n",
      "  File \"/home/wc-gpu/anaconda3/lib/python3.6/site-packages/ipykernel/kernelbase.py\", line 357, in process_one\n",
      "    yield gen.maybe_future(dispatch(*args))\n",
      "  File \"/home/wc-gpu/anaconda3/lib/python3.6/site-packages/tornado/gen.py\", line 326, in wrapper\n",
      "    yielded = next(result)\n",
      "  File \"/home/wc-gpu/anaconda3/lib/python3.6/site-packages/ipykernel/kernelbase.py\", line 267, in dispatch_shell\n",
      "    yield gen.maybe_future(handler(stream, idents, msg))\n",
      "  File \"/home/wc-gpu/anaconda3/lib/python3.6/site-packages/tornado/gen.py\", line 326, in wrapper\n",
      "    yielded = next(result)\n",
      "  File \"/home/wc-gpu/anaconda3/lib/python3.6/site-packages/ipykernel/kernelbase.py\", line 534, in execute_request\n",
      "    user_expressions, allow_stdin,\n",
      "  File \"/home/wc-gpu/anaconda3/lib/python3.6/site-packages/tornado/gen.py\", line 326, in wrapper\n",
      "    yielded = next(result)\n",
      "  File \"/home/wc-gpu/anaconda3/lib/python3.6/site-packages/ipykernel/ipkernel.py\", line 294, in do_execute\n",
      "    res = shell.run_cell(code, store_history=store_history, silent=silent)\n",
      "  File \"/home/wc-gpu/anaconda3/lib/python3.6/site-packages/ipykernel/zmqshell.py\", line 536, in run_cell\n",
      "    return super(ZMQInteractiveShell, self).run_cell(*args, **kwargs)\n",
      "  File \"/home/wc-gpu/anaconda3/lib/python3.6/site-packages/IPython/core/interactiveshell.py\", line 2819, in run_cell\n",
      "    raw_cell, store_history, silent, shell_futures)\n",
      "  File \"/home/wc-gpu/anaconda3/lib/python3.6/site-packages/IPython/core/interactiveshell.py\", line 2845, in _run_cell\n",
      "    return runner(coro)\n",
      "  File \"/home/wc-gpu/anaconda3/lib/python3.6/site-packages/IPython/core/async_helpers.py\", line 67, in _pseudo_sync_runner\n",
      "    coro.send(None)\n",
      "  File \"/home/wc-gpu/anaconda3/lib/python3.6/site-packages/IPython/core/interactiveshell.py\", line 3020, in run_cell_async\n",
      "    interactivity=interactivity, compiler=compiler, result=result)\n",
      "  File \"/home/wc-gpu/anaconda3/lib/python3.6/site-packages/IPython/core/interactiveshell.py\", line 3191, in run_ast_nodes\n",
      "    if (yield from self.run_code(code, result)):\n",
      "  File \"/home/wc-gpu/anaconda3/lib/python3.6/site-packages/IPython/core/interactiveshell.py\", line 3267, in run_code\n",
      "    exec(code_obj, self.user_global_ns, self.user_ns)\n",
      "  File \"<ipython-input-2-0f0a85121700>\", line 2, in <module>\n",
      "    get_ipython().run_line_magic('matplotlib', 'inline')\n",
      "  File \"/home/wc-gpu/anaconda3/lib/python3.6/site-packages/IPython/core/interactiveshell.py\", line 2287, in run_line_magic\n",
      "    result = fn(*args,**kwargs)\n",
      "  File \"<decorator-gen-107>\", line 2, in matplotlib\n",
      "  File \"/home/wc-gpu/anaconda3/lib/python3.6/site-packages/IPython/core/magic.py\", line 187, in <lambda>\n",
      "    call = lambda f, *a, **k: f(*a, **k)\n",
      "  File \"/home/wc-gpu/anaconda3/lib/python3.6/site-packages/IPython/core/magics/pylab.py\", line 99, in matplotlib\n",
      "    gui, backend = self.shell.enable_matplotlib(args.gui)\n",
      "  File \"/home/wc-gpu/anaconda3/lib/python3.6/site-packages/IPython/core/interactiveshell.py\", line 3355, in enable_matplotlib\n",
      "    pt.activate_matplotlib(backend)\n",
      "  File \"/home/wc-gpu/anaconda3/lib/python3.6/site-packages/IPython/core/pylabtools.py\", line 314, in activate_matplotlib\n",
      "    matplotlib.pyplot.switch_backend(backend)\n",
      "  File \"/home/wc-gpu/anaconda3/lib/python3.6/site-packages/matplotlib/pyplot.py\", line 232, in switch_backend\n",
      "    matplotlib.use(newbackend, warn=False, force=True)\n",
      "  File \"/home/wc-gpu/anaconda3/lib/python3.6/site-packages/matplotlib/__init__.py\", line 1305, in use\n",
      "    reload(sys.modules['matplotlib.backends'])\n",
      "  File \"/home/wc-gpu/anaconda3/lib/python3.6/importlib/__init__.py\", line 166, in reload\n",
      "    _bootstrap._exec(spec, module)\n",
      "  File \"/home/wc-gpu/anaconda3/lib/python3.6/site-packages/matplotlib/backends/__init__.py\", line 14, in <module>\n",
      "    line for line in traceback.format_stack()\n",
      "\n",
      "\n",
      "  import matplotlib; matplotlib.use('Agg')  # pylint: disable=multiple-statements\n"
     ]
    }
   ],
   "source": [
    "from utils import label_map_util\n",
    "\n",
    "from utils import visualization_utils as vis_util"
   ]
  },
  {
   "cell_type": "markdown",
   "metadata": {
    "colab_type": "text",
    "id": "cfn_tRFOWKMO"
   },
   "source": [
    "# Model preparation "
   ]
  },
  {
   "cell_type": "markdown",
   "metadata": {
    "colab_type": "text",
    "id": "X_sEBLpVWKMQ"
   },
   "source": [
    "## Variables\n",
    "\n",
    "Any model exported using the `export_inference_graph.py` tool can be loaded here simply by changing `PATH_TO_FROZEN_GRAPH` to point to a new .pb file.  \n",
    "\n",
    "By default we use an \"SSD with Mobilenet\" model here. See the [detection model zoo](https://github.com/tensorflow/models/blob/master/research/object_detection/g3doc/detection_model_zoo.md) for a list of other models that can be run out-of-the-box with varying speeds and accuracies."
   ]
  },
  {
   "cell_type": "code",
   "execution_count": 4,
   "metadata": {
    "colab": {
     "autoexec": {
      "startup": false,
      "wait_interval": 0
     }
    },
    "colab_type": "code",
    "id": "VyPz_t8WWKMQ"
   },
   "outputs": [],
   "source": [
    "# What model to download.\n",
    "MODEL_NAME = 'prod_faster_rcnn_resnet50_coco'\n",
    "MODEL_FILE = MODEL_NAME + '.tar.gz'\n",
    "DOWNLOAD_BASE = 'http://download.tensorflow.org/models/object_detection/'\n",
    "\n",
    "# Path to frozen detection graph. This is the actual model that is used for the object detection.\n",
    "PATH_TO_FROZEN_GRAPH = MODEL_NAME + '/frozen_inference_graph.pb'\n",
    "\n",
    "# List of the strings that is used to add correct label for each box.\n",
    "PATH_TO_LABELS = os.path.join('data', 'mscoco_label_map.pbtxt')"
   ]
  },
  {
   "cell_type": "markdown",
   "metadata": {
    "colab_type": "text",
    "id": "7ai8pLZZWKMS"
   },
   "source": [
    "## Download Model"
   ]
  },
  {
   "cell_type": "code",
   "execution_count": 5,
   "metadata": {
    "colab": {
     "autoexec": {
      "startup": false,
      "wait_interval": 0
     }
    },
    "colab_type": "code",
    "id": "KILYnwR5WKMS"
   },
   "outputs": [],
   "source": [
    "# opener = urllib.request.URLopener()\n",
    "# opener.retrieve(DOWNLOAD_BASE + MODEL_FILE, MODEL_FILE)\n",
    "# tar_file = tarfile.open(MODEL_FILE)\n",
    "# for file in tar_file.getmembers():\n",
    "#   file_name = os.path.basename(file.name)\n",
    "#   if 'frozen_inference_graph.pb' in file_name:\n",
    "#     tar_file.extract(file, os.getcwd())"
   ]
  },
  {
   "cell_type": "markdown",
   "metadata": {
    "colab_type": "text",
    "id": "YBcB9QHLWKMU"
   },
   "source": [
    "## Load a (frozen) Tensorflow model into memory."
   ]
  },
  {
   "cell_type": "code",
   "execution_count": 6,
   "metadata": {
    "colab": {
     "autoexec": {
      "startup": false,
      "wait_interval": 0
     }
    },
    "colab_type": "code",
    "id": "KezjCRVvWKMV"
   },
   "outputs": [],
   "source": [
    "detection_graph = tf.Graph()\n",
    "with detection_graph.as_default():\n",
    "  od_graph_def = tf.GraphDef()\n",
    "  with tf.gfile.GFile(PATH_TO_FROZEN_GRAPH, 'rb') as fid:\n",
    "    serialized_graph = fid.read()\n",
    "    od_graph_def.ParseFromString(serialized_graph)\n",
    "    tf.import_graph_def(od_graph_def, name='')"
   ]
  },
  {
   "cell_type": "markdown",
   "metadata": {
    "colab_type": "text",
    "id": "_1MVVTcLWKMW"
   },
   "source": [
    "## Loading label map\n",
    "Label maps map indices to category names, so that when our convolution network predicts `5`, we know that this corresponds to `airplane`.  Here we use internal utility functions, but anything that returns a dictionary mapping integers to appropriate string labels would be fine"
   ]
  },
  {
   "cell_type": "code",
   "execution_count": 7,
   "metadata": {
    "colab": {
     "autoexec": {
      "startup": false,
      "wait_interval": 0
     }
    },
    "colab_type": "code",
    "id": "hDbpHkiWWKMX"
   },
   "outputs": [],
   "source": [
    "category_index = label_map_util.create_category_index_from_labelmap(PATH_TO_LABELS, use_display_name=True)"
   ]
  },
  {
   "cell_type": "markdown",
   "metadata": {
    "colab_type": "text",
    "id": "EFsoUHvbWKMZ"
   },
   "source": [
    "## Helper code"
   ]
  },
  {
   "cell_type": "code",
   "execution_count": 8,
   "metadata": {
    "colab": {
     "autoexec": {
      "startup": false,
      "wait_interval": 0
     }
    },
    "colab_type": "code",
    "id": "aSlYc3JkWKMa"
   },
   "outputs": [],
   "source": [
    "def load_image_into_numpy_array(image):\n",
    "  (im_width, im_height) = image.size\n",
    "  return np.array(image.getdata()).reshape(\n",
    "      (im_height, im_width, 3)).astype(np.uint8)"
   ]
  },
  {
   "cell_type": "markdown",
   "metadata": {
    "colab_type": "text",
    "id": "H0_1AGhrWKMc"
   },
   "source": [
    "# Detection"
   ]
  },
  {
   "cell_type": "code",
   "execution_count": 9,
   "metadata": {
    "colab": {
     "autoexec": {
      "startup": false,
      "wait_interval": 0
     }
    },
    "colab_type": "code",
    "id": "jG-zn5ykWKMd"
   },
   "outputs": [],
   "source": [
    "# For the sake of simplicity we will use only 2 images:\n",
    "# image1.jpg\n",
    "# image2.jpg\n",
    "# If you want to test the code with your images, just add path to the images to the TEST_IMAGE_PATHS.\n",
    "# PATH_TO_TEST_IMAGES_DIR = '/Users/mbaltac/Home/MasterThesis/MasterThesis/Kickoff_MihaiBaltac/session_122923'\n",
    "# TEST_IMAGE_PATHS = [ os.path.join(PATH_TO_TEST_IMAGES_DIR, f) for f in os.listdir(PATH_TO_TEST_IMAGES_DIR) if f.endswith(\".jpg\") ]\n",
    "# SESSIONS_PATH = \"/Users/mbaltac/Home/MasterThesis/MasterThesis/labeled_images_shopping_sessions/labeled\"\n",
    "SESSIONS_PATH = \"/home/wc-gpu/MasterThesis/session_data\"\n",
    "\n",
    "# Size, in inches, of the output images.\n",
    "IMAGE_SIZE = (30, 20)"
   ]
  },
  {
   "cell_type": "code",
   "execution_count": 16,
   "metadata": {},
   "outputs": [],
   "source": [
    "def get_labels(fpath: str) :\n",
    "    try:\n",
    "        fpath = os.path.abspath(fpath)\n",
    "        tree = ET.parse(fpath)\n",
    "        root = tree.getroot()\n",
    "\n",
    "        img_path = os.path.abspath(os.path.join(os.path.dirname(fpath), \"..\", root.find(\"filename\").text))\n",
    "        img_label = []\n",
    "        size = root.find(\"size\")\n",
    "        width = float(size.find(\"width\").text)\n",
    "        height = float(size.find(\"height\").text)\n",
    "        for child in root.findall(\"object\"):\n",
    "            name = child.find(\"name\").text\n",
    "            if name == \"add\" or name == \"remove\":\n",
    "                bndbox = child.find(\"bndbox\")\n",
    "                xmin = float(bndbox.find(\"xmin\").text)/width\n",
    "                ymin = float(bndbox.find(\"ymin\").text)/height\n",
    "                xmax = float(bndbox.find(\"xmax\").text)/width\n",
    "                ymax = float(bndbox.find(\"ymax\").text)/height\n",
    "\n",
    "                img_label.append((ymin, xmin, ymax, xmax, name))\n",
    "\n",
    "        return img_label\n",
    "    except Exception as ex:\n",
    "        print (ex)\n",
    "        return []"
   ]
  },
  {
   "cell_type": "code",
   "execution_count": 17,
   "metadata": {},
   "outputs": [],
   "source": [
    "def bb_intersection_over_union(boxA, boxB):\n",
    "    # determine the (x, y)-coordinates of the intersection rectangle\n",
    "    xA = max(boxA[0], boxB[0])\n",
    "    yA = max(boxA[1], boxB[1])\n",
    "    xB = min(boxA[2], boxB[2])\n",
    "    yB = min(boxA[3], boxB[3])\n",
    "\n",
    "    # compute the area of intersection rectangle\n",
    "    interArea = max(0, xB - xA) * max(0, yB - yA)\n",
    "\n",
    "    # compute the area of both the prediction and ground-truth\n",
    "    # rectangles\n",
    "    boxAArea = (boxA[2] - boxA[0]) * (boxA[3] - boxA[1])\n",
    "    boxBArea = (boxB[2] - boxB[0]) * (boxB[3] - boxB[1])\n",
    "\n",
    "    # compute the intersection over union by taking the intersection\n",
    "    # area and dividing it by the sum of prediction + ground-truth\n",
    "    # areas - the interesection area\n",
    "    iou = interArea / float(boxAArea + boxBArea - interArea)\n",
    "    # return the intersection over union value\n",
    "    return iou\n"
   ]
  },
  {
   "cell_type": "code",
   "execution_count": 18,
   "metadata": {},
   "outputs": [
    {
     "data": {
      "text/plain": [
       "0.0"
      ]
     },
     "execution_count": 18,
     "metadata": {},
     "output_type": "execute_result"
    }
   ],
   "source": [
    "bb_intersection_over_union((0,0,1,1), (0,0,0,0))"
   ]
  },
  {
   "cell_type": "code",
   "execution_count": 19,
   "metadata": {
    "colab": {
     "autoexec": {
      "startup": false,
      "wait_interval": 0
     }
    },
    "colab_type": "code",
    "id": "92BHxzcNWKMf"
   },
   "outputs": [],
   "source": [
    "def run_inference_for_single_image(image, graph):\n",
    "  with graph.as_default():\n",
    "    with tf.Session() as sess:\n",
    "      # Get handles to input and output tensors\n",
    "      ops = tf.get_default_graph().get_operations()\n",
    "      all_tensor_names = {output.name for op in ops for output in op.outputs}\n",
    "      tensor_dict = {}\n",
    "      for key in [\n",
    "          'num_detections', 'detection_boxes', 'detection_scores',\n",
    "          'detection_classes'\n",
    "      ]:\n",
    "        tensor_name = key + ':0'\n",
    "        if tensor_name in all_tensor_names:\n",
    "          tensor_dict[key] = tf.get_default_graph().get_tensor_by_name(\n",
    "              tensor_name)\n",
    "      image_tensor = tf.get_default_graph().get_tensor_by_name('image_tensor:0')\n",
    "\n",
    "      # Run inference\n",
    "      output_dict = sess.run(tensor_dict,\n",
    "                             feed_dict={image_tensor: np.expand_dims(image, 0)})\n",
    "\n",
    "      # all outputs are float32 numpy arrays, so convert types as appropriate\n",
    "      output_dict['num_detections'] = int(output_dict['num_detections'][0])\n",
    "      output_dict['detection_classes'] = output_dict[\n",
    "          'detection_classes'][0].astype(np.uint8)\n",
    "      output_dict['detection_boxes'] = output_dict['detection_boxes'][0]\n",
    "      output_dict['detection_scores'] = output_dict['detection_scores'][0]\n",
    "            \n",
    "  return output_dict"
   ]
  },
  {
   "cell_type": "code",
   "execution_count": 20,
   "metadata": {},
   "outputs": [],
   "source": [
    "def filter_detections(output_dict, detection_labels, max_iou=.10, max_filtered=20, conf_tesh=.5, rand_select=2):\n",
    "    filtered_output_dict = dict()\n",
    "    \n",
    "    filtered_idx = []\n",
    "    detections = output_dict[\"detection_boxes\"]\n",
    "    for i in range(len(detections)):\n",
    "        if(output_dict['detection_scores'][i] >= conf_tesh):\n",
    "            detection = detections[i]\n",
    "            add_to_filter = True\n",
    "            for label in detection_labels:\n",
    "                if bb_intersection_over_union(detection, label) > max_iou:\n",
    "                    add_to_filter = False\n",
    "                    break\n",
    "\n",
    "            for fi in filtered_idx:\n",
    "                if bb_intersection_over_union(detection, detections[fi]) > .5:\n",
    "                    add_to_filter = False\n",
    "                    break\n",
    "\n",
    "            if add_to_filter:\n",
    "                filtered_idx.append(i)\n",
    "\n",
    "            if len(filtered_idx) > max_filtered:\n",
    "                break\n",
    "    if len(filtered_idx) > rand_select:\n",
    "        filtered_idx = random.sample(filtered_idx, rand_select)\n",
    "    \n",
    "    filtered_output_dict['detection_boxes'] = output_dict['detection_boxes'][filtered_idx]\n",
    "    filtered_output_dict['detection_classes'] = output_dict['detection_classes'][filtered_idx]\n",
    "    filtered_output_dict['detection_scores'] = output_dict['detection_scores'][filtered_idx]\n",
    "    \n",
    "    \n",
    "    return filtered_output_dict"
   ]
  },
  {
   "cell_type": "code",
   "execution_count": 22,
   "metadata": {
    "colab": {
     "autoexec": {
      "startup": false,
      "wait_interval": 0
     }
    },
    "colab_type": "code",
    "id": "3a5wMHN8WKMh",
    "scrolled": false
   },
   "outputs": [
    {
     "name": "stdout",
     "output_type": "stream",
     "text": [
      ".DS_Store invalid literal for int() with base 10: '.DS_Store'\n",
      "117653\n",
      "117684\n",
      "117687\n",
      "118828\n",
      "118859\n",
      "118863\n",
      "118885\n",
      "122847\n",
      "122848\n",
      "122849\n",
      "122854\n",
      "122858\n",
      "122860\n",
      "122861\n",
      "122862\n",
      "122868\n",
      "122873\n",
      "122874\n",
      "122880\n",
      "122887\n",
      "122890\n",
      "122892\n",
      "122896\n",
      "122901\n",
      "122903\n",
      "122909\n",
      "122915\n",
      "122917\n",
      "122921\n",
      "122923_testing invalid literal for int() with base 10: '122923_testing'\n",
      "122931\n",
      "122932\n",
      "122933\n",
      "122938\n",
      "122943\n",
      "122945\n",
      "122946\n",
      "122949\n",
      "122953\n",
      "122954\n",
      "122959\n",
      "122961\n",
      "122962\n",
      "122963\n",
      "122967\n",
      "122970\n",
      "122973\n",
      "122975\n",
      "122979\n",
      "122992\n",
      "122997\n",
      "123003\n",
      "123004\n",
      "123010\n",
      "123016\n",
      "123021\n",
      "123027\n",
      "123028\n",
      "123034\n",
      "123041\n",
      "123049\n",
      "123051\n",
      "123054\n",
      "123071\n",
      "123074\n",
      "123082\n",
      "123084\n",
      "123089\n",
      "123092\n",
      "123097\n",
      "123100\n",
      "123104\n",
      "123113\n",
      "123114\n",
      "123120\n",
      "123123\n",
      "123132\n",
      "123136\n",
      "123137\n",
      "123152\n",
      "123153\n",
      "123156\n",
      "123161\n",
      "123164\n",
      "123166\n",
      "123171\n",
      "123172\n",
      "123176\n",
      "123178\n",
      "123179\n",
      "123185\n",
      "123213\n",
      "123216\n",
      "123221\n",
      "123225\n",
      "123229\n",
      "123234\n",
      "123238\n",
      "123256\n",
      "123262\n",
      "123271\n",
      "123272\n",
      "123281\n",
      "123282\n",
      "123288\n",
      "123291\n",
      "123292\n",
      "123296\n",
      "123300\n",
      "123303\n",
      "123307\n",
      "123312\n",
      "123329\n",
      "123330\n",
      "123345\n",
      "123355\n",
      "123356\n",
      "123358\n",
      "123360\n",
      "123372\n",
      "123374\n",
      "123375\n",
      "123379\n",
      "123381\n",
      "123382\n",
      "123386\n",
      "123390\n",
      "123392\n",
      "123401\n",
      "123403\n",
      "123407\n",
      "123409\n",
      "123413\n",
      "123416\n",
      "123418\n",
      "123419\n",
      "123424\n",
      "123429\n"
     ]
    }
   ],
   "source": [
    "for session in sorted(os.listdir(SESSIONS_PATH)):\n",
    "    try:\n",
    "        a = int(session)\n",
    "\n",
    "\n",
    "        print(session)\n",
    "        session_path = os.path.join(SESSIONS_PATH, session)\n",
    "        if not os.path.exists(os.path.join(session_path, \"annotations\")):\n",
    "            continue\n",
    "\n",
    "        for image_fname in sorted(os.listdir(session_path)):\n",
    "            try:\n",
    "                if not os.path.exists(boses_path):\n",
    "                    \n",
    "                if not image_fname.endswith(\".jpg\"):\n",
    "                    continue\n",
    "                image = Image.open(os.path.join(session_path, image_fname))\n",
    "                # the array based representation of the image will be used later in order to prepare the\n",
    "                # result image with boxes and labels on it.\n",
    "                image_np = load_image_into_numpy_array(image)\n",
    "                # Expand dimensions since the model expects images to have shape: [1, None, None, 3]\n",
    "                label_path = os.path.join(session_path, \"annotations\", os.path.splitext(image_fname)[0] + \".xml\")\n",
    "                labels = get_labels(label_path) if os.path.exists(label_path) else []\n",
    "                output_dict = run_inference_for_single_image(image_np, detection_graph)\n",
    "                output_dict = filter_detections(output_dict, labels)\n",
    "                detections = output_dict['detection_boxes']\n",
    "                # Visualization of the results of a detection.\n",
    "        #             vis_util.visualize_boxes_and_labels_on_image_array(\n",
    "        #               image_np,\n",
    "        #               output_dict['detection_boxes'],\n",
    "        #               output_dict['detection_classes'],\n",
    "        #               output_dict['detection_scores'],\n",
    "        #               category_index,\n",
    "        #               instance_masks=output_dict.get('detection_masks'),\n",
    "        #               use_normalized_coordinates=True,\n",
    "        #               line_thickness=2,\n",
    "        #               min_score_thresh=.3)\n",
    "\n",
    "                boses_path = os.path.join(session_path, \"boxes\")\n",
    "                if not os.path.exists(boses_path):\n",
    "                    os.makedirs(boses_path)\n",
    "\n",
    "                with open(os.path.join(boses_path, image_fname+\".box\"), \"wb\") as f:\n",
    "                    pkl.dump([detections, labels], f)\n",
    "\n",
    "        #         fig,ax = plt.subplots(1, figsize=IMAGE_SIZE)\n",
    "\n",
    "        #         ax.imshow(image_np)\n",
    "        #         print(\"shape\", image_np.shape)\n",
    "        #         for label in labels:\n",
    "        #             rect = patches.Rectangle(\n",
    "        #                 (label[1]*image_np.shape[1],label[0]*image_np.shape[0]),\n",
    "        #                 (label[3]-label[1])*image_np.shape[1],\n",
    "        #                 (label[2]-label[0])*image_np.shape[0],\n",
    "        #                 linewidth=5,edgecolor='r',facecolor='none')\n",
    "        #             ax.add_patch(rect)\n",
    "\n",
    "        #         for label in detections:\n",
    "        #             rect = patches.Rectangle(\n",
    "        #                 (label[1]*image_np.shape[1],label[0]*image_np.shape[0]),\n",
    "        #                 (label[3]-label[1])*image_np.shape[1],\n",
    "        #                 (label[2]-label[0])*image_np.shape[0],\n",
    "        #                 linewidth=5,edgecolor='g',facecolor='none')\n",
    "        #             ax.add_patch(rect)\n",
    "\n",
    "        #         plt.show()\n",
    "            except Exception as ex:\n",
    "                print (session, ex)\n",
    "                continue\n",
    "    except Exception as ex:\n",
    "        print (session, ex)\n",
    "        continue"
   ]
  },
  {
   "cell_type": "code",
   "execution_count": null,
   "metadata": {},
   "outputs": [],
   "source": []
  },
  {
   "cell_type": "code",
   "execution_count": null,
   "metadata": {},
   "outputs": [],
   "source": []
  }
 ],
 "metadata": {
  "colab": {
   "default_view": {},
   "name": "object_detection_tutorial.ipynb?workspaceId=ronnyvotel:python_inference::citc",
   "provenance": [],
   "version": "0.3.2",
   "views": {}
  },
  "kernelspec": {
   "display_name": "Python 3",
   "language": "python",
   "name": "python3"
  },
  "language_info": {
   "codemirror_mode": {
    "name": "ipython",
    "version": 3
   },
   "file_extension": ".py",
   "mimetype": "text/x-python",
   "name": "python",
   "nbconvert_exporter": "python",
   "pygments_lexer": "ipython3",
   "version": "3.6.0"
  }
 },
 "nbformat": 4,
 "nbformat_minor": 1
}
