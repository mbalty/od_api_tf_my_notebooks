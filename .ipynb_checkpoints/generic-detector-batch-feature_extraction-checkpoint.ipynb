{
 "cells": [
  {
   "cell_type": "markdown",
   "metadata": {
    "colab_type": "text",
    "id": "V8-yl-s-WKMG"
   },
   "source": [
    "# Object Detection Demo\n",
    "Welcome to the object detection inference walkthrough!  This notebook will walk you step by step through the process of using a pre-trained model to detect objects in an image. Make sure to follow the [installation instructions](https://github.com/tensorflow/models/blob/master/research/object_detection/g3doc/installation.md) before you start."
   ]
  },
  {
   "cell_type": "markdown",
   "metadata": {
    "colab_type": "text",
    "id": "kFSqkTCdWKMI"
   },
   "source": [
    "# Imports"
   ]
  },
  {
   "cell_type": "code",
   "execution_count": 1,
   "metadata": {
    "colab": {
     "autoexec": {
      "startup": false,
      "wait_interval": 0
     }
    },
    "colab_type": "code",
    "id": "hV4P5gyTWKMI"
   },
   "outputs": [
    {
     "name": "stderr",
     "output_type": "stream",
     "text": [
      "/home/wc-gpu/MasterThesis/models/research/object_detection/utils/visualization_utils.py:26: UserWarning: \n",
      "This call to matplotlib.use() has no effect because the backend has already\n",
      "been chosen; matplotlib.use() must be called *before* pylab, matplotlib.pyplot,\n",
      "or matplotlib.backends is imported for the first time.\n",
      "\n",
      "The backend was *originally* set to 'module://ipykernel.pylab.backend_inline' by the following code:\n",
      "  File \"/home/wc-gpu/anaconda3/lib/python3.6/runpy.py\", line 193, in _run_module_as_main\n",
      "    \"__main__\", mod_spec)\n",
      "  File \"/home/wc-gpu/anaconda3/lib/python3.6/runpy.py\", line 85, in _run_code\n",
      "    exec(code, run_globals)\n",
      "  File \"/home/wc-gpu/anaconda3/lib/python3.6/site-packages/ipykernel_launcher.py\", line 16, in <module>\n",
      "    app.launch_new_instance()\n",
      "  File \"/home/wc-gpu/anaconda3/lib/python3.6/site-packages/traitlets/config/application.py\", line 658, in launch_instance\n",
      "    app.start()\n",
      "  File \"/home/wc-gpu/anaconda3/lib/python3.6/site-packages/ipykernel/kernelapp.py\", line 505, in start\n",
      "    self.io_loop.start()\n",
      "  File \"/home/wc-gpu/anaconda3/lib/python3.6/site-packages/tornado/platform/asyncio.py\", line 132, in start\n",
      "    self.asyncio_loop.run_forever()\n",
      "  File \"/home/wc-gpu/anaconda3/lib/python3.6/asyncio/base_events.py\", line 421, in run_forever\n",
      "    self._run_once()\n",
      "  File \"/home/wc-gpu/anaconda3/lib/python3.6/asyncio/base_events.py\", line 1425, in _run_once\n",
      "    handle._run()\n",
      "  File \"/home/wc-gpu/anaconda3/lib/python3.6/asyncio/events.py\", line 126, in _run\n",
      "    self._callback(*self._args)\n",
      "  File \"/home/wc-gpu/anaconda3/lib/python3.6/site-packages/tornado/ioloop.py\", line 758, in _run_callback\n",
      "    ret = callback()\n",
      "  File \"/home/wc-gpu/anaconda3/lib/python3.6/site-packages/tornado/stack_context.py\", line 300, in null_wrapper\n",
      "    return fn(*args, **kwargs)\n",
      "  File \"/home/wc-gpu/anaconda3/lib/python3.6/site-packages/tornado/gen.py\", line 1233, in inner\n",
      "    self.run()\n",
      "  File \"/home/wc-gpu/anaconda3/lib/python3.6/site-packages/tornado/gen.py\", line 1147, in run\n",
      "    yielded = self.gen.send(value)\n",
      "  File \"/home/wc-gpu/anaconda3/lib/python3.6/site-packages/ipykernel/kernelbase.py\", line 357, in process_one\n",
      "    yield gen.maybe_future(dispatch(*args))\n",
      "  File \"/home/wc-gpu/anaconda3/lib/python3.6/site-packages/tornado/gen.py\", line 326, in wrapper\n",
      "    yielded = next(result)\n",
      "  File \"/home/wc-gpu/anaconda3/lib/python3.6/site-packages/ipykernel/kernelbase.py\", line 267, in dispatch_shell\n",
      "    yield gen.maybe_future(handler(stream, idents, msg))\n",
      "  File \"/home/wc-gpu/anaconda3/lib/python3.6/site-packages/tornado/gen.py\", line 326, in wrapper\n",
      "    yielded = next(result)\n",
      "  File \"/home/wc-gpu/anaconda3/lib/python3.6/site-packages/ipykernel/kernelbase.py\", line 534, in execute_request\n",
      "    user_expressions, allow_stdin,\n",
      "  File \"/home/wc-gpu/anaconda3/lib/python3.6/site-packages/tornado/gen.py\", line 326, in wrapper\n",
      "    yielded = next(result)\n",
      "  File \"/home/wc-gpu/anaconda3/lib/python3.6/site-packages/ipykernel/ipkernel.py\", line 294, in do_execute\n",
      "    res = shell.run_cell(code, store_history=store_history, silent=silent)\n",
      "  File \"/home/wc-gpu/anaconda3/lib/python3.6/site-packages/ipykernel/zmqshell.py\", line 536, in run_cell\n",
      "    return super(ZMQInteractiveShell, self).run_cell(*args, **kwargs)\n",
      "  File \"/home/wc-gpu/anaconda3/lib/python3.6/site-packages/IPython/core/interactiveshell.py\", line 2819, in run_cell\n",
      "    raw_cell, store_history, silent, shell_futures)\n",
      "  File \"/home/wc-gpu/anaconda3/lib/python3.6/site-packages/IPython/core/interactiveshell.py\", line 2845, in _run_cell\n",
      "    return runner(coro)\n",
      "  File \"/home/wc-gpu/anaconda3/lib/python3.6/site-packages/IPython/core/async_helpers.py\", line 67, in _pseudo_sync_runner\n",
      "    coro.send(None)\n",
      "  File \"/home/wc-gpu/anaconda3/lib/python3.6/site-packages/IPython/core/interactiveshell.py\", line 3020, in run_cell_async\n",
      "    interactivity=interactivity, compiler=compiler, result=result)\n",
      "  File \"/home/wc-gpu/anaconda3/lib/python3.6/site-packages/IPython/core/interactiveshell.py\", line 3185, in run_ast_nodes\n",
      "    if (yield from self.run_code(code, result)):\n",
      "  File \"/home/wc-gpu/anaconda3/lib/python3.6/site-packages/IPython/core/interactiveshell.py\", line 3267, in run_code\n",
      "    exec(code_obj, self.user_global_ns, self.user_ns)\n",
      "  File \"<ipython-input-1-b13b0a884185>\", line 12, in <module>\n",
      "    from matplotlib import pyplot as plt\n",
      "  File \"/home/wc-gpu/anaconda3/lib/python3.6/site-packages/matplotlib/pyplot.py\", line 72, in <module>\n",
      "    from matplotlib.backends import pylab_setup\n",
      "  File \"/home/wc-gpu/anaconda3/lib/python3.6/site-packages/matplotlib/backends/__init__.py\", line 14, in <module>\n",
      "    line for line in traceback.format_stack()\n",
      "\n",
      "\n",
      "  import matplotlib; matplotlib.use('Agg')  # pylint: disable=multiple-statements\n",
      "Using TensorFlow backend.\n"
     ]
    }
   ],
   "source": [
    "import numpy as np\n",
    "import os\n",
    "import six.moves.urllib as urllib\n",
    "import sys\n",
    "import tarfile\n",
    "import tensorflow as tf\n",
    "import zipfile\n",
    "\n",
    "from distutils.version import StrictVersion\n",
    "from collections import defaultdict\n",
    "from io import StringIO\n",
    "from matplotlib import pyplot as plt\n",
    "from PIL import Image\n",
    "\n",
    "# This is needed since the notebook is stored in the object_detection folder.\n",
    "sys.path.append(\"..\")\n",
    "from object_detection.utils import ops as utils_ops\n",
    "from object_detection.builders import model_builder\n",
    "from google.protobuf import text_format\n",
    "import tensorflow as tf\n",
    "from object_detection.protos import model_pb2\n",
    "import time\n",
    "from IPython.display import clear_output\n",
    "from keras.models import load_model\n",
    "import keras.backend as K\n",
    "from math import floor, ceil\n",
    "import cv2\n",
    "import pickle as pkl\n",
    "\n",
    "if StrictVersion(tf.__version__) < StrictVersion('1.9.0'):\n",
    "  raise ImportError('Please upgrade your TensorFlow installation to v1.9.* or later!')\n"
   ]
  },
  {
   "cell_type": "markdown",
   "metadata": {
    "colab_type": "text",
    "id": "Wy72mWwAWKMK"
   },
   "source": [
    "## Env setup"
   ]
  },
  {
   "cell_type": "code",
   "execution_count": 2,
   "metadata": {
    "colab": {
     "autoexec": {
      "startup": false,
      "wait_interval": 0
     }
    },
    "colab_type": "code",
    "id": "v7m_NY_aWKMK"
   },
   "outputs": [],
   "source": [
    "# This is needed to display the images.\n",
    "%matplotlib inline"
   ]
  },
  {
   "cell_type": "markdown",
   "metadata": {
    "colab_type": "text",
    "id": "r5FNuiRPWKMN"
   },
   "source": [
    "## Object detection imports\n",
    "Here are the imports from the object detection module."
   ]
  },
  {
   "cell_type": "code",
   "execution_count": 3,
   "metadata": {
    "colab": {
     "autoexec": {
      "startup": false,
      "wait_interval": 0
     }
    },
    "colab_type": "code",
    "id": "bm0_uNRnWKMN"
   },
   "outputs": [
    {
     "name": "stderr",
     "output_type": "stream",
     "text": [
      "../utils/visualization_utils.py:26: UserWarning: \n",
      "This call to matplotlib.use() has no effect because the backend has already\n",
      "been chosen; matplotlib.use() must be called *before* pylab, matplotlib.pyplot,\n",
      "or matplotlib.backends is imported for the first time.\n",
      "\n",
      "The backend was *originally* set to 'module://ipykernel.pylab.backend_inline' by the following code:\n",
      "  File \"/home/wc-gpu/anaconda3/lib/python3.6/runpy.py\", line 193, in _run_module_as_main\n",
      "    \"__main__\", mod_spec)\n",
      "  File \"/home/wc-gpu/anaconda3/lib/python3.6/runpy.py\", line 85, in _run_code\n",
      "    exec(code, run_globals)\n",
      "  File \"/home/wc-gpu/anaconda3/lib/python3.6/site-packages/ipykernel_launcher.py\", line 16, in <module>\n",
      "    app.launch_new_instance()\n",
      "  File \"/home/wc-gpu/anaconda3/lib/python3.6/site-packages/traitlets/config/application.py\", line 658, in launch_instance\n",
      "    app.start()\n",
      "  File \"/home/wc-gpu/anaconda3/lib/python3.6/site-packages/ipykernel/kernelapp.py\", line 505, in start\n",
      "    self.io_loop.start()\n",
      "  File \"/home/wc-gpu/anaconda3/lib/python3.6/site-packages/tornado/platform/asyncio.py\", line 132, in start\n",
      "    self.asyncio_loop.run_forever()\n",
      "  File \"/home/wc-gpu/anaconda3/lib/python3.6/asyncio/base_events.py\", line 421, in run_forever\n",
      "    self._run_once()\n",
      "  File \"/home/wc-gpu/anaconda3/lib/python3.6/asyncio/base_events.py\", line 1425, in _run_once\n",
      "    handle._run()\n",
      "  File \"/home/wc-gpu/anaconda3/lib/python3.6/asyncio/events.py\", line 126, in _run\n",
      "    self._callback(*self._args)\n",
      "  File \"/home/wc-gpu/anaconda3/lib/python3.6/site-packages/tornado/ioloop.py\", line 758, in _run_callback\n",
      "    ret = callback()\n",
      "  File \"/home/wc-gpu/anaconda3/lib/python3.6/site-packages/tornado/stack_context.py\", line 300, in null_wrapper\n",
      "    return fn(*args, **kwargs)\n",
      "  File \"/home/wc-gpu/anaconda3/lib/python3.6/site-packages/tornado/gen.py\", line 1233, in inner\n",
      "    self.run()\n",
      "  File \"/home/wc-gpu/anaconda3/lib/python3.6/site-packages/tornado/gen.py\", line 1147, in run\n",
      "    yielded = self.gen.send(value)\n",
      "  File \"/home/wc-gpu/anaconda3/lib/python3.6/site-packages/ipykernel/kernelbase.py\", line 370, in dispatch_queue\n",
      "    yield self.process_one()\n",
      "  File \"/home/wc-gpu/anaconda3/lib/python3.6/site-packages/tornado/gen.py\", line 346, in wrapper\n",
      "    runner = Runner(result, future, yielded)\n",
      "  File \"/home/wc-gpu/anaconda3/lib/python3.6/site-packages/tornado/gen.py\", line 1080, in __init__\n",
      "    self.run()\n",
      "  File \"/home/wc-gpu/anaconda3/lib/python3.6/site-packages/tornado/gen.py\", line 1147, in run\n",
      "    yielded = self.gen.send(value)\n",
      "  File \"/home/wc-gpu/anaconda3/lib/python3.6/site-packages/ipykernel/kernelbase.py\", line 357, in process_one\n",
      "    yield gen.maybe_future(dispatch(*args))\n",
      "  File \"/home/wc-gpu/anaconda3/lib/python3.6/site-packages/tornado/gen.py\", line 326, in wrapper\n",
      "    yielded = next(result)\n",
      "  File \"/home/wc-gpu/anaconda3/lib/python3.6/site-packages/ipykernel/kernelbase.py\", line 267, in dispatch_shell\n",
      "    yield gen.maybe_future(handler(stream, idents, msg))\n",
      "  File \"/home/wc-gpu/anaconda3/lib/python3.6/site-packages/tornado/gen.py\", line 326, in wrapper\n",
      "    yielded = next(result)\n",
      "  File \"/home/wc-gpu/anaconda3/lib/python3.6/site-packages/ipykernel/kernelbase.py\", line 534, in execute_request\n",
      "    user_expressions, allow_stdin,\n",
      "  File \"/home/wc-gpu/anaconda3/lib/python3.6/site-packages/tornado/gen.py\", line 326, in wrapper\n",
      "    yielded = next(result)\n",
      "  File \"/home/wc-gpu/anaconda3/lib/python3.6/site-packages/ipykernel/ipkernel.py\", line 294, in do_execute\n",
      "    res = shell.run_cell(code, store_history=store_history, silent=silent)\n",
      "  File \"/home/wc-gpu/anaconda3/lib/python3.6/site-packages/ipykernel/zmqshell.py\", line 536, in run_cell\n",
      "    return super(ZMQInteractiveShell, self).run_cell(*args, **kwargs)\n",
      "  File \"/home/wc-gpu/anaconda3/lib/python3.6/site-packages/IPython/core/interactiveshell.py\", line 2819, in run_cell\n",
      "    raw_cell, store_history, silent, shell_futures)\n",
      "  File \"/home/wc-gpu/anaconda3/lib/python3.6/site-packages/IPython/core/interactiveshell.py\", line 2845, in _run_cell\n",
      "    return runner(coro)\n",
      "  File \"/home/wc-gpu/anaconda3/lib/python3.6/site-packages/IPython/core/async_helpers.py\", line 67, in _pseudo_sync_runner\n",
      "    coro.send(None)\n",
      "  File \"/home/wc-gpu/anaconda3/lib/python3.6/site-packages/IPython/core/interactiveshell.py\", line 3020, in run_cell_async\n",
      "    interactivity=interactivity, compiler=compiler, result=result)\n",
      "  File \"/home/wc-gpu/anaconda3/lib/python3.6/site-packages/IPython/core/interactiveshell.py\", line 3191, in run_ast_nodes\n",
      "    if (yield from self.run_code(code, result)):\n",
      "  File \"/home/wc-gpu/anaconda3/lib/python3.6/site-packages/IPython/core/interactiveshell.py\", line 3267, in run_code\n",
      "    exec(code_obj, self.user_global_ns, self.user_ns)\n",
      "  File \"<ipython-input-2-0f0a85121700>\", line 2, in <module>\n",
      "    get_ipython().run_line_magic('matplotlib', 'inline')\n",
      "  File \"/home/wc-gpu/anaconda3/lib/python3.6/site-packages/IPython/core/interactiveshell.py\", line 2287, in run_line_magic\n",
      "    result = fn(*args,**kwargs)\n",
      "  File \"<decorator-gen-107>\", line 2, in matplotlib\n",
      "  File \"/home/wc-gpu/anaconda3/lib/python3.6/site-packages/IPython/core/magic.py\", line 187, in <lambda>\n",
      "    call = lambda f, *a, **k: f(*a, **k)\n",
      "  File \"/home/wc-gpu/anaconda3/lib/python3.6/site-packages/IPython/core/magics/pylab.py\", line 99, in matplotlib\n",
      "    gui, backend = self.shell.enable_matplotlib(args.gui)\n",
      "  File \"/home/wc-gpu/anaconda3/lib/python3.6/site-packages/IPython/core/interactiveshell.py\", line 3355, in enable_matplotlib\n",
      "    pt.activate_matplotlib(backend)\n",
      "  File \"/home/wc-gpu/anaconda3/lib/python3.6/site-packages/IPython/core/pylabtools.py\", line 314, in activate_matplotlib\n",
      "    matplotlib.pyplot.switch_backend(backend)\n",
      "  File \"/home/wc-gpu/anaconda3/lib/python3.6/site-packages/matplotlib/pyplot.py\", line 232, in switch_backend\n",
      "    matplotlib.use(newbackend, warn=False, force=True)\n",
      "  File \"/home/wc-gpu/anaconda3/lib/python3.6/site-packages/matplotlib/__init__.py\", line 1305, in use\n",
      "    reload(sys.modules['matplotlib.backends'])\n",
      "  File \"/home/wc-gpu/anaconda3/lib/python3.6/importlib/__init__.py\", line 166, in reload\n",
      "    _bootstrap._exec(spec, module)\n",
      "  File \"/home/wc-gpu/anaconda3/lib/python3.6/site-packages/matplotlib/backends/__init__.py\", line 14, in <module>\n",
      "    line for line in traceback.format_stack()\n",
      "\n",
      "\n",
      "  import matplotlib; matplotlib.use('Agg')  # pylint: disable=multiple-statements\n"
     ]
    }
   ],
   "source": [
    "from utils import label_map_util\n",
    "\n",
    "from utils import visualization_utils as vis_util"
   ]
  },
  {
   "cell_type": "markdown",
   "metadata": {
    "colab_type": "text",
    "id": "cfn_tRFOWKMO"
   },
   "source": [
    "# Model preparation "
   ]
  },
  {
   "cell_type": "markdown",
   "metadata": {
    "colab_type": "text",
    "id": "X_sEBLpVWKMQ"
   },
   "source": [
    "## Variables\n",
    "\n",
    "Any model exported using the `export_inference_graph.py` tool can be loaded here simply by changing `PATH_TO_FROZEN_GRAPH` to point to a new .pb file.  \n",
    "\n",
    "By default we use an \"SSD with Mobilenet\" model here. See the [detection model zoo](https://github.com/tensorflow/models/blob/master/research/object_detection/g3doc/detection_model_zoo.md) for a list of other models that can be run out-of-the-box with varying speeds and accuracies."
   ]
  },
  {
   "cell_type": "code",
   "execution_count": 4,
   "metadata": {
    "colab": {
     "autoexec": {
      "startup": false,
      "wait_interval": 0
     }
    },
    "colab_type": "code",
    "id": "VyPz_t8WWKMQ"
   },
   "outputs": [],
   "source": [
    "# What model to download.\n",
    "# MODEL_NAME = '../prod_faster_rcnn_resnet50_coco_res_512x384_iou_genration'\n",
    "MODEL_NAME = '../training/keep'\n",
    "\n",
    "# MODEL_NAME = 'faster_rcnn_resnet50_coco_2018_01_28'\n",
    "# MODEL_NAME = 'faster_rcnn_inception_resnet_v2_atrous_coco_2018_01_28'\n",
    "\n",
    "MODEL_FILE = MODEL_NAME + '.tar.gz'\n",
    "DOWNLOAD_BASE = 'http://download.tensorflow.org/models/object_detection/'\n",
    "\n",
    "# Path to frozen detection graph. This is the actual model that is used for the object detection.\n",
    "PATH_TO_FROZEN_GRAPH = MODEL_NAME + '/frozen_inference_graph.pb'\n",
    "# PATH_TO_FROZEN_GRAPH = MODEL_NAME + '/saved_model.pb'\n",
    "\n",
    "# List of the strings that is used to add correct label for each box.\n",
    "PATH_TO_LABELS = os.path.join('data', 'mscoco_label_map.pbtxt')\n",
    "\n",
    "# For the sake of simplicity we will use only 2 images:\n",
    "# image1.jpg\n",
    "# image2.jpg\n",
    "# If you want to test the code with your images, just add path to the images to the TEST_IMAGE_PATHS.\n",
    "test_image_path = \"/home/wc-gpu/MasterThesis/session_data/122923_testing\"\n",
    "# test_image_path = \"/Users/mbaltac/Home/MasterThesis/MasterThesis/labeled_images_shopping_sessions/labeled/122923_testing\"\n",
    "TEST_IMAGE_PATHS = sorted([os.path.join(test_image_path, f) for f in os.listdir(test_image_path) if f.endswith(\"jpg\")])\n",
    "\n",
    "\n",
    "# TEST_IMAGE_PATHS = [TEST_IMAGE_PATHS[0], TEST_IMAGE_PATHS[0]]\n",
    "\n",
    "\n",
    "# Size, in inches, of the output images.\n",
    "IMAGE_SIZE = (18, 12)\n",
    "\n",
    "SESSIONS_PATH = \"/home/wc-gpu/storage4tb/session_data_thesis/sessions160000_165000\""
   ]
  },
  {
   "cell_type": "markdown",
   "metadata": {
    "colab_type": "text",
    "id": "7ai8pLZZWKMS"
   },
   "source": [
    "## Download Model"
   ]
  },
  {
   "cell_type": "code",
   "execution_count": 5,
   "metadata": {
    "colab": {
     "autoexec": {
      "startup": false,
      "wait_interval": 0
     }
    },
    "colab_type": "code",
    "id": "KILYnwR5WKMS"
   },
   "outputs": [],
   "source": [
    "# opener = urllib.request.URLopener()\n",
    "# opener.retrieve(DOWNLOAD_BASE + MODEL_FILE, MODEL_FILE)\n",
    "# tar_file = tarfile.open(MODEL_FILE)\n",
    "# for file in tar_file.getmembers():\n",
    "#   file_name = os.path.basename(file.name)\n",
    "#   if 'frozen_inference_graph.pb' in file_name:\n",
    "#     tar_file.extract(file, os.getcwd())"
   ]
  },
  {
   "cell_type": "markdown",
   "metadata": {
    "colab_type": "text",
    "id": "YBcB9QHLWKMU"
   },
   "source": [
    "## Load a (frozen) Tensorflow model into memory."
   ]
  },
  {
   "cell_type": "code",
   "execution_count": 6,
   "metadata": {},
   "outputs": [],
   "source": [
    "# with tf.Graph().as_default():\n",
    "#   od_graph_def = tf.GraphDef()\n",
    "#   with tf.gfile.GFile(PATH_TO_FROZEN_GRAPH, 'rb') as fid:\n",
    "#     serialized_graph = fid.read()\n",
    "#     od_graph_def.ParseFromString(serialized_graph)\n",
    "#     tf.import_graph_def(od_graph_def, name='')"
   ]
  },
  {
   "cell_type": "markdown",
   "metadata": {
    "colab_type": "text",
    "id": "_1MVVTcLWKMW"
   },
   "source": [
    "## Loading label map\n",
    "Label maps map indices to category names, so that when our convolution network predicts `5`, we know that this corresponds to `airplane`.  Here we use internal utility functions, but anything that returns a dictionary mapping integers to appropriate string labels would be fine"
   ]
  },
  {
   "cell_type": "code",
   "execution_count": 7,
   "metadata": {
    "colab": {
     "autoexec": {
      "startup": false,
      "wait_interval": 0
     }
    },
    "colab_type": "code",
    "id": "hDbpHkiWWKMX"
   },
   "outputs": [],
   "source": [
    "# category_index = label_map_util.create_category_index_from_labelmap(PATH_TO_LABELS, use_display_name=True)"
   ]
  },
  {
   "cell_type": "code",
   "execution_count": 8,
   "metadata": {},
   "outputs": [],
   "source": [
    "category_index = {1: {'id': 1, 'name': 'product'},\n",
    " 2: {'id': 2, 'name': 'add'},\n",
    " 3: {'id': 3, 'name': 'remove'},\n",
    " 4: {'id': 4, 'name': 'move_from'},\n",
    " 5: {'id': 5, 'name': 'move_to'}}"
   ]
  },
  {
   "cell_type": "code",
   "execution_count": null,
   "metadata": {},
   "outputs": [],
   "source": []
  },
  {
   "cell_type": "markdown",
   "metadata": {
    "colab_type": "text",
    "id": "EFsoUHvbWKMZ"
   },
   "source": [
    "## Helper code"
   ]
  },
  {
   "cell_type": "code",
   "execution_count": 9,
   "metadata": {
    "colab": {
     "autoexec": {
      "startup": false,
      "wait_interval": 0
     }
    },
    "colab_type": "code",
    "id": "aSlYc3JkWKMa"
   },
   "outputs": [],
   "source": [
    "def load_image_into_numpy_array(image):\n",
    "  (im_width, im_height) = image.size\n",
    "  return np.array(image.getdata()).reshape(\n",
    "      (im_height, im_width, 3)).astype(np.uint8)"
   ]
  },
  {
   "cell_type": "markdown",
   "metadata": {
    "colab_type": "text",
    "id": "H0_1AGhrWKMc"
   },
   "source": [
    "# Detection"
   ]
  },
  {
   "cell_type": "code",
   "execution_count": 10,
   "metadata": {},
   "outputs": [],
   "source": [
    "def max_pool_dynamic_input(x, H_out, W_out):\n",
    "    out = None\n",
    "    (N, H, W, C) = x.shape\n",
    "    pool_height = np.zeros((H_out), dtype=\"int32\")\n",
    "    pool_width = np.zeros((W_out), dtype=\"int32\")\n",
    "    \n",
    "    div_h = int(H/H_out)\n",
    "    mod_h = H%H_out\n",
    "    div_w = int(W/W_out)\n",
    "    mod_w = W%W_out\n",
    "    pool_height = pool_height + div_h\n",
    "    pool_width = pool_width + div_w\n",
    "    pool_height[:mod_h] += 1\n",
    "    pool_width[:mod_w] += 1\n",
    "    \n",
    "    out = np.zeros((N, H_out, W_out, C))\n",
    "    for n in range(N):\n",
    "        for h in range(H_out):\n",
    "            for w in range(W_out):\n",
    "                h1 = sum(pool_height[:h])\n",
    "                h2 = h1 + pool_height[h]\n",
    "                w1 = sum(pool_width[:w])\n",
    "                w2 = w1 + pool_width[w]\n",
    "                window = x[n, h1:h2, w1:w2, :]\n",
    "                m = np.max(window, axis=0)\n",
    "                m = np.max(m, axis=0)\n",
    "                out[n,h,w,:] = m\n",
    "    \n",
    "    return out\n",
    "\n",
    "\n",
    "def get_max_and_concat(*args):\n",
    "    size = 0\n",
    "    for arg in args:\n",
    "        size += arg.shape[-1]\n",
    "    final = np.zeros(size)\n",
    "    \n",
    "    arg_size = 0\n",
    "    \n",
    "    i = 0\n",
    "    for arg in args:\n",
    "        max_pool = max_pool_dynamic_input(np.expand_dims(arg, 0), 1, 1)[0,0,0,:]\n",
    "        final[i: arg.shape[-1]+i] = max_pool\n",
    "        i+= arg.shape[-1]  \n",
    "    return final\n",
    "\n",
    "def get_max_and_concat2(*args):\n",
    "    size = 0\n",
    "    for arg in args:\n",
    "        size += arg.shape[-1]\n",
    "    final = np.zeros(size)\n",
    "    \n",
    "    arg_size = 0\n",
    "\n",
    "    for arg in args:\n",
    "        for i in range(arg.shape[-1]):\n",
    "            final[i+arg_size] = np.max(arg[:,:,i])\n",
    "        arg_size += arg.shape[-1]\n",
    "    \n",
    "#     mn = np.mean(final)\n",
    "#     std = np.std(final)\n",
    "#     final = (final - mn)/std\n",
    "\n",
    "    return final\n",
    "\n",
    "def max_pooled(previous_features, features, label):\n",
    "    box_prev = previous_features[\n",
    "        floor(label[0]*previous_features.shape[0]):\n",
    "        ceil(label[2]*previous_features.shape[0]), \n",
    "        floor(label[1]*previous_features.shape[1]):\n",
    "        ceil(label[3]*previous_features.shape[1]),:]\n",
    "    box_cur = features[\n",
    "        floor(label[0]*features.shape[0]):\n",
    "        ceil(label[2]*features.shape[0]), \n",
    "        floor(label[1]*features.shape[1]):\n",
    "        ceil(label[3]*features.shape[1]),:]\n",
    "\n",
    "    return get_max_and_concat(box_prev, previous_features, box_cur, features)"
   ]
  },
  {
   "cell_type": "code",
   "execution_count": 11,
   "metadata": {},
   "outputs": [],
   "source": [
    "def get_iou(bb1, bb2):\n",
    "    \"\"\"\n",
    "    Calculate the Intersection over Union (IoU) of two bounding boxes.\n",
    "\n",
    "    \"\"\"\n",
    "\n",
    "    b1y1, b1x1, b1y2, b1x2 = bb1\n",
    "    b2y1, b2x1, b2y2, b2x2 = bb2\n",
    "\n",
    "    b1y1, b1x1, b1y2, b1x2 = b1y1, b1x1, b1y1+b1y2, b1x1+b1x2\n",
    "    b2y1, b2x1, b2y2, b2x2 = b2y1, b2x1, b2y1+b2y2, b2x1+b2x2\n",
    "\n",
    "    b1y1, b1x1, b1y2, b1x2 = b1x1, b1y1, b1x2, b1y2\n",
    "    b2y1, b2x1, b2y2, b2x2 = b2x1, b2y1, b2x2, b2y2\n",
    "    \n",
    "    # determine the coordinates of the intersection rectangle\n",
    "    x_left = max(b1x1, b2x1)\n",
    "    y_top = max(b1y1, b2y1)\n",
    "    x_right = min(b1x2, b2x2)\n",
    "    y_bottom = min(b1y2, b2y2)\n",
    "\n",
    "    if x_right < x_left or y_bottom < y_top:\n",
    "        return 0.0\n",
    "\n",
    "    # The intersection of two axis-aligned bounding boxes is always an\n",
    "    # axis-aligned bounding box\n",
    "    intersection_area = (x_right - x_left) * (y_bottom - y_top)\n",
    "\n",
    "    # compute the area of both AABBs\n",
    "    bb1_area = (b1x2 - b1x1) * (b1y2 - b1y1)\n",
    "    bb2_area = (b2x2 - b2x1) * (b2y2 - b2y1)\n",
    "\n",
    "    # compute the intersection over union by taking the intersection\n",
    "    # area and dividing it by the sum of prediction + ground-truth\n",
    "    # areas - the interesection area\n",
    "    iou = intersection_area / float(bb1_area + bb2_area - intersection_area)\n",
    "    assert iou > 0.0\n",
    "    assert iou < 1.0\n",
    "    return iou\n",
    "\n",
    "\n",
    "def filter_detections(out_boxes, out_scores, iou_tresh = .5, score_tresh = 0.3):\n",
    "    fboxes, fscores, fclasses = [], [], []\n",
    "    removed = set()\n",
    "    \n",
    "    filter_score = np.where(out_scores > score_tresh)\n",
    "    print (filter_score)\n",
    "    \n",
    "    for i, b in reversed(list(enumerate(out_boxes))):\n",
    "        if i not in removed:\n",
    "            max_score = out_scores[i]\n",
    "            max_idx = i\n",
    "            for j in range(i+1, len(out_boxes)):\n",
    "                if j not in removed and get_iou(b, out_boxes[j]) > .65:\n",
    "                    if out_scores[j] > max_score:\n",
    "                        removed.add(max_idx)\n",
    "                        max_idx = j\n",
    "                        max_score = out_scores[j]\n",
    "                    else:\n",
    "                        removed.add(j)\n",
    "\n",
    "    for i in range(len(out_boxes)):\n",
    "        if i not in removed:\n",
    "            fboxes.append(out_boxes[i])\n",
    "            fscores.append(out_scores[i])\n",
    "            fclasses.append(out_classes[i])\n",
    "\n",
    "    return fboxes, fscores, fclasses"
   ]
  },
  {
   "cell_type": "code",
   "execution_count": 12,
   "metadata": {},
   "outputs": [],
   "source": [
    "tf_config = tf.ConfigProto()\n",
    "tf_config.gpu_options.per_process_gpu_memory_fraction = 0.9"
   ]
  },
  {
   "cell_type": "code",
   "execution_count": 13,
   "metadata": {},
   "outputs": [],
   "source": [
    "def batch_gen(l, n):\n",
    "    \"\"\"Yield successive n-sized chunks from l.\"\"\"\n",
    "    for i in range(0, len(l), n):\n",
    "        yield l[i: min(i + n, len(l))]\n",
    "        \n",
    "def run_inference_for_batch(images, batch = 16):\n",
    "    with tf.Session(config=tf_config) as sess:\n",
    "#         batches = batch_gen(images, batch)\n",
    "      # Get handles to input and output tensors\n",
    "        ops = tf.get_default_graph().get_operations()\n",
    "        all_tensor_names = {output.name for op in ops for output in op.outputs}\n",
    "        tensor_dict = {}\n",
    "        for key in [\n",
    "          'num_detections', 'detection_boxes', 'detection_scores',\n",
    "          'detection_classes', 'detection_masks'\n",
    "        ]:\n",
    "            tensor_name = key + ':0'\n",
    "            if tensor_name in all_tensor_names:\n",
    "                tensor_dict[key] = tf.get_default_graph().get_tensor_by_name(\n",
    "                  tensor_name)\n",
    "        features = tf.get_default_graph().get_tensor_by_name(\n",
    "            'FirstStageFeatureExtractor/resnet_v1_50/resnet_v1_50/block3/unit_6/bottleneck_v1/Relu:0')\n",
    "\n",
    "        tensor_dict['features'] = tf.expand_dims(features, 0)\n",
    "        \n",
    "        image_tensor = tf.get_default_graph().get_tensor_by_name('image_tensor:0')\n",
    "        \n",
    "        # Run inference\n",
    "        output_dict = sess.run(tensor_dict, \n",
    "                             feed_dict={image_tensor: images})\n",
    "\n",
    "        # all outputs are float32 numpy arrays, so convert types as appropriate\n",
    "        output_dict['num_detections'] = output_dict['num_detections'].astype(np.uint8)\n",
    "        output_dict['detection_classes'] = output_dict[\n",
    "          'detection_classes'].astype(np.uint8)\n",
    "        output_dict['detection_boxes'] = output_dict['detection_boxes']\n",
    "        output_dict['detection_scores'] = output_dict['detection_scores']\n",
    "        output_dict['features'] = output_dict['features'][0]\n",
    "\n",
    "        return output_dict"
   ]
  },
  {
   "cell_type": "code",
   "execution_count": 20,
   "metadata": {},
   "outputs": [],
   "source": [
    "def read_images(session_path):\n",
    "    image_paths = sorted([f for f in os.listdir(session_path) if f.endswith(\".jpg\")])\n",
    "    prev_features = None\n",
    "    \n",
    "    \n",
    "    images = []\n",
    "    for image_fname in image_paths:\n",
    "        t0 = time.time()\n",
    "        image_path = os.path.join(session_path, image_fname)\n",
    "\n",
    "        image = Image.open(image_path)\n",
    "        image_np = load_image_into_numpy_array(image)\n",
    "        images.append(image_np)\n",
    "        print (\"reading images\", str(len(images)/len(image_paths))[:5], end=\"\\r\")\n",
    "    \n",
    "    return images, image_paths\n",
    "\n",
    "\n",
    "def process_images_batch(images, batch_size = 16, total_images=None):\n",
    "    progress = 0\n",
    "    processed = 0\n",
    "    time_avg = 0\n",
    "\n",
    "    outputs = []\n",
    "    total_images = len(images)\n",
    "\n",
    "    total_time = 0\n",
    "    box_predictions = []\n",
    "    tf.reset_default_graph()\n",
    "    with tf.Graph().as_default():\n",
    "        od_graph_def = tf.GraphDef()\n",
    "        with tf.gfile.GFile(PATH_TO_FROZEN_GRAPH, 'rb') as fid:\n",
    "            serialized_graph = fid.read()\n",
    "            od_graph_def.ParseFromString(serialized_graph)\n",
    "            tf.import_graph_def(od_graph_def, name='')\n",
    "\n",
    "        image_batch = batch_gen(images, batch_size)\n",
    "        for img_b in image_batch:\n",
    "            t0 = time.time()\n",
    "            output_dict = run_inference_for_batch(img_b, batch_size)\n",
    "            outputs.append(output_dict)\n",
    "\n",
    "            progress += 1\n",
    "            processed += 1\n",
    "            t1 = time.time()\n",
    "\n",
    "            total = t1-t0\n",
    "\n",
    "            time_avg = (total_time + total) / processed\n",
    "\n",
    "            total_time += total\n",
    "\n",
    "            log_text = \" \".join([\"progress \", \":\", str(progress / total_images*batch_size), \n",
    "                                 str(progress), str(total_images)])\n",
    "            log_text += \" | \"\n",
    "\n",
    "            log_text += \"\".join([\"process time \", str(total)])\n",
    "            log_text += \" | \"\n",
    "            log_text += \"\".join([\" time passed: \", str(time_avg*processed) ,\" s, remaining: \", str(time_avg* (total_images/batch_size - progress) ), \" s\"])\n",
    "        \n",
    "\n",
    "            print (log_text, end=\"                                       \\r\")\n",
    "\n",
    "    return outputs\n",
    "    \n",
    "def process_session_get_outputs(session_path, batch_size=16, total_images=None):\n",
    "    output_splitted = []\n",
    "    images, image_paths = read_images(session_path)\n",
    "    outputs_batch  = process_images_batch(images, total_images=None)\n",
    "    \n",
    "    i=0\n",
    "    for big_dict in outputs_batch:\n",
    "        for j in range(len(big_dict[\"num_detections\"])):\n",
    "            output_dict = {}\n",
    "            for k in big_dict.keys():\n",
    "                output_dict[k] = big_dict[k][j]\n",
    "            output_dict[\"image_path\"] = image_paths[i*batch_size + j]\n",
    "            output_dict[\"image_np\"] = images[i*batch_size + j]\n",
    "            output_splitted.append(output_dict)\n",
    "        i += 1\n",
    "    \n",
    "    return output_splitted, images, image_paths"
   ]
  },
  {
   "cell_type": "code",
   "execution_count": 15,
   "metadata": {},
   "outputs": [],
   "source": [
    "out_path = \"/home/wc-gpu/storage4tb/session_data_thesis/sessions160000_165000/processed_sessions\""
   ]
  },
  {
   "cell_type": "code",
   "execution_count": 16,
   "metadata": {},
   "outputs": [],
   "source": [
    "visualize_debug = False\n",
    "\n",
    "features = None\n",
    "total_images = 0\n",
    "sessions = os.listdir(SESSIONS_PATH)\n",
    "actual_sessions = []\n",
    "\n",
    "for session in sorted(sessions, reverse=True):\n",
    "    try:\n",
    "        a = int(session)\n",
    "        session_path = os.path.join(SESSIONS_PATH, session)\n",
    "        total_images += len([f for f in os.listdir(session_path) if f.endswith(\".jpg\")])\n",
    "        actual_sessions.append(session)\n",
    "    except:\n",
    "        continue\n"
   ]
  },
  {
   "cell_type": "code",
   "execution_count": null,
   "metadata": {},
   "outputs": [],
   "source": []
  },
  {
   "cell_type": "code",
   "execution_count": 19,
   "metadata": {},
   "outputs": [
    {
     "name": "stdout",
     "output_type": "stream",
     "text": [
      "164413 0.0\n",
      "164398 0.0020s 1.081\n",
      "reading images 0.821\r"
     ]
    },
    {
     "ename": "KeyboardInterrupt",
     "evalue": "",
     "output_type": "error",
     "traceback": [
      "\u001b[0;31m---------------------------------------------------------------------------\u001b[0m",
      "\u001b[0;31mKeyboardInterrupt\u001b[0m                         Traceback (most recent call last)",
      "\u001b[0;32m<ipython-input-19-7878c2a40120>\u001b[0m in \u001b[0;36m<module>\u001b[0;34m\u001b[0m\n\u001b[1;32m     10\u001b[0m         \u001b[0msession_output_path\u001b[0m \u001b[0;34m=\u001b[0m \u001b[0mos\u001b[0m\u001b[0;34m.\u001b[0m\u001b[0mpath\u001b[0m\u001b[0;34m.\u001b[0m\u001b[0mjoin\u001b[0m\u001b[0;34m(\u001b[0m\u001b[0mout_path\u001b[0m\u001b[0;34m,\u001b[0m \u001b[0msession\u001b[0m\u001b[0;34m)\u001b[0m\u001b[0;34m\u001b[0m\u001b[0m\n\u001b[1;32m     11\u001b[0m         \u001b[0;32mif\u001b[0m \u001b[0;32mnot\u001b[0m \u001b[0mos\u001b[0m\u001b[0;34m.\u001b[0m\u001b[0mpath\u001b[0m\u001b[0;34m.\u001b[0m\u001b[0mexists\u001b[0m\u001b[0;34m(\u001b[0m\u001b[0msession_output_path\u001b[0m\u001b[0;34m)\u001b[0m\u001b[0;34m:\u001b[0m\u001b[0;34m\u001b[0m\u001b[0m\n\u001b[0;32m---> 12\u001b[0;31m             \u001b[0moutputs\u001b[0m \u001b[0;34m=\u001b[0m \u001b[0mprocess_session_get_outputs\u001b[0m\u001b[0;34m(\u001b[0m\u001b[0msession_path\u001b[0m\u001b[0;34m)\u001b[0m\u001b[0;34m\u001b[0m\u001b[0m\n\u001b[0m\u001b[1;32m     13\u001b[0m             \u001b[0;32mwith\u001b[0m \u001b[0mopen\u001b[0m\u001b[0;34m(\u001b[0m\u001b[0msession_output_path\u001b[0m\u001b[0;34m,\u001b[0m \u001b[0;34m\"wb\"\u001b[0m\u001b[0;34m)\u001b[0m \u001b[0;32mas\u001b[0m \u001b[0mf\u001b[0m\u001b[0;34m:\u001b[0m\u001b[0;34m\u001b[0m\u001b[0m\n\u001b[1;32m     14\u001b[0m                 \u001b[0mpkl\u001b[0m\u001b[0;34m.\u001b[0m\u001b[0mdump\u001b[0m\u001b[0;34m(\u001b[0m\u001b[0moutputs\u001b[0m\u001b[0;34m,\u001b[0m \u001b[0mf\u001b[0m\u001b[0;34m)\u001b[0m\u001b[0;34m\u001b[0m\u001b[0m\n",
      "\u001b[0;32m<ipython-input-14-da8fbf1747a2>\u001b[0m in \u001b[0;36mprocess_session_get_outputs\u001b[0;34m(session_path, batch_size, total_images)\u001b[0m\n\u001b[1;32m     66\u001b[0m \u001b[0;32mdef\u001b[0m \u001b[0mprocess_session_get_outputs\u001b[0m\u001b[0;34m(\u001b[0m\u001b[0msession_path\u001b[0m\u001b[0;34m,\u001b[0m \u001b[0mbatch_size\u001b[0m\u001b[0;34m=\u001b[0m\u001b[0;36m16\u001b[0m\u001b[0;34m,\u001b[0m \u001b[0mtotal_images\u001b[0m\u001b[0;34m=\u001b[0m\u001b[0;32mNone\u001b[0m\u001b[0;34m)\u001b[0m\u001b[0;34m:\u001b[0m\u001b[0;34m\u001b[0m\u001b[0m\n\u001b[1;32m     67\u001b[0m     \u001b[0moutput_splitted\u001b[0m \u001b[0;34m=\u001b[0m \u001b[0;34m[\u001b[0m\u001b[0;34m]\u001b[0m\u001b[0;34m\u001b[0m\u001b[0m\n\u001b[0;32m---> 68\u001b[0;31m     \u001b[0mimages\u001b[0m\u001b[0;34m,\u001b[0m \u001b[0mimage_paths\u001b[0m \u001b[0;34m=\u001b[0m \u001b[0mread_images\u001b[0m\u001b[0;34m(\u001b[0m\u001b[0msession_path\u001b[0m\u001b[0;34m)\u001b[0m\u001b[0;34m\u001b[0m\u001b[0m\n\u001b[0m\u001b[1;32m     69\u001b[0m     \u001b[0moutputs_batch\u001b[0m  \u001b[0;34m=\u001b[0m \u001b[0mprocess_images_batch\u001b[0m\u001b[0;34m(\u001b[0m\u001b[0mimages\u001b[0m\u001b[0;34m,\u001b[0m \u001b[0mtotal_images\u001b[0m\u001b[0;34m=\u001b[0m\u001b[0;32mNone\u001b[0m\u001b[0;34m)\u001b[0m\u001b[0;34m\u001b[0m\u001b[0m\n\u001b[1;32m     70\u001b[0m \u001b[0;34m\u001b[0m\u001b[0m\n",
      "\u001b[0;32m<ipython-input-14-da8fbf1747a2>\u001b[0m in \u001b[0;36mread_images\u001b[0;34m(session_path)\u001b[0m\n\u001b[1;32m     10\u001b[0m \u001b[0;34m\u001b[0m\u001b[0m\n\u001b[1;32m     11\u001b[0m         \u001b[0mimage\u001b[0m \u001b[0;34m=\u001b[0m \u001b[0mImage\u001b[0m\u001b[0;34m.\u001b[0m\u001b[0mopen\u001b[0m\u001b[0;34m(\u001b[0m\u001b[0mimage_path\u001b[0m\u001b[0;34m)\u001b[0m\u001b[0;34m\u001b[0m\u001b[0m\n\u001b[0;32m---> 12\u001b[0;31m         \u001b[0mimage_np\u001b[0m \u001b[0;34m=\u001b[0m \u001b[0mload_image_into_numpy_array\u001b[0m\u001b[0;34m(\u001b[0m\u001b[0mimage\u001b[0m\u001b[0;34m)\u001b[0m\u001b[0;34m\u001b[0m\u001b[0m\n\u001b[0m\u001b[1;32m     13\u001b[0m         \u001b[0mimages\u001b[0m\u001b[0;34m.\u001b[0m\u001b[0mappend\u001b[0m\u001b[0;34m(\u001b[0m\u001b[0mimage_np\u001b[0m\u001b[0;34m)\u001b[0m\u001b[0;34m\u001b[0m\u001b[0m\n\u001b[1;32m     14\u001b[0m         \u001b[0mprint\u001b[0m \u001b[0;34m(\u001b[0m\u001b[0;34m\"reading images\"\u001b[0m\u001b[0;34m,\u001b[0m \u001b[0mstr\u001b[0m\u001b[0;34m(\u001b[0m\u001b[0mlen\u001b[0m\u001b[0;34m(\u001b[0m\u001b[0mimages\u001b[0m\u001b[0;34m)\u001b[0m\u001b[0;34m/\u001b[0m\u001b[0mlen\u001b[0m\u001b[0;34m(\u001b[0m\u001b[0mimage_paths\u001b[0m\u001b[0;34m)\u001b[0m\u001b[0;34m)\u001b[0m\u001b[0;34m[\u001b[0m\u001b[0;34m:\u001b[0m\u001b[0;36m5\u001b[0m\u001b[0;34m]\u001b[0m\u001b[0;34m,\u001b[0m \u001b[0mend\u001b[0m\u001b[0;34m=\u001b[0m\u001b[0;34m\"\\r\"\u001b[0m\u001b[0;34m)\u001b[0m\u001b[0;34m\u001b[0m\u001b[0m\n",
      "\u001b[0;32m<ipython-input-9-af094dcdd84a>\u001b[0m in \u001b[0;36mload_image_into_numpy_array\u001b[0;34m(image)\u001b[0m\n\u001b[1;32m      1\u001b[0m \u001b[0;32mdef\u001b[0m \u001b[0mload_image_into_numpy_array\u001b[0m\u001b[0;34m(\u001b[0m\u001b[0mimage\u001b[0m\u001b[0;34m)\u001b[0m\u001b[0;34m:\u001b[0m\u001b[0;34m\u001b[0m\u001b[0m\n\u001b[1;32m      2\u001b[0m   \u001b[0;34m(\u001b[0m\u001b[0mim_width\u001b[0m\u001b[0;34m,\u001b[0m \u001b[0mim_height\u001b[0m\u001b[0;34m)\u001b[0m \u001b[0;34m=\u001b[0m \u001b[0mimage\u001b[0m\u001b[0;34m.\u001b[0m\u001b[0msize\u001b[0m\u001b[0;34m\u001b[0m\u001b[0m\n\u001b[0;32m----> 3\u001b[0;31m   return np.array(image.getdata()).reshape(\n\u001b[0m\u001b[1;32m      4\u001b[0m       (im_height, im_width, 3)).astype(np.uint8)\n",
      "\u001b[0;31mKeyboardInterrupt\u001b[0m: "
     ]
    }
   ],
   "source": [
    "outputs = []\n",
    "count = 0\n",
    "log= open(\"feature_extraction_new.log\",\"w+\")\n",
    "for session in sorted(actual_sessions, reverse=True):\n",
    "    session_path = os.path.join(SESSIONS_PATH, session)\n",
    "    images = [f for f in os.listdir(session_path) if f.endswith(\".jpg\")]\n",
    "    print(session, str(count/len(actual_sessions))[:6], \"                                        \")   \n",
    "    count += 1\n",
    "    try:\n",
    "        session_output_path = os.path.join(out_path, session)\n",
    "        if not os.path.exists(session_output_path):\n",
    "            outputs = process_session_get_outputs(session_path)\n",
    "            with open(session_output_path, \"wb\") as f:\n",
    "                pkl.dump(outputs, f)\n",
    "    except Exception as ex:\n",
    "        print (\"IMAGE \", image_fname)\n",
    "        print (str(ex))"
   ]
  },
  {
   "cell_type": "code",
   "execution_count": null,
   "metadata": {},
   "outputs": [],
   "source": []
  },
  {
   "cell_type": "code",
   "execution_count": null,
   "metadata": {},
   "outputs": [],
   "source": []
  },
  {
   "cell_type": "code",
   "execution_count": null,
   "metadata": {},
   "outputs": [],
   "source": []
  },
  {
   "cell_type": "code",
   "execution_count": null,
   "metadata": {},
   "outputs": [],
   "source": []
  },
  {
   "cell_type": "code",
   "execution_count": null,
   "metadata": {},
   "outputs": [],
   "source": []
  },
  {
   "cell_type": "code",
   "execution_count": null,
   "metadata": {},
   "outputs": [],
   "source": []
  },
  {
   "cell_type": "code",
   "execution_count": null,
   "metadata": {},
   "outputs": [],
   "source": [
    "score_tresh = .6"
   ]
  },
  {
   "cell_type": "code",
   "execution_count": null,
   "metadata": {},
   "outputs": [],
   "source": [
    "def filter_scores(output_dict):\n",
    "    filter_scores_idx = np.where(output_dict['detection_scores'] > score_tresh)[0]\n",
    "    for k in output_dict.keys():\n",
    "        try:\n",
    "            output_dict[k] = output_dict[k][filter_scores_idx]\n",
    "        except:\n",
    "            continue"
   ]
  },
  {
   "cell_type": "code",
   "execution_count": null,
   "metadata": {},
   "outputs": [],
   "source": [
    "output_dict[\"image_np\"] = image_np\n",
    "output_dict[\"detection_scores\"] = np.random.uniform(low=0.7, high=1, size=output_dict[\"detection_scores\"].shape)\n",
    "print (output_dict[\"detection_scores\"])\n"
   ]
  },
  {
   "cell_type": "code",
   "execution_count": null,
   "metadata": {},
   "outputs": [],
   "source": []
  },
  {
   "cell_type": "code",
   "execution_count": null,
   "metadata": {
    "scrolled": true
   },
   "outputs": [],
   "source": [
    "from IPython.display import display, clear_output\n",
    "clear_output(wait=True)\n",
    "\n",
    "i=0\n",
    "for output_dict in output_splitted:\n",
    "    not_same = np.where(output_dict[\"detection_classes\"] > 0)\n",
    "    image_np = output_dict[\"image_np\"]\n",
    "    image_np_out = np.copy(image_np)\n",
    "    vis_util.visualize_boxes_and_labels_on_image_array(\n",
    "          image_np_out,\n",
    "          output_dict['detection_boxes'][not_same],\n",
    "          output_dict[\"detection_classes\"][not_same],\n",
    "          output_dict['detection_scores'][not_same],\n",
    "          category_index,\n",
    "          use_normalized_coordinates=True,\n",
    "          line_thickness=5,\n",
    "          min_score_thresh=.5)\n",
    "    plt.figure(figsize=IMAGE_SIZE)\n",
    "    plt.imshow(image_np_out)\n"
   ]
  },
  {
   "cell_type": "code",
   "execution_count": null,
   "metadata": {},
   "outputs": [],
   "source": [
    "norm_image = lambda image: cv2.normalize(image, None, alpha=0, beta=1, norm_type=cv2.NORM_MINMAX, dtype=cv2.CV_32F)\n"
   ]
  },
  {
   "cell_type": "code",
   "execution_count": null,
   "metadata": {
    "scrolled": false
   },
   "outputs": [],
   "source": [
    "prev = None\n",
    "for output_dict in output_splitted:\n",
    "    image = output_dict[\"image_np\"]\n",
    "    if prev is not None:\n",
    "        dif = norm_image(image)-norm_image(prev)\n",
    "        plt.figure(figsize=IMAGE_SIZE)\n",
    "        plt.imshow(norm_image(dif))\n",
    "    prev = image"
   ]
  },
  {
   "cell_type": "code",
   "execution_count": null,
   "metadata": {},
   "outputs": [],
   "source": [
    "# len(output_splitted)"
   ]
  },
  {
   "cell_type": "code",
   "execution_count": null,
   "metadata": {
    "scrolled": true
   },
   "outputs": [],
   "source": [
    "# ker_model = load_model(\n",
    "#     \"/home/wc-gpu/MasterThesis/models/research/object_detection/box_classification_checkpoint/keep/2019-03-26weights-epoch59-val_acc0.84-val_loss1.08_add_1prev_sessions.hdf5\")"
   ]
  },
  {
   "cell_type": "code",
   "execution_count": null,
   "metadata": {},
   "outputs": [],
   "source": [
    "# mn, std = np.load(\"./mn_std.pkl\")"
   ]
  },
  {
   "cell_type": "code",
   "execution_count": null,
   "metadata": {},
   "outputs": [],
   "source": [
    "# def cos(vA, vB):\n",
    "#     return np.dot(vA, vB) / (np.sqrt(np.dot(vA,vA)) * np.sqrt(np.dot(vB,vB)))"
   ]
  },
  {
   "cell_type": "code",
   "execution_count": null,
   "metadata": {},
   "outputs": [],
   "source": [
    "# def sift    \n",
    "#     sift = cv2.xfeatures2d.SIFT_create()\n",
    "#     kp_1, desc_1 = sift.detectAndCompute(original, None)\n",
    "#     kp_2, desc_2 = sift.detectAndCompute(image_to_compare, None)\n",
    "#     index_params = dict(algorithm=0, trees=5)\n",
    "#     search_params = dict()\n",
    "#     flann = cv2.FlannBasedMatcher(index_params, search_params)\n",
    "#     matches = flann.knnMatch(desc_1, desc_2, k=2)\n",
    "#     good_points = []\n",
    "#     for m, n in matches:\n",
    "#         if m.distance < 0.6*n.distance:\n",
    "#             good_points.append(m)\n",
    "#     # Define how similar they are\n",
    "#     number_keypoints = 0\n",
    "#     if len(kp_1) <= len(kp_2):\n",
    "#         number_keypoints = len(kp_1)\n",
    "#     else:\n",
    "#         number_keypoints = len(kp_2)\n"
   ]
  },
  {
   "cell_type": "code",
   "execution_count": null,
   "metadata": {},
   "outputs": [],
   "source": [
    "# prev_features = []\n",
    "# for output_dict in output_splitted:\n",
    "#     print \n",
    "#     if len(prev_features):\n",
    "#         box_features = []\n",
    "#         for b in output_dict['detection_boxes']:\n",
    "# #             print(prev_features.shape, output_dict['features'].shape, b)\n",
    "#             box_features.append(max_pooled(prev_features,  output_dict['features'], b))\n",
    "\n",
    "#         if len(box_features):\n",
    "#             box_features = np.array(box_features)\n",
    "\n",
    "#             box_features = (box_features - mn)/std\n",
    "# #             box_prediction = ker_model.predict(box_features)\n",
    "#             box_prediction = np.zeros(len(box_features))\n",
    "            \n",
    "#             for i in range(len(box_features)):\n",
    "#                 box_prediction[i] = np.sum(np.absolute(box_features[i][:2048] - box_features[i][2048:]))\n",
    "                \n",
    "#         #                 classes = np.argmax(box_prediction, 1)\n",
    "#         #                 scores = []\n",
    "#         #                 for i, s in enumerate(box_prediction):\n",
    "#         #                     scores.append(s[classes[i]])                \n",
    "#         #                 scores = np.array(scores)\n",
    "#             output_dict['detection_scores'] *= box_prediction.flatten()\n",
    "#         #                 output_dict['detection_classes'] = classes + 1\n",
    "\n",
    "#     prev_features = output_dict['features']"
   ]
  },
  {
   "cell_type": "code",
   "execution_count": null,
   "metadata": {},
   "outputs": [],
   "source": []
  },
  {
   "cell_type": "code",
   "execution_count": null,
   "metadata": {},
   "outputs": [],
   "source": []
  }
 ],
 "metadata": {
  "colab": {
   "default_view": {},
   "name": "object_detection_tutorial.ipynb?workspaceId=ronnyvotel:python_inference::citc",
   "provenance": [],
   "version": "0.3.2",
   "views": {}
  },
  "kernelspec": {
   "display_name": "Python 3",
   "language": "python",
   "name": "python3"
  },
  "language_info": {
   "codemirror_mode": {
    "name": "ipython",
    "version": 3
   },
   "file_extension": ".py",
   "mimetype": "text/x-python",
   "name": "python",
   "nbconvert_exporter": "python",
   "pygments_lexer": "ipython3",
   "version": "3.6.0"
  }
 },
 "nbformat": 4,
 "nbformat_minor": 1
}
