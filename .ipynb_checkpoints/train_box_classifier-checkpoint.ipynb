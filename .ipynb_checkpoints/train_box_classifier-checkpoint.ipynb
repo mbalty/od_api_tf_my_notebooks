{
 "cells": [
  {
   "cell_type": "code",
   "execution_count": 1,
   "metadata": {},
   "outputs": [
    {
     "name": "stderr",
     "output_type": "stream",
     "text": [
      "Using TensorFlow backend.\n"
     ]
    }
   ],
   "source": [
    "from keras.models import Sequential, load_model\n",
    "from keras.layers import Dense, Dropout, BatchNormalization\n",
    "from keras.callbacks import ModelCheckpoint, LearningRateScheduler, Callback\n",
    "from keras.optimizers import SGD, Adam\n",
    "import numpy as np\n",
    "from deep_tools.training_callbacks import *\n",
    "import math\n",
    "from keras.utils import to_categorical\n",
    "import random\n",
    "import pickle as pkl\n",
    "# fix random seed for reproducibility\n",
    "np.random.seed(7)"
   ]
  },
  {
   "cell_type": "code",
   "execution_count": 2,
   "metadata": {},
   "outputs": [],
   "source": [
    "def binary_focal_loss(gamma=2., alpha=.25):\n",
    "    \"\"\"\n",
    "    Binary form of focal loss.\n",
    "\n",
    "      FL(p_t) = -alpha * (1 - p_t)**gamma * log(p_t)\n",
    "\n",
    "      where p = sigmoid(x), p_t = p or 1 - p depending on if the label is 1 or 0, respectively.\n",
    "\n",
    "    References:\n",
    "        https://arxiv.org/pdf/1708.02002.pdf\n",
    "    Usage:\n",
    "     model.compile(loss=[binary_focal_loss(alpha=.25, gamma=2)], metrics=[\"accuracy\"], optimizer=adam)\n",
    "\n",
    "    \"\"\"\n",
    "    def binary_focal_loss_fixed(y_true, y_pred):\n",
    "        \"\"\"\n",
    "        :param y_true: A tensor of the same shape as `y_pred`\n",
    "        :param y_pred:  A tensor resulting from a sigmoid\n",
    "        :return: Output tensor.\n",
    "        \"\"\"\n",
    "        pt_1 = tf.where(tf.equal(y_true, 1), y_pred, tf.ones_like(y_pred))\n",
    "        pt_0 = tf.where(tf.equal(y_true, 0), y_pred, tf.zeros_like(y_pred))\n",
    "\n",
    "        epsilon = K.epsilon()\n",
    "        # clip to prevent NaN's and Inf's\n",
    "        pt_1 = K.clip(pt_1, epsilon, 1. - epsilon)\n",
    "        pt_0 = K.clip(pt_0, epsilon, 1. - epsilon)\n",
    "\n",
    "        return -K.sum(alpha * K.pow(1. - pt_1, gamma) * K.log(pt_1)) \\\n",
    "               -K.sum((1 - alpha) * K.pow(pt_0, gamma) * K.log(1. - pt_0))\n",
    "\n",
    "    return binary_focal_loss_fixed"
   ]
  },
  {
   "cell_type": "code",
   "execution_count": 3,
   "metadata": {},
   "outputs": [],
   "source": [
    "from keras import backend as K\n",
    "import tensorflow as tf\n",
    "\n",
    "config = tf.ConfigProto()\n",
    "config.gpu_options.per_process_gpu_memory_fraction = 0.5\n",
    "session = tf.Session(config=config)"
   ]
  },
  {
   "cell_type": "code",
   "execution_count": 4,
   "metadata": {},
   "outputs": [],
   "source": [
    "# create model\n",
    "model = Sequential()\n",
    "model.add(Dense(1024, input_dim=4096, activation='relu'))\n",
    "model.add(BatchNormalization())\n",
    "model.add(Dense(1024, activation='relu'))\n",
    "model.add(BatchNormalization())\n",
    "\n",
    "# model.add(Dense(512, activation='relu'))\n",
    "# model.add(Dropout(0.2))\n",
    "# model.add(Dropout(0.2))\n",
    "model.add(Dense(1, activation='sigmoid'))"
   ]
  },
  {
   "cell_type": "code",
   "execution_count": 5,
   "metadata": {},
   "outputs": [],
   "source": [
    "# # create model\n",
    "# model = Sequential()\n",
    "# model.add(Dense(2048, input_dim=4096, activation='relu'))\n",
    "# model.add(Dropout(0.2))\n",
    "\n",
    "# # model.add(Dense(2048, activation='relu'))\n",
    "# # model.add(Dropout(0.2))\n",
    "# model.add(Dense(1024, activation='relu'))\n",
    "# model.add(Dropout(0.2))\n",
    "# # model.add(Dense(512, activation='relu'))\n",
    "# # model.add(Dropout(0.2))\n",
    "# model.add(Dense(128, activation='relu'))\n",
    "# model.add(BatchNormalization())\n",
    "# # model.add(Dropout(0.2))\n",
    "# model.add(Dense(5, activation='softmax'))"
   ]
  },
  {
   "cell_type": "code",
   "execution_count": 6,
   "metadata": {
    "scrolled": true
   },
   "outputs": [],
   "source": [
    "# model.summary()"
   ]
  },
  {
   "cell_type": "code",
   "execution_count": 7,
   "metadata": {},
   "outputs": [],
   "source": [
    "# Compile model\n",
    "learning_rate = 0.001\n",
    "# decay_rate = learning_rate / epochs\n",
    "momentum = 0.8\n",
    "sgd = SGD(lr=learning_rate, momentum=momentum, decay=0, nesterov=False)\n",
    "model.compile(loss=binary_focal_loss(), optimizer=\"adam\", metrics=['accuracy'])\n",
    "# model.compile(loss='binary_crossentropy', optimizer=\"adam\", metrics=['accuracy'])\n",
    "# model.compile(loss='categorical_crossentropy', optimizer='adam', metrics=['accuracy'])"
   ]
  },
  {
   "cell_type": "code",
   "execution_count": 8,
   "metadata": {},
   "outputs": [],
   "source": [
    "acc_callback = TrainingAccuracyPlotter()\n",
    "loss_plotter = TrainingLossPlotter()\n",
    "time_plotter = TimeLogCallback()\n",
    "\n",
    "\n",
    "checkpoint = checkpoint_classification_callback(\n",
    "    checkpoint_path=\"/home/wc-gpu/MasterThesis/models/research/object_detection/box_classification_checkpoint\", \n",
    "    monitor='val_acc',\n",
    "    save_best_only=True)\n",
    "callbacks = [time_plotter, acc_callback, checkpoint]"
   ]
  },
  {
   "cell_type": "code",
   "execution_count": 9,
   "metadata": {},
   "outputs": [],
   "source": [
    "data = np.load(\n",
    "    \"/home/wc-gpu/storage4tb/session_data_thesis/sessions160000_165000/\"+\n",
    "    \"dataset_prod_new_model_binary_1prev_session_split_bla.pkl\")\n",
    "\n",
    "\n"
   ]
  },
  {
   "cell_type": "code",
   "execution_count": 10,
   "metadata": {},
   "outputs": [],
   "source": [
    "Xdict = data[0]\n",
    "Ydict = data[1]\n",
    "sessions = Xdict.keys()"
   ]
  },
  {
   "cell_type": "code",
   "execution_count": 11,
   "metadata": {
    "scrolled": true
   },
   "outputs": [],
   "source": [
    "# random.sample(sessions, 50)"
   ]
  },
  {
   "cell_type": "code",
   "execution_count": 12,
   "metadata": {},
   "outputs": [],
   "source": [
    "val = set(['162737', '123071', '123229', '164085', '160827', '163832', '161552', '118828', '161441', '118859', '123178', '160685', '122874', '122949', '161209', '161612', '123051', '163888', '160037', '161185', '161069', '161095', '123082', '160665', '160977'])"
   ]
  },
  {
   "cell_type": "code",
   "execution_count": 13,
   "metadata": {},
   "outputs": [
    {
     "data": {
      "text/plain": [
       "array([[ 5.34848404,  4.51842308,  3.54128098, ...,  2.98927402,\n",
       "         2.58149433, 20.06006622],\n",
       "       [ 5.53672314,  5.20862675,  1.70428252, ...,  2.98927402,\n",
       "         2.58149433, 20.06006622],\n",
       "       [ 4.73910904,  4.39916229,  0.        , ...,  3.9010787 ,\n",
       "         2.31463337, 19.73424149],\n",
       "       ...,\n",
       "       [ 7.5994482 , 17.74806023,  1.04462659, ...,  9.66398335,\n",
       "         5.2741127 ,  8.686903  ],\n",
       "       [ 5.55770493,  7.91496468,  1.07404649, ...,  8.56598663,\n",
       "         4.93575287,  9.08606911],\n",
       "       [ 1.24807024, 15.14763737,  5.08564758, ...,  8.56598663,\n",
       "         4.93575287,  9.08606911]])"
      ]
     },
     "execution_count": 13,
     "metadata": {},
     "output_type": "execute_result"
    }
   ],
   "source": [
    "Xdict[\"162737\"]"
   ]
  },
  {
   "cell_type": "code",
   "execution_count": 14,
   "metadata": {},
   "outputs": [],
   "source": [
    "xtrain = []\n",
    "xval = []\n",
    "ytrain = []\n",
    "yval = []\n",
    "\n",
    "\n",
    "for s in sessions:\n",
    "    if s in val:\n",
    "        xval.extend(Xdict[s])\n",
    "        yval.extend(Ydict[s])\n",
    "    else:\n",
    "        xtrain.extend(Xdict[s])\n",
    "        ytrain.extend(Ydict[s])\n",
    "\n",
    "xtrain = np.asarray(xtrain)\n",
    "xval = np.asarray(xval)\n",
    "ytrain = np.asarray(ytrain)\n",
    "yval = np.asarray(yval)\n",
    "    "
   ]
  },
  {
   "cell_type": "code",
   "execution_count": 15,
   "metadata": {},
   "outputs": [],
   "source": [
    "x = xtrain\n",
    "y = ytrain"
   ]
  },
  {
   "cell_type": "code",
   "execution_count": 16,
   "metadata": {},
   "outputs": [],
   "source": [
    "perm = np.random.permutation(y.shape[0])"
   ]
  },
  {
   "cell_type": "code",
   "execution_count": 17,
   "metadata": {},
   "outputs": [],
   "source": [
    "x=x[perm]\n",
    "y =y[perm]"
   ]
  },
  {
   "cell_type": "code",
   "execution_count": 18,
   "metadata": {},
   "outputs": [
    {
     "data": {
      "text/plain": [
       "42148"
      ]
     },
     "execution_count": 18,
     "metadata": {},
     "output_type": "execute_result"
    }
   ],
   "source": [
    "len(np.where(y == 0)[0])"
   ]
  },
  {
   "cell_type": "code",
   "execution_count": 19,
   "metadata": {},
   "outputs": [],
   "source": [
    "from sklearn.utils import class_weight\n",
    "class_weight = class_weight.compute_class_weight('balanced'\n",
    "                                               ,np.unique(y)\n",
    "                                               ,y)"
   ]
  },
  {
   "cell_type": "code",
   "execution_count": 20,
   "metadata": {},
   "outputs": [],
   "source": [
    "class_weight = [ 0.001,  1]"
   ]
  },
  {
   "cell_type": "code",
   "execution_count": 21,
   "metadata": {},
   "outputs": [],
   "source": [
    "# class_weight = [ 0.01,  0.9,  0.9, 100, 100]"
   ]
  },
  {
   "cell_type": "code",
   "execution_count": 22,
   "metadata": {},
   "outputs": [
    {
     "data": {
      "text/plain": [
       "18626"
      ]
     },
     "execution_count": 22,
     "metadata": {},
     "output_type": "execute_result"
    }
   ],
   "source": [
    "len(np.where(y==1)[0])"
   ]
  },
  {
   "cell_type": "code",
   "execution_count": 23,
   "metadata": {},
   "outputs": [],
   "source": [
    "def normalize(x):\n",
    "    mn = np.mean(x, axis=0)\n",
    "    std = np.std(x, axis=0)\n",
    "    x = (x - mn)/std\n",
    "    return mn, std"
   ]
  },
  {
   "cell_type": "code",
   "execution_count": 24,
   "metadata": {},
   "outputs": [],
   "source": [
    "a = normalize(x)\n",
    "# b = normalize(xval)"
   ]
  },
  {
   "cell_type": "code",
   "execution_count": null,
   "metadata": {},
   "outputs": [],
   "source": [
    "with open(\"mn_std.pkl\", \"wb\") as f:\n",
    "    pkl.dump(a, f)"
   ]
  },
  {
   "cell_type": "code",
   "execution_count": 25,
   "metadata": {},
   "outputs": [],
   "source": [
    "negatives = np.where(y == 0)[0]\n",
    "negatives = negatives[np.random.choice(negatives.shape[0], len(np.where(y==1)[0]), replace=False)]\n",
    "positives = np.where(y != 0)[0]\n",
    "idxs = np.concatenate([negatives, positives])\n",
    "np.random.shuffle(idxs)\n",
    "# x[np.where(x == 0)[0]] = .1\n",
    "x = x[idxs]\n",
    "y = y[idxs]"
   ]
  },
  {
   "cell_type": "code",
   "execution_count": 26,
   "metadata": {},
   "outputs": [],
   "source": [
    "# xval = x[:3000]\n",
    "# yval = y[:3000]\n",
    "# x = x[3000:]\n",
    "# y = y[3000:]"
   ]
  },
  {
   "cell_type": "code",
   "execution_count": null,
   "metadata": {},
   "outputs": [],
   "source": [
    "y_cat = to_categorical(y, num_classes=None, dtype='float32')"
   ]
  },
  {
   "cell_type": "code",
   "execution_count": 27,
   "metadata": {},
   "outputs": [],
   "source": [
    "y_cat = y"
   ]
  },
  {
   "cell_type": "code",
   "execution_count": 28,
   "metadata": {
    "scrolled": true
   },
   "outputs": [
    {
     "name": "stdout",
     "output_type": "stream",
     "text": [
      "Train on 37252 samples, validate on 3158 samples\n",
      "Epoch 1/100\n",
      "37252/37252 [==============================] - 2s 50us/step - loss: 45.7889 - acc: 0.7188 - val_loss: 42.0032 - val_acc: 0.7764\n",
      "\n",
      "Epoch 00001: val_acc improved from -inf to 0.77644, saving model to /home/wc-gpu/MasterThesis/models/research/object_detection/box_classification_checkpoint/2019-04-08weights-epoch01-val_acc0.78-val_loss42.00.hdf5\n",
      "Epoch 2/100\n",
      "37252/37252 [==============================] - 1s 27us/step - loss: 19.0084 - acc: 0.8233 - val_loss: 47.5288 - val_acc: 0.7695\n",
      "\n",
      "Epoch 00002: val_acc did not improve from 0.77644\n",
      "Epoch 3/100\n",
      "37252/37252 [==============================] - 1s 28us/step - loss: 14.3615 - acc: 0.8707 - val_loss: 43.8820 - val_acc: 0.7783\n",
      "\n",
      "Epoch 00003: val_acc improved from 0.77644 to 0.77834, saving model to /home/wc-gpu/MasterThesis/models/research/object_detection/box_classification_checkpoint/2019-04-08weights-epoch03-val_acc0.78-val_loss43.88.hdf5\n",
      "Epoch 4/100\n",
      "37252/37252 [==============================] - 1s 28us/step - loss: 10.0133 - acc: 0.9124 - val_loss: 71.8185 - val_acc: 0.6773\n",
      "\n",
      "Epoch 00004: val_acc did not improve from 0.77834\n",
      "Epoch 5/100\n",
      "37252/37252 [==============================] - 1s 28us/step - loss: 7.2391 - acc: 0.9398 - val_loss: 101.9848 - val_acc: 0.6514\n",
      "\n",
      "Epoch 00005: val_acc did not improve from 0.77834\n",
      "Epoch 6/100\n",
      "37252/37252 [==============================] - 1s 29us/step - loss: 5.7343 - acc: 0.9550 - val_loss: 49.4370 - val_acc: 0.7973\n",
      "\n",
      "Epoch 00006: val_acc improved from 0.77834 to 0.79734, saving model to /home/wc-gpu/MasterThesis/models/research/object_detection/box_classification_checkpoint/2019-04-08weights-epoch06-val_acc0.80-val_loss49.44.hdf5\n",
      "Epoch 7/100\n",
      "37252/37252 [==============================] - 1s 27us/step - loss: 4.7997 - acc: 0.9641 - val_loss: 225.6450 - val_acc: 0.5434\n",
      "\n",
      "Epoch 00007: val_acc did not improve from 0.79734\n",
      "Epoch 8/100\n",
      "37252/37252 [==============================] - 1s 28us/step - loss: 3.3324 - acc: 0.9775 - val_loss: 108.7839 - val_acc: 0.7175\n",
      "\n",
      "Epoch 00008: val_acc did not improve from 0.79734\n",
      "Epoch 9/100\n",
      "37252/37252 [==============================] - 1s 28us/step - loss: 2.8009 - acc: 0.9810 - val_loss: 82.3463 - val_acc: 0.7932\n",
      "\n",
      "Epoch 00009: val_acc did not improve from 0.79734\n",
      "Epoch 10/100\n",
      "37252/37252 [==============================] - 1s 27us/step - loss: 2.8394 - acc: 0.9805 - val_loss: 74.7591 - val_acc: 0.7669\n",
      "\n",
      "Epoch 00010: val_acc did not improve from 0.79734\n",
      "Epoch 11/100\n",
      "37252/37252 [==============================] - 1s 29us/step - loss: 2.3626 - acc: 0.9836 - val_loss: 132.7106 - val_acc: 0.7324\n",
      "\n",
      "Epoch 00011: val_acc did not improve from 0.79734\n",
      "Epoch 12/100\n",
      "37252/37252 [==============================] - 1s 27us/step - loss: 3.1983 - acc: 0.9773 - val_loss: 67.9116 - val_acc: 0.8018\n",
      "\n",
      "Epoch 00012: val_acc improved from 0.79734 to 0.80177, saving model to /home/wc-gpu/MasterThesis/models/research/object_detection/box_classification_checkpoint/2019-04-08weights-epoch12-val_acc0.80-val_loss67.91.hdf5\n",
      "Epoch 13/100\n",
      "37252/37252 [==============================] - 1s 27us/step - loss: 3.6879 - acc: 0.9742 - val_loss: 168.3810 - val_acc: 0.7403\n",
      "\n",
      "Epoch 00013: val_acc did not improve from 0.80177\n",
      "Epoch 14/100\n",
      "37252/37252 [==============================] - 1s 28us/step - loss: 3.2322 - acc: 0.9769 - val_loss: 388.3122 - val_acc: 0.4839\n",
      "\n",
      "Epoch 00014: val_acc did not improve from 0.80177\n",
      "Epoch 15/100\n",
      "37252/37252 [==============================] - 1s 29us/step - loss: 1.9040 - acc: 0.9877 - val_loss: 90.7952 - val_acc: 0.8160\n",
      "\n",
      "Epoch 00015: val_acc improved from 0.80177 to 0.81602, saving model to /home/wc-gpu/MasterThesis/models/research/object_detection/box_classification_checkpoint/2019-04-08weights-epoch15-val_acc0.82-val_loss90.80.hdf5\n",
      "Epoch 16/100\n",
      "37252/37252 [==============================] - 1s 28us/step - loss: 1.9185 - acc: 0.9885 - val_loss: 252.2303 - val_acc: 0.6254\n",
      "\n",
      "Epoch 00016: val_acc did not improve from 0.81602\n",
      "Epoch 17/100\n",
      "37252/37252 [==============================] - 1s 28us/step - loss: 2.1614 - acc: 0.9861 - val_loss: 72.2949 - val_acc: 0.8125\n",
      "\n",
      "Epoch 00017: val_acc did not improve from 0.81602\n",
      "Epoch 18/100\n",
      "37252/37252 [==============================] - 1s 28us/step - loss: 1.2435 - acc: 0.9918 - val_loss: 90.6946 - val_acc: 0.7926\n",
      "\n",
      "Epoch 00018: val_acc did not improve from 0.81602\n",
      "Epoch 19/100\n",
      "37252/37252 [==============================] - 1s 27us/step - loss: 0.4767 - acc: 0.9975 - val_loss: 69.0054 - val_acc: 0.8192\n",
      "\n",
      "Epoch 00019: val_acc improved from 0.81602 to 0.81919, saving model to /home/wc-gpu/MasterThesis/models/research/object_detection/box_classification_checkpoint/2019-04-08weights-epoch19-val_acc0.82-val_loss69.01.hdf5\n",
      "Epoch 20/100\n",
      "37252/37252 [==============================] - 1s 27us/step - loss: 0.1701 - acc: 0.9994 - val_loss: 168.5431 - val_acc: 0.7571\n",
      "\n",
      "Epoch 00020: val_acc did not improve from 0.81919\n",
      "Epoch 21/100\n",
      "37252/37252 [==============================] - 1s 28us/step - loss: 0.1444 - acc: 0.9996 - val_loss: 90.4709 - val_acc: 0.8376\n",
      "\n",
      "Epoch 00021: val_acc improved from 0.81919 to 0.83756, saving model to /home/wc-gpu/MasterThesis/models/research/object_detection/box_classification_checkpoint/2019-04-08weights-epoch21-val_acc0.84-val_loss90.47.hdf5\n",
      "Epoch 22/100\n",
      "37252/37252 [==============================] - 1s 27us/step - loss: 0.2478 - acc: 0.9995 - val_loss: 98.3795 - val_acc: 0.8246\n",
      "\n",
      "Epoch 00022: val_acc did not improve from 0.83756\n",
      "Epoch 23/100\n",
      "37252/37252 [==============================] - 1s 27us/step - loss: 0.8112 - acc: 0.9967 - val_loss: 150.1542 - val_acc: 0.7818\n",
      "\n",
      "Epoch 00023: val_acc did not improve from 0.83756\n",
      "Epoch 24/100\n",
      "37252/37252 [==============================] - 1s 27us/step - loss: 2.4867 - acc: 0.9840 - val_loss: 217.1152 - val_acc: 0.7071\n",
      "\n",
      "Epoch 00024: val_acc did not improve from 0.83756\n",
      "Epoch 25/100\n",
      "37252/37252 [==============================] - 1s 27us/step - loss: 5.8688 - acc: 0.9631 - val_loss: 555.2930 - val_acc: 0.4696\n",
      "\n",
      "Epoch 00025: val_acc did not improve from 0.83756\n",
      "Epoch 26/100\n",
      "37252/37252 [==============================] - 1s 28us/step - loss: 4.7058 - acc: 0.9645 - val_loss: 112.8252 - val_acc: 0.7894\n",
      "\n",
      "Epoch 00026: val_acc did not improve from 0.83756\n",
      "Epoch 27/100\n",
      "37252/37252 [==============================] - 1s 28us/step - loss: 2.7465 - acc: 0.9824 - val_loss: 88.8775 - val_acc: 0.7796\n",
      "\n",
      "Epoch 00027: val_acc did not improve from 0.83756\n",
      "Epoch 28/100\n",
      "37252/37252 [==============================] - 1s 28us/step - loss: 0.8252 - acc: 0.9949 - val_loss: 63.0324 - val_acc: 0.8344\n",
      "\n",
      "Epoch 00028: val_acc did not improve from 0.83756\n",
      "Epoch 29/100\n",
      "37252/37252 [==============================] - 1s 28us/step - loss: 0.3361 - acc: 0.9987 - val_loss: 139.5580 - val_acc: 0.7859\n",
      "\n",
      "Epoch 00029: val_acc did not improve from 0.83756\n",
      "Epoch 30/100\n",
      "37252/37252 [==============================] - 1s 28us/step - loss: 0.1285 - acc: 0.9999 - val_loss: 74.0065 - val_acc: 0.8391\n",
      "\n",
      "Epoch 00030: val_acc improved from 0.83756 to 0.83914, saving model to /home/wc-gpu/MasterThesis/models/research/object_detection/box_classification_checkpoint/2019-04-08weights-epoch30-val_acc0.84-val_loss74.01.hdf5\n",
      "Epoch 31/100\n",
      "37252/37252 [==============================] - 1s 27us/step - loss: 0.0537 - acc: 0.9999 - val_loss: 78.3733 - val_acc: 0.8502\n",
      "\n",
      "Epoch 00031: val_acc improved from 0.83914 to 0.85022, saving model to /home/wc-gpu/MasterThesis/models/research/object_detection/box_classification_checkpoint/2019-04-08weights-epoch31-val_acc0.85-val_loss78.37.hdf5\n",
      "Epoch 32/100\n",
      "37252/37252 [==============================] - 1s 27us/step - loss: 0.0348 - acc: 1.0000 - val_loss: 89.3434 - val_acc: 0.8505\n",
      "\n",
      "Epoch 00032: val_acc improved from 0.85022 to 0.85054, saving model to /home/wc-gpu/MasterThesis/models/research/object_detection/box_classification_checkpoint/2019-04-08weights-epoch32-val_acc0.85-val_loss89.34.hdf5\n",
      "Epoch 33/100\n",
      "37252/37252 [==============================] - 1s 30us/step - loss: 0.0325 - acc: 1.0000 - val_loss: 87.8374 - val_acc: 0.8502\n",
      "\n",
      "Epoch 00033: val_acc did not improve from 0.85054\n",
      "Epoch 34/100\n",
      "37252/37252 [==============================] - 1s 28us/step - loss: 0.0271 - acc: 0.9999 - val_loss: 86.4513 - val_acc: 0.8537\n",
      "\n",
      "Epoch 00034: val_acc improved from 0.85054 to 0.85370, saving model to /home/wc-gpu/MasterThesis/models/research/object_detection/box_classification_checkpoint/2019-04-08weights-epoch34-val_acc0.85-val_loss86.45.hdf5\n"
     ]
    },
    {
     "name": "stdout",
     "output_type": "stream",
     "text": [
      "Epoch 35/100\n",
      "37252/37252 [==============================] - 1s 28us/step - loss: 0.0175 - acc: 1.0000 - val_loss: 90.4414 - val_acc: 0.8528\n",
      "\n",
      "Epoch 00035: val_acc did not improve from 0.85370\n",
      "Epoch 36/100\n",
      "37252/37252 [==============================] - 1s 27us/step - loss: 0.0163 - acc: 1.0000 - val_loss: 91.8481 - val_acc: 0.8512\n",
      "\n",
      "Epoch 00036: val_acc did not improve from 0.85370\n",
      "Epoch 37/100\n",
      "37252/37252 [==============================] - 1s 28us/step - loss: 0.0149 - acc: 1.0000 - val_loss: 91.9241 - val_acc: 0.8550\n",
      "\n",
      "Epoch 00037: val_acc improved from 0.85370 to 0.85497, saving model to /home/wc-gpu/MasterThesis/models/research/object_detection/box_classification_checkpoint/2019-04-08weights-epoch37-val_acc0.85-val_loss91.92.hdf5\n",
      "Epoch 38/100\n",
      "37252/37252 [==============================] - 1s 27us/step - loss: 0.0158 - acc: 1.0000 - val_loss: 95.6069 - val_acc: 0.8512\n",
      "\n",
      "Epoch 00038: val_acc did not improve from 0.85497\n",
      "Epoch 39/100\n",
      "37252/37252 [==============================] - 1s 28us/step - loss: 0.0110 - acc: 1.0000 - val_loss: 94.2629 - val_acc: 0.8515\n",
      "\n",
      "Epoch 00039: val_acc did not improve from 0.85497\n",
      "Epoch 40/100\n",
      "37252/37252 [==============================] - 1s 27us/step - loss: 0.0526 - acc: 0.9999 - val_loss: 110.1854 - val_acc: 0.8391\n",
      "\n",
      "Epoch 00040: val_acc did not improve from 0.85497\n",
      "Epoch 41/100\n",
      "37252/37252 [==============================] - 1s 28us/step - loss: 0.0191 - acc: 1.0000 - val_loss: 94.7654 - val_acc: 0.8524\n",
      "\n",
      "Epoch 00041: val_acc did not improve from 0.85497\n",
      "Epoch 42/100\n",
      "37252/37252 [==============================] - 1s 29us/step - loss: 0.0492 - acc: 0.9999 - val_loss: 121.0560 - val_acc: 0.8347\n",
      "\n",
      "Epoch 00042: val_acc did not improve from 0.85497\n",
      "Epoch 43/100\n",
      "37252/37252 [==============================] - 1s 28us/step - loss: 0.0319 - acc: 0.9999 - val_loss: 100.6195 - val_acc: 0.8518\n",
      "\n",
      "Epoch 00043: val_acc did not improve from 0.85497\n",
      "Epoch 44/100\n",
      "37252/37252 [==============================] - 1s 27us/step - loss: 0.0090 - acc: 1.0000 - val_loss: 99.1280 - val_acc: 0.8518\n",
      "\n",
      "Epoch 00044: val_acc did not improve from 0.85497\n",
      "Epoch 45/100\n",
      "37252/37252 [==============================] - 1s 27us/step - loss: 0.0242 - acc: 0.9999 - val_loss: 104.1013 - val_acc: 0.8531\n",
      "\n",
      "Epoch 00045: val_acc did not improve from 0.85497\n",
      "Epoch 46/100\n",
      "37252/37252 [==============================] - 1s 28us/step - loss: 0.0071 - acc: 1.0000 - val_loss: 97.7904 - val_acc: 0.8540\n",
      "\n",
      "Epoch 00046: val_acc did not improve from 0.85497\n",
      "Epoch 47/100\n",
      "37252/37252 [==============================] - 1s 27us/step - loss: 0.0108 - acc: 1.0000 - val_loss: 102.1867 - val_acc: 0.8502\n",
      "\n",
      "Epoch 00047: val_acc did not improve from 0.85497\n",
      "Epoch 48/100\n",
      "37252/37252 [==============================] - 1s 29us/step - loss: 0.0104 - acc: 1.0000 - val_loss: 99.5985 - val_acc: 0.8559\n",
      "\n",
      "Epoch 00048: val_acc improved from 0.85497 to 0.85592, saving model to /home/wc-gpu/MasterThesis/models/research/object_detection/box_classification_checkpoint/2019-04-08weights-epoch48-val_acc0.86-val_loss99.60.hdf5\n",
      "Epoch 49/100\n",
      "37252/37252 [==============================] - 1s 28us/step - loss: 0.0179 - acc: 1.0000 - val_loss: 104.3769 - val_acc: 0.8518\n",
      "\n",
      "Epoch 00049: val_acc did not improve from 0.85592\n",
      "Epoch 50/100\n",
      "37252/37252 [==============================] - 1s 27us/step - loss: 0.0251 - acc: 0.9999 - val_loss: 107.9644 - val_acc: 0.8515\n",
      "\n",
      "Epoch 00050: val_acc did not improve from 0.85592\n",
      "Epoch 51/100\n",
      "37252/37252 [==============================] - 1s 27us/step - loss: 0.0275 - acc: 1.0000 - val_loss: 135.8638 - val_acc: 0.8094\n",
      "\n",
      "Epoch 00051: val_acc did not improve from 0.85592\n",
      "Epoch 52/100\n",
      "37252/37252 [==============================] - 1s 27us/step - loss: 0.1472 - acc: 0.9997 - val_loss: 110.9674 - val_acc: 0.8160\n",
      "\n",
      "Epoch 00052: val_acc did not improve from 0.85592\n",
      "Epoch 53/100\n",
      "37252/37252 [==============================] - 1s 27us/step - loss: 8.1371 - acc: 0.9563 - val_loss: 280.3243 - val_acc: 0.6165\n",
      "\n",
      "Epoch 00053: val_acc did not improve from 0.85592\n",
      "Epoch 54/100\n",
      "37252/37252 [==============================] - 1s 27us/step - loss: 11.5611 - acc: 0.9075 - val_loss: 237.0832 - val_acc: 0.6970\n",
      "\n",
      "Epoch 00054: val_acc did not improve from 0.85592\n",
      "Epoch 55/100\n",
      "37252/37252 [==============================] - 1s 27us/step - loss: 3.5188 - acc: 0.9720 - val_loss: 103.5181 - val_acc: 0.7194\n",
      "\n",
      "Epoch 00055: val_acc did not improve from 0.85592\n",
      "Epoch 56/100\n",
      "37252/37252 [==============================] - 1s 27us/step - loss: 1.2613 - acc: 0.9919 - val_loss: 67.6595 - val_acc: 0.7923\n",
      "\n",
      "Epoch 00056: val_acc did not improve from 0.85592\n",
      "Epoch 57/100\n",
      "37252/37252 [==============================] - 1s 27us/step - loss: 0.7209 - acc: 0.9962 - val_loss: 67.1438 - val_acc: 0.8265\n",
      "\n",
      "Epoch 00057: val_acc did not improve from 0.85592\n",
      "Epoch 58/100\n",
      "37252/37252 [==============================] - 1s 27us/step - loss: 0.6163 - acc: 0.9977 - val_loss: 90.4671 - val_acc: 0.8132\n",
      "\n",
      "Epoch 00058: val_acc did not improve from 0.85592\n",
      "Epoch 59/100\n",
      "37252/37252 [==============================] - 1s 28us/step - loss: 0.2997 - acc: 0.9987 - val_loss: 100.0690 - val_acc: 0.8306\n",
      "\n",
      "Epoch 00059: val_acc did not improve from 0.85592\n",
      "Epoch 60/100\n",
      "37252/37252 [==============================] - 1s 27us/step - loss: 0.1824 - acc: 0.9996 - val_loss: 88.0221 - val_acc: 0.8445\n",
      "\n",
      "Epoch 00060: val_acc did not improve from 0.85592\n",
      "Epoch 61/100\n",
      "37252/37252 [==============================] - 1s 28us/step - loss: 0.0487 - acc: 1.0000 - val_loss: 96.7242 - val_acc: 0.8505\n",
      "\n",
      "Epoch 00061: val_acc did not improve from 0.85592\n",
      "Epoch 62/100\n",
      "37252/37252 [==============================] - 1s 27us/step - loss: 0.0435 - acc: 1.0000 - val_loss: 101.7564 - val_acc: 0.8515\n",
      "\n",
      "Epoch 00062: val_acc did not improve from 0.85592\n",
      "Epoch 63/100\n",
      "37252/37252 [==============================] - 1s 28us/step - loss: 0.0263 - acc: 1.0000 - val_loss: 105.8625 - val_acc: 0.8486\n",
      "\n",
      "Epoch 00063: val_acc did not improve from 0.85592\n",
      "Epoch 64/100\n",
      "37252/37252 [==============================] - 1s 28us/step - loss: 0.0324 - acc: 1.0000 - val_loss: 102.4772 - val_acc: 0.8547\n",
      "\n",
      "Epoch 00064: val_acc did not improve from 0.85592\n",
      "Epoch 65/100\n",
      "37252/37252 [==============================] - 1s 29us/step - loss: 0.0168 - acc: 1.0000 - val_loss: 106.8549 - val_acc: 0.8524\n",
      "\n",
      "Epoch 00065: val_acc did not improve from 0.85592\n",
      "Epoch 66/100\n",
      "37252/37252 [==============================] - 1s 28us/step - loss: 0.0142 - acc: 1.0000 - val_loss: 112.8954 - val_acc: 0.8452\n",
      "\n",
      "Epoch 00066: val_acc did not improve from 0.85592\n",
      "Epoch 67/100\n",
      "37252/37252 [==============================] - 1s 29us/step - loss: 0.0668 - acc: 0.9999 - val_loss: 135.9068 - val_acc: 0.8230\n",
      "\n",
      "Epoch 00067: val_acc did not improve from 0.85592\n",
      "Epoch 68/100\n",
      "37252/37252 [==============================] - 1s 28us/step - loss: 0.0301 - acc: 0.9999 - val_loss: 109.8937 - val_acc: 0.8445\n",
      "\n",
      "Epoch 00068: val_acc did not improve from 0.85592\n",
      "Epoch 69/100\n",
      "37252/37252 [==============================] - 1s 28us/step - loss: 0.0397 - acc: 0.9999 - val_loss: 128.5603 - val_acc: 0.8391\n",
      "\n",
      "Epoch 00069: val_acc did not improve from 0.85592\n",
      "Epoch 70/100\n",
      "37252/37252 [==============================] - 1s 28us/step - loss: 0.0183 - acc: 0.9999 - val_loss: 106.1377 - val_acc: 0.8524\n",
      "\n",
      "Epoch 00070: val_acc did not improve from 0.85592\n",
      "Epoch 71/100\n",
      "37252/37252 [==============================] - 1s 28us/step - loss: 0.0153 - acc: 1.0000 - val_loss: 109.2233 - val_acc: 0.8537\n",
      "\n",
      "Epoch 00071: val_acc did not improve from 0.85592\n",
      "Epoch 72/100\n",
      "37252/37252 [==============================] - 1s 28us/step - loss: 0.0084 - acc: 1.0000 - val_loss: 111.3909 - val_acc: 0.8509\n",
      "\n",
      "Epoch 00072: val_acc did not improve from 0.85592\n",
      "Epoch 73/100\n",
      "37252/37252 [==============================] - 1s 27us/step - loss: 0.0074 - acc: 1.0000 - val_loss: 111.7241 - val_acc: 0.8524\n",
      "\n",
      "Epoch 00073: val_acc did not improve from 0.85592\n",
      "Epoch 74/100\n",
      "37252/37252 [==============================] - 1s 27us/step - loss: 0.0068 - acc: 1.0000 - val_loss: 113.1330 - val_acc: 0.8528\n",
      "\n",
      "Epoch 00074: val_acc did not improve from 0.85592\n",
      "Epoch 75/100\n",
      "37252/37252 [==============================] - 1s 28us/step - loss: 0.0060 - acc: 1.0000 - val_loss: 115.8473 - val_acc: 0.8505\n",
      "\n",
      "Epoch 00075: val_acc did not improve from 0.85592\n",
      "Epoch 76/100\n"
     ]
    },
    {
     "name": "stdout",
     "output_type": "stream",
     "text": [
      "37252/37252 [==============================] - 1s 28us/step - loss: 0.0053 - acc: 1.0000 - val_loss: 114.7349 - val_acc: 0.8537\n",
      "\n",
      "Epoch 00076: val_acc did not improve from 0.85592\n",
      "Epoch 77/100\n",
      "37252/37252 [==============================] - 1s 28us/step - loss: 0.0052 - acc: 1.0000 - val_loss: 115.7926 - val_acc: 0.8521\n",
      "\n",
      "Epoch 00077: val_acc did not improve from 0.85592\n",
      "Epoch 78/100\n",
      "37252/37252 [==============================] - 1s 28us/step - loss: 0.0048 - acc: 1.0000 - val_loss: 116.1836 - val_acc: 0.8528\n",
      "\n",
      "Epoch 00078: val_acc did not improve from 0.85592\n",
      "Epoch 79/100\n",
      "37252/37252 [==============================] - 1s 28us/step - loss: 0.0039 - acc: 1.0000 - val_loss: 116.8753 - val_acc: 0.8524\n",
      "\n",
      "Epoch 00079: val_acc did not improve from 0.85592\n",
      "Epoch 80/100\n",
      "37252/37252 [==============================] - 1s 28us/step - loss: 0.0038 - acc: 1.0000 - val_loss: 117.6604 - val_acc: 0.8521\n",
      "\n",
      "Epoch 00080: val_acc did not improve from 0.85592\n",
      "Epoch 81/100\n",
      "37252/37252 [==============================] - 1s 28us/step - loss: 0.0032 - acc: 1.0000 - val_loss: 118.4269 - val_acc: 0.8524\n",
      "\n",
      "Epoch 00081: val_acc did not improve from 0.85592\n",
      "Epoch 82/100\n",
      "37252/37252 [==============================] - 1s 27us/step - loss: 0.0033 - acc: 1.0000 - val_loss: 120.7438 - val_acc: 0.8518\n",
      "\n",
      "Epoch 00082: val_acc did not improve from 0.85592\n",
      "Epoch 83/100\n",
      "37252/37252 [==============================] - 1s 28us/step - loss: 0.0039 - acc: 1.0000 - val_loss: 120.8642 - val_acc: 0.8515\n",
      "\n",
      "Epoch 00083: val_acc did not improve from 0.85592\n",
      "Epoch 84/100\n",
      "37252/37252 [==============================] - 1s 27us/step - loss: 0.0039 - acc: 1.0000 - val_loss: 120.1514 - val_acc: 0.8505\n",
      "\n",
      "Epoch 00084: val_acc did not improve from 0.85592\n",
      "Epoch 85/100\n",
      "37252/37252 [==============================] - 1s 27us/step - loss: 0.0034 - acc: 1.0000 - val_loss: 123.2963 - val_acc: 0.8486\n",
      "\n",
      "Epoch 00085: val_acc did not improve from 0.85592\n",
      "Epoch 86/100\n",
      "37252/37252 [==============================] - 1s 28us/step - loss: 0.0202 - acc: 0.9999 - val_loss: 119.9081 - val_acc: 0.8502\n",
      "\n",
      "Epoch 00086: val_acc did not improve from 0.85592\n",
      "Epoch 87/100\n",
      "37252/37252 [==============================] - 1s 27us/step - loss: 0.0026 - acc: 1.0000 - val_loss: 125.5695 - val_acc: 0.8531\n",
      "\n",
      "Epoch 00087: val_acc did not improve from 0.85592\n",
      "Epoch 88/100\n",
      "37252/37252 [==============================] - 1s 29us/step - loss: 0.0033 - acc: 1.0000 - val_loss: 122.9386 - val_acc: 0.8540\n",
      "\n",
      "Epoch 00088: val_acc did not improve from 0.85592\n",
      "Epoch 89/100\n",
      "37252/37252 [==============================] - 1s 27us/step - loss: 0.0113 - acc: 0.9999 - val_loss: 133.6670 - val_acc: 0.8436\n",
      "\n",
      "Epoch 00089: val_acc did not improve from 0.85592\n",
      "Epoch 90/100\n",
      "37252/37252 [==============================] - 1s 28us/step - loss: 0.0953 - acc: 0.9998 - val_loss: 294.8975 - val_acc: 0.7391\n",
      "\n",
      "Epoch 00090: val_acc did not improve from 0.85592\n",
      "Epoch 91/100\n",
      "37252/37252 [==============================] - 1s 29us/step - loss: 13.6745 - acc: 0.9190 - val_loss: 537.1675 - val_acc: 0.6922\n",
      "\n",
      "Epoch 00091: val_acc did not improve from 0.85592\n",
      "Epoch 92/100\n",
      "37252/37252 [==============================] - 1s 27us/step - loss: 8.1079 - acc: 0.9362 - val_loss: 67.8599 - val_acc: 0.7587\n",
      "\n",
      "Epoch 00092: val_acc did not improve from 0.85592\n",
      "Epoch 93/100\n",
      "37252/37252 [==============================] - 1s 27us/step - loss: 2.4943 - acc: 0.9821 - val_loss: 62.4107 - val_acc: 0.8091\n",
      "\n",
      "Epoch 00093: val_acc did not improve from 0.85592\n",
      "Epoch 94/100\n",
      "37252/37252 [==============================] - 1s 28us/step - loss: 0.9346 - acc: 0.9949 - val_loss: 62.9840 - val_acc: 0.8239\n",
      "\n",
      "Epoch 00094: val_acc did not improve from 0.85592\n",
      "Epoch 95/100\n",
      "37252/37252 [==============================] - 1s 28us/step - loss: 0.3100 - acc: 0.9990 - val_loss: 100.2771 - val_acc: 0.8230\n",
      "\n",
      "Epoch 00095: val_acc did not improve from 0.85592\n",
      "Epoch 96/100\n",
      "37252/37252 [==============================] - 1s 27us/step - loss: 0.1798 - acc: 0.9996 - val_loss: 72.9279 - val_acc: 0.8496\n",
      "\n",
      "Epoch 00096: val_acc did not improve from 0.85592\n",
      "Epoch 97/100\n",
      "37252/37252 [==============================] - 1s 28us/step - loss: 0.3742 - acc: 0.9991 - val_loss: 131.7351 - val_acc: 0.7967\n",
      "\n",
      "Epoch 00097: val_acc did not improve from 0.85592\n",
      "Epoch 98/100\n",
      "37252/37252 [==============================] - 1s 27us/step - loss: 0.2425 - acc: 0.9993 - val_loss: 87.8703 - val_acc: 0.8540\n",
      "\n",
      "Epoch 00098: val_acc did not improve from 0.85592\n",
      "Epoch 99/100\n",
      "37252/37252 [==============================] - 1s 27us/step - loss: 0.1739 - acc: 0.9997 - val_loss: 125.4678 - val_acc: 0.8252\n",
      "\n",
      "Epoch 00099: val_acc did not improve from 0.85592\n",
      "Epoch 100/100\n",
      "37252/37252 [==============================] - 1s 27us/step - loss: 0.0861 - acc: 0.9999 - val_loss: 102.3183 - val_acc: 0.8518\n",
      "\n",
      "Epoch 00100: val_acc did not improve from 0.85592\n"
     ]
    }
   ],
   "source": [
    "hitsory = model.fit(x=x,\n",
    "    y=y_cat, \n",
    "    batch_size=512,\n",
    "    epochs=100,\n",
    "    verbose=1, \n",
    "    callbacks=[checkpoint],\n",
    "#     validation_split=0.1, \n",
    "    validation_data=[xval, yval], \n",
    "    shuffle=True, \n",
    "#     class_weight=class_weight, \n",
    "    sample_weight=None, \n",
    "    initial_epoch=0)"
   ]
  },
  {
   "cell_type": "code",
   "execution_count": 36,
   "metadata": {},
   "outputs": [],
   "source": [
    "w = np.where(yval==1)[0]"
   ]
  },
  {
   "cell_type": "code",
   "execution_count": 30,
   "metadata": {},
   "outputs": [
    {
     "data": {
      "text/plain": [
       "2186"
      ]
     },
     "execution_count": 30,
     "metadata": {},
     "output_type": "execute_result"
    }
   ],
   "source": [
    "len(w)"
   ]
  },
  {
   "cell_type": "code",
   "execution_count": 32,
   "metadata": {},
   "outputs": [],
   "source": [
    "model.load_weights(\"/home/wc-gpu/MasterThesis/models/research/object_detection/box_classification_checkpoint/\"+\n",
    "                  \"2019-04-08weights-epoch48-val_acc0.86-val_loss99.60.hdf5\")"
   ]
  },
  {
   "cell_type": "code",
   "execution_count": 37,
   "metadata": {},
   "outputs": [
    {
     "name": "stdout",
     "output_type": "stream",
     "text": [
      "972/972 [==============================] - 0s 33us/step\n"
     ]
    }
   ],
   "source": [
    "a = model.evaluate(xval[w], yval[w])"
   ]
  },
  {
   "cell_type": "code",
   "execution_count": null,
   "metadata": {},
   "outputs": [],
   "source": []
  },
  {
   "cell_type": "code",
   "execution_count": 63,
   "metadata": {},
   "outputs": [],
   "source": [
    "y_pred = (model.predict(xval) > 0.5).astype(\"int64\").transpose()[0]"
   ]
  },
  {
   "cell_type": "code",
   "execution_count": 75,
   "metadata": {},
   "outputs": [
    {
     "name": "stdout",
     "output_type": "stream",
     "text": [
      "Automatically created module for IPython interactive environment\n",
      "Confusion matrix, without normalization\n",
      "[[1923  263]\n",
      " [ 192  780]]\n",
      "Normalized confusion matrix\n",
      "[[0.88 0.12]\n",
      " [0.2  0.8 ]]\n"
     ]
    },
    {
     "data": {
      "image/png": "[encoded data removed]",
      "text/plain": [
       "<matplotlib.figure.Figure at 0x7f2c01d36f28>"
      ]
     },
     "metadata": {
      "needs_background": "light"
     },
     "output_type": "display_data"
    },
    {
     "data": {
      "image/png": "[encoded data removed]",
      "text/plain": [
       "<matplotlib.figure.Figure at 0x7f2b6a283940>"
      ]
     },
     "metadata": {
      "needs_background": "light"
     },
     "output_type": "display_data"
    }
   ],
   "source": [
    "print(__doc__)\n",
    "\n",
    "import numpy as np\n",
    "import matplotlib.pyplot as plt\n",
    "\n",
    "from sklearn import svm, datasets\n",
    "from sklearn.model_selection import train_test_split\n",
    "from sklearn.metrics import confusion_matrix\n",
    "from sklearn.utils.multiclass import unique_labels\n",
    "\n",
    "\n",
    "def plot_confusion_matrix(y_true, y_pred, classes,\n",
    "                          normalize=False,\n",
    "                          title=None,\n",
    "                          cmap=plt.cm.Blues):\n",
    "    \"\"\"\n",
    "    This function prints and plots the confusion matrix.\n",
    "    Normalization can be applied by setting `normalize=True`.\n",
    "    \"\"\"\n",
    "    if not title:\n",
    "        if normalize:\n",
    "            title = 'Normalized confusion matrix'\n",
    "        else:\n",
    "            title = 'Confusion matrix, without normalization'\n",
    "\n",
    "    # Compute confusion matrix\n",
    "    cm = confusion_matrix(y_true, y_pred)\n",
    "    # Only use the labels that appear in the data\n",
    "    classes = classes[unique_labels(y_true, y_pred)]\n",
    "    if normalize:\n",
    "        cm = cm.astype('float') / cm.sum(axis=1)[:, np.newaxis]\n",
    "        print(\"Normalized confusion matrix\")\n",
    "    else:\n",
    "        print('Confusion matrix, without normalization')\n",
    "\n",
    "    print(cm)\n",
    "\n",
    "    fig, ax = plt.subplots()\n",
    "    im = ax.imshow(cm, interpolation='nearest', cmap=cmap)\n",
    "    ax.figure.colorbar(im, ax=ax)\n",
    "    # We want to show all ticks...\n",
    "    ax.set(xticks=np.arange(cm.shape[1]),\n",
    "           yticks=np.arange(cm.shape[0]),\n",
    "           # ... and label them with the respective list entries\n",
    "           xticklabels=classes, yticklabels=classes,\n",
    "           title=title,\n",
    "           ylabel='True label',\n",
    "           xlabel='Predicted label')\n",
    "\n",
    "    # Rotate the tick labels and set their alignment.\n",
    "    plt.setp(ax.get_xticklabels(), rotation=45, ha=\"right\",\n",
    "             rotation_mode=\"anchor\")\n",
    "\n",
    "    # Loop over data dimensions and create text annotations.\n",
    "    fmt = '.2f' if normalize else 'd'\n",
    "    thresh = cm.max() / 2.\n",
    "    for i in range(cm.shape[0]):\n",
    "        for j in range(cm.shape[1]):\n",
    "            ax.text(j, i, format(cm[i, j], fmt),\n",
    "                    ha=\"center\", va=\"center\",\n",
    "                    color=\"white\" if cm[i, j] > thresh else \"black\")\n",
    "    fig.tight_layout()\n",
    "    return ax\n",
    "\n",
    "\n",
    "np.set_printoptions(precision=2)\n",
    "\n",
    "\n",
    "# Plot non-normalized confusion matrix\n",
    "plot_confusion_matrix(yval, y_pred, classes=np.array([\"same\", \"add\"]),\n",
    "                      title='Confusion matrix, without normalization')\n",
    "\n",
    "# Plot normalized confusion matrix\n",
    "plot_confusion_matrix(yval, y_pred, np.array([\"same\", \"add\"]), normalize=True,\n",
    "                      title='Normalized confusion matrix')\n",
    "\n",
    "plt.show()"
   ]
  },
  {
   "cell_type": "code",
   "execution_count": 69,
   "metadata": {},
   "outputs": [
    {
     "data": {
      "text/plain": [
       "array([0, 1, 1, ..., 1, 0, 0])"
      ]
     },
     "execution_count": 69,
     "metadata": {},
     "output_type": "execute_result"
    }
   ],
   "source": [
    "yval"
   ]
  },
  {
   "cell_type": "code",
   "execution_count": 59,
   "metadata": {},
   "outputs": [],
   "source": [
    "# import some data to play with\n",
    "iris = datasets.load_iris()\n",
    "X = iris.data\n",
    "y = iris.target\n",
    "class_names = iris.target_names\n",
    "\n",
    "# Split the data into a training set and a test set\n",
    "X_train, X_test, y_train, y_test = train_test_split(X, y, random_state=0)\n",
    "\n",
    "# Run classifier, using a model that is too regularized (C too low) to see\n",
    "# the impact on the results\n",
    "classifier = svm.SVC(kernel='linear', C=0.01)\n",
    "y_pred = classifier.fit(X_train, y_train).predict(X_test)"
   ]
  },
  {
   "cell_type": "code",
   "execution_count": 71,
   "metadata": {},
   "outputs": [
    {
     "data": {
      "text/plain": [
       "array(['setosa', 'versicolor', 'virginica'], dtype='<U10')"
      ]
     },
     "execution_count": 71,
     "metadata": {},
     "output_type": "execute_result"
    }
   ],
   "source": [
    "class_names"
   ]
  },
  {
   "cell_type": "code",
   "execution_count": 62,
   "metadata": {},
   "outputs": [
    {
     "data": {
      "text/plain": [
       "dtype('int64')"
      ]
     },
     "execution_count": 62,
     "metadata": {},
     "output_type": "execute_result"
    }
   ],
   "source": [
    "y_pred.dtype"
   ]
  },
  {
   "cell_type": "code",
   "execution_count": null,
   "metadata": {},
   "outputs": [],
   "source": [
    "len(x)"
   ]
  },
  {
   "cell_type": "code",
   "execution_count": null,
   "metadata": {},
   "outputs": [],
   "source": [
    "test_session_path = \"/home/wc-gpu/MasterThesis/session_data/122923_testing\""
   ]
  },
  {
   "cell_type": "code",
   "execution_count": null,
   "metadata": {},
   "outputs": [],
   "source": [
    "model.save()"
   ]
  },
  {
   "cell_type": "code",
   "execution_count": null,
   "metadata": {},
   "outputs": [],
   "source": []
  },
  {
   "cell_type": "code",
   "execution_count": null,
   "metadata": {},
   "outputs": [],
   "source": [
    "def step_decay(epoch):\n",
    "   initial_lrate = 0.10\n",
    "   drop = 0.8\n",
    "   epochs_drop = 10.0\n",
    "   lrate = initial_lrate * math.pow(drop,  \n",
    "           math.floor((1+epoch)/epochs_drop))\n",
    "   return lrate\n",
    "\n",
    "def exp_decay(epoch):\n",
    "   initial_lrate = 0.01\n",
    "   k = 0.1\n",
    "   lrate = initial_lrate * math.exp(-k*epoch)\n",
    "   return lrate\n",
    "\n",
    "lrate = LearningRateScheduler(exp_decay)\n",
    "# lrate = LearningRateScheduler(step_decay)\n",
    "\n",
    "# class LossHistory(Callback):\n",
    "#     def on_train_begin(self, logs={}):\n",
    "#        self.losses = []\n",
    "#        self.lr = []\n",
    " \n",
    "#     def on_epoch_end(self, batch, logs={}):\n",
    "#        self.losses.append(logs.get(\"val_loss\"))\n",
    "#        self.lr.append(step_decay(len(self.losses)))"
   ]
  }
 ],
 "metadata": {
  "kernelspec": {
   "display_name": "Python 3",
   "language": "python",
   "name": "python3"
  },
  "language_info": {
   "codemirror_mode": {
    "name": "ipython",
    "version": 3
   },
   "file_extension": ".py",
   "mimetype": "text/x-python",
   "name": "python",
   "nbconvert_exporter": "python",
   "pygments_lexer": "ipython3",
   "version": "3.6.0"
  }
 },
 "nbformat": 4,
 "nbformat_minor": 2
}
