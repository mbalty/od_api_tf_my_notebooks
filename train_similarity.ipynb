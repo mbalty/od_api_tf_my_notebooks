{
 "cells": [
  {
   "cell_type": "code",
   "execution_count": 44,
   "metadata": {
    "collapsed": true
   },
   "outputs": [],
   "source": [
    "from keras.applications.mobilenet import MobileNet\n",
    "from keras.applications.vgg16 import VGG16\n",
    "from keras.models import Model, Sequential\n",
    "from keras.layers import Concatenate, Dense, Input, Conv2D, Lambda, MaxPool2D, Flatten\n",
    "from keras.optimizers import Adam\n",
    "from PIL import Image\n",
    "import numpy as np\n",
    "import os\n",
    "from keras.preprocessing.image import ImageDataGenerator\n",
    "import cv2\n",
    "from matplotlib import pyplot as plt\n",
    "import random\n",
    "random.seed = 7\n",
    "from keras import backend as K\n",
    "\n",
    "\n",
    "from deep_tools.training_callbacks import *\n",
    "np.random.seed(7)"
   ]
  },
  {
   "cell_type": "code",
   "execution_count": 45,
   "metadata": {
    "collapsed": true
   },
   "outputs": [],
   "source": [
    "def contrastive_loss(y_true, y_pred):\n",
    "    '''Contrastive loss from Hadsell-et-al.'06\n",
    "    http://yann.lecun.com/exdb/publis/pdf/hadsell-chopra-lecun-06.pdf\n",
    "    '''\n",
    "    margin = 1\n",
    "    square_pred = K.square(y_pred)\n",
    "#     print (\"aaaaaaaaaaaaaaa\", y_pred)\n",
    "    margin_square = K.square(K.maximum(margin - y_pred, 0))\n",
    "    return K.mean(y_true * square_pred + (1 - y_true) * margin_square)"
   ]
  },
  {
   "cell_type": "code",
   "execution_count": 46,
   "metadata": {
    "collapsed": true
   },
   "outputs": [],
   "source": [
    "def acc(y_true, y_pred):\n",
    "    ones = K.ones_like(y_pred)\n",
    "    return K.mean(K.equal(y_true, ones - K.clip(K.round(y_pred), 0, 1)), axis=-1)"
   ]
  },
  {
   "cell_type": "code",
   "execution_count": 47,
   "metadata": {
    "collapsed": true
   },
   "outputs": [],
   "source": [
    "def euclidean_distance(vects):\n",
    "    x, y = vects\n",
    "    sum_square = K.sum(K.square(x - y), axis=1, keepdims=True)\n",
    "    return K.sqrt(K.maximum(sum_square, K.epsilon()))\n",
    "\n",
    "def eucl_dist_output_shape(shapes):\n",
    "    shape1, shape2 = shapes\n",
    "    return (shape1[0], 1)"
   ]
  },
  {
   "cell_type": "code",
   "execution_count": 51,
   "metadata": {
    "collapsed": true
   },
   "outputs": [],
   "source": [
    "# input_before = Input(shape=(128, 128, 3))\n",
    "# input_after = Input(shape=(128, 128, 3))\n",
    "# mobile = Dense(1024, activation=\"relu\")\n",
    "# before_feature = mobile(input_before)\n",
    "# after_feature = mobile(input_after)\n",
    "# # # after_feature = Dense(1024, activation=\"relu\")(after_feature)\n",
    "# # L1_layer = Lambda(lambda tensors:K.abs(tensors[0] - tensors[1]))\n",
    "# # distance = L1_layer([before_feature, after_feature])\n",
    "# distance = Lambda(euclidean_distance,\n",
    "#                   output_shape=eucl_dist_output_shape)([before_feature, after_feature])\n",
    "\n",
    "# # layer = Concatenate()([before_feature, after_feature])\n",
    "# # layer = Dense(1024, activation=\"relu\")(layer)\n",
    "# # layer = Dense(1024, activation=\"relu\")(layer)\n",
    "# # layer = Dense(1, activation=\"sigmoid\")(distance)\n",
    "# model = Model([input_before, input_after], distance)"
   ]
  },
  {
   "cell_type": "code",
   "execution_count": 49,
   "metadata": {
    "collapsed": true
   },
   "outputs": [],
   "source": [
    "input_before = Input(shape=(128, 128, 3))\n",
    "input_after = Input(shape=(128, 128, 3))\n",
    "mobile = MobileNet(input_shape=(128,128,3), weights=\"imagenet\")\n",
    "mobile = Sequential(layers=mobile.layers[2:-5])\n",
    "before_feature = mobile(input_before)\n",
    "after_feature = mobile(input_after)\n",
    "# # before_feature = Dense(1024, activation=\"relu\")(before_feature)\n",
    "# # after_feature = Dense(1024, activation=\"relu\")(after_feature)\n",
    "# L1_layer = Lambda(lambda tensors:K.abs(tensors[0] - tensors[1]))\n",
    "# distance = L1_layer([before_feature, after_feature])\n",
    "distance = Lambda(euclidean_distance,\n",
    "                  output_shape=eucl_dist_output_shape)([before_feature, after_feature])\n",
    "\n",
    "# layer = Concatenate()([before_feature, after_feature])\n",
    "# layer = Dense(1024, activation=\"relu\")(layer)\n",
    "# layer = Dense(1024, activation=\"relu\")(layer)\n",
    "# layer = Dense(1, activation=\"sigmoid\")(distance)\n",
    "model = Model([input_before, input_after], distance)"
   ]
  },
  {
   "cell_type": "code",
   "execution_count": 52,
   "metadata": {
    "collapsed": true
   },
   "outputs": [],
   "source": [
    "model.compile(loss=contrastive_loss, optimizer=Adam(), metrics=[acc])"
   ]
  },
  {
   "cell_type": "code",
   "execution_count": 53,
   "metadata": {},
   "outputs": [
    {
     "name": "stdout",
     "output_type": "stream",
     "text": [
      "_________________________________________________________________\n",
      "Layer (type)                 Output Shape              Param #   \n",
      "=================================================================\n",
      "conv1 (Conv2D)               multiple                  864       \n",
      "_________________________________________________________________\n",
      "conv1_bn (BatchNormalization multiple                  128       \n",
      "_________________________________________________________________\n",
      "conv1_relu (ReLU)            multiple                  0         \n",
      "_________________________________________________________________\n",
      "conv_dw_1 (DepthwiseConv2D)  multiple                  288       \n",
      "_________________________________________________________________\n",
      "conv_dw_1_bn (BatchNormaliza multiple                  128       \n",
      "_________________________________________________________________\n",
      "conv_dw_1_relu (ReLU)        multiple                  0         \n",
      "_________________________________________________________________\n",
      "conv_pw_1 (Conv2D)           multiple                  2048      \n",
      "_________________________________________________________________\n",
      "conv_pw_1_bn (BatchNormaliza multiple                  256       \n",
      "_________________________________________________________________\n",
      "conv_pw_1_relu (ReLU)        multiple                  0         \n",
      "_________________________________________________________________\n",
      "conv_pad_2 (ZeroPadding2D)   multiple                  0         \n",
      "_________________________________________________________________\n",
      "conv_dw_2 (DepthwiseConv2D)  multiple                  576       \n",
      "_________________________________________________________________\n",
      "conv_dw_2_bn (BatchNormaliza multiple                  256       \n",
      "_________________________________________________________________\n",
      "conv_dw_2_relu (ReLU)        multiple                  0         \n",
      "_________________________________________________________________\n",
      "conv_pw_2 (Conv2D)           multiple                  8192      \n",
      "_________________________________________________________________\n",
      "conv_pw_2_bn (BatchNormaliza multiple                  512       \n",
      "_________________________________________________________________\n",
      "conv_pw_2_relu (ReLU)        multiple                  0         \n",
      "_________________________________________________________________\n",
      "conv_dw_3 (DepthwiseConv2D)  multiple                  1152      \n",
      "_________________________________________________________________\n",
      "conv_dw_3_bn (BatchNormaliza multiple                  512       \n",
      "_________________________________________________________________\n",
      "conv_dw_3_relu (ReLU)        multiple                  0         \n",
      "_________________________________________________________________\n",
      "conv_pw_3 (Conv2D)           multiple                  16384     \n",
      "_________________________________________________________________\n",
      "conv_pw_3_bn (BatchNormaliza multiple                  512       \n",
      "_________________________________________________________________\n",
      "conv_pw_3_relu (ReLU)        multiple                  0         \n",
      "_________________________________________________________________\n",
      "conv_pad_4 (ZeroPadding2D)   multiple                  0         \n",
      "_________________________________________________________________\n",
      "conv_dw_4 (DepthwiseConv2D)  multiple                  1152      \n",
      "_________________________________________________________________\n",
      "conv_dw_4_bn (BatchNormaliza multiple                  512       \n",
      "_________________________________________________________________\n",
      "conv_dw_4_relu (ReLU)        multiple                  0         \n",
      "_________________________________________________________________\n",
      "conv_pw_4 (Conv2D)           multiple                  32768     \n",
      "_________________________________________________________________\n",
      "conv_pw_4_bn (BatchNormaliza multiple                  1024      \n",
      "_________________________________________________________________\n",
      "conv_pw_4_relu (ReLU)        multiple                  0         \n",
      "_________________________________________________________________\n",
      "conv_dw_5 (DepthwiseConv2D)  multiple                  2304      \n",
      "_________________________________________________________________\n",
      "conv_dw_5_bn (BatchNormaliza multiple                  1024      \n",
      "_________________________________________________________________\n",
      "conv_dw_5_relu (ReLU)        multiple                  0         \n",
      "_________________________________________________________________\n",
      "conv_pw_5 (Conv2D)           multiple                  65536     \n",
      "_________________________________________________________________\n",
      "conv_pw_5_bn (BatchNormaliza multiple                  1024      \n",
      "_________________________________________________________________\n",
      "conv_pw_5_relu (ReLU)        multiple                  0         \n",
      "_________________________________________________________________\n",
      "conv_pad_6 (ZeroPadding2D)   multiple                  0         \n",
      "_________________________________________________________________\n",
      "conv_dw_6 (DepthwiseConv2D)  multiple                  2304      \n",
      "_________________________________________________________________\n",
      "conv_dw_6_bn (BatchNormaliza multiple                  1024      \n",
      "_________________________________________________________________\n",
      "conv_dw_6_relu (ReLU)        multiple                  0         \n",
      "_________________________________________________________________\n",
      "conv_pw_6 (Conv2D)           multiple                  131072    \n",
      "_________________________________________________________________\n",
      "conv_pw_6_bn (BatchNormaliza multiple                  2048      \n",
      "_________________________________________________________________\n",
      "conv_pw_6_relu (ReLU)        multiple                  0         \n",
      "_________________________________________________________________\n",
      "conv_dw_7 (DepthwiseConv2D)  multiple                  4608      \n",
      "_________________________________________________________________\n",
      "conv_dw_7_bn (BatchNormaliza multiple                  2048      \n",
      "_________________________________________________________________\n",
      "conv_dw_7_relu (ReLU)        multiple                  0         \n",
      "_________________________________________________________________\n",
      "conv_pw_7 (Conv2D)           multiple                  262144    \n",
      "_________________________________________________________________\n",
      "conv_pw_7_bn (BatchNormaliza multiple                  2048      \n",
      "_________________________________________________________________\n",
      "conv_pw_7_relu (ReLU)        multiple                  0         \n",
      "_________________________________________________________________\n",
      "conv_dw_8 (DepthwiseConv2D)  multiple                  4608      \n",
      "_________________________________________________________________\n",
      "conv_dw_8_bn (BatchNormaliza multiple                  2048      \n",
      "_________________________________________________________________\n",
      "conv_dw_8_relu (ReLU)        multiple                  0         \n",
      "_________________________________________________________________\n",
      "conv_pw_8 (Conv2D)           multiple                  262144    \n",
      "_________________________________________________________________\n",
      "conv_pw_8_bn (BatchNormaliza multiple                  2048      \n",
      "_________________________________________________________________\n",
      "conv_pw_8_relu (ReLU)        multiple                  0         \n",
      "_________________________________________________________________\n",
      "conv_dw_9 (DepthwiseConv2D)  multiple                  4608      \n",
      "_________________________________________________________________\n",
      "conv_dw_9_bn (BatchNormaliza multiple                  2048      \n",
      "_________________________________________________________________\n",
      "conv_dw_9_relu (ReLU)        multiple                  0         \n",
      "_________________________________________________________________\n",
      "conv_pw_9 (Conv2D)           multiple                  262144    \n",
      "_________________________________________________________________\n",
      "conv_pw_9_bn (BatchNormaliza multiple                  2048      \n",
      "_________________________________________________________________\n",
      "conv_pw_9_relu (ReLU)        multiple                  0         \n",
      "_________________________________________________________________\n",
      "conv_dw_10 (DepthwiseConv2D) multiple                  4608      \n",
      "_________________________________________________________________\n",
      "conv_dw_10_bn (BatchNormaliz multiple                  2048      \n",
      "_________________________________________________________________\n",
      "conv_dw_10_relu (ReLU)       multiple                  0         \n",
      "_________________________________________________________________\n",
      "conv_pw_10 (Conv2D)          multiple                  262144    \n",
      "_________________________________________________________________\n",
      "conv_pw_10_bn (BatchNormaliz multiple                  2048      \n",
      "_________________________________________________________________\n",
      "conv_pw_10_relu (ReLU)       multiple                  0         \n",
      "_________________________________________________________________\n",
      "conv_dw_11 (DepthwiseConv2D) multiple                  4608      \n",
      "_________________________________________________________________\n",
      "conv_dw_11_bn (BatchNormaliz multiple                  2048      \n",
      "_________________________________________________________________\n",
      "conv_dw_11_relu (ReLU)       multiple                  0         \n",
      "_________________________________________________________________\n",
      "conv_pw_11 (Conv2D)          multiple                  262144    \n",
      "_________________________________________________________________\n",
      "conv_pw_11_bn (BatchNormaliz multiple                  2048      \n",
      "_________________________________________________________________\n",
      "conv_pw_11_relu (ReLU)       multiple                  0         \n",
      "_________________________________________________________________\n",
      "conv_pad_12 (ZeroPadding2D)  multiple                  0         \n",
      "_________________________________________________________________\n",
      "conv_dw_12 (DepthwiseConv2D) multiple                  4608      \n",
      "_________________________________________________________________\n",
      "conv_dw_12_bn (BatchNormaliz multiple                  2048      \n",
      "_________________________________________________________________\n",
      "conv_dw_12_relu (ReLU)       multiple                  0         \n",
      "_________________________________________________________________\n",
      "conv_pw_12 (Conv2D)          multiple                  524288    \n",
      "_________________________________________________________________\n",
      "conv_pw_12_bn (BatchNormaliz multiple                  4096      \n",
      "_________________________________________________________________\n",
      "conv_pw_12_relu (ReLU)       multiple                  0         \n",
      "_________________________________________________________________\n",
      "conv_dw_13 (DepthwiseConv2D) multiple                  9216      \n",
      "_________________________________________________________________\n",
      "conv_dw_13_bn (BatchNormaliz multiple                  4096      \n",
      "_________________________________________________________________\n",
      "conv_dw_13_relu (ReLU)       multiple                  0         \n",
      "_________________________________________________________________\n",
      "conv_pw_13 (Conv2D)          multiple                  1048576   \n",
      "_________________________________________________________________\n",
      "conv_pw_13_bn (BatchNormaliz multiple                  4096      \n",
      "_________________________________________________________________\n",
      "conv_pw_13_relu (ReLU)       multiple                  0         \n",
      "_________________________________________________________________\n",
      "global_average_pooling2d_3 ( (None, 1024)              0         \n",
      "=================================================================\n",
      "Total params: 3,228,864\n",
      "Trainable params: 3,206,976\n",
      "Non-trainable params: 21,888\n",
      "_________________________________________________________________\n"
     ]
    }
   ],
   "source": [
    "mobile.summary()"
   ]
  },
  {
   "cell_type": "code",
   "execution_count": 54,
   "metadata": {
    "collapsed": true
   },
   "outputs": [],
   "source": [
    "images_path = \"/home/wc-gpu/storage4tb/session_data_thesis/similar_boxes\""
   ]
  },
  {
   "cell_type": "code",
   "execution_count": 41,
   "metadata": {},
   "outputs": [
    {
     "name": "stdout",
     "output_type": "stream",
     "text": [
      "38096\n",
      "38000 38096 0.9974                                                                 \r"
     ]
    }
   ],
   "source": [
    "images_add = []\n",
    "images_move = []\n",
    "total = len(os.listdir(images_path))\n",
    "c = 0\n",
    "print (total)\n",
    "\n",
    "for imp in os.listdir(images_path):\n",
    "    data = int(imp.split(\"-\")[0]), cv2.imread(os.path.join(images_path, imp))\n",
    "    if \"add\" in imp:\n",
    "        images_add.append(data)\n",
    "    else:\n",
    "        images_move.append(data)\n",
    "    if not c%100:\n",
    "        print (c, total, str(c/total)[:6], end=\"                                                                 \\r\")\n",
    "    c+=1"
   ]
  },
  {
   "cell_type": "code",
   "execution_count": null,
   "metadata": {
    "collapsed": true
   },
   "outputs": [],
   "source": [
    "len(images_add)/2"
   ]
  },
  {
   "cell_type": "code",
   "execution_count": null,
   "metadata": {
    "collapsed": true
   },
   "outputs": [],
   "source": [
    "len(images_move)/2"
   ]
  },
  {
   "cell_type": "code",
   "execution_count": 55,
   "metadata": {
    "collapsed": true
   },
   "outputs": [],
   "source": [
    "images_add.sort(key=lambda a: a[0])\n",
    "images_move.sort(key=lambda a: a[0])"
   ]
  },
  {
   "cell_type": "code",
   "execution_count": 56,
   "metadata": {
    "collapsed": true
   },
   "outputs": [],
   "source": [
    "first = [cv2.resize(images_add[i][1], (128, 128)) for i in range(0, len(images_add), 2)]"
   ]
  },
  {
   "cell_type": "code",
   "execution_count": 57,
   "metadata": {
    "collapsed": true
   },
   "outputs": [],
   "source": [
    "second = [cv2.resize(images_add[i][1], (128, 128)) for i in range(1, len(images_add), 2)]"
   ]
  },
  {
   "cell_type": "code",
   "execution_count": 58,
   "metadata": {
    "collapsed": true
   },
   "outputs": [],
   "source": [
    "add_rand = list(range(len(first)))\n",
    "random.shuffle(add_rand)\n",
    "add_rand = add_rand[:2000]"
   ]
  },
  {
   "cell_type": "code",
   "execution_count": 59,
   "metadata": {
    "collapsed": true
   },
   "outputs": [],
   "source": [
    "first = [first[i] for i in add_rand]\n",
    "second = [second[i] for i in add_rand]"
   ]
  },
  {
   "cell_type": "code",
   "execution_count": 60,
   "metadata": {
    "collapsed": true
   },
   "outputs": [],
   "source": [
    "first += [cv2.resize(images_move[i][1], (128, 128)) for i in range(0, len(images_move), 2)]\n",
    "second += [cv2.resize(images_move[i][1], (128, 128)) for i in range(1, len(images_move), 2)]"
   ]
  },
  {
   "cell_type": "code",
   "execution_count": 61,
   "metadata": {
    "collapsed": true
   },
   "outputs": [],
   "source": [
    "first = np.stack(first).astype(\"float32\")"
   ]
  },
  {
   "cell_type": "code",
   "execution_count": 62,
   "metadata": {
    "collapsed": true
   },
   "outputs": [],
   "source": [
    "second = np.stack(second).astype(\"float32\")"
   ]
  },
  {
   "cell_type": "code",
   "execution_count": null,
   "metadata": {
    "collapsed": true
   },
   "outputs": [],
   "source": [
    "len(first)"
   ]
  },
  {
   "cell_type": "code",
   "execution_count": null,
   "metadata": {
    "collapsed": true
   },
   "outputs": [],
   "source": [
    "# -86 same diff [0.99766123]1\n",
    "# -84 same diff [0.99663854]2\n",
    "# -62 same diff [0.5117964]3\n",
    "# -57 same diff [0.99960846]\n",
    "# -55 same diff [0.996974]\n",
    "# -50 same diff [0.7908154]\n",
    "# -48 same diff [0.99994576]\n",
    "# -46 same diff [0.6441729]\n",
    "# -31 same diff [0.99958986]\n",
    "# -21 same diff [0.88893837]\n",
    "\n",
    "\n",
    "# 8 same diff [0.02218271]\n",
    "# 19 same diff [0.42524236]\n",
    "# 25 same diff [0.10976616]\n",
    "# 28 same diff [0.00051955]2\n",
    "# 37 same diff [0.4258078]\n",
    "# 49 same diff [0.35775208]3\n",
    "# 50 same diff a0.06384885]\n",
    "# 53 same diff [0.25450426]\n",
    "# 63 same diff [0.04156434]\n",
    "# 67 same diff [0.0015482]\n",
    "# 75 same diff [0.03109886]\n",
    "# 78 same diff [0.4863313]\n",
    "# 88 same diff [0.00188515]\n",
    "# 89 same diff [0.46252853]1\n",
    "# 91 same diff [0.00582761]"
   ]
  },
  {
   "cell_type": "code",
   "execution_count": null,
   "metadata": {
    "collapsed": true
   },
   "outputs": [],
   "source": [
    "# 1 same diff [0.55520195]\n",
    "# 3 same diff [0.92830646]\n",
    "# 25 same diff [0.738778]\n",
    "# 41 same diff [0.9809709]\n",
    "# 53 same diff [0.91135925]\n",
    "# 56 same diff [0.8680242]\n",
    "# 87 same diff [0.88560057]\n",
    "​"
   ]
  },
  {
   "cell_type": "code",
   "execution_count": null,
   "metadata": {
    "collapsed": true,
    "scrolled": true
   },
   "outputs": [],
   "source": [
    "plt.imshow(first_negative[25])"
   ]
  },
  {
   "cell_type": "code",
   "execution_count": null,
   "metadata": {
    "collapsed": true
   },
   "outputs": [],
   "source": [
    "plt.imshow(second[25])"
   ]
  },
  {
   "cell_type": "code",
   "execution_count": null,
   "metadata": {
    "collapsed": true
   },
   "outputs": [],
   "source": [
    "datagen = ImageDataGenerator(\n",
    "            rotation_range=45,\n",
    "            rescale=1./255.,\n",
    "            width_shift_range=0.1,\n",
    "            height_shift_range=0.1,\n",
    "            shear_range=0.1,\n",
    "            zoom_range=0.1,\n",
    "            horizontal_flip=True,\n",
    "            vertical_flip=True,\n",
    "            fill_mode='nearest',\n",
    "            zca_whitening=True)"
   ]
  },
  {
   "cell_type": "code",
   "execution_count": null,
   "metadata": {
    "collapsed": true
   },
   "outputs": [],
   "source": [
    "first.shape"
   ]
  },
  {
   "cell_type": "code",
   "execution_count": null,
   "metadata": {
    "collapsed": true
   },
   "outputs": [],
   "source": [
    "first = datagen.flow(first, batch_size=len(first), shuffle=False).next()"
   ]
  },
  {
   "cell_type": "code",
   "execution_count": null,
   "metadata": {
    "collapsed": true
   },
   "outputs": [],
   "source": [
    "second = datagen.flow(first, batch_size=len(first), shuffle=False).next()"
   ]
  },
  {
   "cell_type": "code",
   "execution_count": null,
   "metadata": {
    "collapsed": true
   },
   "outputs": [],
   "source": [
    "plt.imshow(first[-2])"
   ]
  },
  {
   "cell_type": "code",
   "execution_count": 63,
   "metadata": {
    "collapsed": true
   },
   "outputs": [],
   "source": [
    "negative = np.zeros(first.shape[0])\n",
    "positive = np.ones(first.shape[0])"
   ]
  },
  {
   "cell_type": "code",
   "execution_count": 64,
   "metadata": {
    "collapsed": true
   },
   "outputs": [],
   "source": [
    "Y = np.dstack([positive, negative]).flatten()"
   ]
  },
  {
   "cell_type": "code",
   "execution_count": 65,
   "metadata": {
    "collapsed": true
   },
   "outputs": [],
   "source": [
    "second_negative = np.copy(second)"
   ]
  },
  {
   "cell_type": "code",
   "execution_count": 66,
   "metadata": {
    "collapsed": true
   },
   "outputs": [],
   "source": [
    "idx = np.arange(len(second_negative))\n",
    "np.random.shuffle(idx)"
   ]
  },
  {
   "cell_type": "code",
   "execution_count": 67,
   "metadata": {
    "collapsed": true
   },
   "outputs": [],
   "source": [
    "second_negative = second_negative[idx]"
   ]
  },
  {
   "cell_type": "code",
   "execution_count": 68,
   "metadata": {
    "collapsed": true
   },
   "outputs": [],
   "source": [
    "X1 = []\n",
    "X2 = []\n",
    "for i in range(len(first)):\n",
    "    X1.append(first[i])\n",
    "    X2.append(second[i])\n",
    "    X1.append(first[i])\n",
    "    X2.append(second_negative[i])\n",
    "X1 = np.array(X1)\n",
    "X2 = np.array(X2)"
   ]
  },
  {
   "cell_type": "code",
   "execution_count": 69,
   "metadata": {
    "collapsed": true
   },
   "outputs": [],
   "source": [
    "# idx = np.arange(len(Y))\n",
    "# np.random.shuffle(idx)"
   ]
  },
  {
   "cell_type": "code",
   "execution_count": 70,
   "metadata": {
    "collapsed": true
   },
   "outputs": [],
   "source": [
    "# X1 = X1[idx]\n",
    "# X2 = X2[idx]\n",
    "# Y = Y[idx]"
   ]
  },
  {
   "cell_type": "code",
   "execution_count": 71,
   "metadata": {
    "collapsed": true
   },
   "outputs": [],
   "source": [
    "spl = 600\n",
    "X1test = X1[:spl]\n",
    "X2test = X2[:spl]\n",
    "Ytest = Y[:spl]\n",
    "X1 = X1[spl:]\n",
    "X2 = X2[spl:]\n",
    "Y = Y[spl:]"
   ]
  },
  {
   "cell_type": "code",
   "execution_count": 27,
   "metadata": {},
   "outputs": [
    {
     "data": {
      "text/plain": [
       "600"
      ]
     },
     "execution_count": 27,
     "metadata": {},
     "output_type": "execute_result"
    }
   ],
   "source": [
    "len(Ytest)"
   ]
  },
  {
   "cell_type": "code",
   "execution_count": 28,
   "metadata": {},
   "outputs": [
    {
     "data": {
      "text/plain": [
       "5546"
      ]
     },
     "execution_count": 28,
     "metadata": {},
     "output_type": "execute_result"
    }
   ],
   "source": [
    "len(Y)"
   ]
  },
  {
   "cell_type": "code",
   "execution_count": 29,
   "metadata": {},
   "outputs": [
    {
     "data": {
      "text/plain": [
       "3073"
      ]
     },
     "execution_count": 29,
     "metadata": {},
     "output_type": "execute_result"
    }
   ],
   "source": [
    "len(first)"
   ]
  },
  {
   "cell_type": "code",
   "execution_count": 72,
   "metadata": {
    "collapsed": true
   },
   "outputs": [],
   "source": [
    "acc_callback = TrainingAccuracyPlotter()\n",
    "loss_plotter = TrainingLossPlotter()\n",
    "time_plotter = TimeLogCallback()\n",
    "\n",
    "\n",
    "checkpoint = checkpoint_classification_callback(\n",
    "    checkpoint_path=\"/home/wc-gpu/MasterThesis/models/research/object_detection/od_api_tf_my_notebooks/checkpoint_similar\", \n",
    "    monitor='val_acc',\n",
    "    save_best_only=True)\n",
    "callbacks = [time_plotter, acc_callback, checkpoint]"
   ]
  },
  {
   "cell_type": "code",
   "execution_count": 73,
   "metadata": {},
   "outputs": [
    {
     "data": {
      "image/png": "[encoded data removed]",
      "text/plain": [
       "<matplotlib.figure.Figure at 0x7fa91cfcab70>"
      ]
     },
     "metadata": {
      "needs_background": "light"
     },
     "output_type": "display_data"
    },
    {
     "name": "stdout",
     "output_type": "stream",
     "text": [
      "\n",
      "Epoch 00100: val_acc did not improve from 0.92000\n"
     ]
    }
   ],
   "source": [
    "hitsory = model.fit(x=[X1, X2],\n",
    "    y=Y, \n",
    "    batch_size=32,\n",
    "    epochs=100,\n",
    "    verbose=1, \n",
    "    callbacks=callbacks,\n",
    "    validation_data = [[X1test, X2test], Ytest],\n",
    "#     validation_split=0.1, \n",
    "#     shuffle=True, \n",
    "    sample_weight=None, \n",
    "    initial_epoch=0)"
   ]
  },
  {
   "cell_type": "code",
   "execution_count": null,
   "metadata": {
    "collapsed": true
   },
   "outputs": [],
   "source": [
    "from keras.models import load_model\n",
    "# model.load_weights(\"checkpoint_similar/2019-04-08weights-epoch94-val_acc0.85-val_loss0.13.hdf5\")\n",
    "model = load_model(\"checkpoint_similar/keep/2019-04-08weights-epoch26-val_acc0.83-val_loss0.79-vgg_sigmoid.hdf5\")"
   ]
  },
  {
   "cell_type": "code",
   "execution_count": null,
   "metadata": {
    "collapsed": true
   },
   "outputs": [],
   "source": [
    "for i in range(100):\n",
    "    a = model.predict([first[i:i+1], second_negative[i:i+1]])[0]\n",
    "    if a > 0.5 and 0:\n",
    "        print (i, \"same\", \"diff\", a)\n",
    "    elif a < 0.5 and 1:\n",
    "        print (i, \"diff\", \"same\", a)"
   ]
  },
  {
   "cell_type": "code",
   "execution_count": null,
   "metadata": {
    "collapsed": true
   },
   "outputs": [],
   "source": [
    "plt.imshow(first[1])"
   ]
  },
  {
   "cell_type": "code",
   "execution_count": null,
   "metadata": {
    "collapsed": true
   },
   "outputs": [],
   "source": [
    "plt.imshow(second[1])"
   ]
  },
  {
   "cell_type": "code",
   "execution_count": null,
   "metadata": {
    "collapsed": true
   },
   "outputs": [],
   "source": []
  },
  {
   "cell_type": "code",
   "execution_count": null,
   "metadata": {
    "collapsed": true
   },
   "outputs": [],
   "source": []
  },
  {
   "cell_type": "code",
   "execution_count": null,
   "metadata": {
    "collapsed": true
   },
   "outputs": [],
   "source": [
    "'''Trains a Siamese MLP on pairs of digits from the MNIST dataset.\n",
    "\n",
    "It follows Hadsell-et-al.'06 [1] by computing the Euclidean distance on the\n",
    "output of the shared network and by optimizing the contrastive loss (see paper\n",
    "for more details).\n",
    "\n",
    "# References\n",
    "\n",
    "- Dimensionality Reduction by Learning an Invariant Mapping\n",
    "    http://yann.lecun.com/exdb/publis/pdf/hadsell-chopra-lecun-06.pdf\n",
    "\n",
    "Gets to 97.2% test accuracy after 20 epochs.\n",
    "2 seconds per epoch on a Titan X Maxwell GPU\n",
    "'''\n",
    "from __future__ import absolute_import\n",
    "from __future__ import print_function\n",
    "import numpy as np\n",
    "\n",
    "import random\n",
    "from keras.datasets import mnist\n",
    "from keras.models import Model\n",
    "from keras.layers import Input, Flatten, Dense, Dropout, Lambda\n",
    "from keras.optimizers import RMSprop\n",
    "from keras import backend as K\n",
    "\n",
    "num_classes = 10\n",
    "epochs = 20\n",
    "\n",
    "\n",
    "def euclidean_distance(vects):\n",
    "    x, y = vects\n",
    "    sum_square = K.sum(K.square(x - y), axis=1, keepdims=True)\n",
    "    return K.sqrt(K.maximum(sum_square, K.epsilon()))\n",
    "\n",
    "\n",
    "def eucl_dist_output_shape(shapes):\n",
    "    shape1, shape2 = shapes\n",
    "    return (shape1[0], 1)\n",
    "\n",
    "\n",
    "def contrastive_loss(y_true, y_pred):\n",
    "    '''Contrastive loss from Hadsell-et-al.'06\n",
    "    http://yann.lecun.com/exdb/publis/pdf/hadsell-chopra-lecun-06.pdf\n",
    "    '''\n",
    "    margin = 1\n",
    "    square_pred = K.square(y_pred)\n",
    "    margin_square = K.square(K.maximum(margin - y_pred, 0))\n",
    "    return K.mean(y_true * square_pred + (1 - y_true) * margin_square)\n",
    "\n",
    "\n",
    "def create_pairs(x, digit_indices):\n",
    "    '''Positive and negative pair creation.\n",
    "    Alternates between positive and negative pairs.\n",
    "    '''\n",
    "    pairs = []\n",
    "    labels = []\n",
    "    n = min([len(digit_indices[d]) for d in range(num_classes)]) - 1\n",
    "    for d in range(num_classes):\n",
    "        for i in range(n):\n",
    "            z1, z2 = digit_indices[d][i], digit_indices[d][i + 1]\n",
    "            pairs += [[x[z1], x[z2]]]\n",
    "            inc = random.randrange(1, num_classes)\n",
    "            dn = (d + inc) % num_classes\n",
    "            z1, z2 = digit_indices[d][i], digit_indices[dn][i]\n",
    "            pairs += [[x[z1], x[z2]]]\n",
    "            labels += [1, 0]\n",
    "    return np.array(pairs), np.array(labels)\n",
    "\n",
    "\n",
    "def create_base_network(input_shape):\n",
    "    '''Base network to be shared (eq. to feature extraction).\n",
    "    '''\n",
    "    input = Input(shape=input_shape)\n",
    "    x = Flatten()(input)\n",
    "    x = Dense(128, activation='relu')(x)\n",
    "    x = Dropout(0.1)(x)\n",
    "    x = Dense(128, activation='relu')(x)\n",
    "    x = Dropout(0.1)(x)\n",
    "    x = Dense(128, activation='relu')(x)\n",
    "    return Model(input, x)\n",
    "\n",
    "\n",
    "def compute_accuracy(y_true, y_pred):\n",
    "    '''Compute classification accuracy with a fixed threshold on distances.\n",
    "    '''\n",
    "    pred = y_pred.ravel() < 0.5\n",
    "    return np.mean(pred == y_true)\n",
    "\n",
    "\n",
    "def accuracy(y_true, y_pred):\n",
    "    '''Compute classification accuracy with a fixed threshold on distances.\n",
    "    '''\n",
    "    return K.mean(K.equal(y_true, K.cast(y_pred < 0.5, y_true.dtype)))\n",
    "\n",
    "\n",
    "# the data, split between train and test sets\n",
    "(x_train, y_train), (x_test, y_test) = mnist.load_data()\n",
    "x_train = x_train.astype('float32')\n",
    "x_test = x_test.astype('float32')\n",
    "x_train /= 255\n",
    "x_test /= 255\n",
    "input_shape = x_train.shape[1:]\n",
    "\n",
    "# create training+test positive and negative pairs\n",
    "digit_indices = [np.where(y_train == i)[0] for i in range(num_classes)]\n",
    "tr_pairs, tr_y = create_pairs(x_train, digit_indices)\n",
    "\n",
    "digit_indices = [np.where(y_test == i)[0] for i in range(num_classes)]\n",
    "te_pairs, te_y = create_pairs(x_test, digit_indices)\n",
    "\n",
    "# network definition\n",
    "base_network = create_base_network(input_shape)\n",
    "\n",
    "input_a = Input(shape=input_shape)\n",
    "input_b = Input(shape=input_shape)\n",
    "\n",
    "# because we re-use the same instance `base_network`,\n",
    "# the weights of the network\n",
    "# will be shared across the two branches\n",
    "processed_a = base_network(input_a)\n",
    "processed_b = base_network(input_b)\n",
    "\n",
    "distance = Lambda(euclidean_distance,\n",
    "                  output_shape=eucl_dist_output_shape)([processed_a, processed_b])\n",
    "\n",
    "model = Model([input_a, input_b], distance)\n",
    "\n",
    "# train\n",
    "rms = RMSprop()\n",
    "model.compile(loss=contrastive_loss, optimizer=rms, metrics=[accuracy])\n",
    "model.fit([tr_pairs[:, 0], tr_pairs[:, 1]], tr_y,\n",
    "          batch_size=128,\n",
    "          epochs=epochs,\n",
    "          validation_data=([te_pairs[:, 0], te_pairs[:, 1]], te_y))\n",
    "\n",
    "# compute final accuracy on training and test sets\n",
    "y_pred = model.predict([tr_pairs[:, 0], tr_pairs[:, 1]])\n",
    "tr_acc = compute_accuracy(tr_y, y_pred)\n",
    "y_pred = model.predict([te_pairs[:, 0], te_pairs[:, 1]])\n",
    "te_acc = compute_accuracy(te_y, y_pred)\n",
    "\n",
    "print('* Accuracy on training set: %0.2f%%' % (100 * tr_acc))\n",
    "print('* Accuracy on test set: %0.2f%%' % (100 * te_acc))"
   ]
  },
  {
   "cell_type": "code",
   "execution_count": null,
   "metadata": {
    "collapsed": true
   },
   "outputs": [],
   "source": [
    "tr_pairs.shape"
   ]
  },
  {
   "cell_type": "code",
   "execution_count": null,
   "metadata": {
    "collapsed": true
   },
   "outputs": [],
   "source": [
    "tr_y.shape"
   ]
  },
  {
   "cell_type": "code",
   "execution_count": null,
   "metadata": {
    "collapsed": true
   },
   "outputs": [],
   "source": [
    "tr_y[:10]"
   ]
  },
  {
   "cell_type": "code",
   "execution_count": null,
   "metadata": {
    "collapsed": true
   },
   "outputs": [],
   "source": []
  }
 ],
 "metadata": {
  "kernelspec": {
   "display_name": "Python 3",
   "language": "python",
   "name": "python3"
  },
  "language_info": {
   "codemirror_mode": {
    "name": "ipython",
    "version": 3
   },
   "file_extension": ".py",
   "mimetype": "text/x-python",
   "name": "python",
   "nbconvert_exporter": "python",
   "pygments_lexer": "ipython3",
   "version": "3.6.7"
  }
 },
 "nbformat": 4,
 "nbformat_minor": 2
}
