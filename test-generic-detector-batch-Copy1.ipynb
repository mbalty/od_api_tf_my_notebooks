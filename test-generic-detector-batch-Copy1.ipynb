{
 "cells": [
  {
   "cell_type": "markdown",
   "metadata": {
    "colab_type": "text",
    "id": "V8-yl-s-WKMG"
   },
   "source": [
    "# Object Detection Demo\n",
    "Welcome to the object detection inference walkthrough!  This notebook will walk you step by step through the process of using a pre-trained model to detect objects in an image. Make sure to follow the [installation instructions](https://github.com/tensorflow/models/blob/master/research/object_detection/g3doc/installation.md) before you start."
   ]
  },
  {
   "cell_type": "markdown",
   "metadata": {
    "colab_type": "text",
    "id": "kFSqkTCdWKMI"
   },
   "source": [
    "# Imports"
   ]
  },
  {
   "cell_type": "code",
   "execution_count": null,
   "metadata": {
    "colab": {
     "autoexec": {
      "startup": false,
      "wait_interval": 0
     }
    },
    "colab_type": "code",
    "id": "hV4P5gyTWKMI"
   },
   "outputs": [],
   "source": [
    "import numpy as np\n",
    "import os\n",
    "import six.moves.urllib as urllib\n",
    "import sys\n",
    "import tarfile\n",
    "import tensorflow as tf\n",
    "import zipfile\n",
    "\n",
    "from distutils.version import StrictVersion\n",
    "from collections import defaultdict\n",
    "from io import StringIO\n",
    "from matplotlib import pyplot as plt\n",
    "from PIL import Image\n",
    "\n",
    "# This is needed since the notebook is stored in the object_detection folder.\n",
    "sys.path.append(\"..\")\n",
    "from object_detection.utils import ops as utils_ops\n",
    "from object_detection.builders import model_builder\n",
    "from google.protobuf import text_format\n",
    "import tensorflow as tf\n",
    "from object_detection.protos import model_pb2\n",
    "import time\n",
    "from IPython.display import clear_output\n",
    "from keras.models import load_model\n",
    "from math import floor, ceil\n",
    "import cv2\n",
    "\n",
    "if StrictVersion(tf.__version__) < StrictVersion('1.9.0'):\n",
    "  raise ImportError('Please upgrade your TensorFlow installation to v1.9.* or later!')\n"
   ]
  },
  {
   "cell_type": "markdown",
   "metadata": {
    "colab_type": "text",
    "id": "Wy72mWwAWKMK"
   },
   "source": [
    "## Env setup"
   ]
  },
  {
   "cell_type": "code",
   "execution_count": null,
   "metadata": {
    "colab": {
     "autoexec": {
      "startup": false,
      "wait_interval": 0
     }
    },
    "colab_type": "code",
    "id": "v7m_NY_aWKMK"
   },
   "outputs": [],
   "source": [
    "# This is needed to display the images.\n",
    "%matplotlib inline"
   ]
  },
  {
   "cell_type": "markdown",
   "metadata": {
    "colab_type": "text",
    "id": "r5FNuiRPWKMN"
   },
   "source": [
    "## Object detection imports\n",
    "Here are the imports from the object detection module."
   ]
  },
  {
   "cell_type": "code",
   "execution_count": null,
   "metadata": {
    "colab": {
     "autoexec": {
      "startup": false,
      "wait_interval": 0
     }
    },
    "colab_type": "code",
    "id": "bm0_uNRnWKMN"
   },
   "outputs": [],
   "source": [
    "from utils import label_map_util\n",
    "\n",
    "from utils import visualization_utils as vis_util"
   ]
  },
  {
   "cell_type": "markdown",
   "metadata": {
    "colab_type": "text",
    "id": "cfn_tRFOWKMO"
   },
   "source": [
    "# Model preparation "
   ]
  },
  {
   "cell_type": "markdown",
   "metadata": {
    "colab_type": "text",
    "id": "X_sEBLpVWKMQ"
   },
   "source": [
    "## Variables\n",
    "\n",
    "Any model exported using the `export_inference_graph.py` tool can be loaded here simply by changing `PATH_TO_FROZEN_GRAPH` to point to a new .pb file.  \n",
    "\n",
    "By default we use an \"SSD with Mobilenet\" model here. See the [detection model zoo](https://github.com/tensorflow/models/blob/master/research/object_detection/g3doc/detection_model_zoo.md) for a list of other models that can be run out-of-the-box with varying speeds and accuracies."
   ]
  },
  {
   "cell_type": "code",
   "execution_count": null,
   "metadata": {
    "colab": {
     "autoexec": {
      "startup": false,
      "wait_interval": 0
     }
    },
    "colab_type": "code",
    "id": "VyPz_t8WWKMQ"
   },
   "outputs": [],
   "source": [
    "# What model to download.\n",
    "MODEL_NAME = '../prod_faster_rcnn_resnet50_coco_res_512x384_iou_genration'\n",
    "# MODEL_NAME = 'faster_rcnn_resnet50_coco_2018_01_28'\n",
    "# MODEL_NAME = 'faster_rcnn_inception_resnet_v2_atrous_coco_2018_01_28'\n",
    "\n",
    "MODEL_FILE = MODEL_NAME + '.tar.gz'\n",
    "DOWNLOAD_BASE = 'http://download.tensorflow.org/models/object_detection/'\n",
    "\n",
    "# Path to frozen detection graph. This is the actual model that is used for the object detection.\n",
    "PATH_TO_FROZEN_GRAPH = MODEL_NAME + '/frozen_inference_graph.pb'\n",
    "\n",
    "# List of the strings that is used to add correct label for each box.\n",
    "PATH_TO_LABELS = os.path.join('data', 'mscoco_label_map.pbtxt')\n",
    "\n",
    "# For the sake of simplicity we will use only 2 images:\n",
    "# image1.jpg\n",
    "# image2.jpg\n",
    "# If you want to test the code with your images, just add path to the images to the TEST_IMAGE_PATHS.\n",
    "test_image_path = \"/home/wc-gpu/MasterThesis/session_data/122923_testing\"\n",
    "# test_image_path = \"/Users/mbaltac/Home/MasterThesis/MasterThesis/labeled_images_shopping_sessions/labeled/122923_testing\"\n",
    "TEST_IMAGE_PATHS = sorted([os.path.join(test_image_path, f) for f in os.listdir(test_image_path) if f.endswith(\"jpg\")])\n",
    "\n",
    "\n",
    "# TEST_IMAGE_PATHS = [TEST_IMAGE_PATHS[0], TEST_IMAGE_PATHS[0]]\n",
    "\n",
    "\n",
    "# Size, in inches, of the output images.\n",
    "IMAGE_SIZE = (18, 12)\n",
    "\n",
    "SESSIONS_PATH = \"/home/wc-gpu/storage4tb/session_data_thesis/sessions160000_165000\""
   ]
  },
  {
   "cell_type": "markdown",
   "metadata": {
    "colab_type": "text",
    "id": "7ai8pLZZWKMS"
   },
   "source": [
    "## Download Model"
   ]
  },
  {
   "cell_type": "code",
   "execution_count": null,
   "metadata": {
    "colab": {
     "autoexec": {
      "startup": false,
      "wait_interval": 0
     }
    },
    "colab_type": "code",
    "id": "KILYnwR5WKMS"
   },
   "outputs": [],
   "source": [
    "# opener = urllib.request.URLopener()\n",
    "# opener.retrieve(DOWNLOAD_BASE + MODEL_FILE, MODEL_FILE)\n",
    "# tar_file = tarfile.open(MODEL_FILE)\n",
    "# for file in tar_file.getmembers():\n",
    "#   file_name = os.path.basename(file.name)\n",
    "#   if 'frozen_inference_graph.pb' in file_name:\n",
    "#     tar_file.extract(file, os.getcwd())"
   ]
  },
  {
   "cell_type": "markdown",
   "metadata": {
    "colab_type": "text",
    "id": "YBcB9QHLWKMU"
   },
   "source": [
    "## Load a (frozen) Tensorflow model into memory."
   ]
  },
  {
   "cell_type": "code",
   "execution_count": null,
   "metadata": {},
   "outputs": [],
   "source": [
    "# with tf.Graph().as_default():\n",
    "#   od_graph_def = tf.GraphDef()\n",
    "#   with tf.gfile.GFile(PATH_TO_FROZEN_GRAPH, 'rb') as fid:\n",
    "#     serialized_graph = fid.read()\n",
    "#     od_graph_def.ParseFromString(serialized_graph)\n",
    "#     tf.import_graph_def(od_graph_def, name='')"
   ]
  },
  {
   "cell_type": "markdown",
   "metadata": {
    "colab_type": "text",
    "id": "_1MVVTcLWKMW"
   },
   "source": [
    "## Loading label map\n",
    "Label maps map indices to category names, so that when our convolution network predicts `5`, we know that this corresponds to `airplane`.  Here we use internal utility functions, but anything that returns a dictionary mapping integers to appropriate string labels would be fine"
   ]
  },
  {
   "cell_type": "code",
   "execution_count": null,
   "metadata": {
    "colab": {
     "autoexec": {
      "startup": false,
      "wait_interval": 0
     }
    },
    "colab_type": "code",
    "id": "hDbpHkiWWKMX"
   },
   "outputs": [],
   "source": [
    "# category_index = label_map_util.create_category_index_from_labelmap(PATH_TO_LABELS, use_display_name=True)"
   ]
  },
  {
   "cell_type": "code",
   "execution_count": null,
   "metadata": {},
   "outputs": [],
   "source": [
    "category_index = {1: {'id': 1, 'name': 'product'},\n",
    " 2: {'id': 2, 'name': 'add'},\n",
    " 3: {'id': 3, 'name': 'remove'},\n",
    " 4: {'id': 4, 'name': 'move_from'},\n",
    " 5: {'id': 5, 'name': 'move_to'}}"
   ]
  },
  {
   "cell_type": "code",
   "execution_count": null,
   "metadata": {},
   "outputs": [],
   "source": []
  },
  {
   "cell_type": "markdown",
   "metadata": {
    "colab_type": "text",
    "id": "EFsoUHvbWKMZ"
   },
   "source": [
    "## Helper code"
   ]
  },
  {
   "cell_type": "code",
   "execution_count": null,
   "metadata": {
    "colab": {
     "autoexec": {
      "startup": false,
      "wait_interval": 0
     }
    },
    "colab_type": "code",
    "id": "aSlYc3JkWKMa"
   },
   "outputs": [],
   "source": [
    "def load_image_into_numpy_array(image):\n",
    "  (im_width, im_height) = image.size\n",
    "  return np.array(image.getdata()).reshape(\n",
    "      (im_height, im_width, 3)).astype(np.uint8)"
   ]
  },
  {
   "cell_type": "markdown",
   "metadata": {
    "colab_type": "text",
    "id": "H0_1AGhrWKMc"
   },
   "source": [
    "# Detection"
   ]
  },
  {
   "cell_type": "code",
   "execution_count": null,
   "metadata": {},
   "outputs": [],
   "source": [
    "def max_pool_dynamic_input(x, H_out, W_out):\n",
    "    out = None\n",
    "    (N, H, W, C) = x.shape\n",
    "    pool_height = np.zeros((H_out), dtype=\"int32\")\n",
    "    pool_width = np.zeros((W_out), dtype=\"int32\")\n",
    "    \n",
    "    div_h = int(H/H_out)\n",
    "    mod_h = H%H_out\n",
    "    div_w = int(W/W_out)\n",
    "    mod_w = W%W_out\n",
    "    pool_height = pool_height + div_h\n",
    "    pool_width = pool_width + div_w\n",
    "    pool_height[:mod_h] += 1\n",
    "    pool_width[:mod_w] += 1\n",
    "    \n",
    "    out = np.zeros((N, H_out, W_out, C))\n",
    "    for n in range(N):\n",
    "        for h in range(H_out):\n",
    "            for w in range(W_out):\n",
    "                h1 = sum(pool_height[:h])\n",
    "                h2 = h1 + pool_height[h]\n",
    "                w1 = sum(pool_width[:w])\n",
    "                w2 = w1 + pool_width[w]\n",
    "                window = x[n, h1:h2, w1:w2, :]\n",
    "                m = np.max(window, axis=0)\n",
    "                m = np.max(m, axis=0)\n",
    "                out[n,h,w,:] = m\n",
    "    \n",
    "    return out\n",
    "\n",
    "\n",
    "def get_max_and_concat(*args):\n",
    "    size = 0\n",
    "    for arg in args:\n",
    "        size += arg.shape[-1]\n",
    "    final = np.zeros(size)\n",
    "    \n",
    "    arg_size = 0\n",
    "    \n",
    "    i = 0\n",
    "    for arg in args:\n",
    "        max_pool = max_pool_dynamic_input(np.expand_dims(arg, 0), 1, 1)[0,0,0,:]\n",
    "        final[i: arg.shape[-1]+i] = max_pool\n",
    "        i+= arg.shape[-1]  \n",
    "    return final\n",
    "\n",
    "def get_max_and_concat2(*args):\n",
    "    size = 0\n",
    "    for arg in args:\n",
    "        size += arg.shape[-1]\n",
    "    final = np.zeros(size)\n",
    "    \n",
    "    arg_size = 0\n",
    "\n",
    "    for arg in args:\n",
    "        for i in range(arg.shape[-1]):\n",
    "            final[i+arg_size] = np.max(arg[:,:,i])\n",
    "        arg_size += arg.shape[-1]\n",
    "    \n",
    "#     mn = np.mean(final)\n",
    "#     std = np.std(final)\n",
    "#     final = (final - mn)/std\n",
    "\n",
    "    return final\n",
    "\n",
    "def max_pooled(previous_features, features, label):\n",
    "    box_prev = previous_features[\n",
    "        floor(label[0]*previous_features.shape[0]):\n",
    "        ceil(label[2]*previous_features.shape[0]), \n",
    "        floor(label[1]*previous_features.shape[1]):\n",
    "        ceil(label[3]*previous_features.shape[1]),:]\n",
    "    box_cur = features[\n",
    "        floor(label[0]*features.shape[0]):\n",
    "        ceil(label[2]*features.shape[0]), \n",
    "        floor(label[1]*features.shape[1]):\n",
    "        ceil(label[3]*features.shape[1]),:]\n",
    "\n",
    "    return get_max_and_concat(box_prev, previous_features, box_cur, features)\n",
    "\n",
    "def roi_pool(features, label):\n",
    "    box_features = features[\n",
    "        floor(label[0]*features.shape[0]):\n",
    "        ceil(label[2]*features.shape[0]), \n",
    "        floor(label[1]*features.shape[1]):\n",
    "        ceil(label[3]*features.shape[1]),:]\n",
    "    \n",
    "    return max_pool_dynamic_input(np.expand_dims(box_features, 0), 1, 1)[0,0,0,:]\n"
   ]
  },
  {
   "cell_type": "code",
   "execution_count": null,
   "metadata": {},
   "outputs": [],
   "source": [
    "a=np.random.rand(12, 13, 1024)"
   ]
  },
  {
   "cell_type": "code",
   "execution_count": null,
   "metadata": {},
   "outputs": [],
   "source": [
    "b=np.random.rand(3, 4, 1024)"
   ]
  },
  {
   "cell_type": "code",
   "execution_count": null,
   "metadata": {},
   "outputs": [],
   "source": [
    "c = get_max_and_concat(a, b)"
   ]
  },
  {
   "cell_type": "code",
   "execution_count": null,
   "metadata": {},
   "outputs": [],
   "source": [
    "c1 = get_max_and_concat2(a,b)"
   ]
  },
  {
   "cell_type": "code",
   "execution_count": null,
   "metadata": {},
   "outputs": [],
   "source": [
    "sum(c==c1) - len(c)"
   ]
  },
  {
   "cell_type": "code",
   "execution_count": null,
   "metadata": {},
   "outputs": [],
   "source": [
    "c1"
   ]
  },
  {
   "cell_type": "code",
   "execution_count": null,
   "metadata": {},
   "outputs": [],
   "source": [
    "def get_iou(bb1, bb2):\n",
    "    \"\"\"\n",
    "    Calculate the Intersection over Union (IoU) of two bounding boxes.\n",
    "\n",
    "    \"\"\"\n",
    "\n",
    "    b1y1, b1x1, b1y2, b1x2 = bb1\n",
    "    b2y1, b2x1, b2y2, b2x2 = bb2\n",
    "\n",
    "#     b1y1, b1x1, b1y2, b1x2 = b1y1, b1x1, b1y1+b1y2, b1x1+b1x2\n",
    "#     b2y1, b2x1, b2y2, b2x2 = b2y1, b2x1, b2y1+b2y2, b2x1+b2x2\n",
    "\n",
    "    b1y1, b1x1, b1y2, b1x2 = b1x1, b1y1, b1x2, b1y2\n",
    "    b2y1, b2x1, b2y2, b2x2 = b2x1, b2y1, b2x2, b2y2\n",
    "    \n",
    "    # determine the coordinates of the intersection rectangle\n",
    "    x_left = max(b1x1, b2x1)\n",
    "    y_top = max(b1y1, b2y1)\n",
    "    x_right = min(b1x2, b2x2)\n",
    "    y_bottom = min(b1y2, b2y2)\n",
    "\n",
    "    if x_right < x_left or y_bottom < y_top:\n",
    "        return 0.0\n",
    "\n",
    "    # The intersection of two axis-aligned bounding boxes is always an\n",
    "    # axis-aligned bounding box\n",
    "    intersection_area = (x_right - x_left) * (y_bottom - y_top)\n",
    "\n",
    "    # compute the area of both AABBs\n",
    "    bb1_area = (b1x2 - b1x1) * (b1y2 - b1y1)\n",
    "    bb2_area = (b2x2 - b2x1) * (b2y2 - b2y1)\n",
    "\n",
    "    # compute the intersection over union by taking the intersection\n",
    "    # area and dividing it by the sum of prediction + ground-truth\n",
    "    # areas - the interesection area\n",
    "    iou = intersection_area / float(bb1_area + bb2_area - intersection_area)\n",
    "    assert iou > 0.0\n",
    "    assert iou < 1.0\n",
    "    return iou\n",
    "\n",
    "\n",
    "def filter_detections(out_boxes, out_scores, iou_tresh = .5, score_tresh = 0.3):\n",
    "    fboxes, fscores, fclasses = [], [], []\n",
    "    removed = set()\n",
    "    \n",
    "    filter_score = np.where(out_scores > score_tresh)\n",
    "    print (filter_score)\n",
    "    \n",
    "    for i, b in reversed(list(enumerate(out_boxes))):\n",
    "        if i not in removed:\n",
    "            max_score = out_scores[i]\n",
    "            max_idx = i\n",
    "            for j in range(i+1, len(out_boxes)):\n",
    "                if j not in removed and get_iou(b, out_boxes[j]) > .65:\n",
    "                    if out_scores[j] > max_score:\n",
    "                        removed.add(max_idx)\n",
    "                        max_idx = j\n",
    "                        max_score = out_scores[j]\n",
    "                    else:\n",
    "                        removed.add(j)\n",
    "\n",
    "    for i in range(len(out_boxes)):\n",
    "        if i not in removed:\n",
    "            fboxes.append(out_boxes[i])\n",
    "            fscores.append(out_scores[i])\n",
    "            fclasses.append(out_classes[i])\n",
    "\n",
    "    return fboxes, fscores, fclasses"
   ]
  },
  {
   "cell_type": "code",
   "execution_count": null,
   "metadata": {},
   "outputs": [],
   "source": [
    "tf_config = tf.ConfigProto()\n",
    "tf_config.gpu_options.per_process_gpu_memory_fraction = 0.8"
   ]
  },
  {
   "cell_type": "code",
   "execution_count": null,
   "metadata": {
    "colab": {
     "autoexec": {
      "startup": false,
      "wait_interval": 0
     }
    },
    "colab_type": "code",
    "id": "92BHxzcNWKMf"
   },
   "outputs": [],
   "source": [
    "def run_inference_for_single_image(image):\n",
    "    with tf.Session(config=tf_config) as sess:\n",
    "\n",
    "      # Get handles to input and output tensors\n",
    "        ops = tf.get_default_graph().get_operations()\n",
    "        all_tensor_names = {output.name for op in ops for output in op.outputs}\n",
    "        tensor_dict = {}\n",
    "        for key in [\n",
    "          'num_detections', 'detection_boxes', 'detection_scores',\n",
    "          'detection_classes', 'detection_masks'\n",
    "        ]:\n",
    "            tensor_name = key + ':0'\n",
    "            if tensor_name in all_tensor_names:\n",
    "                tensor_dict[key] = tf.get_default_graph().get_tensor_by_name(\n",
    "                  tensor_name)\n",
    "        features = tf.get_default_graph().get_tensor_by_name(\n",
    "            'FirstStageFeatureExtractor/resnet_v1_50/resnet_v1_50/block3/unit_6/bottleneck_v1/Relu:0')\n",
    "\n",
    "        tensor_dict['features'] = tf.expand_dims(features, 0)\n",
    "        \n",
    "        image_tensor = tf.get_default_graph().get_tensor_by_name('image_tensor:0')\n",
    "\n",
    "        # Run inference\n",
    "        output_dict = sess.run(tensor_dict, \n",
    "                             feed_dict={image_tensor: np.expand_dims(image, 0)})\n",
    "\n",
    "        # all outputs are float32 numpy arrays, so convert types as appropriate\n",
    "        output_dict['num_detections'] = int(output_dict['num_detections'][0])\n",
    "        output_dict['detection_classes'] = output_dict[\n",
    "          'detection_classes'][0].astype(np.uint8)\n",
    "        output_dict['detection_boxes'] = output_dict['detection_boxes'][0]\n",
    "        output_dict['detection_scores'] = output_dict['detection_scores'][0]\n",
    "        output_dict['features'] = output_dict['features'][0][0]\n",
    "\n",
    "        return output_dict"
   ]
  },
  {
   "cell_type": "code",
   "execution_count": null,
   "metadata": {},
   "outputs": [],
   "source": [
    "def batch_gen(l, n):\n",
    "    \"\"\"Yield successive n-sized chunks from l.\"\"\"\n",
    "    for i in range(0, len(l), n):\n",
    "        yield l[i: min(i + n, len(l))]\n",
    "        \n",
    "def run_inference_for_batch(images, batch = 16):\n",
    "    with tf.Session(config=tf_config) as sess:\n",
    "#         batches = batch_gen(images, batch)\n",
    "      # Get handles to input and output tensors\n",
    "        ops = tf.get_default_graph().get_operations()\n",
    "        all_tensor_names = {output.name for op in ops for output in op.outputs}\n",
    "        tensor_dict = {}\n",
    "        for key in [\n",
    "          'num_detections', 'detection_boxes', 'detection_scores',\n",
    "          'detection_classes', 'detection_masks'\n",
    "        ]:\n",
    "            tensor_name = key + ':0'\n",
    "            if tensor_name in all_tensor_names:\n",
    "                tensor_dict[key] = tf.get_default_graph().get_tensor_by_name(\n",
    "                  tensor_name)\n",
    "        features = tf.get_default_graph().get_tensor_by_name(\n",
    "            'FirstStageFeatureExtractor/resnet_v1_50/resnet_v1_50/block3/unit_6/bottleneck_v1/Relu:0')\n",
    "\n",
    "        tensor_dict['features'] = tf.expand_dims(features, 0)\n",
    "        \n",
    "        image_tensor = tf.get_default_graph().get_tensor_by_name('image_tensor:0')\n",
    "        \n",
    "        # Run inference\n",
    "        output_dict = sess.run(tensor_dict, \n",
    "                             feed_dict={image_tensor: images})\n",
    "\n",
    "        # all outputs are float32 numpy arrays, so convert types as appropriate\n",
    "        output_dict['num_detections'] = output_dict['num_detections'].astype(np.uint8)\n",
    "        output_dict['detection_classes'] = output_dict[\n",
    "          'detection_classes'].astype(np.uint8)\n",
    "        output_dict['detection_boxes'] = output_dict['detection_boxes']\n",
    "        output_dict['detection_scores'] = output_dict['detection_scores']\n",
    "        output_dict['features'] = output_dict['features'][0]\n",
    "\n",
    "        return output_dict"
   ]
  },
  {
   "cell_type": "code",
   "execution_count": null,
   "metadata": {},
   "outputs": [],
   "source": [
    "#     ker_model = load_model(\n",
    "#         \"/home/wc-gpu/MasterThesis/models/research/object_detection/box_classification_checkpoint/keep/new_trained_one_class_acc0.86.hdf5\")\n",
    "\n",
    "session_path = \"/home/wc-gpu/storage4tb/session_data_thesis/sessions160000_165000/123034//\"\n",
    "# session_path = \"/home/wc-gpu/MasterThesis/session_data/122923_testing\"\n",
    "# 122873\n",
    "\n",
    "image_paths = sorted([f for f in os.listdir(session_path) if f.endswith(\".jpg\")])\n",
    "total_images = len(image_paths)\n",
    "prev_features = None\n",
    "\n",
    "images = []\n",
    "for image_fname in image_paths:\n",
    "    has_processed = False\n",
    "    t0 = time.time()\n",
    "    image_path = os.path.join(session_path, image_fname)\n",
    "\n",
    "    image = Image.open(image_path)\n",
    "    image_np = load_image_into_numpy_array(image)\n",
    "    images.append(image_np)"
   ]
  },
  {
   "cell_type": "code",
   "execution_count": null,
   "metadata": {
    "scrolled": true
   },
   "outputs": [],
   "source": [
    "progress = 0\n",
    "batch_size = 16\n",
    "processed = 0\n",
    "time_avg = 0\n",
    "\n",
    "outputs = []\n",
    "\n",
    "total_time = 0\n",
    "box_predictions = []\n",
    "tf.reset_default_graph()\n",
    "with tf.Graph().as_default():\n",
    "    od_graph_def = tf.GraphDef()\n",
    "    with tf.gfile.GFile(PATH_TO_FROZEN_GRAPH, 'rb') as fid:\n",
    "        serialized_graph = fid.read()\n",
    "        od_graph_def.ParseFromString(serialized_graph)\n",
    "        tf.import_graph_def(od_graph_def, name='')\n",
    "    \n",
    "    image_batch = batch_gen(images, batch_size)        \n",
    "    for img_b in image_batch:\n",
    "        output_dict = run_inference_for_batch(img_b)\n",
    "        outputs.append(output_dict)\n",
    "        \n",
    "        progress += batch_size\n",
    "        processed += batch_size\n",
    "        t1 = time.time()\n",
    "\n",
    "        total = t1-t0\n",
    "        \n",
    "        time_avg = (total_time + total) / processed\n",
    "        \n",
    "        total_time += total\n",
    "        \n",
    "        log_text = \" \".join([\"progress \", \":\", str(progress / total_images), \n",
    "                             str(progress), str(total_images)])\n",
    "        log_text += \" | \"\n",
    "\n",
    "        log_text += \"\".join([\"process time \", str(total)])\n",
    "        log_text += \" | \"\n",
    "        log_text += \"\".join([\" time passed: \", str(time_avg*processed) ,\" s, remaining: \", str(time_avg* (total_images - progress) ), \" s\"])\n",
    "            \n",
    "\n",
    "        print (log_text, end=\"                                       \\r\")"
   ]
  },
  {
   "cell_type": "code",
   "execution_count": null,
   "metadata": {},
   "outputs": [],
   "source": [
    "def cos(vA, vB):\n",
    "    return np.dot(vA, vB) / (np.sqrt(np.dot(vA,vA)) * np.sqrt(np.dot(vB,vB)))\n",
    "def normalize(x):\n",
    "    mn = np.mean(x, axis=0)\n",
    "    std = np.std(x, axis=0)\n",
    "    x = (x - mn)/std\n",
    "    return mn, std"
   ]
  },
  {
   "cell_type": "code",
   "execution_count": null,
   "metadata": {},
   "outputs": [],
   "source": [
    "from keras.applications.mobilenet_v2 import MobileNetV2\n",
    "from keras.models import Model"
   ]
  },
  {
   "cell_type": "code",
   "execution_count": null,
   "metadata": {},
   "outputs": [],
   "source": [
    "mobile_model = MobileNetV2(input_shape=(96, 96, 3))"
   ]
  },
  {
   "cell_type": "code",
   "execution_count": null,
   "metadata": {},
   "outputs": [],
   "source": [
    "mobile_model.get_layer(\"global_average_pooling2d_1\")\n",
    "\n",
    "feature_extractor = Model(mobile_model.input, mobile_model.get_layer(\"global_average_pooling2d_1\").output)"
   ]
  },
  {
   "cell_type": "code",
   "execution_count": null,
   "metadata": {},
   "outputs": [],
   "source": []
  },
  {
   "cell_type": "code",
   "execution_count": null,
   "metadata": {},
   "outputs": [],
   "source": [
    "compare = load_model(\"/home/wc-gpu/MasterThesis/models/research/object_detection/od_api_tf_my_notebooks/checkpoint_similar/2019-04-04weights-epoch30-val_acc0.83-val_loss0.74.hdf5\")"
   ]
  },
  {
   "cell_type": "code",
   "execution_count": null,
   "metadata": {},
   "outputs": [],
   "source": [
    "new_outs = []\n",
    "prev_out = None\n",
    "prev_image = None\n",
    "i=0\n",
    "for big_dict in outputs:\n",
    "    for j in range(len(big_dict[\"num_detections\"])):\n",
    "        output_dict = {}\n",
    "        for k in big_dict.keys():\n",
    "            output_dict[k] = big_dict[k][j]    \n",
    "        new_det = []\n",
    "        new_cls = []\n",
    "        image_np = images[i*batch_size + j]\n",
    "        if prev_out:\n",
    "            prev_det = prev_out['detection_boxes']\n",
    "            \n",
    "            nfound = set()\n",
    "            ofound = set()\n",
    "            for ni in range(len(output_dict['detection_boxes'])):\n",
    "                if output_dict['detection_scores'][ni] < .5:\n",
    "                    continue\n",
    "                nb = output_dict['detection_boxes'][ni]\n",
    "                int_box = [int(nb[0]*image_np.shape[0]),\n",
    "                int(nb[1]*image_np.shape[1]),\n",
    "                int(nb[2]*image_np.shape[0]),\n",
    "                int(nb[3]*image_np.shape[1])]\n",
    "                \n",
    "                ncrop = image_np[int_box[0]:int_box[2] , int_box[1]:int_box[3], :]\n",
    "                ncrop = cv2.resize(ncrop, (96, 96))/255.\n",
    "#                 cv2.imshow(\"A\", ncrop)\n",
    "                found = False\n",
    "                for oi in range(len(prev_det)):\n",
    "                    if prev_out['detection_scores'][oi] < .6:\n",
    "                        continue\n",
    "                    ob = prev_det[oi]\n",
    "                    int_box = [int(ob[0]*image_np.shape[0]),\n",
    "                    int(ob[1]*image_np.shape[1]),\n",
    "                    int(ob[2]*image_np.shape[0]),\n",
    "                    int(ob[3]*image_np.shape[1])]\n",
    "                    ocrop = prev_image[int_box[0]:int_box[2] , int_box[1]:int_box[3], :]\n",
    "                    \n",
    "                    ocrop = cv2.resize(ocrop, (96, 96))/255.\n",
    "                    \n",
    "                    similarity = compare.predict([np.expand_dims(ocrop, 0), np.expand_dims(ncrop, 0)])[0]\n",
    "                    print(similarity)\n",
    "                    if 1-similarity < 0.5:\n",
    "                        found = True\n",
    "                        break\n",
    "                    \n",
    "                if not found:\n",
    "                    print (\"found\", )\n",
    "                    new_det.append(nb)\n",
    "                    new_cls.append(2)\n",
    "\n",
    "#             for ob in prev_det:\n",
    "#                 found = False\n",
    "#                 for nb in output_dict['detection_boxes']:\n",
    "#                     if get_iou(ob, nb) > 0.8:\n",
    "#                         found = True\n",
    "#                         break\n",
    "#                 if not found:\n",
    "#                     new_det.append(ob)\n",
    "#                     new_cls.append(3)      \n",
    "\n",
    "#         else:\n",
    "#             new_cls = len(output_dict['detection_boxes'])*[2]\n",
    "#             new_det = output_dict['detection_boxes']\n",
    "        \n",
    "        new_dict = dict()\n",
    "        new_dict.update(output_dict)\n",
    "        \n",
    "        \n",
    "        new_dict['detection_boxes'] = np.array(new_det)\n",
    "        new_dict['detection_classes'] = np.array(new_cls)\n",
    "        new_dict['detection_scores'] = np.ones(len(new_det))\n",
    "        del new_dict[\"features\"]\n",
    "        \n",
    "        new_outs.append(new_dict)\n",
    "        \n",
    "        prev_out = output_dict\n",
    "        prev_image = image_np\n",
    "    i+=1"
   ]
  },
  {
   "cell_type": "code",
   "execution_count": null,
   "metadata": {
    "scrolled": false
   },
   "outputs": [],
   "source": [
    "from IPython.display import display, clear_output\n",
    "clear_output(wait=True)\n",
    "\n",
    "i=0\n",
    "for i in range(len(new_outs)):\n",
    "    output_dict = new_outs[i]\n",
    "    not_same = np.where(output_dict[\"detection_classes\"] > 0)\n",
    "    image_np = images[i]\n",
    "    image_np_out = np.copy(image_np)\n",
    "    vis_util.visualize_boxes_and_labels_on_image_array(\n",
    "          image_np_out,\n",
    "          output_dict['detection_boxes'][not_same],\n",
    "          output_dict[\"detection_classes\"][not_same],\n",
    "          output_dict['detection_scores'][not_same],\n",
    "          category_index,\n",
    "          use_normalized_coordinates=True,\n",
    "          line_thickness=5,\n",
    "          min_score_thresh=.5)\n",
    "    plt.figure(figsize=IMAGE_SIZE)\n",
    "    plt.imshow(image_np_out)\n"
   ]
  },
  {
   "cell_type": "code",
   "execution_count": null,
   "metadata": {},
   "outputs": [],
   "source": [
    "# from IPython.display import display, clear_output\n",
    "# clear_output(wait=True)\n",
    "\n",
    "# i=0\n",
    "# for big_dict in outputs:\n",
    "#     for j in range(len(big_dict[\"num_detections\"])):\n",
    "#         output_dict = {}\n",
    "#         for k in big_dict.keys():\n",
    "#             output_dict[k] = big_dict[k][j]\n",
    "#         not_same = np.where(output_dict[\"detection_classes\"] > 0)\n",
    "#         image_np = images[i*batch_size + j]\n",
    "#         image_np_out = np.copy(image_np)\n",
    "#         vis_util.visualize_boxes_and_labels_on_image_array(\n",
    "#               image_np_out,\n",
    "#               output_dict['detection_boxes'][not_same],\n",
    "#               output_dict[\"detection_classes\"][not_same],\n",
    "#               output_dict['detection_scores'][not_same],\n",
    "#               category_index,\n",
    "#               use_normalized_coordinates=True,\n",
    "#               line_thickness=5,\n",
    "#               min_score_thresh=.5)\n",
    "#         plt.figure(figsize=IMAGE_SIZE)\n",
    "#         plt.imshow(image_np_out)\n",
    "#     i+=1\n"
   ]
  },
  {
   "cell_type": "code",
   "execution_count": null,
   "metadata": {},
   "outputs": [],
   "source": []
  },
  {
   "cell_type": "code",
   "execution_count": null,
   "metadata": {},
   "outputs": [],
   "source": []
  },
  {
   "cell_type": "code",
   "execution_count": null,
   "metadata": {
    "scrolled": true
   },
   "outputs": [],
   "source": [
    "new_outs = []\n",
    "prev_out = None\n",
    "prev_image = None\n",
    "i=0\n",
    "for big_dict in outputs:\n",
    "    for j in range(len(big_dict[\"num_detections\"])):\n",
    "        output_dict = {}\n",
    "        for k in big_dict.keys():\n",
    "            output_dict[k] = big_dict[k][j]    \n",
    "        new_det = []\n",
    "        new_cls = []\n",
    "        image_np = images[i*batch_size + j]\n",
    "        if prev_out:\n",
    "            prev_det = prev_out['detection_boxes']\n",
    "            \n",
    "            nfound = set()\n",
    "            ofound = set()\n",
    "            for ni in range(len(output_dict['detection_boxes'])):\n",
    "                if output_dict['detection_scores'][ni] < .6:\n",
    "                    continue\n",
    "                nb = output_dict['detection_boxes'][ni]\n",
    "                n_features = roi_pool(output_dict[\"features\"], nb)\n",
    "#                 normalize(n_features)\n",
    "                found = False\n",
    "                for oi in range(len(prev_det)):\n",
    "                    if prev_out['detection_scores'][oi] < .6:\n",
    "                        continue\n",
    "                    ob = prev_det[oi]\n",
    "                    o_features = roi_pool(prev_out[\"features\"], ob)\n",
    "#                     normalize(o_features)\n",
    "                    print (cos(n_features, o_features))\n",
    "                    if oi not in ofound and cos(n_features, o_features) >.5:\n",
    "                        found = True\n",
    "                        ofound.add(oi)\n",
    "                        nfound.add(ni)\n",
    "                        break\n",
    "                if not found:\n",
    "                    print (\"forund\", cos(n_features, o_features))\n",
    "                    new_det.append(nb)\n",
    "                    new_cls.append(2)\n",
    "\n",
    "#             for ob in prev_det:\n",
    "#                 found = False\n",
    "#                 for nb in output_dict['detection_boxes']:\n",
    "#                     if get_iou(ob, nb) > 0.8:\n",
    "#                         found = True\n",
    "#                         break\n",
    "#                 if not found:\n",
    "#                     new_det.append(ob)\n",
    "#                     new_cls.append(3)      \n",
    "\n",
    "        else:\n",
    "            new_cls = len(output_dict['detection_boxes'])*[2]\n",
    "            new_det = output_dict['detection_boxes']\n",
    "        \n",
    "        new_dict = dict()\n",
    "        new_dict.update(output_dict)\n",
    "        \n",
    "        \n",
    "        new_dict['detection_boxes'] = np.array(new_det)\n",
    "        new_dict['detection_classes'] = np.array(new_cls)\n",
    "        new_dict['detection_scores'] = np.ones(len(new_det))\n",
    "        del new_dict[\"features\"]\n",
    "        \n",
    "        new_outs.append(new_dict)\n",
    "        \n",
    "        prev_out = output_dict\n",
    "    i+=1"
   ]
  }
 ],
 "metadata": {
  "colab": {
   "default_view": {},
   "name": "object_detection_tutorial.ipynb?workspaceId=ronnyvotel:python_inference::citc",
   "provenance": [],
   "version": "0.3.2",
   "views": {}
  },
  "kernelspec": {
   "display_name": "Python 3",
   "language": "python",
   "name": "python3"
  },
  "language_info": {
   "codemirror_mode": {
    "name": "ipython",
    "version": 3
   },
   "file_extension": ".py",
   "mimetype": "text/x-python",
   "name": "python",
   "nbconvert_exporter": "python",
   "pygments_lexer": "ipython3",
   "version": "3.6.0"
  }
 },
 "nbformat": 4,
 "nbformat_minor": 1
}
