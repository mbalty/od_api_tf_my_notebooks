{
 "cells": [
  {
   "cell_type": "markdown",
   "metadata": {
    "colab_type": "text",
    "id": "V8-yl-s-WKMG"
   },
   "source": [
    "# Object Detection Demo\n",
    "Welcome to the object detection inference walkthrough!  This notebook will walk you step by step through the process of using a pre-trained model to detect objects in an image. Make sure to follow the [installation instructions](https://github.com/tensorflow/models/blob/master/research/object_detection/g3doc/installation.md) before you start."
   ]
  },
  {
   "cell_type": "markdown",
   "metadata": {
    "colab_type": "text",
    "id": "kFSqkTCdWKMI"
   },
   "source": [
    "# Imports"
   ]
  },
  {
   "cell_type": "code",
   "execution_count": 1,
   "metadata": {
    "colab": {
     "autoexec": {
      "startup": false,
      "wait_interval": 0
     }
    },
    "colab_type": "code",
    "id": "hV4P5gyTWKMI"
   },
   "outputs": [
    {
     "name": "stderr",
     "output_type": "stream",
     "text": [
      "/home/wc-gpu/MasterThesis/models/research/object_detection/utils/visualization_utils.py:26: UserWarning: \n",
      "This call to matplotlib.use() has no effect because the backend has already\n",
      "been chosen; matplotlib.use() must be called *before* pylab, matplotlib.pyplot,\n",
      "or matplotlib.backends is imported for the first time.\n",
      "\n",
      "The backend was *originally* set to 'module://ipykernel.pylab.backend_inline' by the following code:\n",
      "  File \"/home/wc-gpu/anaconda3/lib/python3.6/runpy.py\", line 193, in _run_module_as_main\n",
      "    \"__main__\", mod_spec)\n",
      "  File \"/home/wc-gpu/anaconda3/lib/python3.6/runpy.py\", line 85, in _run_code\n",
      "    exec(code, run_globals)\n",
      "  File \"/home/wc-gpu/anaconda3/lib/python3.6/site-packages/ipykernel_launcher.py\", line 16, in <module>\n",
      "    app.launch_new_instance()\n",
      "  File \"/home/wc-gpu/anaconda3/lib/python3.6/site-packages/traitlets/config/application.py\", line 658, in launch_instance\n",
      "    app.start()\n",
      "  File \"/home/wc-gpu/anaconda3/lib/python3.6/site-packages/ipykernel/kernelapp.py\", line 505, in start\n",
      "    self.io_loop.start()\n",
      "  File \"/home/wc-gpu/anaconda3/lib/python3.6/site-packages/tornado/platform/asyncio.py\", line 132, in start\n",
      "    self.asyncio_loop.run_forever()\n",
      "  File \"/home/wc-gpu/anaconda3/lib/python3.6/asyncio/base_events.py\", line 421, in run_forever\n",
      "    self._run_once()\n",
      "  File \"/home/wc-gpu/anaconda3/lib/python3.6/asyncio/base_events.py\", line 1425, in _run_once\n",
      "    handle._run()\n",
      "  File \"/home/wc-gpu/anaconda3/lib/python3.6/asyncio/events.py\", line 126, in _run\n",
      "    self._callback(*self._args)\n",
      "  File \"/home/wc-gpu/anaconda3/lib/python3.6/site-packages/tornado/ioloop.py\", line 758, in _run_callback\n",
      "    ret = callback()\n",
      "  File \"/home/wc-gpu/anaconda3/lib/python3.6/site-packages/tornado/stack_context.py\", line 300, in null_wrapper\n",
      "    return fn(*args, **kwargs)\n",
      "  File \"/home/wc-gpu/anaconda3/lib/python3.6/site-packages/tornado/gen.py\", line 1233, in inner\n",
      "    self.run()\n",
      "  File \"/home/wc-gpu/anaconda3/lib/python3.6/site-packages/tornado/gen.py\", line 1147, in run\n",
      "    yielded = self.gen.send(value)\n",
      "  File \"/home/wc-gpu/anaconda3/lib/python3.6/site-packages/ipykernel/kernelbase.py\", line 357, in process_one\n",
      "    yield gen.maybe_future(dispatch(*args))\n",
      "  File \"/home/wc-gpu/anaconda3/lib/python3.6/site-packages/tornado/gen.py\", line 326, in wrapper\n",
      "    yielded = next(result)\n",
      "  File \"/home/wc-gpu/anaconda3/lib/python3.6/site-packages/ipykernel/kernelbase.py\", line 267, in dispatch_shell\n",
      "    yield gen.maybe_future(handler(stream, idents, msg))\n",
      "  File \"/home/wc-gpu/anaconda3/lib/python3.6/site-packages/tornado/gen.py\", line 326, in wrapper\n",
      "    yielded = next(result)\n",
      "  File \"/home/wc-gpu/anaconda3/lib/python3.6/site-packages/ipykernel/kernelbase.py\", line 534, in execute_request\n",
      "    user_expressions, allow_stdin,\n",
      "  File \"/home/wc-gpu/anaconda3/lib/python3.6/site-packages/tornado/gen.py\", line 326, in wrapper\n",
      "    yielded = next(result)\n",
      "  File \"/home/wc-gpu/anaconda3/lib/python3.6/site-packages/ipykernel/ipkernel.py\", line 294, in do_execute\n",
      "    res = shell.run_cell(code, store_history=store_history, silent=silent)\n",
      "  File \"/home/wc-gpu/anaconda3/lib/python3.6/site-packages/ipykernel/zmqshell.py\", line 536, in run_cell\n",
      "    return super(ZMQInteractiveShell, self).run_cell(*args, **kwargs)\n",
      "  File \"/home/wc-gpu/anaconda3/lib/python3.6/site-packages/IPython/core/interactiveshell.py\", line 2819, in run_cell\n",
      "    raw_cell, store_history, silent, shell_futures)\n",
      "  File \"/home/wc-gpu/anaconda3/lib/python3.6/site-packages/IPython/core/interactiveshell.py\", line 2845, in _run_cell\n",
      "    return runner(coro)\n",
      "  File \"/home/wc-gpu/anaconda3/lib/python3.6/site-packages/IPython/core/async_helpers.py\", line 67, in _pseudo_sync_runner\n",
      "    coro.send(None)\n",
      "  File \"/home/wc-gpu/anaconda3/lib/python3.6/site-packages/IPython/core/interactiveshell.py\", line 3020, in run_cell_async\n",
      "    interactivity=interactivity, compiler=compiler, result=result)\n",
      "  File \"/home/wc-gpu/anaconda3/lib/python3.6/site-packages/IPython/core/interactiveshell.py\", line 3185, in run_ast_nodes\n",
      "    if (yield from self.run_code(code, result)):\n",
      "  File \"/home/wc-gpu/anaconda3/lib/python3.6/site-packages/IPython/core/interactiveshell.py\", line 3267, in run_code\n",
      "    exec(code_obj, self.user_global_ns, self.user_ns)\n",
      "  File \"<ipython-input-1-b13b0a884185>\", line 12, in <module>\n",
      "    from matplotlib import pyplot as plt\n",
      "  File \"/home/wc-gpu/anaconda3/lib/python3.6/site-packages/matplotlib/pyplot.py\", line 72, in <module>\n",
      "    from matplotlib.backends import pylab_setup\n",
      "  File \"/home/wc-gpu/anaconda3/lib/python3.6/site-packages/matplotlib/backends/__init__.py\", line 14, in <module>\n",
      "    line for line in traceback.format_stack()\n",
      "\n",
      "\n",
      "  import matplotlib; matplotlib.use('Agg')  # pylint: disable=multiple-statements\n",
      "Using TensorFlow backend.\n"
     ]
    }
   ],
   "source": [
    "import numpy as np\n",
    "import os\n",
    "import six.moves.urllib as urllib\n",
    "import sys\n",
    "import tarfile\n",
    "import tensorflow as tf\n",
    "import zipfile\n",
    "\n",
    "from distutils.version import StrictVersion\n",
    "from collections import defaultdict\n",
    "from io import StringIO\n",
    "from matplotlib import pyplot as plt\n",
    "from PIL import Image\n",
    "\n",
    "# This is needed since the notebook is stored in the object_detection folder.\n",
    "sys.path.append(\"..\")\n",
    "from object_detection.utils import ops as utils_ops\n",
    "from object_detection.builders import model_builder\n",
    "from google.protobuf import text_format\n",
    "import tensorflow as tf\n",
    "from object_detection.protos import model_pb2\n",
    "import time\n",
    "from IPython.display import clear_output\n",
    "from keras.models import load_model\n",
    "import keras.backend as K\n",
    "from math import floor, ceil\n",
    "import cv2\n",
    "import pickle as pkl\n",
    "\n",
    "if StrictVersion(tf.__version__) < StrictVersion('1.9.0'):\n",
    "  raise ImportError('Please upgrade your TensorFlow installation to v1.9.* or later!')\n"
   ]
  },
  {
   "cell_type": "markdown",
   "metadata": {
    "colab_type": "text",
    "id": "Wy72mWwAWKMK"
   },
   "source": [
    "## Env setup"
   ]
  },
  {
   "cell_type": "code",
   "execution_count": 2,
   "metadata": {
    "colab": {
     "autoexec": {
      "startup": false,
      "wait_interval": 0
     }
    },
    "colab_type": "code",
    "id": "v7m_NY_aWKMK"
   },
   "outputs": [],
   "source": [
    "# This is needed to display the images.\n",
    "%matplotlib inline"
   ]
  },
  {
   "cell_type": "markdown",
   "metadata": {
    "colab_type": "text",
    "id": "r5FNuiRPWKMN"
   },
   "source": [
    "## Object detection imports\n",
    "Here are the imports from the object detection module."
   ]
  },
  {
   "cell_type": "code",
   "execution_count": 3,
   "metadata": {
    "colab": {
     "autoexec": {
      "startup": false,
      "wait_interval": 0
     }
    },
    "colab_type": "code",
    "id": "bm0_uNRnWKMN"
   },
   "outputs": [
    {
     "name": "stderr",
     "output_type": "stream",
     "text": [
      "../utils/visualization_utils.py:26: UserWarning: \n",
      "This call to matplotlib.use() has no effect because the backend has already\n",
      "been chosen; matplotlib.use() must be called *before* pylab, matplotlib.pyplot,\n",
      "or matplotlib.backends is imported for the first time.\n",
      "\n",
      "The backend was *originally* set to 'module://ipykernel.pylab.backend_inline' by the following code:\n",
      "  File \"/home/wc-gpu/anaconda3/lib/python3.6/runpy.py\", line 193, in _run_module_as_main\n",
      "    \"__main__\", mod_spec)\n",
      "  File \"/home/wc-gpu/anaconda3/lib/python3.6/runpy.py\", line 85, in _run_code\n",
      "    exec(code, run_globals)\n",
      "  File \"/home/wc-gpu/anaconda3/lib/python3.6/site-packages/ipykernel_launcher.py\", line 16, in <module>\n",
      "    app.launch_new_instance()\n",
      "  File \"/home/wc-gpu/anaconda3/lib/python3.6/site-packages/traitlets/config/application.py\", line 658, in launch_instance\n",
      "    app.start()\n",
      "  File \"/home/wc-gpu/anaconda3/lib/python3.6/site-packages/ipykernel/kernelapp.py\", line 505, in start\n",
      "    self.io_loop.start()\n",
      "  File \"/home/wc-gpu/anaconda3/lib/python3.6/site-packages/tornado/platform/asyncio.py\", line 132, in start\n",
      "    self.asyncio_loop.run_forever()\n",
      "  File \"/home/wc-gpu/anaconda3/lib/python3.6/asyncio/base_events.py\", line 421, in run_forever\n",
      "    self._run_once()\n",
      "  File \"/home/wc-gpu/anaconda3/lib/python3.6/asyncio/base_events.py\", line 1425, in _run_once\n",
      "    handle._run()\n",
      "  File \"/home/wc-gpu/anaconda3/lib/python3.6/asyncio/events.py\", line 126, in _run\n",
      "    self._callback(*self._args)\n",
      "  File \"/home/wc-gpu/anaconda3/lib/python3.6/site-packages/tornado/ioloop.py\", line 758, in _run_callback\n",
      "    ret = callback()\n",
      "  File \"/home/wc-gpu/anaconda3/lib/python3.6/site-packages/tornado/stack_context.py\", line 300, in null_wrapper\n",
      "    return fn(*args, **kwargs)\n",
      "  File \"/home/wc-gpu/anaconda3/lib/python3.6/site-packages/tornado/gen.py\", line 1233, in inner\n",
      "    self.run()\n",
      "  File \"/home/wc-gpu/anaconda3/lib/python3.6/site-packages/tornado/gen.py\", line 1147, in run\n",
      "    yielded = self.gen.send(value)\n",
      "  File \"/home/wc-gpu/anaconda3/lib/python3.6/site-packages/ipykernel/kernelbase.py\", line 370, in dispatch_queue\n",
      "    yield self.process_one()\n",
      "  File \"/home/wc-gpu/anaconda3/lib/python3.6/site-packages/tornado/gen.py\", line 346, in wrapper\n",
      "    runner = Runner(result, future, yielded)\n",
      "  File \"/home/wc-gpu/anaconda3/lib/python3.6/site-packages/tornado/gen.py\", line 1080, in __init__\n",
      "    self.run()\n",
      "  File \"/home/wc-gpu/anaconda3/lib/python3.6/site-packages/tornado/gen.py\", line 1147, in run\n",
      "    yielded = self.gen.send(value)\n",
      "  File \"/home/wc-gpu/anaconda3/lib/python3.6/site-packages/ipykernel/kernelbase.py\", line 357, in process_one\n",
      "    yield gen.maybe_future(dispatch(*args))\n",
      "  File \"/home/wc-gpu/anaconda3/lib/python3.6/site-packages/tornado/gen.py\", line 326, in wrapper\n",
      "    yielded = next(result)\n",
      "  File \"/home/wc-gpu/anaconda3/lib/python3.6/site-packages/ipykernel/kernelbase.py\", line 267, in dispatch_shell\n",
      "    yield gen.maybe_future(handler(stream, idents, msg))\n",
      "  File \"/home/wc-gpu/anaconda3/lib/python3.6/site-packages/tornado/gen.py\", line 326, in wrapper\n",
      "    yielded = next(result)\n",
      "  File \"/home/wc-gpu/anaconda3/lib/python3.6/site-packages/ipykernel/kernelbase.py\", line 534, in execute_request\n",
      "    user_expressions, allow_stdin,\n",
      "  File \"/home/wc-gpu/anaconda3/lib/python3.6/site-packages/tornado/gen.py\", line 326, in wrapper\n",
      "    yielded = next(result)\n",
      "  File \"/home/wc-gpu/anaconda3/lib/python3.6/site-packages/ipykernel/ipkernel.py\", line 294, in do_execute\n",
      "    res = shell.run_cell(code, store_history=store_history, silent=silent)\n",
      "  File \"/home/wc-gpu/anaconda3/lib/python3.6/site-packages/ipykernel/zmqshell.py\", line 536, in run_cell\n",
      "    return super(ZMQInteractiveShell, self).run_cell(*args, **kwargs)\n",
      "  File \"/home/wc-gpu/anaconda3/lib/python3.6/site-packages/IPython/core/interactiveshell.py\", line 2819, in run_cell\n",
      "    raw_cell, store_history, silent, shell_futures)\n",
      "  File \"/home/wc-gpu/anaconda3/lib/python3.6/site-packages/IPython/core/interactiveshell.py\", line 2845, in _run_cell\n",
      "    return runner(coro)\n",
      "  File \"/home/wc-gpu/anaconda3/lib/python3.6/site-packages/IPython/core/async_helpers.py\", line 67, in _pseudo_sync_runner\n",
      "    coro.send(None)\n",
      "  File \"/home/wc-gpu/anaconda3/lib/python3.6/site-packages/IPython/core/interactiveshell.py\", line 3020, in run_cell_async\n",
      "    interactivity=interactivity, compiler=compiler, result=result)\n",
      "  File \"/home/wc-gpu/anaconda3/lib/python3.6/site-packages/IPython/core/interactiveshell.py\", line 3191, in run_ast_nodes\n",
      "    if (yield from self.run_code(code, result)):\n",
      "  File \"/home/wc-gpu/anaconda3/lib/python3.6/site-packages/IPython/core/interactiveshell.py\", line 3267, in run_code\n",
      "    exec(code_obj, self.user_global_ns, self.user_ns)\n",
      "  File \"<ipython-input-2-0f0a85121700>\", line 2, in <module>\n",
      "    get_ipython().run_line_magic('matplotlib', 'inline')\n",
      "  File \"/home/wc-gpu/anaconda3/lib/python3.6/site-packages/IPython/core/interactiveshell.py\", line 2287, in run_line_magic\n",
      "    result = fn(*args,**kwargs)\n",
      "  File \"<decorator-gen-107>\", line 2, in matplotlib\n",
      "  File \"/home/wc-gpu/anaconda3/lib/python3.6/site-packages/IPython/core/magic.py\", line 187, in <lambda>\n",
      "    call = lambda f, *a, **k: f(*a, **k)\n",
      "  File \"/home/wc-gpu/anaconda3/lib/python3.6/site-packages/IPython/core/magics/pylab.py\", line 99, in matplotlib\n",
      "    gui, backend = self.shell.enable_matplotlib(args.gui)\n",
      "  File \"/home/wc-gpu/anaconda3/lib/python3.6/site-packages/IPython/core/interactiveshell.py\", line 3355, in enable_matplotlib\n",
      "    pt.activate_matplotlib(backend)\n",
      "  File \"/home/wc-gpu/anaconda3/lib/python3.6/site-packages/IPython/core/pylabtools.py\", line 314, in activate_matplotlib\n",
      "    matplotlib.pyplot.switch_backend(backend)\n",
      "  File \"/home/wc-gpu/anaconda3/lib/python3.6/site-packages/matplotlib/pyplot.py\", line 232, in switch_backend\n",
      "    matplotlib.use(newbackend, warn=False, force=True)\n",
      "  File \"/home/wc-gpu/anaconda3/lib/python3.6/site-packages/matplotlib/__init__.py\", line 1305, in use\n",
      "    reload(sys.modules['matplotlib.backends'])\n",
      "  File \"/home/wc-gpu/anaconda3/lib/python3.6/importlib/__init__.py\", line 166, in reload\n",
      "    _bootstrap._exec(spec, module)\n",
      "  File \"/home/wc-gpu/anaconda3/lib/python3.6/site-packages/matplotlib/backends/__init__.py\", line 14, in <module>\n",
      "    line for line in traceback.format_stack()\n",
      "\n",
      "\n",
      "  import matplotlib; matplotlib.use('Agg')  # pylint: disable=multiple-statements\n"
     ]
    }
   ],
   "source": [
    "from utils import label_map_util\n",
    "\n",
    "from utils import visualization_utils as vis_util"
   ]
  },
  {
   "cell_type": "markdown",
   "metadata": {
    "colab_type": "text",
    "id": "cfn_tRFOWKMO"
   },
   "source": [
    "# Model preparation "
   ]
  },
  {
   "cell_type": "markdown",
   "metadata": {
    "colab_type": "text",
    "id": "X_sEBLpVWKMQ"
   },
   "source": [
    "## Variables\n",
    "\n",
    "Any model exported using the `export_inference_graph.py` tool can be loaded here simply by changing `PATH_TO_FROZEN_GRAPH` to point to a new .pb file.  \n",
    "\n",
    "By default we use an \"SSD with Mobilenet\" model here. See the [detection model zoo](https://github.com/tensorflow/models/blob/master/research/object_detection/g3doc/detection_model_zoo.md) for a list of other models that can be run out-of-the-box with varying speeds and accuracies."
   ]
  },
  {
   "cell_type": "code",
   "execution_count": 4,
   "metadata": {
    "colab": {
     "autoexec": {
      "startup": false,
      "wait_interval": 0
     }
    },
    "colab_type": "code",
    "id": "VyPz_t8WWKMQ"
   },
   "outputs": [],
   "source": [
    "# What model to download.\n",
    "# MODEL_NAME = '../prod_faster_rcnn_resnet50_coco_res_512x384_iou_genration'\n",
    "MODEL_NAME = '../training/keep'\n",
    "\n",
    "# MODEL_NAME = 'faster_rcnn_resnet50_coco_2018_01_28'\n",
    "# MODEL_NAME = 'faster_rcnn_inception_resnet_v2_atrous_coco_2018_01_28'\n",
    "\n",
    "MODEL_FILE = MODEL_NAME + '.tar.gz'\n",
    "DOWNLOAD_BASE = 'http://download.tensorflow.org/models/object_detection/'\n",
    "\n",
    "# Path to frozen detection graph. This is the actual model that is used for the object detection.\n",
    "PATH_TO_FROZEN_GRAPH = MODEL_NAME + '/frozen_inference_graph.pb'\n",
    "# PATH_TO_FROZEN_GRAPH = MODEL_NAME + '/saved_model.pb'\n",
    "\n",
    "# List of the strings that is used to add correct label for each box.\n",
    "PATH_TO_LABELS = os.path.join('data', 'mscoco_label_map.pbtxt')\n",
    "\n",
    "# For the sake of simplicity we will use only 2 images:\n",
    "# image1.jpg\n",
    "# image2.jpg\n",
    "# If you want to test the code with your images, just add path to the images to the TEST_IMAGE_PATHS.\n",
    "test_image_path = \"/home/wc-gpu/MasterThesis/session_data/122923_testing\"\n",
    "# test_image_path = \"/Users/mbaltac/Home/MasterThesis/MasterThesis/labeled_images_shopping_sessions/labeled/122923_testing\"\n",
    "TEST_IMAGE_PATHS = sorted([os.path.join(test_image_path, f) for f in os.listdir(test_image_path) if f.endswith(\"jpg\")])\n",
    "\n",
    "\n",
    "# TEST_IMAGE_PATHS = [TEST_IMAGE_PATHS[0], TEST_IMAGE_PATHS[0]]\n",
    "\n",
    "\n",
    "# Size, in inches, of the output images.\n",
    "IMAGE_SIZE = (18, 12)\n",
    "\n",
    "SESSIONS_PATH = \"/home/wc-gpu/storage4tb/session_data_thesis/sessions160000_165000\""
   ]
  },
  {
   "cell_type": "markdown",
   "metadata": {
    "colab_type": "text",
    "id": "7ai8pLZZWKMS"
   },
   "source": [
    "## Download Model"
   ]
  },
  {
   "cell_type": "code",
   "execution_count": 5,
   "metadata": {
    "colab": {
     "autoexec": {
      "startup": false,
      "wait_interval": 0
     }
    },
    "colab_type": "code",
    "id": "KILYnwR5WKMS"
   },
   "outputs": [],
   "source": [
    "# opener = urllib.request.URLopener()\n",
    "# opener.retrieve(DOWNLOAD_BASE + MODEL_FILE, MODEL_FILE)\n",
    "# tar_file = tarfile.open(MODEL_FILE)\n",
    "# for file in tar_file.getmembers():\n",
    "#   file_name = os.path.basename(file.name)\n",
    "#   if 'frozen_inference_graph.pb' in file_name:\n",
    "#     tar_file.extract(file, os.getcwd())"
   ]
  },
  {
   "cell_type": "markdown",
   "metadata": {
    "colab_type": "text",
    "id": "YBcB9QHLWKMU"
   },
   "source": [
    "## Load a (frozen) Tensorflow model into memory."
   ]
  },
  {
   "cell_type": "code",
   "execution_count": 6,
   "metadata": {},
   "outputs": [],
   "source": [
    "# with tf.Graph().as_default():\n",
    "#   od_graph_def = tf.GraphDef()\n",
    "#   with tf.gfile.GFile(PATH_TO_FROZEN_GRAPH, 'rb') as fid:\n",
    "#     serialized_graph = fid.read()\n",
    "#     od_graph_def.ParseFromString(serialized_graph)\n",
    "#     tf.import_graph_def(od_graph_def, name='')"
   ]
  },
  {
   "cell_type": "markdown",
   "metadata": {
    "colab_type": "text",
    "id": "_1MVVTcLWKMW"
   },
   "source": [
    "## Loading label map\n",
    "Label maps map indices to category names, so that when our convolution network predicts `5`, we know that this corresponds to `airplane`.  Here we use internal utility functions, but anything that returns a dictionary mapping integers to appropriate string labels would be fine"
   ]
  },
  {
   "cell_type": "code",
   "execution_count": 7,
   "metadata": {
    "colab": {
     "autoexec": {
      "startup": false,
      "wait_interval": 0
     }
    },
    "colab_type": "code",
    "id": "hDbpHkiWWKMX"
   },
   "outputs": [],
   "source": [
    "# category_index = label_map_util.create_category_index_from_labelmap(PATH_TO_LABELS, use_display_name=True)"
   ]
  },
  {
   "cell_type": "code",
   "execution_count": 8,
   "metadata": {},
   "outputs": [],
   "source": [
    "category_index = {1: {'id': 1, 'name': 'product'},\n",
    " 2: {'id': 2, 'name': 'add'},\n",
    " 3: {'id': 3, 'name': 'remove'},\n",
    " 4: {'id': 4, 'name': 'move_from'},\n",
    " 5: {'id': 5, 'name': 'move_to'}}"
   ]
  },
  {
   "cell_type": "code",
   "execution_count": null,
   "metadata": {},
   "outputs": [],
   "source": []
  },
  {
   "cell_type": "markdown",
   "metadata": {
    "colab_type": "text",
    "id": "EFsoUHvbWKMZ"
   },
   "source": [
    "## Helper code"
   ]
  },
  {
   "cell_type": "code",
   "execution_count": 9,
   "metadata": {
    "colab": {
     "autoexec": {
      "startup": false,
      "wait_interval": 0
     }
    },
    "colab_type": "code",
    "id": "aSlYc3JkWKMa"
   },
   "outputs": [],
   "source": [
    "def load_image_into_numpy_array(image):\n",
    "  (im_width, im_height) = image.size\n",
    "  return np.array(image.getdata()).reshape(\n",
    "      (im_height, im_width, 3)).astype(np.uint8)"
   ]
  },
  {
   "cell_type": "markdown",
   "metadata": {
    "colab_type": "text",
    "id": "H0_1AGhrWKMc"
   },
   "source": [
    "# Detection"
   ]
  },
  {
   "cell_type": "code",
   "execution_count": 10,
   "metadata": {},
   "outputs": [],
   "source": [
    "def max_pool_dynamic_input(x, H_out, W_out):\n",
    "    out = None\n",
    "    (N, H, W, C) = x.shape\n",
    "    pool_height = np.zeros((H_out), dtype=\"int32\")\n",
    "    pool_width = np.zeros((W_out), dtype=\"int32\")\n",
    "    \n",
    "    div_h = int(H/H_out)\n",
    "    mod_h = H%H_out\n",
    "    div_w = int(W/W_out)\n",
    "    mod_w = W%W_out\n",
    "    pool_height = pool_height + div_h\n",
    "    pool_width = pool_width + div_w\n",
    "    pool_height[:mod_h] += 1\n",
    "    pool_width[:mod_w] += 1\n",
    "    \n",
    "    out = np.zeros((N, H_out, W_out, C))\n",
    "    for n in range(N):\n",
    "        for h in range(H_out):\n",
    "            for w in range(W_out):\n",
    "                h1 = sum(pool_height[:h])\n",
    "                h2 = h1 + pool_height[h]\n",
    "                w1 = sum(pool_width[:w])\n",
    "                w2 = w1 + pool_width[w]\n",
    "                window = x[n, h1:h2, w1:w2, :]\n",
    "                m = np.max(window, axis=0)\n",
    "                m = np.max(m, axis=0)\n",
    "                out[n,h,w,:] = m\n",
    "    \n",
    "    return out\n",
    "\n",
    "\n",
    "def get_max_and_concat(*args):\n",
    "    size = 0\n",
    "    for arg in args:\n",
    "        size += arg.shape[-1]\n",
    "    final = np.zeros(size)\n",
    "    \n",
    "    arg_size = 0\n",
    "    \n",
    "    i = 0\n",
    "    for arg in args:\n",
    "        max_pool = max_pool_dynamic_input(np.expand_dims(arg, 0), 1, 1)[0,0,0,:]\n",
    "        final[i: arg.shape[-1]+i] = max_pool\n",
    "        i+= arg.shape[-1]  \n",
    "    return final\n",
    "\n",
    "def get_max_and_concat2(*args):\n",
    "    size = 0\n",
    "    for arg in args:\n",
    "        size += arg.shape[-1]\n",
    "    final = np.zeros(size)\n",
    "    \n",
    "    arg_size = 0\n",
    "\n",
    "    for arg in args:\n",
    "        for i in range(arg.shape[-1]):\n",
    "            final[i+arg_size] = np.max(arg[:,:,i])\n",
    "        arg_size += arg.shape[-1]\n",
    "    \n",
    "#     mn = np.mean(final)\n",
    "#     std = np.std(final)\n",
    "#     final = (final - mn)/std\n",
    "\n",
    "    return final\n",
    "\n",
    "def max_pooled(previous_features, features, label):\n",
    "    box_prev = previous_features[\n",
    "        floor(label[0]*previous_features.shape[0]):\n",
    "        ceil(label[2]*previous_features.shape[0]), \n",
    "        floor(label[1]*previous_features.shape[1]):\n",
    "        ceil(label[3]*previous_features.shape[1]),:]\n",
    "    box_cur = features[\n",
    "        floor(label[0]*features.shape[0]):\n",
    "        ceil(label[2]*features.shape[0]), \n",
    "        floor(label[1]*features.shape[1]):\n",
    "        ceil(label[3]*features.shape[1]),:]\n",
    "\n",
    "    return get_max_and_concat(box_prev, previous_features, box_cur, features)"
   ]
  },
  {
   "cell_type": "code",
   "execution_count": 11,
   "metadata": {},
   "outputs": [],
   "source": [
    "def get_iou(bb1, bb2):\n",
    "    \"\"\"\n",
    "    Calculate the Intersection over Union (IoU) of two bounding boxes.\n",
    "\n",
    "    \"\"\"\n",
    "\n",
    "    b1y1, b1x1, b1y2, b1x2 = bb1\n",
    "    b2y1, b2x1, b2y2, b2x2 = bb2\n",
    "\n",
    "    b1y1, b1x1, b1y2, b1x2 = b1y1, b1x1, b1y1+b1y2, b1x1+b1x2\n",
    "    b2y1, b2x1, b2y2, b2x2 = b2y1, b2x1, b2y1+b2y2, b2x1+b2x2\n",
    "\n",
    "    b1y1, b1x1, b1y2, b1x2 = b1x1, b1y1, b1x2, b1y2\n",
    "    b2y1, b2x1, b2y2, b2x2 = b2x1, b2y1, b2x2, b2y2\n",
    "    \n",
    "    # determine the coordinates of the intersection rectangle\n",
    "    x_left = max(b1x1, b2x1)\n",
    "    y_top = max(b1y1, b2y1)\n",
    "    x_right = min(b1x2, b2x2)\n",
    "    y_bottom = min(b1y2, b2y2)\n",
    "\n",
    "    if x_right < x_left or y_bottom < y_top:\n",
    "        return 0.0\n",
    "\n",
    "    # The intersection of two axis-aligned bounding boxes is always an\n",
    "    # axis-aligned bounding box\n",
    "    intersection_area = (x_right - x_left) * (y_bottom - y_top)\n",
    "\n",
    "    # compute the area of both AABBs\n",
    "    bb1_area = (b1x2 - b1x1) * (b1y2 - b1y1)\n",
    "    bb2_area = (b2x2 - b2x1) * (b2y2 - b2y1)\n",
    "\n",
    "    # compute the intersection over union by taking the intersection\n",
    "    # area and dividing it by the sum of prediction + ground-truth\n",
    "    # areas - the interesection area\n",
    "    iou = intersection_area / float(bb1_area + bb2_area - intersection_area)\n",
    "    assert iou > 0.0\n",
    "    assert iou < 1.0\n",
    "    return iou\n",
    "\n",
    "\n",
    "def filter_detections(out_boxes, out_scores, iou_tresh = .5, score_tresh = 0.3):\n",
    "    fboxes, fscores, fclasses = [], [], []\n",
    "    removed = set()\n",
    "    \n",
    "    filter_score = np.where(out_scores > score_tresh)\n",
    "    print (filter_score)\n",
    "    \n",
    "    for i, b in reversed(list(enumerate(out_boxes))):\n",
    "        if i not in removed:\n",
    "            max_score = out_scores[i]\n",
    "            max_idx = i\n",
    "            for j in range(i+1, len(out_boxes)):\n",
    "                if j not in removed and get_iou(b, out_boxes[j]) > .65:\n",
    "                    if out_scores[j] > max_score:\n",
    "                        removed.add(max_idx)\n",
    "                        max_idx = j\n",
    "                        max_score = out_scores[j]\n",
    "                    else:\n",
    "                        removed.add(j)\n",
    "\n",
    "    for i in range(len(out_boxes)):\n",
    "        if i not in removed:\n",
    "            fboxes.append(out_boxes[i])\n",
    "            fscores.append(out_scores[i])\n",
    "            fclasses.append(out_classes[i])\n",
    "\n",
    "    return fboxes, fscores, fclasses"
   ]
  },
  {
   "cell_type": "code",
   "execution_count": 12,
   "metadata": {},
   "outputs": [],
   "source": [
    "tf_config = tf.ConfigProto()\n",
    "tf_config.gpu_options.per_process_gpu_memory_fraction = 0.9"
   ]
  },
  {
   "cell_type": "code",
   "execution_count": 13,
   "metadata": {},
   "outputs": [],
   "source": [
    "def batch_gen(l, n):\n",
    "    \"\"\"Yield successive n-sized chunks from l.\"\"\"\n",
    "    for i in range(0, len(l), n):\n",
    "        yield l[i: min(i + n, len(l))]\n",
    "        \n",
    "def run_inference_for_batch(images, batch = 16):\n",
    "    with tf.Session(config=tf_config) as sess:\n",
    "#         batches = batch_gen(images, batch)\n",
    "      # Get handles to input and output tensors\n",
    "        ops = tf.get_default_graph().get_operations()\n",
    "        all_tensor_names = {output.name for op in ops for output in op.outputs}\n",
    "        tensor_dict = {}\n",
    "        for key in [\n",
    "          'num_detections', 'detection_boxes', 'detection_scores',\n",
    "          'detection_classes', 'detection_masks'\n",
    "        ]:\n",
    "            tensor_name = key + ':0'\n",
    "            if tensor_name in all_tensor_names:\n",
    "                tensor_dict[key] = tf.get_default_graph().get_tensor_by_name(\n",
    "                  tensor_name)\n",
    "        features = tf.get_default_graph().get_tensor_by_name(\n",
    "            'FirstStageFeatureExtractor/resnet_v1_50/resnet_v1_50/block3/unit_6/bottleneck_v1/Relu:0')\n",
    "\n",
    "        tensor_dict['features'] = tf.expand_dims(features, 0)\n",
    "        \n",
    "        image_tensor = tf.get_default_graph().get_tensor_by_name('image_tensor:0')\n",
    "        \n",
    "        # Run inference\n",
    "        output_dict = sess.run(tensor_dict, \n",
    "                             feed_dict={image_tensor: images})\n",
    "\n",
    "        # all outputs are float32 numpy arrays, so convert types as appropriate\n",
    "        output_dict['num_detections'] = output_dict['num_detections'].astype(np.uint8)\n",
    "        output_dict['detection_classes'] = output_dict[\n",
    "          'detection_classes'].astype(np.uint8)\n",
    "        output_dict['detection_boxes'] = output_dict['detection_boxes']\n",
    "        output_dict['detection_scores'] = output_dict['detection_scores']\n",
    "        output_dict['features'] = output_dict['features'][0]\n",
    "\n",
    "        return output_dict"
   ]
  },
  {
   "cell_type": "code",
   "execution_count": 20,
   "metadata": {},
   "outputs": [],
   "source": [
    "def read_images(session_path):\n",
    "    image_paths = sorted([f for f in os.listdir(session_path) if f.endswith(\".jpg\")])\n",
    "    prev_features = None\n",
    "    \n",
    "    \n",
    "    images = []\n",
    "    for image_fname in image_paths:\n",
    "        t0 = time.time()\n",
    "        image_path = os.path.join(session_path, image_fname)\n",
    "\n",
    "        image = Image.open(image_path)\n",
    "        image_np = load_image_into_numpy_array(image)\n",
    "        images.append(image_np)\n",
    "        print (\"reading images\", str(len(images)/len(image_paths))[:5], end=\"\\r\")\n",
    "    \n",
    "    return images, image_paths\n",
    "\n",
    "\n",
    "def process_images_batch(images, batch_size = 16, total_images=None):\n",
    "    progress = 0\n",
    "    processed = 0\n",
    "    time_avg = 0\n",
    "\n",
    "    outputs = []\n",
    "    total_images = len(images)\n",
    "\n",
    "    total_time = 0\n",
    "    box_predictions = []\n",
    "    tf.reset_default_graph()\n",
    "    with tf.Graph().as_default():\n",
    "        od_graph_def = tf.GraphDef()\n",
    "        with tf.gfile.GFile(PATH_TO_FROZEN_GRAPH, 'rb') as fid:\n",
    "            serialized_graph = fid.read()\n",
    "            od_graph_def.ParseFromString(serialized_graph)\n",
    "            tf.import_graph_def(od_graph_def, name='')\n",
    "\n",
    "        image_batch = batch_gen(images, batch_size)\n",
    "        for img_b in image_batch:\n",
    "            t0 = time.time()\n",
    "            output_dict = run_inference_for_batch(img_b, batch_size)\n",
    "            outputs.append(output_dict)\n",
    "\n",
    "            progress += 1\n",
    "            processed += 1\n",
    "            t1 = time.time()\n",
    "\n",
    "            total = t1-t0\n",
    "\n",
    "            time_avg = (total_time + total) / processed\n",
    "\n",
    "            total_time += total\n",
    "\n",
    "            log_text = \" \".join([\"progress \", \":\", str(progress / total_images*batch_size), \n",
    "                                 str(progress), str(total_images)])\n",
    "            log_text += \" | \"\n",
    "\n",
    "            log_text += \"\".join([\"process time \", str(total)])\n",
    "            log_text += \" | \"\n",
    "            log_text += \"\".join([\" time passed: \", str(time_avg*processed) ,\" s, remaining: \", str(time_avg* (total_images/batch_size - progress) ), \" s\"])\n",
    "        \n",
    "\n",
    "            print (log_text, end=\"                                       \\r\")\n",
    "\n",
    "    return outputs\n",
    "    \n",
    "def process_session_get_outputs(session_path, batch_size=16, total_images=None):\n",
    "    output_splitted = []\n",
    "    images, image_paths = read_images(session_path)\n",
    "    outputs_batch  = process_images_batch(images, total_images=None)\n",
    "    \n",
    "    i=0\n",
    "    for big_dict in outputs_batch:\n",
    "        for j in range(len(big_dict[\"num_detections\"])):\n",
    "            output_dict = {}\n",
    "            for k in big_dict.keys():\n",
    "                output_dict[k] = big_dict[k][j]\n",
    "            output_dict[\"image_path\"] = image_paths[i*batch_size + j]\n",
    "            output_dict[\"image_np\"] = images[i*batch_size + j]\n",
    "            output_splitted.append(output_dict)\n",
    "        i += 1\n",
    "    \n",
    "    return output_splitted, images, image_paths"
   ]
  },
  {
   "cell_type": "code",
   "execution_count": 15,
   "metadata": {},
   "outputs": [],
   "source": [
    "out_path = \"/home/wc-gpu/storage4tb/session_data_thesis/sessions160000_165000/processed_sessions\""
   ]
  },
  {
   "cell_type": "code",
   "execution_count": 16,
   "metadata": {},
   "outputs": [],
   "source": [
    "visualize_debug = False\n",
    "\n",
    "features = None\n",
    "total_images = 0\n",
    "sessions = os.listdir(SESSIONS_PATH)\n",
    "actual_sessions = []\n",
    "\n",
    "for session in sorted(sessions, reverse=True):\n",
    "    try:\n",
    "        a = int(session)\n",
    "        session_path = os.path.join(SESSIONS_PATH, session)\n",
    "        total_images += len([f for f in os.listdir(session_path) if f.endswith(\".jpg\")])\n",
    "        actual_sessions.append(session)\n",
    "    except:\n",
    "        continue\n"
   ]
  },
  {
   "cell_type": "code",
   "execution_count": null,
   "metadata": {},
   "outputs": [],
   "source": []
  },
  {
   "cell_type": "code",
   "execution_count": null,
   "metadata": {},
   "outputs": [
    {
     "name": "stdout",
     "output_type": "stream",
     "text": [
      "164413 0.0                                         \n",
      "164398 0.0020                                         \n",
      "164384 0.0041                                         80115842819214 |  time passed: 11.084317922592163 s, remaining: -1.3855397403240204 s                                       \n",
      "164378 0.0062                                         1518611907959 |  time passed: 15.672352313995361 s, remaining: -2.285551379124324 s                                         \n",
      "164377 0.0082                                         387222290039062 |  time passed: 9.138337135314941 s, remaining: -0.5711460709571838 s                                       \n",
      "164375 0.0103                                         3 |  time passed: 9.720974445343018 s, remaining: -2.126463159918785 s                                       \n",
      "164372 0.0124                                         95432138442993 |  time passed: 7.856424570083618 s, remaining: -0.49102653563022614 s                                       \n",
      "164349 0.0145                                         86115598678589 |  time passed: 9.30016279220581 s, remaining: -0.38750678300857544 s                                        \n",
      "164328 0.0165                                         61988925933838 |  time passed: 10.841864824295044 s, remaining: -1.6940413787961006 s                                       \n",
      "164325 0.0186                                         15685939788818 |  time passed: 9.36947774887085 s, remaining: -0.19519745310147604 s                                       \n",
      "164313 0.0207                                         33991813659668 |  time passed: 10.659738779067993 s, remaining: -0.1665584184229374 s                                       \n",
      "164305 0.0228                                         293238162994385 |  time passed: 11.342989444732666 s, remaining: -1.2406394705176353 s                                       \n",
      "164303 0.0248                                         775569915771484 |  time passed: 13.414046049118042 s, remaining: -0.16767557561397553 s                                       \n",
      "164280 0.0269                                          |  time passed: 13.491807222366333 s, remaining: 0.0 s                                                      \n",
      "164265 0.0290                                          |  time passed: 8.19210147857666 s, remaining: 0.0 s                                                                       \n",
      "164244 0.0311                                         11259078979492 |  time passed: 7.755126714706421 s, remaining: -0.4846954196691513 s                                        \n",
      "164233 0.0331                                         45154333114624 |  time passed: 7.8440024852752686 s, remaining: -0.32683343688646954 s                                       \n",
      "164230 0.0352                                         08260154724121 |  time passed: 13.941007137298584 s, remaining: -0.8713129460811615 s                                       \n",
      "164224 0.0373                                         31102705001831 |  time passed: 10.214839458465576 s, remaining: -1.276854932308197 s                                       \n",
      "164216 0.0394                                         8474073410034 |  time passed: 11.411206483840942 s, remaining: -1.0698006078600883 s                                        \n",
      "164204 0.0414                                         8827455043792725 |  time passed: 21.064136028289795 s, remaining: -2.1393263153731823 s                                       \n",
      "164194 0.0435                                         954412937164307 |  time passed: 14.816194295883179 s, remaining: -2.0063596442341805 s                                       \n",
      "164172 0.0456                                         990182399749756 |  time passed: 9.516475439071655 s, remaining: -1.0408645011484623 s                                       \n",
      "164168 0.0477                                         945478439331055 |  time passed: 7.726688861846924 s, remaining: -0.48291805386543274 s                                       \n",
      "164155 0.0497                                         021191120147705 |  time passed: 10.029647588729858 s, remaining: -1.2537059485912323 s                                       \n",
      "164154 0.0518                                         430269718170166 |  time passed: 11.95120644569397 s, remaining: -0.7469504028558731 s                                       \n",
      "164142 0.0539                                         210031509399414 |  time passed: 15.225255966186523 s, remaining: -1.5859641631444297 s                                       \n",
      "164141 0.0560                                         0541729927063 |  time passed: 10.322415351867676 s, remaining: -1.129014179110527 s                                         \n",
      "164140 0.0580                                         85580348968506 |  time passed: 7.846960783004761 s, remaining: -0.32695669929186505 s                                       \n",
      "164136 0.0601                                         42982244491577 |  time passed: 10.284529685974121 s, remaining: -1.6069577634334564 s                                       \n",
      "164135 0.0622                                         2 |  time passed: 9.588561773300171 s, remaining: -2.0974978879094124 s                                       \n",
      "164122 0.0643                                         92180013656616 |  time passed: 7.8269407749176025 s, remaining: -0.16306126614411673 s                                       \n",
      "164117 0.0663                                         25390625 |  time passed: 10.502591133117676 s, remaining: -0.32820597290992737 s                                            \n",
      "164102 0.0684                                         |  time passed: 7.918201446533203 s, remaining: 0.0 s                                                                      \n",
      "164098 0.0705                                         70507526397705 |  time passed: 13.107194662094116 s, remaining: -0.3276798665523529 s                                       \n",
      "164085 0.0726                                         813399076461792 |  time passed: 20.211852312088013 s, remaining: -2.2106713466346264 s                                        \n",
      "164079 0.0746                                         654839515686035 |  time passed: 10.065425395965576 s, remaining: -1.4154504463076591 s                                       \n",
      "164065 0.0767                                         093167781829834 |  time passed: 9.838189601898193 s, remaining: -1.9983822628855705 s                                       \n",
      "164055 0.0788                                         8446216583252 |  time passed: 15.959529161453247 s, remaining: -0.49873528629541397 s                                        \n",
      "164051 0.0809                                         07986259460449 |  time passed: 10.132447242736816 s, remaining: -2.3747923225164413 s                                       \n",
      "164050 0.0829                                         512282848358154 |  time passed: 7.71146559715271 s, remaining: -0.4819665998220444 s                                        \n",
      "164043 0.0850                                         546695232391357 |  time passed: 9.518503904342651 s, remaining: -1.1898129880428314 s                                       \n",
      "164042 0.0871                                         886873722076416 |  time passed: 12.365876197814941 s, remaining: -2.009454882144928 s                                       \n",
      "164031 0.0892                                         13647222518921 |  time passed: 7.817621469497681 s, remaining: -0.16286711394786835 s                                       \n",
      "164030 0.0912                                         4 |  time passed: 9.71621298789978 s, remaining: -2.125421591103077 s                                       \n",
      "164025 0.0933                                         775774478912354 |  time passed: 10.305158853530884 s, remaining: -0.4830543212592602 s                                       \n",
      "164022 0.0954                                         750694274902344 |  time passed: 7.795711040496826 s, remaining: -0.1624106466770172 s                                       \n"
     ]
    },
    {
     "name": "stdout",
     "output_type": "stream",
     "text": [
      "164020 0.0975                                         46076774597168 |  time passed: 7.798190116882324 s, remaining: -0.1624622941017151 s                                       \n",
      "164017 0.0995                                         5765061378479 |  time passed: 9.579110622406006 s, remaining: -2.2451040521264076 s                                       \n",
      "164004 0.1016                                         905492782592773 |  time passed: 12.513403415679932 s, remaining: -2.189845597743988 s                                       \n",
      "164002 0.1037                                         46910810470581 |  time passed: 10.24669599533081 s, remaining: -1.2808369994163513 s                                        \n",
      "163995 0.1058                                         938615798950195 |  time passed: 9.951313257217407 s, remaining: -1.5548926964402199 s                                       \n",
      "163989 0.1078                                         11462688446045 |  time passed: 11.860358476638794 s, remaining: -1.4825448095798492 s                                       \n",
      "163952 0.1099                                         277764797210693 |  time passed: 10.3237886428833 s, remaining: -0.6452367901802063 s                                         \n",
      "163935 0.1120                                         936667442321777 |  time passed: 9.79739499092102 s, remaining: -1.9900958575308323 s                                       \n",
      "163927 0.1141                                         77813482284546 |  time passed: 10.347575902938843 s, remaining: -0.48504262045025826 s                                       \n",
      "163922 0.1161                                         80915927886963 |  time passed: 10.913872241973877 s, remaining: -2.046351045370102 s                                       \n",
      "163918 0.1182                                         477686405181885 |  time passed: 9.694029092788696 s, remaining: -2.2720380686223507 s                                       \n",
      "163915 0.1203                                         |  time passed: 7.88335108757019 s, remaining: 0.0 s                                                                        \n",
      "163908 0.1224                                         |  time passed: 7.9295079708099365 s, remaining: 0.0 s                                                                      \n",
      "163894 0.1244                                         869266986846924 |  time passed: 11.060717821121216 s, remaining: -1.901060875505209 s                                       \n",
      "163893 0.1265                                         8 |  time passed: 10.042450666427612 s, remaining: -2.19678608328104 s                                       \n",
      "163888 0.1286                                         635536193847656 |  time passed: 9.63524341583252 s, remaining: -2.2582601755857468 s                                        \n",
      "163882 0.1307                                         82940721511841 |  time passed: 10.05142092704773 s, remaining: -1.413481067866087 s                                         \n",
      "163873 0.1327                                         797250270843506 |  time passed: 7.756839990615845 s, remaining: -0.3232016662756602 s                                        \n",
      "163871 0.1348                                         828664779663086 |  time passed: 9.94120192527771 s, remaining: -2.3299692012369633 s                                        \n",
      "163868 0.1369                                         65539503097534 |  time passed: 10.075663089752197 s, remaining: -1.4168901219964027 s                                       \n",
      "163866 0.1390                                         033193111419678 |  time passed: 13.239853143692017 s, remaining: -1.489483478665352 s                                       \n",
      "163856 0.1410                                         33328866958618 |  time passed: 10.362298727035522 s, remaining: -0.8095545880496502 s                                       \n",
      "163855 0.1431                                         80465602874756 |  time passed: 10.470764875411987 s, remaining: -0.3272114023566246 s                                       \n",
      "163851 0.1452                                         442898273468018 |  time passed: 10.459053993225098 s, remaining: -0.16342271864414215 s                                       \n",
      "163844 0.1473                                         228379249572754 |  time passed: 10.04196548461914 s, remaining: -1.2552456855773926 s                                       \n",
      "163834 0.1493                                         009067058563232 |  time passed: 10.409386157989502 s, remaining: -0.4879399761557579 s                                       \n",
      "163832 0.1514                                         78120517730713 |  time passed: 15.460141658782959 s, remaining: -1.1273019959529242 s                                       \n",
      "163830 0.1535                                          |  time passed: 7.930202960968018 s, remaining: 0.0 s                                                                      \n",
      "163822 0.1556                                         702577114105225 |  time passed: 12.346604347229004 s, remaining: -2.3149883151054382 s                                       \n",
      "163812 0.1576                                          |  time passed: 21.912222146987915 s, remaining: 0.0 s                                                         \n",
      "163801 0.1597                                         85048818588257 |  time passed: 10.09257459640503 s, remaining: -1.4192683026194572 s                                       \n",
      "163797 0.1618                                         010790824890137 |  time passed: 7.947930574417114 s, remaining: -0.49674566090106964 s                                       \n",
      "163795 0.1639                                         597646713256836 |  time passed: 10.147406101226807 s, remaining: -1.109872542321682 s                                       \n",
      "163791 0.1659                                         79920768737793 |  time passed: 10.809341192245483 s, remaining: -0.506687868386507 s                                        \n",
      "163786 0.1680                                         118456840515137 |  time passed: 12.934855699539185 s, remaining: -0.808428481221199 s                                       \n",
      "163767 0.1701                                         80178689956665 |  time passed: 10.346540212631226 s, remaining: -0.8083234541118145 s                                       \n",
      "163761 0.1721                                         85613441467285 |  time passed: 9.733710050582886 s, remaining: -0.6083568781614304 s                                        \n",
      "163759 0.1742                                          |  time passed: 9.744474172592163 s, remaining: -2.1316037252545357 s                                       \n",
      "162783 0.1763                                         419909954071045 |  time passed: 10.471540212631226 s, remaining: -0.1636178158223629 s                                       \n",
      "162782 0.1784                                         339781284332275 |  time passed: 10.04129409790039 s, remaining: -1.7258474230766296 s                                       \n",
      "162781 0.1804                                         372762203216553 |  time passed: 12.336092233657837 s, remaining: -2.158816140890121 s                                       \n",
      "162778 0.1825                                         788057804107666 |  time passed: 12.518304109573364 s, remaining: -1.8777456164360045 s                                       \n",
      "162773 0.1846                                         29307699203491 |  time passed: 10.631223917007446 s, remaining: -0.8305643685162067 s                                       \n",
      "162772 0.1867                                         77997350692749 |  time passed: 13.53620195388794 s, remaining: -0.16920252442359923 s                                        \n",
      "162769 0.1887                                         121238231658936 |  time passed: 7.813514947891235 s, remaining: -0.4883446842432022 s                                       \n"
     ]
    },
    {
     "name": "stdout",
     "output_type": "stream",
     "text": [
      "162766 0.1908                                         884931564331055 |  time passed: 7.149441242218018 s, remaining: -0.2978933850924174 s                                       \n",
      "162761 0.1929                                         725065231323242 |  time passed: 15.165385961532593 s, remaining: -1.895673245191574 s                                       \n",
      "162758 0.1950                                         0496177673339844 |  time passed: 22.92380452156067 s, remaining: -1.7511239565081067 s                                        \n",
      "162746 0.1970                                         77023506164551 |  time passed: 12.628536939620972 s, remaining: -1.7364238291978835 s                                       \n",
      "162744 0.1991                                         891581058502197 |  time passed: 10.17249059677124 s, remaining: -1.1126161590218544 s                                       \n",
      "162743 0.2012                                         412936210632324 |  time passed: 12.936776876449585 s, remaining: -0.3234194219112396 s                                       \n",
      "162741 0.2033                                         851248741149902 |  time passed: 8.105900526046753 s, remaining: -0.16887292762597403 s                                       \n",
      "162739 0.2053                                         |  time passed: 15.887072086334229 s, remaining: 0.0 s                                                                      \n",
      "162737 0.2074                                         776174068450928 |  time passed: 13.14482569694519 s, remaining: -0.32862064242362976 s                                       \n",
      "162727 0.2095                                         948601722717285 |  time passed: 10.393458127975464 s, remaining: -0.6495911329984665 s                                       \n",
      "162725 0.2116                                         533432006835938 |  time passed: 10.012686729431152 s, remaining: -1.4080340713262558 s                                       \n",
      "162722 0.2136                                         39310932159424 |  time passed: 7.8131818771362305 s, remaining: -0.4883238673210144 s                                       \n",
      "162720 0.2157                                         65169858932495 |  time passed: 10.104732036590576 s, remaining: -1.263091504573822 s                                       \n",
      "162718 0.2178                                         15503168106079 |  time passed: 10.479681491851807 s, remaining: -0.49123506993055344 s                                       \n",
      "162711 0.2199                                         5 |  time passed: 9.787307024002075 s, remaining: -2.140973411500454 s                                       \n",
      "162706 0.2219                                         792738914489746 |  time passed: 9.770309686660767 s, remaining: -1.9845941551029682 s                                       \n",
      "162705 0.2240                                         14243984222412 |  time passed: 7.833497047424316 s, remaining: -0.16319785515467325 s                                       \n",
      "162704 0.2261                                         144762992858887 |  time passed: 9.982115507125854 s, remaining: -1.7156761027872562 s                                       \n",
      "162702 0.2282                                         87432336807251 |  time passed: 10.40412425994873 s, remaining: -0.8128222078084946 s                                       \n",
      "162693 0.2302                                         381980419158936 |  time passed: 10.208558320999146 s, remaining: -1.1165610663592815 s                                       \n",
      "162689 0.2323                                         7092170715332 |  time passed: 10.775282382965088 s, remaining: -0.336727574467659 s                                       \n",
      "162686 0.2344                                         769277095794678 |  time passed: 9.705191135406494 s, remaining: -2.274654172360897 s                                       \n",
      "162680 0.2365                                         922936916351318 |  time passed: 9.77937126159668 s, remaining: -1.9864347875118256 s                                        \n",
      "162675 0.2385                                         32297992706299 |  time passed: 7.919930696487427 s, remaining: -0.32999711235364276 s                                       \n",
      "161677 0.2406                                         9941887855529785 |  time passed: 16.881653308868408 s, remaining: -1.507290474006108 s                                       \n",
      "161674 0.2427                                         333531856536865 |  time passed: 15.521875619888306 s, remaining: -0.6467448174953461 s                                       \n",
      "reading images 0.438\r"
     ]
    }
   ],
   "source": [
    "outputs = []\n",
    "count = 0\n",
    "log= open(\"feature_extraction_new.log\",\"w+\")\n",
    "for session in sorted(actual_sessions, reverse=True):\n",
    "    session_path = os.path.join(SESSIONS_PATH, session)\n",
    "    images = [f for f in os.listdir(session_path) if f.endswith(\".jpg\")]\n",
    "    print(session, str(count/len(actual_sessions))[:6], \"                                        \")   \n",
    "    count += 1\n",
    "    try:\n",
    "        session_output_path = os.path.join(out_path, session)\n",
    "        if not os.path.exists(session_output_path):\n",
    "            outputs = process_session_get_outputs(session_path)\n",
    "            with open(session_output_path, \"wb\") as f:\n",
    "                pkl.dump(outputs, f)\n",
    "    except Exception as ex:\n",
    "        print (\"IMAGE \", image_fname)\n",
    "        print (str(ex))"
   ]
  },
  {
   "cell_type": "code",
   "execution_count": null,
   "metadata": {},
   "outputs": [],
   "source": []
  },
  {
   "cell_type": "code",
   "execution_count": null,
   "metadata": {},
   "outputs": [],
   "source": []
  },
  {
   "cell_type": "code",
   "execution_count": null,
   "metadata": {},
   "outputs": [],
   "source": []
  },
  {
   "cell_type": "code",
   "execution_count": null,
   "metadata": {},
   "outputs": [],
   "source": []
  },
  {
   "cell_type": "code",
   "execution_count": null,
   "metadata": {},
   "outputs": [],
   "source": []
  },
  {
   "cell_type": "code",
   "execution_count": null,
   "metadata": {},
   "outputs": [],
   "source": []
  },
  {
   "cell_type": "code",
   "execution_count": null,
   "metadata": {},
   "outputs": [],
   "source": [
    "score_tresh = .6"
   ]
  },
  {
   "cell_type": "code",
   "execution_count": null,
   "metadata": {},
   "outputs": [],
   "source": [
    "def filter_scores(output_dict):\n",
    "    filter_scores_idx = np.where(output_dict['detection_scores'] > score_tresh)[0]\n",
    "    for k in output_dict.keys():\n",
    "        try:\n",
    "            output_dict[k] = output_dict[k][filter_scores_idx]\n",
    "        except:\n",
    "            continue"
   ]
  },
  {
   "cell_type": "code",
   "execution_count": null,
   "metadata": {},
   "outputs": [],
   "source": [
    "output_dict[\"image_np\"] = image_np\n",
    "output_dict[\"detection_scores\"] = np.random.uniform(low=0.7, high=1, size=output_dict[\"detection_scores\"].shape)\n",
    "print (output_dict[\"detection_scores\"])\n"
   ]
  },
  {
   "cell_type": "code",
   "execution_count": null,
   "metadata": {},
   "outputs": [],
   "source": []
  },
  {
   "cell_type": "code",
   "execution_count": null,
   "metadata": {
    "scrolled": true
   },
   "outputs": [],
   "source": [
    "from IPython.display import display, clear_output\n",
    "clear_output(wait=True)\n",
    "\n",
    "i=0\n",
    "for output_dict in output_splitted:\n",
    "    not_same = np.where(output_dict[\"detection_classes\"] > 0)\n",
    "    image_np = output_dict[\"image_np\"]\n",
    "    image_np_out = np.copy(image_np)\n",
    "    vis_util.visualize_boxes_and_labels_on_image_array(\n",
    "          image_np_out,\n",
    "          output_dict['detection_boxes'][not_same],\n",
    "          output_dict[\"detection_classes\"][not_same],\n",
    "          output_dict['detection_scores'][not_same],\n",
    "          category_index,\n",
    "          use_normalized_coordinates=True,\n",
    "          line_thickness=5,\n",
    "          min_score_thresh=.5)\n",
    "    plt.figure(figsize=IMAGE_SIZE)\n",
    "    plt.imshow(image_np_out)\n"
   ]
  },
  {
   "cell_type": "code",
   "execution_count": null,
   "metadata": {},
   "outputs": [],
   "source": [
    "norm_image = lambda image: cv2.normalize(image, None, alpha=0, beta=1, norm_type=cv2.NORM_MINMAX, dtype=cv2.CV_32F)\n"
   ]
  },
  {
   "cell_type": "code",
   "execution_count": null,
   "metadata": {
    "scrolled": false
   },
   "outputs": [],
   "source": [
    "prev = None\n",
    "for output_dict in output_splitted:\n",
    "    image = output_dict[\"image_np\"]\n",
    "    if prev is not None:\n",
    "        dif = norm_image(image)-norm_image(prev)\n",
    "        plt.figure(figsize=IMAGE_SIZE)\n",
    "        plt.imshow(norm_image(dif))\n",
    "    prev = image"
   ]
  },
  {
   "cell_type": "code",
   "execution_count": null,
   "metadata": {},
   "outputs": [],
   "source": [
    "# len(output_splitted)"
   ]
  },
  {
   "cell_type": "code",
   "execution_count": null,
   "metadata": {
    "scrolled": true
   },
   "outputs": [],
   "source": [
    "# ker_model = load_model(\n",
    "#     \"/home/wc-gpu/MasterThesis/models/research/object_detection/box_classification_checkpoint/keep/2019-03-26weights-epoch59-val_acc0.84-val_loss1.08_add_1prev_sessions.hdf5\")"
   ]
  },
  {
   "cell_type": "code",
   "execution_count": null,
   "metadata": {},
   "outputs": [],
   "source": [
    "# mn, std = np.load(\"./mn_std.pkl\")"
   ]
  },
  {
   "cell_type": "code",
   "execution_count": null,
   "metadata": {},
   "outputs": [],
   "source": [
    "# def cos(vA, vB):\n",
    "#     return np.dot(vA, vB) / (np.sqrt(np.dot(vA,vA)) * np.sqrt(np.dot(vB,vB)))"
   ]
  },
  {
   "cell_type": "code",
   "execution_count": null,
   "metadata": {},
   "outputs": [],
   "source": [
    "# def sift    \n",
    "#     sift = cv2.xfeatures2d.SIFT_create()\n",
    "#     kp_1, desc_1 = sift.detectAndCompute(original, None)\n",
    "#     kp_2, desc_2 = sift.detectAndCompute(image_to_compare, None)\n",
    "#     index_params = dict(algorithm=0, trees=5)\n",
    "#     search_params = dict()\n",
    "#     flann = cv2.FlannBasedMatcher(index_params, search_params)\n",
    "#     matches = flann.knnMatch(desc_1, desc_2, k=2)\n",
    "#     good_points = []\n",
    "#     for m, n in matches:\n",
    "#         if m.distance < 0.6*n.distance:\n",
    "#             good_points.append(m)\n",
    "#     # Define how similar they are\n",
    "#     number_keypoints = 0\n",
    "#     if len(kp_1) <= len(kp_2):\n",
    "#         number_keypoints = len(kp_1)\n",
    "#     else:\n",
    "#         number_keypoints = len(kp_2)\n"
   ]
  },
  {
   "cell_type": "code",
   "execution_count": null,
   "metadata": {},
   "outputs": [],
   "source": [
    "# prev_features = []\n",
    "# for output_dict in output_splitted:\n",
    "#     print \n",
    "#     if len(prev_features):\n",
    "#         box_features = []\n",
    "#         for b in output_dict['detection_boxes']:\n",
    "# #             print(prev_features.shape, output_dict['features'].shape, b)\n",
    "#             box_features.append(max_pooled(prev_features,  output_dict['features'], b))\n",
    "\n",
    "#         if len(box_features):\n",
    "#             box_features = np.array(box_features)\n",
    "\n",
    "#             box_features = (box_features - mn)/std\n",
    "# #             box_prediction = ker_model.predict(box_features)\n",
    "#             box_prediction = np.zeros(len(box_features))\n",
    "            \n",
    "#             for i in range(len(box_features)):\n",
    "#                 box_prediction[i] = np.sum(np.absolute(box_features[i][:2048] - box_features[i][2048:]))\n",
    "                \n",
    "#         #                 classes = np.argmax(box_prediction, 1)\n",
    "#         #                 scores = []\n",
    "#         #                 for i, s in enumerate(box_prediction):\n",
    "#         #                     scores.append(s[classes[i]])                \n",
    "#         #                 scores = np.array(scores)\n",
    "#             output_dict['detection_scores'] *= box_prediction.flatten()\n",
    "#         #                 output_dict['detection_classes'] = classes + 1\n",
    "\n",
    "#     prev_features = output_dict['features']"
   ]
  },
  {
   "cell_type": "code",
   "execution_count": null,
   "metadata": {},
   "outputs": [],
   "source": []
  },
  {
   "cell_type": "code",
   "execution_count": null,
   "metadata": {},
   "outputs": [],
   "source": []
  }
 ],
 "metadata": {
  "colab": {
   "default_view": {},
   "name": "object_detection_tutorial.ipynb?workspaceId=ronnyvotel:python_inference::citc",
   "provenance": [],
   "version": "0.3.2",
   "views": {}
  },
  "kernelspec": {
   "display_name": "Python 3",
   "language": "python",
   "name": "python3"
  },
  "language_info": {
   "codemirror_mode": {
    "name": "ipython",
    "version": 3
   },
   "file_extension": ".py",
   "mimetype": "text/x-python",
   "name": "python",
   "nbconvert_exporter": "python",
   "pygments_lexer": "ipython3",
   "version": "3.6.0"
  }
 },
 "nbformat": 4,
 "nbformat_minor": 1
}
