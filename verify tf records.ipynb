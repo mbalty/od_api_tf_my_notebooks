{
 "cells": [
  {
   "cell_type": "code",
   "execution_count": 12,
   "metadata": {},
   "outputs": [],
   "source": [
    "import matplotlib.pyplot as plt\n",
    "import numpy as np\n",
    "import tensorflow as tf\n",
    "\n",
    "record_path = \"/home/wc-gpu/MasterThesis/models/research/object_detection/data/generic_prod_session_val.record\""
   ]
  },
  {
   "cell_type": "code",
   "execution_count": 17,
   "metadata": {},
   "outputs": [],
   "source": [
    "from object_detection.utils import visualization_utils as vu\n",
    "from object_detection.protos import string_int_label_map_pb2 as pb\n",
    "from object_detection.data_decoders.tf_example_decoder import TfExampleDecoder as TfDecoder\n",
    "from google.protobuf import text_format\n",
    "\n",
    "def main(tfrecords_filename, label_map=None):\n",
    "    def _parse_record(tf_record):\n",
    "            features = {\n",
    "                'image': tf.FixedLenFeature([], dtype=tf.string),\n",
    "                'label': tf.FixedLenFeature([], dtype=tf.int64)\n",
    "            }\n",
    "            record = tf.parse_single_example(tf_record, features)\n",
    "\n",
    "            image_raw = tf.decode_raw(record['image'], tf.float32)\n",
    "            image_raw = tf.reshape(image_raw, shape=(224, 224, 3))\n",
    "\n",
    "            label = tf.cast(record['label'], tf.int32)\n",
    "            label = tf.one_hot(label, depth=2)\n",
    "\n",
    "            return { 'image': image_raw }, label\n",
    "    class_dict = {}\n",
    "    for entry in label_map.values():\n",
    "        class_dict[entry[\"id\"]] = {'name':entry[\"name\"]}\n",
    "    sess = tf.Session()\n",
    "    sess.run(tf.tables_initializer())\n",
    "    for record in tf.python_io.tf_record_iterator(tfrecords_filename):\n",
    "        record = _parse_record(record)\n",
    "        print (record[0].keys())\n",
    "#         scores = np.ones(record['groundtruth_boxes'].shape[0])\n",
    "#         vu.visualize_boxes_and_labels_on_image_array( \n",
    "#             record['image'],                                               \n",
    "#             record['groundtruth_boxes'],                                                     \n",
    "#             record['groundtruth_classes'],\n",
    "#             scores,\n",
    "#             class_dict,\n",
    "#             max_boxes_to_draw=None,\n",
    "#             use_normalized_coordinates=True)"
   ]
  },
  {
   "cell_type": "code",
   "execution_count": null,
   "metadata": {},
   "outputs": [],
   "source": [
    "main(record_path, label_map = {1: {'id': 1, 'name': 'obj'}})"
   ]
  },
  {
   "cell_type": "code",
   "execution_count": null,
   "metadata": {},
   "outputs": [],
   "source": []
  }
 ],
 "metadata": {
  "kernelspec": {
   "display_name": "Python 3",
   "language": "python",
   "name": "python3"
  },
  "language_info": {
   "codemirror_mode": {
    "name": "ipython",
    "version": 3
   },
   "file_extension": ".py",
   "mimetype": "text/x-python",
   "name": "python",
   "nbconvert_exporter": "python",
   "pygments_lexer": "ipython3",
   "version": "3.6.0"
  }
 },
 "nbformat": 4,
 "nbformat_minor": 2
}
